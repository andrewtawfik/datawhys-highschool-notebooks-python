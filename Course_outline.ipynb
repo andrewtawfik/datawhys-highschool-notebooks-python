{
  "nbformat": 4,
  "nbformat_minor": 0,
  "metadata": {
    "colab": {
      "provenance": []
    },
    "kernelspec": {
      "name": "python3",
      "display_name": "Python 3"
    },
    "language_info": {
      "name": "python"
    }
  },
  "cells": [
    {
      "cell_type": "markdown",
      "source": [
        "# Datawhys High School content Notebooks (Python)\n",
        "\n",
        "-\tGetting around\n",
        "-\t[Data science and the nature of data](Datascience_and_the_Nature_of_Data.ipynb)\n",
        "-\t[Plotting](Plotting.ipynb)\n",
        "-\t[Descriptive stats](Descriptive_Statistics.ipynb)\n",
        "-\t[Measures of association](Measures_of_Association.ipynb)\n",
        "-\tClustering\n",
        "-\tKNN classification\n",
        "-\tKNN regression\n",
        "-\tSimple linear regression\n",
        "-\tMultiple linear regression\n",
        "-\tLogistic regression\n",
        "-\tN/A: Lasso\n",
        "-\tDecision trees\n",
        "-\tRegression trees\n",
        "-\tRandom forests\n",
        "-\tN/A: Gradient boosting\n",
        "-\tN/A: Support vector machines\n",
        "-\tN/A: Naive Bayes\n",
        "-\tCrossvalidation   \n",
        "-\tData cleaning"
      ],
      "metadata": {
        "id": "jfpeioY9HuwC"
      }
    }
  ]
}
