{
 "cells": [
  {
   "cell_type": "markdown",
   "metadata": {
    "id": "FK0xhYE4B1cO"
   },
   "source": [
    "# Multiple Linear Regression"
   ]
  },
  {
   "cell_type": "markdown",
   "metadata": {
    "id": "CUmq4Li-B2sR"
   },
   "source": [
    "## ANTICIPATED TIME\n"
   ]
  },
  {
   "cell_type": "markdown",
   "metadata": {
    "id": "CQGJLJMHB5r9"
   },
   "source": [
    "2 hours"
   ]
  },
  {
   "cell_type": "markdown",
   "metadata": {
    "id": "KkQ_GFaYB5uV"
   },
   "source": [
    "## BEFORE YOU BEGIN"
   ]
  },
  {
   "cell_type": "markdown",
   "metadata": {
    "id": "TE1Jn9SNB5wm"
   },
   "source": [
    "[Simple Linear Regression](Simple_Linear_Regression.ipynb)"
   ]
  },
  {
   "cell_type": "markdown",
   "metadata": {
    "id": "McA00I9SB5zL"
   },
   "source": [
    "## WHAT YOU WILL LEARN"
   ]
  },
  {
   "cell_type": "markdown",
   "metadata": {
    "id": "GkIsX37fCHcZ"
   },
   "source": [
    "\n",
    "- What is the multiple regression model?\n",
    "- What are interaction effects?\n",
    "- What is a feature selection?\n",
    "- What are diagnostics?\n",
    "- How to use a pair plot?\n",
    "- How to evaluate a model’s performance?\n",
    "- How to work with categorical variables in regression?\n"
   ]
  },
  {
   "cell_type": "markdown",
   "metadata": {
    "id": "r-igN6fnCKgD"
   },
   "source": [
    "## DEFINITIONS YOU’LL NEED TO KNOW\n",
    "\n",
    "- Regression - model used to predict a number\n",
    "- Multiple regression - a model that builds on the simple linear regression model by adding more predictors.\n",
    "- Predictors - a variable that is used to predict the values of a dependent/response variable\n",
    "- Response - the number you are trying to predict\n",
    "- Multicollinearity - when two variables are linearly/closely related and have a strong connection.\n",
    "- Interaction effects -  when the effect of one predictor variable depends on another predictor variable.\n",
    "- Two-way interaction - how two variables work with each other.\n",
    "- Dummy variables - when we assign numbers to categorical variables for analysis.\n",
    "- Trendline - a line on a scatter plot that shows the general direction of the relationship between the two variables.\n"
   ]
  },
  {
   "cell_type": "markdown",
   "metadata": {
    "id": "im8HTEkZCWQw"
   },
   "source": [
    "## SCENARIO:"
   ]
  },
  {
   "cell_type": "markdown",
   "metadata": {
    "deletable": false,
    "editable": false,
    "html": "<iframe class='metadata-html' width='560' height='315' src='https://video.olney.ai/9-mlr.mp4' title='YouTube video player' frameborder='0' allow='accelerometer; autoplay; clipboard-write; encrypted-media; gyroscope; picture-in-picture; web-share' referrerpolicy='strict-origin-when-cross-origin' allowfullscreen></iframe>",
    "id": "npqY6ZiSbavX",
    "slideshow": {
     "slide_type": ""
    },
    "tags": []
   },
   "source": [
    "\n",
    "Rin is a new member of the afterschool data club. She was observing the work Ethan, Diego, Angelina, and Kiana as they tried to make different predictions. Before they were using one variable to predict another one. Rin knows they have a lot of data, so she is wondering if multiple variables could be used to make a prediction for the variable she’s interested in.\n",
    "\n",
    "Applying Multiple Linear Regression will help the club make better predictions considering multiple data points. In this lesson, we’re going to understand how this all works!  \n"
   ]
  },
  {
   "cell_type": "markdown",
   "metadata": {
    "id": "UFuHrYhYCqhD"
   },
   "source": [
    "## WHAT DO I NEED TO KNOW?\n"
   ]
  },
  {
   "cell_type": "markdown",
   "metadata": {
    "id": "7bFrS3kPC1YO"
   },
   "source": [
    "\n",
    "In the [Simple Linear Regression notebook](Simple_Linear_Regression.ipynb), we learned about linear regression where we used one variable to predict another one. We learned how ordinary least squares and the best-fit line can help us with this. But we know life is kinda messy and we often see a lot of variables that are important.\n",
    "\n",
    "Let’s think about trying to predict someone’s number grade on a test, you can think about things like….\n",
    "\n",
    "…attendance?\n",
    "…time spent studying?\n",
    "…class participation?\n",
    "…and grades from previous assignments?\n",
    "\n",
    "Simple linear regression uses one variable, but multiple regression can help us figure out which of many variables is most important for receiving a good score on the test. Instead of looking at one variable, we look at (you guessed it) multiple variables to understand what areas need improvement to achieve a higher grade!"
   ]
  },
  {
   "cell_type": "markdown",
   "metadata": {
    "id": "qSC3a9y4C1uF"
   },
   "source": [
    "**What variables should I put in my model?**\n",
    "\n",
    "But wait!  **Multicollinearity** is when two variables are linearly/closely related and have a strong connection. This means that some variables are measuring the same thing, and we may not need certain variables. So it makes it really hard for the model to pinpoint the impact of the variable. It’s important to decide which variables should be used because if variables have a strong connection, we won’t be able to get an estimate for the model’s parameters.\n"
   ]
  },
  {
   "cell_type": "markdown",
   "metadata": {
    "id": "ZaFv9_LFC_KH"
   },
   "source": [
    "**Interaction Effects - How All the Predictor Variables Impact Each Other**\n",
    "\n",
    "Remember, multiple linear regression adds the effects of predictors together. Predictors don't influence each other, they only affect the outcome variable.\n",
    "\n",
    "But what if one predictor variable influences another predictor variable? We can model this with a new idea called an interaction. Interactions don't add the different variables, instead, they are multiplied by each other. An interaction multiplies two (or more) variables together to make a new predictor. When we multiply them, the result then becomes a predictor that is added to other predictors in the normal way.\n",
    "\n",
    "So how does this work?\n",
    "\n",
    "Let’s say we discover older (Age) students with high attendance can predict higher grades.  This might mean that the age of the student and their attendance can especially affect grades, making it an interaction effect. You might think of it as\n",
    "\n",
    "Age * Attendance = Grades\n",
    "\n",
    "Occasionally, when two variables are looked at we can see that they work well together, which makes this a **two-way interaction**. There can also be three-way interactions (grades, attendance, class participation), although they are not as common."
   ]
  },
  {
   "cell_type": "markdown",
   "metadata": {
    "id": "--GCge1dDQgm"
   },
   "source": [
    "**What if I have Categories instead of Numbers?**\n",
    "\n",
    "When we think about our example of predicting a student’s final grade, there are variables that we need to measure that aren’t numerical such as the student’s overall attitude towards attending school. When we measure things that aren’t numbers, we call them **categorical variables**, as we discussed in the [Data Science and Nature of Variables notebook](Datascience_and_the_Nature_of_Data.ipynb). Categorical variables represent categories or groups. For example, we can ask students how they feel about school based on the categories “positive” or “negative.”\n",
    "Even though these aren’t number responses, to use these variables in regression analysis, we must change them into numbers. To do this, we need to use **dummy variables**. To use dummy variables, we will assign each category a 0 or 1. For example, “negative” can be 0, and “positive” can be 1. Now that we’ve transformed numbers to categories, we can use numbers to analyze categorical variables and understand how these categories have an impact on the outcome.\n",
    "How does this work in the model? When the category is \"negative\" and the value is zero, then the predictor goes to zero (anything multiplied by zero is zero).\n"
   ]
  },
  {
   "cell_type": "markdown",
   "metadata": {
    "id": "tZcwgI6iEUBW"
   },
   "source": [
    "## YOUR TURN\n"
   ]
  },
  {
   "cell_type": "markdown",
   "metadata": {
    "id": "tc4G07syEa3r"
   },
   "source": [
    "\n",
    "### Goal 1: Importing the Pandas Library\n",
    "\n",
    "Need extra tools to help solve this problem? Well, we can bring in extra ‘libraries’ to help us do extra data science stuff. You can think of it as an ‘add-on’. In this case, we bring in pandas, which is a popular library for doing data science stuff.  "
   ]
  },
  {
   "cell_type": "markdown",
   "metadata": {
    "id": "T8zo2jsrEd6y"
   },
   "source": [
    "#### Blockly"
   ]
  },
  {
   "cell_type": "markdown",
   "metadata": {
    "id": "XFuJP8XmEfu1"
   },
   "source": [
    "**Step 1 - Starting the import**\n",
    "\n",
    "First, we need to set up a “command” to tell the computer what to do. In this case, “command” is to “import” to bring the add-on package in.\n",
    "\n",
    "Bring in the IMPORT menu, which can be helpful to bring in other data tools. In this case, we're bringing in the **import** block.\n"
   ]
  },
  {
   "cell_type": "markdown",
   "metadata": {
    "id": "ePRVdH3UEiyg"
   },
   "source": [
    "\n",
    "**Step 2 - Telling what library to import**\n",
    "\n",
    "In the text area, we type the name of the library we want to import. A library is like an extra thing we bring in to give us more coding abilities. In our case, we will type out **pandas**, which will bring in some cool data manipulation features.\n"
   ]
  },
  {
   "cell_type": "markdown",
   "metadata": {
    "id": "GVQMubRYElh7"
   },
   "source": [
    "\n",
    "**Step 3 - Renaming the library so it’s easy to remember**\n",
    "\n",
    "Once you are done, put the **import** and **package** together in a single variable. This handy feature helps cut down on all the typing later on. You can call it whatever is easiest for you to remember. In the example below, we’ve put everything into **pd**, and we type it in the open area.\n"
   ]
  },
  {
   "cell_type": "markdown",
   "metadata": {
    "id": "7ZGJi3S1Emue"
   },
   "source": [
    "\n",
    "**Step 4 - Connect the blocks to run the code**\n",
    "\n",
    "Connect the blocks and run the code!\n",
    "\n",
    "![](https://pbs.twimg.com/media/GZYmOOpW8AAf7uc?format=png&name=small)"
   ]
  },
  {
   "cell_type": "markdown",
   "metadata": {
    "id": "I69gNja3E3ji"
   },
   "source": [
    "#### Freehand"
   ]
  },
  {
   "cell_type": "markdown",
   "metadata": {
    "id": "gru5dg5mE5eE"
   },
   "source": [
    "\n",
    "**Step 1 - Starting the import**\n",
    "\n",
    "First, we need to set up a “command” to tell the computer what to do. In this case, “command” is to “import” to bring the add-on package in."
   ]
  },
  {
   "cell_type": "markdown",
   "metadata": {
    "id": "SsOczHmrE9LY"
   },
   "source": [
    "\n",
    "**Step 2 - Telling what library to import**\n",
    "\n",
    "In the text area, we type the name of the library we want to import. A library is like an extra thing we bring in to give us more coding abilities. In our case, we will type out **pandas**, which will bring in some cool data manipulation features."
   ]
  },
  {
   "cell_type": "markdown",
   "metadata": {
    "id": "dMwhRozUE-OP"
   },
   "source": [
    "\n",
    "**Step 3 - Renaming the library so it’s easy to remember**\n",
    "\n",
    "Once you are done, put the ‘import’ and ‘package’ together in a single variable. This handy feature helps cut down on all the typing later on. Feel free to use whatever name you want that will help you remember it later on. In the example below, we’ve put everything into **pd**."
   ]
  },
  {
   "cell_type": "markdown",
   "metadata": {
    "id": "LI-kb1ZUE_pQ"
   },
   "source": [
    "\n",
    "**Step 4 - Run the code**\n",
    "\n",
    "Hit ‘control’ and ‘enter’ at the same time to run the code!\n",
    "\n",
    "![](https://pbs.twimg.com/media/GZmkVCYWEA4oGso?format=jpg&name=small)"
   ]
  },
  {
   "cell_type": "markdown",
   "metadata": {
    "id": "oVJ5l7VWFLo4"
   },
   "source": [
    "**Your Turn**: Now it’s your turn! We’re going to dive into the pandas package, which helps us with some really cool data science things. First, let’s import the package and assign it to the variable “pd” to make it easier to use throughout our notebook.\n"
   ]
  },
  {
   "cell_type": "code",
   "execution_count": 3,
   "metadata": {
    "id": "d1pcxGLgFP6R"
   },
   "outputs": [],
   "source": [
    "import pandas as pd"
   ]
  },
  {
   "cell_type": "markdown",
   "metadata": {
    "id": "za1IUQ4IFRol"
   },
   "source": [
    "**Explanation**: *Congrats!  Your attempts finally made it!  Now you have successfully imported the \"pandas\" package as the variable \"pd\"*."
   ]
  },
  {
   "cell_type": "markdown",
   "metadata": {
    "id": "22lLmA79FUNd"
   },
   "source": [
    "### Goal 2: Load the training dataset\n",
    "\n",
    "Let’s bring in the data from a CSV file to visualize the data for further analysis and manipulation."
   ]
  },
  {
   "cell_type": "markdown",
   "metadata": {
    "id": "yOaBXz-BFX6R"
   },
   "source": [
    "#### Blockly"
   ]
  },
  {
   "cell_type": "markdown",
   "metadata": {
    "id": "fJLWJHGDFY_6"
   },
   "source": [
    "\n",
    "**Step 1 - Write out the variable name you want to use**\n",
    "\n",
    "Now that we’re all set with our new package to help us do cool things, let’s bring the data into a variable and call it **train**.\n",
    "\n",
    "In Blockly, bring in the VARIABLES menu.\n"
   ]
  },
  {
   "cell_type": "markdown",
   "metadata": {
    "id": "-J6pQH4lF2WZ"
   },
   "source": [
    "\n",
    "**Step 2 - Assign the dataframe to the variable you created**\n",
    "\n",
    "Just like we did before, let’s type out a variable name. Rather than type out the full file name for our data, this easy to remember name will hold the data we bring in.\n",
    "\n",
    "In Blockly, go to the Variables and drag the Set block for the **train** variable. This will allow us to assign the result of a function call to the variable. A function is basically code that does a specific task for us.\n"
   ]
  },
  {
   "cell_type": "markdown",
   "metadata": {
    "id": "uAC-ji_4F4Cw"
   },
   "source": [
    "\n",
    "**Step 3 - Bring in the data**\n",
    "\n",
    "Now we need to look at the file that has all our data. To load our dataframe, we’ll use a simple command to bring in the file we need (CSV….Comma Separated Values). Let’s say we have a file called ‘AirQualityCars.csv' in the folder **‘datasets’**. We’re telling Python to read the CSV file and store it in a variable called **train**.\n",
    "\n",
    "From the Variable menu, drag a DO block using the **pd** variable, and go ahead with the do operation **read_csv**. The read_csv function reads a CSV file and returns a DataFrame object.\n",
    "\n",
    "In our case, let’s bring in the \"datasets/AirQualityCars.csv\" (use the Quotes from the TEXT menu) because that is what Angelina is working with.\n"
   ]
  },
  {
   "cell_type": "markdown",
   "metadata": {
    "id": "cN886wCFF53R"
   },
   "source": [
    "\n",
    "**Step 4 - Display the variable**\n",
    "\n",
    "Let’s see it now by ‘displaying’ and showing our work.\n",
    "\n",
    "Drag the **train** variable to the workspace, making it available for further use in our program. This step is more of a visualization step, as it allows us to see the variable in the Blockly workspace."
   ]
  },
  {
   "cell_type": "markdown",
   "metadata": {
    "id": "-R0uNgngF61p"
   },
   "source": [
    "\n",
    "\n",
    "**Step 5 - Connect the blocks to run the code**\n",
    "\n",
    "Connect the blocks and run the code!\n",
    "\n",
    "![](https://pbs.twimg.com/media/Gab5Z-TXsAAQAWr?format=jpg&name=small)\n",
    "\n"
   ]
  },
  {
   "cell_type": "markdown",
   "metadata": {
    "id": "Q77zshZQGTPB"
   },
   "source": [
    "#### Freehand"
   ]
  },
  {
   "cell_type": "markdown",
   "metadata": {
    "id": "jMdbpJGYGU1m"
   },
   "source": [
    "\n",
    "**Step 1 - Write out the variable name you want to use**\n",
    "\n",
    "Now that we’re all set with our new package to help us do cool things, let’s bring the data into a variable called train. Think of it as a digital spreadsheet with much more power to analyze and manipulate the data!\n",
    "\n",
    "Just like we did before, let’s type out a variable name. Rather than type out the full file name for our data, this easy to remember name will hold the data we bring in.\n"
   ]
  },
  {
   "cell_type": "markdown",
   "metadata": {
    "id": "ExH3uH4JGWYp"
   },
   "source": [
    "\n",
    "**Step 2 - Bring in the data**\n",
    "\n",
    "Now we need to look at the file that has all our data.\n",
    "\n",
    "To load our dataframe, we’ll use a simple command to bring in the file we need (CSV….Comma Separated Values). Let’s say we have a file called ‘AirQualityCars.csv' in the folder **‘datasets’**. We’re telling Python to read the CSV file and store it in a variable called **train**. For this function, we need to specify the code as “pd.read_csv”, which makes the code read the csv file. This variable is now our dataframe!\n",
    "\n",
    "In our case, let’s bring in the “datasets/AirQualityCars.csv\" (user the Quotes from the TEXT menu) because that is what our group is working with\n"
   ]
  },
  {
   "cell_type": "markdown",
   "metadata": {
    "id": "JCP7OcSjGXk-"
   },
   "source": [
    "\n",
    "**Step 3 - Assign the train to the variable you created**\n",
    "\n",
    "Just like we did before, let’s type out a variable name. Rather than type out the full file name for our data, this easy to remember name will hold the data we bring in.\n"
   ]
  },
  {
   "cell_type": "markdown",
   "metadata": {
    "id": "aW9aYNnvGYOk"
   },
   "source": [
    "\n",
    "**Step 4 - Print the variable**\n",
    "\n",
    "Let’s see it now by ‘printing’ and showing our work.\n"
   ]
  },
  {
   "cell_type": "markdown",
   "metadata": {
    "id": "XVTw2k4yGZg0"
   },
   "source": [
    "\n",
    "**Step 5 - Run the code**\n",
    "\n",
    "Hit ‘control’ and ‘enter’ at the same time to run the code!\n",
    "\n",
    "![](https://pbs.twimg.com/media/Gab5c61WwAApSiM?format=png&name=small)"
   ]
  },
  {
   "cell_type": "markdown",
   "metadata": {
    "id": "AaQCT2OjG1Zw"
   },
   "source": [
    "\n",
    "**Your Turn**: Now it’s your turn!  Let’s dive in and start working with the data!  We’ll begin by loading it into a dataframe, which will allow us to easily interact with and analyze the dataset.\n"
   ]
  },
  {
   "cell_type": "code",
   "execution_count": 4,
   "metadata": {
    "colab": {
     "base_uri": "https://localhost:8080/",
     "height": 1000
    },
    "id": "CB-g4qUzG26E",
    "outputId": "1b73ee67-0b7f-460f-a3ab-6011b028bc44"
   },
   "outputs": [
    {
     "data": {
      "application/vnd.google.colaboratory.intrinsic+json": {
       "summary": "{\n  \"name\": \"train\",\n  \"rows\": 50,\n  \"fields\": [\n    {\n      \"column\": \"Brand\",\n      \"properties\": {\n        \"dtype\": \"category\",\n        \"num_unique_values\": 10,\n        \"samples\": [\n          \"Volkswagen\",\n          \"Ford\",\n          \"BMW\"\n        ],\n        \"semantic_type\": \"\",\n        \"description\": \"\"\n      }\n    },\n    {\n      \"column\": \"Model\",\n      \"properties\": {\n        \"dtype\": \"string\",\n        \"num_unique_values\": 50,\n        \"samples\": [\n          \"Camaro\",\n          \"A3\",\n          \"C-Class\"\n        ],\n        \"semantic_type\": \"\",\n        \"description\": \"\"\n      }\n    },\n    {\n      \"column\": \"Volume\",\n      \"properties\": {\n        \"dtype\": \"number\",\n        \"std\": 1.9193961635506787,\n        \"min\": 12.0,\n        \"max\": 19.8,\n        \"num_unique_values\": 28,\n        \"samples\": [\n          15.4,\n          17.0,\n          12.0\n        ],\n        \"semantic_type\": \"\",\n        \"description\": \"\"\n      }\n    },\n    {\n      \"column\": \"Weight\",\n      \"properties\": {\n        \"dtype\": \"number\",\n        \"std\": 288,\n        \"min\": 1250,\n        \"max\": 2260,\n        \"num_unique_values\": 48,\n        \"samples\": [\n          1825,\n          1320,\n          2190\n        ],\n        \"semantic_type\": \"\",\n        \"description\": \"\"\n      }\n    },\n    {\n      \"column\": \"CO2Emission\",\n      \"properties\": {\n        \"dtype\": \"number\",\n        \"std\": 36,\n        \"min\": 90,\n        \"max\": 260,\n        \"num_unique_values\": 23,\n        \"samples\": [\n          130,\n          150,\n          120\n        ],\n        \"semantic_type\": \"\",\n        \"description\": \"\"\n      }\n    }\n  ]\n}",
       "type": "dataframe",
       "variable_name": "train"
      },
      "text/html": [
       "\n",
       "  <div id=\"df-d029702a-cfd5-4baf-940b-eb2467d5c07b\" class=\"colab-df-container\">\n",
       "    <div>\n",
       "<style scoped>\n",
       "    .dataframe tbody tr th:only-of-type {\n",
       "        vertical-align: middle;\n",
       "    }\n",
       "\n",
       "    .dataframe tbody tr th {\n",
       "        vertical-align: top;\n",
       "    }\n",
       "\n",
       "    .dataframe thead th {\n",
       "        text-align: right;\n",
       "    }\n",
       "</style>\n",
       "<table border=\"1\" class=\"dataframe\">\n",
       "  <thead>\n",
       "    <tr style=\"text-align: right;\">\n",
       "      <th></th>\n",
       "      <th>Brand</th>\n",
       "      <th>Model</th>\n",
       "      <th>Volume</th>\n",
       "      <th>Weight</th>\n",
       "      <th>CO2Emission</th>\n",
       "    </tr>\n",
       "  </thead>\n",
       "  <tbody>\n",
       "    <tr>\n",
       "      <th>0</th>\n",
       "      <td>Toyota</td>\n",
       "      <td>Corolla</td>\n",
       "      <td>12.3</td>\n",
       "      <td>1300</td>\n",
       "      <td>120</td>\n",
       "    </tr>\n",
       "    <tr>\n",
       "      <th>1</th>\n",
       "      <td>Toyota</td>\n",
       "      <td>Camry</td>\n",
       "      <td>14.0</td>\n",
       "      <td>1495</td>\n",
       "      <td>135</td>\n",
       "    </tr>\n",
       "    <tr>\n",
       "      <th>2</th>\n",
       "      <td>Toyota</td>\n",
       "      <td>RAV4</td>\n",
       "      <td>15.0</td>\n",
       "      <td>1680</td>\n",
       "      <td>140</td>\n",
       "    </tr>\n",
       "    <tr>\n",
       "      <th>3</th>\n",
       "      <td>Toyota</td>\n",
       "      <td>Prius</td>\n",
       "      <td>12.5</td>\n",
       "      <td>1375</td>\n",
       "      <td>90</td>\n",
       "    </tr>\n",
       "    <tr>\n",
       "      <th>4</th>\n",
       "      <td>Toyota</td>\n",
       "      <td>Highlander</td>\n",
       "      <td>16.5</td>\n",
       "      <td>1965</td>\n",
       "      <td>165</td>\n",
       "    </tr>\n",
       "    <tr>\n",
       "      <th>5</th>\n",
       "      <td>Ford</td>\n",
       "      <td>F-150</td>\n",
       "      <td>19.5</td>\n",
       "      <td>2200</td>\n",
       "      <td>255</td>\n",
       "    </tr>\n",
       "    <tr>\n",
       "      <th>6</th>\n",
       "      <td>Ford</td>\n",
       "      <td>Mustang</td>\n",
       "      <td>13.0</td>\n",
       "      <td>1655</td>\n",
       "      <td>180</td>\n",
       "    </tr>\n",
       "    <tr>\n",
       "      <th>7</th>\n",
       "      <td>Ford</td>\n",
       "      <td>Explorer</td>\n",
       "      <td>16.8</td>\n",
       "      <td>2020</td>\n",
       "      <td>200</td>\n",
       "    </tr>\n",
       "    <tr>\n",
       "      <th>8</th>\n",
       "      <td>Ford</td>\n",
       "      <td>Focus</td>\n",
       "      <td>12.0</td>\n",
       "      <td>1350</td>\n",
       "      <td>115</td>\n",
       "    </tr>\n",
       "    <tr>\n",
       "      <th>9</th>\n",
       "      <td>Ford</td>\n",
       "      <td>Escape</td>\n",
       "      <td>15.4</td>\n",
       "      <td>1580</td>\n",
       "      <td>150</td>\n",
       "    </tr>\n",
       "    <tr>\n",
       "      <th>10</th>\n",
       "      <td>Chevrolet</td>\n",
       "      <td>Silverado</td>\n",
       "      <td>19.8</td>\n",
       "      <td>2260</td>\n",
       "      <td>260</td>\n",
       "    </tr>\n",
       "    <tr>\n",
       "      <th>11</th>\n",
       "      <td>Chevrolet</td>\n",
       "      <td>Malibu</td>\n",
       "      <td>13.5</td>\n",
       "      <td>1460</td>\n",
       "      <td>135</td>\n",
       "    </tr>\n",
       "    <tr>\n",
       "      <th>12</th>\n",
       "      <td>Chevrolet</td>\n",
       "      <td>Equinox</td>\n",
       "      <td>15.3</td>\n",
       "      <td>1705</td>\n",
       "      <td>155</td>\n",
       "    </tr>\n",
       "    <tr>\n",
       "      <th>13</th>\n",
       "      <td>Chevrolet</td>\n",
       "      <td>Camaro</td>\n",
       "      <td>13.2</td>\n",
       "      <td>1685</td>\n",
       "      <td>190</td>\n",
       "    </tr>\n",
       "    <tr>\n",
       "      <th>14</th>\n",
       "      <td>Chevrolet</td>\n",
       "      <td>Traverse</td>\n",
       "      <td>17.5</td>\n",
       "      <td>2030</td>\n",
       "      <td>210</td>\n",
       "    </tr>\n",
       "    <tr>\n",
       "      <th>15</th>\n",
       "      <td>Honda</td>\n",
       "      <td>Civic</td>\n",
       "      <td>12.2</td>\n",
       "      <td>1290</td>\n",
       "      <td>110</td>\n",
       "    </tr>\n",
       "    <tr>\n",
       "      <th>16</th>\n",
       "      <td>Honda</td>\n",
       "      <td>Accord</td>\n",
       "      <td>13.6</td>\n",
       "      <td>1490</td>\n",
       "      <td>130</td>\n",
       "    </tr>\n",
       "    <tr>\n",
       "      <th>17</th>\n",
       "      <td>Honda</td>\n",
       "      <td>CR-V</td>\n",
       "      <td>14.8</td>\n",
       "      <td>1610</td>\n",
       "      <td>140</td>\n",
       "    </tr>\n",
       "    <tr>\n",
       "      <th>18</th>\n",
       "      <td>Honda</td>\n",
       "      <td>HR-V</td>\n",
       "      <td>14.0</td>\n",
       "      <td>1425</td>\n",
       "      <td>115</td>\n",
       "    </tr>\n",
       "    <tr>\n",
       "      <th>19</th>\n",
       "      <td>Honda</td>\n",
       "      <td>Pilot</td>\n",
       "      <td>16.7</td>\n",
       "      <td>1975</td>\n",
       "      <td>180</td>\n",
       "    </tr>\n",
       "    <tr>\n",
       "      <th>20</th>\n",
       "      <td>Nissan</td>\n",
       "      <td>Altima</td>\n",
       "      <td>13.1</td>\n",
       "      <td>1470</td>\n",
       "      <td>130</td>\n",
       "    </tr>\n",
       "    <tr>\n",
       "      <th>21</th>\n",
       "      <td>Nissan</td>\n",
       "      <td>Rogue</td>\n",
       "      <td>15.0</td>\n",
       "      <td>1640</td>\n",
       "      <td>145</td>\n",
       "    </tr>\n",
       "    <tr>\n",
       "      <th>22</th>\n",
       "      <td>Nissan</td>\n",
       "      <td>Sentra</td>\n",
       "      <td>12.0</td>\n",
       "      <td>1250</td>\n",
       "      <td>110</td>\n",
       "    </tr>\n",
       "    <tr>\n",
       "      <th>23</th>\n",
       "      <td>Nissan</td>\n",
       "      <td>Frontier</td>\n",
       "      <td>18.0</td>\n",
       "      <td>2000</td>\n",
       "      <td>195</td>\n",
       "    </tr>\n",
       "    <tr>\n",
       "      <th>24</th>\n",
       "      <td>Nissan</td>\n",
       "      <td>Maxima</td>\n",
       "      <td>13.9</td>\n",
       "      <td>1600</td>\n",
       "      <td>145</td>\n",
       "    </tr>\n",
       "    <tr>\n",
       "      <th>25</th>\n",
       "      <td>BMW</td>\n",
       "      <td>3 Series</td>\n",
       "      <td>13.0</td>\n",
       "      <td>1570</td>\n",
       "      <td>140</td>\n",
       "    </tr>\n",
       "    <tr>\n",
       "      <th>26</th>\n",
       "      <td>BMW</td>\n",
       "      <td>X5</td>\n",
       "      <td>16.5</td>\n",
       "      <td>2190</td>\n",
       "      <td>195</td>\n",
       "    </tr>\n",
       "    <tr>\n",
       "      <th>27</th>\n",
       "      <td>BMW</td>\n",
       "      <td>5 Series</td>\n",
       "      <td>14.0</td>\n",
       "      <td>1825</td>\n",
       "      <td>160</td>\n",
       "    </tr>\n",
       "    <tr>\n",
       "      <th>28</th>\n",
       "      <td>BMW</td>\n",
       "      <td>X3</td>\n",
       "      <td>15.0</td>\n",
       "      <td>1820</td>\n",
       "      <td>170</td>\n",
       "    </tr>\n",
       "    <tr>\n",
       "      <th>29</th>\n",
       "      <td>BMW</td>\n",
       "      <td>7 Series</td>\n",
       "      <td>15.5</td>\n",
       "      <td>2195</td>\n",
       "      <td>205</td>\n",
       "    </tr>\n",
       "    <tr>\n",
       "      <th>30</th>\n",
       "      <td>Mercedes-Benz</td>\n",
       "      <td>C-Class</td>\n",
       "      <td>13.1</td>\n",
       "      <td>1530</td>\n",
       "      <td>130</td>\n",
       "    </tr>\n",
       "    <tr>\n",
       "      <th>31</th>\n",
       "      <td>Mercedes-Benz</td>\n",
       "      <td>E-Class</td>\n",
       "      <td>14.8</td>\n",
       "      <td>1760</td>\n",
       "      <td>150</td>\n",
       "    </tr>\n",
       "    <tr>\n",
       "      <th>32</th>\n",
       "      <td>Mercedes-Benz</td>\n",
       "      <td>GLC</td>\n",
       "      <td>15.9</td>\n",
       "      <td>1835</td>\n",
       "      <td>170</td>\n",
       "    </tr>\n",
       "    <tr>\n",
       "      <th>33</th>\n",
       "      <td>Mercedes-Benz</td>\n",
       "      <td>GLE</td>\n",
       "      <td>16.5</td>\n",
       "      <td>2130</td>\n",
       "      <td>190</td>\n",
       "    </tr>\n",
       "    <tr>\n",
       "      <th>34</th>\n",
       "      <td>Mercedes-Benz</td>\n",
       "      <td>S-Class</td>\n",
       "      <td>15.8</td>\n",
       "      <td>2080</td>\n",
       "      <td>175</td>\n",
       "    </tr>\n",
       "    <tr>\n",
       "      <th>35</th>\n",
       "      <td>Audi</td>\n",
       "      <td>A4</td>\n",
       "      <td>13.2</td>\n",
       "      <td>1520</td>\n",
       "      <td>135</td>\n",
       "    </tr>\n",
       "    <tr>\n",
       "      <th>36</th>\n",
       "      <td>Audi</td>\n",
       "      <td>Q5</td>\n",
       "      <td>15.3</td>\n",
       "      <td>1765</td>\n",
       "      <td>160</td>\n",
       "    </tr>\n",
       "    <tr>\n",
       "      <th>37</th>\n",
       "      <td>Audi</td>\n",
       "      <td>A6</td>\n",
       "      <td>14.0</td>\n",
       "      <td>1695</td>\n",
       "      <td>145</td>\n",
       "    </tr>\n",
       "    <tr>\n",
       "      <th>38</th>\n",
       "      <td>Audi</td>\n",
       "      <td>Q7</td>\n",
       "      <td>16.5</td>\n",
       "      <td>2170</td>\n",
       "      <td>200</td>\n",
       "    </tr>\n",
       "    <tr>\n",
       "      <th>39</th>\n",
       "      <td>Audi</td>\n",
       "      <td>A3</td>\n",
       "      <td>12.5</td>\n",
       "      <td>1370</td>\n",
       "      <td>120</td>\n",
       "    </tr>\n",
       "    <tr>\n",
       "      <th>40</th>\n",
       "      <td>Volkswagen</td>\n",
       "      <td>Golf</td>\n",
       "      <td>12.0</td>\n",
       "      <td>1320</td>\n",
       "      <td>115</td>\n",
       "    </tr>\n",
       "    <tr>\n",
       "      <th>41</th>\n",
       "      <td>Volkswagen</td>\n",
       "      <td>Tiguan</td>\n",
       "      <td>15.4</td>\n",
       "      <td>1650</td>\n",
       "      <td>140</td>\n",
       "    </tr>\n",
       "    <tr>\n",
       "      <th>42</th>\n",
       "      <td>Volkswagen</td>\n",
       "      <td>Passat</td>\n",
       "      <td>13.5</td>\n",
       "      <td>1470</td>\n",
       "      <td>125</td>\n",
       "    </tr>\n",
       "    <tr>\n",
       "      <th>43</th>\n",
       "      <td>Volkswagen</td>\n",
       "      <td>Jetta</td>\n",
       "      <td>13.0</td>\n",
       "      <td>1420</td>\n",
       "      <td>120</td>\n",
       "    </tr>\n",
       "    <tr>\n",
       "      <th>44</th>\n",
       "      <td>Volkswagen</td>\n",
       "      <td>Atlas</td>\n",
       "      <td>17.0</td>\n",
       "      <td>2000</td>\n",
       "      <td>190</td>\n",
       "    </tr>\n",
       "    <tr>\n",
       "      <th>45</th>\n",
       "      <td>Hyundai</td>\n",
       "      <td>Elantra</td>\n",
       "      <td>12.0</td>\n",
       "      <td>1275</td>\n",
       "      <td>115</td>\n",
       "    </tr>\n",
       "    <tr>\n",
       "      <th>46</th>\n",
       "      <td>Hyundai</td>\n",
       "      <td>Tucson</td>\n",
       "      <td>15.0</td>\n",
       "      <td>1590</td>\n",
       "      <td>140</td>\n",
       "    </tr>\n",
       "    <tr>\n",
       "      <th>47</th>\n",
       "      <td>Hyundai</td>\n",
       "      <td>Santa Fe</td>\n",
       "      <td>16.0</td>\n",
       "      <td>1810</td>\n",
       "      <td>165</td>\n",
       "    </tr>\n",
       "    <tr>\n",
       "      <th>48</th>\n",
       "      <td>Hyundai</td>\n",
       "      <td>Kona</td>\n",
       "      <td>13.1</td>\n",
       "      <td>1410</td>\n",
       "      <td>125</td>\n",
       "    </tr>\n",
       "    <tr>\n",
       "      <th>49</th>\n",
       "      <td>Hyundai</td>\n",
       "      <td>Sonata</td>\n",
       "      <td>13.8</td>\n",
       "      <td>1440</td>\n",
       "      <td>130</td>\n",
       "    </tr>\n",
       "  </tbody>\n",
       "</table>\n",
       "</div>\n",
       "    <div class=\"colab-df-buttons\">\n",
       "\n",
       "  <div class=\"colab-df-container\">\n",
       "    <button class=\"colab-df-convert\" onclick=\"convertToInteractive('df-d029702a-cfd5-4baf-940b-eb2467d5c07b')\"\n",
       "            title=\"Convert this dataframe to an interactive table.\"\n",
       "            style=\"display:none;\">\n",
       "\n",
       "  <svg xmlns=\"http://www.w3.org/2000/svg\" height=\"24px\" viewBox=\"0 -960 960 960\">\n",
       "    <path d=\"M120-120v-720h720v720H120Zm60-500h600v-160H180v160Zm220 220h160v-160H400v160Zm0 220h160v-160H400v160ZM180-400h160v-160H180v160Zm440 0h160v-160H620v160ZM180-180h160v-160H180v160Zm440 0h160v-160H620v160Z\"/>\n",
       "  </svg>\n",
       "    </button>\n",
       "\n",
       "  <style>\n",
       "    .colab-df-container {\n",
       "      display:flex;\n",
       "      gap: 12px;\n",
       "    }\n",
       "\n",
       "    .colab-df-convert {\n",
       "      background-color: #E8F0FE;\n",
       "      border: none;\n",
       "      border-radius: 50%;\n",
       "      cursor: pointer;\n",
       "      display: none;\n",
       "      fill: #1967D2;\n",
       "      height: 32px;\n",
       "      padding: 0 0 0 0;\n",
       "      width: 32px;\n",
       "    }\n",
       "\n",
       "    .colab-df-convert:hover {\n",
       "      background-color: #E2EBFA;\n",
       "      box-shadow: 0px 1px 2px rgba(60, 64, 67, 0.3), 0px 1px 3px 1px rgba(60, 64, 67, 0.15);\n",
       "      fill: #174EA6;\n",
       "    }\n",
       "\n",
       "    .colab-df-buttons div {\n",
       "      margin-bottom: 4px;\n",
       "    }\n",
       "\n",
       "    [theme=dark] .colab-df-convert {\n",
       "      background-color: #3B4455;\n",
       "      fill: #D2E3FC;\n",
       "    }\n",
       "\n",
       "    [theme=dark] .colab-df-convert:hover {\n",
       "      background-color: #434B5C;\n",
       "      box-shadow: 0px 1px 3px 1px rgba(0, 0, 0, 0.15);\n",
       "      filter: drop-shadow(0px 1px 2px rgba(0, 0, 0, 0.3));\n",
       "      fill: #FFFFFF;\n",
       "    }\n",
       "  </style>\n",
       "\n",
       "    <script>\n",
       "      const buttonEl =\n",
       "        document.querySelector('#df-d029702a-cfd5-4baf-940b-eb2467d5c07b button.colab-df-convert');\n",
       "      buttonEl.style.display =\n",
       "        google.colab.kernel.accessAllowed ? 'block' : 'none';\n",
       "\n",
       "      async function convertToInteractive(key) {\n",
       "        const element = document.querySelector('#df-d029702a-cfd5-4baf-940b-eb2467d5c07b');\n",
       "        const dataTable =\n",
       "          await google.colab.kernel.invokeFunction('convertToInteractive',\n",
       "                                                    [key], {});\n",
       "        if (!dataTable) return;\n",
       "\n",
       "        const docLinkHtml = 'Like what you see? Visit the ' +\n",
       "          '<a target=\"_blank\" href=https://colab.research.google.com/notebooks/data_table.ipynb>data table notebook</a>'\n",
       "          + ' to learn more about interactive tables.';\n",
       "        element.innerHTML = '';\n",
       "        dataTable['output_type'] = 'display_data';\n",
       "        await google.colab.output.renderOutput(dataTable, element);\n",
       "        const docLink = document.createElement('div');\n",
       "        docLink.innerHTML = docLinkHtml;\n",
       "        element.appendChild(docLink);\n",
       "      }\n",
       "    </script>\n",
       "  </div>\n",
       "\n",
       "\n",
       "<div id=\"df-c058448f-e108-4a54-be4f-15e03e8bd46a\">\n",
       "  <button class=\"colab-df-quickchart\" onclick=\"quickchart('df-c058448f-e108-4a54-be4f-15e03e8bd46a')\"\n",
       "            title=\"Suggest charts\"\n",
       "            style=\"display:none;\">\n",
       "\n",
       "<svg xmlns=\"http://www.w3.org/2000/svg\" height=\"24px\"viewBox=\"0 0 24 24\"\n",
       "     width=\"24px\">\n",
       "    <g>\n",
       "        <path d=\"M19 3H5c-1.1 0-2 .9-2 2v14c0 1.1.9 2 2 2h14c1.1 0 2-.9 2-2V5c0-1.1-.9-2-2-2zM9 17H7v-7h2v7zm4 0h-2V7h2v10zm4 0h-2v-4h2v4z\"/>\n",
       "    </g>\n",
       "</svg>\n",
       "  </button>\n",
       "\n",
       "<style>\n",
       "  .colab-df-quickchart {\n",
       "      --bg-color: #E8F0FE;\n",
       "      --fill-color: #1967D2;\n",
       "      --hover-bg-color: #E2EBFA;\n",
       "      --hover-fill-color: #174EA6;\n",
       "      --disabled-fill-color: #AAA;\n",
       "      --disabled-bg-color: #DDD;\n",
       "  }\n",
       "\n",
       "  [theme=dark] .colab-df-quickchart {\n",
       "      --bg-color: #3B4455;\n",
       "      --fill-color: #D2E3FC;\n",
       "      --hover-bg-color: #434B5C;\n",
       "      --hover-fill-color: #FFFFFF;\n",
       "      --disabled-bg-color: #3B4455;\n",
       "      --disabled-fill-color: #666;\n",
       "  }\n",
       "\n",
       "  .colab-df-quickchart {\n",
       "    background-color: var(--bg-color);\n",
       "    border: none;\n",
       "    border-radius: 50%;\n",
       "    cursor: pointer;\n",
       "    display: none;\n",
       "    fill: var(--fill-color);\n",
       "    height: 32px;\n",
       "    padding: 0;\n",
       "    width: 32px;\n",
       "  }\n",
       "\n",
       "  .colab-df-quickchart:hover {\n",
       "    background-color: var(--hover-bg-color);\n",
       "    box-shadow: 0 1px 2px rgba(60, 64, 67, 0.3), 0 1px 3px 1px rgba(60, 64, 67, 0.15);\n",
       "    fill: var(--button-hover-fill-color);\n",
       "  }\n",
       "\n",
       "  .colab-df-quickchart-complete:disabled,\n",
       "  .colab-df-quickchart-complete:disabled:hover {\n",
       "    background-color: var(--disabled-bg-color);\n",
       "    fill: var(--disabled-fill-color);\n",
       "    box-shadow: none;\n",
       "  }\n",
       "\n",
       "  .colab-df-spinner {\n",
       "    border: 2px solid var(--fill-color);\n",
       "    border-color: transparent;\n",
       "    border-bottom-color: var(--fill-color);\n",
       "    animation:\n",
       "      spin 1s steps(1) infinite;\n",
       "  }\n",
       "\n",
       "  @keyframes spin {\n",
       "    0% {\n",
       "      border-color: transparent;\n",
       "      border-bottom-color: var(--fill-color);\n",
       "      border-left-color: var(--fill-color);\n",
       "    }\n",
       "    20% {\n",
       "      border-color: transparent;\n",
       "      border-left-color: var(--fill-color);\n",
       "      border-top-color: var(--fill-color);\n",
       "    }\n",
       "    30% {\n",
       "      border-color: transparent;\n",
       "      border-left-color: var(--fill-color);\n",
       "      border-top-color: var(--fill-color);\n",
       "      border-right-color: var(--fill-color);\n",
       "    }\n",
       "    40% {\n",
       "      border-color: transparent;\n",
       "      border-right-color: var(--fill-color);\n",
       "      border-top-color: var(--fill-color);\n",
       "    }\n",
       "    60% {\n",
       "      border-color: transparent;\n",
       "      border-right-color: var(--fill-color);\n",
       "    }\n",
       "    80% {\n",
       "      border-color: transparent;\n",
       "      border-right-color: var(--fill-color);\n",
       "      border-bottom-color: var(--fill-color);\n",
       "    }\n",
       "    90% {\n",
       "      border-color: transparent;\n",
       "      border-bottom-color: var(--fill-color);\n",
       "    }\n",
       "  }\n",
       "</style>\n",
       "\n",
       "  <script>\n",
       "    async function quickchart(key) {\n",
       "      const quickchartButtonEl =\n",
       "        document.querySelector('#' + key + ' button');\n",
       "      quickchartButtonEl.disabled = true;  // To prevent multiple clicks.\n",
       "      quickchartButtonEl.classList.add('colab-df-spinner');\n",
       "      try {\n",
       "        const charts = await google.colab.kernel.invokeFunction(\n",
       "            'suggestCharts', [key], {});\n",
       "      } catch (error) {\n",
       "        console.error('Error during call to suggestCharts:', error);\n",
       "      }\n",
       "      quickchartButtonEl.classList.remove('colab-df-spinner');\n",
       "      quickchartButtonEl.classList.add('colab-df-quickchart-complete');\n",
       "    }\n",
       "    (() => {\n",
       "      let quickchartButtonEl =\n",
       "        document.querySelector('#df-c058448f-e108-4a54-be4f-15e03e8bd46a button');\n",
       "      quickchartButtonEl.style.display =\n",
       "        google.colab.kernel.accessAllowed ? 'block' : 'none';\n",
       "    })();\n",
       "  </script>\n",
       "</div>\n",
       "\n",
       "  <div id=\"id_eb301c64-860b-423e-bdcd-60e3a88e1b41\">\n",
       "    <style>\n",
       "      .colab-df-generate {\n",
       "        background-color: #E8F0FE;\n",
       "        border: none;\n",
       "        border-radius: 50%;\n",
       "        cursor: pointer;\n",
       "        display: none;\n",
       "        fill: #1967D2;\n",
       "        height: 32px;\n",
       "        padding: 0 0 0 0;\n",
       "        width: 32px;\n",
       "      }\n",
       "\n",
       "      .colab-df-generate:hover {\n",
       "        background-color: #E2EBFA;\n",
       "        box-shadow: 0px 1px 2px rgba(60, 64, 67, 0.3), 0px 1px 3px 1px rgba(60, 64, 67, 0.15);\n",
       "        fill: #174EA6;\n",
       "      }\n",
       "\n",
       "      [theme=dark] .colab-df-generate {\n",
       "        background-color: #3B4455;\n",
       "        fill: #D2E3FC;\n",
       "      }\n",
       "\n",
       "      [theme=dark] .colab-df-generate:hover {\n",
       "        background-color: #434B5C;\n",
       "        box-shadow: 0px 1px 3px 1px rgba(0, 0, 0, 0.15);\n",
       "        filter: drop-shadow(0px 1px 2px rgba(0, 0, 0, 0.3));\n",
       "        fill: #FFFFFF;\n",
       "      }\n",
       "    </style>\n",
       "    <button class=\"colab-df-generate\" onclick=\"generateWithVariable('train')\"\n",
       "            title=\"Generate code using this dataframe.\"\n",
       "            style=\"display:none;\">\n",
       "\n",
       "  <svg xmlns=\"http://www.w3.org/2000/svg\" height=\"24px\"viewBox=\"0 0 24 24\"\n",
       "       width=\"24px\">\n",
       "    <path d=\"M7,19H8.4L18.45,9,17,7.55,7,17.6ZM5,21V16.75L18.45,3.32a2,2,0,0,1,2.83,0l1.4,1.43a1.91,1.91,0,0,1,.58,1.4,1.91,1.91,0,0,1-.58,1.4L9.25,21ZM18.45,9,17,7.55Zm-12,3A5.31,5.31,0,0,0,4.9,8.1,5.31,5.31,0,0,0,1,6.5,5.31,5.31,0,0,0,4.9,4.9,5.31,5.31,0,0,0,6.5,1,5.31,5.31,0,0,0,8.1,4.9,5.31,5.31,0,0,0,12,6.5,5.46,5.46,0,0,0,6.5,12Z\"/>\n",
       "  </svg>\n",
       "    </button>\n",
       "    <script>\n",
       "      (() => {\n",
       "      const buttonEl =\n",
       "        document.querySelector('#id_eb301c64-860b-423e-bdcd-60e3a88e1b41 button.colab-df-generate');\n",
       "      buttonEl.style.display =\n",
       "        google.colab.kernel.accessAllowed ? 'block' : 'none';\n",
       "\n",
       "      buttonEl.onclick = () => {\n",
       "        google.colab.notebook.generateWithVariable('train');\n",
       "      }\n",
       "      })();\n",
       "    </script>\n",
       "  </div>\n",
       "\n",
       "    </div>\n",
       "  </div>\n"
      ],
      "text/plain": [
       "            Brand       Model  Volume  Weight  CO2Emission\n",
       "0          Toyota     Corolla    12.3    1300          120\n",
       "1          Toyota       Camry    14.0    1495          135\n",
       "2          Toyota        RAV4    15.0    1680          140\n",
       "3          Toyota       Prius    12.5    1375           90\n",
       "4          Toyota  Highlander    16.5    1965          165\n",
       "5            Ford       F-150    19.5    2200          255\n",
       "6            Ford     Mustang    13.0    1655          180\n",
       "7            Ford    Explorer    16.8    2020          200\n",
       "8            Ford       Focus    12.0    1350          115\n",
       "9            Ford      Escape    15.4    1580          150\n",
       "10      Chevrolet   Silverado    19.8    2260          260\n",
       "11      Chevrolet      Malibu    13.5    1460          135\n",
       "12      Chevrolet     Equinox    15.3    1705          155\n",
       "13      Chevrolet      Camaro    13.2    1685          190\n",
       "14      Chevrolet    Traverse    17.5    2030          210\n",
       "15          Honda       Civic    12.2    1290          110\n",
       "16          Honda      Accord    13.6    1490          130\n",
       "17          Honda        CR-V    14.8    1610          140\n",
       "18          Honda        HR-V    14.0    1425          115\n",
       "19          Honda       Pilot    16.7    1975          180\n",
       "20         Nissan      Altima    13.1    1470          130\n",
       "21         Nissan       Rogue    15.0    1640          145\n",
       "22         Nissan      Sentra    12.0    1250          110\n",
       "23         Nissan    Frontier    18.0    2000          195\n",
       "24         Nissan      Maxima    13.9    1600          145\n",
       "25            BMW    3 Series    13.0    1570          140\n",
       "26            BMW          X5    16.5    2190          195\n",
       "27            BMW    5 Series    14.0    1825          160\n",
       "28            BMW          X3    15.0    1820          170\n",
       "29            BMW    7 Series    15.5    2195          205\n",
       "30  Mercedes-Benz     C-Class    13.1    1530          130\n",
       "31  Mercedes-Benz     E-Class    14.8    1760          150\n",
       "32  Mercedes-Benz         GLC    15.9    1835          170\n",
       "33  Mercedes-Benz         GLE    16.5    2130          190\n",
       "34  Mercedes-Benz     S-Class    15.8    2080          175\n",
       "35           Audi          A4    13.2    1520          135\n",
       "36           Audi          Q5    15.3    1765          160\n",
       "37           Audi          A6    14.0    1695          145\n",
       "38           Audi          Q7    16.5    2170          200\n",
       "39           Audi          A3    12.5    1370          120\n",
       "40     Volkswagen        Golf    12.0    1320          115\n",
       "41     Volkswagen      Tiguan    15.4    1650          140\n",
       "42     Volkswagen      Passat    13.5    1470          125\n",
       "43     Volkswagen       Jetta    13.0    1420          120\n",
       "44     Volkswagen       Atlas    17.0    2000          190\n",
       "45        Hyundai     Elantra    12.0    1275          115\n",
       "46        Hyundai      Tucson    15.0    1590          140\n",
       "47        Hyundai    Santa Fe    16.0    1810          165\n",
       "48        Hyundai        Kona    13.1    1410          125\n",
       "49        Hyundai      Sonata    13.8    1440          130"
      ]
     },
     "execution_count": 4,
     "metadata": {},
     "output_type": "execute_result"
    }
   ],
   "source": [
    "train = pd.read_csv('datasets/AirQualityCars.csv')\n",
    "train"
   ]
  },
  {
   "cell_type": "markdown",
   "metadata": {
    "id": "d5VsN2KkG4W4"
   },
   "source": [
    "**Explanation**:  *The training dataset contains information about different car models and their CO2 emissions. Each row includes the brand (e.g., Toyota, Ford), model, volume (likely engine size), weight, and CO2Emission level. Heavier cars or those with larger engine volumes tend to have higher CO2 emissions because they use more fuel. For example, smaller cars like the Toyota Prius have lower emissions, while larger vehicles like the Ford F-150 have higher emissions. This data helps a model learn the relationship between features like volume and weight and their impact on CO2 emissions*."
   ]
  },
  {
   "cell_type": "markdown",
   "metadata": {
    "id": "t8fPBcfoG9ik"
   },
   "source": [
    "### Goal 3: Import the seaborn library\n",
    "\n",
    "Before, we’ve been using Plotly to help with the visualization, but we’ll switch it up a bit and use the Seaborn library which has some other visualizations for the correlations we’ll be looking at."
   ]
  },
  {
   "cell_type": "markdown",
   "metadata": {
    "id": "EqcqTIuXHICL"
   },
   "source": [
    "#### Blockly"
   ]
  },
  {
   "cell_type": "markdown",
   "metadata": {
    "id": "ihvQAbHfHQh3"
   },
   "source": [
    "**Step 1 - Starting the import**\n",
    "\n",
    "First, we need to set up a “command” to tell the computer what to do. In this case, “command” is to “import” to bring the add-on package in.\n",
    "\n",
    "Bring in the IMPORT menu, which can be helpful to bring in other data tools. In this case, we're bringing in the **import** block.\n"
   ]
  },
  {
   "cell_type": "markdown",
   "metadata": {
    "id": "D_Np6_qdHR7d"
   },
   "source": [
    "\n",
    "**Step 2 - Telling what library to import**\n",
    "\n",
    "In the text area, we type the name of the library we want to import. A library is like an extra thing we bring in to give us more coding abilities. In our case, we will type out **seaborn**, which will bring in some cool data manipulation features.\n"
   ]
  },
  {
   "cell_type": "markdown",
   "metadata": {
    "id": "NlItySsWHTno"
   },
   "source": [
    "\n",
    "**Step 3 - Renaming the library so it’s easy to remember**\n",
    "\n",
    "Once you are done, put the **import** and **seaborn** together in a single variable. This handy feature helps cut down on all the typing later on. You can call it whatever is easiest for you to remember. In the example below, we’ve put everything into **sns**, and we type it in the open area.\n"
   ]
  },
  {
   "cell_type": "markdown",
   "metadata": {
    "id": "i3CUkBWaHVtb"
   },
   "source": [
    "\n",
    "**Step 4 - Connect the blocks to run the code**\n",
    "\n",
    "Connect the blocks and run the code!\n",
    "\n",
    "![](https://pbs.twimg.com/media/Gbdo5AabUAA8svq?format=png&name=small)\n"
   ]
  },
  {
   "cell_type": "markdown",
   "metadata": {
    "id": "wQXfb8HrHpnI"
   },
   "source": [
    "#### Freehand"
   ]
  },
  {
   "cell_type": "markdown",
   "metadata": {
    "id": "c_cn16KZHqjY"
   },
   "source": [
    "**Step 1 - Starting the import **\n",
    "\n",
    "First, we need to set up a “command” to tell the computer what to do. In this case, “command” is to “import” to bring the add-on package in."
   ]
  },
  {
   "cell_type": "markdown",
   "metadata": {
    "id": "S6pbw8oSH_1H"
   },
   "source": [
    "\n",
    "**Step 2 - Telling what library to import**\n",
    "\n",
    "In the text area, we type the name of the library we want to import. A library is like an extra thing we bring in to give us more coding abilities. In our case, we will type out **seaborn**, which will bring in some cool data manipulation features."
   ]
  },
  {
   "cell_type": "markdown",
   "metadata": {
    "id": "bo1mw8P7IAwT"
   },
   "source": [
    "\n",
    "**Step 3 - Renaming the library so it’s easy to remember**\n",
    "\n",
    "Once you are done, put the ‘import’ and ‘package’ together in a single variable. This handy feature helps cut down on all the typing later on. Feel free to use whatever name you want that will help you remember it later on. In the example below, we’ve put everything into **sns**."
   ]
  },
  {
   "cell_type": "markdown",
   "metadata": {
    "id": "d_Ks6s4EIBqI"
   },
   "source": [
    "\n",
    "**Step 4 - Run the code**\n",
    "\n",
    "Hit ‘control’ and ‘enter’ at the same time to run the data science magic!\n",
    "\n",
    "![](https://pbs.twimg.com/media/GbfSdtqaQAA2hpQ?format=png&name=small)\n"
   ]
  },
  {
   "cell_type": "markdown",
   "metadata": {
    "id": "JK5S54-OITxh"
   },
   "source": [
    "**Your Turn**: Now it’s your turn! We’re going to dive into the seaborn package, which helps us with some really cool data science things. First, let’s import the package and assign it to the variable “sns” to make it easier to use throughout our notebook.\n"
   ]
  },
  {
   "cell_type": "code",
   "execution_count": 5,
   "metadata": {
    "id": "p8YSh5COIVWO"
   },
   "outputs": [],
   "source": [
    "import seaborn as sns"
   ]
  },
  {
   "cell_type": "markdown",
   "metadata": {
    "id": "i3tICExRIWyk"
   },
   "source": [
    "**Explanation**: *Now you have a new graphic library, seaborn, which is a tool that makes it easy to create nice-looking charts and graphs in Python*."
   ]
  },
  {
   "cell_type": "markdown",
   "metadata": {
    "id": "QbXWx4beIalM"
   },
   "source": [
    "### Goal 4: Analyze correlations with pair plot\n",
    "\n",
    "Before, we used a scatter plot that helped show the relationship with 1 variable. Let’s use a pair plot to find the relationships among multiple variables, which will help us with our multiple linear regression"
   ]
  },
  {
   "cell_type": "markdown",
   "metadata": {
    "id": "BOwwuRK9IeyH"
   },
   "source": [
    "#### Blockly"
   ]
  },
  {
   "cell_type": "markdown",
   "metadata": {
    "id": "NgB0CvbgIs7H"
   },
   "source": [
    "\n",
    "**Step 1 - Create a pair plot**\n",
    "\n",
    "Let’s see if we can explore the correlations between the variables. Let’s start with a visualization called ‘pairplot’ that helps visualize the relationship among all the variables used.\n",
    "\n",
    "From the Variables menu, get a DO block for the **sns** variable. With it, select the operation pairplot from the Seaborn library.\n"
   ]
  },
  {
   "cell_type": "markdown",
   "metadata": {
    "id": "ZWlZIQPhIzw0"
   },
   "source": [
    "\n",
    "**Step 2 - Add the parameters to the graph**\n",
    "\n",
    "Inside the pairplot() method, we add our parameter for the plot. For the pairplot, we add our parameter(s). In this case, we’ll bring in **train** variable that has the dataframe and the variables we’ll look at.\n",
    "\n",
    "Drag the **train** variable from the variable menu to connect to it. The pair plot will show histograms for each variable on its diagonal and, on each one of the grids, a scatter plot between variables.\n"
   ]
  },
  {
   "cell_type": "markdown",
   "metadata": {
    "id": "nKbnN9O0I043"
   },
   "source": [
    "\n",
    "**Step 3 - Connect the blocks to run the code**\n",
    "\n",
    "Connect the blocks and run the code!\n",
    "\n",
    "![](https://pbs.twimg.com/media/GbdrM54aoAAKF14?format=png&name=small)\n"
   ]
  },
  {
   "cell_type": "markdown",
   "metadata": {
    "id": "zSIxp7dBJI_2"
   },
   "source": [
    "#### Freehand"
   ]
  },
  {
   "cell_type": "markdown",
   "metadata": {
    "id": "Iq6y-OgHJagl"
   },
   "source": [
    "**Step 1 - Present a pairplot**\n",
    "\n",
    "Let’s see if we can explore the correlations between the variables. Let’s start with a visualization called ‘pairplot’ that helps visualize the relationship among all the variables using.\n",
    "\n",
    "For the pairplot, we call the pairplot() method from the seaborn library.\n",
    "\n",
    "`sns.pairplot()`\n"
   ]
  },
  {
   "cell_type": "markdown",
   "metadata": {
    "id": "KpV8e8NoJccR"
   },
   "source": [
    "\n",
    "**Step 2 - Add the parameters of the graph**\n",
    "\n",
    "Inside the pairplot() method, we add our parameter for the plot. For the pairplot, we add our parameter(s). In this case, we’ll bring in **train** variable that has the the dataframe and the variables we’ll look at.\n",
    "\n",
    "`sns.pairplot(train)`\n"
   ]
  },
  {
   "cell_type": "markdown",
   "metadata": {
    "id": "uqiMYEflJd6r"
   },
   "source": [
    "\n",
    "**Step 3 - Run the code**\n",
    "\n",
    "Hit ‘control’ and ‘enter’ at the same time to run the code!\n",
    "\n",
    "![](https://pbs.twimg.com/media/GbfSDsIaIAARGoc?format=png&name=small)"
   ]
  },
  {
   "cell_type": "markdown",
   "metadata": {
    "id": "EuhMjwVFJfBq"
   },
   "source": [
    "\n",
    "**Your Turn**: Now it’s your turn! Use pair plot to analyze the relationships between variables.\n"
   ]
  },
  {
   "cell_type": "code",
   "execution_count": 6,
   "metadata": {
    "colab": {
     "base_uri": "https://localhost:8080/",
     "height": 774
    },
    "id": "sgIv5CfSJgJm",
    "outputId": "9dadea3b-89aa-4b32-a97e-fe15330bc59d"
   },
   "outputs": [
    {
     "data": {
      "text/plain": [
       "<seaborn.axisgrid.PairGrid at 0x7cacf96c9f30>"
      ]
     },
     "execution_count": 6,
     "metadata": {},
     "output_type": "execute_result"
    },
    {
     "data": {
      "image/png": "[encoded data removed]",
      "text/plain": [
       "<Figure size 750x750 with 12 Axes>"
      ]
     },
     "metadata": {},
     "output_type": "display_data"
    }
   ],
   "source": [
    "sns.pairplot(train)"
   ]
  },
  {
   "cell_type": "markdown",
   "metadata": {
    "id": "x9KygMnMJh0R"
   },
   "source": [
    "**Explanation**: *The pairplot shows histograms for each variable on its diagonal, and on each of the grids a scatter plot between variables. We can see that as volume and weight increase, CO2emission also tends to increase. The plots with upward trends (like volume vs. CO2 and weight vs. CO2) indicate that cars with larger engines and more weight generally emit more CO2. This pattern suggests that both engine size and weight play a role in how much CO2 a car produces, which can hint that there is a correlation between the features and the label, so we can create a linear model to predict it*."
   ]
  },
  {
   "cell_type": "markdown",
   "metadata": {
    "id": "eUVNBQ0RJ4p0"
   },
   "source": [
    "### Goal 5: Calculate correlations\n",
    "\n",
    "Now that we’ve brought in our dataset loaded and the right library to help us, let’s see if we can find any relationships between the variables we can calculate."
   ]
  },
  {
   "cell_type": "markdown",
   "metadata": {
    "id": "HAk8DtStJ7Mi"
   },
   "source": [
    "#### Blockly"
   ]
  },
  {
   "cell_type": "markdown",
   "metadata": {
    "id": "a6_ZOGIFJ8TD"
   },
   "source": [
    "**Step 1 - Call the corr() method of the dataframe **\n",
    "\n",
    "To get the correlation of variables, we first need to call the corr() method to help calculate the correlations. We’ll apply it to the data we have in our **train** variable.\n",
    "\n",
    "From the VARIABLES menu, WITH the **train** variable DO the **corr** function.\n"
   ]
  },
  {
   "cell_type": "markdown",
   "metadata": {
    "id": "sHiX0i_vJ-1p"
   },
   "source": [
    "\n",
    "**Step 2 - Run correlations for only numeric values**\n",
    "\n",
    "We tell our code **numeric_only=True** (FREESTYLE menu), which means we only want to consider numeric columns in the calculation.\n"
   ]
  },
  {
   "cell_type": "markdown",
   "metadata": {
    "id": "-7GmwGYmJ_jw"
   },
   "source": [
    "\n",
    "**Step 3 - Connect the blocks to run the code**\n",
    "\n",
    "Connect the blocks and run the code!\n",
    "\n",
    "![](https://pbs.twimg.com/media/GbeNDp7aAAAOsGC?format=png&name=small)"
   ]
  },
  {
   "cell_type": "markdown",
   "metadata": {
    "id": "A4iFLe6DKSeW"
   },
   "source": [
    "#### Freehand"
   ]
  },
  {
   "cell_type": "markdown",
   "metadata": {
    "id": "y6eH7FNnKUFg"
   },
   "source": [
    "\n",
    "**Step 1 - Call the corr() method of the dataframe**\n",
    "\n",
    "To get the correlation of variables, we first need to call the **corr**() method to help calculate the correlations. We’ll apply it to the data we have in our **train** variable.\n",
    "\n",
    "`train.corr()`\n"
   ]
  },
  {
   "cell_type": "markdown",
   "metadata": {
    "id": "IwkwPOC0Kio6"
   },
   "source": [
    "\n",
    "**Step 2 - Run correlations for only numeric values**\n",
    "\n",
    "We tell our code numeric_only=True (FREESTYLE menu), which means we only want to consider numeric columns in the calculation.\n",
    "\n",
    "`train.corr(numeric_only=True)`\n"
   ]
  },
  {
   "cell_type": "markdown",
   "metadata": {
    "id": "kkgQQS-GKjZF"
   },
   "source": [
    "\n",
    "**Step 3 - Run the code**\n",
    "\n",
    "Hit ‘control’ and ‘enter’ at the same time to run the code!\n",
    "\n",
    "![](https://pbs.twimg.com/media/GbfR10JbEAAv_3K?format=png&name=small)"
   ]
  },
  {
   "cell_type": "markdown",
   "metadata": {
    "id": "lez2T4vgKkiU"
   },
   "source": [
    "\n",
    "**Your Turn**: Now it’s your turn to calculate correlations!"
   ]
  },
  {
   "cell_type": "code",
   "execution_count": 7,
   "metadata": {
    "colab": {
     "base_uri": "https://localhost:8080/",
     "height": 143
    },
    "id": "rTbnz3-NKmKh",
    "outputId": "43077da6-ca5d-4da3-810e-a3125402f976"
   },
   "outputs": [
    {
     "data": {
      "application/vnd.google.colaboratory.intrinsic+json": {
       "summary": "{\n  \"name\": \"train\",\n  \"rows\": 3,\n  \"fields\": [\n    {\n      \"column\": \"Volume\",\n      \"properties\": {\n        \"dtype\": \"number\",\n        \"std\": 0.06628700345978268,\n        \"min\": 0.8761958587065054,\n        \"max\": 1.0,\n        \"num_unique_values\": 3,\n        \"samples\": [\n          1.0,\n          0.8970333286372218,\n          0.8761958587065054\n        ],\n        \"semantic_type\": \"\",\n        \"description\": \"\"\n      }\n    },\n    {\n      \"column\": \"Weight\",\n      \"properties\": {\n        \"dtype\": \"number\",\n        \"std\": 0.053572777023294105,\n        \"min\": 0.8970333286372218,\n        \"max\": 1.0,\n        \"num_unique_values\": 3,\n        \"samples\": [\n          0.8970333286372218,\n          1.0,\n          0.9228549076500779\n        ],\n        \"semantic_type\": \"\",\n        \"description\": \"\"\n      }\n    },\n    {\n      \"column\": \"CO2Emission\",\n      \"properties\": {\n        \"dtype\": \"number\",\n        \"std\": 0.06252452521933063,\n        \"min\": 0.8761958587065054,\n        \"max\": 1.0,\n        \"num_unique_values\": 3,\n        \"samples\": [\n          0.8761958587065054,\n          0.9228549076500779,\n          1.0\n        ],\n        \"semantic_type\": \"\",\n        \"description\": \"\"\n      }\n    }\n  ]\n}",
       "type": "dataframe"
      },
      "text/html": [
       "\n",
       "  <div id=\"df-d6ba0708-05cc-4fe8-bbcd-3ac200fa372f\" class=\"colab-df-container\">\n",
       "    <div>\n",
       "<style scoped>\n",
       "    .dataframe tbody tr th:only-of-type {\n",
       "        vertical-align: middle;\n",
       "    }\n",
       "\n",
       "    .dataframe tbody tr th {\n",
       "        vertical-align: top;\n",
       "    }\n",
       "\n",
       "    .dataframe thead th {\n",
       "        text-align: right;\n",
       "    }\n",
       "</style>\n",
       "<table border=\"1\" class=\"dataframe\">\n",
       "  <thead>\n",
       "    <tr style=\"text-align: right;\">\n",
       "      <th></th>\n",
       "      <th>Volume</th>\n",
       "      <th>Weight</th>\n",
       "      <th>CO2Emission</th>\n",
       "    </tr>\n",
       "  </thead>\n",
       "  <tbody>\n",
       "    <tr>\n",
       "      <th>Volume</th>\n",
       "      <td>1.000000</td>\n",
       "      <td>0.897033</td>\n",
       "      <td>0.876196</td>\n",
       "    </tr>\n",
       "    <tr>\n",
       "      <th>Weight</th>\n",
       "      <td>0.897033</td>\n",
       "      <td>1.000000</td>\n",
       "      <td>0.922855</td>\n",
       "    </tr>\n",
       "    <tr>\n",
       "      <th>CO2Emission</th>\n",
       "      <td>0.876196</td>\n",
       "      <td>0.922855</td>\n",
       "      <td>1.000000</td>\n",
       "    </tr>\n",
       "  </tbody>\n",
       "</table>\n",
       "</div>\n",
       "    <div class=\"colab-df-buttons\">\n",
       "\n",
       "  <div class=\"colab-df-container\">\n",
       "    <button class=\"colab-df-convert\" onclick=\"convertToInteractive('df-d6ba0708-05cc-4fe8-bbcd-3ac200fa372f')\"\n",
       "            title=\"Convert this dataframe to an interactive table.\"\n",
       "            style=\"display:none;\">\n",
       "\n",
       "  <svg xmlns=\"http://www.w3.org/2000/svg\" height=\"24px\" viewBox=\"0 -960 960 960\">\n",
       "    <path d=\"M120-120v-720h720v720H120Zm60-500h600v-160H180v160Zm220 220h160v-160H400v160Zm0 220h160v-160H400v160ZM180-400h160v-160H180v160Zm440 0h160v-160H620v160ZM180-180h160v-160H180v160Zm440 0h160v-160H620v160Z\"/>\n",
       "  </svg>\n",
       "    </button>\n",
       "\n",
       "  <style>\n",
       "    .colab-df-container {\n",
       "      display:flex;\n",
       "      gap: 12px;\n",
       "    }\n",
       "\n",
       "    .colab-df-convert {\n",
       "      background-color: #E8F0FE;\n",
       "      border: none;\n",
       "      border-radius: 50%;\n",
       "      cursor: pointer;\n",
       "      display: none;\n",
       "      fill: #1967D2;\n",
       "      height: 32px;\n",
       "      padding: 0 0 0 0;\n",
       "      width: 32px;\n",
       "    }\n",
       "\n",
       "    .colab-df-convert:hover {\n",
       "      background-color: #E2EBFA;\n",
       "      box-shadow: 0px 1px 2px rgba(60, 64, 67, 0.3), 0px 1px 3px 1px rgba(60, 64, 67, 0.15);\n",
       "      fill: #174EA6;\n",
       "    }\n",
       "\n",
       "    .colab-df-buttons div {\n",
       "      margin-bottom: 4px;\n",
       "    }\n",
       "\n",
       "    [theme=dark] .colab-df-convert {\n",
       "      background-color: #3B4455;\n",
       "      fill: #D2E3FC;\n",
       "    }\n",
       "\n",
       "    [theme=dark] .colab-df-convert:hover {\n",
       "      background-color: #434B5C;\n",
       "      box-shadow: 0px 1px 3px 1px rgba(0, 0, 0, 0.15);\n",
       "      filter: drop-shadow(0px 1px 2px rgba(0, 0, 0, 0.3));\n",
       "      fill: #FFFFFF;\n",
       "    }\n",
       "  </style>\n",
       "\n",
       "    <script>\n",
       "      const buttonEl =\n",
       "        document.querySelector('#df-d6ba0708-05cc-4fe8-bbcd-3ac200fa372f button.colab-df-convert');\n",
       "      buttonEl.style.display =\n",
       "        google.colab.kernel.accessAllowed ? 'block' : 'none';\n",
       "\n",
       "      async function convertToInteractive(key) {\n",
       "        const element = document.querySelector('#df-d6ba0708-05cc-4fe8-bbcd-3ac200fa372f');\n",
       "        const dataTable =\n",
       "          await google.colab.kernel.invokeFunction('convertToInteractive',\n",
       "                                                    [key], {});\n",
       "        if (!dataTable) return;\n",
       "\n",
       "        const docLinkHtml = 'Like what you see? Visit the ' +\n",
       "          '<a target=\"_blank\" href=https://colab.research.google.com/notebooks/data_table.ipynb>data table notebook</a>'\n",
       "          + ' to learn more about interactive tables.';\n",
       "        element.innerHTML = '';\n",
       "        dataTable['output_type'] = 'display_data';\n",
       "        await google.colab.output.renderOutput(dataTable, element);\n",
       "        const docLink = document.createElement('div');\n",
       "        docLink.innerHTML = docLinkHtml;\n",
       "        element.appendChild(docLink);\n",
       "      }\n",
       "    </script>\n",
       "  </div>\n",
       "\n",
       "\n",
       "<div id=\"df-af3a4067-caf2-4375-9d12-551c63c51499\">\n",
       "  <button class=\"colab-df-quickchart\" onclick=\"quickchart('df-af3a4067-caf2-4375-9d12-551c63c51499')\"\n",
       "            title=\"Suggest charts\"\n",
       "            style=\"display:none;\">\n",
       "\n",
       "<svg xmlns=\"http://www.w3.org/2000/svg\" height=\"24px\"viewBox=\"0 0 24 24\"\n",
       "     width=\"24px\">\n",
       "    <g>\n",
       "        <path d=\"M19 3H5c-1.1 0-2 .9-2 2v14c0 1.1.9 2 2 2h14c1.1 0 2-.9 2-2V5c0-1.1-.9-2-2-2zM9 17H7v-7h2v7zm4 0h-2V7h2v10zm4 0h-2v-4h2v4z\"/>\n",
       "    </g>\n",
       "</svg>\n",
       "  </button>\n",
       "\n",
       "<style>\n",
       "  .colab-df-quickchart {\n",
       "      --bg-color: #E8F0FE;\n",
       "      --fill-color: #1967D2;\n",
       "      --hover-bg-color: #E2EBFA;\n",
       "      --hover-fill-color: #174EA6;\n",
       "      --disabled-fill-color: #AAA;\n",
       "      --disabled-bg-color: #DDD;\n",
       "  }\n",
       "\n",
       "  [theme=dark] .colab-df-quickchart {\n",
       "      --bg-color: #3B4455;\n",
       "      --fill-color: #D2E3FC;\n",
       "      --hover-bg-color: #434B5C;\n",
       "      --hover-fill-color: #FFFFFF;\n",
       "      --disabled-bg-color: #3B4455;\n",
       "      --disabled-fill-color: #666;\n",
       "  }\n",
       "\n",
       "  .colab-df-quickchart {\n",
       "    background-color: var(--bg-color);\n",
       "    border: none;\n",
       "    border-radius: 50%;\n",
       "    cursor: pointer;\n",
       "    display: none;\n",
       "    fill: var(--fill-color);\n",
       "    height: 32px;\n",
       "    padding: 0;\n",
       "    width: 32px;\n",
       "  }\n",
       "\n",
       "  .colab-df-quickchart:hover {\n",
       "    background-color: var(--hover-bg-color);\n",
       "    box-shadow: 0 1px 2px rgba(60, 64, 67, 0.3), 0 1px 3px 1px rgba(60, 64, 67, 0.15);\n",
       "    fill: var(--button-hover-fill-color);\n",
       "  }\n",
       "\n",
       "  .colab-df-quickchart-complete:disabled,\n",
       "  .colab-df-quickchart-complete:disabled:hover {\n",
       "    background-color: var(--disabled-bg-color);\n",
       "    fill: var(--disabled-fill-color);\n",
       "    box-shadow: none;\n",
       "  }\n",
       "\n",
       "  .colab-df-spinner {\n",
       "    border: 2px solid var(--fill-color);\n",
       "    border-color: transparent;\n",
       "    border-bottom-color: var(--fill-color);\n",
       "    animation:\n",
       "      spin 1s steps(1) infinite;\n",
       "  }\n",
       "\n",
       "  @keyframes spin {\n",
       "    0% {\n",
       "      border-color: transparent;\n",
       "      border-bottom-color: var(--fill-color);\n",
       "      border-left-color: var(--fill-color);\n",
       "    }\n",
       "    20% {\n",
       "      border-color: transparent;\n",
       "      border-left-color: var(--fill-color);\n",
       "      border-top-color: var(--fill-color);\n",
       "    }\n",
       "    30% {\n",
       "      border-color: transparent;\n",
       "      border-left-color: var(--fill-color);\n",
       "      border-top-color: var(--fill-color);\n",
       "      border-right-color: var(--fill-color);\n",
       "    }\n",
       "    40% {\n",
       "      border-color: transparent;\n",
       "      border-right-color: var(--fill-color);\n",
       "      border-top-color: var(--fill-color);\n",
       "    }\n",
       "    60% {\n",
       "      border-color: transparent;\n",
       "      border-right-color: var(--fill-color);\n",
       "    }\n",
       "    80% {\n",
       "      border-color: transparent;\n",
       "      border-right-color: var(--fill-color);\n",
       "      border-bottom-color: var(--fill-color);\n",
       "    }\n",
       "    90% {\n",
       "      border-color: transparent;\n",
       "      border-bottom-color: var(--fill-color);\n",
       "    }\n",
       "  }\n",
       "</style>\n",
       "\n",
       "  <script>\n",
       "    async function quickchart(key) {\n",
       "      const quickchartButtonEl =\n",
       "        document.querySelector('#' + key + ' button');\n",
       "      quickchartButtonEl.disabled = true;  // To prevent multiple clicks.\n",
       "      quickchartButtonEl.classList.add('colab-df-spinner');\n",
       "      try {\n",
       "        const charts = await google.colab.kernel.invokeFunction(\n",
       "            'suggestCharts', [key], {});\n",
       "      } catch (error) {\n",
       "        console.error('Error during call to suggestCharts:', error);\n",
       "      }\n",
       "      quickchartButtonEl.classList.remove('colab-df-spinner');\n",
       "      quickchartButtonEl.classList.add('colab-df-quickchart-complete');\n",
       "    }\n",
       "    (() => {\n",
       "      let quickchartButtonEl =\n",
       "        document.querySelector('#df-af3a4067-caf2-4375-9d12-551c63c51499 button');\n",
       "      quickchartButtonEl.style.display =\n",
       "        google.colab.kernel.accessAllowed ? 'block' : 'none';\n",
       "    })();\n",
       "  </script>\n",
       "</div>\n",
       "\n",
       "    </div>\n",
       "  </div>\n"
      ],
      "text/plain": [
       "               Volume    Weight  CO2Emission\n",
       "Volume       1.000000  0.897033     0.876196\n",
       "Weight       0.897033  1.000000     0.922855\n",
       "CO2Emission  0.876196  0.922855     1.000000"
      ]
     },
     "execution_count": 7,
     "metadata": {},
     "output_type": "execute_result"
    }
   ],
   "source": [
    "train.corr(numeric_only=True)"
   ]
  },
  {
   "cell_type": "markdown",
   "metadata": {
    "id": "esJ871s0KpXl"
   },
   "source": [
    "**Explanation**: *The table shows the correlation values between volume, weight, and CO2 emissions. A correlation value close to 1 means a strong positive relationship, whereas one-factor increases, the other tends to increase as well. Here, volume and CO2 emissions have a correlation of 0.876, meaning that cars with larger volumes tend to emit more CO2. Weight and CO2 emissions have an even stronger correlation of 0.923, showing that heavier cars are likely to produce more CO2. This data confirms that both volume and weight are closely related to CO2 emissions, with weight having a slightly stronger influence*."
   ]
  },
  {
   "cell_type": "markdown",
   "metadata": {
    "id": "WbMBkvVmLFgs"
   },
   "source": [
    "### Goal 6: Import the Plotly.Express Library\n",
    "\n",
    "We’ve already brought pandas to help with data science. Let’s bring in Plotly Express to help with some fancy-pants visualizations."
   ]
  },
  {
   "cell_type": "markdown",
   "metadata": {
    "id": "udkkV9csLPAx"
   },
   "source": [
    "#### Blockly"
   ]
  },
  {
   "cell_type": "markdown",
   "metadata": {
    "id": "xdBLJvOhLRiA"
   },
   "source": [
    "\n",
    "**Step 1 - Starting the import **\n",
    "\n",
    "First, we need to set up a “command” to tell the computer what to do. In this case, “command” is to “import” to bring the add-on package in.\n",
    "\n",
    "Bring in the IMPORT menu, which can be helpful to bring in other data tools. In this case, we're bringing in the **import** block.\n"
   ]
  },
  {
   "cell_type": "markdown",
   "metadata": {
    "id": "CdmDopBmLVUs"
   },
   "source": [
    "\n",
    "**Step 2 - Telling what library to import**\n",
    "\n",
    "In the text area, we type the name of the library we want to import. A library is like an extra thing we bring in to give us more coding abilities. In our case, we will type out **plotly.express**, which will bring in some cool data manipulation features.\n"
   ]
  },
  {
   "cell_type": "markdown",
   "metadata": {
    "id": "h8BYBTZFLWSZ"
   },
   "source": [
    "\n",
    "**Step 3 - Renaming the library so it’s easy to remember**\n",
    "\n",
    "Once you are done, put the **import** and **package** together in a single variable. This handy feature helps cut down on all the typing later on. You can call it whatever is easiest for you to remember. In the example below, we’ve put everything into **px**, and we type it in the open area."
   ]
  },
  {
   "cell_type": "markdown",
   "metadata": {
    "id": "mW5cz6M_LXJF"
   },
   "source": [
    "\n",
    "**Step 4 - Connect the blocks to run the code**\n",
    "\n",
    "Connect the blocks and run the code!\n",
    "\n",
    "![](https://pbs.twimg.com/media/GbeNeZYaAAAc6yK?format=png&name=small)\n",
    "\n"
   ]
  },
  {
   "cell_type": "markdown",
   "metadata": {
    "id": "Xdt0Y9hTLxmy"
   },
   "source": [
    "#### Freehand"
   ]
  },
  {
   "cell_type": "markdown",
   "metadata": {
    "id": "y3YWLCCqM-PT"
   },
   "source": [
    "\n",
    "**Step 1 - Starting the import**\n",
    "\n",
    "First, we need to set up a “command” to tell the computer what to do. In this case, “command” is to “import” to bring the add-on package in."
   ]
  },
  {
   "cell_type": "markdown",
   "metadata": {
    "id": "vE9I7bdtNDPY"
   },
   "source": [
    "\n",
    "**Step 2 - Telling what library to import**\n",
    "\n",
    "In the text area, we type the name of the library we want to import. A library is like an extra thing we bring in to give us more coding abilities. In our case, we will type out **plotly.express**, which will bring in some cool data manipulation features."
   ]
  },
  {
   "cell_type": "markdown",
   "metadata": {
    "id": "lPsCX1wWNFgW"
   },
   "source": [
    "\n",
    "**Step 3 - Renaming the library so it’s easy to remember**\n",
    "\n",
    "Once you are done, put the **‘import’** and **‘package’** together in a single variable. This handy feature helps cut down on all the typing later on. Feel free to use whatever name you want that will help you remember it later on. In the example below, we’ve put everything into **px**."
   ]
  },
  {
   "cell_type": "markdown",
   "metadata": {
    "id": "2r9761OsNGqS"
   },
   "source": [
    "\n",
    "**Step 4 - Run the code**\n",
    "\n",
    "Hit ‘control’ and ‘enter’ at the same time to run the code!\n",
    "\n",
    "![](https://pbs.twimg.com/media/GbfSbjibcAEK55L?format=png&name=360x360)"
   ]
  },
  {
   "cell_type": "markdown",
   "metadata": {
    "id": "wstTkGCSNIg5"
   },
   "source": [
    "\n",
    "**Your Turn**: Now it’s your turn! Import plotly express to get some great visuals!\n"
   ]
  },
  {
   "cell_type": "code",
   "execution_count": 8,
   "metadata": {
    "id": "NtkHVewNNJqG"
   },
   "outputs": [],
   "source": [
    "import plotly.express as px"
   ]
  },
  {
   "cell_type": "markdown",
   "metadata": {
    "id": "g_1d3angNMcK"
   },
   "source": [
    "**Explanation**: *The line import plotly.express as px imports the Plotly Express library, a high-level interface for creating interactive and dynamic visualizations in Python*."
   ]
  },
  {
   "cell_type": "markdown",
   "metadata": {
    "id": "z3qIWMzWOPJq"
   },
   "source": [
    "### Goal 7: Present a scatter plot\n",
    "\n",
    "Scatter plots help us to look at each data point when it comes to interval ratio data. The scatter plot shows us the relationship between two variables in a data set. One variable is plotted on the X-axis, while the other variable is plotted on the Y-axis. They are super handy for finding the relationship between different numeric variables."
   ]
  },
  {
   "cell_type": "markdown",
   "metadata": {
    "id": "vOl2LzBxORbp"
   },
   "source": [
    "#### Blockly"
   ]
  },
  {
   "cell_type": "markdown",
   "metadata": {
    "id": "Gma63Aj4OSrV"
   },
   "source": [
    "\n",
    "Step 1 - Call the scatter function from plotly\n",
    "**bold text**\n",
    "Let’s see if we can explore the correlations between the two variables. Let’s start with a visualization that helps ‘scatter’ all the data in one visualization.\n",
    "\n",
    "From the Variables menu, get a DO block for the **px** block. With that, select the **scatter** operation. That will generate the scatter plot.\n"
   ]
  },
  {
   "cell_type": "markdown",
   "metadata": {
    "id": "YN1-8RVGOYWD"
   },
   "source": [
    "\n",
    "**Step 2 -  Saying what data to use for the scatter plot**\n",
    "\n",
    "So what are we going to look at? Simple, you just have to inform the x-axis and y-axis variables.\n",
    "\n",
    "Inside the scatter() method, we add our parameters for the plot. First, we have the **train**,  which is the data containing the data to plot.  From the Variables menu, get the **train** variable that will contain the data that you want to generate the scatter plot with. Then, get two Quote “” blocks from the Text menu.\n"
   ]
  },
  {
   "cell_type": "markdown",
   "metadata": {
    "id": "LcfFJVKhOZJX"
   },
   "source": [
    "\n",
    "**Step 3 -  Tell plotly what columns to put on the axis**\n",
    "\n",
    "Now we need to inform the x-axis and y-axis variables.  Type for each of the names of the columns of the x-axis and y-axis as **‘Weight’** and '**CO2Emission**'.     \n"
   ]
  },
  {
   "cell_type": "markdown",
   "metadata": {
    "id": "xPWBAsJSOZ2I"
   },
   "source": [
    "\n",
    "**Step 4 - Connect the blocks to run the code**\n",
    "\n",
    "Connect the blocks and run the code!\n",
    "\n",
    "![](https://pbs.twimg.com/media/GbE_1liWwAAaKro?format=png&name=small)"
   ]
  },
  {
   "cell_type": "markdown",
   "metadata": {
    "id": "Nz1s1tc2OyzA"
   },
   "source": [
    "#### Freehand"
   ]
  },
  {
   "cell_type": "markdown",
   "metadata": {
    "id": "0m_-_RfFO0Rz"
   },
   "source": [
    "**Step 1 - Call the scatter function from plotly**\n",
    "\n",
    "Let’s see if we can explore the correlations between the two variables. Let’s start with a visualization that helps ‘scatter’ all the data in one visualization.\n",
    "\n",
    "To make the scatterplot, we first call the **scatter**() function from the px library.\n",
    "\n",
    "`px.scatter()`\n",
    "\n"
   ]
  },
  {
   "cell_type": "markdown",
   "metadata": {
    "id": "6TMN0OeeO6Mv"
   },
   "source": [
    "**Step 2 - Saying what data to use for the scatter plot**\n",
    "\n",
    "So what are we going to look at? Simple, you just have to inform the x-axis and y-axis variables.\n",
    "\n",
    "Inside the scatter() method, we add our parameters for the plot. First, we have the **train**, which is the data containing the data to plot\n"
   ]
  },
  {
   "cell_type": "markdown",
   "metadata": {
    "id": "P-iht485O7th"
   },
   "source": [
    "\n",
    "**Step 3 - Tell plotly what columns to put on the axis**\n",
    "\n",
    "‘Weight’ is the column to be plotted on the x-axis, representing the weight of the cars. '**CO2Emission’** is the amount of CO2 emissions we have recorded. This second thing is the column to be plotted on the y-axis.\n",
    "\n",
    "Inside the scatter() method, we add the following parameters to make our scatterplot.\n",
    "- **train**: the name of the dataframe\n",
    "- **Weight**: the data to plot in the X-Axis\n",
    "- **CO2Emission**: the data to plot in the Y-Axis\n"
   ]
  },
  {
   "cell_type": "markdown",
   "metadata": {
    "id": "deU0czlkO8qH"
   },
   "source": [
    "\n",
    "**Step 4 - Run the code**\n",
    "\n",
    "Hit ‘control’ and ‘enter’ at the same time to run the code!\n",
    "\n",
    "![](https://pbs.twimg.com/media/GbE_xP_WgAA5J88?format=png&name=small)"
   ]
  },
  {
   "cell_type": "markdown",
   "metadata": {
    "id": "YcpxB7AtPfml"
   },
   "source": [
    "**Your Turn**: Now you give a go! Let’s start by creating a scatterplot using px.scatter so we can better visualize the relationship between each of our variables.\n"
   ]
  },
  {
   "cell_type": "code",
   "execution_count": 9,
   "metadata": {
    "colab": {
     "base_uri": "https://localhost:8080/",
     "height": 542
    },
    "id": "eXP8XQmMPhDh",
    "outputId": "267b1312-8faf-4800-e96d-3779d903a510"
   },
   "outputs": [
    {
     "data": {
      "text/html": [
       "<html>\n",
       "<head><meta charset=\"utf-8\" /></head>\n",
       "<body>\n",
       "    <div>            <script src=\"https://cdnjs.cloudflare.com/ajax/libs/mathjax/2.7.5/MathJax.js?config=TeX-AMS-MML_SVG\"></script><script type=\"text/javascript\">if (window.MathJax && window.MathJax.Hub && window.MathJax.Hub.Config) {window.MathJax.Hub.Config({SVG: {font: \"STIX-Web\"}});}</script>                <script type=\"text/javascript\">window.PlotlyConfig = {MathJaxConfig: 'local'};</script>\n",
       "        <script charset=\"utf-8\" src=\"https://cdn.plot.ly/plotly-2.35.2.min.js\"></script>                <div id=\"f4803a87-eb1b-43df-b171-4a4c38c9e6eb\" class=\"plotly-graph-div\" style=\"height:525px; width:100%;\"></div>            <script type=\"text/javascript\">                                    window.PLOTLYENV=window.PLOTLYENV || {};                                    if (document.getElementById(\"f4803a87-eb1b-43df-b171-4a4c38c9e6eb\")) {                    Plotly.newPlot(                        \"f4803a87-eb1b-43df-b171-4a4c38c9e6eb\",                        [{\"hovertemplate\":\"Weight=%{x}\\u003cbr\\u003eCO2Emission=%{y}\\u003cextra\\u003e\\u003c\\u002fextra\\u003e\",\"legendgroup\":\"\",\"marker\":{\"color\":\"#636efa\",\"symbol\":\"circle\"},\"mode\":\"markers\",\"name\":\"\",\"orientation\":\"v\",\"showlegend\":false,\"x\":[1300,1495,1680,1375,1965,2200,1655,2020,1350,1580,2260,1460,1705,1685,2030,1290,1490,1610,1425,1975,1470,1640,1250,2000,1600,1570,2190,1825,1820,2195,1530,1760,1835,2130,2080,1520,1765,1695,2170,1370,1320,1650,1470,1420,2000,1275,1590,1810,1410,1440],\"xaxis\":\"x\",\"y\":[120,135,140,90,165,255,180,200,115,150,260,135,155,190,210,110,130,140,115,180,130,145,110,195,145,140,195,160,170,205,130,150,170,190,175,135,160,145,200,120,115,140,125,120,190,115,140,165,125,130],\"yaxis\":\"y\",\"type\":\"scatter\"}],                        {\"template\":{\"data\":{\"histogram2dcontour\":[{\"type\":\"histogram2dcontour\",\"colorbar\":{\"outlinewidth\":0,\"ticks\":\"\"},\"colorscale\":[[0.0,\"#0d0887\"],[0.1111111111111111,\"#46039f\"],[0.2222222222222222,\"#7201a8\"],[0.3333333333333333,\"#9c179e\"],[0.4444444444444444,\"#bd3786\"],[0.5555555555555556,\"#d8576b\"],[0.6666666666666666,\"#ed7953\"],[0.7777777777777778,\"#fb9f3a\"],[0.8888888888888888,\"#fdca26\"],[1.0,\"#f0f921\"]]}],\"choropleth\":[{\"type\":\"choropleth\",\"colorbar\":{\"outlinewidth\":0,\"ticks\":\"\"}}],\"histogram2d\":[{\"type\":\"histogram2d\",\"colorbar\":{\"outlinewidth\":0,\"ticks\":\"\"},\"colorscale\":[[0.0,\"#0d0887\"],[0.1111111111111111,\"#46039f\"],[0.2222222222222222,\"#7201a8\"],[0.3333333333333333,\"#9c179e\"],[0.4444444444444444,\"#bd3786\"],[0.5555555555555556,\"#d8576b\"],[0.6666666666666666,\"#ed7953\"],[0.7777777777777778,\"#fb9f3a\"],[0.8888888888888888,\"#fdca26\"],[1.0,\"#f0f921\"]]}],\"heatmap\":[{\"type\":\"heatmap\",\"colorbar\":{\"outlinewidth\":0,\"ticks\":\"\"},\"colorscale\":[[0.0,\"#0d0887\"],[0.1111111111111111,\"#46039f\"],[0.2222222222222222,\"#7201a8\"],[0.3333333333333333,\"#9c179e\"],[0.4444444444444444,\"#bd3786\"],[0.5555555555555556,\"#d8576b\"],[0.6666666666666666,\"#ed7953\"],[0.7777777777777778,\"#fb9f3a\"],[0.8888888888888888,\"#fdca26\"],[1.0,\"#f0f921\"]]}],\"heatmapgl\":[{\"type\":\"heatmapgl\",\"colorbar\":{\"outlinewidth\":0,\"ticks\":\"\"},\"colorscale\":[[0.0,\"#0d0887\"],[0.1111111111111111,\"#46039f\"],[0.2222222222222222,\"#7201a8\"],[0.3333333333333333,\"#9c179e\"],[0.4444444444444444,\"#bd3786\"],[0.5555555555555556,\"#d8576b\"],[0.6666666666666666,\"#ed7953\"],[0.7777777777777778,\"#fb9f3a\"],[0.8888888888888888,\"#fdca26\"],[1.0,\"#f0f921\"]]}],\"contourcarpet\":[{\"type\":\"contourcarpet\",\"colorbar\":{\"outlinewidth\":0,\"ticks\":\"\"}}],\"contour\":[{\"type\":\"contour\",\"colorbar\":{\"outlinewidth\":0,\"ticks\":\"\"},\"colorscale\":[[0.0,\"#0d0887\"],[0.1111111111111111,\"#46039f\"],[0.2222222222222222,\"#7201a8\"],[0.3333333333333333,\"#9c179e\"],[0.4444444444444444,\"#bd3786\"],[0.5555555555555556,\"#d8576b\"],[0.6666666666666666,\"#ed7953\"],[0.7777777777777778,\"#fb9f3a\"],[0.8888888888888888,\"#fdca26\"],[1.0,\"#f0f921\"]]}],\"surface\":[{\"type\":\"surface\",\"colorbar\":{\"outlinewidth\":0,\"ticks\":\"\"},\"colorscale\":[[0.0,\"#0d0887\"],[0.1111111111111111,\"#46039f\"],[0.2222222222222222,\"#7201a8\"],[0.3333333333333333,\"#9c179e\"],[0.4444444444444444,\"#bd3786\"],[0.5555555555555556,\"#d8576b\"],[0.6666666666666666,\"#ed7953\"],[0.7777777777777778,\"#fb9f3a\"],[0.8888888888888888,\"#fdca26\"],[1.0,\"#f0f921\"]]}],\"mesh3d\":[{\"type\":\"mesh3d\",\"colorbar\":{\"outlinewidth\":0,\"ticks\":\"\"}}],\"scatter\":[{\"fillpattern\":{\"fillmode\":\"overlay\",\"size\":10,\"solidity\":0.2},\"type\":\"scatter\"}],\"parcoords\":[{\"type\":\"parcoords\",\"line\":{\"colorbar\":{\"outlinewidth\":0,\"ticks\":\"\"}}}],\"scatterpolargl\":[{\"type\":\"scatterpolargl\",\"marker\":{\"colorbar\":{\"outlinewidth\":0,\"ticks\":\"\"}}}],\"bar\":[{\"error_x\":{\"color\":\"#2a3f5f\"},\"error_y\":{\"color\":\"#2a3f5f\"},\"marker\":{\"line\":{\"color\":\"#E5ECF6\",\"width\":0.5},\"pattern\":{\"fillmode\":\"overlay\",\"size\":10,\"solidity\":0.2}},\"type\":\"bar\"}],\"scattergeo\":[{\"type\":\"scattergeo\",\"marker\":{\"colorbar\":{\"outlinewidth\":0,\"ticks\":\"\"}}}],\"scatterpolar\":[{\"type\":\"scatterpolar\",\"marker\":{\"colorbar\":{\"outlinewidth\":0,\"ticks\":\"\"}}}],\"histogram\":[{\"marker\":{\"pattern\":{\"fillmode\":\"overlay\",\"size\":10,\"solidity\":0.2}},\"type\":\"histogram\"}],\"scattergl\":[{\"type\":\"scattergl\",\"marker\":{\"colorbar\":{\"outlinewidth\":0,\"ticks\":\"\"}}}],\"scatter3d\":[{\"type\":\"scatter3d\",\"line\":{\"colorbar\":{\"outlinewidth\":0,\"ticks\":\"\"}},\"marker\":{\"colorbar\":{\"outlinewidth\":0,\"ticks\":\"\"}}}],\"scattermapbox\":[{\"type\":\"scattermapbox\",\"marker\":{\"colorbar\":{\"outlinewidth\":0,\"ticks\":\"\"}}}],\"scatterternary\":[{\"type\":\"scatterternary\",\"marker\":{\"colorbar\":{\"outlinewidth\":0,\"ticks\":\"\"}}}],\"scattercarpet\":[{\"type\":\"scattercarpet\",\"marker\":{\"colorbar\":{\"outlinewidth\":0,\"ticks\":\"\"}}}],\"carpet\":[{\"aaxis\":{\"endlinecolor\":\"#2a3f5f\",\"gridcolor\":\"white\",\"linecolor\":\"white\",\"minorgridcolor\":\"white\",\"startlinecolor\":\"#2a3f5f\"},\"baxis\":{\"endlinecolor\":\"#2a3f5f\",\"gridcolor\":\"white\",\"linecolor\":\"white\",\"minorgridcolor\":\"white\",\"startlinecolor\":\"#2a3f5f\"},\"type\":\"carpet\"}],\"table\":[{\"cells\":{\"fill\":{\"color\":\"#EBF0F8\"},\"line\":{\"color\":\"white\"}},\"header\":{\"fill\":{\"color\":\"#C8D4E3\"},\"line\":{\"color\":\"white\"}},\"type\":\"table\"}],\"barpolar\":[{\"marker\":{\"line\":{\"color\":\"#E5ECF6\",\"width\":0.5},\"pattern\":{\"fillmode\":\"overlay\",\"size\":10,\"solidity\":0.2}},\"type\":\"barpolar\"}],\"pie\":[{\"automargin\":true,\"type\":\"pie\"}]},\"layout\":{\"autotypenumbers\":\"strict\",\"colorway\":[\"#636efa\",\"#EF553B\",\"#00cc96\",\"#ab63fa\",\"#FFA15A\",\"#19d3f3\",\"#FF6692\",\"#B6E880\",\"#FF97FF\",\"#FECB52\"],\"font\":{\"color\":\"#2a3f5f\"},\"hovermode\":\"closest\",\"hoverlabel\":{\"align\":\"left\"},\"paper_bgcolor\":\"white\",\"plot_bgcolor\":\"#E5ECF6\",\"polar\":{\"bgcolor\":\"#E5ECF6\",\"angularaxis\":{\"gridcolor\":\"white\",\"linecolor\":\"white\",\"ticks\":\"\"},\"radialaxis\":{\"gridcolor\":\"white\",\"linecolor\":\"white\",\"ticks\":\"\"}},\"ternary\":{\"bgcolor\":\"#E5ECF6\",\"aaxis\":{\"gridcolor\":\"white\",\"linecolor\":\"white\",\"ticks\":\"\"},\"baxis\":{\"gridcolor\":\"white\",\"linecolor\":\"white\",\"ticks\":\"\"},\"caxis\":{\"gridcolor\":\"white\",\"linecolor\":\"white\",\"ticks\":\"\"}},\"coloraxis\":{\"colorbar\":{\"outlinewidth\":0,\"ticks\":\"\"}},\"colorscale\":{\"sequential\":[[0.0,\"#0d0887\"],[0.1111111111111111,\"#46039f\"],[0.2222222222222222,\"#7201a8\"],[0.3333333333333333,\"#9c179e\"],[0.4444444444444444,\"#bd3786\"],[0.5555555555555556,\"#d8576b\"],[0.6666666666666666,\"#ed7953\"],[0.7777777777777778,\"#fb9f3a\"],[0.8888888888888888,\"#fdca26\"],[1.0,\"#f0f921\"]],\"sequentialminus\":[[0.0,\"#0d0887\"],[0.1111111111111111,\"#46039f\"],[0.2222222222222222,\"#7201a8\"],[0.3333333333333333,\"#9c179e\"],[0.4444444444444444,\"#bd3786\"],[0.5555555555555556,\"#d8576b\"],[0.6666666666666666,\"#ed7953\"],[0.7777777777777778,\"#fb9f3a\"],[0.8888888888888888,\"#fdca26\"],[1.0,\"#f0f921\"]],\"diverging\":[[0,\"#8e0152\"],[0.1,\"#c51b7d\"],[0.2,\"#de77ae\"],[0.3,\"#f1b6da\"],[0.4,\"#fde0ef\"],[0.5,\"#f7f7f7\"],[0.6,\"#e6f5d0\"],[0.7,\"#b8e186\"],[0.8,\"#7fbc41\"],[0.9,\"#4d9221\"],[1,\"#276419\"]]},\"xaxis\":{\"gridcolor\":\"white\",\"linecolor\":\"white\",\"ticks\":\"\",\"title\":{\"standoff\":15},\"zerolinecolor\":\"white\",\"automargin\":true,\"zerolinewidth\":2},\"yaxis\":{\"gridcolor\":\"white\",\"linecolor\":\"white\",\"ticks\":\"\",\"title\":{\"standoff\":15},\"zerolinecolor\":\"white\",\"automargin\":true,\"zerolinewidth\":2},\"scene\":{\"xaxis\":{\"backgroundcolor\":\"#E5ECF6\",\"gridcolor\":\"white\",\"linecolor\":\"white\",\"showbackground\":true,\"ticks\":\"\",\"zerolinecolor\":\"white\",\"gridwidth\":2},\"yaxis\":{\"backgroundcolor\":\"#E5ECF6\",\"gridcolor\":\"white\",\"linecolor\":\"white\",\"showbackground\":true,\"ticks\":\"\",\"zerolinecolor\":\"white\",\"gridwidth\":2},\"zaxis\":{\"backgroundcolor\":\"#E5ECF6\",\"gridcolor\":\"white\",\"linecolor\":\"white\",\"showbackground\":true,\"ticks\":\"\",\"zerolinecolor\":\"white\",\"gridwidth\":2}},\"shapedefaults\":{\"line\":{\"color\":\"#2a3f5f\"}},\"annotationdefaults\":{\"arrowcolor\":\"#2a3f5f\",\"arrowhead\":0,\"arrowwidth\":1},\"geo\":{\"bgcolor\":\"white\",\"landcolor\":\"#E5ECF6\",\"subunitcolor\":\"white\",\"showland\":true,\"showlakes\":true,\"lakecolor\":\"white\"},\"title\":{\"x\":0.05},\"mapbox\":{\"style\":\"light\"}}},\"xaxis\":{\"anchor\":\"y\",\"domain\":[0.0,1.0],\"title\":{\"text\":\"Weight\"}},\"yaxis\":{\"anchor\":\"x\",\"domain\":[0.0,1.0],\"title\":{\"text\":\"CO2Emission\"}},\"legend\":{\"tracegroupgap\":0},\"margin\":{\"t\":60}},                        {\"responsive\": true}                    ).then(function(){\n",
       "                            \n",
       "var gd = document.getElementById('f4803a87-eb1b-43df-b171-4a4c38c9e6eb');\n",
       "var x = new MutationObserver(function (mutations, observer) {{\n",
       "        var display = window.getComputedStyle(gd).display;\n",
       "        if (!display || display === 'none') {{\n",
       "            console.log([gd, 'removed!']);\n",
       "            Plotly.purge(gd);\n",
       "            observer.disconnect();\n",
       "        }}\n",
       "}});\n",
       "\n",
       "// Listen for the removal of the full notebook cells\n",
       "var notebookContainer = gd.closest('#notebook-container');\n",
       "if (notebookContainer) {{\n",
       "    x.observe(notebookContainer, {childList: true});\n",
       "}}\n",
       "\n",
       "// Listen for the clearing of the current output cell\n",
       "var outputEl = gd.closest('.output');\n",
       "if (outputEl) {{\n",
       "    x.observe(outputEl, {childList: true});\n",
       "}}\n",
       "\n",
       "                        })                };                            </script>        </div>\n",
       "</body>\n",
       "</html>"
      ]
     },
     "metadata": {},
     "output_type": "display_data"
    }
   ],
   "source": [
    "px.scatter(train,'Weight','CO2Emission')"
   ]
  },
  {
   "cell_type": "markdown",
   "metadata": {
    "id": "cGbOVrtbPifo"
   },
   "source": [
    "**Explanation**: *The scatter plot shows how the weight of an object (like a car) is related to the amount of CO2 it emits. Each dot represents a sample with its specific weight and CO2 emission level. We can see a general upward trend: as the weight increases, CO2 emissions tend to be higher as well. This suggests that heavier objects or vehicles usually produce more CO2. However, the points don't form a perfect line, which means there are other factors besides weight that also affect CO2 emissions*."
   ]
  },
  {
   "cell_type": "markdown",
   "metadata": {
    "id": "DGIP8TpLPkiL"
   },
   "source": [
    "### Goal 8: Create a scatter plot and trendline to visualize the correlation between two variables\n",
    "\n",
    "We’re going to create a scatter plot to explore the correlation between the weight of cars and their CO2 emissions. You'll be able to visualize the data and see the trendline that shows their relationship. Let's get started!"
   ]
  },
  {
   "cell_type": "markdown",
   "metadata": {
    "id": "Ai6JOeimPpV_"
   },
   "source": [
    "#### Blockly"
   ]
  },
  {
   "cell_type": "markdown",
   "metadata": {
    "id": "_hJa4JrHPyJw"
   },
   "source": [
    "\n",
    "**Step 1 - Call the scatter function from plotly**\n",
    "\n",
    "Let’s see if we can explore the correlations between the two variables. Let’s start with a visualization that helps ‘scatter’ all the data on one visualization.\n",
    "\n",
    "From the Variables menu, get a DO block for the **px** block. With that, select the **scatter** operation. That will generate the scatter plot.\n"
   ]
  },
  {
   "cell_type": "markdown",
   "metadata": {
    "id": "KDO4LOqTP1Bw"
   },
   "source": [
    "\n",
    "**Step 2 -  Saying what data to use for the scatter plot**\n",
    "\n",
    "So what are we going to look at? Simple, you just have to inform the x-axis and y-axis variables.\n",
    "\n",
    "Inside the scatter() method, we add our parameters for the plot. First, we have the **train**,  which is the data containing the data to plot.  From the Variables menu, get the **train** variable that will contain the data that you want to generate the scatter plot with. Then, get two Quote “” blocks from the Text menu.\n"
   ]
  },
  {
   "cell_type": "markdown",
   "metadata": {
    "id": "M5Hede1IP2DG"
   },
   "source": [
    "\n",
    "**Step 3 -  Tell plotly what columns to put on the axis**\n",
    "\n",
    "Now we need to inform the x-axis and y-axis variables.  Type for each of the names of the columns of the x-axis and y-axis as **‘Weight’** and '**CO2Emission**'.     \n"
   ]
  },
  {
   "cell_type": "markdown",
   "metadata": {
    "id": "faIELlIPP28d"
   },
   "source": [
    "\n",
    "**Step 4 - Show the linear regression**\n",
    "\n",
    "Lastly, we want to add a trendline to our scatter plot to help visualize the relationship between the x and y variables.\n",
    "\n",
    "In this case, using **freestyle**, type **trendline='ols'**. This will be the least ordered square that we talked about earlier. This will give us the scatterplot, which will show the relationship between the weight of the car and the amount of CO2 it emits.\n"
   ]
  },
  {
   "cell_type": "markdown",
   "metadata": {
    "id": "NuI_-V2PP326"
   },
   "source": [
    "\n",
    "**Step 5 - Connect the blocks to run the code**\n",
    "\n",
    "Connect the blocks and run the code!\n",
    "\n",
    "![](https://pbs.twimg.com/media/Gab603uXMAA2kms?format=png&name=small)"
   ]
  },
  {
   "cell_type": "markdown",
   "metadata": {
    "id": "0ke__TuAQfrC"
   },
   "source": [
    "#### Freehand"
   ]
  },
  {
   "cell_type": "markdown",
   "metadata": {
    "id": "vUiOg2QDQm1I"
   },
   "source": [
    "\n",
    "**Step 1 - Call the scatter function from plotly**\n",
    "\n",
    "Let’s see if we can explore the correlations between the two variables. Let’s start with a visualization that helps ‘scatter’ all the data in one visualization.\n",
    "\n",
    "To make the scatterplot, we first call the scatter() function from the px library.\n",
    "\n",
    "`px.scatter()`"
   ]
  },
  {
   "cell_type": "markdown",
   "metadata": {
    "id": "emjYW-7xQpcM"
   },
   "source": [
    "\n",
    "\n",
    "**Step 2 - Saying what data to use for the scatter plot**\n",
    "\n",
    "So what are we going to look at? Simple, you just have to inform the x-axis and y-axis variables.\n",
    "\n",
    "Inside the scatter() method, we add our parameters for the plot. First, we have the **train**, which is the data containing the data to plot"
   ]
  },
  {
   "cell_type": "markdown",
   "metadata": {
    "id": "l90Nw6Q-Qrcc"
   },
   "source": [
    "\n",
    "\n",
    "Step 3 - Tell plotly what columns to put on the axis\n",
    "\n",
    "**‘Weight’** is the column to be plotted on the x-axis, representing the weight of the cars. '**CO2Emission’** is the amount of CO2 emissions we have recorded. This second thing is the column to be plotted on the y-axis.\n",
    "\n",
    "Inside the scatter() method, we add the following parameters to make our scatterplot.\n",
    "- **train**: the name of the dataframe\n",
    "- **Weight**: the data to plot in the X-Axis\n",
    "- **CO2Emission**: the data to plot in the Y-Axis\n"
   ]
  },
  {
   "cell_type": "markdown",
   "metadata": {
    "id": "2b0nzCAKQtJC"
   },
   "source": [
    "\n",
    "**Step 4 - Show the linear regression**\n",
    "\n",
    "Lastly, we want to add a trendline to our scatter plot to help visualize the relationship between the x and y variables. In this case, we’ll type type **trendline='ols'**. This will be the least ordered square that we talked about earlier\n",
    "trendline=’ols’: this parameter adds a trendline to the scatter plot to help visualize the relationship between the x and y variables\n",
    "\n",
    "This will give us the scatterplot, which will show the relationship between the weight of the car and the amount of CO2 it emits.\n",
    "\n",
    "`px.scatter(train,'Weight','CO2Emission',trendline='ols')`\n"
   ]
  },
  {
   "cell_type": "markdown",
   "metadata": {
    "id": "tRL9ZdpnQucW"
   },
   "source": [
    "\n",
    "\n",
    "**Step 5 - Run the code**\n",
    "\n",
    "Hit ‘control’ and ‘enter’ at the same time to run the code!\n",
    "\n",
    "![](https://pbs.twimg.com/media/Gab6yUOXcAIM6_H?format=jpg&name=small)"
   ]
  },
  {
   "cell_type": "markdown",
   "metadata": {
    "id": "oRLul26JRajP"
   },
   "source": [
    "**Your Turn**: Test it out yourself! Firstly we will create a scatterplot to explore our two variables: car weight and CO2 emissions, to see their relationship. Make sure to set the x and y axis with the correct data then we can add a trendline to see the pattern between the variables and better understand their relationship!\n"
   ]
  },
  {
   "cell_type": "code",
   "execution_count": 10,
   "metadata": {
    "colab": {
     "base_uri": "https://localhost:8080/",
     "height": 542
    },
    "id": "KrNEu7hcRbZr",
    "outputId": "7fe144cd-e880-409f-e077-854684d47732"
   },
   "outputs": [
    {
     "data": {
      "text/html": [
       "<html>\n",
       "<head><meta charset=\"utf-8\" /></head>\n",
       "<body>\n",
       "    <div>            <script src=\"https://cdnjs.cloudflare.com/ajax/libs/mathjax/2.7.5/MathJax.js?config=TeX-AMS-MML_SVG\"></script><script type=\"text/javascript\">if (window.MathJax && window.MathJax.Hub && window.MathJax.Hub.Config) {window.MathJax.Hub.Config({SVG: {font: \"STIX-Web\"}});}</script>                <script type=\"text/javascript\">window.PlotlyConfig = {MathJaxConfig: 'local'};</script>\n",
       "        <script charset=\"utf-8\" src=\"https://cdn.plot.ly/plotly-2.35.2.min.js\"></script>                <div id=\"30f7515f-cadb-42de-b190-cdd7d8034e86\" class=\"plotly-graph-div\" style=\"height:525px; width:100%;\"></div>            <script type=\"text/javascript\">                                    window.PLOTLYENV=window.PLOTLYENV || {};                                    if (document.getElementById(\"30f7515f-cadb-42de-b190-cdd7d8034e86\")) {                    Plotly.newPlot(                        \"30f7515f-cadb-42de-b190-cdd7d8034e86\",                        [{\"hovertemplate\":\"Weight=%{x}\\u003cbr\\u003eCO2Emission=%{y}\\u003cextra\\u003e\\u003c\\u002fextra\\u003e\",\"legendgroup\":\"\",\"marker\":{\"color\":\"#636efa\",\"symbol\":\"circle\"},\"mode\":\"markers\",\"name\":\"\",\"orientation\":\"v\",\"showlegend\":false,\"x\":[1300,1495,1680,1375,1965,2200,1655,2020,1350,1580,2260,1460,1705,1685,2030,1290,1490,1610,1425,1975,1470,1640,1250,2000,1600,1570,2190,1825,1820,2195,1530,1760,1835,2130,2080,1520,1765,1695,2170,1370,1320,1650,1470,1420,2000,1275,1590,1810,1410,1440],\"xaxis\":\"x\",\"y\":[120,135,140,90,165,255,180,200,115,150,260,135,155,190,210,110,130,140,115,180,130,145,110,195,145,140,195,160,170,205,130,150,170,190,175,135,160,145,200,120,115,140,125,120,190,115,140,165,125,130],\"yaxis\":\"y\",\"type\":\"scatter\"},{\"hovertemplate\":\"\\u003cb\\u003eOLS trendline\\u003c\\u002fb\\u003e\\u003cbr\\u003eCO2Emission = 0.116655 * Weight + -42.5973\\u003cbr\\u003eR\\u003csup\\u003e2\\u003c\\u002fsup\\u003e=0.851661\\u003cbr\\u003e\\u003cbr\\u003eWeight=%{x}\\u003cbr\\u003eCO2Emission=%{y} \\u003cb\\u003e(trend)\\u003c\\u002fb\\u003e\\u003cextra\\u003e\\u003c\\u002fextra\\u003e\",\"legendgroup\":\"\",\"marker\":{\"color\":\"#636efa\",\"symbol\":\"circle\"},\"mode\":\"lines\",\"name\":\"\",\"showlegend\":false,\"x\":[1250,1275,1290,1300,1320,1350,1370,1375,1410,1420,1425,1440,1460,1470,1470,1490,1495,1520,1530,1570,1580,1590,1600,1610,1640,1650,1655,1680,1685,1695,1705,1760,1765,1810,1820,1825,1835,1965,1975,2000,2000,2020,2030,2080,2130,2170,2190,2195,2200,2260],\"xaxis\":\"x\",\"y\":[103.22167079724196,106.13805118641577,107.88787941992004,109.05443157558958,111.38753588692862,114.88719235393717,117.22029666527621,117.80357274311098,121.8865052879543,123.05305744362383,123.6363335214586,125.38616175496287,127.71926606630191,128.88581822197142,128.88581822197142,131.21892253331046,131.80219861114523,134.71857900031904,135.88513115598855,140.55133977866663,141.71789193433617,142.8844440900057,144.0509962456752,145.21754840134474,148.7172048683533,149.88375702402283,150.46703310185757,153.38341349103138,153.96668956886614,155.13324172453565,156.2997938802052,162.71583073638755,163.2991068142223,168.54859151473516,169.71514367040467,170.29841974823944,171.46497190390897,186.63014992761273,187.79670208328227,190.71308247245608,190.71308247245608,193.04618678379512,194.21273893946463,200.04549971781225,205.87826049615984,210.54446911883792,212.87757343017697,213.46084950801173,214.04412558584647,221.04343851986363],\"yaxis\":\"y\",\"type\":\"scatter\"}],                        {\"template\":{\"data\":{\"histogram2dcontour\":[{\"type\":\"histogram2dcontour\",\"colorbar\":{\"outlinewidth\":0,\"ticks\":\"\"},\"colorscale\":[[0.0,\"#0d0887\"],[0.1111111111111111,\"#46039f\"],[0.2222222222222222,\"#7201a8\"],[0.3333333333333333,\"#9c179e\"],[0.4444444444444444,\"#bd3786\"],[0.5555555555555556,\"#d8576b\"],[0.6666666666666666,\"#ed7953\"],[0.7777777777777778,\"#fb9f3a\"],[0.8888888888888888,\"#fdca26\"],[1.0,\"#f0f921\"]]}],\"choropleth\":[{\"type\":\"choropleth\",\"colorbar\":{\"outlinewidth\":0,\"ticks\":\"\"}}],\"histogram2d\":[{\"type\":\"histogram2d\",\"colorbar\":{\"outlinewidth\":0,\"ticks\":\"\"},\"colorscale\":[[0.0,\"#0d0887\"],[0.1111111111111111,\"#46039f\"],[0.2222222222222222,\"#7201a8\"],[0.3333333333333333,\"#9c179e\"],[0.4444444444444444,\"#bd3786\"],[0.5555555555555556,\"#d8576b\"],[0.6666666666666666,\"#ed7953\"],[0.7777777777777778,\"#fb9f3a\"],[0.8888888888888888,\"#fdca26\"],[1.0,\"#f0f921\"]]}],\"heatmap\":[{\"type\":\"heatmap\",\"colorbar\":{\"outlinewidth\":0,\"ticks\":\"\"},\"colorscale\":[[0.0,\"#0d0887\"],[0.1111111111111111,\"#46039f\"],[0.2222222222222222,\"#7201a8\"],[0.3333333333333333,\"#9c179e\"],[0.4444444444444444,\"#bd3786\"],[0.5555555555555556,\"#d8576b\"],[0.6666666666666666,\"#ed7953\"],[0.7777777777777778,\"#fb9f3a\"],[0.8888888888888888,\"#fdca26\"],[1.0,\"#f0f921\"]]}],\"heatmapgl\":[{\"type\":\"heatmapgl\",\"colorbar\":{\"outlinewidth\":0,\"ticks\":\"\"},\"colorscale\":[[0.0,\"#0d0887\"],[0.1111111111111111,\"#46039f\"],[0.2222222222222222,\"#7201a8\"],[0.3333333333333333,\"#9c179e\"],[0.4444444444444444,\"#bd3786\"],[0.5555555555555556,\"#d8576b\"],[0.6666666666666666,\"#ed7953\"],[0.7777777777777778,\"#fb9f3a\"],[0.8888888888888888,\"#fdca26\"],[1.0,\"#f0f921\"]]}],\"contourcarpet\":[{\"type\":\"contourcarpet\",\"colorbar\":{\"outlinewidth\":0,\"ticks\":\"\"}}],\"contour\":[{\"type\":\"contour\",\"colorbar\":{\"outlinewidth\":0,\"ticks\":\"\"},\"colorscale\":[[0.0,\"#0d0887\"],[0.1111111111111111,\"#46039f\"],[0.2222222222222222,\"#7201a8\"],[0.3333333333333333,\"#9c179e\"],[0.4444444444444444,\"#bd3786\"],[0.5555555555555556,\"#d8576b\"],[0.6666666666666666,\"#ed7953\"],[0.7777777777777778,\"#fb9f3a\"],[0.8888888888888888,\"#fdca26\"],[1.0,\"#f0f921\"]]}],\"surface\":[{\"type\":\"surface\",\"colorbar\":{\"outlinewidth\":0,\"ticks\":\"\"},\"colorscale\":[[0.0,\"#0d0887\"],[0.1111111111111111,\"#46039f\"],[0.2222222222222222,\"#7201a8\"],[0.3333333333333333,\"#9c179e\"],[0.4444444444444444,\"#bd3786\"],[0.5555555555555556,\"#d8576b\"],[0.6666666666666666,\"#ed7953\"],[0.7777777777777778,\"#fb9f3a\"],[0.8888888888888888,\"#fdca26\"],[1.0,\"#f0f921\"]]}],\"mesh3d\":[{\"type\":\"mesh3d\",\"colorbar\":{\"outlinewidth\":0,\"ticks\":\"\"}}],\"scatter\":[{\"fillpattern\":{\"fillmode\":\"overlay\",\"size\":10,\"solidity\":0.2},\"type\":\"scatter\"}],\"parcoords\":[{\"type\":\"parcoords\",\"line\":{\"colorbar\":{\"outlinewidth\":0,\"ticks\":\"\"}}}],\"scatterpolargl\":[{\"type\":\"scatterpolargl\",\"marker\":{\"colorbar\":{\"outlinewidth\":0,\"ticks\":\"\"}}}],\"bar\":[{\"error_x\":{\"color\":\"#2a3f5f\"},\"error_y\":{\"color\":\"#2a3f5f\"},\"marker\":{\"line\":{\"color\":\"#E5ECF6\",\"width\":0.5},\"pattern\":{\"fillmode\":\"overlay\",\"size\":10,\"solidity\":0.2}},\"type\":\"bar\"}],\"scattergeo\":[{\"type\":\"scattergeo\",\"marker\":{\"colorbar\":{\"outlinewidth\":0,\"ticks\":\"\"}}}],\"scatterpolar\":[{\"type\":\"scatterpolar\",\"marker\":{\"colorbar\":{\"outlinewidth\":0,\"ticks\":\"\"}}}],\"histogram\":[{\"marker\":{\"pattern\":{\"fillmode\":\"overlay\",\"size\":10,\"solidity\":0.2}},\"type\":\"histogram\"}],\"scattergl\":[{\"type\":\"scattergl\",\"marker\":{\"colorbar\":{\"outlinewidth\":0,\"ticks\":\"\"}}}],\"scatter3d\":[{\"type\":\"scatter3d\",\"line\":{\"colorbar\":{\"outlinewidth\":0,\"ticks\":\"\"}},\"marker\":{\"colorbar\":{\"outlinewidth\":0,\"ticks\":\"\"}}}],\"scattermapbox\":[{\"type\":\"scattermapbox\",\"marker\":{\"colorbar\":{\"outlinewidth\":0,\"ticks\":\"\"}}}],\"scatterternary\":[{\"type\":\"scatterternary\",\"marker\":{\"colorbar\":{\"outlinewidth\":0,\"ticks\":\"\"}}}],\"scattercarpet\":[{\"type\":\"scattercarpet\",\"marker\":{\"colorbar\":{\"outlinewidth\":0,\"ticks\":\"\"}}}],\"carpet\":[{\"aaxis\":{\"endlinecolor\":\"#2a3f5f\",\"gridcolor\":\"white\",\"linecolor\":\"white\",\"minorgridcolor\":\"white\",\"startlinecolor\":\"#2a3f5f\"},\"baxis\":{\"endlinecolor\":\"#2a3f5f\",\"gridcolor\":\"white\",\"linecolor\":\"white\",\"minorgridcolor\":\"white\",\"startlinecolor\":\"#2a3f5f\"},\"type\":\"carpet\"}],\"table\":[{\"cells\":{\"fill\":{\"color\":\"#EBF0F8\"},\"line\":{\"color\":\"white\"}},\"header\":{\"fill\":{\"color\":\"#C8D4E3\"},\"line\":{\"color\":\"white\"}},\"type\":\"table\"}],\"barpolar\":[{\"marker\":{\"line\":{\"color\":\"#E5ECF6\",\"width\":0.5},\"pattern\":{\"fillmode\":\"overlay\",\"size\":10,\"solidity\":0.2}},\"type\":\"barpolar\"}],\"pie\":[{\"automargin\":true,\"type\":\"pie\"}]},\"layout\":{\"autotypenumbers\":\"strict\",\"colorway\":[\"#636efa\",\"#EF553B\",\"#00cc96\",\"#ab63fa\",\"#FFA15A\",\"#19d3f3\",\"#FF6692\",\"#B6E880\",\"#FF97FF\",\"#FECB52\"],\"font\":{\"color\":\"#2a3f5f\"},\"hovermode\":\"closest\",\"hoverlabel\":{\"align\":\"left\"},\"paper_bgcolor\":\"white\",\"plot_bgcolor\":\"#E5ECF6\",\"polar\":{\"bgcolor\":\"#E5ECF6\",\"angularaxis\":{\"gridcolor\":\"white\",\"linecolor\":\"white\",\"ticks\":\"\"},\"radialaxis\":{\"gridcolor\":\"white\",\"linecolor\":\"white\",\"ticks\":\"\"}},\"ternary\":{\"bgcolor\":\"#E5ECF6\",\"aaxis\":{\"gridcolor\":\"white\",\"linecolor\":\"white\",\"ticks\":\"\"},\"baxis\":{\"gridcolor\":\"white\",\"linecolor\":\"white\",\"ticks\":\"\"},\"caxis\":{\"gridcolor\":\"white\",\"linecolor\":\"white\",\"ticks\":\"\"}},\"coloraxis\":{\"colorbar\":{\"outlinewidth\":0,\"ticks\":\"\"}},\"colorscale\":{\"sequential\":[[0.0,\"#0d0887\"],[0.1111111111111111,\"#46039f\"],[0.2222222222222222,\"#7201a8\"],[0.3333333333333333,\"#9c179e\"],[0.4444444444444444,\"#bd3786\"],[0.5555555555555556,\"#d8576b\"],[0.6666666666666666,\"#ed7953\"],[0.7777777777777778,\"#fb9f3a\"],[0.8888888888888888,\"#fdca26\"],[1.0,\"#f0f921\"]],\"sequentialminus\":[[0.0,\"#0d0887\"],[0.1111111111111111,\"#46039f\"],[0.2222222222222222,\"#7201a8\"],[0.3333333333333333,\"#9c179e\"],[0.4444444444444444,\"#bd3786\"],[0.5555555555555556,\"#d8576b\"],[0.6666666666666666,\"#ed7953\"],[0.7777777777777778,\"#fb9f3a\"],[0.8888888888888888,\"#fdca26\"],[1.0,\"#f0f921\"]],\"diverging\":[[0,\"#8e0152\"],[0.1,\"#c51b7d\"],[0.2,\"#de77ae\"],[0.3,\"#f1b6da\"],[0.4,\"#fde0ef\"],[0.5,\"#f7f7f7\"],[0.6,\"#e6f5d0\"],[0.7,\"#b8e186\"],[0.8,\"#7fbc41\"],[0.9,\"#4d9221\"],[1,\"#276419\"]]},\"xaxis\":{\"gridcolor\":\"white\",\"linecolor\":\"white\",\"ticks\":\"\",\"title\":{\"standoff\":15},\"zerolinecolor\":\"white\",\"automargin\":true,\"zerolinewidth\":2},\"yaxis\":{\"gridcolor\":\"white\",\"linecolor\":\"white\",\"ticks\":\"\",\"title\":{\"standoff\":15},\"zerolinecolor\":\"white\",\"automargin\":true,\"zerolinewidth\":2},\"scene\":{\"xaxis\":{\"backgroundcolor\":\"#E5ECF6\",\"gridcolor\":\"white\",\"linecolor\":\"white\",\"showbackground\":true,\"ticks\":\"\",\"zerolinecolor\":\"white\",\"gridwidth\":2},\"yaxis\":{\"backgroundcolor\":\"#E5ECF6\",\"gridcolor\":\"white\",\"linecolor\":\"white\",\"showbackground\":true,\"ticks\":\"\",\"zerolinecolor\":\"white\",\"gridwidth\":2},\"zaxis\":{\"backgroundcolor\":\"#E5ECF6\",\"gridcolor\":\"white\",\"linecolor\":\"white\",\"showbackground\":true,\"ticks\":\"\",\"zerolinecolor\":\"white\",\"gridwidth\":2}},\"shapedefaults\":{\"line\":{\"color\":\"#2a3f5f\"}},\"annotationdefaults\":{\"arrowcolor\":\"#2a3f5f\",\"arrowhead\":0,\"arrowwidth\":1},\"geo\":{\"bgcolor\":\"white\",\"landcolor\":\"#E5ECF6\",\"subunitcolor\":\"white\",\"showland\":true,\"showlakes\":true,\"lakecolor\":\"white\"},\"title\":{\"x\":0.05},\"mapbox\":{\"style\":\"light\"}}},\"xaxis\":{\"anchor\":\"y\",\"domain\":[0.0,1.0],\"title\":{\"text\":\"Weight\"}},\"yaxis\":{\"anchor\":\"x\",\"domain\":[0.0,1.0],\"title\":{\"text\":\"CO2Emission\"}},\"legend\":{\"tracegroupgap\":0},\"margin\":{\"t\":60}},                        {\"responsive\": true}                    ).then(function(){\n",
       "                            \n",
       "var gd = document.getElementById('30f7515f-cadb-42de-b190-cdd7d8034e86');\n",
       "var x = new MutationObserver(function (mutations, observer) {{\n",
       "        var display = window.getComputedStyle(gd).display;\n",
       "        if (!display || display === 'none') {{\n",
       "            console.log([gd, 'removed!']);\n",
       "            Plotly.purge(gd);\n",
       "            observer.disconnect();\n",
       "        }}\n",
       "}});\n",
       "\n",
       "// Listen for the removal of the full notebook cells\n",
       "var notebookContainer = gd.closest('#notebook-container');\n",
       "if (notebookContainer) {{\n",
       "    x.observe(notebookContainer, {childList: true});\n",
       "}}\n",
       "\n",
       "// Listen for the clearing of the current output cell\n",
       "var outputEl = gd.closest('.output');\n",
       "if (outputEl) {{\n",
       "    x.observe(outputEl, {childList: true});\n",
       "}}\n",
       "\n",
       "                        })                };                            </script>        </div>\n",
       "</body>\n",
       "</html>"
      ]
     },
     "metadata": {},
     "output_type": "display_data"
    }
   ],
   "source": [
    "px.scatter(train,'Weight','CO2Emission',trendline='ols')"
   ]
  },
  {
   "cell_type": "markdown",
   "metadata": {
    "id": "6LVR0SmQReDa"
   },
   "source": [
    "**Explanation**: *The scatterplot shows the relationship between the weight of an object (like a car) and the amount of CO2 it emits. The dots represent data points for different weights and their corresponding CO2 emissions. As we can see, there’s a trend where heavier objects generally produce more CO2 emissions, shown by the upward slope of the trend line. The trend line helps summarize the overall direction of the data. In simple terms, this means that, typically, the heavier something is, the more CO2 it tends to emit more gas*.\n"
   ]
  },
  {
   "cell_type": "markdown",
   "metadata": {
    "id": "mK_JcTJ0RhS4"
   },
   "source": [
    "### Goal 9: Import the linear model library\n",
    "\n",
    "Let’s bring in a library/package to help with the linear regression that will help us with our analysis and other data science tasks."
   ]
  },
  {
   "cell_type": "markdown",
   "metadata": {
    "id": "AgdQnKAsRlB5"
   },
   "source": [
    "#### Blockly\n",
    "\n"
   ]
  },
  {
   "cell_type": "markdown",
   "metadata": {
    "id": "FYzUYwUuRtFX"
   },
   "source": [
    "**Step 1 - Starting the import**\n",
    "\n",
    "First, we need to set up a “command” to tell the computer what to do. In this case, “command” is to “import” to bring the add-on package in.\n",
    "\n",
    "Bring in the IMPORT menu, which can be helpful to bring in other data tools. In this case, we're bringing in the **import** block.\n"
   ]
  },
  {
   "cell_type": "markdown",
   "metadata": {
    "id": "53n4YVqbRvcM"
   },
   "source": [
    "\n",
    "**Step 2 - Telling what library to import**\n",
    "\n",
    "In the text area, we type the name of the library we want to import. A library is like an extra thing we bring in to give us more coding abilities. In our case, we will type out **sklearn.linear_model**, which will bring in some cool data manipulation features.\n"
   ]
  },
  {
   "cell_type": "markdown",
   "metadata": {
    "id": "J-8hgaErRyey"
   },
   "source": [
    "\n",
    "**Step 3 - Renaming the library so it’s easy to remember**\n",
    "\n",
    "Once you are done, put the **import** and **package** together in a single variable. This handy feature helps cut down on all the typing later on. You can call it whatever is easiest for you to remember. In the example below, we’ve put everything into **lm**, and we type it in the open area.\n"
   ]
  },
  {
   "cell_type": "markdown",
   "metadata": {
    "id": "81RU72IYRzxK"
   },
   "source": [
    "\n",
    "**Step 4 - Connect the blocks to run the code**\n",
    "\n",
    "Connect the blocks and run the code!\n",
    "\n",
    "![](https://pbs.twimg.com/media/GbFDOz7XoAAVLtr?format=png&name=small)\n"
   ]
  },
  {
   "cell_type": "markdown",
   "metadata": {
    "id": "4ssIvDshSAvt"
   },
   "source": [
    "#### Freehand"
   ]
  },
  {
   "cell_type": "markdown",
   "metadata": {
    "id": "Wt2mpRGNSCAL"
   },
   "source": [
    "\n",
    "**Step 1 - Starting the import**\n",
    "\n",
    "First, we need to set up a “command” to tell the computer what to do. In this case, “command” is to “import” to bring the add-on package in."
   ]
  },
  {
   "cell_type": "markdown",
   "metadata": {
    "id": "rkg_7DEfSMQi"
   },
   "source": [
    "\n",
    "**Step 2 - Telling what library to import**\n",
    "\n",
    "In the text area, we type the name of the library we want to import. A library is like an extra thing we bring in to give us more coding abilities. In our case, we will type out **sklearn.linear_model**, which will bring in some cool data manipulation features."
   ]
  },
  {
   "cell_type": "markdown",
   "metadata": {
    "id": "XYkq1-RFSNe2"
   },
   "source": [
    "\n",
    "**Step 3 - Renaming the library so it’s easy to remember**\n",
    "\n",
    "Once you are done, put the ‘import’ and ‘package’ together in a single variable. This handy feature helps cut down on all the typing later on. Feel free to use whatever name you want that will help you remember it later on. In the example below, we’ve put everything into **lm**."
   ]
  },
  {
   "cell_type": "markdown",
   "metadata": {
    "id": "i6ua6DIYSO9W"
   },
   "source": [
    "\n",
    "**Step 4 - Run the code**\n",
    "\n",
    "Hit ‘control’ and ‘enter’ at the same time to run the code!\n",
    "\n",
    "![](https://pbs.twimg.com/media/GbFDMCWW8AABSiy?format=png&name=small)"
   ]
  },
  {
   "cell_type": "markdown",
   "metadata": {
    "id": "cYl4pvacSPzq"
   },
   "source": [
    "\n",
    "\n",
    "**Your Turn**: Now it’s your turn! We’re going to dive into the sklearn.linear_model package, which helps us with some really cool data science things. First, let’s import the package and assign it to the variable “lm” to make it easier to use throughout our notebook.\n"
   ]
  },
  {
   "cell_type": "code",
   "execution_count": 11,
   "metadata": {
    "id": "9TuTYz94SQnl"
   },
   "outputs": [],
   "source": [
    "import sklearn.linear_model as lm"
   ]
  },
  {
   "cell_type": "markdown",
   "metadata": {
    "id": "z4WqcOFSSS08"
   },
   "source": [
    "**Explanation**: *With the scikit-learn library, specifically the linear model module, which includes methods for creating linear regression models*.\n",
    "\n"
   ]
  },
  {
   "cell_type": "markdown",
   "metadata": {
    "id": "EuyLWuC_Ssif"
   },
   "source": [
    "### Goal 10: Setting up our linear model\n",
    "\n",
    "Let’s create a model to help with the training that we will do for our dataset.  "
   ]
  },
  {
   "cell_type": "markdown",
   "metadata": {
    "id": "I_oCtTc5S9ZU"
   },
   "source": [
    "#### Blockly"
   ]
  },
  {
   "cell_type": "markdown",
   "metadata": {
    "id": "mJoFBJk5S-cX"
   },
   "source": [
    "**Step 1 - Create and assign a variable**\n",
    "\n",
    "Now that we’re all set with our new package to help us to do cool things, let’s bring the data into a variable and call it **regr**. Think of it as a digital spreadsheet with much more power to analyze and manipulate the data!\n",
    "\n",
    "In Blockly, bring in the VARIABLES menu. On the \"Variables\" menu, click Create Variable, type a name for our model, **regr**. Then, drag a \"SET\" block to the workspace for the created variable. This block allows us to create a new variable and assign a value to it.\n"
   ]
  },
  {
   "cell_type": "markdown",
   "metadata": {
    "id": "R74ko-3vTKd6"
   },
   "source": [
    "\n",
    "**Step 2 - Create the linear regression model**\n",
    "\n",
    "Using the neighbors library, we call the LinearRegressor() to create the linear regression model.\n",
    "\n",
    "From the Variable menu, drag a Create block for the lm variable. On the create list box select the option **LinearRegressor**. This specifies the type (class) of object we want to create, which is the KNeighborsRegressor from the neighbors module.\n",
    "\n",
    "Get a Create block for the lm variable from the Variables menu. With that, a new object of the model, **LinearRegressor**, is created. The **LinearRegressor** is a type of regression model that uses one specific number to predict one other number,\n"
   ]
  },
  {
   "cell_type": "markdown",
   "metadata": {
    "id": "a1G2VFHMTLiQ"
   },
   "source": [
    "\n",
    "**Step 3 - Store the linear regressor model in a variable**\n",
    "\n",
    "We can now connect the **regr** variable with the **LinearRegressor** model.\n"
   ]
  },
  {
   "cell_type": "markdown",
   "metadata": {
    "id": "1b6o42kXTMLT"
   },
   "source": [
    "\n",
    "**Step 4 - Connect the blocks to run the code**\n",
    "\n",
    "Connect the blocks and run the code!\n",
    "\n",
    "![](https://pbs.twimg.com/media/GbFD3KsXwAAqIWJ?format=png&name=small)\n"
   ]
  },
  {
   "cell_type": "markdown",
   "metadata": {
    "id": "FWWj8VKxTb8j"
   },
   "source": [
    "#### Freehand"
   ]
  },
  {
   "cell_type": "markdown",
   "metadata": {
    "id": "2X5Gq945TeED"
   },
   "source": [
    "\n",
    "**Step 1 - Create the linear regression model**\n",
    "\n",
    "Using the linear model library, we call the LinearRegression() method\n",
    "\n",
    "`lm.LinearRegression()`\n"
   ]
  },
  {
   "cell_type": "markdown",
   "metadata": {
    "id": "y6fd-iivTlfY"
   },
   "source": [
    "\n",
    "**Step 2  - Store the regression model in a variable**\n",
    "\n",
    "Now that we’re all set with our new package to help us to do cool things, let’s bring the data into a variable called **regr**. Think of it as a digital spreadsheet with much more power to analyze and manipulate the data!\n",
    "\n",
    "Just like we did before, let’s type out a variable name. Rather than type out the full file name for our data, this easy to remember name will hold the data we bring in.\n",
    "\n",
    "`regr = lm.LinearRegression()`\n",
    "\n"
   ]
  },
  {
   "cell_type": "markdown",
   "metadata": {
    "id": "By5AWOhbTm6Y"
   },
   "source": [
    "\n",
    "\n",
    "**Step 3 - Run the code**\n",
    "\n",
    "Hit ‘control’ and ‘enter’ at the same time to run the code!\n",
    "\n",
    "![](https://pbs.twimg.com/media/GbFD57vWsAAOizJ?format=png&name=small)\n"
   ]
  },
  {
   "cell_type": "markdown",
   "metadata": {
    "id": "kih7M7sQToSd"
   },
   "source": [
    "\n",
    "**Your Turn**: Now give it a go and see what you get!\n"
   ]
  },
  {
   "cell_type": "code",
   "execution_count": 12,
   "metadata": {
    "id": "k9sIulFATpDo"
   },
   "outputs": [],
   "source": [
    "regr = lm.LinearRegression()"
   ]
  },
  {
   "cell_type": "markdown",
   "metadata": {
    "id": "zY4DH7_9TrZq"
   },
   "source": [
    "**Explanation**:  *You have created a linear regression model. By creating this model, we're preparing to analyze how one variable, like weight, affects another variable, like CO2 emissions, by finding the line that best fits the data points. Once trained, this model can help predict CO2 emissions based on weight or any other factor it’s trained on*."
   ]
  },
  {
   "cell_type": "markdown",
   "metadata": {
    "id": "qDSv7ueUUPkf"
   },
   "source": [
    "### Goal 11: Train and Score the Regressor Model\n",
    "\n",
    "Now that we’ve brought in our linear regression model, let’s train the model to see how it will learn from the data points that we have in the file."
   ]
  },
  {
   "cell_type": "markdown",
   "metadata": {
    "id": "2dQYq81qUgP8"
   },
   "source": [
    "#### Blockly"
   ]
  },
  {
   "cell_type": "markdown",
   "metadata": {
    "id": "t3UscM2fUh6u"
   },
   "source": [
    "\n",
    "**Step 1 - Prepare to train the model**\n",
    "\n",
    "To train data using the classifier model, we use the model and call the fit() method from it. This will use the fit method to train the model that we want to train on.  \n",
    "\n",
    "From the Variable menu, drag the DO block for the **regr** variable, and select the **fit** method as the do operation. This specifies the function we want to call, which is the fit method of the linear regression.\n"
   ]
  },
  {
   "cell_type": "markdown",
   "metadata": {
    "id": "4Z_nttfFUxAm"
   },
   "source": [
    "\n",
    "**Step 2 - Have the training features ready**\n",
    "\n",
    "The next step for training the model is to select the features to train the regressor. In this step, we select the features and add them as a dataframe in the parameter. In this case, the model will train (learn) the linear regressor variables and use it to predict our other variable\n",
    "\n",
    "From the Lists menu, drag a dictVariable, and select the **train** variable from the list of available variables. Also, from the Lists menu, you will get a Create List block. Using the Gear icon, add up to 2 items. For each one of the items, add a Text (a Quote “” from the Text menu), as follow:  \"**Weight**\" and **“Volume”**\n"
   ]
  },
  {
   "cell_type": "markdown",
   "metadata": {
    "id": "8C42XyWWUzMn"
   },
   "source": [
    "\n",
    "**Step 3 -  Have the training label ready**\n",
    "\n",
    "So what are we trying to predict? Next, we need to add the data labels for the selected features. We add the data labels (**CO2Emission**) as a parameter in the fit() method.\n",
    "\n",
    "From the Lists menu, drag a dictVariable, and select the \"train\" variable from the list of available variables. From the Text menu, get a Quote “” block and add a Text **CO2Emission**. This is the target value applied to train (fit) the model.\n"
   ]
  },
  {
   "cell_type": "markdown",
   "metadata": {
    "id": "Gtvxp9FDU0iG"
   },
   "source": [
    "\n",
    "**Step 4 - Measure the correctness on the training dataset**\n",
    "\n",
    "To measure the correctness of the model, we will use the score method() from the neighbors library. Just as in the previous step, we will just replace the fit() method with the score() method. Based on the ‘fit’, we will try to see how much we were able to predict in our training dataset.\n",
    "\n",
    "This will give us the linear regression correctness score. A good score will be closer to 1 (ie - 100). Medium might be more like .95 (95% accurate). Not great would be .90 (90%). It depends on the topic you are looking at.\n",
    "\n",
    "Right-click on the \"**regr.fit**\" block and select \"Duplicate\" from the context menu. This creates a copy of the block. Within the duplicated block, click on the method dropdown menu and select \"**score**\" from the list of available methods. The score method will work similarly to fit, and will use the training features and label to measure how much of the training data was learned.  \n"
   ]
  },
  {
   "cell_type": "markdown",
   "metadata": {
    "id": "iNMtBfsoU1p1"
   },
   "source": [
    "\n",
    "**Step 5 - Connect the blocks to run the code**\n",
    "\n",
    "Connect the blocks and run the code!\n",
    "\n",
    "![](https://pbs.twimg.com/media/GbeQcPJbYAADVoO?format=png&name=small)"
   ]
  },
  {
   "cell_type": "markdown",
   "metadata": {
    "id": "u5v6LYVHVe-i"
   },
   "source": [
    "#### Freehand"
   ]
  },
  {
   "cell_type": "markdown",
   "metadata": {
    "id": "oNUZpIHKWrLs"
   },
   "source": [
    "**Step 1 - Prepare to train the model**\n",
    "\n",
    "To train data using the regression model, we use the model and call the fit() method from it. This will use the ‘fit’ method to train the model that we want to train on.  \n",
    "  \n",
    "`regr.fit()`\n"
   ]
  },
  {
   "cell_type": "markdown",
   "metadata": {
    "id": "KX2Aipj6W-b3"
   },
   "source": [
    "\n",
    "**Step 2 - Have the training features ready**\n",
    "\n",
    "The next step for training the model is to select the features to train the classifier. In this step , we select the features and add them as a dataframe in the parameter. In this case, we select the **‘Weight’** and **‘Volume’** feature as our training feature.\n",
    "\n",
    "`regr.fit(train[['Weight',’Volume’]])`\n",
    "\n"
   ]
  },
  {
   "cell_type": "markdown",
   "metadata": {
    "id": "ZRL2ErR2XAYi"
   },
   "source": [
    "\n",
    "**Step 3 - Have the training label ready**\n",
    "\n",
    "So what are we trying predict? Next, we need to add the data labels for the selected features. We add the data label (**CO2Emission**) as a parameter in the fit() method.\n",
    "\n",
    "`regr.fit(train[['Weight',’Volume’]],train['CO2Emission'])`\n"
   ]
  },
  {
   "cell_type": "markdown",
   "metadata": {
    "id": "cSQA4rpsXB_k"
   },
   "source": [
    "\n",
    "**Step 4 - Measure the correctness on the training dataset**\n",
    "\n",
    "To measure the correctness of the model, we will use the score method() from the SKLearn.linear_model library. Just as the previous step, we will just replace the fit() method with the **score**() method. Based on the ‘fit’, we will try to see how much we were able to predict in our training dataset.\n",
    "\n",
    "This will give us the linear regression correctness score. A good score will be closer to 1 (ie - 100). Medium might be more like .95 (95% accurate). Not great would be .90 (90%). It depends on the topic you are looking at.\n",
    "\n",
    "`regr.score(train[['Weight',’Volume’]],train['CO2Emission'])`\n"
   ]
  },
  {
   "cell_type": "markdown",
   "metadata": {
    "id": "fNWp4vN0XDTw"
   },
   "source": [
    "\n",
    "**Step 5 - Run the code**\n",
    "\n",
    "Hit ‘control’ and ‘enter’ at the same time to run the code!\n",
    "\n",
    "![](https://pbs.twimg.com/media/GbfVH3TaEAAWl69?format=jpg&name=small)\n"
   ]
  },
  {
   "cell_type": "markdown",
   "metadata": {
    "id": "NUCT0dQwXbLI"
   },
   "source": [
    "**Your Turn**: Now it’s your turn to train the model!\n"
   ]
  },
  {
   "cell_type": "code",
   "execution_count": 13,
   "metadata": {
    "colab": {
     "base_uri": "https://localhost:8080/"
    },
    "id": "rPp1N-o9Xf7_",
    "outputId": "2bd7491e-346e-4aa2-9df7-0c044ee48c42"
   },
   "outputs": [
    {
     "data": {
      "text/plain": [
       "0.8636362285865795"
      ]
     },
     "execution_count": 13,
     "metadata": {},
     "output_type": "execute_result"
    }
   ],
   "source": [
    "regr.fit(train[['Weight', 'Volume']], train['CO2Emission'])\n",
    "regr.score(train[['Weight', 'Volume']], train['CO2Emission'])"
   ]
  },
  {
   "cell_type": "markdown",
   "metadata": {
    "id": "ftdF3vpSXhqM"
   },
   "source": [
    "**Explanation**: *You have trained the model using data from the train dataset. It takes weight as the input feature and CO2 emission as the output we want to predict. The fit function makes the model learn the relationship between weight and volume, with CO2 emissions from this data. You have also calculated the model's R-squared score on the training data. The R-squared score, which is 0.86 (or 86%), shows how well the model’s predictions match the actual CO2 emissions. A score close to 1 (or 100%) means the model is doing a good job. Here, 0.86 means the model explains 86% of the variation in CO2 emissions based on weight and volume, indicating it's a fairly accurate model*."
   ]
  },
  {
   "cell_type": "markdown",
   "metadata": {
    "id": "GM_oWbOrXktB"
   },
   "source": [
    "### Goal 12: Load the testing dataset\n",
    "\n",
    "So we’ve looked at the training dataset to learn something about our data. How about applying it to the rest of the dataset and seeing how good our predictions are?"
   ]
  },
  {
   "cell_type": "markdown",
   "metadata": {
    "id": "zOl87YvkX5St"
   },
   "source": [
    "#### Blockly"
   ]
  },
  {
   "cell_type": "markdown",
   "metadata": {
    "id": "uOasHoplX8Rz"
   },
   "source": [
    "\n",
    "**Step 1 - Write out the variable name you want to use**\n",
    "\n",
    "Now that we’re all set with our new package to help us do cool things, let’s bring the data into a variable and call it **test**. Think of it as a digital spreadsheet with much more power to analyze and manipulate the data!\n",
    "\n",
    "In Blockly, bring in the VARIABLES menu.\n"
   ]
  },
  {
   "cell_type": "markdown",
   "metadata": {
    "id": "Z04kKgeeYQ9s"
   },
   "source": [
    "\n",
    "**Step 2 - Assign the dataframe to the variable you created**\n",
    "\n",
    "Just like we did before, let’s type out a variable name. Rather than type out the full file name for our data, this easy to remember name will hold the data we bring in.\n",
    "\n",
    "In Blockly, go to the Variables and drag the Set block for the **test** variable. This will allow us to assign the result of a function call to the variable. A function is basically code that does a specific task for us.\n"
   ]
  },
  {
   "cell_type": "markdown",
   "metadata": {
    "id": "xIfy38EWYS3q"
   },
   "source": [
    "\n",
    "**Step 3 - Bring in the data**\n",
    "\n",
    "Now we need to look at the file that has all our data.\n",
    "\n",
    "To load our dataframe, we’ll use a simple command to bring in the file we need (CSV….Comma Separated Values). Let’s say we have a file called ‘AirQualityCtest.csv' in the folder **‘datasets’**. We’re telling Python to read the CSV file and store it in a variable called **test**.\n",
    "\n",
    "From the Variable menu, drag a DO block using the **pd** variable, and go ahead with the do operation **read_csv**. The read_csv function reads a CSV file and returns a DataFrame object.\n",
    "\n",
    "In our case, let’s bring in the “datasets/AirQualityCTest.csv\" (use the Quotes from the TEXT menu) because that is what Angelina is working with.\n"
   ]
  },
  {
   "cell_type": "markdown",
   "metadata": {
    "id": "MQlHtYrIYUrZ"
   },
   "source": [
    "\n",
    "**Step 4 - Display the Variable**\n",
    "\n",
    "Let’s see it now by ‘displaying’ and showing our work.\n",
    "\n",
    "Drag the **test** variable to the workspace, making it available for further use in our program. This step is more of a visualization step, as it allows us to see the variable in the Blockly workspace.\n"
   ]
  },
  {
   "cell_type": "markdown",
   "metadata": {
    "id": "UpSygcNHYVW6"
   },
   "source": [
    "\n",
    "**Step 5 - Connect the blocks to run the code**\n",
    "\n",
    "Connect the blocks and run the code!\n",
    "\n",
    "![](https://pbs.twimg.com/media/Gab-trtWgAAOONP?format=jpg&name=small)"
   ]
  },
  {
   "cell_type": "markdown",
   "metadata": {
    "id": "uDe94smTY0l5"
   },
   "source": [
    "#### Freehand"
   ]
  },
  {
   "cell_type": "markdown",
   "metadata": {
    "id": "2Db83iZ0Y15I"
   },
   "source": [
    "\n",
    "**Step 1 - Write out the variable name you want to use**\n",
    "\n",
    "Now that we’re all set with our new package to help us to do cool things, let’s bring the data into a variable called **test**. Think of it as a digital spreadsheet with much more power to analyze and manipulate the data!\n",
    "\n",
    "Just like we did before, let’s type out a variable name. Rather than type out the full file name for our data, this easy to remember name will hold the data we bring in.\n"
   ]
  },
  {
   "cell_type": "markdown",
   "metadata": {
    "id": "wgTaRKX2Y8oK"
   },
   "source": [
    "\n",
    "**Step 2 - Bring in the data**\n",
    "\n",
    "Now we need to look at the file that has all our data.\n",
    "\n",
    "To load our dataframe, we’ll use a simple command to bring in the file we need (CSV….Comma Separated Values). Let’s say we have a file called ‘AirQualityCtest.csv' in the folder **‘datasets’**. We’re telling Python to read the CSV file and store it in a variable called **test**. For this function, we need to specify the code as “pd.read_csv”, which makes the code read the csv file. This variable is now our dataframe!\n",
    "\n",
    "In our case, let’s bring in the “datasets/AirQualityCTest.csv\" (user the Quotes from the TEXT menu) because that is what our group is working with.\n"
   ]
  },
  {
   "cell_type": "markdown",
   "metadata": {
    "id": "02D1QLohY-Qb"
   },
   "source": [
    "\n",
    "**Step 3 - Assign the dataframe to the variable you created**\n",
    "\n",
    "Just like we did before, let’s type out a variable name. Rather than type out the full file name for our data, this easy to remember name will hold the data we bring in.\n"
   ]
  },
  {
   "cell_type": "markdown",
   "metadata": {
    "id": "My7aUQucY-30"
   },
   "source": [
    "\n",
    "**Step 4 - Print the variable**\n",
    "\n",
    "Let’s see it now by ‘printing’ and showing our work.\n"
   ]
  },
  {
   "cell_type": "markdown",
   "metadata": {
    "id": "iyq9ISQdZAIz"
   },
   "source": [
    "\n",
    "**Step 5 - Run the code**\n",
    "\n",
    "Hit ‘control’ and ‘enter’ at the same time to run the code!\n",
    "\n",
    "![](https://pbs.twimg.com/media/Gab-wAQXMAAIVs8?format=png&name=small)"
   ]
  },
  {
   "cell_type": "markdown",
   "metadata": {
    "id": "eNnFF55cZaPV"
   },
   "source": [
    "**Your Turn**: Now it’s your turn!  Let’s dive in and start working with the data!  We’ll begin by loading it into a dataframe, which will allow us to easily interact with and analyze the dataset.\n"
   ]
  },
  {
   "cell_type": "code",
   "execution_count": 14,
   "metadata": {
    "colab": {
     "base_uri": "https://localhost:8080/",
     "height": 363
    },
    "id": "aFsM6CbMZcQJ",
    "outputId": "988ad732-e6df-4791-b068-160dde695dde"
   },
   "outputs": [
    {
     "data": {
      "application/vnd.google.colaboratory.intrinsic+json": {
       "summary": "{\n  \"name\": \"test\",\n  \"rows\": 10,\n  \"fields\": [\n    {\n      \"column\": \"Brand\",\n      \"properties\": {\n        \"dtype\": \"category\",\n        \"num_unique_values\": 2,\n        \"samples\": [\n          \"Fiat\",\n          \"Porsche\"\n        ],\n        \"semantic_type\": \"\",\n        \"description\": \"\"\n      }\n    },\n    {\n      \"column\": \"Model\",\n      \"properties\": {\n        \"dtype\": \"string\",\n        \"num_unique_values\": 10,\n        \"samples\": [\n          \"500X\",\n          \"Cayenne\"\n        ],\n        \"semantic_type\": \"\",\n        \"description\": \"\"\n      }\n    },\n    {\n      \"column\": \"Volume\",\n      \"properties\": {\n        \"dtype\": \"number\",\n        \"std\": 1,\n        \"min\": 10,\n        \"max\": 16,\n        \"num_unique_values\": 7,\n        \"samples\": [\n          13,\n          16\n        ],\n        \"semantic_type\": \"\",\n        \"description\": \"\"\n      }\n    },\n    {\n      \"column\": \"Weight\",\n      \"properties\": {\n        \"dtype\": \"number\",\n        \"std\": 437,\n        \"min\": 950,\n        \"max\": 2290,\n        \"num_unique_values\": 10,\n        \"samples\": [\n          1420,\n          2000\n        ],\n        \"semantic_type\": \"\",\n        \"description\": \"\"\n      }\n    },\n    {\n      \"column\": \"CO2Emission\",\n      \"properties\": {\n        \"dtype\": \"number\",\n        \"std\": 51,\n        \"min\": 79,\n        \"max\": 245,\n        \"num_unique_values\": 9,\n        \"samples\": [\n          104,\n          199\n        ],\n        \"semantic_type\": \"\",\n        \"description\": \"\"\n      }\n    }\n  ]\n}",
       "type": "dataframe",
       "variable_name": "test"
      },
      "text/html": [
       "\n",
       "  <div id=\"df-a261ed43-a662-4789-a62e-a2b6f4215ea1\" class=\"colab-df-container\">\n",
       "    <div>\n",
       "<style scoped>\n",
       "    .dataframe tbody tr th:only-of-type {\n",
       "        vertical-align: middle;\n",
       "    }\n",
       "\n",
       "    .dataframe tbody tr th {\n",
       "        vertical-align: top;\n",
       "    }\n",
       "\n",
       "    .dataframe thead th {\n",
       "        text-align: right;\n",
       "    }\n",
       "</style>\n",
       "<table border=\"1\" class=\"dataframe\">\n",
       "  <thead>\n",
       "    <tr style=\"text-align: right;\">\n",
       "      <th></th>\n",
       "      <th>Brand</th>\n",
       "      <th>Model</th>\n",
       "      <th>Volume</th>\n",
       "      <th>Weight</th>\n",
       "      <th>CO2Emission</th>\n",
       "    </tr>\n",
       "  </thead>\n",
       "  <tbody>\n",
       "    <tr>\n",
       "      <th>0</th>\n",
       "      <td>Porsche</td>\n",
       "      <td>911</td>\n",
       "      <td>13</td>\n",
       "      <td>1570</td>\n",
       "      <td>153</td>\n",
       "    </tr>\n",
       "    <tr>\n",
       "      <th>1</th>\n",
       "      <td>Porsche</td>\n",
       "      <td>Cayenne</td>\n",
       "      <td>16</td>\n",
       "      <td>2000</td>\n",
       "      <td>199</td>\n",
       "    </tr>\n",
       "    <tr>\n",
       "      <th>2</th>\n",
       "      <td>Porsche</td>\n",
       "      <td>Macan</td>\n",
       "      <td>15</td>\n",
       "      <td>1855</td>\n",
       "      <td>152</td>\n",
       "    </tr>\n",
       "    <tr>\n",
       "      <th>3</th>\n",
       "      <td>Porsche</td>\n",
       "      <td>Panamera</td>\n",
       "      <td>15</td>\n",
       "      <td>1850</td>\n",
       "      <td>170</td>\n",
       "    </tr>\n",
       "    <tr>\n",
       "      <th>4</th>\n",
       "      <td>Porsche</td>\n",
       "      <td>Taycan</td>\n",
       "      <td>14</td>\n",
       "      <td>2290</td>\n",
       "      <td>245</td>\n",
       "    </tr>\n",
       "    <tr>\n",
       "      <th>5</th>\n",
       "      <td>Fiat</td>\n",
       "      <td>500</td>\n",
       "      <td>10</td>\n",
       "      <td>965</td>\n",
       "      <td>82</td>\n",
       "    </tr>\n",
       "    <tr>\n",
       "      <th>6</th>\n",
       "      <td>Fiat</td>\n",
       "      <td>Panda</td>\n",
       "      <td>11</td>\n",
       "      <td>950</td>\n",
       "      <td>79</td>\n",
       "    </tr>\n",
       "    <tr>\n",
       "      <th>7</th>\n",
       "      <td>Fiat</td>\n",
       "      <td>Tipo</td>\n",
       "      <td>12</td>\n",
       "      <td>1270</td>\n",
       "      <td>104</td>\n",
       "    </tr>\n",
       "    <tr>\n",
       "      <th>8</th>\n",
       "      <td>Fiat</td>\n",
       "      <td>500X</td>\n",
       "      <td>13</td>\n",
       "      <td>1420</td>\n",
       "      <td>126</td>\n",
       "    </tr>\n",
       "    <tr>\n",
       "      <th>9</th>\n",
       "      <td>Fiat</td>\n",
       "      <td>Doblo</td>\n",
       "      <td>14</td>\n",
       "      <td>1600</td>\n",
       "      <td>152</td>\n",
       "    </tr>\n",
       "  </tbody>\n",
       "</table>\n",
       "</div>\n",
       "    <div class=\"colab-df-buttons\">\n",
       "\n",
       "  <div class=\"colab-df-container\">\n",
       "    <button class=\"colab-df-convert\" onclick=\"convertToInteractive('df-a261ed43-a662-4789-a62e-a2b6f4215ea1')\"\n",
       "            title=\"Convert this dataframe to an interactive table.\"\n",
       "            style=\"display:none;\">\n",
       "\n",
       "  <svg xmlns=\"http://www.w3.org/2000/svg\" height=\"24px\" viewBox=\"0 -960 960 960\">\n",
       "    <path d=\"M120-120v-720h720v720H120Zm60-500h600v-160H180v160Zm220 220h160v-160H400v160Zm0 220h160v-160H400v160ZM180-400h160v-160H180v160Zm440 0h160v-160H620v160ZM180-180h160v-160H180v160Zm440 0h160v-160H620v160Z\"/>\n",
       "  </svg>\n",
       "    </button>\n",
       "\n",
       "  <style>\n",
       "    .colab-df-container {\n",
       "      display:flex;\n",
       "      gap: 12px;\n",
       "    }\n",
       "\n",
       "    .colab-df-convert {\n",
       "      background-color: #E8F0FE;\n",
       "      border: none;\n",
       "      border-radius: 50%;\n",
       "      cursor: pointer;\n",
       "      display: none;\n",
       "      fill: #1967D2;\n",
       "      height: 32px;\n",
       "      padding: 0 0 0 0;\n",
       "      width: 32px;\n",
       "    }\n",
       "\n",
       "    .colab-df-convert:hover {\n",
       "      background-color: #E2EBFA;\n",
       "      box-shadow: 0px 1px 2px rgba(60, 64, 67, 0.3), 0px 1px 3px 1px rgba(60, 64, 67, 0.15);\n",
       "      fill: #174EA6;\n",
       "    }\n",
       "\n",
       "    .colab-df-buttons div {\n",
       "      margin-bottom: 4px;\n",
       "    }\n",
       "\n",
       "    [theme=dark] .colab-df-convert {\n",
       "      background-color: #3B4455;\n",
       "      fill: #D2E3FC;\n",
       "    }\n",
       "\n",
       "    [theme=dark] .colab-df-convert:hover {\n",
       "      background-color: #434B5C;\n",
       "      box-shadow: 0px 1px 3px 1px rgba(0, 0, 0, 0.15);\n",
       "      filter: drop-shadow(0px 1px 2px rgba(0, 0, 0, 0.3));\n",
       "      fill: #FFFFFF;\n",
       "    }\n",
       "  </style>\n",
       "\n",
       "    <script>\n",
       "      const buttonEl =\n",
       "        document.querySelector('#df-a261ed43-a662-4789-a62e-a2b6f4215ea1 button.colab-df-convert');\n",
       "      buttonEl.style.display =\n",
       "        google.colab.kernel.accessAllowed ? 'block' : 'none';\n",
       "\n",
       "      async function convertToInteractive(key) {\n",
       "        const element = document.querySelector('#df-a261ed43-a662-4789-a62e-a2b6f4215ea1');\n",
       "        const dataTable =\n",
       "          await google.colab.kernel.invokeFunction('convertToInteractive',\n",
       "                                                    [key], {});\n",
       "        if (!dataTable) return;\n",
       "\n",
       "        const docLinkHtml = 'Like what you see? Visit the ' +\n",
       "          '<a target=\"_blank\" href=https://colab.research.google.com/notebooks/data_table.ipynb>data table notebook</a>'\n",
       "          + ' to learn more about interactive tables.';\n",
       "        element.innerHTML = '';\n",
       "        dataTable['output_type'] = 'display_data';\n",
       "        await google.colab.output.renderOutput(dataTable, element);\n",
       "        const docLink = document.createElement('div');\n",
       "        docLink.innerHTML = docLinkHtml;\n",
       "        element.appendChild(docLink);\n",
       "      }\n",
       "    </script>\n",
       "  </div>\n",
       "\n",
       "\n",
       "<div id=\"df-bda43251-4192-4097-a157-89ad7866fa93\">\n",
       "  <button class=\"colab-df-quickchart\" onclick=\"quickchart('df-bda43251-4192-4097-a157-89ad7866fa93')\"\n",
       "            title=\"Suggest charts\"\n",
       "            style=\"display:none;\">\n",
       "\n",
       "<svg xmlns=\"http://www.w3.org/2000/svg\" height=\"24px\"viewBox=\"0 0 24 24\"\n",
       "     width=\"24px\">\n",
       "    <g>\n",
       "        <path d=\"M19 3H5c-1.1 0-2 .9-2 2v14c0 1.1.9 2 2 2h14c1.1 0 2-.9 2-2V5c0-1.1-.9-2-2-2zM9 17H7v-7h2v7zm4 0h-2V7h2v10zm4 0h-2v-4h2v4z\"/>\n",
       "    </g>\n",
       "</svg>\n",
       "  </button>\n",
       "\n",
       "<style>\n",
       "  .colab-df-quickchart {\n",
       "      --bg-color: #E8F0FE;\n",
       "      --fill-color: #1967D2;\n",
       "      --hover-bg-color: #E2EBFA;\n",
       "      --hover-fill-color: #174EA6;\n",
       "      --disabled-fill-color: #AAA;\n",
       "      --disabled-bg-color: #DDD;\n",
       "  }\n",
       "\n",
       "  [theme=dark] .colab-df-quickchart {\n",
       "      --bg-color: #3B4455;\n",
       "      --fill-color: #D2E3FC;\n",
       "      --hover-bg-color: #434B5C;\n",
       "      --hover-fill-color: #FFFFFF;\n",
       "      --disabled-bg-color: #3B4455;\n",
       "      --disabled-fill-color: #666;\n",
       "  }\n",
       "\n",
       "  .colab-df-quickchart {\n",
       "    background-color: var(--bg-color);\n",
       "    border: none;\n",
       "    border-radius: 50%;\n",
       "    cursor: pointer;\n",
       "    display: none;\n",
       "    fill: var(--fill-color);\n",
       "    height: 32px;\n",
       "    padding: 0;\n",
       "    width: 32px;\n",
       "  }\n",
       "\n",
       "  .colab-df-quickchart:hover {\n",
       "    background-color: var(--hover-bg-color);\n",
       "    box-shadow: 0 1px 2px rgba(60, 64, 67, 0.3), 0 1px 3px 1px rgba(60, 64, 67, 0.15);\n",
       "    fill: var(--button-hover-fill-color);\n",
       "  }\n",
       "\n",
       "  .colab-df-quickchart-complete:disabled,\n",
       "  .colab-df-quickchart-complete:disabled:hover {\n",
       "    background-color: var(--disabled-bg-color);\n",
       "    fill: var(--disabled-fill-color);\n",
       "    box-shadow: none;\n",
       "  }\n",
       "\n",
       "  .colab-df-spinner {\n",
       "    border: 2px solid var(--fill-color);\n",
       "    border-color: transparent;\n",
       "    border-bottom-color: var(--fill-color);\n",
       "    animation:\n",
       "      spin 1s steps(1) infinite;\n",
       "  }\n",
       "\n",
       "  @keyframes spin {\n",
       "    0% {\n",
       "      border-color: transparent;\n",
       "      border-bottom-color: var(--fill-color);\n",
       "      border-left-color: var(--fill-color);\n",
       "    }\n",
       "    20% {\n",
       "      border-color: transparent;\n",
       "      border-left-color: var(--fill-color);\n",
       "      border-top-color: var(--fill-color);\n",
       "    }\n",
       "    30% {\n",
       "      border-color: transparent;\n",
       "      border-left-color: var(--fill-color);\n",
       "      border-top-color: var(--fill-color);\n",
       "      border-right-color: var(--fill-color);\n",
       "    }\n",
       "    40% {\n",
       "      border-color: transparent;\n",
       "      border-right-color: var(--fill-color);\n",
       "      border-top-color: var(--fill-color);\n",
       "    }\n",
       "    60% {\n",
       "      border-color: transparent;\n",
       "      border-right-color: var(--fill-color);\n",
       "    }\n",
       "    80% {\n",
       "      border-color: transparent;\n",
       "      border-right-color: var(--fill-color);\n",
       "      border-bottom-color: var(--fill-color);\n",
       "    }\n",
       "    90% {\n",
       "      border-color: transparent;\n",
       "      border-bottom-color: var(--fill-color);\n",
       "    }\n",
       "  }\n",
       "</style>\n",
       "\n",
       "  <script>\n",
       "    async function quickchart(key) {\n",
       "      const quickchartButtonEl =\n",
       "        document.querySelector('#' + key + ' button');\n",
       "      quickchartButtonEl.disabled = true;  // To prevent multiple clicks.\n",
       "      quickchartButtonEl.classList.add('colab-df-spinner');\n",
       "      try {\n",
       "        const charts = await google.colab.kernel.invokeFunction(\n",
       "            'suggestCharts', [key], {});\n",
       "      } catch (error) {\n",
       "        console.error('Error during call to suggestCharts:', error);\n",
       "      }\n",
       "      quickchartButtonEl.classList.remove('colab-df-spinner');\n",
       "      quickchartButtonEl.classList.add('colab-df-quickchart-complete');\n",
       "    }\n",
       "    (() => {\n",
       "      let quickchartButtonEl =\n",
       "        document.querySelector('#df-bda43251-4192-4097-a157-89ad7866fa93 button');\n",
       "      quickchartButtonEl.style.display =\n",
       "        google.colab.kernel.accessAllowed ? 'block' : 'none';\n",
       "    })();\n",
       "  </script>\n",
       "</div>\n",
       "\n",
       "  <div id=\"id_0450e59e-a3f7-4341-a955-a7061ce1e700\">\n",
       "    <style>\n",
       "      .colab-df-generate {\n",
       "        background-color: #E8F0FE;\n",
       "        border: none;\n",
       "        border-radius: 50%;\n",
       "        cursor: pointer;\n",
       "        display: none;\n",
       "        fill: #1967D2;\n",
       "        height: 32px;\n",
       "        padding: 0 0 0 0;\n",
       "        width: 32px;\n",
       "      }\n",
       "\n",
       "      .colab-df-generate:hover {\n",
       "        background-color: #E2EBFA;\n",
       "        box-shadow: 0px 1px 2px rgba(60, 64, 67, 0.3), 0px 1px 3px 1px rgba(60, 64, 67, 0.15);\n",
       "        fill: #174EA6;\n",
       "      }\n",
       "\n",
       "      [theme=dark] .colab-df-generate {\n",
       "        background-color: #3B4455;\n",
       "        fill: #D2E3FC;\n",
       "      }\n",
       "\n",
       "      [theme=dark] .colab-df-generate:hover {\n",
       "        background-color: #434B5C;\n",
       "        box-shadow: 0px 1px 3px 1px rgba(0, 0, 0, 0.15);\n",
       "        filter: drop-shadow(0px 1px 2px rgba(0, 0, 0, 0.3));\n",
       "        fill: #FFFFFF;\n",
       "      }\n",
       "    </style>\n",
       "    <button class=\"colab-df-generate\" onclick=\"generateWithVariable('test')\"\n",
       "            title=\"Generate code using this dataframe.\"\n",
       "            style=\"display:none;\">\n",
       "\n",
       "  <svg xmlns=\"http://www.w3.org/2000/svg\" height=\"24px\"viewBox=\"0 0 24 24\"\n",
       "       width=\"24px\">\n",
       "    <path d=\"M7,19H8.4L18.45,9,17,7.55,7,17.6ZM5,21V16.75L18.45,3.32a2,2,0,0,1,2.83,0l1.4,1.43a1.91,1.91,0,0,1,.58,1.4,1.91,1.91,0,0,1-.58,1.4L9.25,21ZM18.45,9,17,7.55Zm-12,3A5.31,5.31,0,0,0,4.9,8.1,5.31,5.31,0,0,0,1,6.5,5.31,5.31,0,0,0,4.9,4.9,5.31,5.31,0,0,0,6.5,1,5.31,5.31,0,0,0,8.1,4.9,5.31,5.31,0,0,0,12,6.5,5.46,5.46,0,0,0,6.5,12Z\"/>\n",
       "  </svg>\n",
       "    </button>\n",
       "    <script>\n",
       "      (() => {\n",
       "      const buttonEl =\n",
       "        document.querySelector('#id_0450e59e-a3f7-4341-a955-a7061ce1e700 button.colab-df-generate');\n",
       "      buttonEl.style.display =\n",
       "        google.colab.kernel.accessAllowed ? 'block' : 'none';\n",
       "\n",
       "      buttonEl.onclick = () => {\n",
       "        google.colab.notebook.generateWithVariable('test');\n",
       "      }\n",
       "      })();\n",
       "    </script>\n",
       "  </div>\n",
       "\n",
       "    </div>\n",
       "  </div>\n"
      ],
      "text/plain": [
       "     Brand     Model  Volume  Weight  CO2Emission\n",
       "0  Porsche       911      13    1570          153\n",
       "1  Porsche   Cayenne      16    2000          199\n",
       "2  Porsche     Macan      15    1855          152\n",
       "3  Porsche  Panamera      15    1850          170\n",
       "4  Porsche    Taycan      14    2290          245\n",
       "5     Fiat       500      10     965           82\n",
       "6     Fiat     Panda      11     950           79\n",
       "7     Fiat      Tipo      12    1270          104\n",
       "8     Fiat      500X      13    1420          126\n",
       "9     Fiat     Doblo      14    1600          152"
      ]
     },
     "execution_count": 14,
     "metadata": {},
     "output_type": "execute_result"
    }
   ],
   "source": [
    "test = pd.read_csv('datasets/AirQualityCtest.csv')\n",
    "test"
   ]
  },
  {
   "cell_type": "markdown",
   "metadata": {
    "id": "_fE1kQHdZeBf"
   },
   "source": [
    "**Explanation**: *You have loaded the testing dataset, which is essential to see if our model makes accurate predictions on new, unseen data, ensuring it generalizes well beyond the training data. In this dataset, we have different Porsche models with their Weight and actual CO2Emission values. Testing the model on this data shows if it can predict CO2 emissions accurately based on features like weight, confirming the model's reliability*."
   ]
  },
  {
   "cell_type": "markdown",
   "metadata": {
    "id": "s3_6dI5EZfoB"
   },
   "source": [
    "### Goal 13: Predict Labels for Testing Dataset (i.e., - predict the rest of the data)\n",
    "\n",
    "So far, we’ve taken a smaller part of all our data to train and try and learn something about it. Can we take what we’ve learned from the training and use it to predict the rest of our dataset?"
   ]
  },
  {
   "cell_type": "markdown",
   "metadata": {
    "id": "Awkfm8-sZjef"
   },
   "source": [
    "#### Blockly"
   ]
  },
  {
   "cell_type": "markdown",
   "metadata": {
    "id": "ymp6NfEhZlOD"
   },
   "source": [
    "**Step 1 - Write out the variable name you want to use**\n",
    "\n",
    "Now that we’re all set with our new package to help us to do cool things, let’s bring the data into a variable and call it **predictions**.\n",
    "\n",
    "From the Variables menu, click Create Variable, and type **predictions**. On the same menu, drag the Set block of the prediction variable. This variable will hold the result of the prediction.\n"
   ]
  },
  {
   "cell_type": "markdown",
   "metadata": {
    "id": "H_Fa_937Zvpg"
   },
   "source": [
    "\n",
    "**Step 2 - Prepare the predict operation**\n",
    "\n",
    "So let’s take the regr variable from before and try to predict the label of the new dataset for **CO2Emission**. Let’s start by using the predict() method from the linear regression model.\n",
    "\n",
    "From the Variables menu, get a DO block, for the **regr** variable. With that select the operation **predict**.\n"
   ]
  },
  {
   "cell_type": "markdown",
   "metadata": {
    "id": "qWKZcFIrZyTZ"
   },
   "source": [
    "\n",
    "**Step 3 - Set the test features**\n",
    "\n",
    "Inside the predict() method,we  provide the test features from the test data. This will use the 1 features (ie - columns) to predict the labels.\n",
    "\n",
    "From the Lists menu, drag a dictVariable, select the \"test\" variable from the list of available variables. Also, from the Lists menu, you will get a Create List block. Using the Gear icon, add up to 2 items. For each one of the items, add a Text (a Quote “” from the Text menu), as follow: **Weight** and **Volume**. These are the feature names applied to predict the target label on the testing dataset. Store the output of the model prediction in the \"**predictions**\" variable. This variable will now hold the result of the prediction.\n"
   ]
  },
  {
   "cell_type": "markdown",
   "metadata": {
    "id": "0S89JneVZ0Ak"
   },
   "source": [
    "\n",
    "**Step 4 - Assign the predictions to the variable you created**\n",
    "\n",
    "Next, we store the prediction labels into a variable ‘predictions’. To do that we have to connect the SET **predictions** variable to the r**egr.predict**() block.\n"
   ]
  },
  {
   "cell_type": "markdown",
   "metadata": {
    "id": "79g1hYnGZ0q1"
   },
   "source": [
    "\n",
    "**Step 5 - Display the predictions**\n",
    "\n",
    "Let’s see it now by ‘printing’ and showing our work.\n",
    "\n",
    "Drag the **predictions** variable to the workspace, making it available for further use in our program. This step is more of a visualization step, as it allows us to see the variable in the Blockly workspace.\n"
   ]
  },
  {
   "cell_type": "markdown",
   "metadata": {
    "id": "3XCKLi0rZ1fJ"
   },
   "source": [
    "\n",
    "**Step 6 - Connect the blocks to run the code**\n",
    "\n",
    "Connect the blocks and run the code!\n",
    "\n",
    "![](https://pbs.twimg.com/media/GbeSDKLbsAAT4EG?format=png&name=small)"
   ]
  },
  {
   "cell_type": "markdown",
   "metadata": {
    "id": "ZPsCTKtSag9P"
   },
   "source": [
    "#### Freehand"
   ]
  },
  {
   "cell_type": "markdown",
   "metadata": {
    "id": "gj5xCxtHaiC0"
   },
   "source": [
    "**Step 1 - Select the test features**\n",
    "\n",
    "So let’s take the **regr** variable from before and try to predict the label of the new dataset. Let’s start by using the predict() method from the linear regression model.\n",
    "\n",
    "`regr.predict()`\n"
   ]
  },
  {
   "cell_type": "markdown",
   "metadata": {
    "id": "n1Q-kwJnajBB"
   },
   "source": [
    "\n",
    "**Step 2 - Set the test features**\n",
    "\n",
    "Inside the predict() method,we  provide the test features from the test data. This will use the features (ie - data we have in a column) to predict the labels - **Weight** and **Volume**.\n",
    "\n",
    "`regr.predict(train[['Weight',’Volume’]])`\n"
   ]
  },
  {
   "cell_type": "markdown",
   "metadata": {
    "id": "OlE4_FTLajx5"
   },
   "source": [
    "\n",
    "**Step 3 - Store the predictions in a variable**\n",
    "\n",
    "Next, we store the predicted results into a variable ‘predictions’\n",
    "\n",
    "`predictions = regr.predict(train[['Weight',’Volume’]])`"
   ]
  },
  {
   "cell_type": "markdown",
   "metadata": {
    "id": "Wh9hcpJkakyu"
   },
   "source": [
    "\n",
    "**Step 4 - Display the predictions**\n",
    "\n",
    "Finally, we display the prediction labels using ‘predictions’\n",
    "\n",
    "`predictions`\n"
   ]
  },
  {
   "cell_type": "markdown",
   "metadata": {
    "id": "Yo2A831balc-"
   },
   "source": [
    "\n",
    "**Step 5 - Run the code**\n",
    "\n",
    "Hit ‘control’ and ‘enter’ at the same time to run the code!\n",
    "\n",
    "![](https://pbs.twimg.com/media/GbfQzORbcAATBir?format=png&name=small)"
   ]
  },
  {
   "cell_type": "markdown",
   "metadata": {
    "id": "YKJYsg7gbi_a"
   },
   "source": [
    "**Your Turn**: Now it’s your turn to get predictions from the model.\n"
   ]
  },
  {
   "cell_type": "code",
   "execution_count": 15,
   "metadata": {
    "id": "t_o27PbYbkO1"
   },
   "outputs": [],
   "source": [
    "preds=regr.predict(test[['Weight', 'Volume']])"
   ]
  },
  {
   "cell_type": "markdown",
   "metadata": {
    "id": "-4tkq23tbl7X"
   },
   "source": [
    "**Explanation**: You have used the predict function to estimate results based on new input data, Weight and Volume, from the testing dataset. In this case, the code tells the model to make predictions using values from the Weight and Volume columns in the test dataset. These columns are the features of the model used to predict the outcome, CO2 emissions."
   ]
  },
  {
   "cell_type": "markdown",
   "metadata": {
    "id": "A9pvMyi-bntC"
   },
   "source": [
    "### Goal 14: Import the metrics library\n",
    "\n",
    "Need extra tools to help solve this problem? Well, we can bring in extra ‘libraries’ to help us do extra data science stuff. You can think of it as an ‘add-on’. In this case, we bring in SKLearn, which is a popular library that helps us with the predictions."
   ]
  },
  {
   "cell_type": "markdown",
   "metadata": {
    "id": "WyguGgLBbter"
   },
   "source": [
    "#### Blockly"
   ]
  },
  {
   "cell_type": "markdown",
   "metadata": {
    "id": "NPHxQYsybwGo"
   },
   "source": [
    "**Step 1 - Starting the import**\n",
    "\n",
    "First, we need to set up a “command” to tell the computer what to do. In this case, “command” is to “import” to bring the add-on package in.\n",
    "\n",
    "Bring in the IMPORT menu, which can be helpful to bring in other data tools. In this case, we're bringing in the **import** block.\n"
   ]
  },
  {
   "cell_type": "markdown",
   "metadata": {
    "id": "COuOmqS7b25n"
   },
   "source": [
    "\n",
    "**Step 2 - Telling what library to import**\n",
    "\n",
    "In the text area, we type the name of the library we want to import. A library is like an extra thing we bring in to give us more coding abilities. In our case, we will type out **sklearn.metrics**, which helps us with the predictions.\n"
   ]
  },
  {
   "cell_type": "markdown",
   "metadata": {
    "id": "esS4lTWlb3qA"
   },
   "source": [
    "\n",
    "**Step 3 - Renaming the library so it’s easy to remember**\n",
    "\n",
    "Once you are done, put the **import** and **package** together in a single variable. This handy feature helps cut down on all the typing later on. You can call it whatever is easiest for you to remember. In the example below, we’ve put everything into **metrics**, and we type it in the open area.\n"
   ]
  },
  {
   "cell_type": "markdown",
   "metadata": {
    "id": "0v2QQ1kvb4be"
   },
   "source": [
    "\n",
    "**Step 4 - Connect the blocks to run the code**\n",
    "\n",
    "Connect the blocks and run the code!\n",
    "\n",
    "![](https://pbs.twimg.com/media/GacAgr6W4AAT6At?format=png&name=small\n",
    ")"
   ]
  },
  {
   "cell_type": "markdown",
   "metadata": {
    "id": "1zbedAB3cM7n"
   },
   "source": [
    "#### Freehand"
   ]
  },
  {
   "cell_type": "markdown",
   "metadata": {
    "id": "ghEd00pvcVwh"
   },
   "source": [
    "**Step 1 - Starting the import**\n",
    "\n",
    "First, we need to set up a “command” to tell the computer what to do. In this case, “command” is to “import” to bring the add-on package in.\n"
   ]
  },
  {
   "cell_type": "markdown",
   "metadata": {
    "id": "SCENALxscXcP"
   },
   "source": [
    "\n",
    "**Step 2 - Telling what library to import**\n",
    "\n",
    "In the text area, we type the name of the library we want to import. A library is like an extra thing we bring in to give us more coding abilities. In our case, we will type out **sklearn.metrics**, which will provide us with some cool data manipulation features. Some packages have a lengthy name, so we will want to make our own nickname for this.\n"
   ]
  },
  {
   "cell_type": "markdown",
   "metadata": {
    "id": "xtdW9rd0cZFC"
   },
   "source": [
    "\n",
    "**Step 3 - Renaming the library so it’s easy to remember**\n",
    "\n",
    "Once you are done, put the ‘import’ and ‘package’ together in a single variable. This handy feature helps cut down on all the typing later on. Feel free to use whatever name you want that will help you remember it later on. In the example below, we’ve put everything into **metrics**.\n"
   ]
  },
  {
   "cell_type": "markdown",
   "metadata": {
    "id": "xSsNp4YAcZ4a"
   },
   "source": [
    "\n",
    "**Step 4 - Run the code**\n",
    "\n",
    "Hit ‘control’ and ‘enter’ at the same time to run the code!\n",
    "\n",
    "![](https://pbs.twimg.com/media/GacAi_vXgAAdT_8?format=png&name=small)\n"
   ]
  },
  {
   "cell_type": "markdown",
   "metadata": {
    "id": "dwml0-dOcar8"
   },
   "source": [
    "\n",
    "**Your Turn**: Indentation aligned with Step. Bolded and colon. 2-3 sentence description. Please center image\n"
   ]
  },
  {
   "cell_type": "code",
   "execution_count": 16,
   "metadata": {
    "id": "EcafPw3hcbcH"
   },
   "outputs": [],
   "source": [
    "import sklearn.metrics as metrics"
   ]
  },
  {
   "cell_type": "markdown",
   "metadata": {
    "id": "y5daFTyEcc_s"
   },
   "source": [
    "**Explanation**: *The metrics library provides tools to measure and evaluate the performance of machine learning models. By using `metrics`, we can check how well our model is working*.\n"
   ]
  },
  {
   "cell_type": "markdown",
   "metadata": {
    "id": "V0qULAHucqkO"
   },
   "source": [
    "### Goal 15: Assessing the Performance of the Predictions on Test Dataset Using R2  \n",
    "\n",
    "So how well did our predictions do? Let’s calculate R2 to help us think about the performance of predictions on the testing dataset"
   ]
  },
  {
   "cell_type": "markdown",
   "metadata": {
    "id": "3BAKoIlgcwFE"
   },
   "source": [
    "#### Blockly"
   ]
  },
  {
   "cell_type": "markdown",
   "metadata": {
    "id": "2QkYly-4cymd"
   },
   "source": [
    "**Step 1 - Prepare the R2 score calculation from the metrics library**\n",
    "\n",
    "To calculate the correctness of the model predictions, we will use the r2_score() function from the metrics library. This correctness score will measure the percentage of correct predictions.  \n",
    "\n",
    "From the Variables menu, get a DO block for the **metrics** variable. With that, select the **r2_score** operation. This operation will compare the correctness of the model and the test label with the predicted values.\n"
   ]
  },
  {
   "cell_type": "markdown",
   "metadata": {
    "id": "e8MG7jsIc9tr"
   },
   "source": [
    "\n",
    "**Step 2 - Calculate the linear model’s correctness**\n",
    "\n",
    "The r2_score() function takes 2 parameters to calculate the correctness score and helps measure the percentage of correct predictions. So let’s compare **CO2Emission** from the test dataset and **predictions** from the model we just created.\n",
    "\n",
    "From the Lists menu, get a dictVariable block and select the test variable. From the Text men,u get a Quote “” block to inform the label name **”CO2Emission”**. This list will be used as the true labels for the accuracy calculation.\n"
   ]
  },
  {
   "cell_type": "markdown",
   "metadata": {
    "id": "Aqqi3F8rc_Nf"
   },
   "source": [
    "\n",
    "**Step 3 -  Compare testing labels with the predicted values**\n",
    "\n",
    "From the Lists menu, get a dictVariable block and select \"**test**\". Get then a Quote “” block from the Text menu, and type \"**CO2Emission**\" column."
   ]
  },
  {
   "cell_type": "markdown",
   "metadata": {
    "id": "aXNFASBndAXZ"
   },
   "source": [
    "\n",
    "**Step 4 - Connect the blocks to run the code**\n",
    "\n",
    "Connect the blocks and run the code!\n",
    "\n",
    "![](https://pbs.twimg.com/media/GcNQTiBWsAASJbl?format=jpg&name=small)"
   ]
  },
  {
   "cell_type": "markdown",
   "metadata": {
    "id": "5pDxYva_dXPp"
   },
   "source": [
    "#### Freehand"
   ]
  },
  {
   "cell_type": "markdown",
   "metadata": {
    "id": "1oxl8KJbdYYv"
   },
   "source": [
    "\n",
    "**Step 1 - Prepare the R2 score calculation from the metrics library**\n",
    "\n",
    "To calculate the correctness of the model predictions, we will use the **r2_score**() method from the metrics library.  This correctness score will measure the percentage of correct predictions.\n",
    "\n",
    "`metrics.r2_score()`\n"
   ]
  },
  {
   "cell_type": "markdown",
   "metadata": {
    "id": "lvAjPY2odiX3"
   },
   "source": [
    "\n",
    "**Step 2 - Calculate linear model’s correctness**\n",
    "\n",
    "The accuracy_score() function takes 2 parameters to calculate the correctness score and help measure the percentage of correct predictions. So let’s compare **CO2Emission** from the test dataset and **predictions** from the model we just created.\n",
    "The **r2_score**() method takes 2 parameters to calculate the accuracy score.\n",
    "- Test data labels:** test[‘CO2Emission’]**\n",
    "- The predicted labels: **predictions**\n"
   ]
  },
  {
   "cell_type": "markdown",
   "metadata": {
    "id": "oitmdaXDdjbk"
   },
   "source": [
    "\n",
    "**Step 3 - Compare testing labels with the predicted values**\n",
    "\n",
    "So let’s compare CO2Emission from the test dataset and **predictions** from the model we just created.\n",
    "\n",
    "`metrics.r2_score(test[‘CO2Emission’], predictions)`\n"
   ]
  },
  {
   "cell_type": "markdown",
   "metadata": {
    "id": "MCn9kWm2dkZz"
   },
   "source": [
    "\n",
    "**Step 4 - Run the code**\n",
    "\n",
    "Hit ‘control’ and ‘enter’ at the same time to run the code!\n",
    "\n",
    "![](https://pbs.twimg.com/media/GcNPLE0XkAETUid?format=jpg&name=small)"
   ]
  },
  {
   "cell_type": "markdown",
   "metadata": {
    "id": "6_l--5rsd8Qk"
   },
   "source": [
    "**Your Turn**: Give it a try! Here we use a metric called r2_score() to verify how accurate our model is by comparing our test labels with predictions!\n"
   ]
  },
  {
   "cell_type": "code",
   "execution_count": null,
   "metadata": {
    "id": "xZgZtwxQd_5U"
   },
   "outputs": [],
   "source": [
    "metrics.r2_score(test['CO2Emission'],predictions)"
   ]
  },
  {
   "cell_type": "markdown",
   "metadata": {
    "id": "o_UbFBoOeBM_"
   },
   "source": [
    "**Explanation**: *You have calculated a metric called R-squared to evaluate how well a model’s predictions match the actual values. The R-squared score is a number between 0 and 1. If it’s close to 1, it means the model’s predictions are very close to the actual values, so it’s doing a good job. If it’s closer to 0, it means the predictions aren’t very accurate. In short, a higher R-squared means a better model*."
   ]
  },
  {
   "cell_type": "markdown",
   "metadata": {
    "id": "YXwJUZJFeCjY"
   },
   "source": [
    "## WHAT DID YOU LEARN?"
   ]
  },
  {
   "cell_type": "markdown",
   "metadata": {
    "id": "qrDa4RPZeNIf"
   },
   "source": [
    "\n",
    "\n",
    "In this lesson on multiple linear regression, you learned several important concepts and skills. We started by understanding what a multiple regression model is and how it builds on simple linear regression by adding more predictors. We then explored interaction effects, where the effect of one predictor variable depends on another. You also learned about feature selection, which helps identify the most important variables for predicting an outcome. We discussed categorical variables and how to use dummy variables to include them in our analysis. Throughout the lesson, you got hands-on experience with practical examples, ensuring you not only understood the theory but also gained practical skills in applying multiple linear regression.\n"
   ]
  },
  {
   "cell_type": "markdown",
   "metadata": {
    "id": "By5hvhlheNLm"
   },
   "source": [
    "## WHAT’S NEXT?"
   ]
  },
  {
   "cell_type": "markdown",
   "metadata": {
    "id": "NJeQMUtneT52"
   },
   "source": [
    "[Logistic Regression](Logistic_Regression.ipynb)"
   ]
  },
  {
   "cell_type": "markdown",
   "metadata": {
    "id": "7t_Yy80reNOB"
   },
   "source": [
    "## TELL ME MORE"
   ]
  },
  {
   "cell_type": "markdown",
   "metadata": {
    "id": "CIri6lv0eNQT"
   },
   "source": [
    "\n",
    "- [Datawhys Multiple Linear Regression Notebook](https://github.com/memphis-iis/datawhys-content-notebooks-python/blob/master/Multiple-linear-regression.ipynb)\n",
    "- [Datawhys Multiple Linear Regression Problem-Solving Notebook](https://github.com/memphis-iis/datawhys-content-notebooks-python/blob/master/Multiple-linear-regression-PS.ipynb)\n"
   ]
  }
 ],
 "metadata": {
  "colab": {
   "provenance": []
  },
  "kernelspec": {
   "display_name": "Python 3 (ipykernel)",
   "language": "python",
   "name": "python3"
  },
  "language_info": {
   "codemirror_mode": {
    "name": "ipython",
    "version": 3
   },
   "file_extension": ".py",
   "mimetype": "text/x-python",
   "name": "python",
   "nbconvert_exporter": "python",
   "pygments_lexer": "ipython3",
   "version": "3.10.6"
  }
 },
 "nbformat": 4,
 "nbformat_minor": 4
}
