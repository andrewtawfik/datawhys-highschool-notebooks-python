{
 "cells": [
  {
   "cell_type": "markdown",
   "metadata": {
    "id": "sGmpnDYiJAya"
   },
   "source": [
    "# Descriptive Statistics"
   ]
  },
  {
   "cell_type": "markdown",
   "metadata": {
    "id": "bjjszogsJA01"
   },
   "source": [
    "\n",
    "## ANTICIPATED LESSON TIME\n",
    "\n"
   ]
  },
  {
   "cell_type": "markdown",
   "metadata": {
    "id": "WBVbWLVnJA3e"
   },
   "source": [
    "2 hour"
   ]
  },
  {
   "cell_type": "markdown",
   "metadata": {
    "id": "WtHzwfUmJA5-"
   },
   "source": [
    "## BEFORE YOU BEGIN"
   ]
  },
  {
   "cell_type": "markdown",
   "metadata": {
    "id": "07iASP9VJA8s"
   },
   "source": [
    "[Plotting](Plotting.ipynb)"
   ]
  },
  {
   "cell_type": "markdown",
   "metadata": {
    "id": "UsZqmHwiJA_K"
   },
   "source": [
    "## WHAT YOU WILL LEARN"
   ]
  },
  {
   "cell_type": "markdown",
   "metadata": {
    "id": "JRXyO4Z5JomX"
   },
   "source": [
    "\n",
    "- How to identify the different levels of measurement (nominal, ordinal, interval, ratio).\n",
    "- How are measures of central tendency (mean, median, mode) calculated?\n",
    "- How are measures of dispersion (spread) computed?\n",
    "- What is the importance of sampling in data analysis, and what methods are used for sampling?\n"
   ]
  },
  {
   "cell_type": "markdown",
   "metadata": {
    "id": "BkAAVmf_JBCC"
   },
   "source": [
    "## DEFINITIONS YOU’LL NEED TO KNOW"
   ]
  },
  {
   "cell_type": "markdown",
   "metadata": {
    "id": "1AOnKdtdJBFj"
   },
   "source": [
    "\n",
    "- Exploratory Data Analysis (EDA) - refers to examining data using descriptive statistics.\n",
    "- Graphical EDA - involves plotting the features (variables) in the data to look for symmetry, skewness, and the shape of the distribution, including multiple modalities.\n",
    "- Numerical EDA - involves calculating measures such as central tendency (mean, median, mode), and dispersion (range, variance, standard deviation).\n",
    "- Level of Measure - There are four levels of measure: nominal, ordinal, interval, and ratio.\n",
    "- Descriptive Measures - measuring central tendencies of a variable or measuring the spread of a variable.\n",
    "- Central Tendencies - most commonly used to describe data are mean, median, and mode.\n",
    "- Mean - the numerical average of the variables.\n",
    "- Median - the number in the middle of the data.\n",
    "- Mode - the value in the data that shows up the most.\n",
    "- Outlier - extreme values in a dataset\n",
    "- Measures of Dispersion (Spread) - how the data are spread out around a center value. There are multiple ways of defining spread, including range and variance.\n",
    "- Range - the maximum value minus the minimum.\n",
    "- Interquartile Range - This is a measure of spread that is less sensitive to outliers. It is calculated as the difference between the third quartile (75th percentile) and the first quartile (25th percentile).\n",
    "- Variance - measures the sum of squared differences of the data about the mean.\n",
    "- Sampling - involves selecting a subset of individuals or observations from a larger population to estimate and make inferences about that population.\n"
   ]
  },
  {
   "cell_type": "markdown",
   "metadata": {
    "id": "D77MD3nbJ9MQ"
   },
   "source": [
    "## SCENARIO:\n"
   ]
  },
  {
   "cell_type": "markdown",
   "metadata": {
    "deletable": false,
    "editable": false,
    "html": "<iframe class='metadata-html' width='560' height='315' src='https://video.olney.ai/3-descriptive.mp4' title='YouTube video player' frameborder='0' allow='accelerometer; autoplay; clipboard-write; encrypted-media; gyroscope; picture-in-picture; web-share' referrerpolicy='strict-origin-when-cross-origin' allowfullscreen></iframe>",
    "id": "npqY6ZiSbavX",
    "slideshow": {
     "slide_type": ""
    },
    "tags": []
   },
   "source": [
    "\n",
    "\n",
    "Diego is a new member of Angelina’s after-school program. He lives close to school and is really passionate about trying to help reduce traffic and pollution.\n",
    "\n",
    "Diego needs to figure out how to measure the data while also trying to determine tendencies within the data set. There’s lots of data to look at, like car emissions, usage of cars, and the number of people per vehicle, to better understand the cause of pollution within his city. Other data he’s considering are different categories of the types of cars.\n",
    "\n",
    "Although he’s plotted and looked at different data visualizations, he wants to better think about the data. Angela and Diego talk about how thinking about the middle point of all the data together might be better than thinking about each data point. They want to test out different ideas, so they thought it might be a good idea to gather a little bit of information, sometimes called a sample, to think about the best step to move forward for the after-school club.\n"
   ]
  },
  {
   "cell_type": "markdown",
   "metadata": {
    "id": "-J4PwvRaL_KN"
   },
   "source": [
    "## WHAT DO I NEED TO KNOW?\n"
   ]
  },
  {
   "cell_type": "markdown",
   "metadata": {
    "id": "fOjVWsEcMaP8"
   },
   "source": [
    "\n",
    "To help Diego understand and analyze the data the club collects, we need to learn about **Exploratory Data Analysis (EDA)**, which helps us understand the data. **Graphical EDA** plots features for things like symmetry, skewness, and multiple modalities. **Numerical EDA** measures the center of all the data (mean, median, mode) and its spread (range, variance, standard deviation). Let’s break it down!\n",
    "\n",
    "*How do I think about the center of my dataset?*\n",
    "\n",
    "Let’s think about the ‘center’ of all the data a bit. We can use mean, median, and mode to think about the **central tendencies** for all the data points. Let’s try and break down the difference.\n",
    "\n",
    "- **Mean** is the numerical average of a data set where we add up everything and divide it by the number of measurements.  You are probably used to seeing this as the average number of points per game from a basketball player.\n",
    "- **Median** is the number in the middle of the data set. So we line up all the numbers and find the middle - it’s just that easy.\n",
    "- **Mode** is the value in the dataset that shows up the most. Let’s say the most common grade on the end of semester final was 92%, so that would be the mode.\n",
    "\n",
    "Sometimes, the mean, median, and mode are the same, but not always!\n",
    "\n",
    "*How do I think about how spread out my dataset is?*\n",
    "\n",
    "While the middle is one way to think about our data, we can also think about **measures of dispersion** to understand how spread out the data might be. To do that, we need to understand the **range** and **variance**\n",
    "\n",
    "- **Range** is easy because all we do is subtract the biggest number from the smallest number in a dataset. Although this doesn’t require a lot of math, if we have a few extremely big or small values (**outliers**), the range can be thrown off by them and become bigger than it should be.\n",
    "\n",
    "So, what do we do when we run into outliers that could mess up our range? When we measure the **interquartile range**, we break up the data set into four equal ‘quarters’. From there, we just subtract the first quartile from the third quartile.\n",
    "\n",
    "- **Variance** - takes all the data points from the mean and tries to square the difference from the mean. Makes it a little easier to understand because you don’t have any negative numbers\n",
    "\n",
    "- **Standard deviation** -just take variance and get the square root of it.\n",
    "\n",
    "Refer to the chart below for a quick reference about EDA:\n",
    "\n",
    "![](https://pbs.twimg.com/media/Gejo9s3WcAAMn8g?format=png&name=small\n",
    ")\n",
    "\n",
    "\n",
    "*So, how much data should we look at?*\n",
    "\n",
    "So where should the afterschool even start? Because it’s not practical for the group to collect data on every single vehicle in their hometown, instead they will take a **sample** where we take a smaller portion of the data from the larger population. Analyzing this smaller dataset will help us to estimate and understand the population\n",
    "\n",
    "So, let’s dive in!\n"
   ]
  },
  {
   "cell_type": "markdown",
   "metadata": {
    "id": "DVKpc22tNUmx"
   },
   "source": [
    "## YOUR TURN\n"
   ]
  },
  {
   "cell_type": "markdown",
   "metadata": {
    "id": "xss5OrD3NU5G"
   },
   "source": [
    "Now that you understand different ways to measure and examine data, it’s time to practice applying this concept! As you go through this, pay close attention to the different levels of measurement and how tendency is measured. These tools will help us understand how spread out the data is while still letting us know what the central point looks like.\n"
   ]
  },
  {
   "cell_type": "markdown",
   "metadata": {
    "id": "uPZqofbaNeM1"
   },
   "source": [
    "## Finding the Average"
   ]
  },
  {
   "cell_type": "markdown",
   "metadata": {
    "id": "pZ5wizf_Nfv7"
   },
   "source": [
    "### Goal 1: Importing the Pandas Library\n",
    "\n",
    "Need extra tools to help solve this problem?  Well, we can bring in extra ‘libraries’ to help us do extra data science stuff. You can think of it as an ‘add-on’. In this case, we bring in pandas, which is a popular library for doing data science stuff."
   ]
  },
  {
   "cell_type": "markdown",
   "metadata": {
    "id": "3mNQfgNwNgTq"
   },
   "source": [
    "\n",
    "**Step 1 - Starting the import **\n",
    "\n",
    "First, we need to set up a “command” to tell the computer what to do. In this case, the “command” is used to “import” to bring the add-on package in.\n",
    "\n",
    "Bring in the IMPORT menu, which can be helpful to bring in other data tools. In this case, we're bringing in the **import** block.\n"
   ]
  },
  {
   "cell_type": "markdown",
   "metadata": {
    "id": "qIkqk9nPNqro"
   },
   "source": [
    "\n",
    "**Step 2 - Telling what library to import**\n",
    "\n",
    "In the text area, we type the name of the library we want to import. A library is like an extra thing we bring in to give us more coding abilities. In our case, we will type out **pandas**, which will bring in some cool data manipulation features.\n"
   ]
  },
  {
   "cell_type": "markdown",
   "metadata": {
    "id": "mcK8mMSkNgWL"
   },
   "source": [
    "\n",
    "**Step 3 - Renaming the library so it’s easy to remember**\n",
    "\n",
    "Once you are done, put the **import** and **package** together in a single variable. This handy feature helps cut down on all the typing later on. You can call it whatever is easiest for you to remember. In the example below, we’ve put everything into **pd**, and we type it in the open area.\n"
   ]
  },
  {
   "cell_type": "markdown",
   "metadata": {
    "id": "ziGTJp2PN32T"
   },
   "source": [
    "\n",
    "**Step 4 - Connect the blocks to run the code**\n",
    "\n",
    "Connect the blocks and run the code!\n",
    "\n",
    "![](https://pbs.twimg.com/media/GZYmOOpW8AAf7uc?format=png&name=240x240)"
   ]
  },
  {
   "cell_type": "markdown",
   "metadata": {
    "id": "KzxWHYxtN9Q0"
   },
   "source": [
    "#### Freehand"
   ]
  },
  {
   "cell_type": "markdown",
   "metadata": {
    "id": "9Iro5GBDN_ip"
   },
   "source": [
    "**Step 1 - Starting the import**\n",
    "\n",
    "First, we need to set up a “command” to tell the computer what to do. In this case, the “command” is used to “import” to bring the add-on package in."
   ]
  },
  {
   "cell_type": "markdown",
   "metadata": {
    "id": "FaOJ8YiwN_k9"
   },
   "source": [
    "\n",
    "**Step 2 - Telling what library to import**\n",
    "\n",
    "In the text area, we type the name of the library we want to import. A library is like an extra thing we bring in to give us more coding abilities. In our case, we will type out **pandas**, which will bring in some cool data manipulation features.\n"
   ]
  },
  {
   "cell_type": "markdown",
   "metadata": {
    "id": "kRTZFNsWOHTH"
   },
   "source": [
    "\n",
    "**Step 3 - Renaming the library so it’s easy to remember**\n",
    "\n",
    "Once you are done, put the ‘import’ and ‘package’ together in a single variable. This handy feature helps cut down on all the typing later on. Feel free to use whatever name you want that will help you remember it later on. In the example below, we’ve put everything into ‘pd’."
   ]
  },
  {
   "cell_type": "markdown",
   "metadata": {
    "id": "IHcF6M3YN_nF"
   },
   "source": [
    "\n",
    "**Step 4 - Run the code**\n",
    "\n",
    "Hit ‘control’ and ‘enter’ at the same time to run the code!\n",
    "\n",
    "\n",
    "![](https://pbs.twimg.com/media/GZmkVCYWEA4oGso?format=jpg&name=small)"
   ]
  },
  {
   "cell_type": "markdown",
   "metadata": {
    "id": "SWe-P6RwN_pX"
   },
   "source": [
    "**Your Turn**: Now it’s your turn! We’re going to dive into the pandas package, which helps us with some really cool data science things. First, let’s import the package and assign it to the variable “pd” to make it easier to use throughout our notebook."
   ]
  },
  {
   "cell_type": "code",
   "execution_count": 4,
   "metadata": {
    "id": "3aKSA8JlcEeR"
   },
   "outputs": [],
   "source": [
    "import pandas as pd"
   ]
  },
  {
   "cell_type": "markdown",
   "metadata": {
    "id": "ZBdBI-r0N_r2"
   },
   "source": [
    "**Explanation**: *Congrats!  Your attempts finally made it!  Now you have successfully imported the \"pandas\" package as the variable \"pd\".*"
   ]
  },
  {
   "cell_type": "markdown",
   "metadata": {
    "id": "fR6DB1mQN_ut"
   },
   "source": [
    "### Goal 2: Bringing in the Dataframe  \n",
    "\n",
    "Load data into a dataframe in Python, use the pd.read_csv command to read a CSV file and store it in a variable for easy data manipulation and analysis."
   ]
  },
  {
   "cell_type": "markdown",
   "metadata": {
    "id": "B48jRyNEcYT0"
   },
   "source": [
    "#### Blockly"
   ]
  },
  {
   "cell_type": "markdown",
   "metadata": {
    "id": "mm2A9ZRZcgIe"
   },
   "source": [
    "\n",
    "**Step 1 - Write out the variable name you want to use**\n",
    "\n",
    "Now that we’re all set with our new package to help us do cool things, let’s bring the data into a variable and call it **dataframe**.\n",
    "\n",
    "In Blockly, bring in the VARIABLES menu.\n"
   ]
  },
  {
   "cell_type": "markdown",
   "metadata": {
    "id": "gcGJL_IDcix4"
   },
   "source": [
    "\n",
    "**Step 2 - Assign the dataframe to the variable you created**\n",
    "\n",
    "Just like we did before, let’s type out a variable name. Rather than type out the full file name for our data, this easy to remember name will hold the data we bring in.\n",
    "\n",
    "In Blockly, go to the Variables and drag the Set block for the **dataframe** variable. This will allow us to assign the result of a function call to the variable.\n"
   ]
  },
  {
   "cell_type": "markdown",
   "metadata": {
    "id": "6DL3R-LRclEr"
   },
   "source": [
    "\n",
    "**Step 3 - Bring in the data**\n",
    "\n",
    "Now, we need to look at the file that has all our data. To load our dataframe, we’ll use a simple command to bring in the file we need (CSV….Comma Separated Values). Let’s say we have a file called \"datasets/AirQualityNum.csv\" in the folder **‘datasets’**. We’re telling Python to read the CSV file and store it in a variable called **dataframe**.\n",
    "\n",
    "From the Variable menu, drag a DO block using the **pd** variable, and go ahead with the do operation **read_csv**. The read_csv function reads a CSV file and returns a DataFrame object.\n",
    "\n",
    "In our case, let’s bring in the \"datasets/AirQualityNum.csv\" (use the Quotes from the TEXT menu) because that is what Diego is working with.\n"
   ]
  },
  {
   "cell_type": "markdown",
   "metadata": {
    "id": "fNuA2m79cmhQ"
   },
   "source": [
    "\n",
    "**Step 4 - Display the variable**\n",
    "\n",
    "Drag the **dataframe** variable to the workspace, making it available for further use in our program. This step is more of a visualization step, as it allows us to see the variable in the Blockly workspace.\n"
   ]
  },
  {
   "cell_type": "markdown",
   "metadata": {
    "id": "8a--NjbJcnaa"
   },
   "source": [
    "\n",
    "**Step 5 - Connect the blocks to run the code**\n",
    "\n",
    "Connect the blocks and run the code!\n",
    "\n",
    "![](https://pbs.twimg.com/media/GaNCQLXW8AAVywW?format=png&name=small)"
   ]
  },
  {
   "cell_type": "markdown",
   "metadata": {
    "id": "GkbBMXDfdRXX"
   },
   "source": [
    "#### Freehand"
   ]
  },
  {
   "cell_type": "markdown",
   "metadata": {
    "id": "OnW2utm9dRZ2"
   },
   "source": [
    "\n",
    "**Step 1 - Write out the variable name you want to use**\n",
    "\n",
    "Now that we’re all set with our new package to help us to do cool things, let’s bring the data into a variable called **dataframe**. Think of it as a digital spreadsheet with much more power to analyze and manipulate the data!\n",
    "\n",
    "Just like we did before, let’s type out a variable name. Rather than type out the full file name for our data, this easy to remember name will hold the data we bring in.\n"
   ]
  },
  {
   "cell_type": "markdown",
   "metadata": {
    "id": "jh6snMr7dRb6"
   },
   "source": [
    "\n",
    "**Step 2 - Bring in the data**\n",
    "\n",
    "Now we need to look at the file that has all our data.\n",
    "\n",
    "To load our dataframe, we’ll use a simple command to bring in the file we need (CSV….Comma Separated Values). Let’s say we have a file called “datasets/AirQualityNum.csv” in the folder **‘datasets’**. We’re telling Python to read the CSV file and store it in a variable called **dataframe**. For this function, we need to specify the code as “pd.read_csv”, which makes the code read the csv file. This variable is now our dataframe!\n",
    "\n",
    "In our case, let’s bring in the “datasets/AirQualityNum.csv” (use the Quotes from the TEXT menu) because that is what Diego is working with.\n"
   ]
  },
  {
   "cell_type": "markdown",
   "metadata": {
    "id": "3og36V8edReQ"
   },
   "source": [
    "\n",
    "**Step 3 - Assign the dataframe to the variable you created**\n",
    "\n",
    "Just like we did before, let’s type out a variable name. Rather than type out the full file name for our data, this easy to remember name will hold the data we bring in.\n"
   ]
  },
  {
   "cell_type": "markdown",
   "metadata": {
    "id": "3-C5GYmzdRgj"
   },
   "source": [
    "\n",
    "**Step 4 - Print the variable**\n",
    "\n",
    "Let’s see it now by ‘printing’ and showing our work.\n"
   ]
  },
  {
   "cell_type": "markdown",
   "metadata": {
    "id": "N2ECSiZVdRjE"
   },
   "source": [
    "\n",
    "**Step 5 - Run the code**\n",
    "\n",
    "Hit ‘control’ and ‘enter’ at the same time to run the code!\n",
    "\n",
    "![](https://pbs.twimg.com/media/GaNH7RVXUAAAtFG?format=png&name=small)\n"
   ]
  },
  {
   "cell_type": "markdown",
   "metadata": {
    "id": "ib6kgV_TdRlg"
   },
   "source": [
    "**Your Turn**: Let’s dive in and start working with the data! We’ll begin by loading it into a dataframe, which will allow us to interact with and analyze the dataset easily."
   ]
  },
  {
   "cell_type": "code",
   "execution_count": 5,
   "metadata": {
    "colab": {
     "base_uri": "https://localhost:8080/",
     "height": 423
    },
    "id": "a5ecKfDrdxyI",
    "outputId": "fc3e23fe-1cdc-4d87-cfec-3a652db3acfd"
   },
   "outputs": [
    {
     "data": {
      "application/vnd.google.colaboratory.intrinsic+json": {
       "summary": "{\n  \"name\": \"dataframe\",\n  \"rows\": 10000,\n  \"fields\": [\n    {\n      \"column\": \"Engine Size\",\n      \"properties\": {\n        \"dtype\": \"number\",\n        \"std\": 1.495676657933399,\n        \"min\": 0.8000605007,\n        \"max\": 5.998531901,\n        \"num_unique_values\": 10000,\n        \"samples\": [\n          2.554880638,\n          4.832627543,\n          4.044258349\n        ],\n        \"semantic_type\": \"\",\n        \"description\": \"\"\n      }\n    },\n    {\n      \"column\": \"Age of Vehicle\",\n      \"properties\": {\n        \"dtype\": \"number\",\n        \"std\": 8,\n        \"min\": 0,\n        \"max\": 29,\n        \"num_unique_values\": 30,\n        \"samples\": [\n          19,\n          7,\n          27\n        ],\n        \"semantic_type\": \"\",\n        \"description\": \"\"\n      }\n    },\n    {\n      \"column\": \"Speed\",\n      \"properties\": {\n        \"dtype\": \"number\",\n        \"std\": 34.43717471596409,\n        \"min\": 0.0006644010886,\n        \"max\": 119.9747246,\n        \"num_unique_values\": 10000,\n        \"samples\": [\n          115.1612681,\n          60.09804517,\n          25.27698508\n        ],\n        \"semantic_type\": \"\",\n        \"description\": \"\"\n      }\n    },\n    {\n      \"column\": \"Acceleration\",\n      \"properties\": {\n        \"dtype\": \"number\",\n        \"std\": 1.4461298966672997,\n        \"min\": 8.37e-05,\n        \"max\": 4.999860737,\n        \"num_unique_values\": 10000,\n        \"samples\": [\n          4.483098939,\n          1.179534222,\n          1.597377729\n        ],\n        \"semantic_type\": \"\",\n        \"description\": \"\"\n      }\n    },\n    {\n      \"column\": \"CO2Emissions\",\n      \"properties\": {\n        \"dtype\": \"number\",\n        \"std\": 130.7899425829461,\n        \"min\": 50.04541218,\n        \"max\": 499.996419,\n        \"num_unique_values\": 10000,\n        \"samples\": [\n          402.6143276,\n          132.396972,\n          307.1432818\n        ],\n        \"semantic_type\": \"\",\n        \"description\": \"\"\n      }\n    }\n  ]\n}",
       "type": "dataframe",
       "variable_name": "dataframe"
      },
      "text/html": [
       "\n",
       "  <div id=\"df-9abe1f10-5d26-477a-8bfe-5d2451cfb1ee\" class=\"colab-df-container\">\n",
       "    <div>\n",
       "<style scoped>\n",
       "    .dataframe tbody tr th:only-of-type {\n",
       "        vertical-align: middle;\n",
       "    }\n",
       "\n",
       "    .dataframe tbody tr th {\n",
       "        vertical-align: top;\n",
       "    }\n",
       "\n",
       "    .dataframe thead th {\n",
       "        text-align: right;\n",
       "    }\n",
       "</style>\n",
       "<table border=\"1\" class=\"dataframe\">\n",
       "  <thead>\n",
       "    <tr style=\"text-align: right;\">\n",
       "      <th></th>\n",
       "      <th>Engine Size</th>\n",
       "      <th>Age of Vehicle</th>\n",
       "      <th>Speed</th>\n",
       "      <th>Acceleration</th>\n",
       "      <th>CO2Emissions</th>\n",
       "    </tr>\n",
       "  </thead>\n",
       "  <tbody>\n",
       "    <tr>\n",
       "      <th>0</th>\n",
       "      <td>2.747609</td>\n",
       "      <td>22</td>\n",
       "      <td>49.083255</td>\n",
       "      <td>1.887738</td>\n",
       "      <td>179.930088</td>\n",
       "    </tr>\n",
       "    <tr>\n",
       "      <th>1</th>\n",
       "      <td>5.743714</td>\n",
       "      <td>3</td>\n",
       "      <td>23.460311</td>\n",
       "      <td>3.544147</td>\n",
       "      <td>250.505219</td>\n",
       "    </tr>\n",
       "    <tr>\n",
       "      <th>2</th>\n",
       "      <td>4.606368</td>\n",
       "      <td>17</td>\n",
       "      <td>115.508351</td>\n",
       "      <td>4.646886</td>\n",
       "      <td>404.979103</td>\n",
       "    </tr>\n",
       "    <tr>\n",
       "      <th>3</th>\n",
       "      <td>3.913024</td>\n",
       "      <td>4</td>\n",
       "      <td>18.540217</td>\n",
       "      <td>3.581004</td>\n",
       "      <td>463.568608</td>\n",
       "    </tr>\n",
       "    <tr>\n",
       "      <th>4</th>\n",
       "      <td>1.611297</td>\n",
       "      <td>15</td>\n",
       "      <td>109.596566</td>\n",
       "      <td>3.879303</td>\n",
       "      <td>79.514604</td>\n",
       "    </tr>\n",
       "    <tr>\n",
       "      <th>...</th>\n",
       "      <td>...</td>\n",
       "      <td>...</td>\n",
       "      <td>...</td>\n",
       "      <td>...</td>\n",
       "      <td>...</td>\n",
       "    </tr>\n",
       "    <tr>\n",
       "      <th>9995</th>\n",
       "      <td>5.259811</td>\n",
       "      <td>1</td>\n",
       "      <td>60.526870</td>\n",
       "      <td>1.665292</td>\n",
       "      <td>380.616106</td>\n",
       "    </tr>\n",
       "    <tr>\n",
       "      <th>9996</th>\n",
       "      <td>5.467046</td>\n",
       "      <td>5</td>\n",
       "      <td>114.120190</td>\n",
       "      <td>1.174369</td>\n",
       "      <td>135.691599</td>\n",
       "    </tr>\n",
       "    <tr>\n",
       "      <th>9997</th>\n",
       "      <td>5.722881</td>\n",
       "      <td>8</td>\n",
       "      <td>11.987215</td>\n",
       "      <td>0.598791</td>\n",
       "      <td>315.706170</td>\n",
       "    </tr>\n",
       "    <tr>\n",
       "      <th>9998</th>\n",
       "      <td>2.866938</td>\n",
       "      <td>2</td>\n",
       "      <td>95.832661</td>\n",
       "      <td>1.475712</td>\n",
       "      <td>210.794670</td>\n",
       "    </tr>\n",
       "    <tr>\n",
       "      <th>9999</th>\n",
       "      <td>1.929130</td>\n",
       "      <td>15</td>\n",
       "      <td>40.137971</td>\n",
       "      <td>2.292448</td>\n",
       "      <td>422.860000</td>\n",
       "    </tr>\n",
       "  </tbody>\n",
       "</table>\n",
       "<p>10000 rows × 5 columns</p>\n",
       "</div>\n",
       "    <div class=\"colab-df-buttons\">\n",
       "\n",
       "  <div class=\"colab-df-container\">\n",
       "    <button class=\"colab-df-convert\" onclick=\"convertToInteractive('df-9abe1f10-5d26-477a-8bfe-5d2451cfb1ee')\"\n",
       "            title=\"Convert this dataframe to an interactive table.\"\n",
       "            style=\"display:none;\">\n",
       "\n",
       "  <svg xmlns=\"http://www.w3.org/2000/svg\" height=\"24px\" viewBox=\"0 -960 960 960\">\n",
       "    <path d=\"M120-120v-720h720v720H120Zm60-500h600v-160H180v160Zm220 220h160v-160H400v160Zm0 220h160v-160H400v160ZM180-400h160v-160H180v160Zm440 0h160v-160H620v160ZM180-180h160v-160H180v160Zm440 0h160v-160H620v160Z\"/>\n",
       "  </svg>\n",
       "    </button>\n",
       "\n",
       "  <style>\n",
       "    .colab-df-container {\n",
       "      display:flex;\n",
       "      gap: 12px;\n",
       "    }\n",
       "\n",
       "    .colab-df-convert {\n",
       "      background-color: #E8F0FE;\n",
       "      border: none;\n",
       "      border-radius: 50%;\n",
       "      cursor: pointer;\n",
       "      display: none;\n",
       "      fill: #1967D2;\n",
       "      height: 32px;\n",
       "      padding: 0 0 0 0;\n",
       "      width: 32px;\n",
       "    }\n",
       "\n",
       "    .colab-df-convert:hover {\n",
       "      background-color: #E2EBFA;\n",
       "      box-shadow: 0px 1px 2px rgba(60, 64, 67, 0.3), 0px 1px 3px 1px rgba(60, 64, 67, 0.15);\n",
       "      fill: #174EA6;\n",
       "    }\n",
       "\n",
       "    .colab-df-buttons div {\n",
       "      margin-bottom: 4px;\n",
       "    }\n",
       "\n",
       "    [theme=dark] .colab-df-convert {\n",
       "      background-color: #3B4455;\n",
       "      fill: #D2E3FC;\n",
       "    }\n",
       "\n",
       "    [theme=dark] .colab-df-convert:hover {\n",
       "      background-color: #434B5C;\n",
       "      box-shadow: 0px 1px 3px 1px rgba(0, 0, 0, 0.15);\n",
       "      filter: drop-shadow(0px 1px 2px rgba(0, 0, 0, 0.3));\n",
       "      fill: #FFFFFF;\n",
       "    }\n",
       "  </style>\n",
       "\n",
       "    <script>\n",
       "      const buttonEl =\n",
       "        document.querySelector('#df-9abe1f10-5d26-477a-8bfe-5d2451cfb1ee button.colab-df-convert');\n",
       "      buttonEl.style.display =\n",
       "        google.colab.kernel.accessAllowed ? 'block' : 'none';\n",
       "\n",
       "      async function convertToInteractive(key) {\n",
       "        const element = document.querySelector('#df-9abe1f10-5d26-477a-8bfe-5d2451cfb1ee');\n",
       "        const dataTable =\n",
       "          await google.colab.kernel.invokeFunction('convertToInteractive',\n",
       "                                                    [key], {});\n",
       "        if (!dataTable) return;\n",
       "\n",
       "        const docLinkHtml = 'Like what you see? Visit the ' +\n",
       "          '<a target=\"_blank\" href=https://colab.research.google.com/notebooks/data_table.ipynb>data table notebook</a>'\n",
       "          + ' to learn more about interactive tables.';\n",
       "        element.innerHTML = '';\n",
       "        dataTable['output_type'] = 'display_data';\n",
       "        await google.colab.output.renderOutput(dataTable, element);\n",
       "        const docLink = document.createElement('div');\n",
       "        docLink.innerHTML = docLinkHtml;\n",
       "        element.appendChild(docLink);\n",
       "      }\n",
       "    </script>\n",
       "  </div>\n",
       "\n",
       "\n",
       "<div id=\"df-d6d8e2fc-f2c0-4e98-94bf-4b35d0808d24\">\n",
       "  <button class=\"colab-df-quickchart\" onclick=\"quickchart('df-d6d8e2fc-f2c0-4e98-94bf-4b35d0808d24')\"\n",
       "            title=\"Suggest charts\"\n",
       "            style=\"display:none;\">\n",
       "\n",
       "<svg xmlns=\"http://www.w3.org/2000/svg\" height=\"24px\"viewBox=\"0 0 24 24\"\n",
       "     width=\"24px\">\n",
       "    <g>\n",
       "        <path d=\"M19 3H5c-1.1 0-2 .9-2 2v14c0 1.1.9 2 2 2h14c1.1 0 2-.9 2-2V5c0-1.1-.9-2-2-2zM9 17H7v-7h2v7zm4 0h-2V7h2v10zm4 0h-2v-4h2v4z\"/>\n",
       "    </g>\n",
       "</svg>\n",
       "  </button>\n",
       "\n",
       "<style>\n",
       "  .colab-df-quickchart {\n",
       "      --bg-color: #E8F0FE;\n",
       "      --fill-color: #1967D2;\n",
       "      --hover-bg-color: #E2EBFA;\n",
       "      --hover-fill-color: #174EA6;\n",
       "      --disabled-fill-color: #AAA;\n",
       "      --disabled-bg-color: #DDD;\n",
       "  }\n",
       "\n",
       "  [theme=dark] .colab-df-quickchart {\n",
       "      --bg-color: #3B4455;\n",
       "      --fill-color: #D2E3FC;\n",
       "      --hover-bg-color: #434B5C;\n",
       "      --hover-fill-color: #FFFFFF;\n",
       "      --disabled-bg-color: #3B4455;\n",
       "      --disabled-fill-color: #666;\n",
       "  }\n",
       "\n",
       "  .colab-df-quickchart {\n",
       "    background-color: var(--bg-color);\n",
       "    border: none;\n",
       "    border-radius: 50%;\n",
       "    cursor: pointer;\n",
       "    display: none;\n",
       "    fill: var(--fill-color);\n",
       "    height: 32px;\n",
       "    padding: 0;\n",
       "    width: 32px;\n",
       "  }\n",
       "\n",
       "  .colab-df-quickchart:hover {\n",
       "    background-color: var(--hover-bg-color);\n",
       "    box-shadow: 0 1px 2px rgba(60, 64, 67, 0.3), 0 1px 3px 1px rgba(60, 64, 67, 0.15);\n",
       "    fill: var(--button-hover-fill-color);\n",
       "  }\n",
       "\n",
       "  .colab-df-quickchart-complete:disabled,\n",
       "  .colab-df-quickchart-complete:disabled:hover {\n",
       "    background-color: var(--disabled-bg-color);\n",
       "    fill: var(--disabled-fill-color);\n",
       "    box-shadow: none;\n",
       "  }\n",
       "\n",
       "  .colab-df-spinner {\n",
       "    border: 2px solid var(--fill-color);\n",
       "    border-color: transparent;\n",
       "    border-bottom-color: var(--fill-color);\n",
       "    animation:\n",
       "      spin 1s steps(1) infinite;\n",
       "  }\n",
       "\n",
       "  @keyframes spin {\n",
       "    0% {\n",
       "      border-color: transparent;\n",
       "      border-bottom-color: var(--fill-color);\n",
       "      border-left-color: var(--fill-color);\n",
       "    }\n",
       "    20% {\n",
       "      border-color: transparent;\n",
       "      border-left-color: var(--fill-color);\n",
       "      border-top-color: var(--fill-color);\n",
       "    }\n",
       "    30% {\n",
       "      border-color: transparent;\n",
       "      border-left-color: var(--fill-color);\n",
       "      border-top-color: var(--fill-color);\n",
       "      border-right-color: var(--fill-color);\n",
       "    }\n",
       "    40% {\n",
       "      border-color: transparent;\n",
       "      border-right-color: var(--fill-color);\n",
       "      border-top-color: var(--fill-color);\n",
       "    }\n",
       "    60% {\n",
       "      border-color: transparent;\n",
       "      border-right-color: var(--fill-color);\n",
       "    }\n",
       "    80% {\n",
       "      border-color: transparent;\n",
       "      border-right-color: var(--fill-color);\n",
       "      border-bottom-color: var(--fill-color);\n",
       "    }\n",
       "    90% {\n",
       "      border-color: transparent;\n",
       "      border-bottom-color: var(--fill-color);\n",
       "    }\n",
       "  }\n",
       "</style>\n",
       "\n",
       "  <script>\n",
       "    async function quickchart(key) {\n",
       "      const quickchartButtonEl =\n",
       "        document.querySelector('#' + key + ' button');\n",
       "      quickchartButtonEl.disabled = true;  // To prevent multiple clicks.\n",
       "      quickchartButtonEl.classList.add('colab-df-spinner');\n",
       "      try {\n",
       "        const charts = await google.colab.kernel.invokeFunction(\n",
       "            'suggestCharts', [key], {});\n",
       "      } catch (error) {\n",
       "        console.error('Error during call to suggestCharts:', error);\n",
       "      }\n",
       "      quickchartButtonEl.classList.remove('colab-df-spinner');\n",
       "      quickchartButtonEl.classList.add('colab-df-quickchart-complete');\n",
       "    }\n",
       "    (() => {\n",
       "      let quickchartButtonEl =\n",
       "        document.querySelector('#df-d6d8e2fc-f2c0-4e98-94bf-4b35d0808d24 button');\n",
       "      quickchartButtonEl.style.display =\n",
       "        google.colab.kernel.accessAllowed ? 'block' : 'none';\n",
       "    })();\n",
       "  </script>\n",
       "</div>\n",
       "\n",
       "  <div id=\"id_7faecca0-3a92-4723-b8d1-e13972a36dd3\">\n",
       "    <style>\n",
       "      .colab-df-generate {\n",
       "        background-color: #E8F0FE;\n",
       "        border: none;\n",
       "        border-radius: 50%;\n",
       "        cursor: pointer;\n",
       "        display: none;\n",
       "        fill: #1967D2;\n",
       "        height: 32px;\n",
       "        padding: 0 0 0 0;\n",
       "        width: 32px;\n",
       "      }\n",
       "\n",
       "      .colab-df-generate:hover {\n",
       "        background-color: #E2EBFA;\n",
       "        box-shadow: 0px 1px 2px rgba(60, 64, 67, 0.3), 0px 1px 3px 1px rgba(60, 64, 67, 0.15);\n",
       "        fill: #174EA6;\n",
       "      }\n",
       "\n",
       "      [theme=dark] .colab-df-generate {\n",
       "        background-color: #3B4455;\n",
       "        fill: #D2E3FC;\n",
       "      }\n",
       "\n",
       "      [theme=dark] .colab-df-generate:hover {\n",
       "        background-color: #434B5C;\n",
       "        box-shadow: 0px 1px 3px 1px rgba(0, 0, 0, 0.15);\n",
       "        filter: drop-shadow(0px 1px 2px rgba(0, 0, 0, 0.3));\n",
       "        fill: #FFFFFF;\n",
       "      }\n",
       "    </style>\n",
       "    <button class=\"colab-df-generate\" onclick=\"generateWithVariable('dataframe')\"\n",
       "            title=\"Generate code using this dataframe.\"\n",
       "            style=\"display:none;\">\n",
       "\n",
       "  <svg xmlns=\"http://www.w3.org/2000/svg\" height=\"24px\"viewBox=\"0 0 24 24\"\n",
       "       width=\"24px\">\n",
       "    <path d=\"M7,19H8.4L18.45,9,17,7.55,7,17.6ZM5,21V16.75L18.45,3.32a2,2,0,0,1,2.83,0l1.4,1.43a1.91,1.91,0,0,1,.58,1.4,1.91,1.91,0,0,1-.58,1.4L9.25,21ZM18.45,9,17,7.55Zm-12,3A5.31,5.31,0,0,0,4.9,8.1,5.31,5.31,0,0,0,1,6.5,5.31,5.31,0,0,0,4.9,4.9,5.31,5.31,0,0,0,6.5,1,5.31,5.31,0,0,0,8.1,4.9,5.31,5.31,0,0,0,12,6.5,5.46,5.46,0,0,0,6.5,12Z\"/>\n",
       "  </svg>\n",
       "    </button>\n",
       "    <script>\n",
       "      (() => {\n",
       "      const buttonEl =\n",
       "        document.querySelector('#id_7faecca0-3a92-4723-b8d1-e13972a36dd3 button.colab-df-generate');\n",
       "      buttonEl.style.display =\n",
       "        google.colab.kernel.accessAllowed ? 'block' : 'none';\n",
       "\n",
       "      buttonEl.onclick = () => {\n",
       "        google.colab.notebook.generateWithVariable('dataframe');\n",
       "      }\n",
       "      })();\n",
       "    </script>\n",
       "  </div>\n",
       "\n",
       "    </div>\n",
       "  </div>\n"
      ],
      "text/plain": [
       "      Engine Size  Age of Vehicle       Speed  Acceleration  CO2Emissions\n",
       "0        2.747609              22   49.083255      1.887738    179.930088\n",
       "1        5.743714               3   23.460311      3.544147    250.505219\n",
       "2        4.606368              17  115.508351      4.646886    404.979103\n",
       "3        3.913024               4   18.540217      3.581004    463.568608\n",
       "4        1.611297              15  109.596566      3.879303     79.514604\n",
       "...           ...             ...         ...           ...           ...\n",
       "9995     5.259811               1   60.526870      1.665292    380.616106\n",
       "9996     5.467046               5  114.120190      1.174369    135.691599\n",
       "9997     5.722881               8   11.987215      0.598791    315.706170\n",
       "9998     2.866938               2   95.832661      1.475712    210.794670\n",
       "9999     1.929130              15   40.137971      2.292448    422.860000\n",
       "\n",
       "[10000 rows x 5 columns]"
      ]
     },
     "execution_count": 5,
     "metadata": {},
     "output_type": "execute_result"
    }
   ],
   "source": [
    "dataframe = pd.read_csv('datasets/AirQualityNum.csv')\n",
    "dataframe"
   ]
  },
  {
   "cell_type": "markdown",
   "metadata": {
    "id": "3FuVhATydx4J"
   },
   "source": [
    "**Explanation**: *The dataset contains air quality measurements from various locations, with columns including date, time, location, and concentrations of pollutants like NOx, NO, NO2, O3, CO, and SO2, as well as temperature, humidity, wind speed, wind direction, pressure, and rain indicators. The dataset appears to be a time series, with regular hourly measurements and has no missing values. It can be used to analyze the relationship between air quality and weather, identify patterns and trends, develop predictive models, and compare air quality across locations.*"
   ]
  },
  {
   "cell_type": "markdown",
   "metadata": {
    "id": "9eB5gFDdd3aA"
   },
   "source": [
    "### Goal 3: Finding the Average (Mean) of the Data\n",
    "\n",
    "Calculate the average, or mean, of our data using Blockly and Freehand methods."
   ]
  },
  {
   "cell_type": "markdown",
   "metadata": {
    "id": "PswxLmwbd3cc"
   },
   "source": [
    "#### Blockly"
   ]
  },
  {
   "cell_type": "markdown",
   "metadata": {
    "id": "ADv7SFxAd3e2"
   },
   "source": [
    "**Step 1 - Saying what data to use for the mean**\n",
    "\n",
    "To calculate the mean, we first need to select the numeric data to calculate the mean. In this case, our data is the whole data dataframe.\n",
    "\n",
    "From the \"VARIABLES\" menu, drag a DO block WITH **dataframe** variable.  First, we need to select the numeric data to calculate the mean.  In this case, our data is the whole data “dataframe”.  \n"
   ]
  },
  {
   "cell_type": "markdown",
   "metadata": {
    "id": "0xEZWs4od3v0"
   },
   "source": [
    "\n",
    "**Step 2 - Call the mean method of the dataframe**\n",
    "\n",
    "In the next step, we apply the **mean**() method to calculate the mean of all the numeric columns in our dataframe.\n"
   ]
  },
  {
   "cell_type": "markdown",
   "metadata": {
    "id": "z-EIpK3qd3yK"
   },
   "source": [
    "\n",
    "**Step 3 - Connect the blocks to run the code**\n",
    "\n",
    "Connect the blocks and run the code!\n",
    "\n",
    "![](https://pbs.twimg.com/media/GZZ0keDXwAA9nE1?format=png&name=360x360\n",
    ")\n"
   ]
  },
  {
   "cell_type": "markdown",
   "metadata": {
    "id": "a_-9sqd7d30l"
   },
   "source": [
    "#### Freehand"
   ]
  },
  {
   "cell_type": "markdown",
   "metadata": {
    "id": "tppLY5sTeVaf"
   },
   "source": [
    "**Step 1 - Select the data you want to use**\n",
    "\n",
    "To calculate the mean, we first need to select the numeric data to calculate the mean. In this case, our data is the whole data we put into **dataframe**.\n",
    "\n",
    "`dataframe`"
   ]
  },
  {
   "cell_type": "markdown",
   "metadata": {
    "id": "O5VbWP5aeVdA"
   },
   "source": [
    "\n",
    "**Step 2 - Call the mean method for the dataframe**\n",
    "\n",
    "In the next step, we apply the **mean**() method to calculate the mean of all the numeric columns in our dataframe.\n",
    "\n",
    "`dataframe.mean()`"
   ]
  },
  {
   "cell_type": "markdown",
   "metadata": {
    "id": "dl8f3-vseVfW"
   },
   "source": [
    "\n",
    "**Step 3 - Run the code**\n",
    "\n",
    "Hit ‘control’ and ‘enter’ at the same time to run the code!\n",
    "\n",
    "![](\n",
    "https://pbs.twimg.com/media/GZZ0m3JXcAAyymQ?format=png&name=360x360\n",
    ")\n"
   ]
  },
  {
   "cell_type": "markdown",
   "metadata": {
    "id": "yro0Uwe2eVh5"
   },
   "source": [
    "**Your Turn**: Your turn! Let’s start by selecting the data you want to use so that we can calculate the average."
   ]
  },
  {
   "cell_type": "code",
   "execution_count": 6,
   "metadata": {
    "colab": {
     "base_uri": "https://localhost:8080/",
     "height": 241
    },
    "id": "QuEUhQfjeo_6",
    "outputId": "aaf3c567-7480-4af6-dafd-b7fc875ed81f"
   },
   "outputs": [
    {
     "data": {
      "text/html": [
       "<div>\n",
       "<style scoped>\n",
       "    .dataframe tbody tr th:only-of-type {\n",
       "        vertical-align: middle;\n",
       "    }\n",
       "\n",
       "    .dataframe tbody tr th {\n",
       "        vertical-align: top;\n",
       "    }\n",
       "\n",
       "    .dataframe thead th {\n",
       "        text-align: right;\n",
       "    }\n",
       "</style>\n",
       "<table border=\"1\" class=\"dataframe\">\n",
       "  <thead>\n",
       "    <tr style=\"text-align: right;\">\n",
       "      <th></th>\n",
       "      <th>0</th>\n",
       "    </tr>\n",
       "  </thead>\n",
       "  <tbody>\n",
       "    <tr>\n",
       "      <th>Engine Size</th>\n",
       "      <td>3.369630</td>\n",
       "    </tr>\n",
       "    <tr>\n",
       "      <th>Age of Vehicle</th>\n",
       "      <td>14.490000</td>\n",
       "    </tr>\n",
       "    <tr>\n",
       "      <th>Speed</th>\n",
       "      <td>59.448818</td>\n",
       "    </tr>\n",
       "    <tr>\n",
       "      <th>Acceleration</th>\n",
       "      <td>2.491924</td>\n",
       "    </tr>\n",
       "    <tr>\n",
       "      <th>CO2Emissions</th>\n",
       "      <td>273.747254</td>\n",
       "    </tr>\n",
       "  </tbody>\n",
       "</table>\n",
       "</div><br><label><b>dtype:</b> float64</label>"
      ],
      "text/plain": [
       "Engine Size         3.369630\n",
       "Age of Vehicle     14.490000\n",
       "Speed              59.448818\n",
       "Acceleration        2.491924\n",
       "CO2Emissions      273.747254\n",
       "dtype: float64"
      ]
     },
     "execution_count": 6,
     "metadata": {},
     "output_type": "execute_result"
    }
   ],
   "source": [
    "dataframe.mean()"
   ]
  },
  {
   "cell_type": "markdown",
   "metadata": {
    "id": "_1fQnaqIeVkO"
   },
   "source": [
    "**Explanation**: *As we can observe from the calculated averages, the average engine size is 3.37 liters, indicating small to medium-sized engines. The average vehicle age is 14.49 years, suggesting a mix of old and new vehicles. The average speed is 59.45 km/h, which is moderate. The average acceleration is 2.49 m/s², also moderate. Finally, the average CO2 emissions are 273.75 g/km, which is relatively high*."
   ]
  },
  {
   "cell_type": "markdown",
   "metadata": {
    "id": "XDWCN2D4euBP"
   },
   "source": [
    "**Goal 4: Finding the Middle Point (Median) of the Data **\n",
    "\n",
    "We got the average (mean) of all the data. How about let’s try the median() method to find the middle point (median) of all numeric columns?"
   ]
  },
  {
   "cell_type": "markdown",
   "metadata": {
    "id": "W0n4eFFNe_Qp"
   },
   "source": [
    "#### Blockly"
   ]
  },
  {
   "cell_type": "markdown",
   "metadata": {
    "id": "YunfifxFfAcV"
   },
   "source": [
    "\n",
    "**Step 1 - Select the data you want to use**\n",
    "\n",
    "To calculate the median, we first need to select the numeric data to calculate the median. In this case, our data is the whole data **dataframe**.\n",
    "\n",
    "From the \"VARIABLES\" menu, drag a DO block WITH **dataframe** variable.  First, we need to select the numeric data to calculate the median.  In this case, our data is the whole data “dataframe”.  \n"
   ]
  },
  {
   "cell_type": "markdown",
   "metadata": {
    "id": "1AmHFoJOfAe2"
   },
   "source": [
    "\n",
    "**Step 2 - Call the median method for the dataframe**\n",
    "\n",
    "In the next step, we apply the **median**() method to calculate the median of all the numeric columns in our dataframe.\n"
   ]
  },
  {
   "cell_type": "markdown",
   "metadata": {
    "id": "Udch_FYvfAhN"
   },
   "source": [
    "\n",
    "**Step 3 - Connect the blocks to run the code**\n",
    "\n",
    "Connect the blocks and run the code!\n",
    "\n",
    "![](https://pbs.twimg.com/media/GZZ1cbUXoAAOmM8?format=png&name=360x360)"
   ]
  },
  {
   "cell_type": "markdown",
   "metadata": {
    "id": "zH5SQCFHfAkH"
   },
   "source": [
    "#### Freehand"
   ]
  },
  {
   "cell_type": "markdown",
   "metadata": {
    "id": "BIYIz-8pfAmr"
   },
   "source": [
    "**Step 1 - Select the data you want to use**\n",
    "\n",
    "To calculate the median, we first need to select the numeric data to calculate the median. In this case, our data is **dataframe**.\n",
    "\n",
    "`dataframe`"
   ]
  },
  {
   "cell_type": "markdown",
   "metadata": {
    "id": "-GRIypOefWUE"
   },
   "source": [
    "\n",
    "**Step 2 - Call the median method for the dataframe**\n",
    "\n",
    "In the next step, we apply the **median**() method to calculate the median of all the numeric columns in our dataframe.\n",
    "\n",
    "`dataframe.median()`"
   ]
  },
  {
   "cell_type": "markdown",
   "metadata": {
    "id": "V4KKJqupfhjH"
   },
   "source": [
    "\n",
    "**Step 3 - Run the code**\n",
    "\n",
    "Hit ‘control’ and ‘enter’ at the same time to run the code!\n",
    "\n",
    "![](https://pbs.twimg.com/media/GZZ1aGSXYAAKxFx?format=png&name=360x360)"
   ]
  },
  {
   "cell_type": "markdown",
   "metadata": {
    "id": "_uxaQusGfnTs"
   },
   "source": [
    "**Your Turn**: Your Turn! We’re looking at the median this time, so make sure to select the data before you apply the median method."
   ]
  },
  {
   "cell_type": "code",
   "execution_count": 7,
   "metadata": {
    "colab": {
     "base_uri": "https://localhost:8080/",
     "height": 241
    },
    "id": "43ydLEDrfpnQ",
    "outputId": "929b61bf-b41a-4a06-d72d-23c834a26995"
   },
   "outputs": [
    {
     "data": {
      "text/html": [
       "<div>\n",
       "<style scoped>\n",
       "    .dataframe tbody tr th:only-of-type {\n",
       "        vertical-align: middle;\n",
       "    }\n",
       "\n",
       "    .dataframe tbody tr th {\n",
       "        vertical-align: top;\n",
       "    }\n",
       "\n",
       "    .dataframe thead th {\n",
       "        text-align: right;\n",
       "    }\n",
       "</style>\n",
       "<table border=\"1\" class=\"dataframe\">\n",
       "  <thead>\n",
       "    <tr style=\"text-align: right;\">\n",
       "      <th></th>\n",
       "      <th>0</th>\n",
       "    </tr>\n",
       "  </thead>\n",
       "  <tbody>\n",
       "    <tr>\n",
       "      <th>Engine Size</th>\n",
       "      <td>3.361149</td>\n",
       "    </tr>\n",
       "    <tr>\n",
       "      <th>Age of Vehicle</th>\n",
       "      <td>15.000000</td>\n",
       "    </tr>\n",
       "    <tr>\n",
       "      <th>Speed</th>\n",
       "      <td>59.701114</td>\n",
       "    </tr>\n",
       "    <tr>\n",
       "      <th>Acceleration</th>\n",
       "      <td>2.482625</td>\n",
       "    </tr>\n",
       "    <tr>\n",
       "      <th>CO2Emissions</th>\n",
       "      <td>274.734257</td>\n",
       "    </tr>\n",
       "  </tbody>\n",
       "</table>\n",
       "</div><br><label><b>dtype:</b> float64</label>"
      ],
      "text/plain": [
       "Engine Size         3.361149\n",
       "Age of Vehicle     15.000000\n",
       "Speed              59.701114\n",
       "Acceleration        2.482625\n",
       "CO2Emissions      274.734257\n",
       "dtype: float64"
      ]
     },
     "execution_count": 7,
     "metadata": {},
     "output_type": "execute_result"
    }
   ],
   "source": [
    "dataframe.median()"
   ]
  },
  {
   "cell_type": "markdown",
   "metadata": {
    "id": "gq0tvUfbfroF"
   },
   "source": [
    "**Explanation**: *The median values are similar to the mean values, indicating symmetric data with no extreme outliers. The median age of vehicles is slightly higher than the mean, suggesting some older vehicles in the dataset. Overall, the median and mean values are close, indicating stable and consistent data*."
   ]
  },
  {
   "cell_type": "markdown",
   "metadata": {
    "id": "Fz8qAANyfv5V"
   },
   "source": [
    "**Goal 5: Calculating the Most Frequent Data (Mode)**\n",
    "\n",
    "What about the ‘most’ of a certain number? For that, let’s use the mode() method to calculate the most frequent data points we find in the columns."
   ]
  },
  {
   "cell_type": "markdown",
   "metadata": {
    "id": "58mwB_Syfwbx"
   },
   "source": [
    "#### Blockly"
   ]
  },
  {
   "cell_type": "markdown",
   "metadata": {
    "id": "TvZPblltfwgk"
   },
   "source": [
    "**Step 1 - Select the data you want to use**\n",
    "\n",
    "To calculate the mode, we first need to select the numeric data to calculate the mode. In this case, our data is the whole data **dataframe**.\n",
    "\n",
    "From the \"VARIABLES\" menu, drag a DO block WITH **dataframe** variable.  First, we need to select the numeric data to calculate the mode.  In this case, our data is the whole data dataframe.  \n"
   ]
  },
  {
   "cell_type": "markdown",
   "metadata": {
    "id": "xgNuyzLXfwjP"
   },
   "source": [
    "\n",
    "**Step 2 - Call the mode method for the dataframe**\n",
    "\n",
    "In the next step, we apply the **mode**() method to calculate the mode of all the numeric columns in our dataframe.\n"
   ]
  },
  {
   "cell_type": "markdown",
   "metadata": {
    "id": "t9FD5Wi8fwoc"
   },
   "source": [
    "\n",
    "**Step 3 - Connect the blocks to run the code**\n",
    "\n",
    "Connect the blocks and run the code!\n",
    "\n",
    "![](https://pbs.twimg.com/media/GZZ2jUiXoAAraIy?format=png&name=360x360)"
   ]
  },
  {
   "cell_type": "markdown",
   "metadata": {
    "id": "AJti318BgKEZ"
   },
   "source": [
    "#### Freehand"
   ]
  },
  {
   "cell_type": "markdown",
   "metadata": {
    "id": "mkUtQTg0gKeA"
   },
   "source": [
    "**Step 1 - Select the data you want to use **\n",
    "\n",
    "To calculate the mode, we first need to select the numeric data to calculate the mode.  In this case, our data is “dataframe”.\n",
    "\n",
    "`dataframe`"
   ]
  },
  {
   "cell_type": "markdown",
   "metadata": {
    "id": "QM1RVjtigKgP"
   },
   "source": [
    "\n",
    "**Step 2 - Call the mode method for the dataframe**\n",
    "\n",
    "In the next step, we apply the mode() method to calculate the mode of all the numeric columns in our dataframe.\n",
    "\n",
    "`dataframe.mode()`"
   ]
  },
  {
   "cell_type": "markdown",
   "metadata": {
    "id": "dujCtOWtgKi8"
   },
   "source": [
    "\n",
    "**Step 3 - Run the code**\n",
    "\n",
    "Hit ‘control’ and ‘enter’ at the same time to run the code!\n",
    "\n",
    "![](https://pbs.twimg.com/media/GZZ2g-YXcAAk5vt?format=png&name=360x360)"
   ]
  },
  {
   "cell_type": "markdown",
   "metadata": {
    "id": "wAUTNNlugKlh"
   },
   "source": [
    "**Your Turn**: Now you try! After the data is selected, call in the mode function to calculate the most frequent number in the dataset."
   ]
  },
  {
   "cell_type": "code",
   "execution_count": 8,
   "metadata": {
    "colab": {
     "base_uri": "https://localhost:8080/",
     "height": 423
    },
    "id": "PdERvIV7giwV",
    "outputId": "dd9b5fb9-2de5-4da5-e749-87fcb3a2a043"
   },
   "outputs": [
    {
     "data": {
      "application/vnd.google.colaboratory.intrinsic+json": {
       "summary": "{\n  \"name\": \"dataframe\",\n  \"rows\": 10000,\n  \"fields\": [\n    {\n      \"column\": \"Engine Size\",\n      \"properties\": {\n        \"dtype\": \"number\",\n        \"std\": 1.4956766579334018,\n        \"min\": 0.8000605007,\n        \"max\": 5.998531901,\n        \"num_unique_values\": 10000,\n        \"samples\": [\n          3.997495676,\n          3.189837098,\n          1.67806401\n        ],\n        \"semantic_type\": \"\",\n        \"description\": \"\"\n      }\n    },\n    {\n      \"column\": \"Age of Vehicle\",\n      \"properties\": {\n        \"dtype\": \"number\",\n        \"std\": null,\n        \"min\": 14.0,\n        \"max\": 14.0,\n        \"num_unique_values\": 1,\n        \"samples\": [\n          14.0\n        ],\n        \"semantic_type\": \"\",\n        \"description\": \"\"\n      }\n    },\n    {\n      \"column\": \"Speed\",\n      \"properties\": {\n        \"dtype\": \"number\",\n        \"std\": 34.43717471596407,\n        \"min\": 0.0006644010886,\n        \"max\": 119.9747246,\n        \"num_unique_values\": 10000,\n        \"samples\": [\n          74.4164592\n        ],\n        \"semantic_type\": \"\",\n        \"description\": \"\"\n      }\n    },\n    {\n      \"column\": \"Acceleration\",\n      \"properties\": {\n        \"dtype\": \"number\",\n        \"std\": 1.4461298966673013,\n        \"min\": 8.37e-05,\n        \"max\": 4.999860737,\n        \"num_unique_values\": 10000,\n        \"samples\": [\n          3.104813073\n        ],\n        \"semantic_type\": \"\",\n        \"description\": \"\"\n      }\n    },\n    {\n      \"column\": \"CO2Emissions\",\n      \"properties\": {\n        \"dtype\": \"number\",\n        \"std\": 130.7899425829461,\n        \"min\": 50.04541218,\n        \"max\": 499.996419,\n        \"num_unique_values\": 10000,\n        \"samples\": [\n          331.6628507\n        ],\n        \"semantic_type\": \"\",\n        \"description\": \"\"\n      }\n    }\n  ]\n}",
       "type": "dataframe"
      },
      "text/html": [
       "\n",
       "  <div id=\"df-505c275b-256e-477b-874d-563d761ae764\" class=\"colab-df-container\">\n",
       "    <div>\n",
       "<style scoped>\n",
       "    .dataframe tbody tr th:only-of-type {\n",
       "        vertical-align: middle;\n",
       "    }\n",
       "\n",
       "    .dataframe tbody tr th {\n",
       "        vertical-align: top;\n",
       "    }\n",
       "\n",
       "    .dataframe thead th {\n",
       "        text-align: right;\n",
       "    }\n",
       "</style>\n",
       "<table border=\"1\" class=\"dataframe\">\n",
       "  <thead>\n",
       "    <tr style=\"text-align: right;\">\n",
       "      <th></th>\n",
       "      <th>Engine Size</th>\n",
       "      <th>Age of Vehicle</th>\n",
       "      <th>Speed</th>\n",
       "      <th>Acceleration</th>\n",
       "      <th>CO2Emissions</th>\n",
       "    </tr>\n",
       "  </thead>\n",
       "  <tbody>\n",
       "    <tr>\n",
       "      <th>0</th>\n",
       "      <td>0.800061</td>\n",
       "      <td>14.0</td>\n",
       "      <td>0.000664</td>\n",
       "      <td>0.000084</td>\n",
       "      <td>50.045412</td>\n",
       "    </tr>\n",
       "    <tr>\n",
       "      <th>1</th>\n",
       "      <td>0.800160</td>\n",
       "      <td>NaN</td>\n",
       "      <td>0.008100</td>\n",
       "      <td>0.000488</td>\n",
       "      <td>50.057971</td>\n",
       "    </tr>\n",
       "    <tr>\n",
       "      <th>2</th>\n",
       "      <td>0.800275</td>\n",
       "      <td>NaN</td>\n",
       "      <td>0.013228</td>\n",
       "      <td>0.000900</td>\n",
       "      <td>50.063238</td>\n",
       "    </tr>\n",
       "    <tr>\n",
       "      <th>3</th>\n",
       "      <td>0.800700</td>\n",
       "      <td>NaN</td>\n",
       "      <td>0.015017</td>\n",
       "      <td>0.002974</td>\n",
       "      <td>50.073321</td>\n",
       "    </tr>\n",
       "    <tr>\n",
       "      <th>4</th>\n",
       "      <td>0.801181</td>\n",
       "      <td>NaN</td>\n",
       "      <td>0.023383</td>\n",
       "      <td>0.003064</td>\n",
       "      <td>50.081136</td>\n",
       "    </tr>\n",
       "    <tr>\n",
       "      <th>...</th>\n",
       "      <td>...</td>\n",
       "      <td>...</td>\n",
       "      <td>...</td>\n",
       "      <td>...</td>\n",
       "      <td>...</td>\n",
       "    </tr>\n",
       "    <tr>\n",
       "      <th>9995</th>\n",
       "      <td>5.996951</td>\n",
       "      <td>NaN</td>\n",
       "      <td>119.951806</td>\n",
       "      <td>4.995894</td>\n",
       "      <td>499.850505</td>\n",
       "    </tr>\n",
       "    <tr>\n",
       "      <th>9996</th>\n",
       "      <td>5.997196</td>\n",
       "      <td>NaN</td>\n",
       "      <td>119.963473</td>\n",
       "      <td>4.996203</td>\n",
       "      <td>499.866582</td>\n",
       "    </tr>\n",
       "    <tr>\n",
       "      <th>9997</th>\n",
       "      <td>5.997427</td>\n",
       "      <td>NaN</td>\n",
       "      <td>119.963665</td>\n",
       "      <td>4.996343</td>\n",
       "      <td>499.889400</td>\n",
       "    </tr>\n",
       "    <tr>\n",
       "      <th>9998</th>\n",
       "      <td>5.997700</td>\n",
       "      <td>NaN</td>\n",
       "      <td>119.967850</td>\n",
       "      <td>4.999453</td>\n",
       "      <td>499.908230</td>\n",
       "    </tr>\n",
       "    <tr>\n",
       "      <th>9999</th>\n",
       "      <td>5.998532</td>\n",
       "      <td>NaN</td>\n",
       "      <td>119.974725</td>\n",
       "      <td>4.999861</td>\n",
       "      <td>499.996419</td>\n",
       "    </tr>\n",
       "  </tbody>\n",
       "</table>\n",
       "<p>10000 rows × 5 columns</p>\n",
       "</div>\n",
       "    <div class=\"colab-df-buttons\">\n",
       "\n",
       "  <div class=\"colab-df-container\">\n",
       "    <button class=\"colab-df-convert\" onclick=\"convertToInteractive('df-505c275b-256e-477b-874d-563d761ae764')\"\n",
       "            title=\"Convert this dataframe to an interactive table.\"\n",
       "            style=\"display:none;\">\n",
       "\n",
       "  <svg xmlns=\"http://www.w3.org/2000/svg\" height=\"24px\" viewBox=\"0 -960 960 960\">\n",
       "    <path d=\"M120-120v-720h720v720H120Zm60-500h600v-160H180v160Zm220 220h160v-160H400v160Zm0 220h160v-160H400v160ZM180-400h160v-160H180v160Zm440 0h160v-160H620v160ZM180-180h160v-160H180v160Zm440 0h160v-160H620v160Z\"/>\n",
       "  </svg>\n",
       "    </button>\n",
       "\n",
       "  <style>\n",
       "    .colab-df-container {\n",
       "      display:flex;\n",
       "      gap: 12px;\n",
       "    }\n",
       "\n",
       "    .colab-df-convert {\n",
       "      background-color: #E8F0FE;\n",
       "      border: none;\n",
       "      border-radius: 50%;\n",
       "      cursor: pointer;\n",
       "      display: none;\n",
       "      fill: #1967D2;\n",
       "      height: 32px;\n",
       "      padding: 0 0 0 0;\n",
       "      width: 32px;\n",
       "    }\n",
       "\n",
       "    .colab-df-convert:hover {\n",
       "      background-color: #E2EBFA;\n",
       "      box-shadow: 0px 1px 2px rgba(60, 64, 67, 0.3), 0px 1px 3px 1px rgba(60, 64, 67, 0.15);\n",
       "      fill: #174EA6;\n",
       "    }\n",
       "\n",
       "    .colab-df-buttons div {\n",
       "      margin-bottom: 4px;\n",
       "    }\n",
       "\n",
       "    [theme=dark] .colab-df-convert {\n",
       "      background-color: #3B4455;\n",
       "      fill: #D2E3FC;\n",
       "    }\n",
       "\n",
       "    [theme=dark] .colab-df-convert:hover {\n",
       "      background-color: #434B5C;\n",
       "      box-shadow: 0px 1px 3px 1px rgba(0, 0, 0, 0.15);\n",
       "      filter: drop-shadow(0px 1px 2px rgba(0, 0, 0, 0.3));\n",
       "      fill: #FFFFFF;\n",
       "    }\n",
       "  </style>\n",
       "\n",
       "    <script>\n",
       "      const buttonEl =\n",
       "        document.querySelector('#df-505c275b-256e-477b-874d-563d761ae764 button.colab-df-convert');\n",
       "      buttonEl.style.display =\n",
       "        google.colab.kernel.accessAllowed ? 'block' : 'none';\n",
       "\n",
       "      async function convertToInteractive(key) {\n",
       "        const element = document.querySelector('#df-505c275b-256e-477b-874d-563d761ae764');\n",
       "        const dataTable =\n",
       "          await google.colab.kernel.invokeFunction('convertToInteractive',\n",
       "                                                    [key], {});\n",
       "        if (!dataTable) return;\n",
       "\n",
       "        const docLinkHtml = 'Like what you see? Visit the ' +\n",
       "          '<a target=\"_blank\" href=https://colab.research.google.com/notebooks/data_table.ipynb>data table notebook</a>'\n",
       "          + ' to learn more about interactive tables.';\n",
       "        element.innerHTML = '';\n",
       "        dataTable['output_type'] = 'display_data';\n",
       "        await google.colab.output.renderOutput(dataTable, element);\n",
       "        const docLink = document.createElement('div');\n",
       "        docLink.innerHTML = docLinkHtml;\n",
       "        element.appendChild(docLink);\n",
       "      }\n",
       "    </script>\n",
       "  </div>\n",
       "\n",
       "\n",
       "<div id=\"df-42379dc6-cc13-4dc8-af50-61b12705500b\">\n",
       "  <button class=\"colab-df-quickchart\" onclick=\"quickchart('df-42379dc6-cc13-4dc8-af50-61b12705500b')\"\n",
       "            title=\"Suggest charts\"\n",
       "            style=\"display:none;\">\n",
       "\n",
       "<svg xmlns=\"http://www.w3.org/2000/svg\" height=\"24px\"viewBox=\"0 0 24 24\"\n",
       "     width=\"24px\">\n",
       "    <g>\n",
       "        <path d=\"M19 3H5c-1.1 0-2 .9-2 2v14c0 1.1.9 2 2 2h14c1.1 0 2-.9 2-2V5c0-1.1-.9-2-2-2zM9 17H7v-7h2v7zm4 0h-2V7h2v10zm4 0h-2v-4h2v4z\"/>\n",
       "    </g>\n",
       "</svg>\n",
       "  </button>\n",
       "\n",
       "<style>\n",
       "  .colab-df-quickchart {\n",
       "      --bg-color: #E8F0FE;\n",
       "      --fill-color: #1967D2;\n",
       "      --hover-bg-color: #E2EBFA;\n",
       "      --hover-fill-color: #174EA6;\n",
       "      --disabled-fill-color: #AAA;\n",
       "      --disabled-bg-color: #DDD;\n",
       "  }\n",
       "\n",
       "  [theme=dark] .colab-df-quickchart {\n",
       "      --bg-color: #3B4455;\n",
       "      --fill-color: #D2E3FC;\n",
       "      --hover-bg-color: #434B5C;\n",
       "      --hover-fill-color: #FFFFFF;\n",
       "      --disabled-bg-color: #3B4455;\n",
       "      --disabled-fill-color: #666;\n",
       "  }\n",
       "\n",
       "  .colab-df-quickchart {\n",
       "    background-color: var(--bg-color);\n",
       "    border: none;\n",
       "    border-radius: 50%;\n",
       "    cursor: pointer;\n",
       "    display: none;\n",
       "    fill: var(--fill-color);\n",
       "    height: 32px;\n",
       "    padding: 0;\n",
       "    width: 32px;\n",
       "  }\n",
       "\n",
       "  .colab-df-quickchart:hover {\n",
       "    background-color: var(--hover-bg-color);\n",
       "    box-shadow: 0 1px 2px rgba(60, 64, 67, 0.3), 0 1px 3px 1px rgba(60, 64, 67, 0.15);\n",
       "    fill: var(--button-hover-fill-color);\n",
       "  }\n",
       "\n",
       "  .colab-df-quickchart-complete:disabled,\n",
       "  .colab-df-quickchart-complete:disabled:hover {\n",
       "    background-color: var(--disabled-bg-color);\n",
       "    fill: var(--disabled-fill-color);\n",
       "    box-shadow: none;\n",
       "  }\n",
       "\n",
       "  .colab-df-spinner {\n",
       "    border: 2px solid var(--fill-color);\n",
       "    border-color: transparent;\n",
       "    border-bottom-color: var(--fill-color);\n",
       "    animation:\n",
       "      spin 1s steps(1) infinite;\n",
       "  }\n",
       "\n",
       "  @keyframes spin {\n",
       "    0% {\n",
       "      border-color: transparent;\n",
       "      border-bottom-color: var(--fill-color);\n",
       "      border-left-color: var(--fill-color);\n",
       "    }\n",
       "    20% {\n",
       "      border-color: transparent;\n",
       "      border-left-color: var(--fill-color);\n",
       "      border-top-color: var(--fill-color);\n",
       "    }\n",
       "    30% {\n",
       "      border-color: transparent;\n",
       "      border-left-color: var(--fill-color);\n",
       "      border-top-color: var(--fill-color);\n",
       "      border-right-color: var(--fill-color);\n",
       "    }\n",
       "    40% {\n",
       "      border-color: transparent;\n",
       "      border-right-color: var(--fill-color);\n",
       "      border-top-color: var(--fill-color);\n",
       "    }\n",
       "    60% {\n",
       "      border-color: transparent;\n",
       "      border-right-color: var(--fill-color);\n",
       "    }\n",
       "    80% {\n",
       "      border-color: transparent;\n",
       "      border-right-color: var(--fill-color);\n",
       "      border-bottom-color: var(--fill-color);\n",
       "    }\n",
       "    90% {\n",
       "      border-color: transparent;\n",
       "      border-bottom-color: var(--fill-color);\n",
       "    }\n",
       "  }\n",
       "</style>\n",
       "\n",
       "  <script>\n",
       "    async function quickchart(key) {\n",
       "      const quickchartButtonEl =\n",
       "        document.querySelector('#' + key + ' button');\n",
       "      quickchartButtonEl.disabled = true;  // To prevent multiple clicks.\n",
       "      quickchartButtonEl.classList.add('colab-df-spinner');\n",
       "      try {\n",
       "        const charts = await google.colab.kernel.invokeFunction(\n",
       "            'suggestCharts', [key], {});\n",
       "      } catch (error) {\n",
       "        console.error('Error during call to suggestCharts:', error);\n",
       "      }\n",
       "      quickchartButtonEl.classList.remove('colab-df-spinner');\n",
       "      quickchartButtonEl.classList.add('colab-df-quickchart-complete');\n",
       "    }\n",
       "    (() => {\n",
       "      let quickchartButtonEl =\n",
       "        document.querySelector('#df-42379dc6-cc13-4dc8-af50-61b12705500b button');\n",
       "      quickchartButtonEl.style.display =\n",
       "        google.colab.kernel.accessAllowed ? 'block' : 'none';\n",
       "    })();\n",
       "  </script>\n",
       "</div>\n",
       "\n",
       "    </div>\n",
       "  </div>\n"
      ],
      "text/plain": [
       "      Engine Size  Age of Vehicle       Speed  Acceleration  CO2Emissions\n",
       "0        0.800061            14.0    0.000664      0.000084     50.045412\n",
       "1        0.800160             NaN    0.008100      0.000488     50.057971\n",
       "2        0.800275             NaN    0.013228      0.000900     50.063238\n",
       "3        0.800700             NaN    0.015017      0.002974     50.073321\n",
       "4        0.801181             NaN    0.023383      0.003064     50.081136\n",
       "...           ...             ...         ...           ...           ...\n",
       "9995     5.996951             NaN  119.951806      4.995894    499.850505\n",
       "9996     5.997196             NaN  119.963473      4.996203    499.866582\n",
       "9997     5.997427             NaN  119.963665      4.996343    499.889400\n",
       "9998     5.997700             NaN  119.967850      4.999453    499.908230\n",
       "9999     5.998532             NaN  119.974725      4.999861    499.996419\n",
       "\n",
       "[10000 rows x 5 columns]"
      ]
     },
     "execution_count": 8,
     "metadata": {},
     "output_type": "execute_result"
    }
   ],
   "source": [
    "dataframe.mode()"
   ]
  },
  {
   "cell_type": "markdown",
   "metadata": {
    "id": "rQFoypTXgKob"
   },
   "source": [
    "**Explanation**: *The mode values are quite different from the mean and median values. The mode values for Engine Size, Speed, Acceleration, and CO2 emissions are scattered and do not form a clear pattern, suggesting that there is no single dominant value in these columns. The Age of Vehicle column has a mode value of 14.0, but it is only present in one row, and the rest of the rows have NaN values, indicating that the age of vehicle is not a well-represented feature in the dataset. Overall, the mode values do not provide a clear summary of the central tendency of the data*."
   ]
  },
  {
   "cell_type": "markdown",
   "metadata": {
    "id": "QoaigPQFgKsH"
   },
   "source": [
    "## Finding the Spread"
   ]
  },
  {
   "cell_type": "markdown",
   "metadata": {
    "id": "bc0Tdzi9grXy"
   },
   "source": [
    "### Goal 6: Finding the Spread\n",
    "\n",
    "So we’ve got the middle point, but how spread out is our data? Let’s calculate the quartiles of a dataset to understand the distribution of the data. This involves selecting the numeric data from the dataframe and applying the describe() method.\n",
    "\n",
    "**Calculate Quartiles**: Let’s break up our data that looks at anything below 25% of our data (first quartile) and anything above 75% (third quartile) of our data.\n"
   ]
  },
  {
   "cell_type": "markdown",
   "metadata": {
    "id": "8MO40qp7hEvV"
   },
   "source": [
    "#### Blockly"
   ]
  },
  {
   "cell_type": "markdown",
   "metadata": {
    "id": "1lXxCqoLhF6Z"
   },
   "source": [
    "**Step 1 - Saying what data to look at for the quartiles calculation**\n",
    "\n",
    "To describe the data, we first need to select the numeric data to explore. In this case, our data is the whole data dataframe\n",
    "\n",
    "From the \"VARIABLES\" menu, drag a DO block WITH dataframe variable. First, we first need to select the numeric data to describe. In this case, our data is the whole data **“dataframe”**  \n"
   ]
  },
  {
   "cell_type": "markdown",
   "metadata": {
    "id": "Vawav7xrhF81"
   },
   "source": [
    "\n",
    "**Step 2 - Call the describe method for the dataframe**\n",
    "\n",
    "In the next step, we apply the **describe**() to calculate the mean of all the numeric columns in our dataframe.\n"
   ]
  },
  {
   "cell_type": "markdown",
   "metadata": {
    "id": "8jWtxVn3hF_E"
   },
   "source": [
    "\n",
    "**Step 3 - Connect the blocks to run the code**\n",
    "\n",
    "Connect the blocks and run the code!\n",
    "\n",
    "![](https://pbs.twimg.com/media/GZaDSdeXAAAx3n7?format=png&name=360x360)"
   ]
  },
  {
   "cell_type": "markdown",
   "metadata": {
    "id": "lkdVqpgphGBa"
   },
   "source": [
    "#### Freehand"
   ]
  },
  {
   "cell_type": "markdown",
   "metadata": {
    "id": "4o8HJAZ7hGDw"
   },
   "source": [
    "**Step 1 - Saying what data to look at for the quartiles calculation**\n",
    "\n",
    "To describe the data, we first need to select the numeric data to explore. In this case, our data is the whole data dataframe.\n",
    "\n",
    "`dataframe`"
   ]
  },
  {
   "cell_type": "markdown",
   "metadata": {
    "id": "_G77aKRFhGGe"
   },
   "source": [
    "\n",
    "\n",
    "**Step 2 - Call the describe method for the dataframe **\n",
    "\n",
    "In the next step, we apply the describe() method to describe all the numeric columns in our dataframe.\n",
    "\n",
    "`dataframe.describe()`\n"
   ]
  },
  {
   "cell_type": "markdown",
   "metadata": {
    "id": "FSZ16piEhvCQ"
   },
   "source": [
    "\n",
    "**Step 3 - Run the code**\n",
    "\n",
    "Hit ‘control’ and ‘enter’ at the same time to run the code!\n",
    "\n",
    "![](https://pbs.twimg.com/media/GZaDQXpWMAAuD0i?format=png&name=360x360\n",
    ")"
   ]
  },
  {
   "cell_type": "markdown",
   "metadata": {
    "id": "wVKCIk1ihzUG"
   },
   "source": [
    "**Your Turn**: Your turn! Give the describe() method a try and see what it tells you about your data."
   ]
  },
  {
   "cell_type": "code",
   "execution_count": 9,
   "metadata": {
    "colab": {
     "base_uri": "https://localhost:8080/",
     "height": 300
    },
    "id": "p8ckmsz0h1pI",
    "outputId": "95ad78c9-a708-4531-c883-cb909fa95937"
   },
   "outputs": [
    {
     "data": {
      "application/vnd.google.colaboratory.intrinsic+json": {
       "summary": "{\n  \"name\": \"dataframe\",\n  \"rows\": 8,\n  \"fields\": [\n    {\n      \"column\": \"Engine Size\",\n      \"properties\": {\n        \"dtype\": \"number\",\n        \"std\": 3534.4355644428747,\n        \"min\": 0.8000605007,\n        \"max\": 10000.0,\n        \"num_unique_values\": 8,\n        \"samples\": [\n          3.36962969995555,\n          3.3611488105,\n          10000.0\n        ],\n        \"semantic_type\": \"\",\n        \"description\": \"\"\n      }\n    },\n    {\n      \"column\": \"Age of Vehicle\",\n      \"properties\": {\n        \"dtype\": \"number\",\n        \"std\": 3530.692830019717,\n        \"min\": 0.0,\n        \"max\": 10000.0,\n        \"num_unique_values\": 8,\n        \"samples\": [\n          14.49,\n          15.0,\n          10000.0\n        ],\n        \"semantic_type\": \"\",\n        \"description\": \"\"\n      }\n    },\n    {\n      \"column\": \"Speed\",\n      \"properties\": {\n        \"dtype\": \"number\",\n        \"std\": 3515.949425097863,\n        \"min\": 0.0006644010886,\n        \"max\": 10000.0,\n        \"num_unique_values\": 8,\n        \"samples\": [\n          59.44881781016653,\n          59.70111428,\n          10000.0\n        ],\n        \"semantic_type\": \"\",\n        \"description\": \"\"\n      }\n    },\n    {\n      \"column\": \"Acceleration\",\n      \"properties\": {\n        \"dtype\": \"number\",\n        \"std\": 3534.705208017443,\n        \"min\": 8.37e-05,\n        \"max\": 10000.0,\n        \"num_unique_values\": 8,\n        \"samples\": [\n          2.491923559052459,\n          2.4826250730000003,\n          10000.0\n        ],\n        \"semantic_type\": \"\",\n        \"description\": \"\"\n      }\n    },\n    {\n      \"column\": \"CO2Emissions\",\n      \"properties\": {\n        \"dtype\": \"number\",\n        \"std\": 3448.854745285233,\n        \"min\": 50.04541218,\n        \"max\": 10000.0,\n        \"num_unique_values\": 8,\n        \"samples\": [\n          273.74725414414104,\n          274.73425665,\n          10000.0\n        ],\n        \"semantic_type\": \"\",\n        \"description\": \"\"\n      }\n    }\n  ]\n}",
       "type": "dataframe"
      },
      "text/html": [
       "\n",
       "  <div id=\"df-289443c4-a0c6-4122-b1f0-2927c618af36\" class=\"colab-df-container\">\n",
       "    <div>\n",
       "<style scoped>\n",
       "    .dataframe tbody tr th:only-of-type {\n",
       "        vertical-align: middle;\n",
       "    }\n",
       "\n",
       "    .dataframe tbody tr th {\n",
       "        vertical-align: top;\n",
       "    }\n",
       "\n",
       "    .dataframe thead th {\n",
       "        text-align: right;\n",
       "    }\n",
       "</style>\n",
       "<table border=\"1\" class=\"dataframe\">\n",
       "  <thead>\n",
       "    <tr style=\"text-align: right;\">\n",
       "      <th></th>\n",
       "      <th>Engine Size</th>\n",
       "      <th>Age of Vehicle</th>\n",
       "      <th>Speed</th>\n",
       "      <th>Acceleration</th>\n",
       "      <th>CO2Emissions</th>\n",
       "    </tr>\n",
       "  </thead>\n",
       "  <tbody>\n",
       "    <tr>\n",
       "      <th>count</th>\n",
       "      <td>10000.000000</td>\n",
       "      <td>10000.000000</td>\n",
       "      <td>10000.000000</td>\n",
       "      <td>10000.000000</td>\n",
       "      <td>10000.000000</td>\n",
       "    </tr>\n",
       "    <tr>\n",
       "      <th>mean</th>\n",
       "      <td>3.369630</td>\n",
       "      <td>14.490000</td>\n",
       "      <td>59.448818</td>\n",
       "      <td>2.491924</td>\n",
       "      <td>273.747254</td>\n",
       "    </tr>\n",
       "    <tr>\n",
       "      <th>std</th>\n",
       "      <td>1.495677</td>\n",
       "      <td>8.584339</td>\n",
       "      <td>34.437175</td>\n",
       "      <td>1.446130</td>\n",
       "      <td>130.789943</td>\n",
       "    </tr>\n",
       "    <tr>\n",
       "      <th>min</th>\n",
       "      <td>0.800061</td>\n",
       "      <td>0.000000</td>\n",
       "      <td>0.000664</td>\n",
       "      <td>0.000084</td>\n",
       "      <td>50.045412</td>\n",
       "    </tr>\n",
       "    <tr>\n",
       "      <th>25%</th>\n",
       "      <td>2.080910</td>\n",
       "      <td>7.000000</td>\n",
       "      <td>29.502708</td>\n",
       "      <td>1.245908</td>\n",
       "      <td>158.448360</td>\n",
       "    </tr>\n",
       "    <tr>\n",
       "      <th>50%</th>\n",
       "      <td>3.361149</td>\n",
       "      <td>15.000000</td>\n",
       "      <td>59.701114</td>\n",
       "      <td>2.482625</td>\n",
       "      <td>274.734257</td>\n",
       "    </tr>\n",
       "    <tr>\n",
       "      <th>75%</th>\n",
       "      <td>4.648033</td>\n",
       "      <td>22.000000</td>\n",
       "      <td>88.499982</td>\n",
       "      <td>3.747481</td>\n",
       "      <td>387.958329</td>\n",
       "    </tr>\n",
       "    <tr>\n",
       "      <th>max</th>\n",
       "      <td>5.998532</td>\n",
       "      <td>29.000000</td>\n",
       "      <td>119.974725</td>\n",
       "      <td>4.999861</td>\n",
       "      <td>499.996419</td>\n",
       "    </tr>\n",
       "  </tbody>\n",
       "</table>\n",
       "</div>\n",
       "    <div class=\"colab-df-buttons\">\n",
       "\n",
       "  <div class=\"colab-df-container\">\n",
       "    <button class=\"colab-df-convert\" onclick=\"convertToInteractive('df-289443c4-a0c6-4122-b1f0-2927c618af36')\"\n",
       "            title=\"Convert this dataframe to an interactive table.\"\n",
       "            style=\"display:none;\">\n",
       "\n",
       "  <svg xmlns=\"http://www.w3.org/2000/svg\" height=\"24px\" viewBox=\"0 -960 960 960\">\n",
       "    <path d=\"M120-120v-720h720v720H120Zm60-500h600v-160H180v160Zm220 220h160v-160H400v160Zm0 220h160v-160H400v160ZM180-400h160v-160H180v160Zm440 0h160v-160H620v160ZM180-180h160v-160H180v160Zm440 0h160v-160H620v160Z\"/>\n",
       "  </svg>\n",
       "    </button>\n",
       "\n",
       "  <style>\n",
       "    .colab-df-container {\n",
       "      display:flex;\n",
       "      gap: 12px;\n",
       "    }\n",
       "\n",
       "    .colab-df-convert {\n",
       "      background-color: #E8F0FE;\n",
       "      border: none;\n",
       "      border-radius: 50%;\n",
       "      cursor: pointer;\n",
       "      display: none;\n",
       "      fill: #1967D2;\n",
       "      height: 32px;\n",
       "      padding: 0 0 0 0;\n",
       "      width: 32px;\n",
       "    }\n",
       "\n",
       "    .colab-df-convert:hover {\n",
       "      background-color: #E2EBFA;\n",
       "      box-shadow: 0px 1px 2px rgba(60, 64, 67, 0.3), 0px 1px 3px 1px rgba(60, 64, 67, 0.15);\n",
       "      fill: #174EA6;\n",
       "    }\n",
       "\n",
       "    .colab-df-buttons div {\n",
       "      margin-bottom: 4px;\n",
       "    }\n",
       "\n",
       "    [theme=dark] .colab-df-convert {\n",
       "      background-color: #3B4455;\n",
       "      fill: #D2E3FC;\n",
       "    }\n",
       "\n",
       "    [theme=dark] .colab-df-convert:hover {\n",
       "      background-color: #434B5C;\n",
       "      box-shadow: 0px 1px 3px 1px rgba(0, 0, 0, 0.15);\n",
       "      filter: drop-shadow(0px 1px 2px rgba(0, 0, 0, 0.3));\n",
       "      fill: #FFFFFF;\n",
       "    }\n",
       "  </style>\n",
       "\n",
       "    <script>\n",
       "      const buttonEl =\n",
       "        document.querySelector('#df-289443c4-a0c6-4122-b1f0-2927c618af36 button.colab-df-convert');\n",
       "      buttonEl.style.display =\n",
       "        google.colab.kernel.accessAllowed ? 'block' : 'none';\n",
       "\n",
       "      async function convertToInteractive(key) {\n",
       "        const element = document.querySelector('#df-289443c4-a0c6-4122-b1f0-2927c618af36');\n",
       "        const dataTable =\n",
       "          await google.colab.kernel.invokeFunction('convertToInteractive',\n",
       "                                                    [key], {});\n",
       "        if (!dataTable) return;\n",
       "\n",
       "        const docLinkHtml = 'Like what you see? Visit the ' +\n",
       "          '<a target=\"_blank\" href=https://colab.research.google.com/notebooks/data_table.ipynb>data table notebook</a>'\n",
       "          + ' to learn more about interactive tables.';\n",
       "        element.innerHTML = '';\n",
       "        dataTable['output_type'] = 'display_data';\n",
       "        await google.colab.output.renderOutput(dataTable, element);\n",
       "        const docLink = document.createElement('div');\n",
       "        docLink.innerHTML = docLinkHtml;\n",
       "        element.appendChild(docLink);\n",
       "      }\n",
       "    </script>\n",
       "  </div>\n",
       "\n",
       "\n",
       "<div id=\"df-3ee1624f-5342-4013-9d8a-ea149d837423\">\n",
       "  <button class=\"colab-df-quickchart\" onclick=\"quickchart('df-3ee1624f-5342-4013-9d8a-ea149d837423')\"\n",
       "            title=\"Suggest charts\"\n",
       "            style=\"display:none;\">\n",
       "\n",
       "<svg xmlns=\"http://www.w3.org/2000/svg\" height=\"24px\"viewBox=\"0 0 24 24\"\n",
       "     width=\"24px\">\n",
       "    <g>\n",
       "        <path d=\"M19 3H5c-1.1 0-2 .9-2 2v14c0 1.1.9 2 2 2h14c1.1 0 2-.9 2-2V5c0-1.1-.9-2-2-2zM9 17H7v-7h2v7zm4 0h-2V7h2v10zm4 0h-2v-4h2v4z\"/>\n",
       "    </g>\n",
       "</svg>\n",
       "  </button>\n",
       "\n",
       "<style>\n",
       "  .colab-df-quickchart {\n",
       "      --bg-color: #E8F0FE;\n",
       "      --fill-color: #1967D2;\n",
       "      --hover-bg-color: #E2EBFA;\n",
       "      --hover-fill-color: #174EA6;\n",
       "      --disabled-fill-color: #AAA;\n",
       "      --disabled-bg-color: #DDD;\n",
       "  }\n",
       "\n",
       "  [theme=dark] .colab-df-quickchart {\n",
       "      --bg-color: #3B4455;\n",
       "      --fill-color: #D2E3FC;\n",
       "      --hover-bg-color: #434B5C;\n",
       "      --hover-fill-color: #FFFFFF;\n",
       "      --disabled-bg-color: #3B4455;\n",
       "      --disabled-fill-color: #666;\n",
       "  }\n",
       "\n",
       "  .colab-df-quickchart {\n",
       "    background-color: var(--bg-color);\n",
       "    border: none;\n",
       "    border-radius: 50%;\n",
       "    cursor: pointer;\n",
       "    display: none;\n",
       "    fill: var(--fill-color);\n",
       "    height: 32px;\n",
       "    padding: 0;\n",
       "    width: 32px;\n",
       "  }\n",
       "\n",
       "  .colab-df-quickchart:hover {\n",
       "    background-color: var(--hover-bg-color);\n",
       "    box-shadow: 0 1px 2px rgba(60, 64, 67, 0.3), 0 1px 3px 1px rgba(60, 64, 67, 0.15);\n",
       "    fill: var(--button-hover-fill-color);\n",
       "  }\n",
       "\n",
       "  .colab-df-quickchart-complete:disabled,\n",
       "  .colab-df-quickchart-complete:disabled:hover {\n",
       "    background-color: var(--disabled-bg-color);\n",
       "    fill: var(--disabled-fill-color);\n",
       "    box-shadow: none;\n",
       "  }\n",
       "\n",
       "  .colab-df-spinner {\n",
       "    border: 2px solid var(--fill-color);\n",
       "    border-color: transparent;\n",
       "    border-bottom-color: var(--fill-color);\n",
       "    animation:\n",
       "      spin 1s steps(1) infinite;\n",
       "  }\n",
       "\n",
       "  @keyframes spin {\n",
       "    0% {\n",
       "      border-color: transparent;\n",
       "      border-bottom-color: var(--fill-color);\n",
       "      border-left-color: var(--fill-color);\n",
       "    }\n",
       "    20% {\n",
       "      border-color: transparent;\n",
       "      border-left-color: var(--fill-color);\n",
       "      border-top-color: var(--fill-color);\n",
       "    }\n",
       "    30% {\n",
       "      border-color: transparent;\n",
       "      border-left-color: var(--fill-color);\n",
       "      border-top-color: var(--fill-color);\n",
       "      border-right-color: var(--fill-color);\n",
       "    }\n",
       "    40% {\n",
       "      border-color: transparent;\n",
       "      border-right-color: var(--fill-color);\n",
       "      border-top-color: var(--fill-color);\n",
       "    }\n",
       "    60% {\n",
       "      border-color: transparent;\n",
       "      border-right-color: var(--fill-color);\n",
       "    }\n",
       "    80% {\n",
       "      border-color: transparent;\n",
       "      border-right-color: var(--fill-color);\n",
       "      border-bottom-color: var(--fill-color);\n",
       "    }\n",
       "    90% {\n",
       "      border-color: transparent;\n",
       "      border-bottom-color: var(--fill-color);\n",
       "    }\n",
       "  }\n",
       "</style>\n",
       "\n",
       "  <script>\n",
       "    async function quickchart(key) {\n",
       "      const quickchartButtonEl =\n",
       "        document.querySelector('#' + key + ' button');\n",
       "      quickchartButtonEl.disabled = true;  // To prevent multiple clicks.\n",
       "      quickchartButtonEl.classList.add('colab-df-spinner');\n",
       "      try {\n",
       "        const charts = await google.colab.kernel.invokeFunction(\n",
       "            'suggestCharts', [key], {});\n",
       "      } catch (error) {\n",
       "        console.error('Error during call to suggestCharts:', error);\n",
       "      }\n",
       "      quickchartButtonEl.classList.remove('colab-df-spinner');\n",
       "      quickchartButtonEl.classList.add('colab-df-quickchart-complete');\n",
       "    }\n",
       "    (() => {\n",
       "      let quickchartButtonEl =\n",
       "        document.querySelector('#df-3ee1624f-5342-4013-9d8a-ea149d837423 button');\n",
       "      quickchartButtonEl.style.display =\n",
       "        google.colab.kernel.accessAllowed ? 'block' : 'none';\n",
       "    })();\n",
       "  </script>\n",
       "</div>\n",
       "\n",
       "    </div>\n",
       "  </div>\n"
      ],
      "text/plain": [
       "        Engine Size  Age of Vehicle         Speed  Acceleration  CO2Emissions\n",
       "count  10000.000000    10000.000000  10000.000000  10000.000000  10000.000000\n",
       "mean       3.369630       14.490000     59.448818      2.491924    273.747254\n",
       "std        1.495677        8.584339     34.437175      1.446130    130.789943\n",
       "min        0.800061        0.000000      0.000664      0.000084     50.045412\n",
       "25%        2.080910        7.000000     29.502708      1.245908    158.448360\n",
       "50%        3.361149       15.000000     59.701114      2.482625    274.734257\n",
       "75%        4.648033       22.000000     88.499982      3.747481    387.958329\n",
       "max        5.998532       29.000000    119.974725      4.999861    499.996419"
      ]
     },
     "execution_count": 9,
     "metadata": {},
     "output_type": "execute_result"
    }
   ],
   "source": [
    "dataframe.describe()"
   ]
  },
  {
   "cell_type": "markdown",
   "metadata": {
    "id": "AiKBN7qah3cw"
   },
   "source": [
    "**Explanation**: *The quartiles provide a more detailed picture of the distribution of each variable. The interquartile range (IQR) shows the spread of the middle 50% of the data. For example, the IQR for Engine Size is 2.57 liters, indicating that the middle 50% of engine sizes range from approximately 2.08 to 4.65 liters. Similarly, the IQR for Age of Vehicle is 15 years, Speed is 58.99 km/h, Acceleration is 2.50 m/s², and CO2 Emissions is 229.51 g/km. These quartiles provide a better understanding of the distribution of each variable, highlighting the range of values encompassing the majority of the data*."
   ]
  },
  {
   "cell_type": "markdown",
   "metadata": {
    "id": "dHhqMK5zh7U0"
   },
   "source": [
    "### Goal 7: Describe the Boxplot\n",
    "\n",
    "Now that we’ve described it, let’s see if we can get a data visualization to help see things like the median, outliers, and quartiles for the numerical features."
   ]
  },
  {
   "cell_type": "markdown",
   "metadata": {
    "id": "TPjEGq61iFzs"
   },
   "source": [
    "#### Blockly"
   ]
  },
  {
   "cell_type": "markdown",
   "metadata": {
    "id": "57MmG1fFiHhQ"
   },
   "source": [
    "**Step 1 -  Saying what data to use for the boxplot plot**\n",
    "\n",
    "In order to make a plot, we need to choose the source from which data we want to plot from.\n",
    "In this case, our dataset is stored in the dataframe we called **dataframe**."
   ]
  },
  {
   "cell_type": "markdown",
   "metadata": {
    "id": "At2AShmKiQ4Z"
   },
   "source": [
    "\n",
    "\n",
    "**Step 2 - Calling the boxplot method of the dataframe**\n",
    "\n",
    "To make a boxplot, we first need to call the boxplot function.\n",
    "\n",
    "From the \"VARIABLES\" menu, drag a DO block WITH **dataframe** variable, and select the boxplot function. This specifies the function we want to call on the \"dataframe\" variable, which will present the boxplot graph, reflecting the quartiles calculations.\n"
   ]
  },
  {
   "cell_type": "markdown",
   "metadata": {
    "id": "Iy4B3-VliaAW"
   },
   "source": [
    "\n",
    "**Step 3 - Run the code**\n",
    "\n",
    "Hit ‘control’ and ‘enter’ at the same time to run the code!\n",
    "\n",
    "![](https://pbs.twimg.com/media/GZaEKpHW4AEsuk0?format=png&name=240x240)"
   ]
  },
  {
   "cell_type": "markdown",
   "metadata": {
    "id": "aZXcs9GrifsW"
   },
   "source": [
    "#### Freehand"
   ]
  },
  {
   "cell_type": "markdown",
   "metadata": {
    "id": "GgEC1OKXihBl"
   },
   "source": [
    "**Step 1 - Saying what data to use for the boxplot plot**\n",
    "\n",
    "To generate a boxplot, we first need to select the data. In this case, our data is dataframe\n",
    "\n",
    "`dataframe`"
   ]
  },
  {
   "cell_type": "markdown",
   "metadata": {
    "id": "P9Ix7DgSihD7"
   },
   "source": [
    "\n",
    "**Step 2 - Calling the boxplot method for the dataframe**\n",
    "\n",
    "In the next step, we apply the boxplot() method to get the boxplot. The dataframe has 5 numerical features(Engine size, Age of vehicle, Speed, Acceleration, CO2emission). So, the  boxplot() method will create separate boxplots for each of these features.\n",
    "\n",
    "`dataframe.boxplot()`\n"
   ]
  },
  {
   "cell_type": "markdown",
   "metadata": {
    "id": "LG5pef-iihGh"
   },
   "source": [
    "\n",
    "**Step 3 - Run the code**\n",
    "\n",
    "Hit ‘control’ and ‘enter’ at the same time to run the code!\n",
    "\n",
    "![](https://pbs.twimg.com/media/GZaEIfEW8AAl4u8?format=png&name=360x360)"
   ]
  },
  {
   "cell_type": "markdown",
   "metadata": {
    "id": "1wPK8vFKihJc"
   },
   "source": [
    "**Your Turn:** Your turn! We’ll use the boxplot to see the variables, median, outliers, and quartiles."
   ]
  },
  {
   "cell_type": "code",
   "execution_count": 10,
   "metadata": {
    "colab": {
     "base_uri": "https://localhost:8080/",
     "height": 447
    },
    "id": "1ejaMxPNixrG",
    "outputId": "bd3bfb00-17cd-4f4b-d232-fab199611af6"
   },
   "outputs": [
    {
     "data": {
      "text/plain": [
       "<Axes: >"
      ]
     },
     "execution_count": 10,
     "metadata": {},
     "output_type": "execute_result"
    },
    {
     "data": {
      "image/png": "[encoded data removed]",
      "text/plain": [
       "<Figure size 640x480 with 1 Axes>"
      ]
     },
     "metadata": {},
     "output_type": "display_data"
    }
   ],
   "source": [
    "dataframe.boxplot()"
   ]
  },
  {
   "cell_type": "markdown",
   "metadata": {
    "id": "w0P2UMLPiy67"
   },
   "source": [
    "**Explanation**: *The boxplot provides a visual representation of the distribution of each variable, showing the median, quartiles, and outliers. It helps identify skewness, outliers, and patterns in the data. In this case, the boxplot would likely show a mix of symmetric and skewed distributions, with some outliers and long tails, particularly for Age of Vehicle and CO2 Emissions*."
   ]
  },
  {
   "cell_type": "markdown",
   "metadata": {
    "id": "cyh6KCWNi2Cf"
   },
   "source": [
    "## Getting a Sample\n"
   ]
  },
  {
   "cell_type": "markdown",
   "metadata": {
    "id": "vNIw_yAOi47J"
   },
   "source": [
    "### Goal 8: Sampling data from a dataset\n",
    "\n",
    "Maybe we just want to look at a smaller part of our dataset. Let’s use 10 as an example. How about we use the sample() method to select a sample of 10 data points from a dataframe, store this sample in a variable, and visualize the sample data?"
   ]
  },
  {
   "cell_type": "markdown",
   "metadata": {
    "id": "1joMBmcmjEe5"
   },
   "source": [
    "\n",
    "**Step 1 - Select the dataframe**\n",
    "\n",
    "To get a sample of the data, we first need to select the data. In this case, our data is a dataframe.\n",
    "\n",
    "From the Variables, get a DO block WITH the **dataframe** variable.\n",
    "\n",
    "\n",
    "\n",
    "\n"
   ]
  },
  {
   "cell_type": "markdown",
   "metadata": {
    "id": "46wGOimpjOdK"
   },
   "source": [
    "\n",
    "**Step 2 - Call the sample method for the dataframe**\n",
    "\n",
    "After selecting the data, we apply the **sample**() method to get a sample of our data. But how many? In this case, we select 10 samples from our data and put them in parentheses.\n",
    "\n",
    "After selecting the data, we select the DO function sample() to get a sample of our data. The number of samples is defined inside the sample() method. From the Math menu, drag a number block (123), change it to 10, and connect it on the Using end of the block. This will give us 10 randomly generated numbers from our bigger dataset.\n"
   ]
  },
  {
   "cell_type": "markdown",
   "metadata": {
    "id": "MpiPVIrojEhJ"
   },
   "source": [
    "\n",
    "**Step 3 - Assign the sample to the variable you created**\n",
    "\n",
    "After creating the sample data, we need to store it in a variable that we can get later on.. So, we store the sample data in a variable **sample**.\n"
   ]
  },
  {
   "cell_type": "markdown",
   "metadata": {
    "id": "eQD3iGRIjEjT"
   },
   "source": [
    "\n",
    "**Step 4 - Display the variable**\n",
    "\n",
    "Let’s see it now by ‘displaying’ and showing our work.\n"
   ]
  },
  {
   "cell_type": "markdown",
   "metadata": {
    "id": "EGB-VMS8jElv"
   },
   "source": [
    "\n",
    "**Step 5 - Connect the blocks to run the code**\n",
    "\n",
    "Connect the blocks and run the code!\n",
    "\n",
    "We view the stored sample data by accessing the variable **sample**.  Drag the sample variable to the workspace. This step is more of a visualization step, allowing us to see the variable content on the screen.\n",
    "\n",
    "![](https://pbs.twimg.com/media/GZaHIhlW4AASmZW?format=png&name=smal)"
   ]
  },
  {
   "cell_type": "markdown",
   "metadata": {
    "id": "cWUdoRyFjEoM"
   },
   "source": [
    "**Your Turn**: We’ve jumped into all our data. What does the smaller sample tell us?\n"
   ]
  },
  {
   "cell_type": "code",
   "execution_count": 11,
   "metadata": {
    "colab": {
     "base_uri": "https://localhost:8080/",
     "height": 363
    },
    "id": "8I_PcdpLjzCY",
    "outputId": "65aa7f3c-d29b-4172-fcba-9bd246acfedd"
   },
   "outputs": [
    {
     "data": {
      "application/vnd.google.colaboratory.intrinsic+json": {
       "summary": "{\n  \"name\": \"sample\",\n  \"rows\": 10,\n  \"fields\": [\n    {\n      \"column\": \"Engine Size\",\n      \"properties\": {\n        \"dtype\": \"number\",\n        \"std\": 1.4719477287410678,\n        \"min\": 1.84293623,\n        \"max\": 5.945427734,\n        \"num_unique_values\": 10,\n        \"samples\": [\n          1.84293623,\n          5.587986364,\n          2.739636919\n        ],\n        \"semantic_type\": \"\",\n        \"description\": \"\"\n      }\n    },\n    {\n      \"column\": \"Age of Vehicle\",\n      \"properties\": {\n        \"dtype\": \"number\",\n        \"std\": 10,\n        \"min\": 2,\n        \"max\": 28,\n        \"num_unique_values\": 8,\n        \"samples\": [\n          28,\n          3,\n          20\n        ],\n        \"semantic_type\": \"\",\n        \"description\": \"\"\n      }\n    },\n    {\n      \"column\": \"Speed\",\n      \"properties\": {\n        \"dtype\": \"number\",\n        \"std\": 41.919428444837614,\n        \"min\": 9.091260591,\n        \"max\": 108.7013979,\n        \"num_unique_values\": 10,\n        \"samples\": [\n          108.7013979,\n          100.0296383,\n          93.9522615\n        ],\n        \"semantic_type\": \"\",\n        \"description\": \"\"\n      }\n    },\n    {\n      \"column\": \"Acceleration\",\n      \"properties\": {\n        \"dtype\": \"number\",\n        \"std\": 1.7759441536950795,\n        \"min\": 0.1067304971,\n        \"max\": 4.719955857,\n        \"num_unique_values\": 10,\n        \"samples\": [\n          0.981244195,\n          3.159104037,\n          0.1067304971\n        ],\n        \"semantic_type\": \"\",\n        \"description\": \"\"\n      }\n    },\n    {\n      \"column\": \"CO2Emissions\",\n      \"properties\": {\n        \"dtype\": \"number\",\n        \"std\": 135.30326649608074,\n        \"min\": 132.5951798,\n        \"max\": 494.2146754,\n        \"num_unique_values\": 10,\n        \"samples\": [\n          209.6961659,\n          278.9101746,\n          485.189013\n        ],\n        \"semantic_type\": \"\",\n        \"description\": \"\"\n      }\n    }\n  ]\n}",
       "type": "dataframe",
       "variable_name": "sample"
      },
      "text/html": [
       "\n",
       "  <div id=\"df-6358aa4d-e9f8-4560-855c-b14dc2d3a91d\" class=\"colab-df-container\">\n",
       "    <div>\n",
       "<style scoped>\n",
       "    .dataframe tbody tr th:only-of-type {\n",
       "        vertical-align: middle;\n",
       "    }\n",
       "\n",
       "    .dataframe tbody tr th {\n",
       "        vertical-align: top;\n",
       "    }\n",
       "\n",
       "    .dataframe thead th {\n",
       "        text-align: right;\n",
       "    }\n",
       "</style>\n",
       "<table border=\"1\" class=\"dataframe\">\n",
       "  <thead>\n",
       "    <tr style=\"text-align: right;\">\n",
       "      <th></th>\n",
       "      <th>Engine Size</th>\n",
       "      <th>Age of Vehicle</th>\n",
       "      <th>Speed</th>\n",
       "      <th>Acceleration</th>\n",
       "      <th>CO2Emissions</th>\n",
       "    </tr>\n",
       "  </thead>\n",
       "  <tbody>\n",
       "    <tr>\n",
       "      <th>9148</th>\n",
       "      <td>2.927823</td>\n",
       "      <td>20</td>\n",
       "      <td>92.785505</td>\n",
       "      <td>4.322829</td>\n",
       "      <td>132.595180</td>\n",
       "    </tr>\n",
       "    <tr>\n",
       "      <th>3141</th>\n",
       "      <td>5.587986</td>\n",
       "      <td>28</td>\n",
       "      <td>100.029638</td>\n",
       "      <td>3.159104</td>\n",
       "      <td>278.910175</td>\n",
       "    </tr>\n",
       "    <tr>\n",
       "      <th>4365</th>\n",
       "      <td>4.265914</td>\n",
       "      <td>11</td>\n",
       "      <td>29.790424</td>\n",
       "      <td>4.719956</td>\n",
       "      <td>231.031207</td>\n",
       "    </tr>\n",
       "    <tr>\n",
       "      <th>5186</th>\n",
       "      <td>4.318410</td>\n",
       "      <td>5</td>\n",
       "      <td>9.091261</td>\n",
       "      <td>1.593371</td>\n",
       "      <td>200.043750</td>\n",
       "    </tr>\n",
       "    <tr>\n",
       "      <th>1707</th>\n",
       "      <td>1.923399</td>\n",
       "      <td>8</td>\n",
       "      <td>72.479871</td>\n",
       "      <td>3.847758</td>\n",
       "      <td>465.897118</td>\n",
       "    </tr>\n",
       "    <tr>\n",
       "      <th>9901</th>\n",
       "      <td>2.739637</td>\n",
       "      <td>28</td>\n",
       "      <td>93.952262</td>\n",
       "      <td>0.106730</td>\n",
       "      <td>485.189013</td>\n",
       "    </tr>\n",
       "    <tr>\n",
       "      <th>7864</th>\n",
       "      <td>2.445152</td>\n",
       "      <td>3</td>\n",
       "      <td>10.964317</td>\n",
       "      <td>1.538359</td>\n",
       "      <td>416.605897</td>\n",
       "    </tr>\n",
       "    <tr>\n",
       "      <th>4404</th>\n",
       "      <td>5.945428</td>\n",
       "      <td>19</td>\n",
       "      <td>10.438489</td>\n",
       "      <td>0.196258</td>\n",
       "      <td>400.933955</td>\n",
       "    </tr>\n",
       "    <tr>\n",
       "      <th>6912</th>\n",
       "      <td>1.842936</td>\n",
       "      <td>28</td>\n",
       "      <td>108.701398</td>\n",
       "      <td>0.981244</td>\n",
       "      <td>209.696166</td>\n",
       "    </tr>\n",
       "    <tr>\n",
       "      <th>3458</th>\n",
       "      <td>4.425106</td>\n",
       "      <td>2</td>\n",
       "      <td>23.608863</td>\n",
       "      <td>0.372038</td>\n",
       "      <td>494.214675</td>\n",
       "    </tr>\n",
       "  </tbody>\n",
       "</table>\n",
       "</div>\n",
       "    <div class=\"colab-df-buttons\">\n",
       "\n",
       "  <div class=\"colab-df-container\">\n",
       "    <button class=\"colab-df-convert\" onclick=\"convertToInteractive('df-6358aa4d-e9f8-4560-855c-b14dc2d3a91d')\"\n",
       "            title=\"Convert this dataframe to an interactive table.\"\n",
       "            style=\"display:none;\">\n",
       "\n",
       "  <svg xmlns=\"http://www.w3.org/2000/svg\" height=\"24px\" viewBox=\"0 -960 960 960\">\n",
       "    <path d=\"M120-120v-720h720v720H120Zm60-500h600v-160H180v160Zm220 220h160v-160H400v160Zm0 220h160v-160H400v160ZM180-400h160v-160H180v160Zm440 0h160v-160H620v160ZM180-180h160v-160H180v160Zm440 0h160v-160H620v160Z\"/>\n",
       "  </svg>\n",
       "    </button>\n",
       "\n",
       "  <style>\n",
       "    .colab-df-container {\n",
       "      display:flex;\n",
       "      gap: 12px;\n",
       "    }\n",
       "\n",
       "    .colab-df-convert {\n",
       "      background-color: #E8F0FE;\n",
       "      border: none;\n",
       "      border-radius: 50%;\n",
       "      cursor: pointer;\n",
       "      display: none;\n",
       "      fill: #1967D2;\n",
       "      height: 32px;\n",
       "      padding: 0 0 0 0;\n",
       "      width: 32px;\n",
       "    }\n",
       "\n",
       "    .colab-df-convert:hover {\n",
       "      background-color: #E2EBFA;\n",
       "      box-shadow: 0px 1px 2px rgba(60, 64, 67, 0.3), 0px 1px 3px 1px rgba(60, 64, 67, 0.15);\n",
       "      fill: #174EA6;\n",
       "    }\n",
       "\n",
       "    .colab-df-buttons div {\n",
       "      margin-bottom: 4px;\n",
       "    }\n",
       "\n",
       "    [theme=dark] .colab-df-convert {\n",
       "      background-color: #3B4455;\n",
       "      fill: #D2E3FC;\n",
       "    }\n",
       "\n",
       "    [theme=dark] .colab-df-convert:hover {\n",
       "      background-color: #434B5C;\n",
       "      box-shadow: 0px 1px 3px 1px rgba(0, 0, 0, 0.15);\n",
       "      filter: drop-shadow(0px 1px 2px rgba(0, 0, 0, 0.3));\n",
       "      fill: #FFFFFF;\n",
       "    }\n",
       "  </style>\n",
       "\n",
       "    <script>\n",
       "      const buttonEl =\n",
       "        document.querySelector('#df-6358aa4d-e9f8-4560-855c-b14dc2d3a91d button.colab-df-convert');\n",
       "      buttonEl.style.display =\n",
       "        google.colab.kernel.accessAllowed ? 'block' : 'none';\n",
       "\n",
       "      async function convertToInteractive(key) {\n",
       "        const element = document.querySelector('#df-6358aa4d-e9f8-4560-855c-b14dc2d3a91d');\n",
       "        const dataTable =\n",
       "          await google.colab.kernel.invokeFunction('convertToInteractive',\n",
       "                                                    [key], {});\n",
       "        if (!dataTable) return;\n",
       "\n",
       "        const docLinkHtml = 'Like what you see? Visit the ' +\n",
       "          '<a target=\"_blank\" href=https://colab.research.google.com/notebooks/data_table.ipynb>data table notebook</a>'\n",
       "          + ' to learn more about interactive tables.';\n",
       "        element.innerHTML = '';\n",
       "        dataTable['output_type'] = 'display_data';\n",
       "        await google.colab.output.renderOutput(dataTable, element);\n",
       "        const docLink = document.createElement('div');\n",
       "        docLink.innerHTML = docLinkHtml;\n",
       "        element.appendChild(docLink);\n",
       "      }\n",
       "    </script>\n",
       "  </div>\n",
       "\n",
       "\n",
       "<div id=\"df-7b0ec86f-3c03-4d05-8f25-fa4462a494d6\">\n",
       "  <button class=\"colab-df-quickchart\" onclick=\"quickchart('df-7b0ec86f-3c03-4d05-8f25-fa4462a494d6')\"\n",
       "            title=\"Suggest charts\"\n",
       "            style=\"display:none;\">\n",
       "\n",
       "<svg xmlns=\"http://www.w3.org/2000/svg\" height=\"24px\"viewBox=\"0 0 24 24\"\n",
       "     width=\"24px\">\n",
       "    <g>\n",
       "        <path d=\"M19 3H5c-1.1 0-2 .9-2 2v14c0 1.1.9 2 2 2h14c1.1 0 2-.9 2-2V5c0-1.1-.9-2-2-2zM9 17H7v-7h2v7zm4 0h-2V7h2v10zm4 0h-2v-4h2v4z\"/>\n",
       "    </g>\n",
       "</svg>\n",
       "  </button>\n",
       "\n",
       "<style>\n",
       "  .colab-df-quickchart {\n",
       "      --bg-color: #E8F0FE;\n",
       "      --fill-color: #1967D2;\n",
       "      --hover-bg-color: #E2EBFA;\n",
       "      --hover-fill-color: #174EA6;\n",
       "      --disabled-fill-color: #AAA;\n",
       "      --disabled-bg-color: #DDD;\n",
       "  }\n",
       "\n",
       "  [theme=dark] .colab-df-quickchart {\n",
       "      --bg-color: #3B4455;\n",
       "      --fill-color: #D2E3FC;\n",
       "      --hover-bg-color: #434B5C;\n",
       "      --hover-fill-color: #FFFFFF;\n",
       "      --disabled-bg-color: #3B4455;\n",
       "      --disabled-fill-color: #666;\n",
       "  }\n",
       "\n",
       "  .colab-df-quickchart {\n",
       "    background-color: var(--bg-color);\n",
       "    border: none;\n",
       "    border-radius: 50%;\n",
       "    cursor: pointer;\n",
       "    display: none;\n",
       "    fill: var(--fill-color);\n",
       "    height: 32px;\n",
       "    padding: 0;\n",
       "    width: 32px;\n",
       "  }\n",
       "\n",
       "  .colab-df-quickchart:hover {\n",
       "    background-color: var(--hover-bg-color);\n",
       "    box-shadow: 0 1px 2px rgba(60, 64, 67, 0.3), 0 1px 3px 1px rgba(60, 64, 67, 0.15);\n",
       "    fill: var(--button-hover-fill-color);\n",
       "  }\n",
       "\n",
       "  .colab-df-quickchart-complete:disabled,\n",
       "  .colab-df-quickchart-complete:disabled:hover {\n",
       "    background-color: var(--disabled-bg-color);\n",
       "    fill: var(--disabled-fill-color);\n",
       "    box-shadow: none;\n",
       "  }\n",
       "\n",
       "  .colab-df-spinner {\n",
       "    border: 2px solid var(--fill-color);\n",
       "    border-color: transparent;\n",
       "    border-bottom-color: var(--fill-color);\n",
       "    animation:\n",
       "      spin 1s steps(1) infinite;\n",
       "  }\n",
       "\n",
       "  @keyframes spin {\n",
       "    0% {\n",
       "      border-color: transparent;\n",
       "      border-bottom-color: var(--fill-color);\n",
       "      border-left-color: var(--fill-color);\n",
       "    }\n",
       "    20% {\n",
       "      border-color: transparent;\n",
       "      border-left-color: var(--fill-color);\n",
       "      border-top-color: var(--fill-color);\n",
       "    }\n",
       "    30% {\n",
       "      border-color: transparent;\n",
       "      border-left-color: var(--fill-color);\n",
       "      border-top-color: var(--fill-color);\n",
       "      border-right-color: var(--fill-color);\n",
       "    }\n",
       "    40% {\n",
       "      border-color: transparent;\n",
       "      border-right-color: var(--fill-color);\n",
       "      border-top-color: var(--fill-color);\n",
       "    }\n",
       "    60% {\n",
       "      border-color: transparent;\n",
       "      border-right-color: var(--fill-color);\n",
       "    }\n",
       "    80% {\n",
       "      border-color: transparent;\n",
       "      border-right-color: var(--fill-color);\n",
       "      border-bottom-color: var(--fill-color);\n",
       "    }\n",
       "    90% {\n",
       "      border-color: transparent;\n",
       "      border-bottom-color: var(--fill-color);\n",
       "    }\n",
       "  }\n",
       "</style>\n",
       "\n",
       "  <script>\n",
       "    async function quickchart(key) {\n",
       "      const quickchartButtonEl =\n",
       "        document.querySelector('#' + key + ' button');\n",
       "      quickchartButtonEl.disabled = true;  // To prevent multiple clicks.\n",
       "      quickchartButtonEl.classList.add('colab-df-spinner');\n",
       "      try {\n",
       "        const charts = await google.colab.kernel.invokeFunction(\n",
       "            'suggestCharts', [key], {});\n",
       "      } catch (error) {\n",
       "        console.error('Error during call to suggestCharts:', error);\n",
       "      }\n",
       "      quickchartButtonEl.classList.remove('colab-df-spinner');\n",
       "      quickchartButtonEl.classList.add('colab-df-quickchart-complete');\n",
       "    }\n",
       "    (() => {\n",
       "      let quickchartButtonEl =\n",
       "        document.querySelector('#df-7b0ec86f-3c03-4d05-8f25-fa4462a494d6 button');\n",
       "      quickchartButtonEl.style.display =\n",
       "        google.colab.kernel.accessAllowed ? 'block' : 'none';\n",
       "    })();\n",
       "  </script>\n",
       "</div>\n",
       "\n",
       "  <div id=\"id_98481037-399e-49b8-8374-93083328f014\">\n",
       "    <style>\n",
       "      .colab-df-generate {\n",
       "        background-color: #E8F0FE;\n",
       "        border: none;\n",
       "        border-radius: 50%;\n",
       "        cursor: pointer;\n",
       "        display: none;\n",
       "        fill: #1967D2;\n",
       "        height: 32px;\n",
       "        padding: 0 0 0 0;\n",
       "        width: 32px;\n",
       "      }\n",
       "\n",
       "      .colab-df-generate:hover {\n",
       "        background-color: #E2EBFA;\n",
       "        box-shadow: 0px 1px 2px rgba(60, 64, 67, 0.3), 0px 1px 3px 1px rgba(60, 64, 67, 0.15);\n",
       "        fill: #174EA6;\n",
       "      }\n",
       "\n",
       "      [theme=dark] .colab-df-generate {\n",
       "        background-color: #3B4455;\n",
       "        fill: #D2E3FC;\n",
       "      }\n",
       "\n",
       "      [theme=dark] .colab-df-generate:hover {\n",
       "        background-color: #434B5C;\n",
       "        box-shadow: 0px 1px 3px 1px rgba(0, 0, 0, 0.15);\n",
       "        filter: drop-shadow(0px 1px 2px rgba(0, 0, 0, 0.3));\n",
       "        fill: #FFFFFF;\n",
       "      }\n",
       "    </style>\n",
       "    <button class=\"colab-df-generate\" onclick=\"generateWithVariable('sample')\"\n",
       "            title=\"Generate code using this dataframe.\"\n",
       "            style=\"display:none;\">\n",
       "\n",
       "  <svg xmlns=\"http://www.w3.org/2000/svg\" height=\"24px\"viewBox=\"0 0 24 24\"\n",
       "       width=\"24px\">\n",
       "    <path d=\"M7,19H8.4L18.45,9,17,7.55,7,17.6ZM5,21V16.75L18.45,3.32a2,2,0,0,1,2.83,0l1.4,1.43a1.91,1.91,0,0,1,.58,1.4,1.91,1.91,0,0,1-.58,1.4L9.25,21ZM18.45,9,17,7.55Zm-12,3A5.31,5.31,0,0,0,4.9,8.1,5.31,5.31,0,0,0,1,6.5,5.31,5.31,0,0,0,4.9,4.9,5.31,5.31,0,0,0,6.5,1,5.31,5.31,0,0,0,8.1,4.9,5.31,5.31,0,0,0,12,6.5,5.46,5.46,0,0,0,6.5,12Z\"/>\n",
       "  </svg>\n",
       "    </button>\n",
       "    <script>\n",
       "      (() => {\n",
       "      const buttonEl =\n",
       "        document.querySelector('#id_98481037-399e-49b8-8374-93083328f014 button.colab-df-generate');\n",
       "      buttonEl.style.display =\n",
       "        google.colab.kernel.accessAllowed ? 'block' : 'none';\n",
       "\n",
       "      buttonEl.onclick = () => {\n",
       "        google.colab.notebook.generateWithVariable('sample');\n",
       "      }\n",
       "      })();\n",
       "    </script>\n",
       "  </div>\n",
       "\n",
       "    </div>\n",
       "  </div>\n"
      ],
      "text/plain": [
       "      Engine Size  Age of Vehicle       Speed  Acceleration  CO2Emissions\n",
       "9148     2.927823              20   92.785505      4.322829    132.595180\n",
       "3141     5.587986              28  100.029638      3.159104    278.910175\n",
       "4365     4.265914              11   29.790424      4.719956    231.031207\n",
       "5186     4.318410               5    9.091261      1.593371    200.043750\n",
       "1707     1.923399               8   72.479871      3.847758    465.897118\n",
       "9901     2.739637              28   93.952262      0.106730    485.189013\n",
       "7864     2.445152               3   10.964317      1.538359    416.605897\n",
       "4404     5.945428              19   10.438489      0.196258    400.933955\n",
       "6912     1.842936              28  108.701398      0.981244    209.696166\n",
       "3458     4.425106               2   23.608863      0.372038    494.214675"
      ]
     },
     "execution_count": 11,
     "metadata": {},
     "output_type": "execute_result"
    }
   ],
   "source": [
    "sample = dataframe.sample(10)\n",
    "sample"
   ]
  },
  {
   "cell_type": "markdown",
   "metadata": {
    "id": "EdOnwi9jjEqp"
   },
   "source": [
    "**Explanation**: *The sample variable contains a random subset of 10 rows from the original dataframe, providing a small, representative sample of the data*."
   ]
  },
  {
   "cell_type": "markdown",
   "metadata": {
    "id": "-E65-NdnkDY9"
   },
   "source": [
    "### Goal 9: Find the sample mean.\n",
    "\n",
    "Remember we looked at the mean for everything earlier? What if we want to get the average for the smaller set that we just got?"
   ]
  },
  {
   "cell_type": "markdown",
   "metadata": {
    "id": "6jOTaRtekF0C"
   },
   "source": [
    "#### Blockly"
   ]
  },
  {
   "cell_type": "markdown",
   "metadata": {
    "id": "bWN30-tVkItQ"
   },
   "source": [
    "**Step 1 - Saying what data to use for the mean**\n",
    "\n",
    "To calculate the mean, we first need to select the numeric data to calculate the mean. In this case, our data is the whole data **sample**.\n",
    "\n",
    "From the \"VARIABLES\" menu, drag a DO block WITH **sample** variable.  First, we need to select the numeric data to calculate the mean.  In this case, our data is the whole data “dataframe”.  \n"
   ]
  },
  {
   "cell_type": "markdown",
   "metadata": {
    "id": "-QGQsPZskM9E"
   },
   "source": [
    "\n",
    "**Step 2 - Call the mean method for the dataframe **\n",
    "\n",
    "In the next step, we apply the **mean**() method to calculate the mean of all the numeric columns in our dataframe.\n"
   ]
  },
  {
   "cell_type": "markdown",
   "metadata": {
    "id": "n7W6sn9dkPno"
   },
   "source": [
    "\n",
    "**Step 3 - Connect the blocks to run the code**\n",
    "\n",
    "Connect the blocks and run the code!\n",
    "\n",
    "![](https://pbs.twimg.com/media/GZaHxPrWIAAEo1D?format=png&name=240x240)"
   ]
  },
  {
   "cell_type": "markdown",
   "metadata": {
    "id": "umMCo8zukVaU"
   },
   "source": [
    "#### Freehand"
   ]
  },
  {
   "cell_type": "markdown",
   "metadata": {
    "id": "K-VI3ZP-kW_d"
   },
   "source": [
    "**Step 1 - Select the data you want to use**\n",
    "\n",
    "To calculate the mean, we first need to select the numeric data to calculate the mean. In this case, our data is the whole data we put into **sample**.\n",
    "\n",
    "`sample`"
   ]
  },
  {
   "cell_type": "markdown",
   "metadata": {
    "id": "OivzXt2LkXCG"
   },
   "source": [
    "\n",
    "**Step 2 - Call the mean method for the dataframe**\n",
    "\n",
    "In the next step, we apply the **mean**() method to calculate the mean of all the numeric columns in our dataframe.\n",
    "\n",
    "`sample.mean()`\n"
   ]
  },
  {
   "cell_type": "markdown",
   "metadata": {
    "id": "kFu3xLY9kXE2"
   },
   "source": [
    "\n",
    "**Step 3 - Run the code**\n",
    "\n",
    "Hit ‘control’ and ‘enter’ at the same time to run the code!\n",
    "\n",
    "![](https://pbs.twimg.com/media/GZaHzQ6XQAEyPOb?format=png&name=360x360)"
   ]
  },
  {
   "cell_type": "markdown",
   "metadata": {
    "id": "m9cCgMaVkXHc"
   },
   "source": [
    "**Your Turn**: Your turn! We will use this function to find the average of the sample data.\n"
   ]
  },
  {
   "cell_type": "code",
   "execution_count": 12,
   "metadata": {
    "colab": {
     "base_uri": "https://localhost:8080/",
     "height": 241
    },
    "id": "RHJJnx9nksAo",
    "outputId": "ec259ad8-5a27-4751-8bed-c0b688eee07b"
   },
   "outputs": [
    {
     "data": {
      "text/html": [
       "<div>\n",
       "<style scoped>\n",
       "    .dataframe tbody tr th:only-of-type {\n",
       "        vertical-align: middle;\n",
       "    }\n",
       "\n",
       "    .dataframe tbody tr th {\n",
       "        vertical-align: top;\n",
       "    }\n",
       "\n",
       "    .dataframe thead th {\n",
       "        text-align: right;\n",
       "    }\n",
       "</style>\n",
       "<table border=\"1\" class=\"dataframe\">\n",
       "  <thead>\n",
       "    <tr style=\"text-align: right;\">\n",
       "      <th></th>\n",
       "      <th>0</th>\n",
       "    </tr>\n",
       "  </thead>\n",
       "  <tbody>\n",
       "    <tr>\n",
       "      <th>Engine Size</th>\n",
       "      <td>3.642179</td>\n",
       "    </tr>\n",
       "    <tr>\n",
       "      <th>Age of Vehicle</th>\n",
       "      <td>15.200000</td>\n",
       "    </tr>\n",
       "    <tr>\n",
       "      <th>Speed</th>\n",
       "      <td>55.184203</td>\n",
       "    </tr>\n",
       "    <tr>\n",
       "      <th>Acceleration</th>\n",
       "      <td>2.083765</td>\n",
       "    </tr>\n",
       "    <tr>\n",
       "      <th>CO2Emissions</th>\n",
       "      <td>331.511714</td>\n",
       "    </tr>\n",
       "  </tbody>\n",
       "</table>\n",
       "</div><br><label><b>dtype:</b> float64</label>"
      ],
      "text/plain": [
       "Engine Size         3.642179\n",
       "Age of Vehicle     15.200000\n",
       "Speed              55.184203\n",
       "Acceleration        2.083765\n",
       "CO2Emissions      331.511714\n",
       "dtype: float64"
      ]
     },
     "execution_count": 12,
     "metadata": {},
     "output_type": "execute_result"
    }
   ],
   "source": [
    "sample.mean()"
   ]
  },
  {
   "cell_type": "markdown",
   "metadata": {
    "id": "Ggw84VxJkXKM"
   },
   "source": [
    "**Explanation**: *The sample.mean() calculation returns the mean values for each column in the random sample of 10 rows, which are slightly different from the original mean values due to the random selection of rows*."
   ]
  },
  {
   "cell_type": "markdown",
   "metadata": {
    "id": "hUFAOZ6GkzAk"
   },
   "source": [
    "## WHAT DID YOU LEARN?\n"
   ]
  },
  {
   "cell_type": "markdown",
   "metadata": {
    "id": "bjpcWpKAkzc1"
   },
   "source": [
    "In this lesson, we've explored different measures of data using Python’s pandas like finding the [central tendencies](## \"most commonly used to describe data are mean, median, and mode\") like average ([mean](## \"the numerical average of the variables\")), the middle number ([median](## \"the number in the middle of the data\")), or the most common number ([mode](## \"the value in the data that shows up the most\")). We also thought about the [measures of dispersion](## \"how the data are spread out around a center value\") of our data, which is a measure of how spread out the numbers in a data set are.\n",
    "\n",
    "We also thought about how much data to look at. So we looked at the concept of [sampling](## \"involves selecting a subset of individuals or observations from a larger population to estimate and make inferences about that population\"), which looks at a smaller small portion of a larger group. Just like Diego, we put these concepts into practice, we've worked with a real-world data set about cars and pollution in a city.\n"
   ]
  },
  {
   "cell_type": "markdown",
   "metadata": {
    "id": "b0hn2-Kokzfa"
   },
   "source": [
    "## WHAT’S NEXT?\n"
   ]
  },
  {
   "cell_type": "markdown",
   "metadata": {
    "id": "gMz6GpErk4-q"
   },
   "source": [
    "[Measures of Association](Measures_of_Association.ipynb)\n"
   ]
  },
  {
   "cell_type": "markdown",
   "metadata": {
    "id": "WvBWY3Q8k-w6"
   },
   "source": [
    "## TELL ME MORE\n"
   ]
  },
  {
   "cell_type": "markdown",
   "metadata": {
    "id": "G70YQ_mhk-y3"
   },
   "source": [
    "\n",
    "- [Datawhys Descriptives Notebook](https://github.com/memphis-iis/datawhys-content-notebooks-python/blob/master/Descriptive-statistics.ipynb)\n",
    "- [Datawhys Descriptives Problem-Solving Notebook](https://github.com/memphis-iis/datawhys-content-notebooks-python/blob/master/Descriptive-statistics-PS.ipynb)\n",
    "- [Exploratory Data Analysis (EDA) Using Python Data Analysis](https://www.youtube.com/watch?v=-o3AxdVcUtQ&pp=ygU-RXhwbG9yYXRvcnkgRGF0YSBBbmFseXNpcyAoRURBKSBVc2luZyBQeXRob24iIGJ5IFRlY2ggV2l0aCBUaW0%3D) - Edureka (video)"
   ]
  }
 ],
 "metadata": {
  "colab": {
   "provenance": []
  },
  "kernelspec": {
   "display_name": "Python 3 (ipykernel)",
   "language": "python",
   "name": "python3"
  },
  "language_info": {
   "codemirror_mode": {
    "name": "ipython",
    "version": 3
   },
   "file_extension": ".py",
   "mimetype": "text/x-python",
   "name": "python",
   "nbconvert_exporter": "python",
   "pygments_lexer": "ipython3",
   "version": "3.10.6"
  }
 },
 "nbformat": 4,
 "nbformat_minor": 4
}
