{
 "cells": [
  {
   "cell_type": "markdown",
   "metadata": {
    "deletable": false,
    "editable": false,
    "id": "cLLdRrt6Fbqv"
   },
   "source": [
    "# Data Cleaning"
   ]
  },
  {
   "cell_type": "markdown",
   "metadata": {
    "deletable": false,
    "editable": false,
    "id": "kci01XZiFc-Z"
   },
   "source": [
    "## ANTICIPATED TIME:\n"
   ]
  },
  {
   "cell_type": "markdown",
   "metadata": {
    "deletable": false,
    "editable": false,
    "id": "xETeCxlzFdAl"
   },
   "source": [
    "2 hours"
   ]
  },
  {
   "cell_type": "markdown",
   "metadata": {
    "deletable": false,
    "editable": false,
    "id": "0khRiKhQFdC9"
   },
   "source": [
    "## BEFORE YOU BEGIN\n"
   ]
  },
  {
   "cell_type": "markdown",
   "metadata": {
    "deletable": false,
    "editable": false,
    "id": "x04xw7xrFdFT"
   },
   "source": [
    "[Crossvalidation](Crossvalidation.ipynb)"
   ]
  },
  {
   "cell_type": "markdown",
   "metadata": {
    "deletable": false,
    "editable": false,
    "id": "2GAuBTc7FdHm"
   },
   "source": [
    "## WHAT YOU WILL LEARN\n"
   ]
  },
  {
   "cell_type": "markdown",
   "metadata": {
    "deletable": false,
    "editable": false,
    "id": "HL21FMjXF0hE"
   },
   "source": [
    "* When to clean data?\n",
    "* What is missing data?\n",
    "* When to transform data?\n",
    "* How to create new variables?\n",
    "* What is versioning?"
   ]
  },
  {
   "cell_type": "markdown",
   "metadata": {
    "deletable": false,
    "editable": false,
    "id": "Waa43iViFdJu"
   },
   "source": [
    "## DEFINITIONS YOU’LL NEED TO KNOW\n",
    "\n"
   ]
  },
  {
   "cell_type": "markdown",
   "metadata": {
    "deletable": false,
    "editable": false,
    "id": "Fxe33l8mGDbv"
   },
   "source": [
    "* Outliers - data points that are far outside of a dataset\n",
    "* Common scale - different features or variables that are adjusted to have similar ranges\n",
    "* Standardardized variable - has a mean of zero and a standard deviation of 1\n",
    "* Non-normality - when the distribution of data does not follow an expected pattern\n",
    "* Versioning - saving different copies of your work to see how things changed"
   ]
  },
  {
   "cell_type": "markdown",
   "metadata": {
    "deletable": false,
    "editable": false,
    "id": "e8BlYnfYGDgA"
   },
   "source": [
    "## SCENARIO:"
   ]
  },
  {
   "cell_type": "markdown",
   "metadata": {
    "deletable": false,
    "editable": false,
    "html": "<iframe class='metadata-html' width='560' height='315' src='https://video.olney.ai/16-clean.mp4' title='YouTube video player' frameborder='0' allow='accelerometer; autoplay; clipboard-write; encrypted-media; gyroscope; picture-in-picture; web-share' referrerpolicy='strict-origin-when-cross-origin' allowfullscreen></iframe>",
    "id": "-JFNEICbGQWG"
   },
   "source": [
    "So far, the team has collected a lot of data to solve the pollution problem in their city! Kiana notices that the data that they’ve collected over time isn’t as clean as they thought it was. Some of the data has missing values or different scales, like the air quality measurements in different areas. Diego suggests that they should use data cleaning techniques to fix these issues. He thinks that data cleaning techniques such as transforming the data to make it easier to compare, standardizing pollution levels to ensure they are on the same scale, and even removing outliers that could possibly cause error. There are many different techniques the team can use! The team realizes that by using the proper data cleaning techniques, they can continue to make better informed decisions and solve their pollution issue."
   ]
  },
  {
   "cell_type": "markdown",
   "metadata": {
    "deletable": false,
    "editable": false,
    "id": "jdVvSrHzGQmv"
   },
   "source": [
    "## WHAT DO I NEED TO KNOW?"
   ]
  },
  {
   "cell_type": "markdown",
   "metadata": {
    "deletable": false,
    "editable": false,
    "id": "X2ZJ-_UTGQpI"
   },
   "source": [
    "\n",
    "\n",
    "\n",
    "**Data Cleaning, Transformation, and Versioning**\n",
    "\n",
    "Most of the datasets we’ve worked with so far either had no mistakes or very few mistakes. Sounds awesome, but unfortunately that’s not always the case! Real-world datasets often need fixing or “cleaning” before we can use them and accurately run our data science methods.\n",
    "In this notebook, we’ll look at some techniques we’ve already used and add in some new ones."
   ]
  },
  {
   "cell_type": "markdown",
   "metadata": {
    "deletable": false,
    "editable": false,
    "id": "vOMCOJBOGQra"
   },
   "source": [
    "**Missing Data**\n",
    "\n",
    "Imagine we are trying to get some information on the people that live in our community. We got lots of great data like their address, but maybe we are missing information like their age or school they go to. Think about all the different ways we might see that…\n",
    "* None\n",
    "* na\n",
    "* nan\n",
    "* Nan\n",
    "* NaN\n",
    "* -NaN\n",
    "* -nan\n",
    "* -1\n",
    "* #IND\n",
    "* NA\n",
    "* #N/A\n",
    "* N/A\n",
    "* N/A\n",
    "* n/a\n",
    "* NA\n",
    "* #NA\n",
    "* NULL\n",
    "* Null\n",
    "\n",
    "All those might sense when we look at it, but it’s confusing to a computer because it technically see it all as different data points.\n",
    "\n",
    "It’s important to know that most algorithms can’t handle missing values, so we have to decide what to do when that happens. So what should we do?\n",
    "* Let’s get rid of them by dropping missing values or\n",
    "* Replacing them with real values.\n",
    "\n",
    "*Dropping Missing Values*\n",
    "\n",
    "We’ve seen this method before. Sometimes we don’t want to lose data because if we remove the data, we might bias the model. So another option is to replace missing data with a convenient value like the mean and median.\n",
    "\n",
    "*Remove or Replace Missing Values*\n",
    "\n",
    "The best way to decide what to do when data is missing is to understand why the data is missing in the first place. If there’s a pattern of missing data, it will likely mess up your model.\n"
   ]
  },
  {
   "cell_type": "markdown",
   "metadata": {
    "deletable": false,
    "editable": false,
    "id": "oRaJ7vHKGQt6"
   },
   "source": [
    "\n",
    "**Transforming Data**\n",
    "\n",
    "There are two common reasons to change data:\n",
    "\n",
    "* Outliers\n",
    "* Common Scale\n",
    "\n",
    "*Outliers*\n",
    "\n",
    "Ever look at a dataset and one just feels….off? Like someone in the 7th grade has an age of 26 years old? Or maybe most people on the basketball team score about 15 points per game, but one player is recorded at 42 points per game. It’s a pretty good bet that datapoint is an outlier.\n",
    "\n",
    "Why does that matter though? Outliers can have a strong effect on some models, like linear regression. When we identify outliers, it’s important to understand what caused them. For example, maybe it’s simply a measuring error that can be removed or changed. On the other hand, maybe the outlier is showing a real difference in the data that shouldn’t be ignored.\n",
    "\n",
    "To check if the outlier is “real,” look for their patterns with other variables.\n",
    "\n",
    "* **Finding outliers using the standard deviation**. If you decide it’s best to drop the outliers, you can find them in a variety of ways. One way is standard deviation. Standard deviation shows how spread out a variable’s values are from the normal distributions. Because most (99.7% to be exact) values are within three standard deviations, so anything outside of that could be used to find outliers. One problem though - mean and standard deviation are affected by outliers, so we have to be careful there.\n",
    "* **Finding outliers using boxplots**.  In boxplots, outliers are circles outside of the whiskers. In normal distributions without outliers, this is similar to using three standard deviations. With outliers, this method works better because it doesn't rely on mean or standard deviation. Plus it relies on some of the data visualization we talked about earlier.\n",
    "* **Finding outliers using percentiles**. Another way we can identify outliers is by using percentiles. For example, when we use percentiles, we can call everything below the 1st percentile or above the 99th percentile an outlier.\n",
    "\n",
    "\n",
    "*Common Scale*\n",
    "\n",
    "Different variables will naturally be on different scales. For example, height might range from 4 to 7 feet, but weight might range from 80 to 400 pounds. Some models work best when all variables are on the same scale. An example is KNN when all variables are on the same scale. Variables with larger scales contribute more to the distance and so can especially influence the model’s and their decision. We’ll consider ways to put things on a common scale so we can avoid potential errors.\n",
    "\n",
    "Let’s jump in!\n"
   ]
  },
  {
   "cell_type": "markdown",
   "metadata": {
    "deletable": false,
    "editable": false,
    "id": "XbH7aiBjGQ7D"
   },
   "source": [
    "## YOUR TURN"
   ]
  },
  {
   "cell_type": "markdown",
   "metadata": {
    "deletable": false,
    "editable": false,
    "id": "bo1d0MKhGQ9S"
   },
   "source": [
    "### Goal 1: Importing the Pandas Library Need extra tools to help solve this problem?\n",
    "\n",
    "Well, we can bring in extra ‘libraries’ to help us do extra data science stuff. You can think of it as an ‘add-on’. In this case, we bring in pandas, which is a popular library for doing data science stuff.  \n"
   ]
  },
  {
   "cell_type": "markdown",
   "metadata": {
    "deletable": false,
    "editable": false,
    "id": "U3MVz7gBIK98",
    "jp-MarkdownHeadingCollapsed": true
   },
   "source": [
    "#### Blockly"
   ]
  },
  {
   "cell_type": "markdown",
   "metadata": {
    "deletable": false,
    "editable": false,
    "id": "dxAOpo2dIUTa"
   },
   "source": [
    "\n",
    "**Step 1 - Starting the import**\n",
    "\n",
    "First, we need to set up a “command” to tell the computer what to do. In this case, “command” is to “import” to bring the add-on package in.\n",
    "\n",
    "Bring in the IMPORT menu, which can be helpful to bring in other data tools. In this case, we're bringing in the **import** block."
   ]
  },
  {
   "cell_type": "markdown",
   "metadata": {
    "deletable": false,
    "editable": false,
    "id": "3jEfknzQILAp"
   },
   "source": [
    "\n",
    "\n",
    "\n",
    "**Step 2 - Telling what library to import**\n",
    "\n",
    "In the text area, we type the name of the library we want to import. A library is like an extra thing we bring in to give us more coding abilities. In our case, we will type out **pandas**, which will bring in some cool data manipulation features.\n",
    "\n",
    "\n",
    "\n"
   ]
  },
  {
   "cell_type": "markdown",
   "metadata": {
    "deletable": false,
    "editable": false,
    "id": "pzNM_gWdGRAC"
   },
   "source": [
    "\n",
    "**Step 3 - Renaming the library so it’s easy to remember**\n",
    "\n",
    "Once you are done, put the **import** and **package** together in a single variable. This handy feature helps cut down on all the typing later on. You can call it whatever is easiest for you to remember. In the example below, we’ve put everything into **pd**, and we type it in the open area."
   ]
  },
  {
   "cell_type": "markdown",
   "metadata": {
    "deletable": false,
    "editable": false,
    "id": "PMTrZh8IGRDI"
   },
   "source": [
    "**Step 4 - Connect the blocks to run the code**\n",
    "\n",
    "Connect the blocks and run the code!\n",
    "\n",
    "\n",
    "<details>\n",
    "    <summary>Click to see the answer...</summary>\n",
    "\n",
    "![](https://pbs.twimg.com/media/GZYmOOpW8AAf7uc?format=png&name=small)\n",
    "</details>"
   ]
  },
  {
   "cell_type": "code",
   "execution_count": null,
   "metadata": {
    "id": "4MBy2BhFIgfZ"
   },
   "outputs": [],
   "source": [
    "# blockly code\n"
   ]
  },
  {
   "cell_type": "markdown",
   "metadata": {
    "deletable": false,
    "editable": false,
    "id": "NJ_SUn2gIiyz",
    "jp-MarkdownHeadingCollapsed": true
   },
   "source": [
    "#### Freehand"
   ]
  },
  {
   "cell_type": "markdown",
   "metadata": {
    "deletable": false,
    "editable": false,
    "id": "U4DYRZbuIi1F"
   },
   "source": [
    "\n",
    "**Step 1 - Starting the import**\n",
    "\n",
    "First, we need to set up a “command” to tell the computer what to do. In this case, “command” is to “import” to bring the add-on package in."
   ]
  },
  {
   "cell_type": "markdown",
   "metadata": {
    "deletable": false,
    "editable": false,
    "id": "-llYlqUUIi3c"
   },
   "source": [
    "**Step 2 - Telling what library to import**\n",
    "\n",
    "In the text area, we type the name of the library we want to import. A library is like an extra thing we bring in to give us more coding abilities. In our case, we will type out **pandas**, which will bring in some cool data manipulation features."
   ]
  },
  {
   "cell_type": "markdown",
   "metadata": {
    "deletable": false,
    "editable": false,
    "id": "ocwCeIBLIi56"
   },
   "source": [
    "**Step 3 - Renaming the library so it’s easy to remember**\n",
    "\n",
    "Once you are done, put the ‘import’ and ‘package’ together in a single variable. This handy feature helps cut down on all the typing later on. Feel free to use whatever name you want that will help you remember it later on. In the example below, we’ve put everything into **pd**."
   ]
  },
  {
   "cell_type": "markdown",
   "metadata": {
    "deletable": false,
    "editable": false,
    "id": "RKJRX5XHIi_B"
   },
   "source": [
    "**Step 4 - Run the code**\n",
    "\n",
    "Hit ‘control’ and ‘enter’ at the same time to run the code!\n",
    "\n",
    "<details>\n",
    "    <summary>Click to see the answer...</summary>\n",
    "\n",
    "![](https://pbs.twimg.com/media/GZmkVCYWEA4oGso?format=jpg&name=small)\n",
    "</details>\n",
    "\n",
    "\n"
   ]
  },
  {
   "cell_type": "markdown",
   "metadata": {
    "deletable": false,
    "editable": false,
    "id": "Vwis6qAgcTCR"
   },
   "source": [
    "**Your Turn**: Now it’s your turn! We’re going to dive into the pandas package, which helps us with some really cool data science things. First, let’s import the package and assign it to the variable “pd” to make it easier to use throughout our notebook"
   ]
  },
  {
   "cell_type": "code",
   "execution_count": null,
   "metadata": {
    "id": "x7iwWBOIcVoj"
   },
   "outputs": [],
   "source": [
    "# freehand code\n"
   ]
  },
  {
   "cell_type": "markdown",
   "metadata": {
    "deletable": false,
    "editable": false,
    "id": "DlvtMYqIcYru"
   },
   "source": [
    "**Explanation**: *Congrats!  Your attempts finally made it!  Now you have successfully imported the \"pandas\" package as the variable \"pd\"*."
   ]
  },
  {
   "cell_type": "markdown",
   "metadata": {
    "deletable": false,
    "editable": false,
    "id": "aGH5R0x6f1e7"
   },
   "source": [
    "### Goal 2: Bringing in the Dataframe\n",
    "\n",
    "Let’s bring in the data that we want to look at."
   ]
  },
  {
   "cell_type": "markdown",
   "metadata": {
    "deletable": false,
    "editable": false,
    "id": "Yxi2u8u-f4lA",
    "jp-MarkdownHeadingCollapsed": true
   },
   "source": [
    "#### Blockly"
   ]
  },
  {
   "cell_type": "markdown",
   "metadata": {
    "deletable": false,
    "editable": false,
    "id": "S4_2z2jBf4nr"
   },
   "source": [
    "\n",
    "\n",
    "\n",
    "**Step 1 - Write out the variable name you want to use**\n",
    "\n",
    "Now that we’re all set with our new package to help us to do cool things, let’s bring the data into a variable and call it **data**. Think of it as a digital spreadsheet with much more power to analyze and manipulate the data!\n",
    "\n",
    "In Blockly, bring in the VARIABLES menu.\n"
   ]
  },
  {
   "cell_type": "markdown",
   "metadata": {
    "deletable": false,
    "editable": false,
    "id": "dbInCvVef4qA"
   },
   "source": [
    "**Step 2 - Assign the dataframe to the variable you created**\n",
    "\n",
    "Just like we did before, let’s type out a variable name. Rather than type out the full file name for our data, this easy to remember name will hold the data we bring in.\n",
    "\n",
    "In Blockly, go to the Variables and drag the Set block for the **data** variable. This will allow us to assign the result of a function call to the variable. A function is basically code that does a specific task for us."
   ]
  },
  {
   "cell_type": "markdown",
   "metadata": {
    "deletable": false,
    "editable": false,
    "id": "7H8NbxWWf4sS"
   },
   "source": [
    "**Step 3 - Bring in the data**\n",
    "\n",
    "Now we need to look at the file that has all our data. To load our dataframe, we’ll use a simple command to bring in the file we need (CSV….Comma Separated Values). Let’s say we have a file called ‘datasets/AirQualityTrain.csv' in the folder **‘datasets’**. We’re telling Python to read the CSV file and store it in a variable called **data**.\n",
    "\n",
    "From the Variable menu, drag a DO block using the **pd** variable, go ahead with the Do operation **read_csv**. The read_csv function reads a CSV file and returns a DataFrame object.\n",
    "\n",
    "In our case, let’s bring in the “datasets/AirQualityClean.csv\" (use the Quotes from the TEXT menu) because that is what Kiana is working with."
   ]
  },
  {
   "cell_type": "markdown",
   "metadata": {
    "deletable": false,
    "editable": false,
    "id": "a9Klr39HhMox"
   },
   "source": [
    "**Step 4 - Display the variable**\n",
    "\n",
    "Let’s see it now by ‘displaying’ and showing our work.\n",
    "\n",
    "Drag the **data** variable to the workspace, making it available for further use in our program. This step is more of a visualization step, as it allows us to see the variable in the Blockly workspace"
   ]
  },
  {
   "cell_type": "markdown",
   "metadata": {
    "deletable": false,
    "editable": false,
    "id": "Lfuh0kdzhMxo"
   },
   "source": [
    "**Step 5 - Connect the blocks to run the code**\n",
    "\n",
    "Connect the blocks and run the code!\n",
    "\n",
    "<details>\n",
    "    <summary>Click to see the answer...</summary>\n",
    "\n",
    "![](https://pbs.twimg.com/media/GnKDKLtakAArIV9?format=jpg&name=small)\n",
    "</details>"
   ]
  },
  {
   "cell_type": "code",
   "execution_count": null,
   "metadata": {
    "id": "LziTspGJhZEu"
   },
   "outputs": [],
   "source": [
    "# blockly code\n"
   ]
  },
  {
   "cell_type": "markdown",
   "metadata": {
    "deletable": false,
    "editable": false,
    "id": "Hc5ldZUhf4vA",
    "jp-MarkdownHeadingCollapsed": true
   },
   "source": [
    "#### Freehand"
   ]
  },
  {
   "cell_type": "markdown",
   "metadata": {
    "deletable": false,
    "editable": false,
    "id": "2zEukhh6hfis"
   },
   "source": [
    "\n",
    "**Step 1 - Write out the variable name you want to use**\n",
    "\n",
    "Now that we’re all set with our new package to help us do cool things, let’s bring the data into a variable called **data**. Think of it as a digital spreadsheet with much more power to analyze and manipulate the data!"
   ]
  },
  {
   "cell_type": "markdown",
   "metadata": {
    "deletable": false,
    "editable": false,
    "id": "gKs6Rdv_hflQ"
   },
   "source": [
    "**Step 2 - Assign the dataframe to the variable you created**\n",
    "\n",
    "Just like we did before, let’s type out a variable name. Rather than type out the full file name for our data, this easy to remember name will hold the data we bring in."
   ]
  },
  {
   "cell_type": "markdown",
   "metadata": {
    "deletable": false,
    "editable": false,
    "id": "AdyJilzuhfnh"
   },
   "source": [
    "**Step 3 - Bring in the data**\n",
    "\n",
    "Now we need to look at the file that has all our data.\n",
    "\n",
    "To load our dataframe, we’ll use a simple command to bring in the file we need (CSV….Comma Separated Values). Let’s say we have a file called “datasets/AirQualityTrain.csv” folder **‘datasets’**. We’re telling Python to read the CSV file and store it in a variable called **data**. For this function, we need to specify the code as “**pd.read_csv**”, which makes the code read the csv file. This variable is now our dataframe!\n",
    "\n",
    "In our case, let’s bring in the “datasets/AirQualityClean.csv” (user the Quotes from the TEXT menu) because that is what we are working with."
   ]
  },
  {
   "cell_type": "markdown",
   "metadata": {
    "deletable": false,
    "editable": false,
    "id": "6aDX-hTyhfp3"
   },
   "source": [
    "**Step 4 - Print the variable**\n",
    "\n",
    "Let’s see it now by ‘printing’ and showing our work."
   ]
  },
  {
   "cell_type": "markdown",
   "metadata": {
    "deletable": false,
    "editable": false,
    "id": "_qIYL2Omhfsa"
   },
   "source": [
    "**Step 5 - Run the code**\n",
    "\n",
    "Hit ‘control’ and ‘enter’ at the same time to run the code!\n",
    "\n",
    "\n",
    "<details>\n",
    "    <summary>Click to see the answer...</summary>\n",
    "\n",
    "![](https://pbs.twimg.com/media/GnKE_cFa8AEEiDu?format=png&name=small)\n",
    "</details>"
   ]
  },
  {
   "cell_type": "markdown",
   "metadata": {
    "deletable": false,
    "editable": false,
    "id": "YqZKh_jlhfu9"
   },
   "source": [
    "**Your Turn**: Now it’s your turn!  Let’s dive in and start working with the data! We’ll begin by loading it into a dataframe, which will allow us to easily interact with and analyze the dataset."
   ]
  },
  {
   "cell_type": "code",
   "execution_count": null,
   "metadata": {
    "id": "THkSLxx8iCFY"
   },
   "outputs": [],
   "source": [
    "# freehand code\n"
   ]
  },
  {
   "cell_type": "markdown",
   "metadata": {
    "deletable": false,
    "editable": false,
    "id": "Aygkv4pphfwy"
   },
   "source": [
    "**Explanation**:  *Easy-peasy! You have now brought in the dataframe and stored it as a variable that you can reference later on. Now, onto the fun part*!"
   ]
  },
  {
   "cell_type": "markdown",
   "metadata": {
    "deletable": false,
    "editable": false,
    "id": "25nukZWxiFcO"
   },
   "source": [
    "### Goal 3: Showing information about the dataframe\n",
    "\n",
    "The df.info() method provides a concise summary of your DataFrame, including the number of rows and columns, data types, and missing values. It's a valuable tool for understanding your data's structure and identifying potential issues before analysis.  \n"
   ]
  },
  {
   "cell_type": "markdown",
   "metadata": {
    "deletable": false,
    "editable": false,
    "id": "RoPuuIKkiFz3",
    "jp-MarkdownHeadingCollapsed": true
   },
   "source": [
    "#### Blockly"
   ]
  },
  {
   "cell_type": "markdown",
   "metadata": {
    "deletable": false,
    "editable": false,
    "id": "5zQeH_1QiF21"
   },
   "source": [
    "\n",
    "\n",
    "**Step 1 - Getting the info from the dataframe**\n",
    "\n",
    "To get more information,, we first need to select the numeric data to explore. First, let’s tell it what dataframe we want to look at - **data**\n",
    "\n",
    "From the \"VARIABLES\" menu, drag a DO block WITH **data** variable. Select the **info** method from the list.   \n",
    "\n",
    "<details>\n",
    "    <summary>Click to see the answer...</summary>\n",
    "\n",
    "![](https://pbs.twimg.com/media/GnKGUMQaAAA98SW?format=png&name=small)\n",
    "</details>\n",
    "\n"
   ]
  },
  {
   "cell_type": "code",
   "execution_count": null,
   "metadata": {},
   "outputs": [],
   "source": [
    "# blockly code\n"
   ]
  },
  {
   "cell_type": "markdown",
   "metadata": {
    "deletable": false,
    "editable": false,
    "id": "EC0ZHYPxiF53",
    "jp-MarkdownHeadingCollapsed": true
   },
   "source": [
    "#### Freehand"
   ]
  },
  {
   "cell_type": "markdown",
   "metadata": {
    "deletable": false,
    "editable": false,
    "id": "-m6mPyNTiF9F"
   },
   "source": [
    "**Step 1 - Getting the info from the dataframe**\n",
    "\n",
    "To get more information,, we first need to select the numeric data to explore. First, let’s tell it what dataframe we want to look at - data\n",
    "\n",
    "Let’s get info on each of the columns of the dataframe, data. Reviewing each data type and number of records.\n",
    "\n",
    "<details>\n",
    "    <summary>Click to see the answer...</summary>\n",
    "\n",
    "![](https://pbs.twimg.com/media/GnKHRJNasAEyKir?format=png&name=small)\n",
    "</details>\n"
   ]
  },
  {
   "cell_type": "markdown",
   "metadata": {
    "deletable": false,
    "editable": false,
    "id": "f_6-VZGHiGAN"
   },
   "source": [
    "**Your Turn**: Your turn! Give the info() method a try and see what it tells you about your data."
   ]
  },
  {
   "cell_type": "code",
   "execution_count": null,
   "metadata": {
    "id": "_aKy1lCVjnDe"
   },
   "outputs": [],
   "source": [
    "# freehand code\n"
   ]
  },
  {
   "cell_type": "markdown",
   "metadata": {
    "deletable": false,
    "editable": false,
    "id": "1LUuiNA2iGKr"
   },
   "source": [
    "**Explanation**: *You have printed a concise summary of the DataFrame, including the data types of each column, the number of non-null values, and memory usage*."
   ]
  },
  {
   "cell_type": "markdown",
   "metadata": {
    "deletable": false,
    "editable": false,
    "id": "muRx02ZqiGNb"
   },
   "source": [
    "### Goal 4: Changing the Data Format in a Column type.\n",
    "\n",
    "We want to look a bit deeper into the data, but sometimes that’s difficult because it’s in the wrong form. Let’s change the data format so that it’s easier to work with."
   ]
  },
  {
   "cell_type": "markdown",
   "metadata": {
    "deletable": false,
    "editable": false,
    "id": "lSkT_r0gjzAJ",
    "jp-MarkdownHeadingCollapsed": true
   },
   "source": [
    "#### Blockly"
   ]
  },
  {
   "cell_type": "markdown",
   "metadata": {
    "deletable": false,
    "editable": false,
    "id": "I33FuEPKjzCV"
   },
   "source": [
    "\n",
    "\n",
    "\n",
    "\n",
    "**Step 1 - Call the insert() method of the dataframe**\n",
    "\n",
    "To see the clustering result of each datapoint, we will add the results into our dataframe. This will let us look at the cluster number, set for each datapoint. To do this, we use the insert() method on the ‘dataframe’.\n",
    "\n",
    "From the Variable menu, get a DO block for the **dataframe** variable. With it, select the insert operation. The **insert** function will add a new column to the dataframe."
   ]
  },
  {
   "cell_type": "markdown",
   "metadata": {
    "deletable": false,
    "editable": false,
    "id": "mvkfjvV5jzE2"
   },
   "source": [
    "**Step 2 - Add parameters into the insert() method**\n",
    "\n",
    "We can add the new column wherever we want, so let’s add it to the first position, column 0.\n",
    "\n",
    "From the Math menu, get a number block and change it to **“0” (zero)**. Connect it as the first parameter of the insert operation."
   ]
  },
  {
   "cell_type": "markdown",
   "metadata": {
    "deletable": false,
    "editable": false,
    "id": "FsTKmmLajzHM"
   },
   "source": [
    "**Step 3 - Display the updated dataframe with the new ‘New_Report_Date’ column**\n",
    "\n",
    "We can choose whatever name we want for the new column, so let’s call it **New_Report_Date**.\n",
    "\n",
    "From the Text menu, get a Quote block “” and type,  **New_Report_Date**. Connect it as the second parameter of the insert operation."
   ]
  },
  {
   "cell_type": "markdown",
   "metadata": {
    "deletable": false,
    "editable": false,
    "id": "h86UhbWtjzJq"
   },
   "source": [
    "**Step 4 - Call the date conversion function**\n",
    "\n",
    "Let’ use a date conversion function from pandas to create a new date column using the proper date type.\n",
    "\n",
    "From the Variable menu, drag a DO block for the pd variable and select the **to_datetime** function. Connect that as the third parameter of the insert function."
   ]
  },
  {
   "cell_type": "markdown",
   "metadata": {
    "deletable": false,
    "editable": false,
    "id": "gKEdcWykjzMG"
   },
   "source": [
    "**Step 5 - Inform the original data column**\n",
    "\n",
    "Select the date column to be formatted from the dataframe, **data**.\n",
    "\n",
    "From the List menu, drag a dictVariable block, and select the **data** variable. Get also a Quote block from the Text menu and inform the column nane, **Report_Date**. Connect this block to the first parameter for the to_datetime function."
   ]
  },
  {
   "cell_type": "markdown",
   "metadata": {
    "deletable": false,
    "editable": false,
    "id": "LTCJF2UQjzOf"
   },
   "source": [
    "**Step 6 - Inform the correct format of the date**\n",
    "\n",
    "As the original column has the dates as a string, we have to inform the used date format to that. In our example here, it is using the European format, day/month/year.\n",
    "\n",
    "Get a freehand block and type **format=**. Connect that with a Quote block with **“%d/%m/%Y”**. Connect these as the second parameter of the to_datetime function."
   ]
  },
  {
   "cell_type": "markdown",
   "metadata": {
    "deletable": false,
    "editable": false,
    "id": "qOHrIRkbjzRG"
   },
   "source": [
    "**Step 7 - See now the new date column on the dataframe**\n",
    "\n",
    "Let’s print the info on the columns of the dataframe again and see the newly created date column.\n",
    "\n",
    "From the Variable menu, drag a DO block for the **data** variable, then select the **info**() method from the list.  \n",
    "\n",
    "\n",
    "\n"
   ]
  },
  {
   "cell_type": "markdown",
   "metadata": {
    "deletable": false,
    "editable": false,
    "id": "OD7KluSlkqtT"
   },
   "source": [
    "**Step 8 - Connect the blocks to run the code**\n",
    "\n",
    "Connect the blocks and run the code!\n",
    "\n",
    "<details>\n",
    "    <summary>Click to see the answer...</summary>\n",
    "\n",
    "![](https://pbs.twimg.com/media/GnKH3RGbIAADssk?format=png&name=small)\n",
    "</details>\n"
   ]
  },
  {
   "cell_type": "code",
   "execution_count": null,
   "metadata": {
    "id": "wLt7j7YYkyF9"
   },
   "outputs": [],
   "source": [
    "# blockly code\n"
   ]
  },
  {
   "cell_type": "markdown",
   "metadata": {
    "deletable": false,
    "editable": false,
    "id": "3a21t5QZkzxe",
    "jp-MarkdownHeadingCollapsed": true
   },
   "source": [
    "#### Freehand"
   ]
  },
  {
   "cell_type": "markdown",
   "metadata": {
    "deletable": false,
    "editable": false,
    "id": "8cU5Z6nAkz7j"
   },
   "source": [
    "**Step 1 - Inserting the new formatted column**\n",
    "\n",
    "Let’s create a new column with the formatted date information.\n",
    "With the **data** dataframe, call the **insert**() method.\n",
    "\n",
    "`data.insert()`\n"
   ]
  },
  {
   "cell_type": "markdown",
   "metadata": {
    "deletable": false,
    "editable": false,
    "id": "NTifgqqJkz9t"
   },
   "source": [
    "**Step 2 - Inform the position of the new column**\n",
    "\n",
    "We can add the new column wherever we want, so let’s add it to the first position, column 0.\n",
    "\n",
    "Just type **0 (zero)**, as the position of the column. Keep in mind that the first position in Python is position zero.\n",
    "\n",
    "`data.insert(0)`"
   ]
  },
  {
   "cell_type": "markdown",
   "metadata": {
    "deletable": false,
    "editable": false,
    "id": "FfTLW-sMkz_9"
   },
   "source": [
    "**Step 3 - Define the name of the new column**\n",
    "\n",
    "We can choose whatever name we want for the new column, so let’s call it **New_Report_Date**.\n",
    "\n",
    "As a string, inform the new column name, ‘New_Report_Date’\n",
    "\n",
    "`data.insert(0,'New_Report_Date')`"
   ]
  },
  {
   "cell_type": "markdown",
   "metadata": {
    "deletable": false,
    "editable": false,
    "id": "IX-IYXedk0CL"
   },
   "source": [
    "**Step 4 - Call the date conversion function**\n",
    "\n",
    "Let’s use a date conversion function from pandas to create a new date column using the proper date type.\n",
    "\n",
    "From the pandas library, pd, call the function to_datetime().\n",
    "\n",
    "`data.insert(0,'New_Report_Date',pd.to_datetime( ))`"
   ]
  },
  {
   "cell_type": "markdown",
   "metadata": {
    "deletable": false,
    "editable": false,
    "id": "EFFHsiiuk0Ep"
   },
   "source": [
    "**Step 5 - Inform the original data column**\n",
    "\n",
    "Select the date column to be formatted from the dataframe, **data**.\n",
    "Using the **data** dataframe, select the original date column, **Report_Date**.\n",
    "\n",
    "`data.insert(0,'New_Report_Date',pd.to_datetime(data['Report_Date']))`\n"
   ]
  },
  {
   "cell_type": "markdown",
   "metadata": {
    "deletable": false,
    "editable": false,
    "id": "UJdHu_ixlrFk"
   },
   "source": [
    "**Step 6 - Inform the correct format of the date**\n",
    "\n",
    "As the original column has the dates as a string, we have to inform the used date format to that. In our example here, it is using the European format, day/month/year. Inform the European data format, **“%d/%m/%Y”**\n",
    "\n",
    "`data=data.insert(0,'New_Report_Date',pd.to_datetime(data['Report_Date'],format= '%d/%m/%Y'))`"
   ]
  },
  {
   "cell_type": "markdown",
   "metadata": {
    "deletable": false,
    "editable": false,
    "id": "6VJ3NrzUlrII"
   },
   "source": [
    "**Step 7 - See now the new date column on the dataframe**\n",
    "\n",
    "Let’s print the info on the columns of the dataframe again and see the newly created date column. With the **data** dataframa, call the **info**() method.\n",
    "\n",
    "\n",
    "<details>\n",
    "    <summary>Click to see the answer...</summary>\n",
    "\n",
    "![](https://pbs.twimg.com/media/GnKJJ87aIAA-2zA?format=png&name=small)\n",
    "</details>"
   ]
  },
  {
   "cell_type": "markdown",
   "metadata": {
    "deletable": false,
    "editable": false,
    "id": "z1oFPZJRlrgs"
   },
   "source": [
    "**Your Turn**: Let's do it."
   ]
  },
  {
   "cell_type": "code",
   "execution_count": 1,
   "metadata": {
    "id": "Z-5xMtnEmc8Z"
   },
   "outputs": [],
   "source": [
    "# freehand code\n"
   ]
  },
  {
   "cell_type": "markdown",
   "metadata": {
    "deletable": false,
    "editable": false,
    "id": "24OK_BEJk0MF"
   },
   "source": [
    "**Explanation**: *You have added a 'New_Report_Date' column (as datetime objects converted from 'Report_Date' with the European format, day/month/year, '%d/%m/%Y') at the beginning of the DataFrame, and data.info() then displays a concise summary of the updated DataFrame, including the new column's information*."
   ]
  },
  {
   "cell_type": "markdown",
   "metadata": {
    "deletable": false,
    "editable": false,
    "id": "o4-94MuYEavJ"
   },
   "source": [
    "### Goal 5: Finding the Errors in our Data.\n",
    "\n",
    "When we work with our data, it’s really important it is in the right format. One quick way to do that is by filtering for things like typos and outliers in the data."
   ]
  },
  {
   "cell_type": "markdown",
   "metadata": {
    "deletable": false,
    "editable": false,
    "id": "z6s7jp5qEaxm",
    "jp-MarkdownHeadingCollapsed": true
   },
   "source": [
    "#### Blockly"
   ]
  },
  {
   "cell_type": "markdown",
   "metadata": {
    "deletable": false,
    "editable": false,
    "id": "RliYpF1GEaz7"
   },
   "source": [
    "**Step 1 - Filter rows from the dataframe**\n",
    "\n",
    "Our goal is to work with numbers in our dataset, but sometimes we might have words (strings). Let’s filter so that we can find them easy. Let’s get started by saying what dataframe we want to look at, which will be **data**\n",
    "\n",
    "From the List menu, drag a dictVariable and select **data** (dataframe)."
   ]
  },
  {
   "cell_type": "markdown",
   "metadata": {
    "deletable": false,
    "editable": false,
    "id": "mO_OspO1Ea2Y"
   },
   "source": [
    "**Step 2 - Define the base column to perform the filtering**\n",
    "\n",
    "Now let’s tell it what column (Annual_Prouction) we want to dig into.\n",
    "From the List menu, drag a dictVariable and select **data** (dataframe). Connect to that a Quote block with the column name, **Annual_Production**."
   ]
  },
  {
   "cell_type": "markdown",
   "metadata": {
    "deletable": false,
    "editable": false,
    "id": "Yh4VcU19Ea4y"
   },
   "source": [
    "**Step 3 - Define the criteria to perform the filtering**\n",
    "\n",
    "Let’s wrap it up by saying what information we are looking for in the column. In this case, we want to look at everything labels “no production”.\n",
    "\n",
    "From the Logical menu, get an equals block (=), and on the right part of it, connect a Quote block with the criteria name “no production”. On the left part, connect the block with the column definition, data[“Annual_Production”].\n",
    "\n",
    "<details>\n",
    "    <summary>Click to see the answer...</summary>\n",
    "\n",
    "![](https://pbs.twimg.com/media/GnKK6c_bEAATabF?format=png&name=small)\n",
    "</details>\n"
   ]
  },
  {
   "cell_type": "code",
   "execution_count": null,
   "metadata": {
    "id": "m3LwGa-IFGKq"
   },
   "outputs": [],
   "source": [
    "# blockly code\n"
   ]
  },
  {
   "cell_type": "markdown",
   "metadata": {
    "deletable": false,
    "editable": false,
    "id": "7nUNUbkfEeSS",
    "jp-MarkdownHeadingCollapsed": true
   },
   "source": [
    "#### Freehand"
   ]
  },
  {
   "cell_type": "markdown",
   "metadata": {
    "deletable": false,
    "editable": false,
    "id": "eqC97qV0EeUO"
   },
   "source": [
    "\n",
    "**Step 1 - Filter rows from the dataframe**\n",
    "\n",
    "Our goal is to work with numbers in our dataset, but sometimes we might have words (strings). Let’s filter so that we can find them easy. Let’s get started by saying what dataframe we want to look at, which will be **data**\n",
    "\n",
    "We have to identify the rows that don’t have the expected information and production numbers but a text record of “no production”. To do that, let’s filter the rows that have this text.\n",
    "To filter rows, use the brackets [] on the **data** dataframe.\n",
    "\n",
    "`data[  ]`"
   ]
  },
  {
   "cell_type": "markdown",
   "metadata": {
    "deletable": false,
    "editable": false,
    "id": "hoWrXso7EedJ"
   },
   "source": [
    " **Step 2 - Define the base column to perform the filtering**\n",
    "\n",
    "Now let’s tell it what column (Annual_Prouction) we want to dig into.\n",
    "From the List menu, drag a dictVariable and select **data** (dataframe).\n",
    "\n",
    "Let’s filter based on the **Annual_Prouction** column, checking which rows have this column as “**no production”**.\n",
    "The brackets [] are used to select columns, in our case, the Annual_Production, in addition to filtering rows.\n",
    "\n",
    "`data[(data['Annual_Production'] ]`"
   ]
  },
  {
   "cell_type": "markdown",
   "metadata": {
    "deletable": false,
    "editable": false,
    "id": "4nwd6n4EFEEk"
   },
   "source": [
    "**Step 3 - Define the criteria to perform the filtering**\n",
    "\n",
    "Let’s wrap it up by saying what information we are looking for in the column. In this case, we want to look at everything labeled “no production”.\n",
    "\n",
    "Inform the value of the column to filter the rows, **\"no production\"**.\n",
    "\n",
    "\n",
    "<details>\n",
    "    <summary>Click to see the answer...</summary>\n",
    "\n",
    "![](https://pbs.twimg.com/media/GnKMCq_awAAvrj4?format=png&name=small)\n",
    "</details>"
   ]
  },
  {
   "cell_type": "markdown",
   "metadata": {
    "deletable": false,
    "editable": false,
    "id": "g50m4ahKFEP5"
   },
   "source": [
    "**Your Turn**: Let’s find and remove the rows that say \"no production\" so we can work with just the numbers in our data!\n",
    "\n",
    "\n"
   ]
  },
  {
   "cell_type": "code",
   "execution_count": null,
   "metadata": {
    "id": "dAP67-gtGOyV"
   },
   "outputs": [],
   "source": [
    "# freehand code\n"
   ]
  },
  {
   "cell_type": "markdown",
   "metadata": {
    "deletable": false,
    "editable": false,
    "id": "gb17L5PIGO4W"
   },
   "source": [
    "\n",
    "**Explanation**:  *First, we’ll filter the DataFrame df to remove rows where the Annual_Production column has the value \"no production\". This helps clean the data so the Annual_Production column only includes numbers we can work with*!"
   ]
  },
  {
   "cell_type": "markdown",
   "metadata": {
    "deletable": false,
    "editable": false,
    "id": "C7OYKDtmGXu0"
   },
   "source": [
    "### Goal 6: Filter out invalid rows.\n",
    "\n",
    "Now that we’ve found the rows we don’t want, let’s get ride of them."
   ]
  },
  {
   "cell_type": "markdown",
   "metadata": {
    "deletable": false,
    "editable": false,
    "id": "AcXlIZ3hGXw-",
    "jp-MarkdownHeadingCollapsed": true
   },
   "source": [
    "#### Blockly"
   ]
  },
  {
   "cell_type": "markdown",
   "metadata": {
    "deletable": false,
    "editable": false,
    "id": "Ga5Oo6YSGXzP"
   },
   "source": [
    "\n",
    "**Step 1 - Filter rows from the dataframe**\n",
    "\n",
    "Our goal is to work with numbers in our dataset, but sometimes we might have words (strings). Let’s filter so that we can find them easy. Let’s get started by saying what dataframe we want to look at, which will be **data**\n",
    "\n",
    "From the List menu, drag a dictVariable and select **data** (dataframe)."
   ]
  },
  {
   "cell_type": "markdown",
   "metadata": {
    "deletable": false,
    "editable": false,
    "id": "t7NxrSzpGX1m"
   },
   "source": [
    "**Step 2 - Define the base column to perform the filtering**\n",
    "\n",
    "Now let’s tell it what column (Annual_Prouction) we want to dig into.\n",
    "From the List menu, drag a dictVariable and select **data** (dataframe). Connect to that a Quote block with the column name, **Annual_Production**."
   ]
  },
  {
   "cell_type": "markdown",
   "metadata": {
    "deletable": false,
    "editable": false,
    "id": "j8FAw_XKGX34"
   },
   "source": [
    "**Step 3 - Define the criteria to perform the filtering**\n",
    "\n",
    "Because we are only interested in the numbers, let’s get rid of anything that says “**no production**”\n",
    "\n",
    "Inform the value of the column to filter the rows, “no production”.\n",
    "From the Logical menu, get a **not equals block (≠)**, and on the right part of it, connect a Quote block with the criteria name “no production”. On the left part, connect the block with the column definition, data[“Annual_Production”]."
   ]
  },
  {
   "cell_type": "markdown",
   "metadata": {
    "deletable": false,
    "editable": false,
    "id": "qwsNtdmHGX6f"
   },
   "source": [
    "**Step 4 - Re-assign the filter dataframe to the data variable**\n",
    "\n",
    "Now that we finally have only the numbers and gotten rid of the data we are not interested in (“no production”). So let’s overwrite data **now** that we have the valid numbers."
   ]
  },
  {
   "cell_type": "markdown",
   "metadata": {
    "deletable": false,
    "editable": false,
    "id": "7JUQvTUZGX9w"
   },
   "source": [
    "**Step 5 - Display the variable**\n",
    "\n",
    "Let’s display the variable we just created to see what we get.\n",
    "\n",
    "From the Variables menu, drag the **data** variable to a new workspace to print the cleaned dataframe for further analysis.\n",
    "\n",
    "<details>\n",
    "    <summary>Click to see the answer...</summary>\n",
    "\n",
    "![](https://pbs.twimg.com/media/GnKNUEdbAAAe18k?format=png&name=small)\n",
    "</details>\n"
   ]
  },
  {
   "cell_type": "code",
   "execution_count": null,
   "metadata": {
    "id": "2-0XkdhBH2-m"
   },
   "outputs": [],
   "source": [
    "# blockly code\n"
   ]
  },
  {
   "cell_type": "markdown",
   "metadata": {
    "deletable": false,
    "editable": false,
    "id": "X0YPDm5QHJ8L",
    "jp-MarkdownHeadingCollapsed": true
   },
   "source": [
    "#### Freehand"
   ]
  },
  {
   "cell_type": "markdown",
   "metadata": {
    "deletable": false,
    "editable": false,
    "id": "z-THTTNlHJ-h"
   },
   "source": [
    "\n",
    "**Step 1 - Filter rows from the dataframe**\n",
    "\n",
    "Our goal is to work with numbers in our dataset, but sometimes we might have words (strings). Let’s filter so that we can find them easy.\n",
    "\n",
    "We have to identify the rows that don’t have the expected information and production numbers but a text record of “no production”. To do that, let’s filter the rows that have this text.\n",
    "\n",
    "To filter rows, use the brackets [] on the **data** dataframe.\n",
    "\n",
    "`data[  ]`\n"
   ]
  },
  {
   "cell_type": "markdown",
   "metadata": {
    "deletable": false,
    "editable": false,
    "id": "jeWXDmAXHKBC"
   },
   "source": [
    "**Step 2 - Define the base column to perform the filtering**\n",
    "\n",
    "Now let’s tell it what column (Annual_Prouction) we want to dig into.\n",
    "\n",
    "Let’s filter based on the **Annual_Prouction** column, checking which rows have this column as “**no production**”.\n",
    "\n",
    "The brackets [] are used to select columns, in our case, the Annual_Production, in addition to filtering rows.\n",
    "\n",
    "`data[(data['Annual_Production'] ]`"
   ]
  },
  {
   "cell_type": "markdown",
   "metadata": {
    "deletable": false,
    "editable": false,
    "id": "FgcrtJ1_HKDg"
   },
   "source": [
    "**Step 3 - Define the criteria to perform the filtering**\n",
    "\n",
    "Because we are only interested in the numbers, let’s get rid of anything that says “**no production**”\n",
    "\n",
    "Inform the value of the column to filter the rows, “no production”.\n",
    "\n",
    "`data[(data['Annual_Production'] != 'no production')]`"
   ]
  },
  {
   "cell_type": "markdown",
   "metadata": {
    "deletable": false,
    "editable": false,
    "id": "ZfrvJUMGHKFw"
   },
   "source": [
    "**Step 4 - Re-assign the filter dataframe to the data variable**\n",
    "\n",
    "Now that we finally have only the numbers and gotten rid of the data we are not interested in (“no production”).\n",
    "\n",
    "Once we have the filtered dataframe, let’s re-assign it to the **data** variable.\n",
    "\n",
    "`data = data[(data['Annual_Production'] != 'no production')]`"
   ]
  },
  {
   "cell_type": "markdown",
   "metadata": {
    "deletable": false,
    "editable": false,
    "id": "nbqIKEjnHKIP"
   },
   "source": [
    "\n",
    "**Step 5 - Display the variable**\n",
    "\n",
    "Let’s display the variable we just created to see what we get.\n",
    "\n",
    "<details>\n",
    "    <summary>Click to see the answer...</summary>\n",
    "\n",
    "![](https://pbs.twimg.com/media/GnKOCAdbgAAd8VQ?format=png&name=small)\n",
    "</details>"
   ]
  },
  {
   "cell_type": "markdown",
   "metadata": {
    "deletable": false,
    "editable": false,
    "id": "VMrwOdlLHKKt"
   },
   "source": [
    "**Your Turn**: Let’s clean up the data! Try filtering the “data” dataframe so it only keeps the rows where Annual_Production is not “no production”. Then, update the “data” variable and display it to see your cleaned-up results!\n",
    "\n",
    "\n",
    "\n",
    "\n"
   ]
  },
  {
   "cell_type": "code",
   "execution_count": null,
   "metadata": {
    "id": "fExW2VH5G_Qj"
   },
   "outputs": [],
   "source": [
    "# freehand code\n"
   ]
  },
  {
   "cell_type": "markdown",
   "metadata": {
    "deletable": false,
    "editable": false,
    "id": "fBmt5ZfsH52V"
   },
   "source": [
    "**Explanation**: *We are keeping only the rows where the value in the 'Annual_Production' column is not equal to the string 'no production', and then reassigns this filtered DataFrame back to the variable data*."
   ]
  },
  {
   "cell_type": "markdown",
   "metadata": {
    "deletable": false,
    "editable": false,
    "id": "HUFAlFVnH6Xd"
   },
   "source": [
    "### Goal 7: Convert Numeric Column Before we convert a date to make it easier to work with our data.\n",
    "\n",
    "The problem is that the system still sees it as a mix of numbers and text. Let’s tell the system that we only have numbers now in the column."
   ]
  },
  {
   "cell_type": "markdown",
   "metadata": {
    "deletable": false,
    "editable": false,
    "id": "dgCS7VFjH6Zs",
    "jp-MarkdownHeadingCollapsed": true
   },
   "source": [
    "#### Blockly"
   ]
  },
  {
   "cell_type": "markdown",
   "metadata": {
    "deletable": false,
    "editable": false,
    "id": "6Y5Fnyj-H6b7"
   },
   "source": [
    "\n",
    "\n",
    "\n",
    "**Step 1 - Inserting the new formatted column**\n",
    "\n",
    "Let’s create a new column with the formatted date information.\n",
    "From the Variables menu, drag a DO block for the **data** variable. Then select the method **insert**.  "
   ]
  },
  {
   "cell_type": "markdown",
   "metadata": {
    "deletable": false,
    "editable": false,
    "id": "zOi4hQv2H6eJ"
   },
   "source": [
    "**Step 2 - Inform the position of the new column**\n",
    "\n",
    "We can add the new column wherever we want, so let’s add it to the first position, column 0.\n",
    "From the Math menu, get a number block and change it to **“0” (zero)**. Connect it as the first parameter of the insert operation."
   ]
  },
  {
   "cell_type": "markdown",
   "metadata": {
    "deletable": false,
    "editable": false,
    "id": "U-VT-CpWH6gg"
   },
   "source": [
    "**Step 3 - Define the name of the new column**\n",
    "\n",
    "We can choose whatever name we want for the new column, so let’s call it **New_Annual_Production**.\n",
    "\n",
    "From the Text menu, get a Quote block “” and type,  **New_Annual_Production**. Connect it as the second parameter of the insert operation."
   ]
  },
  {
   "cell_type": "markdown",
   "metadata": {
    "deletable": false,
    "editable": false,
    "id": "sGRaoubaH6ip"
   },
   "source": [
    "**Step 4 - Call the numeric conversion function**\n",
    "\n",
    "Let’s use a date conversion function from pandas to create a new date column using the proper date type.\n",
    "From the Variable menu, drag a DO block for the pd variable and select the **to_numeric** function. Connect that as the third parameter of the insert function."
   ]
  },
  {
   "cell_type": "markdown",
   "metadata": {
    "deletable": false,
    "editable": false,
    "id": "5V9rkNB6H6lL"
   },
   "source": [
    "**Step 5 - Inform the original data column**\n",
    "\n",
    "Select the date column to be formatted from the dataframe, data.\n",
    "From the List menu, drag a dictVariable block and select the **data** variable. Also, get a Quote block from the Text menu and inform the column name, **Annual_Production**. Connect this block to the first parameter for the to_numeric function."
   ]
  },
  {
   "cell_type": "markdown",
   "metadata": {
    "deletable": false,
    "editable": false,
    "id": "4jDlRv98H6nV"
   },
   "source": [
    "**Step 6 - See now the new date column on the dataframe**\n",
    "\n",
    "Let’s print the info on the columns of the dataframe again and see the newly created date column.\n",
    "\n",
    "From the Variable menu, drag a DO block for the **data** variable, then select the info() method from the list.\n",
    "\n",
    "<details>\n",
    "    <summary>Click to see the answer...</summary>\n",
    "\n",
    "![](https://pbs.twimg.com/media/GnKOr94agAECEPj?format=png&name=small)\n",
    "</details>\n"
   ]
  },
  {
   "cell_type": "code",
   "execution_count": null,
   "metadata": {
    "id": "bRj_1LqkJEjM"
   },
   "outputs": [],
   "source": [
    "# blockly code\n"
   ]
  },
  {
   "cell_type": "markdown",
   "metadata": {
    "deletable": false,
    "editable": false,
    "id": "YMoW-6vJJSQs",
    "jp-MarkdownHeadingCollapsed": true
   },
   "source": [
    "#### Freehand"
   ]
  },
  {
   "cell_type": "markdown",
   "metadata": {
    "deletable": false,
    "editable": false,
    "id": "fuKXu_yQJSTY"
   },
   "source": [
    "\n",
    "**Step 1 - Inserting the new formatted column**\n",
    "\n",
    "Let’s create a new column with the formatted date information.\n",
    "With the data dataframe, call the **insert**() method.\n",
    "\n",
    "`data.insert()`"
   ]
  },
  {
   "cell_type": "markdown",
   "metadata": {
    "deletable": false,
    "editable": false,
    "id": "gSkAiypMJSVI"
   },
   "source": [
    "**Step 2 - Inform the position of the new column**\n",
    "\n",
    "We can add the new column wherever we want, so let’s add it to the first position, column 0.\n",
    "Just type **0 (zero)**, as the position of the column. Keep in mind that the first position in Python is position zero.\n",
    "\n",
    "`data.insert(0)`"
   ]
  },
  {
   "cell_type": "markdown",
   "metadata": {
    "deletable": false,
    "editable": false,
    "id": "uH8mU8REJSXW"
   },
   "source": [
    "\n",
    "**Step 3 - Define the name of the new column**\n",
    "\n",
    "We can choose whatever name we want for the new column, so let’s call it **New_Annual_Production**.\n",
    "As a string, inform the new column name, New_Annual_Production\n",
    "\n",
    "`data.insert(0,'New_Annual_Production' )`"
   ]
  },
  {
   "cell_type": "markdown",
   "metadata": {
    "deletable": false,
    "editable": false,
    "id": "RAdtiMNOJSZQ"
   },
   "source": [
    "**Step 4 - Call the numeric conversion function**\n",
    "\n",
    "Let’s use a date conversion function from pandas to create a new date column using the proper date type.\n",
    "From the pandas library, **pd**, call the function **to_numeric**().\n",
    "\n",
    "`data.insert(0,'New_Annual_Production',pd.to_numeric())`"
   ]
  },
  {
   "cell_type": "markdown",
   "metadata": {
    "deletable": false,
    "editable": false,
    "id": "dmcgmL-kJSbg"
   },
   "source": [
    "**Step 5 - Inform the original data column**\n",
    "\n",
    "Select the date column to be formatted from the dataframe, **data**.\n",
    "Using the **data** dataframe, select the original date column, **Annual_Production**.\n",
    "\n",
    "`data.insert(0,'New_Annual_Production',pd.to_numeric(data['Annual_Production']))`"
   ]
  },
  {
   "cell_type": "markdown",
   "metadata": {
    "deletable": false,
    "editable": false,
    "id": "CUuJP12XJSdq"
   },
   "source": [
    "**Step 6 - See now the new date column on the dataframe**\n",
    "\n",
    "Let’s print the info on the dataframe's columns again and see the newly created date column.\n",
    "With the data dataframa, call the **info**() method.\n",
    "\n",
    "<details>\n",
    "    <summary>Click to see the answer...</summary>\n",
    "\n",
    "![](https://pbs.twimg.com/media/GnKPuTCaIAAy9Fd?format=png&name=small)\n",
    "</details>"
   ]
  },
  {
   "cell_type": "markdown",
   "metadata": {
    "deletable": false,
    "editable": false,
    "id": "N0CzXz6IJSf0"
   },
   "source": [
    "**Your Turn**: Add a new column called New_Annual_Production at the start of the dataframe using pd.to_numeric on Annual_Production. Then use data.info() to check that it worked!\n"
   ]
  },
  {
   "cell_type": "code",
   "execution_count": null,
   "metadata": {
    "id": "wgk5kNRUKLtI"
   },
   "outputs": [],
   "source": [
    "# freehand code\n"
   ]
  },
  {
   "cell_type": "markdown",
   "metadata": {
    "deletable": false,
    "editable": false,
    "id": "RIB1McA-KM3U"
   },
   "source": [
    "**Explanation**: *You have converted the Annual_Production column to a floating-point number format (float64). This is necessary for performing numerical calculations and statistical analysis on the income data. By converting the column to a numeric type, you can calculate averages, standard deviations, and other statistical measures*."
   ]
  },
  {
   "cell_type": "markdown",
   "metadata": {
    "deletable": false,
    "editable": false
   },
   "source": [
    "### Goal 8: Removing null rows. \n",
    "\n",
    "You might remember when we worked with null datas from the notebook Data Science and the Nature of Data. The null values can really throw off our analysis, so let’s get rid of them. "
   ]
  },
  {
   "cell_type": "markdown",
   "metadata": {
    "deletable": false,
    "editable": false,
    "id": "n5XBOU_rKPd4",
    "jp-MarkdownHeadingCollapsed": true
   },
   "source": [
    "#### Blockly"
   ]
  },
  {
   "cell_type": "markdown",
   "metadata": {
    "deletable": false,
    "editable": false,
    "id": "2Dg3jQGIKPqY"
   },
   "source": [
    "\n",
    "**Step 1 - Drop all the null rows**\n",
    "\n",
    "For rows that still have null values, let’s remove all of those by bringing in the **dropna** method. This will get rid of everything for us!\n",
    "From the Variable menu, drag a Do block. With that select the method, **dropna**.   \n"
   ]
  },
  {
   "cell_type": "markdown",
   "metadata": {
    "deletable": false,
    "editable": false,
    "id": "dMNixEgpKPs_"
   },
   "source": [
    "\n",
    "**Step 2 - Re-assign the cleaned dataset back to the variable**\n",
    "\n",
    "Now that it’s all gone, let’s save the cleaned dataset to the same variable, **data**. Now everything is nice and clean with only numeric values and no missing values.\n",
    "\n",
    "From the Variable menu, drag a Set block of the **data** variable.Connect the dropna block to it."
   ]
  },
  {
   "cell_type": "markdown",
   "metadata": {
    "deletable": false,
    "editable": false,
    "id": "JSaUDi8iKPvH"
   },
   "source": [
    "**Step 3 - Print the cleaned dataset**\n",
    "\n",
    "Let’s now print the cleaned dataset on the screen.\n",
    "\n",
    "From the Variable menu, drag a **data** variable block.   \n",
    "\n",
    "<details>\n",
    "    <summary>Click to see the answer...</summary>\n",
    "\n",
    "![](https://pbs.twimg.com/media/GnKRzxCawAAkuXg?format=png&name=small)\n",
    "</details>\n"
   ]
  },
  {
   "cell_type": "code",
   "execution_count": null,
   "metadata": {},
   "outputs": [],
   "source": [
    "# blockly code\n"
   ]
  },
  {
   "cell_type": "markdown",
   "metadata": {
    "deletable": false,
    "editable": false,
    "id": "zd8z19FAKPxg",
    "jp-MarkdownHeadingCollapsed": true
   },
   "source": [
    "\n",
    "\n",
    "\n",
    "#### Freehand\n"
   ]
  },
  {
   "cell_type": "markdown",
   "metadata": {
    "deletable": false,
    "editable": false,
    "id": "a5OQxhNbKPz2"
   },
   "source": [
    "\n",
    "**Step 1 - Drop all the null rows**\n",
    "\n",
    "For rows that still have null values (NA), let’s remove all of thoseby bringing in the **dropna** method. This will get rid of everything for us!\n",
    "\n",
    "From the Variable menu, drag a Do block. With that select the method, **dropna**.   \n",
    "\n",
    "`data.dropna()`"
   ]
  },
  {
   "cell_type": "markdown",
   "metadata": {
    "deletable": false,
    "editable": false,
    "id": "DrUlDqIKKP2k"
   },
   "source": [
    "**Step 2 - Re-assign the cleaned dataset back to the variable **\n",
    "\n",
    "Now that it’s all gone, let’s save the cleaned dataset to the same variable, **data**. Now everything is nice and clean with only numeric values and no missing values.\n",
    "\n",
    "From the Variable menu, drag a Set block of the **data** variable.\n",
    "Connect the dropna block to it.\n",
    "\n",
    "`data = data.dropna()`"
   ]
  },
  {
   "cell_type": "markdown",
   "metadata": {
    "deletable": false,
    "editable": false,
    "id": "wwDsCthsKP4u"
   },
   "source": [
    "**Step 3 - Print the cleaned dataset**\n",
    "\n",
    "Let’s now print the cleaned dataset on the screen.\n",
    "\n",
    "<details>\n",
    "    <summary>Click to see the answer...</summary>\n",
    "\n",
    "![](https://pbs.twimg.com/media/GnKSg6gagAAww5o?format=png&name=small)\n",
    "</details>"
   ]
  },
  {
   "cell_type": "markdown",
   "metadata": {
    "deletable": false,
    "editable": false,
    "id": "bgx7zeFlLGEN"
   },
   "source": [
    "**Your Turn**: Use dropna() to remove rows with missing values, reassign it back to data, and then print data to see your cleaned-up dataset!"
   ]
  },
  {
   "cell_type": "code",
   "execution_count": null,
   "metadata": {
    "id": "SvlI1h-eLgmn"
   },
   "outputs": [],
   "source": [
    "# freehand code"
   ]
  },
  {
   "cell_type": "markdown",
   "metadata": {
    "deletable": false,
    "editable": false,
    "id": "h4tT13CaLiuJ"
   },
   "source": [
    "\n",
    "**Explanation**: *You have removed rows from a Pandas DataFrame that contains any missing values. Missing values are typically represented as NaN (Not a Number)*."
   ]
  },
  {
   "cell_type": "markdown",
   "metadata": {
    "deletable": false,
    "editable": false,
    "id": "KhCbgXUmLjbW"
   },
   "source": [
    "### Goal 9: Save a column in a variable.\n",
    "\n",
    "Sometimes with data science we want to separate a column so that it’s easier to work with. Let’s go ahead and do that by separating a column and putting it into a separate variable named Facility_Age"
   ]
  },
  {
   "cell_type": "markdown",
   "metadata": {
    "deletable": false,
    "editable": false,
    "id": "ZlJ0tOzaLjpX",
    "jp-MarkdownHeadingCollapsed": true
   },
   "source": [
    "#### Blockly"
   ]
  },
  {
   "cell_type": "markdown",
   "metadata": {
    "deletable": false,
    "editable": false,
    "id": "Uc976g5YLjru"
   },
   "source": [
    "**Step 1 - Tell the system what column you want to work with**\n",
    "\n",
    "Let’s select the column that we want to analyse closer, Facility_Age.\n",
    "\n",
    "From the List menu, drag a dictVariable, and select the **data** variable. From the Text menu, get a Quote block, and type **Facility_Age**."
   ]
  },
  {
   "cell_type": "markdown",
   "metadata": {
    "deletable": false,
    "editable": false,
    "id": "6y3v2pfmLjuA"
   },
   "source": [
    "**Step 2 - Assigning this column to a new variable**\n",
    "\n",
    "Now that we have the variable, let’s save this column to a new variable that we can reference later.\n",
    "\n",
    "In the variable menu create a new variable, **Facility_Age**. Drag the Set block of it, and connect it with the data[“Facility_Age”] block."
   ]
  },
  {
   "cell_type": "markdown",
   "metadata": {
    "deletable": false,
    "editable": false,
    "id": "C7TLl3NOLjwa"
   },
   "source": [
    "**Step 3 - Print the variable**\n",
    "\n",
    "Let’s now print the cleaned dataset on the screen.\n",
    "From the Variable menu, drag the variable **Facility_Age**.\n",
    "\n",
    "<details>\n",
    "    <summary>Click to see the answer...</summary>\n",
    "\n",
    "![](https://pbs.twimg.com/media/GnKiY6dboAAjQ8k?format=jpg&name=small)\n",
    "</details>\n",
    "\n"
   ]
  },
  {
   "cell_type": "code",
   "execution_count": null,
   "metadata": {
    "id": "elSvED56MFdv"
   },
   "outputs": [],
   "source": [
    "# blockly code\n"
   ]
  },
  {
   "cell_type": "markdown",
   "metadata": {
    "deletable": false,
    "editable": false,
    "id": "o7Jab1ZcMIXJ",
    "jp-MarkdownHeadingCollapsed": true
   },
   "source": [
    "#### Freehand"
   ]
  },
  {
   "cell_type": "markdown",
   "metadata": {
    "deletable": false,
    "editable": false,
    "id": "m26SVF9RMIZf"
   },
   "source": [
    "**Step 1 - Tell the system what column you want to work with**\n",
    "\n",
    "Let’s select the column that we want to analyse closer, Facility_Age.\n",
    "\n",
    "From the List menu, drag a dictVariable, and select the **data** variable. From the Text menu, get a Quote block, and type **Facility_Age**.\n",
    "\n",
    "`data['Facility_Age']`"
   ]
  },
  {
   "cell_type": "markdown",
   "metadata": {
    "deletable": false,
    "editable": false,
    "id": "gUFNl3GnMIbu"
   },
   "source": [
    "**Step 2 - Assigning this column to a new variable**\n",
    "\n",
    "Now that we have the variable, let’s save this column to a new variable that we can reference later.\n",
    "\n",
    "In the variable menu create a new variable, **Facility_Age**. Drag the Set block of it, and connect it with the data[“Facility_Age”] block.\n",
    "\n",
    "`Facility_Age = data['Facility_Age']`"
   ]
  },
  {
   "cell_type": "markdown",
   "metadata": {
    "deletable": false,
    "editable": false,
    "id": "TMBMcTxzMIeN"
   },
   "source": [
    "**Step 3 - Print the variable**\n",
    "\n",
    "Let’s now print the cleaned dataset on the screen.\n",
    "\n",
    "<details>\n",
    "    <summary>Click to see the answer...</summary>\n",
    "\n",
    "![](https://pbs.twimg.com/media/GnKjG1gbAAAGA3V?format=png&name=small)\n",
    "</details>"
   ]
  },
  {
   "cell_type": "markdown",
   "metadata": {
    "deletable": false,
    "editable": false,
    "id": "uEMmfqnlMIgw"
   },
   "source": [
    "**Your Turn**: Give it a go! Select the Facility_Age column, assign it to a new variable, and then print that variable to see the values!"
   ]
  },
  {
   "cell_type": "code",
   "execution_count": null,
   "metadata": {
    "id": "0azFiNSUM3ZU"
   },
   "outputs": [],
   "source": [
    "# freehand code"
   ]
  },
  {
   "cell_type": "markdown",
   "metadata": {
    "deletable": false,
    "editable": false,
    "id": "Gf-7tRgHMIpX"
   },
   "source": [
    "\n",
    "**Explanation**: *You have extracted the data from the 'Facility_Age' column of the DataFrame data. Then, the second line, simply Facility_Age, displays the contents of this newly created Series, showing the individual facility*."
   ]
  },
  {
   "cell_type": "markdown",
   "metadata": {
    "deletable": false,
    "editable": false,
    "id": "FeIkkPPpNErI"
   },
   "source": [
    "### Goal 10: Describe the Boxplot\n",
    "\n",
    "Now that we’ve described it, let’s see if we can get a data visualization to help see things like the median, outliers, and quartiles for the numerical features."
   ]
  },
  {
   "cell_type": "markdown",
   "metadata": {
    "deletable": false,
    "editable": false,
    "id": "FDXYTVvwNEuT",
    "jp-MarkdownHeadingCollapsed": true
   },
   "source": [
    "#### Blockly"
   ]
  },
  {
   "cell_type": "markdown",
   "metadata": {
    "deletable": false,
    "editable": false,
    "id": "EbEpcxo6NEwN"
   },
   "source": [
    "\n",
    "\n",
    "\n",
    "**Step 1 -  Saying what data to use for the boxplot plot**\n",
    "\n",
    "In order to make a plot, we need to choose the source from which data we want to plot from.  In this case, our data is stored in the column **Facility_Age**\n",
    "\n",
    "From the Variables menu, drag a Do block for the **Facility_Age** variable. With that select the method, plot."
   ]
  },
  {
   "cell_type": "markdown",
   "metadata": {
    "deletable": false,
    "editable": false,
    "id": "ANVP1QpbNEyW"
   },
   "source": [
    "**Step 2 - Calling the plot function and telling it to do a boxplot**\n",
    "\n",
    "We’ll need to tell our system to create a plot. As you can guess, there are lots of different kinds, so we’ll need to tell the plot function that we are specifically interested in a bloxplot.\n",
    "Get a freehand block and type **kind=**. Connect to it a Quote block (from the Text menu) and type **“box”** (boxplot).\n",
    "\n",
    "<details>\n",
    "    <summary>Click to see the answer...</summary>\n",
    "\n",
    "![](https://pbs.twimg.com/media/GnKvc52aUAADj51?format=png&name=small)\n",
    "</details>\n"
   ]
  },
  {
   "cell_type": "code",
   "execution_count": null,
   "metadata": {
    "id": "y3g-21YsNmhP"
   },
   "outputs": [],
   "source": [
    "# blockly code\n"
   ]
  },
  {
   "cell_type": "markdown",
   "metadata": {
    "deletable": false,
    "editable": false,
    "id": "8IeQtuDnNE0_",
    "jp-MarkdownHeadingCollapsed": true
   },
   "source": [
    "#### Freehand"
   ]
  },
  {
   "cell_type": "markdown",
   "metadata": {
    "deletable": false,
    "editable": false,
    "id": "cxEYljb4NE3T"
   },
   "source": [
    "**Step 1 -  Saying what data to use for the boxplot plot**\n",
    "\n",
    "In order to make a plot, we need to choose the source from which data we want to plot from.  In this case, our data is stored in the column **Facility_Age**\n",
    "\n",
    "From the Variables menu, drag a Do block for the **Facility_Age** variable. With that select the method, **plot**.\n",
    "\n",
    "`facility_Age.plot()`"
   ]
  },
  {
   "cell_type": "markdown",
   "metadata": {
    "deletable": false,
    "editable": false,
    "id": "XokzLLHKNE6X"
   },
   "source": [
    "**Step 2 - Calling the plot function and telling it to do a boxplot**\n",
    "\n",
    "We’ll need to tell our system to create a plot. As you can guess, there are lots of different kinds, so we’ll need to tell the plot function that we are specifically interested in a bloxplot.\n",
    "\n",
    "\n",
    "<details>\n",
    "    <summary>Click to see the answer...</summary>\n",
    "\n",
    "![](https://pbs.twimg.com/media/GnKwFUnbgAAl6ej?format=png&name=small)\n",
    "</details>\n"
   ]
  },
  {
   "cell_type": "markdown",
   "metadata": {
    "deletable": false,
    "editable": false,
    "id": "T4HoIlzcNE81"
   },
   "source": [
    "**Your Turn**: Let’s dive in!"
   ]
  },
  {
   "cell_type": "code",
   "execution_count": null,
   "metadata": {
    "id": "y4vc-1yaOGm2"
   },
   "outputs": [],
   "source": [
    "# freehand code\n"
   ]
  },
  {
   "cell_type": "markdown",
   "metadata": {
    "deletable": false,
    "editable": false,
    "id": "h-TIBAltNE_S"
   },
   "source": [
    "**Explanation**: *In the boxplot represents the middle 50% of the data, from Q1 to Q3. The line inside the box is the median. The whiskers extend from the box to the minimum and maximum values, 1 but often they are limited to a certain range to exclude outliers. Outliers are data points that are significantly different from the rest of the data and are often plotted as individual points beyond the whiskers*."
   ]
  },
  {
   "cell_type": "markdown",
   "metadata": {
    "deletable": false,
    "editable": false,
    "id": "FCf9aKVbNFBy"
   },
   "source": [
    "### Goal 11: Finding the Spread\n",
    "\n",
    "So we’ve got some insights from the boxplots, but how spread out is our data? Let’s calculate the quartiles of a dataset to understand the distribution of the data. This involves selecting the numeric data from the dataframe and applying the describe() method."
   ]
  },
  {
   "cell_type": "markdown",
   "metadata": {
    "deletable": false,
    "editable": false,
    "id": "xbakT_yyNFEF"
   },
   "source": [
    "**Calculate Quartiles**: Let’s break up our data that looks at anything below 25% of our data (first quartile) and anything above 75% (third quartile) of our data."
   ]
  },
  {
   "cell_type": "markdown",
   "metadata": {
    "deletable": false,
    "editable": false,
    "id": "omPJ21YDOJqf",
    "jp-MarkdownHeadingCollapsed": true
   },
   "source": [
    "#### Blockly"
   ]
  },
  {
   "cell_type": "markdown",
   "metadata": {
    "deletable": false,
    "editable": false,
    "id": "UVlMltpiOJs2"
   },
   "source": [
    "\n",
    "**Step 1 - Saying what data to look at for the quartiles calculation**\n",
    "\n",
    "To describe the data, we first need to select the numeric data to explore. In this case, our data is the whole data dataframe\n",
    "\n",
    "From the \"VARIABLES\" menu, drag a DO block WITH dataframe variable. First, we first need to select the numeric data to describe. In this case, our data is the whole data **“Facility_Age”**"
   ]
  },
  {
   "cell_type": "markdown",
   "metadata": {
    "deletable": false,
    "editable": false,
    "id": "Z8z9_17xOJvJ"
   },
   "source": [
    "**Step 2 - Call the describe method for the dataframe**\n",
    "\n",
    "In the next step, we apply the **describe**() to calculate the mean of all the numeric columns in our dataframe."
   ]
  },
  {
   "cell_type": "markdown",
   "metadata": {
    "deletable": false,
    "editable": false,
    "id": "g5zCNypmOJxq"
   },
   "source": [
    "**Step 3 - Connect the blocks to run the code**\n",
    "\n",
    "Connect the blocks and run the code!\n",
    "\n",
    "<details>\n",
    "    <summary>Click to see the answer...</summary>\n",
    "\n",
    "![](https://pbs.twimg.com/media/GnKwe9EbsAAanZ2?format=png&name=small)\n",
    "</details>"
   ]
  },
  {
   "cell_type": "code",
   "execution_count": null,
   "metadata": {
    "id": "VlmcBVByOp8D"
   },
   "outputs": [],
   "source": [
    "# blockly code\n"
   ]
  },
  {
   "cell_type": "markdown",
   "metadata": {
    "deletable": false,
    "editable": false,
    "id": "55MXBpcuOrho",
    "jp-MarkdownHeadingCollapsed": true
   },
   "source": [
    "#### Freehand"
   ]
  },
  {
   "cell_type": "markdown",
   "metadata": {
    "deletable": false,
    "editable": false,
    "id": "hO7yeN3zOrkN"
   },
   "source": [
    "\n",
    "**Step 1 - Saying what data to look at for the quartiles calculation**\n",
    "\n",
    "To describe the data, we first need to select the numeric data to explore. In this case, our data is the whole data dataframe.\n",
    "\n",
    "`Facility_Age`\n"
   ]
  },
  {
   "cell_type": "markdown",
   "metadata": {
    "deletable": false,
    "editable": false,
    "id": "-mUt_vI2OrmU"
   },
   "source": [
    "**Step 2 - Call the describe method for the dataframe**\n",
    "\n",
    "In the next step, we apply the **describe**() method to describe all the numeric columns in our dataframe.\n",
    "\n",
    "`Facility_Age.describe()`"
   ]
  },
  {
   "cell_type": "markdown",
   "metadata": {
    "deletable": false,
    "editable": false,
    "id": "n8nQXGyROro3"
   },
   "source": [
    "**Step 3 - Run the code**\n",
    "\n",
    "Hit ‘control’ and ‘enter’ at the same time to run the code!\n",
    "\n",
    "<details>\n",
    "    <summary>Click to see the answer...</summary>\n",
    "\n",
    "![](https://pbs.twimg.com/media/GnKw3Edb0AAAf_5?format=png&name=small)\n",
    "</details>"
   ]
  },
  {
   "cell_type": "markdown",
   "metadata": {
    "deletable": false,
    "editable": false,
    "id": "eqVbE7Y6Orx3"
   },
   "source": [
    "**Your Turn**: Your turn! Give the describe() method a try and see what it tells you about your data."
   ]
  },
  {
   "cell_type": "code",
   "execution_count": null,
   "metadata": {
    "id": "dMmDPs0IPPJL"
   },
   "outputs": [],
   "source": [
    "# freehand code\n"
   ]
  },
  {
   "cell_type": "markdown",
   "metadata": {
    "deletable": false,
    "editable": false,
    "id": "SxVcXb8OOr0b"
   },
   "source": [
    "**Explanation**: *Quartiles divide a dataset into four equal parts. There are three main quartiles: First Quartile (Q1): 25% of the data falls below this value; Second Quartile (Q2): Also known as the median, 50% of the data falls below this value; Third Quartile (Q3): 75% of the data falls below this value*."
   ]
  },
  {
   "cell_type": "markdown",
   "metadata": {
    "deletable": false,
    "editable": false,
    "id": "L2XpqQr3Or2e"
   },
   "source": [
    "### Goal 12: Let’s remove the outliers.\n",
    "\n",
    "You might remember the idea of outliers from Data Science and the Nature of Data. Basically, a kind of extreme data points that can throw off our analysis. Let’s us the clip method to remove the outliers, and create a new column with the values without the outliers."
   ]
  },
  {
   "cell_type": "markdown",
   "metadata": {
    "deletable": false,
    "editable": false,
    "id": "YX55mFDxOr43",
    "jp-MarkdownHeadingCollapsed": true
   },
   "source": [
    "#### Blockly"
   ]
  },
  {
   "cell_type": "markdown",
   "metadata": {
    "deletable": false,
    "editable": false,
    "id": "jJ48v37DPpI3"
   },
   "source": [
    "\n",
    "\n",
    "\n",
    "**Step 1 - Inserting the new formatted column**\n",
    "\n",
    "Let’s create a new column with the formatted date information.\n",
    "From the Variables menu, drag a DO block for the **data** variable. Then select the method **insert**.  "
   ]
  },
  {
   "cell_type": "markdown",
   "metadata": {
    "deletable": false,
    "editable": false,
    "id": "eTVxaYxkPpL0"
   },
   "source": [
    "**Step 2 - Inform the position of the new column**\n",
    "\n",
    "We can add the new column wherever we want, so let’s add it to the first position, column 0.\n",
    "From the Math menu, get a number block and change it to **“0” (zero)**. Connect it as the first parameter of the insert operation."
   ]
  },
  {
   "cell_type": "markdown",
   "metadata": {
    "deletable": false,
    "editable": false,
    "id": "_zQJ35ElPpOL"
   },
   "source": [
    "**Step 3 - Define the name of the new column**\n",
    "\n",
    "We can choose whatever name we want for the new column, so let’s call it **New_Facility_Age**.\n",
    "\n",
    "From the Text menu, get a Quote block “” and type,  **New_Facility_Age**. Connect it as the second parameter of the insert operation."
   ]
  },
  {
   "cell_type": "markdown",
   "metadata": {
    "deletable": false,
    "editable": false,
    "id": "poG5467-PpQa"
   },
   "source": [
    "**Step 4 - Call the clip method**\n",
    "\n",
    "Let’s use the call method to remove all values lower than 0 and higher than 50.\n",
    "\n",
    "From the Variables menu, drag a Do block of the Facility_Age. With that, select the **clip** method. From the Math menu, and drag two number blocks, inform to each one 0 and 50 respectively. Connect each as parameters of the **clip** method, and connect the whole block as the third parameter of the insert function."
   ]
  },
  {
   "cell_type": "markdown",
   "metadata": {
    "deletable": false,
    "editable": false,
    "id": "kmL4rnDAPpSn"
   },
   "source": [
    "**Step 5 - Print the data dataframe**\n",
    "\n",
    "Let’s print the info on the columns of the dataframe again and see the newly created date column.\n",
    "\n",
    "From the Variable menu, drag a DO block for the **data** variable.\n",
    "\n",
    "<details>\n",
    "    <summary>Click to see the answer...</summary>\n",
    "\n",
    "![](https://pbs.twimg.com/media/GnKxYaDbIAAlLf9?format=png&name=small)\n",
    "</details>\n"
   ]
  },
  {
   "cell_type": "code",
   "execution_count": null,
   "metadata": {
    "id": "QqHcTbvoQLBx"
   },
   "outputs": [],
   "source": [
    "# blockly code\n"
   ]
  },
  {
   "cell_type": "markdown",
   "metadata": {
    "deletable": false,
    "editable": false,
    "id": "wUjawz-lQMrm",
    "jp-MarkdownHeadingCollapsed": true
   },
   "source": [
    "#### Freehand"
   ]
  },
  {
   "cell_type": "markdown",
   "metadata": {
    "deletable": false,
    "editable": false,
    "id": "fDfBvjY1QMuh"
   },
   "source": [
    "**Step 1 - Inserting the new formatted column**\n",
    "\n",
    "Let’s create a new column with the formatted date information.\n",
    "With the **data** dataframe, call the **insert**() method.\n",
    "\n",
    "`data.insert()`"
   ]
  },
  {
   "cell_type": "markdown",
   "metadata": {
    "deletable": false,
    "editable": false,
    "id": "EErBJnKJQMwv"
   },
   "source": [
    "**Step 2 - Inform the position of the new column**\n",
    "\n",
    "We can add the new column wherever we want, so let’s add it to the first position, column 0.\n",
    "\n",
    "Just type **0 (zero)**, as the position of the column. Keep in mind that the first position in Python is position zero.\n",
    "\n",
    "`data.insert(0)`"
   ]
  },
  {
   "cell_type": "markdown",
   "metadata": {
    "deletable": false,
    "editable": false,
    "id": "jr2KNhpsQMzA"
   },
   "source": [
    "**Step 3 - Define the name of the new column**\n",
    "\n",
    "We can choose whatever name we want for the new column, so let’s call it **New_Facility_Age**.\n",
    "\n",
    "`data.insert(0,’New_Facility_Age’ )`"
   ]
  },
  {
   "cell_type": "markdown",
   "metadata": {
    "deletable": false,
    "editable": false,
    "id": "NZsf2MjXQM1b"
   },
   "source": [
    "**Step 4 - Call the clip method**\n",
    "\n",
    "Let’s use the call method to remove all values lower than 0 and higher than 50.\n",
    "\n",
    "`data.insert(0,'New_Facility_Age',Facility_Age.clip(0,50))`"
   ]
  },
  {
   "cell_type": "markdown",
   "metadata": {
    "deletable": false,
    "editable": false,
    "id": "niFlOqgXQM30"
   },
   "source": [
    "**Step 5 - Print the data dataframe**\n",
    "\n",
    "Let’s print the info on the dataframe's columns again and see the newly created date column.\n",
    "\n",
    "<details>\n",
    "    <summary>Click to see the answer...</summary>\n",
    "\n",
    "![](https://pbs.twimg.com/media/GnKyv_AWMAAAKCX?format=png&name=small)\n",
    "</details>"
   ]
  },
  {
   "cell_type": "markdown",
   "metadata": {
    "deletable": false,
    "editable": false,
    "id": "vhjWLFUgPpUx"
   },
   "source": [
    "\n",
    "**Your Turn**: Now you try it out! Add a new column called New_Facility_Age to your dataframe, use the clip method to keep values between 0 and 50, and then print the updated dataframe to see your changes!\n"
   ]
  },
  {
   "cell_type": "code",
   "execution_count": null,
   "metadata": {
    "id": "A2cgYYgZQ8rw"
   },
   "outputs": [],
   "source": [
    "# freehand code\n"
   ]
  },
  {
   "cell_type": "markdown",
   "metadata": {
    "deletable": false,
    "editable": false,
    "id": "-gDFIMABQ_UA"
   },
   "source": [
    "\n",
    "**Explanation**: *The clip() function can handle outliers in the 'Age' column using the Interquartile Range (IQR) method. It calculates the lower and upper bounds based on the IQR and then clips the values to these bounds, effectively removing outliers*.\n"
   ]
  },
  {
   "cell_type": "markdown",
   "metadata": {
    "deletable": false,
    "editable": false,
    "id": "M95ZtoSaQ_ym"
   },
   "source": [
    "### Goal 13: Taking a String Variable and Making it 0 (False) or 1 (True).\n",
    "\n",
    "Sometimes we have string variables that actually represent different categories. If we transform this into categorical variables, we can do some interesting analysis. In our dataset, we have categories like ‘Rural’ and ‘Urban’. Now let’s see if we can look at whether something in a column is ‘rural’ and then code it as 0 (False) or 1 (True)."
   ]
  },
  {
   "cell_type": "markdown",
   "metadata": {
    "deletable": false,
    "editable": false,
    "id": "nKDhBeLkQ_1u",
    "jp-MarkdownHeadingCollapsed": true
   },
   "source": [
    "#### Blockly"
   ]
  },
  {
   "cell_type": "markdown",
   "metadata": {
    "deletable": false,
    "editable": false,
    "id": "_APrS1JAQ_3_"
   },
   "source": [
    "**Step 1 - Inserting the new formatted column**\n",
    "\n",
    "Let’s create a new column with the formatted date information.\n",
    "From the Variables menu, drag a DO block for the **data** variable. Then select the method insert.  \n"
   ]
  },
  {
   "cell_type": "markdown",
   "metadata": {
    "deletable": false,
    "editable": false,
    "id": "Ic1OsjEwQ_6U"
   },
   "source": [
    "**Step 2 - Inform the position of the new column**\n",
    "\n",
    "We can add the new column wherever we want, so let’s add it to the first position, column 0.\n",
    "\n",
    "From the Math menu, get a number block and change it to **“0” (zero)**. Connect it as the first parameter of the insert operation."
   ]
  },
  {
   "cell_type": "markdown",
   "metadata": {
    "deletable": false,
    "editable": false,
    "id": "E_h3S67LQ_8k"
   },
   "source": [
    "**Step 3 - Define the name of the new column**\n",
    "\n",
    "We can choose whatever name we want for the new column, so let’s call it **Is_Rural**.\n",
    "\n",
    "From the Text menu, get a Quote block “” and type,  **Is_Rural**. Connect it as the second parameter of the insert operation."
   ]
  },
  {
   "cell_type": "markdown",
   "metadata": {
    "deletable": false,
    "editable": false,
    "id": "QSSETJ7yQ_-w"
   },
   "source": [
    "**Step 4 - Select the original column**\n",
    "\n",
    "Let’s go back to the column that has the data (Region_Type) we want to look at further.\n",
    "\n",
    "From the List menu, drag a dictVariable for the **data** variable. Get a Quote block from the Text menu and type **Region_Type**."
   ]
  },
  {
   "cell_type": "markdown",
   "metadata": {
    "deletable": false,
    "editable": false,
    "id": "sqVQXsTjRABE"
   },
   "source": [
    "**Step 5 - Compare this column with the value “Rural”**\n",
    "\n",
    "What are we looking for? In this case, we want anything that has “Rural” as the data.\n",
    "\n",
    "From the Logic menu, drag a equals block (=), connect on right side of it a Quote block with “Rural”. And on the left side the data[“Region_Type”] block. Connect this whole block as the third parameter of the insert function.\n"
   ]
  },
  {
   "cell_type": "markdown",
   "metadata": {
    "deletable": false,
    "editable": false,
    "id": "deKHKV1mRADS"
   },
   "source": [
    "**Step 6 - Print the data dataframe**\n",
    "\n",
    "Let’s print the info on the columns of the dataframe again and see the newly created date column.\n",
    "\n",
    "From the Variable menu, drag a DO block for the **data** variable.\n",
    "\n",
    "<details>\n",
    "    <summary>Click to see the answer...</summary>\n",
    "\n",
    "![](https://pbs.twimg.com/media/GnK0R1TWEAA5D8G?format=png&name=small)\n",
    "</details>\n"
   ]
  },
  {
   "cell_type": "code",
   "execution_count": 2,
   "metadata": {
    "id": "3iaJ2GMWRsB4"
   },
   "outputs": [],
   "source": [
    "# blockly code\n"
   ]
  },
  {
   "cell_type": "markdown",
   "metadata": {
    "deletable": false,
    "editable": false,
    "id": "4VifhklKRtTz",
    "jp-MarkdownHeadingCollapsed": true
   },
   "source": [
    "#### Freehand"
   ]
  },
  {
   "cell_type": "markdown",
   "metadata": {
    "deletable": false,
    "editable": false,
    "id": "LGeLQrwXRtW7"
   },
   "source": [
    "\n",
    "**Step 1 - Inserting the new formatted column**\n",
    "\n",
    "Let’s create a new column with the formatted date information.\n",
    "\n",
    "`data.insert() `\n"
   ]
  },
  {
   "cell_type": "markdown",
   "metadata": {
    "deletable": false,
    "editable": false,
    "id": "QWXGnCtbRtZS"
   },
   "source": [
    "**Step 2 - Inform the position of the new column**\n",
    "\n",
    "We can add the new column wherever we want, so let’s add it to the first position, **column 0**.\n",
    "\n",
    "`data.insert(0)`"
   ]
  },
  {
   "cell_type": "markdown",
   "metadata": {
    "deletable": false,
    "editable": false,
    "id": "8PvBTJ0rRtbw"
   },
   "source": [
    "\n",
    "**Step 3 - Define the name of the new column**\n",
    "\n",
    "We can choose whatever name we want for the new column, so let’s call it **Is_Rural**.\n",
    "\n",
    "`data.insert(0,'Is_Rural' )`"
   ]
  },
  {
   "cell_type": "markdown",
   "metadata": {
    "deletable": false,
    "editable": false,
    "id": "t3P64SXFRteJ"
   },
   "source": [
    "**Step 4 - Select the original column**\n",
    "\n",
    "Let’s go back to the column that has the data (Region_Type) we want to look at further.\n",
    "\n",
    "Let’s select the original column, Region_Type, and compare if it is equal to **“Rural”**.\n",
    "\n",
    "`data.insert(0,'Is_Rural',(data['Region_Type'] ))`"
   ]
  },
  {
   "cell_type": "markdown",
   "metadata": {
    "deletable": false,
    "editable": false,
    "id": "IorwP-5BRtgl"
   },
   "source": [
    "**Step 5 - Compare this column with the value “Rural”**\n",
    "\n",
    "What are we looking for? In this case, we want anything that has **“Rural”** as the data.\n",
    "\n",
    "`data.insert(0,'Is_Rural',(data['Region_Type'] == 'Rural'))`"
   ]
  },
  {
   "cell_type": "markdown",
   "metadata": {
    "deletable": false,
    "editable": false,
    "id": "221vwhYHSoCo"
   },
   "source": [
    "**Step 6 - Print the data dataframe**\n",
    "\n",
    "Let’s print the info on the columns of the dataframe again and see the newly created date column.\n",
    "\n",
    "<details>\n",
    "    <summary>Click to see the answer...</summary>\n",
    "\n",
    "![](https://pbs.twimg.com/media/GnLAF2FXkAAPIVQ?format=png&name=small)\n",
    "</details>"
   ]
  },
  {
   "cell_type": "markdown",
   "metadata": {
    "deletable": false,
    "editable": false,
    "id": "0z0hoeoNSoR6"
   },
   "source": [
    "**Your Turn**: Now ok."
   ]
  },
  {
   "cell_type": "code",
   "execution_count": null,
   "metadata": {
    "id": "PSAfqf6SS_Wx"
   },
   "outputs": [],
   "source": [
    "# freehand code\n"
   ]
  },
  {
   "cell_type": "markdown",
   "metadata": {
    "deletable": false,
    "editable": false,
    "id": "ukVT4aLfSBXn"
   },
   "source": [
    "\n",
    "\n",
    "**Explanation**: *You have created a new binary column for each category. If a data point belongs to a category, the corresponding column is assigned a value of True, otherwise, it's False*."
   ]
  },
  {
   "cell_type": "markdown",
   "metadata": {
    "deletable": false,
    "editable": false,
    "id": "17HI7518TB92"
   },
   "source": [
    "### Goal 14: Working with lots of categorical variables.\n",
    "\n",
    "Before we looked at a column (Rural) and said whether it was false (0) or true (1). But what happens if we have more than 2 categories? When we have many categories, we are going to switch it up where each category has it’s own separate column, what we call dummy columns. This will make it easier to work with.\n"
   ]
  },
  {
   "cell_type": "markdown",
   "metadata": {
    "deletable": false,
    "editable": false,
    "id": "xcI2uC-CTCBL",
    "jp-MarkdownHeadingCollapsed": true
   },
   "source": [
    "#### Blockly"
   ]
  },
  {
   "cell_type": "markdown",
   "metadata": {
    "deletable": false,
    "editable": false,
    "id": "LXh4tkMgTCDu"
   },
   "source": [
    "**Step 1 - Getting get_dummies from pandas**\n",
    "\n",
    "To get started with the transformation. What’s great is that Pandas has a get_dummies method to make it easy. Let’s bring that in.\n",
    "From the Variable menu, get a Do block for the **pd** variable. With that select the **get_dummies** method."
   ]
  },
  {
   "cell_type": "markdown",
   "metadata": {
    "deletable": false,
    "editable": false,
    "id": "Zxcxhy_UTIlo"
   },
   "source": [
    "**Step 2 - Telling Pandas what Data Source to Use**\n",
    "\n",
    "Now that we’ve told pandas we want to create some dummy variables, let’s tell it what data source we want to work with. In this case, we will be using **data**\n",
    "\n",
    "As the first parameter connect the variable **data**. And for the second parameter connect"
   ]
  },
  {
   "cell_type": "markdown",
   "metadata": {
    "deletable": false,
    "editable": false,
    "id": "1jNevCqYTIpu"
   },
   "source": [
    "**Step 3 - Telling Pandas what Columns to Find the Categories**\n",
    "\n",
    "So which columns have all the categories we want to break out?\n",
    "\n",
    "Drag a Quote block and type **Energy_Source**.   \n"
   ]
  },
  {
   "cell_type": "markdown",
   "metadata": {
    "deletable": false,
    "editable": false,
    "id": "w7RXHxL4TIsM"
   },
   "source": [
    "**Step 4 - Add the new columns to the original dataframe**\n",
    "\n",
    "So far we’ve separated out the categories into a new column. Now let’s add them back into the dataframe (**data**) so it’s all in one place.\n",
    "\n",
    "From the Variable meun, drag a Set block for the data variable, and connect it to the **get_dummies** function block."
   ]
  },
  {
   "cell_type": "markdown",
   "metadata": {
    "deletable": false,
    "editable": false,
    "id": "_50P2JX5TIuw"
   },
   "source": [
    "\n",
    "**Step 6 - Print the variable**\n",
    "\n",
    "Let’s see it now by ‘printing’ and showing our work.From the Variable meun, drag the data variable.\n",
    "\n",
    "<details>\n",
    "    <summary>Click to see the answer...</summary>\n",
    "\n",
    "![](\n",
    "https://pbs.twimg.com/media/Grf97gHWkAEtsRX?format=jpg&name=small)\n",
    "</details>\n",
    "\n"
   ]
  },
  {
   "cell_type": "code",
   "execution_count": null,
   "metadata": {
    "id": "7098ZGywT4DS"
   },
   "outputs": [],
   "source": [
    "# blockly code\n"
   ]
  },
  {
   "cell_type": "markdown",
   "metadata": {
    "deletable": false,
    "editable": false,
    "id": "bG5GIfXPT5Nu",
    "jp-MarkdownHeadingCollapsed": true
   },
   "source": [
    "#### Freehand"
   ]
  },
  {
   "cell_type": "markdown",
   "metadata": {
    "deletable": false,
    "editable": false,
    "id": "qA524WdFT5RD"
   },
   "source": [
    "**Step 1 - Getting get_dummies from pandas**\n",
    "\n",
    "To get started with the transformation. What’s great is that Pandas has a **get_dummies** method to make it easy. Let’s bring that in.\n",
    "\n",
    "From the Variable meun, get a Do block for the **pd** variable. With that select the **get_dummies** method. As the first parameter connect the variable data. And for the second parameter connect a Quote block and type Energy_Source.  \n",
    "\n",
    "`data = pd.get_dummies( )`"
   ]
  },
  {
   "cell_type": "markdown",
   "metadata": {
    "deletable": false,
    "editable": false,
    "id": "-N5DZLbKT5Tz"
   },
   "source": [
    "\n",
    "**Step 2 - Telling Pandas what Data Source to Use**\n",
    "\n",
    "Now that we’ve told pandas we want to create some dummy variables, let’s tell it what data source we want to work with. In this case, we will be using data\n",
    "\n",
    "The get_dummies method with change the dataframe adding the new columns. Let’s save this updated dataframe into the original variable, **data**.\n",
    "\n",
    "`data = pd.get_dummies(data,columns= ['Energy_Source'])`"
   ]
  },
  {
   "cell_type": "markdown",
   "metadata": {
    "deletable": false,
    "editable": false,
    "id": "QUofScfFT5Wd"
   },
   "source": [
    "**Step 3 - Print the updated dataframe**\n",
    "\n",
    "Let’s print the updated dataframe with the dummy columns.\n",
    "\n",
    "<details>\n",
    "    <summary>Click to see the answer...</summary>\n",
    "\n",
    "![](https://pbs.twimg.com/media/Grf943oXkAAcXAU?format=jpg&name=small)\n",
    "</details>"
   ]
  },
  {
   "cell_type": "markdown",
   "metadata": {
    "deletable": false,
    "editable": false,
    "id": "EK_LYN5eT5ZB"
   },
   "source": [
    "**Your Turn**: Now ok."
   ]
  },
  {
   "cell_type": "code",
   "execution_count": null,
   "metadata": {
    "id": "kUxWv1tAUUAp"
   },
   "outputs": [],
   "source": [
    "# freehand code\n"
   ]
  },
  {
   "cell_type": "markdown",
   "metadata": {
    "deletable": false,
    "editable": false,
    "id": "U1xjX6ZTT5bo"
   },
   "source": [
    "\n",
    "**Explanation**: *pd.get_dummies() is a powerful function in Pandas used to perform one-hot encoding on categorical variables. It converts categorical data into numerical format, suitable for machine learning algorithms*."
   ]
  },
  {
   "cell_type": "markdown",
   "metadata": {
    "deletable": false,
    "editable": false,
    "id": "l7Mf55nfUX3b"
   },
   "source": [
    "\n",
    "### Goal 15: Removing the unnecessary columns\n",
    "\n",
    "With the dataframe fully cleaned and with new columns created, let’s remove all the unnecessary columns. And prepare to use this clean version of the dataset to perform a model training."
   ]
  },
  {
   "cell_type": "markdown",
   "metadata": {
    "deletable": false,
    "editable": false,
    "id": "Mcy4NlCFUX9I",
    "jp-MarkdownHeadingCollapsed": true
   },
   "source": [
    "#### Blockly"
   ]
  },
  {
   "cell_type": "markdown",
   "metadata": {
    "deletable": false,
    "editable": false,
    "id": "KOtbz1cPUYCf"
   },
   "source": [
    "\n",
    "\n",
    "\n",
    "**Step 1 - Drop the unnecessary columns**\n",
    "\n",
    "Now that we’ve done the conversion of our columns, we can remove the original ones so we don’t get confused. This way we only keep what we are going to work with\n",
    "\n",
    "From the Variables menu, drag a Do block for the **data** variable. With that, select the **drop** method.  "
   ]
  },
  {
   "cell_type": "markdown",
   "metadata": {
    "deletable": false,
    "editable": false,
    "id": "Lu8abQ0hUYFJ"
   },
   "source": [
    "**Step 2 - Tell what columns we want to drop**\n",
    "\n",
    "Now that we have the drop method ready to go, let’s tell it what we want to get rid of. In this case, we’ll get rid of the ‘Contaminated’\n",
    "\n",
    "From the List menu, get a Create List With block, with 6 entries. For each one of those, get a Quote block (from Text menu), and type the following columns names: Region_Type', 'Facility_Age', 'Annual_Production', 'Report_Date', 'Certification_Level', 'New_Report_Date’. Connect this list as the first parameter of the drop operation."
   ]
  },
  {
   "cell_type": "markdown",
   "metadata": {
    "deletable": false,
    "editable": false,
    "id": "HwMH5sCoUYIV"
   },
   "source": [
    "\n",
    "**Step 3 - Run the command to drop the column**\n",
    "\n",
    "The command to drop the column is **axis=1**, so let’s add that to our code.\n",
    "\n",
    "Get a Freehand block and type, **axis=1**. Connect it as the second parameter of the drop operation."
   ]
  },
  {
   "cell_type": "markdown",
   "metadata": {
    "deletable": false,
    "editable": false,
    "id": "D7Qaa3ENUhli"
   },
   "source": [
    "**Step 4 -  Overwriting our dataframe so it only has the variables/columns that we need**\n",
    "\n",
    "In the original **data** dataframe, we had a bunch of extra stuff that we cleaned up. Let’s resave data with only the columns that we want to work with.\n",
    "\n",
    "From the Variables menu, bring in the **data** variable. Get the Set block of it, and connect to the drop block.\n"
   ]
  },
  {
   "cell_type": "markdown",
   "metadata": {
    "deletable": false,
    "editable": false,
    "id": "c6ZRmQynUho2"
   },
   "source": [
    "**Step 5 - Print the updated dataset**\n",
    "\n",
    "Drag the **data** variable to the canvas so it will print it on the screen."
   ]
  },
  {
   "cell_type": "markdown",
   "metadata": {
    "deletable": false,
    "editable": false,
    "id": "xYl2XOX7UhsQ"
   },
   "source": [
    "**Step 6 - Connect the blocks to run the code**\n",
    "\n",
    "Connect the blocks and run the code!\n",
    "\n",
    "<details>\n",
    "    <summary>Click to see the answer...</summary>\n",
    "\n",
    "![](https://pbs.twimg.com/media/GnLEMitWEAAC6_g?format=png&name=small)\n",
    "</details>"
   ]
  },
  {
   "cell_type": "code",
   "execution_count": null,
   "metadata": {
    "id": "XbLLBXKdVFHG"
   },
   "outputs": [],
   "source": [
    "# blockly code\n"
   ]
  },
  {
   "cell_type": "markdown",
   "metadata": {
    "deletable": false,
    "editable": false,
    "id": "tV9rK2LLVNzX",
    "jp-MarkdownHeadingCollapsed": true
   },
   "source": [
    "#### Freehand"
   ]
  },
  {
   "cell_type": "markdown",
   "metadata": {
    "deletable": false,
    "editable": false,
    "id": "3hliqtjvVN6Z"
   },
   "source": [
    "\n",
    "**Step 1 - Drop the unnecessary columns**\n",
    "\n",
    "Now that we’ve done the conversion of our columns, we can remove the original ones so we don’t get confused. This way we only keep what we are going to work with\n",
    "\n",
    "`data.drop( )`"
   ]
  },
  {
   "cell_type": "markdown",
   "metadata": {
    "deletable": false,
    "editable": false,
    "id": "hDz_Dm6nVN9T"
   },
   "source": [
    "**Step 2 - Tell what columns we want to drop**\n",
    "\n",
    "Now that we have the drop method ready to go, let’s tell it what we want to get rid of. In this case, we’ll get rid of the ‘Contaminated’\n",
    "\n",
    "`data.drop(['Region_Type', 'Facility_Age', 'Annual_Production', 'Report_Date', 'Certification_Level', 'New_Report_Date'])`"
   ]
  },
  {
   "cell_type": "markdown",
   "metadata": {
    "deletable": false,
    "editable": false,
    "id": "8jK0UZ_7VOAB"
   },
   "source": [
    "**Step 3 - Run the command to drop the column**\n",
    "\n",
    "The command to drop the column is **axis=1**, so let’s add that to our code.\n",
    "\n",
    "`data.drop(['Region_Type', 'Facility_Age', 'Annual_Production', 'Report_Date', 'Certification_Level', 'New_Report_Date'],axis=1)`"
   ]
  },
  {
   "cell_type": "markdown",
   "metadata": {
    "deletable": false,
    "editable": false,
    "id": "GXy35FLzVOCl"
   },
   "source": [
    "**Step 4 - Overwriting our dataframe so it only has the variables/columns that we need**  \n",
    "\n",
    "In the original data dataframe, we had a bunch of extra stuff that we cleaned up. Let’s resave data with only the columns that we want to work with.\n",
    "\n",
    "Now with the cleaned dataset let’s save it to the original variable, **data**.\n",
    "\n",
    "`data = data.drop(['Region_Type', 'Facility_Age', 'Annual_Production', 'Report_Date', 'Certification_Level', 'New_Report_Date'],axis=1)`"
   ]
  },
  {
   "cell_type": "markdown",
   "metadata": {
    "deletable": false,
    "editable": false,
    "id": "1Z4KMkX6VOFQ"
   },
   "source": [
    "\n",
    "**Step 5 - Print the updated dataset**\n",
    "\n",
    "Let’s print our final dataframe\n",
    "\n",
    "<details>\n",
    "    <summary>Click to see the answer...</summary>\n",
    "\n",
    "![](https://pbs.twimg.com/media/GnLFHx4WEAA2lME?format=jpg&name=small)\n",
    "</details>"
   ]
  },
  {
   "cell_type": "markdown",
   "metadata": {
    "deletable": false,
    "editable": false,
    "id": "CCWFEdJrVOH0"
   },
   "source": [
    "**Your Turn**: Give it a try—cleaning up your dataset is like clearing off your desk so you can focus and do your best work with just the important stuff!"
   ]
  },
  {
   "cell_type": "code",
   "execution_count": null,
   "metadata": {
    "id": "uc6UYOXeV1_X"
   },
   "outputs": [],
   "source": [
    "# freehand code\n"
   ]
  },
  {
   "cell_type": "markdown",
   "metadata": {
    "deletable": false,
    "editable": false,
    "id": "pn6FjOmyVOLQ"
   },
   "source": [
    "\n",
    "\n",
    "**Explanation**: *You have removed the columns named 'Region_Type', 'Facility_Age', 'Annual_Production', 'Report_Date', 'Certification_Level', and 'New_Report_Date' from the DataFrame called data. The axis=1 argument specifies that we are dropping columns, not rows.  The result is then assigned back to the data variable, effectively updating the DataFrame to exclude those columns.  The line data then displays the modified DataFrame*."
   ]
  },
  {
   "cell_type": "markdown",
   "metadata": {
    "deletable": false,
    "editable": false,
    "id": "lz4URmmQV48j"
   },
   "source": [
    "### Goal 16: Define the label column.\n",
    "\n",
    "Now that we’ve removed the gotten rid of the extra columns we don’t need, let’s put the thing we are trying to predict in a separate variable. That will make it easier for us to work with in the future.\n",
    "\n"
   ]
  },
  {
   "cell_type": "markdown",
   "metadata": {
    "deletable": false,
    "editable": false,
    "id": "UYSTFsMUV5AW",
    "jp-MarkdownHeadingCollapsed": true
   },
   "source": [
    "#### Blockly"
   ]
  },
  {
   "cell_type": "markdown",
   "metadata": {
    "deletable": false,
    "editable": false,
    "id": "CGgRulp5V5Jm"
   },
   "source": [
    "\n",
    "**Step 1 - Tell it what dataset and variable to work with**\n",
    "\n",
    "So what are we going to predict? We are going to use a bunch of other variables to predict Emission_Offset from the data dataset\n",
    "\n",
    "From the List menu, get a dictVariable for the **data** variable. Get also a Quote block and type, **Emission_Offset**. Finally, connect them to each other."
   ]
  },
  {
   "cell_type": "markdown",
   "metadata": {
    "deletable": false,
    "editable": false,
    "id": "nTXkInG8V5NC"
   },
   "source": [
    "**Step 2 -  Saving our predicted variable in its own new variable**\n",
    "\n",
    "Sometimes when we do math, people will often predict variable and call it Y. Based on a bunch of other variables, let’s try to predict Emissions_Offset and put that prediction into a new variable called **Y**\n",
    "\n",
    "From the Variables menu, create a new variable, Y. Get the Set block of it, and connect to the data[“Emission_Offset”] block."
   ]
  },
  {
   "cell_type": "markdown",
   "metadata": {
    "deletable": false,
    "editable": false,
    "id": "TGSxAOLgV5P0"
   },
   "source": [
    "**Step 3 -  Print the variable**\n",
    "\n",
    "Now let’s see what all the stuff we put in Y looks like.\n",
    "From the Variables menu, drag the block Y.\n",
    "\n",
    "<details>\n",
    "    <summary>Click to see the answer...</summary>\n",
    "\n",
    "![](https://pbs.twimg.com/media/GnOUeKeWoAAjESL?format=png&name=small)\n",
    "</details>"
   ]
  },
  {
   "cell_type": "code",
   "execution_count": null,
   "metadata": {
    "id": "3d1UKdbrWgUk"
   },
   "outputs": [],
   "source": [
    "# blockly code\n"
   ]
  },
  {
   "cell_type": "markdown",
   "metadata": {
    "deletable": false,
    "editable": false,
    "id": "7y0aY9GfV5Sj",
    "jp-MarkdownHeadingCollapsed": true
   },
   "source": [
    "#### Freehand"
   ]
  },
  {
   "cell_type": "markdown",
   "metadata": {
    "deletable": false,
    "editable": false,
    "id": "yPDqD7TaV5VV"
   },
   "source": [
    "**Step 1 - Tell it what dataset and variable to work with**\n",
    "\n",
    "So what are we going to predict? We are going to use a bunch of other variables to predict Emission_Offset from the data dataset\n",
    "\n",
    "`data['Emissions_Offset']`"
   ]
  },
  {
   "cell_type": "markdown",
   "metadata": {
    "deletable": false,
    "editable": false,
    "id": "8EVmH-S4V5YA"
   },
   "source": [
    "\n",
    "**Step 2 -  Saving our predicted variable in its own new variable**\n",
    "\n",
    "Sometimes when we do math, people will often predict variables and call it Y. Based on a bunch of other variables, let’s try to predict Emissions_Offset and put that prediction into a new variable called **Y**\n",
    "\n",
    "`Y = data['Emissions_Offset']`\n",
    "\n"
   ]
  },
  {
   "cell_type": "markdown",
   "metadata": {
    "deletable": false,
    "editable": false,
    "id": "8R2LKuAQWioX"
   },
   "source": [
    "\n",
    "**Step 3 -  Print the variable**\n",
    "\n",
    "Now let’s see what all the stuff we put in Y looks like.\n",
    "\n",
    "<details>\n",
    "    <summary>Click to see the answer...</summary>\n",
    "\n",
    "![](https://pbs.twimg.com/media/GnOVGyfW4AAI_i4?format=png&name=small)\n",
    "</details>"
   ]
  },
  {
   "cell_type": "markdown",
   "metadata": {
    "deletable": false,
    "editable": false,
    "id": "0awKVnxDWiri"
   },
   "source": [
    "\n",
    "\n",
    "**Your Turn**: We’re going to guess the Emission_Offset using other info from our data, so let’s save it in a new variable called Y and see what it looks like on the screen!\n"
   ]
  },
  {
   "cell_type": "code",
   "execution_count": null,
   "metadata": {
    "id": "WSPQyA0HW8b9"
   },
   "outputs": [],
   "source": [
    "# freehand code\n"
   ]
  },
  {
   "cell_type": "markdown",
   "metadata": {
    "deletable": false,
    "editable": false,
    "id": "NRxZYUmvWiuh"
   },
   "source": [
    "\n",
    "**Explanation**: *You have created a new variable Y that holds the data from the 'Emissions_Offset' column of the DataFrame data*."
   ]
  },
  {
   "cell_type": "markdown",
   "metadata": {
    "deletable": false,
    "editable": false,
    "id": "bjjAVMG5W_OL"
   },
   "source": [
    "### Goal 17: Define the Feature Columns\n",
    "\n",
    "Save the other columns, the feature one, to prepare for the model training."
   ]
  },
  {
   "cell_type": "markdown",
   "metadata": {
    "deletable": false,
    "editable": false,
    "id": "rWYU4H7sW_R0",
    "jp-MarkdownHeadingCollapsed": true
   },
   "source": [
    "#### Blockly"
   ]
  },
  {
   "cell_type": "markdown",
   "metadata": {
    "deletable": false,
    "editable": false,
    "id": "Q3_z-Gy3W_Un"
   },
   "source": [
    "\n",
    "**Step 1 - Drop the unnecessary columns**\n",
    "\n",
    "Now that we’ve done the conversion of our columns, we can remove the original ones so we don’t get confused. This way we only keep what we are going to work with\n",
    "\n",
    "From the Variables menu, drag a Do block for the **data** variable. With that, select the **drop** method.  "
   ]
  },
  {
   "cell_type": "markdown",
   "metadata": {
    "deletable": false,
    "editable": false,
    "id": "x8kBjfbkW_XS"
   },
   "source": [
    "**Step 2 - Tell what columns we want to drop**\n",
    "\n",
    "Now that we have the drop method ready to go, let’s tell it what we want to get rid of. In this case, we’ll get rid of the Emission_Offset\n",
    "\n",
    "From the Text menu, get a Quote block and type **‘Emission_Offset’’**. Connect this list as the first parameter of the drop operation.\n"
   ]
  },
  {
   "cell_type": "markdown",
   "metadata": {
    "deletable": false,
    "editable": false,
    "id": "eRho6k-wW_m3"
   },
   "source": [
    "**Step 3 - Run the command to drop the column**\n",
    "\n",
    "The command to drop the column is **axis=1**, so let’s add that to our code.\n",
    "\n",
    "Get a Freehand block and type, **axis=1**. Connect it as the second parameter of the drop operation."
   ]
  },
  {
   "cell_type": "markdown",
   "metadata": {
    "deletable": false,
    "editable": false,
    "id": "Z04Xj3RuW_p3"
   },
   "source": [
    "**Step 4 -  Saving our feature columns in its own new variable**\n",
    "\n",
    "Earlier we included a bunch of columns we will use to predict Emissions_Offset. Let’s put them all into a single variable so it’s easier to work with. We’ll call that X\n",
    "\n",
    "From the Variables menu, create a new variable, **X**. Get the Set block of it, and connect to the drop block."
   ]
  },
  {
   "cell_type": "markdown",
   "metadata": {
    "deletable": false,
    "editable": false,
    "id": "91z1d0G9Xjbc"
   },
   "source": [
    "**Step 5 - Print the updated dataset**\n",
    "\n",
    "Drag the **data** variable to the canvas so it will print it on the screen.\n",
    "\n"
   ]
  },
  {
   "cell_type": "markdown",
   "metadata": {
    "deletable": false,
    "editable": false,
    "id": "6VOnBB5UWiyS"
   },
   "source": [
    "\n",
    "**Step 6 - Connect the blocks to run the code**\n",
    "\n",
    "Connect the blocks and run the code!\n",
    "\n",
    "<details>\n",
    "    <summary>Click to see the answer...</summary>\n",
    "\n",
    "![](https://pbs.twimg.com/media/GnOVlRVWoAAxIQr?format=png&name=small)\n",
    "</details>\n",
    "\n",
    "\n",
    "\n",
    "\n"
   ]
  },
  {
   "cell_type": "code",
   "execution_count": null,
   "metadata": {
    "id": "evqUreMjXwdh"
   },
   "outputs": [],
   "source": [
    "# blockly code\n"
   ]
  },
  {
   "cell_type": "markdown",
   "metadata": {
    "deletable": false,
    "editable": false,
    "id": "avls64B9Xxou",
    "jp-MarkdownHeadingCollapsed": true
   },
   "source": [
    "#### Freehand"
   ]
  },
  {
   "cell_type": "markdown",
   "metadata": {
    "deletable": false,
    "editable": false,
    "id": "Rn1i2f_bXxr7"
   },
   "source": [
    "\n",
    "**Step 1 - Drop the unnecessary columns**\n",
    "\n",
    "Now that we’ve done the conversion of our columns, we can remove the original ones so we don’t get confused. This way we only keep what we are going to work with\n",
    "\n",
    "As the first pamater, get a Quote block and inform the column to be dropped, **Emission_Offset**. And as the second parameter, get a freehand block and type, **axis=1**.\n",
    "\n",
    "`data.drop('Emissions_Offset',axis=1)`"
   ]
  },
  {
   "cell_type": "markdown",
   "metadata": {
    "deletable": false,
    "editable": false,
    "id": "oSqi2UlFXxu2"
   },
   "source": [
    "**Step 2 -  Tell what columns we want to drop**\n",
    "\n",
    "Now that we have the drop method ready to go, let’s tell it what we want to get rid of. In this case, we’ll get rid of the **Emission_Offset**\n",
    "\n",
    "`X = data.drop('Emissions_Offset',axis=1)`"
   ]
  },
  {
   "cell_type": "markdown",
   "metadata": {
    "deletable": false,
    "editable": false,
    "id": "ccNCdQDJXxxx"
   },
   "source": [
    "**Step 3 -  Print the updated dataset**\n",
    "\n",
    "Print the label saved on the X variable.\n",
    "\n",
    "<details>\n",
    "    <summary>Click to see the answer...</summary>\n",
    "\n",
    "![](https://pbs.twimg.com/media/GnOWedKXIAAs7kw?format=png&name=small)\n",
    "</details>"
   ]
  },
  {
   "cell_type": "markdown",
   "metadata": {
    "deletable": false,
    "editable": false,
    "id": "30ZmgoVbXx0y"
   },
   "source": [
    "\n",
    "**Your Turn**: Let’s clean up our data by dropping the extra stuff we don’t need, so it’s easier to focus on what really matters and watch your code work like magic!"
   ]
  },
  {
   "cell_type": "code",
   "execution_count": null,
   "metadata": {
    "id": "Y6o9ZWIHYNRo"
   },
   "outputs": [],
   "source": [
    "# freehand code\n"
   ]
  },
  {
   "cell_type": "markdown",
   "metadata": {
    "deletable": false,
    "editable": false,
    "id": "jkzph0YXXx3z"
   },
   "source": [
    "\n",
    "\n",
    "**Explanation**: *You have created a new variable X which is a copy of the DataFrame data but with the 'Emissions_Offset' column removed*."
   ]
  },
  {
   "cell_type": "markdown",
   "metadata": {
    "deletable": false,
    "editable": false,
    "id": "twk8jLS_Xx6u"
   },
   "source": [
    "\n",
    "### Goal 18: Import the linear model library.\n",
    "\n",
    "Let’s bring in a library/package to help with the linear regression that will help us with our analysis and other data science tasks.\n",
    "\n"
   ]
  },
  {
   "cell_type": "markdown",
   "metadata": {
    "deletable": false,
    "editable": false,
    "id": "MHOqA9b_Xx9s",
    "jp-MarkdownHeadingCollapsed": true
   },
   "source": [
    "#### Blockly"
   ]
  },
  {
   "cell_type": "markdown",
   "metadata": {
    "deletable": false,
    "editable": false,
    "id": "_Se1u3N5YQiK"
   },
   "source": [
    "\n",
    "**Step 1 - Starting the import**\n",
    "\n",
    "First, we need to set up a “command” to tell the computer what to do. In this case, “command” is to “import” to bring the add-on package in.\n",
    "\n",
    "Bring in the IMPORT menu, which can be helpful to bring in other data tools. In this case, we're bringing in the **import** block."
   ]
  },
  {
   "cell_type": "markdown",
   "metadata": {
    "deletable": false,
    "editable": false,
    "id": "0p5sxRxmYQli"
   },
   "source": [
    "**Step 2 - Telling what library to import**\n",
    "\n",
    "In the text area, we type the name of the library we want to import. A library is like an extra thing we bring in to give us more coding abilities. In our case, we will type out **sklearn.linear_model**, which will bring in some cool data manipulation features."
   ]
  },
  {
   "cell_type": "markdown",
   "metadata": {
    "deletable": false,
    "editable": false,
    "id": "wVNw7fuZYgtM"
   },
   "source": [
    "\n",
    "**Step 3 - Renaming the library so it’s easy to remember**\n",
    "\n",
    "Once you are done, put the **import** and **package** together in a single variable. This handy feature helps cut down on all the typing later on. You can call it whatever is easiest for you to remember. In the example below, we’ve put everything into lm, and we type it in the open area."
   ]
  },
  {
   "cell_type": "markdown",
   "metadata": {
    "deletable": false,
    "editable": false,
    "id": "3wHgrsIlYQof"
   },
   "source": [
    "\n",
    "\n",
    "\n",
    "\n",
    "\n",
    "**Step 4 - Connect the blocks to run the code**\n",
    "\n",
    "Connect the blocks and run the code!\n",
    "\n",
    "<details>\n",
    "    <summary>Click to see the answer...</summary>\n",
    "\n",
    "![](https://pbs.twimg.com/media/GbFDOz7XoAAVLtr?format=png&name=small)\n",
    "</details>\n",
    "\n"
   ]
  },
  {
   "cell_type": "code",
   "execution_count": null,
   "metadata": {
    "id": "1w84kvPqYqh5"
   },
   "outputs": [],
   "source": [
    "# blockly code\n"
   ]
  },
  {
   "cell_type": "markdown",
   "metadata": {
    "deletable": false,
    "editable": false,
    "id": "I0Z33_WxYsJq",
    "jp-MarkdownHeadingCollapsed": true
   },
   "source": [
    "#### Freehand"
   ]
  },
  {
   "cell_type": "markdown",
   "metadata": {
    "deletable": false,
    "editable": false,
    "id": "QLNmwusMYsT5"
   },
   "source": [
    "\n",
    "**Step 1 - Starting the import**\n",
    "\n",
    "First, we need to set up a “command” to tell the computer what to do. In this case, “command” is to **“import”** to bring the add-on package in."
   ]
  },
  {
   "cell_type": "markdown",
   "metadata": {
    "deletable": false,
    "editable": false,
    "id": "vgv90_j8YsXb"
   },
   "source": [
    "**Step 2 - Telling what library to import**\n",
    "\n",
    "In the text area, we type the name of the library we want to import. A library is like an extra thing we bring in to give us more coding abilities. In our case, we will type out **sklearn.linear_model**, which will bring in some cool data manipulation features."
   ]
  },
  {
   "cell_type": "markdown",
   "metadata": {
    "deletable": false,
    "editable": false,
    "id": "vALAJhcuYsaj"
   },
   "source": [
    "**Step 3 - Renaming the library so it’s easy to remember**\n",
    "\n",
    "Once you are done, put the ‘import’ and ‘package’ together in a single variable. This handy feature helps cut down on all the typing later on. Feel free to use whatever name you want that will help you remember it later on. In the example below, we’ve put everything into **lm**."
   ]
  },
  {
   "cell_type": "markdown",
   "metadata": {
    "deletable": false,
    "editable": false,
    "id": "E8rdV9oGYsdf"
   },
   "source": [
    "**Step 4 - Run the code**\n",
    "\n",
    "Hit ‘control’ and ‘enter’ at the same time to run the code!\n",
    "\n",
    "<details>\n",
    "    <summary>Click to see the answer...</summary>\n",
    "\n",
    "![](https://pbs.twimg.com/media/GbFDMCWW8AABSiy?format=png&name=small)\n",
    "</details>"
   ]
  },
  {
   "cell_type": "markdown",
   "metadata": {
    "deletable": false,
    "editable": false,
    "id": "XftLeZVJYsgd"
   },
   "source": [
    "**Your Turn**: Now it’s your turn! We’re going to dive into the sklearn.linear_model package, which helps us with some really cool data science things. First, let’s import the package and assign it to the variable “lm” to make it easier to use throughout our notebook."
   ]
  },
  {
   "cell_type": "code",
   "execution_count": null,
   "metadata": {
    "id": "rOqmcV2NaiEi"
   },
   "outputs": [],
   "source": [
    "# freehand code\n"
   ]
  },
  {
   "cell_type": "markdown",
   "metadata": {
    "deletable": false,
    "editable": false,
    "id": "ZbYEfc5wYsjl"
   },
   "source": [
    "**Explanation**: *With the scikit-learn library, specifically the linear model module, which includes methods for creating linear regression models*."
   ]
  },
  {
   "cell_type": "markdown",
   "metadata": {
    "deletable": false,
    "editable": false,
    "id": "05QLxq6sak9o"
   },
   "source": [
    "\n",
    "### Goal 19: Setting up our linear model.\n",
    "\n",
    "Let’s create a model to help with the training that we will do for our dataset.  \n",
    "\n"
   ]
  },
  {
   "cell_type": "markdown",
   "metadata": {
    "deletable": false,
    "editable": false,
    "id": "cMtNai6QalBo",
    "jp-MarkdownHeadingCollapsed": true
   },
   "source": [
    "#### Blockly"
   ]
  },
  {
   "cell_type": "markdown",
   "metadata": {
    "deletable": false,
    "editable": false,
    "id": "m0E5oJs4alFC"
   },
   "source": [
    "\n",
    "**Step 1 - Create and assign a variable**\n",
    "\n",
    "Now that we’re all set with our new package to help us to do cool things, let’s bring the data into a variable and call it **regr**. Think of it as a digital spreadsheet with much more power to analyze and manipulate the data!\n",
    "\n",
    "In Blockly, bring in the VARIABLES menu. On the \"Variables\" menu, click Create Variable, type a name for our model, **regr**. Then, drag a \"SET\" block to the workspace for the created variable. This block allows us to create a new variable and assign a value to it"
   ]
  },
  {
   "cell_type": "markdown",
   "metadata": {
    "deletable": false,
    "editable": false,
    "id": "8VV_hrynalIb"
   },
   "source": [
    "**Step 2 - Create the linear regression model**\n",
    "\n",
    "Using the neighbors library, we call the **LinearRegressor**() to create the linear regression model.\n",
    "\n",
    "From the Variable menu, drag a Create block for the lm variable. On the create list box select the option LinearRegressor. This specifies the type (class) of object we want to create, which is the KNeighborsRegressor from the neighbors module.\n",
    "\n",
    "Get a Create block for the lm variable from the Variables menu. With that, a new object of the model, LinearRegressor, is created. The LinearRegressor is a type of regression model that uses one specific number to predict one other number."
   ]
  },
  {
   "cell_type": "markdown",
   "metadata": {
    "deletable": false,
    "editable": false,
    "id": "lPP0lgUNYsmj"
   },
   "source": [
    "**Step 3 - Store the linear regressor model in a variable**\n",
    "\n",
    "We can now connect the **regr** variable with the **LinearRegressor** model.\n"
   ]
  },
  {
   "cell_type": "markdown",
   "metadata": {
    "deletable": false,
    "editable": false,
    "id": "_PpVBUIBYspl"
   },
   "source": [
    "**Step 4 - Connect the blocks to run the code**\n",
    "\n",
    "Connect the blocks and run the code!\n",
    "\n",
    "\n",
    "<details>\n",
    "    <summary>Click to see the answer...</summary>\n",
    "\n",
    "![](https://pbs.twimg.com/media/GbFD3KsXwAAqIWJ?format=png&name=small)\n",
    "</details>"
   ]
  },
  {
   "cell_type": "code",
   "execution_count": null,
   "metadata": {
    "id": "NW973y1ObQsh"
   },
   "outputs": [],
   "source": [
    "# blockly code\n"
   ]
  },
  {
   "cell_type": "markdown",
   "metadata": {
    "deletable": false,
    "editable": false,
    "id": "bfVaGcSPbSKj",
    "jp-MarkdownHeadingCollapsed": true
   },
   "source": [
    "#### Freehand\n"
   ]
  },
  {
   "cell_type": "markdown",
   "metadata": {
    "deletable": false,
    "editable": false,
    "id": "BEykdZDnbSNx"
   },
   "source": [
    "**Step 1 - Create the linear regression model**\n",
    "\n",
    "Using the linear model library, we call the **LinearRegression**() method\n",
    "\n",
    "`lm.LinearRegression()`"
   ]
  },
  {
   "cell_type": "markdown",
   "metadata": {
    "deletable": false,
    "editable": false,
    "id": "uJoxr0c1bSRD"
   },
   "source": [
    "**Step 2  - Store the regression model in a variable**\n",
    "\n",
    "Now that we’re all set with our new package to help us to do cool things, let’s bring the data into a variable called **regr**. Think of it as a digital spreadsheet with much more power to analyze and manipulate the data!\n",
    "\n",
    "Just like we did before, let’s type out a variable name. Rather than type out the full file name for our data, this easy to remember name will hold the data we bring in.\n",
    "\n",
    "`regr = lm.LinearRegression()`"
   ]
  },
  {
   "cell_type": "markdown",
   "metadata": {
    "deletable": false,
    "editable": false,
    "id": "PH1kQQ3KbSUR"
   },
   "source": [
    "**Step 3 - Run the code**\n",
    "\n",
    "Hit ‘control’ and ‘enter’ at the same time to run the code!\n",
    "\n",
    "\n",
    "<details>\n",
    "    <summary>Click to see the answer...</summary>\n",
    "\n",
    "![](https://pbs.twimg.com/media/GbFD57vWsAAOizJ?format=png&name=small)\n",
    "</details>\n"
   ]
  },
  {
   "cell_type": "markdown",
   "metadata": {
    "deletable": false,
    "editable": false,
    "id": "YuU8JpnvbSXj"
   },
   "source": [
    "**Your Turn**: Now give it a go and see what you get!\n"
   ]
  },
  {
   "cell_type": "code",
   "execution_count": null,
   "metadata": {
    "id": "SaiF7jdkcA05"
   },
   "outputs": [],
   "source": [
    "# freehand code\n"
   ]
  },
  {
   "cell_type": "markdown",
   "metadata": {
    "deletable": false,
    "editable": false,
    "id": "Wp_MzngrbScZ"
   },
   "source": [
    "\n",
    "\n",
    "\n",
    "\n",
    "\n",
    "**Explanation**:  *You have created a linear regression model. By creating this model, we're preparing to analyze how one variable can be predicted by a bunch of other ones*"
   ]
  },
  {
   "cell_type": "markdown",
   "metadata": {
    "deletable": false,
    "editable": false,
    "id": "NjesxoYEcCYE"
   },
   "source": [
    "### Goal 20: Train and score the regressor model.\n",
    "\n",
    "Now that we’ve brought in our linear regression model, let’s train the model to see how it will learn from the data points that we have in the file.\n"
   ]
  },
  {
   "cell_type": "markdown",
   "metadata": {
    "deletable": false,
    "editable": false,
    "id": "53jlCMgtcCbm",
    "jp-MarkdownHeadingCollapsed": true
   },
   "source": [
    "#### Blockly"
   ]
  },
  {
   "cell_type": "markdown",
   "metadata": {
    "deletable": false,
    "editable": false,
    "id": "klwMI50ecCe9"
   },
   "source": [
    "\n",
    "\n",
    "**Step 1 - Prepare to train the model**\n",
    "\n",
    "To train data using the classifier model, we use the model and call the fit() method from it. This will use the ‘fit’ method to train the model that we want to train on.  \n",
    "\n",
    "From the Variable menu, drag the DO block for the **regr** variable, and select the fit function as the do operation. This specifies the function we want to call, which is the fit method of the linear regression."
   ]
  },
  {
   "cell_type": "markdown",
   "metadata": {
    "deletable": false,
    "editable": false,
    "id": "Q77v6x_KcCiK"
   },
   "source": [
    "\n",
    "**Step 2 - Have the training features ready**\n",
    "\n",
    "The next step for training the model is to select the features to train the regressor. In this step, we select the features and add them as a dataframe in the parameter. In this case, the model will train (learn) the linear regressor variables and use it to predict our other variable\n",
    "\n",
    "From the Lists menu, drag a dictVariable, select the **X** variable from the list of available variables"
   ]
  },
  {
   "cell_type": "markdown",
   "metadata": {
    "deletable": false,
    "editable": false,
    "id": "9hX2KltLfOdw"
   },
   "source": [
    "**Step 3 -  Have the training label ready**\n",
    "\n",
    "So what are we trying to predict? Next, we need to add the data labels for the selected features. We add the data labels (**Emission_Offset**) as a parameter in the fit() method.\n",
    "\n",
    "We add the variable Y (**Emission_Offset**) as a parameter in the fit() method."
   ]
  },
  {
   "cell_type": "markdown",
   "metadata": {
    "deletable": false,
    "editable": false,
    "id": "sSNlqPEbfOhG"
   },
   "source": [
    "\n",
    "\n",
    "**Step 4 - Measure the correctness on the training dataset**\n",
    "\n",
    "To measure the correctness of the model, we will use the score method() from the neighbors library. Just as in the previous step, we will just replace the fit() method with the score() method. Based on the ‘fit’, we will try to see how much we were able to predict in our training dataset.\n",
    "\n",
    "This will give us the linear regression correctness score. A good score will be closer to 1 (ie - 100). Medium might be more like .95 (95% accurate). Not great would be .90 (90%). It depends on the topic you are looking at.\n",
    "\n",
    "Right-click on the \"**regr.fit**\" block and select \"Duplicate\" from the context menu. This creates a copy of the block. Within the duplicated block, click on the method dropdown menu and select \"score\" from the list of available methods. The score method will work similarly to fit, and will use the training features and label to measure how much of the training data was learned.  "
   ]
  },
  {
   "cell_type": "markdown",
   "metadata": {
    "deletable": false,
    "editable": false,
    "id": "5vcAXpWlfOkJ"
   },
   "source": [
    "**Step 5 - Connect the blocks to run the code**\n",
    "\n",
    "Connect the blocks and run the code!\n",
    "\n",
    "<details>\n",
    "    <summary>Click to see the answer...</summary>\n",
    "\n",
    "![](https://pbs.twimg.com/media/GrZ7hw9XkAEC1E2?format=png&name=small)\n",
    "</details>\n"
   ]
  },
  {
   "cell_type": "code",
   "execution_count": 3,
   "metadata": {
    "id": "V43q4689fnbO"
   },
   "outputs": [],
   "source": [
    "# blockly code\n"
   ]
  },
  {
   "cell_type": "markdown",
   "metadata": {
    "deletable": false,
    "editable": false,
    "id": "2YmOkuUWfOnE",
    "jp-MarkdownHeadingCollapsed": true
   },
   "source": [
    "#### Freehand"
   ]
  },
  {
   "cell_type": "markdown",
   "metadata": {
    "deletable": false,
    "editable": false,
    "id": "i9rdgS5QcClV"
   },
   "source": [
    "\n",
    "**Step 1 - Prepare to train the model**\n",
    "\n",
    "To train data using the regressor model, linreg, we use the model and call the fit() method from it. This will use the **‘fit’** method to train the model that we want to train on.  \n",
    "\n",
    "`regr.fit()`"
   ]
  },
  {
   "cell_type": "markdown",
   "metadata": {
    "deletable": false,
    "editable": false,
    "id": "xGm1DfeDcDG-"
   },
   "source": [
    "**Step 2 - Have the training features ready**\n",
    "\n",
    "The next step for training the model is to select the features to train the regressor. In this step , we select the features and add them as a dataframe in the parameter. In this case, the model will train (learn) the regressor with the scaled features we have stored in the variable **X**\n",
    "\n",
    "`regr.fit(X)`"
   ]
  },
  {
   "cell_type": "markdown",
   "metadata": {
    "deletable": false,
    "editable": false,
    "id": "c6EnZz89fX8A"
   },
   "source": [
    "\n",
    "**Step 3 - Have the training label ready**\n",
    "\n",
    "So what is the label that we are trying to predict? Next, we need to add the data labels for the selected features. We add the data labels, **Y (CO2Emission)** as a parameter in the fit() method.\n",
    "\n",
    "`regr.fit(X,Y)`"
   ]
  },
  {
   "cell_type": "markdown",
   "metadata": {
    "deletable": false,
    "editable": false,
    "id": "MomSAF3yfp4-"
   },
   "source": [
    "**Step 4 - Measure the correctness on the training dataset**\n",
    "\n",
    "To measure the correctness of the model, we will use the score method() from the neighbors library. Just as the previous step, we will just replace the fit() method with the **score**() method. Based on the ‘fit’, we will try to see how much we were able to predict in our training dataset. This will give us the linear regression correctness score. A good score will be closer to 1 (ie - 100). Medium might be more like .95 (95% accurate). Not great would be .90 (90%). It depends on the topic you are looking at.\n",
    "regr.score(X,Y)"
   ]
  },
  {
   "cell_type": "markdown",
   "metadata": {
    "deletable": false,
    "editable": false,
    "id": "WilEgmY5ggiL"
   },
   "source": [
    "**Step 5 - Run the code**\n",
    "\n",
    "Hit ‘control’ and ‘enter’ at the same time to run the code!\n",
    "\n",
    "<details>\n",
    "    <summary>Click to see the answer...</summary>\n",
    "\n",
    "![](https://pbs.twimg.com/media/GrZ7r-XWcAADCUg?format=png&name=small)\n",
    "</details>"
   ]
  },
  {
   "cell_type": "markdown",
   "metadata": {
    "deletable": false,
    "editable": false,
    "id": "swk4wP1IghrS"
   },
   "source": [
    "**Your Turn**: Now it's time to train and score your regressor model! Prepare to train the model by calling the fit method and setting up your training features and labels. You’ll measure the correctness of your model by using the score method and evaluate how well your model has learned from the training data. Let’s use the same steps to call the fit method, add your training features and labels, and measure the correctness of your model. Finally, run the code to see your results!"
   ]
  },
  {
   "cell_type": "code",
   "execution_count": null,
   "metadata": {
    "id": "kaT_kSNQgiCD"
   },
   "outputs": [],
   "source": [
    "# freehand code"
   ]
  },
  {
   "cell_type": "markdown",
   "metadata": {
    "deletable": false,
    "editable": false,
    "id": "2AfKgB_3fp8M"
   },
   "source": [
    "\n",
    "\n",
    "\n",
    "**Explanation**: *You have trained the model using data from the train dataset. It takes some feature and Emission Offset as the output we want to predict. The fit function makes the model learn the relationship between these variables. You have also calculated the model’s R-squared score on the training data, which tells us how well the model's predictions match the actual Emission Offset values in the training dataset. An R-squared score closer to 1 means the model’s predictions are correct, while a score closer to 0 means the predictions are less correct*."
   ]
  },
  {
   "cell_type": "markdown",
   "metadata": {
    "deletable": false,
    "editable": false,
    "id": "sGfKTRDHguPX"
   },
   "source": [
    "## WHAT DID YOU LEARN?"
   ]
  },
  {
   "cell_type": "markdown",
   "metadata": {
    "deletable": false,
    "editable": false,
    "id": "7S9V023QguTX"
   },
   "source": [
    "Real-world data sets aren’t perfect and we need to analyze the data thoughtfully in order to make correct predictions and draw correct results. We can clean the data in a variety of ways, but we must understand that how we clean the data will affect our model and therefore, our result. As we work, it’s important to conduct versioning and keep track of the many versions of our data sets."
   ]
  },
  {
   "cell_type": "markdown",
   "metadata": {
    "deletable": false,
    "editable": false,
    "id": "lUzHaFB8guWl"
   },
   "source": [
    "## WHAT’S NEXT?"
   ]
  },
  {
   "cell_type": "markdown",
   "metadata": {
    "deletable": false,
    "editable": false,
    "id": "zuKE0kEhguZ0"
   },
   "source": [
    "ToDO"
   ]
  },
  {
   "cell_type": "markdown",
   "metadata": {
    "deletable": false,
    "editable": false,
    "id": "EyeG0a5ugu1i"
   },
   "source": [
    "## ANY EXTRAS?\n"
   ]
  },
  {
   "cell_type": "markdown",
   "metadata": {
    "deletable": false,
    "editable": false,
    "id": "KVfDCX5Mg3_z"
   },
   "source": [
    "ToDO"
   ]
  }
 ],
 "metadata": {
  "colab": {
   "provenance": []
  },
  "kernelspec": {
   "display_name": "Python 3 (ipykernel)",
   "language": "python",
   "name": "python3"
  },
  "language_info": {
   "codemirror_mode": {
    "name": "ipython",
    "version": 3
   },
   "file_extension": ".py",
   "mimetype": "text/x-python",
   "name": "python",
   "nbconvert_exporter": "python",
   "pygments_lexer": "ipython3",
   "version": "3.12.6"
  }
 },
 "nbformat": 4,
 "nbformat_minor": 4
}
