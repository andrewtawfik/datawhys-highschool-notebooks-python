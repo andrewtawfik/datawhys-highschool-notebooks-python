{
 "cells": [
  {
   "cell_type": "markdown",
   "metadata": {
    "deletable": false,
    "editable": false,
    "id": "q2xj0YW8bQu2"
   },
   "source": [
    "# Crossvalidation"
   ]
  },
  {
   "cell_type": "markdown",
   "metadata": {
    "deletable": false,
    "editable": false,
    "id": "_ce0fvFcbQxr"
   },
   "source": [
    "## ANTICIPATED TIME:\n"
   ]
  },
  {
   "cell_type": "markdown",
   "metadata": {
    "deletable": false,
    "editable": false,
    "id": "S4comrV4bQ0S"
   },
   "source": [
    "2 hours"
   ]
  },
  {
   "cell_type": "markdown",
   "metadata": {
    "deletable": false,
    "editable": false,
    "id": "HAxWulugbQ25"
   },
   "source": [
    "## BEFORE YOU BEGIN:  "
   ]
  },
  {
   "cell_type": "markdown",
   "metadata": {
    "deletable": false,
    "editable": false,
    "id": "UY0dCoUG6Ftz"
   },
   "source": [
    "[Random forests](Random_Forests.ipynb)"
   ]
  },
  {
   "cell_type": "markdown",
   "metadata": {
    "deletable": false,
    "editable": false,
    "id": "s5dMQFLa6Fv7"
   },
   "source": [
    "## WHAT YOU WILL LEARN:"
   ]
  },
  {
   "cell_type": "markdown",
   "metadata": {
    "deletable": false,
    "editable": false,
    "id": "-FwLmlSh6Z-N"
   },
   "source": [
    "* How does cross-validation help avoid overfitting?\n",
    "* What does it mean to split data for training and testing, and why does it matter?\n",
    "* How can cross-validation help us test our model in a fair way?\n",
    "* What are hyperparameters, and how do they change how our model learns?\n",
    "* How does grid search help us find the best settings for our model instead of just guessing?\n",
    "* What metrics are used to evaluate models during cross-validation?"
   ]
  },
  {
   "cell_type": "markdown",
   "metadata": {
    "deletable": false,
    "editable": false,
    "id": "DLPsq4KP6Fya"
   },
   "source": [
    "## DEFINITIONS YOU’LL NEED TO KNOW:"
   ]
  },
  {
   "cell_type": "markdown",
   "metadata": {
    "deletable": false,
    "editable": false,
    "id": "v_HXSrFS6F0-"
   },
   "source": [
    "\n",
    "* Training Data - the part of data used to teach a machine learning model to recognize patterns.\n",
    "* Testing Data - the other part of data used to evaluate a trained model’s accuracy by comparing predictions to actual values.\n",
    "* Crossvalidation - a technique used to evaluate the performance of a machine learning model by splitting the dataset into multiple subsets, training the model on a subset, and\n",
    "* Folds - groups used for testing and training in crossvalidation.\n",
    "* Hyperparameters - parameters we define when we create our model.\n",
    "* Grid Search - a method that helps us choose the best hyperparameters by making a list and testing each value separately.\n",
    "* Out-of-bag error (OBB) - a way to measure how well a model can predict results"
   ]
  },
  {
   "cell_type": "markdown",
   "metadata": {
    "deletable": false,
    "editable": false,
    "id": "9eQgPTYL6F3O"
   },
   "source": [
    "## SCENARIO"
   ]
  },
  {
   "cell_type": "markdown",
   "metadata": {
    "deletable": false,
    "editable": false,
    "html": "<iframe class='metadata-html' width='560' height='315' src='https://video.olney.ai/15-cross.mp4' title='YouTube video player' frameborder='0' allow='accelerometer; autoplay; clipboard-write; encrypted-media; gyroscope; picture-in-picture; web-share' referrerpolicy='strict-origin-when-cross-origin' allowfullscreen></iframe>",
    "id": "M8JF23l66kt1"
   },
   "source": [
    "The team has come so far in solving the pollution problem in their city! They have collected a lot of data, such as the number of cars in the city and different air quality levels. However, to make sure the data they collected was accurate, Rin suggested they use a new method called cross-validation. Ever since they looked at random forests, they wanted to look at other approaches that would lessen the randomness. While random forest helped with the randomness when looking at categorical data, cross-validation might help with the numerical data, like CO2 emissions and the number of fuel gallons used. Maybe with this method, they can find which factor is causing the most pollution in their city!"
   ]
  },
  {
   "cell_type": "markdown",
   "metadata": {
    "deletable": false,
    "editable": false,
    "id": "8gVtEQhr6kwV"
   },
   "source": [
    "## WHAT DO I NEED TO KNOW?"
   ]
  },
  {
   "cell_type": "markdown",
   "metadata": {
    "deletable": false,
    "editable": false,
    "id": "HI23kU-16kye"
   },
   "source": [
    "Some important things we’ve talked about when it comes to data science…\n",
    "\n",
    "* Selecting relevant variables? Check!\n",
    "* Choosing the right algorithm? Yep!\n",
    "* Building our model! You know it!\n",
    "\n",
    "Another thing we need to do is splitting the data into training and testing. Training is when the model finds the patterns in our data in a specific section of our data (usually 80% of our data). Once that is done, we then test it on the rest of the datasets (e.g., 20% of the overall data points) to make sure the model actually ‘learns’ well so that it actually can make an accurate prediction in future data. This will help us to compare the actual outcome values with the predicted values from the models trained, which allows us to see how well the model performs (e.g., predicted accurately in 90% of the cases)."
   ]
  },
  {
   "cell_type": "markdown",
   "metadata": {
    "deletable": false,
    "editable": false,
    "id": "l89BANUr6k0x"
   },
   "source": [
    "**Training and Splitting - Not so Fast!**\n",
    "\n",
    "Training and testing are necessary because we want our model to make good predictions.\n",
    "\n",
    "Everything is all perfect, right? Well, we need to be careful because we can get \"lucky\" with our train/test split, and randomly get training data that is \"hard\" and test data that is \"easy.\"\n",
    "\n",
    "How can we randomly pick the wrong part of our dataset during testing and training? Imagine we had 100 students in our summer program that we want to look at data for. We trained our model (KNN, decision tree, and others we’ve learned about) on a random set of 80 students who signed up. But maybe there was something weird with the remaining 20 that were picked, which messes with our ‘randomness’ that we need for doing intense training and testing.\n",
    "\n",
    "Let’s think about why this matters. If we had split our training and testing on a different set of students (1-20 or 21-40 or 41-60 or 61-80), our results might be totally different. All of a sudden, now we can’t quite trust our training and testing because the ‘chunk’ we looked at during training might be off.  \n"
   ]
  },
  {
   "cell_type": "markdown",
   "metadata": {
    "deletable": false,
    "editable": false,
    "id": "7jEEyImc6lPn"
   },
   "source": [
    "**Crossvalidation to the Rescue for Our Train/Test Problem!**\n",
    "\n",
    "Crossvalidation is a perfect way to use all of the data in a dataset for training and testing…. but not at the same time. The idea with crossvalidation is to split the data into equal pieces called folds. One of those folds is used for testing, and the rest is used for training. Once we’ve ‘chunked’ our data into folds, each fold takes turns being used for training or testing. Then you build as many models as there are folds, using a different fold for testing each time. The performance metrics (accuracy, R2) are then combined across all the different models.\n",
    "\n",
    "![](https://pbs.twimg.com/media/GrVZP1yXMAMryQt?format=jpg&name=small)"
   ]
  },
  {
   "cell_type": "markdown",
   "metadata": {
    "deletable": false,
    "editable": false,
    "id": "YCYzp9ro6lR-"
   },
   "source": [
    "**Hyperparameters - Putting You In the Driver’s Seat for Data Science!**\n",
    "\n",
    "Now, let’s talk **hyperparameters**.\n",
    "\n",
    "Some parts of a model, called parameters, are learned automatically, so we don’t have to really think about it too much because the model takes care of it. Instead of a default setting, hyperparameters are settings we choose or customize when we create a model. We’ve run into this before, like when we picked the number of clusters in clustering, the correct number of neighbors in KNN classification, and others. Just like with the other topics, the tricky part is choosing the best one!\n",
    "\n",
    "If we don’t use crossvalidation, we might pick a hyperparameter that works well on some data but doesn’t work well with others. For example, what about….\n",
    "….number of clusters to consider in clustering?\n",
    "….or the K in KNN classification?\n",
    "….or levels in our decision or regression trees?\n",
    "….how many trees to select in random forests?\n"
   ]
  },
  {
   "cell_type": "markdown",
   "metadata": {
    "deletable": false,
    "editable": false,
    "id": "aunlKK0S8zdY"
   },
   "source": [
    "**Grid Search**\n",
    "\n",
    "Sometimes we also need to choose and customize multiple hyperparameters for our model. For example, in decision trees, we might select hyperparameters like the levels in our tree (1, 2, 3?) and the number of leaf nodes (6, 7, 8?). So…many….hyperparameter…..combinations….!\n",
    "How can we know the best combination so we aren’t randomly guessing? We can run a grid search that helps us find the best hyperparameters to select, such as if the best decision tree is 3 levels and 6 leaf nodes. Or maybe for a different dataset, it might tell us that it’s best to have 2 levels of 7 leaf nodes. That’s why the grid search is helpful because it’ll tell us specifically how much for each parameter instead of us guessing.\n",
    "\n",
    "![](https://pbs.twimg.com/media/GrVZyxTWoAAuR5r?format=jpg&name=small)\n"
   ]
  },
  {
   "cell_type": "markdown",
   "metadata": {
    "deletable": false,
    "editable": false,
    "id": "ADufvDUx9O2v"
   },
   "source": [
    "## YOUR TURN:"
   ]
  },
  {
   "cell_type": "markdown",
   "metadata": {
    "deletable": false,
    "editable": false,
    "id": "WTBa6iIl9c4B"
   },
   "source": [
    "### Goal 1: Importing the pandas library.\n",
    "\n",
    "Need extra tools to help solve this problem? Well, we can bring in extra ‘libraries’ to help us do extra data science stuff. You can think of it like an ‘add-on’. In this case, we bring in pandas, which is a popular library for doing data science stuff."
   ]
  },
  {
   "cell_type": "markdown",
   "metadata": {
    "deletable": false,
    "editable": false,
    "id": "etiVCqAA9c9v",
    "jp-MarkdownHeadingCollapsed": true
   },
   "source": [
    "#### Blockly"
   ]
  },
  {
   "cell_type": "markdown",
   "metadata": {
    "deletable": false,
    "editable": false,
    "id": "EkUi7h1M9c_9"
   },
   "source": [
    "**Step 1 - Starting the import**\n",
    "\n",
    "First, we need to set up a “command” to tell the computer what to do. In this case, “command” is to “import” to bring the add-on package in.\n",
    "\n",
    "Bring in the IMPORT menu, which can be helpful to bring in other data tools. In this case, we're bringing in the **import** block."
   ]
  },
  {
   "cell_type": "markdown",
   "metadata": {
    "deletable": false,
    "editable": false,
    "id": "Nlew57Bc9dCT"
   },
   "source": [
    "**Step 2 - Telling what library to import**\n",
    "\n",
    "In the text area, we type the name of the library we want to import. A library is like an extra thing we bring in to give us more coding abilities. In our case, we will type out **pandas**, which will bring in some cool data manipulation features.\n"
   ]
  },
  {
   "cell_type": "markdown",
   "metadata": {
    "deletable": false,
    "editable": false,
    "id": "4wU2OKj99dEf"
   },
   "source": [
    "**Step 3 - Renaming the library so it’s easy to remember**\n",
    "\n",
    "Once you are done, put the import and package together in a single variable. This handy feature helps cut down on all the typing later on. You can call it whatever is easiest for you to remember. In the example below, we’ve put everything into **pd**, and we type it in the open area."
   ]
  },
  {
   "cell_type": "markdown",
   "metadata": {
    "deletable": false,
    "editable": false,
    "id": "LBCTOh_v9dG1"
   },
   "source": [
    "**Step 4 - Connect the blocks to run the code**\n",
    "\n",
    "Connect the blocks and run the code!\n",
    "\n",
    "<details>\n",
    "    <summary>Click to see the answer...</summary>\n",
    "\n",
    "![](https://pbs.twimg.com/media/GZYmOOpW8AAf7uc?format=png&name=small)\n",
    "</details>"
   ]
  },
  {
   "cell_type": "code",
   "execution_count": 1,
   "metadata": {
    "id": "-K9_Qq3R9_mM"
   },
   "outputs": [],
   "source": [
    "# blockly code\n"
   ]
  },
  {
   "cell_type": "markdown",
   "metadata": {
    "deletable": false,
    "editable": false,
    "id": "l39VFloE9dJL",
    "jp-MarkdownHeadingCollapsed": true
   },
   "source": [
    "### Freehand"
   ]
  },
  {
   "cell_type": "markdown",
   "metadata": {
    "deletable": false,
    "editable": false,
    "id": "5fNfrXNm-EtP"
   },
   "source": [
    "**Step 1 - Starting the import**\n",
    "\n",
    "First, we need to set up a “command” to tell the computer what to do. In this case, “command” is to “import” to bring the add-on package in."
   ]
  },
  {
   "cell_type": "markdown",
   "metadata": {
    "deletable": false,
    "editable": false,
    "id": "HoyL0suV-Evg"
   },
   "source": [
    "**Step 2 - Telling what library to import**\n",
    "\n",
    "In the text area, we type the name of the library we want to import. A library is like an extra thing we bring in to give us more coding abilities. In our case, we will type out **pandas**, which will bring in some cool data manipulation features."
   ]
  },
  {
   "cell_type": "markdown",
   "metadata": {
    "deletable": false,
    "editable": false,
    "id": "LU0a4kCp-Ex-"
   },
   "source": [
    "**Step 3 - Renaming the library so it’s easy to remember**\n",
    "\n",
    "Once you are done, put the ‘import’ and ‘package’ together in a single variable. This handy feature helps cut down on all the typing later on. Feel free to use whatever name you want that will help you remember it later on. In the example below, we’ve put everything into **pd**."
   ]
  },
  {
   "cell_type": "markdown",
   "metadata": {
    "deletable": false,
    "editable": false,
    "id": "NAf6K_FP-E0L"
   },
   "source": [
    "**Step 4 - Run the code**\n",
    "\n",
    "Hit ‘control’ and ‘enter’ at the same time to run the code!\n",
    "\n",
    "<details>\n",
    "    <summary>Click to see the answer...</summary>\n",
    "\n",
    "![](https://pbs.twimg.com/media/GZmkVCYWEA4oGso?format=jpg&name=small)\n",
    "</details>"
   ]
  },
  {
   "cell_type": "markdown",
   "metadata": {
    "deletable": false,
    "editable": false,
    "id": "oGA0rIgE-E2m"
   },
   "source": [
    "**Your Turn**: Now it’s your turn! We’re going to dive into the pandas package, which helps us with some really cool data science things. First, let’s import the package and assign it to the variable pd to make it easier to use throughout our notebook."
   ]
  },
  {
   "cell_type": "code",
   "execution_count": null,
   "metadata": {
    "id": "Ejbe_8jb-cMk"
   },
   "outputs": [],
   "source": [
    "# freehand code\n"
   ]
  },
  {
   "cell_type": "markdown",
   "metadata": {
    "deletable": false,
    "editable": false,
    "id": "i4qo8-Zj-E5I"
   },
   "source": [
    "**Explanation**: *Congrats!  Your attempts finally made it!  Now you have successfully imported the \"pandas\" package as the variable \"pd\"*."
   ]
  },
  {
   "cell_type": "markdown",
   "metadata": {
    "deletable": false,
    "editable": false,
    "id": "daCtXvKz-gyh"
   },
   "source": [
    "### Goal 2: Bringing in the dataframe.\n",
    "\n",
    "Let’s bring in the data that we want to look at."
   ]
  },
  {
   "cell_type": "markdown",
   "metadata": {
    "deletable": false,
    "editable": false,
    "id": "rcAZUMTp-g7y",
    "jp-MarkdownHeadingCollapsed": true
   },
   "source": [
    "#### Blockly"
   ]
  },
  {
   "cell_type": "markdown",
   "metadata": {
    "deletable": false,
    "editable": false,
    "id": "Rww6lZfx-g_P"
   },
   "source": [
    "**Step 1 - Write out the variable name you want to use**\n",
    "\n",
    "Now that we’re all set with our new package to help us to do cool things, let’s bring the data into a variable called **data**. Think of it as a digital spreadsheet with much more power to analyze and manipulate the data!\n",
    "\n",
    "In Blockly, bring in the VARIABLES menu."
   ]
  },
  {
   "cell_type": "markdown",
   "metadata": {
    "deletable": false,
    "editable": false,
    "id": "o1YUrZ1o-hD8"
   },
   "source": [
    "**Step 2 - Assign the dataframe to the variable you created**\n",
    "\n",
    "Just like we did before, let’s type out a variable name. Rather than type out the full file name for our data, this easy to remember name will hold the data we bring in.\n",
    "\n",
    "In Blockly, go to the Variables and drag the Set block for the **data** variable. This will allow us to assign the result of a function call to the variable. A function is basically code that does a specific task for us."
   ]
  },
  {
   "cell_type": "markdown",
   "metadata": {
    "deletable": false,
    "editable": false,
    "id": "Et89Nm72-hGx"
   },
   "source": [
    "**Step 3 - Bring in the data**\n",
    "\n",
    "Now we need to look at the file that has all our data. To load our dataframe, we’ll use a simple command to bring in the file we need (CSV….Comma Separated Values). Let’s say we have a file called ‘AirQuality.csv' in the folder **‘datasets’**. We’re telling Python to read the CSV file and store it in a variable called **data**.\n",
    "\n",
    "From the Variable menu, drag a DO block using the **pd** variable, go ahead with the do operation **read_csv**. The read_csv function reads a CSV file and returns a DataFrame object.\n",
    "\n",
    "In our case, let’s bring in the “datasets/AirQualityClass.csv\" (use the Quotes from the TEXT menu) because that is what the team is working with."
   ]
  },
  {
   "cell_type": "markdown",
   "metadata": {
    "deletable": false,
    "editable": false,
    "id": "sODQ_XUN_GkL"
   },
   "source": [
    "**Step 4 - Display the variable**\n",
    "\n",
    "Let’s see it now by ‘displaying’ and showing our work.\n",
    "\n",
    "Drag the **data** variable to the workspace, making it available for further use in our program. This step is more of a visualization step, allowing us to see the variable in the Blockly workspace."
   ]
  },
  {
   "cell_type": "markdown",
   "metadata": {
    "deletable": false,
    "editable": false,
    "id": "FITP2iqU-hPs"
   },
   "source": [
    "**Step 5 - Connect the blocks to run the code**\n",
    "\n",
    "Connect the blocks and run the code!\n",
    "\n",
    "<details>\n",
    "    <summary>Click to see the answer...</summary>\n",
    "\n",
    "![](https://pbs.twimg.com/media/GiuKgNgXEAA3dDc?format=jpg&name=small)\n",
    "</details>\n",
    "\n",
    "\n"
   ]
  },
  {
   "cell_type": "code",
   "execution_count": null,
   "metadata": {
    "id": "i-4PaTR0_RP2"
   },
   "outputs": [],
   "source": [
    "# blockly code"
   ]
  },
  {
   "cell_type": "markdown",
   "metadata": {
    "deletable": false,
    "editable": false,
    "id": "lFn53eIyAT4U",
    "jp-MarkdownHeadingCollapsed": true
   },
   "source": [
    "#### Freehand"
   ]
  },
  {
   "cell_type": "markdown",
   "metadata": {
    "deletable": false,
    "editable": false,
    "id": "gdp_IyilAT6o"
   },
   "source": [
    "\n",
    "**Step 1 - Write out the variable name you want to use**\n",
    "\n",
    "Now that we’re all set with our new package to help us do cool things, let’s bring the data into a variable called **data**. Think of it as a digital spreadsheet with much more power to analyze and manipulate the data!\n",
    "\n",
    "Just like we did before, let’s type out a variable name. Rather than type out the full file name for our data, this easy to remember name will hold the data we bring in.\n",
    "\n",
    "\n",
    "`pd.read_csv(“datasets/AirQualityClass.csv”) `"
   ]
  },
  {
   "cell_type": "markdown",
   "metadata": {
    "deletable": false,
    "editable": false,
    "id": "drnP53n8AT9F"
   },
   "source": [
    "**Step 2 - Assign the dataframe to the variable you created**\n",
    "\n",
    "Just like we did before, let’s type out a variable name. Rather than type out the full file name for our data, this easy to remember name will hold the data we bring in."
   ]
  },
  {
   "cell_type": "markdown",
   "metadata": {
    "deletable": false,
    "editable": false,
    "id": "H2nqw40NAT_U"
   },
   "source": [
    "**Step 3 - Bring in the data**\n",
    "\n",
    "Now we need to look at the file that has all our data.\n",
    "\n",
    "To load our dataframe, we’ll use a simple command to bring in the file we need (CSV….Comma Separated Values). Let’s say we have a file called ‘AirQualityClass.csv' in the folder **‘datasets’**. We’re telling Python to read the CSV file and store it in a variable called **data**. For this function, we need to specify the code as \"**pd.read_csv**”, which makes the code read the csv file. This variable is now our dataframe!\n",
    "\n",
    "In our case, let’s bring in the “datasets/AirQualityClass.csv” (use the Quotes from the TEXT menu) because that is what Rin is working with.\n",
    "\n",
    "`data = pd.read_csv(“datasets/AirQualityClass.csv”)`"
   ]
  },
  {
   "cell_type": "markdown",
   "metadata": {
    "deletable": false,
    "editable": false,
    "id": "MbVGGXCYAUBp"
   },
   "source": [
    "**Step 4 - Print the variable**\n",
    "\n",
    "Let’s see it now by ‘printing’ and showing our work.\n",
    "\n",
    "`data`"
   ]
  },
  {
   "cell_type": "markdown",
   "metadata": {
    "deletable": false,
    "editable": false,
    "id": "y-w3qfNFAUEP"
   },
   "source": [
    "**Step 5 - Run the code**\n",
    "\n",
    "Hit ‘control’ and ‘enter’ at the same time to run the code!\n",
    "\n",
    "<details>\n",
    "    <summary>Click to see the answer...</summary>\n",
    "\n",
    "![](https://pbs.twimg.com/media/GiuKh7zWkAA4z89?format=png&name=small)\n",
    "</details>"
   ]
  },
  {
   "cell_type": "markdown",
   "metadata": {
    "deletable": false,
    "editable": false,
    "id": "8pgH5hUTAUGg"
   },
   "source": [
    "**Your Turn**: Let’s dive in and start working with the data! We’ll begin by loading it into a dataframe, which will allow us to interact with and analyze the dataset easily."
   ]
  },
  {
   "cell_type": "code",
   "execution_count": null,
   "metadata": {
    "id": "FvLXISo9Br9V"
   },
   "outputs": [],
   "source": [
    "# freehand code\n"
   ]
  },
  {
   "cell_type": "markdown",
   "metadata": {
    "deletable": false,
    "editable": false,
    "id": "lXCBXRNuBthr"
   },
   "source": [
    "**Explanation**:  *The dataset could be used to train a classification model (KNN) that predicts whether conditions will result in contamination based on various emission levels. Alternatively, if all entries are contaminated, the data could support regression models to predict specific emission levels under contaminated conditions or clustering methods to identify patterns in emission profiles among contaminated sites*."
   ]
  },
  {
   "cell_type": "markdown",
   "metadata": {
    "deletable": false,
    "editable": false,
    "id": "RkfktPHdBvNv"
   },
   "source": [
    "### Goal 3: Bring in the SkLearn package to create the classifier:\n",
    "\n",
    "Remember when we brought in other packages for the extra add-ons? Now let’s bring in a predictor (classifier) to help us find out the categorical variable we want to predict. We specifically want to use SKLearn here to help with decision trees as part of our prediction."
   ]
  },
  {
   "cell_type": "markdown",
   "metadata": {
    "deletable": false,
    "editable": false,
    "id": "DKCHZjLUBvQR",
    "jp-MarkdownHeadingCollapsed": true
   },
   "source": [
    "#### Blockly"
   ]
  },
  {
   "cell_type": "markdown",
   "metadata": {
    "deletable": false,
    "editable": false,
    "id": "E4qYhHgwBvS9"
   },
   "source": [
    "**Step 1 - Starting the import**\n",
    "\n",
    "First, we need to set up a “command” to tell the computer what to do. In this case, “command” is to “import” to bring the add-on package in.\n",
    "\n",
    "Bring in the IMPORT menu, which can help bring in other data tools. In this case, we're bringing in the **import** block."
   ]
  },
  {
   "cell_type": "markdown",
   "metadata": {
    "deletable": false,
    "editable": false,
    "id": "D3h3O1RpBvVc"
   },
   "source": [
    "**Step 2 - Telling what library to import**\n",
    "\n",
    "In the text area, we type the name of the library we want to import. A library is like an extra thing we bring to give us more coding abilities. In our case, we will type out **sklearn.tree**, which will bring in some cool data manipulation features."
   ]
  },
  {
   "cell_type": "markdown",
   "metadata": {
    "deletable": false,
    "editable": false,
    "id": "tpepiHxFCLo6"
   },
   "source": [
    "**Step 3 - Renaming the library so It’s easy to remember**\n",
    "\n",
    "Once you are done, put the **import** and **package** together in a single variable. This handy feature helps cut down on all the typing later on. You can call it whatever is easiest for you to remember. In the example below, we’ve put everything into a tree, and we type it in the open area.\n"
   ]
  },
  {
   "cell_type": "markdown",
   "metadata": {
    "deletable": false,
    "editable": false,
    "id": "ObfHnrl3BvX9"
   },
   "source": [
    "\n",
    "**Step 4 - Connect the blocks to run the code**\n",
    "\n",
    "Connect the blocks and run the code!\n",
    "\n",
    "<details>\n",
    "    <summary>Click to see the answer...</summary>\n",
    "\n",
    "![](https://pbs.twimg.com/media/GctrVUWWcAAZjt3?format=png&name=small)\n",
    "</details>"
   ]
  },
  {
   "cell_type": "code",
   "execution_count": null,
   "metadata": {
    "id": "GJDI6Lz0CfH_"
   },
   "outputs": [],
   "source": [
    "# blockly code\n"
   ]
  },
  {
   "cell_type": "markdown",
   "metadata": {
    "deletable": false,
    "editable": false,
    "id": "wRhfioimBxBX",
    "jp-MarkdownHeadingCollapsed": true
   },
   "source": [
    "#### Freehand\n"
   ]
  },
  {
   "cell_type": "markdown",
   "metadata": {
    "deletable": false,
    "editable": false,
    "id": "hNkQ4VOXBxC6"
   },
   "source": [
    "**Step 1 - Starting the import**\n",
    "\n",
    "First, we need to set up a “command” to tell the computer what to do. In this case, “command” is to “import” to bring the add-on package in."
   ]
  },
  {
   "cell_type": "markdown",
   "metadata": {
    "deletable": false,
    "editable": false,
    "id": "8g_7_syEBxFC"
   },
   "source": [
    "**Step 2 - Telling what library to import**\n",
    "\n",
    "In the text area, we type the name of the library we want to import. A library is like an extra thing we bring in to give us more coding abilities. In our case, we will type out **sklearn.tree**, which will provide us with some cool data manipulation features."
   ]
  },
  {
   "cell_type": "markdown",
   "metadata": {
    "deletable": false,
    "editable": false,
    "id": "IwHV8tusCglS"
   },
   "source": [
    "**Step 3 - Import package as acronym**\n",
    "\n",
    "Once you are done, put the **‘import’** and **‘package’** together in a single variable. This handy feature helps cut down on all the typing later on. You can call it whatever is easiest for you to remember. In the example below, we’ve put everything into **tree**"
   ]
  },
  {
   "cell_type": "markdown",
   "metadata": {
    "deletable": false,
    "editable": false,
    "id": "qTfVLeytCgnr"
   },
   "source": [
    "**Step 4 - Run the code**\n",
    "\n",
    "Hit ‘control’ and ‘enter’ at the same time to run the code!\n",
    "\n",
    "<details>\n",
    "    <summary>Click to see the answer...</summary>\n",
    "\n",
    "![](https://pbs.twimg.com/media/GctrXuFXMAAueAW?format=png&name=small)\n",
    "</details>"
   ]
  },
  {
   "cell_type": "markdown",
   "metadata": {
    "deletable": false,
    "editable": false,
    "id": "jjieaFYnCgqD"
   },
   "source": [
    "**Your Turn**: Now it’s your turn! We’re going to dive into the sklearn.tree package, which helps us with some really cool data science things. First, let’s import the package and assign it to the variable “tree” to make it easier to use throughout our notebook.\n"
   ]
  },
  {
   "cell_type": "code",
   "execution_count": null,
   "metadata": {
    "id": "r-9blJK3C7KS"
   },
   "outputs": [],
   "source": [
    "# freehand code\n"
   ]
  },
  {
   "cell_type": "markdown",
   "metadata": {
    "deletable": false,
    "editable": false,
    "id": "FFL5jA93C89M"
   },
   "source": [
    "\n",
    "**Explanation**: *Congrats! Your attempts finally made it! Now you have successfully imported the sklearn.tree package as the variable tree*."
   ]
  },
  {
   "cell_type": "markdown",
   "metadata": {
    "deletable": false,
    "editable": false,
    "id": "4DatFWWpGGsK"
   },
   "source": [
    "### Goal 4: Importing SKLearn and model_selection.\n",
    "\n",
    "Need extra tools to help solve this problem? Well, we can bring in extra ‘libraries’ to help us do extra data science stuff. You can think of it like an ‘add-on’. In this case, we bring in SKLearn and Model selection, which is a popular machine learning library which will help us train and test our data.  This will help us learn from it and understand it later."
   ]
  },
  {
   "cell_type": "markdown",
   "metadata": {
    "deletable": false,
    "editable": false,
    "id": "0vKsF1QRGGuC",
    "jp-MarkdownHeadingCollapsed": true
   },
   "source": [
    "#### Blockly"
   ]
  },
  {
   "cell_type": "markdown",
   "metadata": {
    "deletable": false,
    "editable": false,
    "id": "s9MXv-hkGGvk"
   },
   "source": [
    "**Step 1 - Starting the import**\n",
    "\n",
    "First, we need to set up a “command” to tell the computer what to do . In this case, “command” is to “import” to bring the add-on package in.\n",
    "\n",
    "Bring in the IMPORT menu, which can be helpful to bring in other data tools. In this case, we're bringing in the **import** block."
   ]
  },
  {
   "cell_type": "markdown",
   "metadata": {
    "deletable": false,
    "editable": false,
    "id": "SMLv1vvDGGya"
   },
   "source": [
    "**Step 2 - Telling what library to import**\n",
    "\n",
    "In the text area, we type the name of the library we want to import. A library is like an extra thing we bring in to give us more coding abilities. In our case, we will type out **sklearn.model_selection**, which will bring in some cool data manipulation features."
   ]
  },
  {
   "cell_type": "markdown",
   "metadata": {
    "deletable": false,
    "editable": false,
    "id": "bcqjXa-tGG0n"
   },
   "source": [
    "**Step 3 - Renaming the library so it’s easy to remember**\n",
    "\n",
    "Once you are done, put the **import** and **package** together in a single variable. This handy feature helps cut down on all the typing later on.  Feel free to use whatever name you want that will help you remember it later on. In the example below, we’ve put everything into **model_selection**, and we type it in the open area."
   ]
  },
  {
   "cell_type": "markdown",
   "metadata": {
    "deletable": false,
    "editable": false,
    "id": "rndZ3UijGG28"
   },
   "source": [
    "**Step 4 - Connect the blocks to run the code**\n",
    "\n",
    "Connect the blocks and run the code!\n",
    "\n",
    "<details>\n",
    "    <summary>Click to see the answer...</summary>\n",
    "\n",
    "![](https://pbs.twimg.com/media/Gnj02MLWoAE8wxx?format=png&name=small)\n",
    "</details>"
   ]
  },
  {
   "cell_type": "code",
   "execution_count": null,
   "metadata": {
    "id": "uhoWC5-LG4Ig"
   },
   "outputs": [],
   "source": [
    "# blockly code\n"
   ]
  },
  {
   "cell_type": "markdown",
   "metadata": {
    "deletable": false,
    "editable": false,
    "id": "daZcHkMiG5wN",
    "jp-MarkdownHeadingCollapsed": true
   },
   "source": [
    "#### Freehand"
   ]
  },
  {
   "cell_type": "markdown",
   "metadata": {
    "deletable": false,
    "editable": false,
    "id": "MnxPKp6HG5ye"
   },
   "source": [
    "\n",
    "**Step 1 - Starting the import**\n",
    "\n",
    "First, we need to set up a “command” to tell the computer what to do. In this case, “command” is to “import” to bring the add-on package in."
   ]
  },
  {
   "cell_type": "markdown",
   "metadata": {
    "deletable": false,
    "editable": false,
    "id": "zdHLp9PdG504"
   },
   "source": [
    "**Step 2 - Telling what library to import**\n",
    "\n",
    "In the text area, we type the name of the library we want to import. A library is like an extra thing we bring in to give us more coding abilities. In our case, we will type **sklearn.model_selection**, which will bring in some cool data manipulation features."
   ]
  },
  {
   "cell_type": "markdown",
   "metadata": {
    "deletable": false,
    "editable": false,
    "id": "RNSo6gYiG53O"
   },
   "source": [
    "**Step 3 - Renaming the library so it’s easy to remember**\n",
    "\n",
    "Once you are done, put the ‘import’ and ‘package’ together in a single variable. This handy feature helps cut down on all the typing later on. Feel free to use whatever name you want that will help you remember it later on. In the example below, we’ve put everything into **model_selection**."
   ]
  },
  {
   "cell_type": "markdown",
   "metadata": {
    "deletable": false,
    "editable": false,
    "id": "FmAF8xQdG55l"
   },
   "source": [
    "**Step 4 - Run the code**\n",
    "\n",
    "Hit ‘control’ and ‘enter’ at the same time to run the code!\n",
    "\n",
    "\n",
    "<details>\n",
    "    <summary>Click to see the answer...</summary>\n",
    "\n",
    "![](https://pbs.twimg.com/media/Gnj1FAnXsAAA5dt?format=jpg&name=small)\n",
    "</details>"
   ]
  },
  {
   "cell_type": "markdown",
   "metadata": {
    "deletable": false,
    "editable": false,
    "id": "9gT97RFVG6JZ"
   },
   "source": [
    "**Your Turn**: Now it’s your turn! We’re going to dive into the pandas package, which helps us with some really cool data science things. First, let’s import the package and assign it to the variable model_selection to make it easier to use throughout our notebook."
   ]
  },
  {
   "cell_type": "code",
   "execution_count": null,
   "metadata": {
    "id": "ZupCXgpeHWEJ"
   },
   "outputs": [],
   "source": [
    "# freehand code\n"
   ]
  },
  {
   "cell_type": "markdown",
   "metadata": {
    "deletable": false,
    "editable": false,
    "id": "2o_XC2_vGG5D"
   },
   "source": [
    "**Explanation**: *Congrats!  Your attempts finally made it!  Now you have successfully imported the model selection sublibrary from the sklearn package and named it model_selection*."
   ]
  },
  {
   "cell_type": "markdown",
   "metadata": {
    "deletable": false,
    "editable": false,
    "id": "OL_uY4TwHylD"
   },
   "source": [
    "### Goal 5: Create the model object.\n",
    "\n",
    "Now that we’ve imported the library, let’s get started on creating our decision tree. As we get going, we’ll set up a classifier model, assign it to a variable, and define its hyperparameters for later use.\n"
   ]
  },
  {
   "cell_type": "markdown",
   "metadata": {
    "deletable": false,
    "editable": false,
    "id": "dLtScoS_Hyn2",
    "jp-MarkdownHeadingCollapsed": true
   },
   "source": [
    "#### Blockly"
   ]
  },
  {
   "cell_type": "markdown",
   "metadata": {
    "deletable": false,
    "editable": false,
    "id": "FA8zqCpSHypk"
   },
   "source": [
    "\n",
    "\n",
    "**Step 1 - Write out the name of a variable you want to use for the classifier**\n",
    "\n",
    "We set up a variable to store the classifier model in a variable for later use. In this case, we will call it dtree\n",
    "\n",
    "On the \"Variables\" menu, click Create Variable, type a name for our model, **dtree**. Then, drag a \"SET\" block to the workspace for the created variable. This block allows us to create a new variable and assign a value to it."
   ]
  },
  {
   "cell_type": "markdown",
   "metadata": {
    "deletable": false,
    "editable": false,
    "id": "Yjg7hj3yHyr8"
   },
   "source": [
    "**Step 2 - Create the Decision Tree classifier model**\n",
    "\n",
    "We got the variable, so let’s get create our tree. Easy peasy!\n",
    "\n",
    "Using the **tree** library, we call the **DecisionTreeClassifier**() to create the Tree model.\n",
    "\n",
    "From the Variable menu, drag a Create block for the tree variable. On the create list box select the option DecisionTreeClassifier. This specifies the type (class) of object we want to create, which is the DecisionTreeClassifier from the tree library."
   ]
  },
  {
   "cell_type": "markdown",
   "metadata": {
    "deletable": false,
    "editable": false,
    "id": "NYjdMqGyHyub"
   },
   "source": [
    "**Step 3 - Define the hyperparameters**\n",
    "\n",
    "As we saw above, a tree has different levels. But how many do we want to look at? In this case, we want a tree with a maximum depth of 2 levels.\n",
    "\n",
    "Drag a Freestyle block, and type **max_depth=2**. This tells the maximum depth of the tree."
   ]
  },
  {
   "cell_type": "markdown",
   "metadata": {
    "deletable": false,
    "editable": false,
    "id": "OAnEccSAHyxB"
   },
   "source": [
    "**Step 4 - Assign the decision tree to the variable you created**\n",
    "\n",
    "We can now connect the dtree variable with the DecisionTreeClassifier model."
   ]
  },
  {
   "cell_type": "markdown",
   "metadata": {
    "deletable": false,
    "editable": false,
    "id": "cqXdAxq_H8ZB"
   },
   "source": [
    "**Step 5 - Connect the blocks to run the code**\n",
    "\n",
    "Connect the blocks and run the code!\n",
    "\n",
    "\n",
    "<details>\n",
    "    <summary>Click to see the answer...</summary>\n",
    "\n",
    "![](https://pbs.twimg.com/media/GcttrFQWYAAiRoO?format=jpg&name=small)\n",
    "</details>\n",
    "\n"
   ]
  },
  {
   "cell_type": "code",
   "execution_count": null,
   "metadata": {
    "id": "uHir3CrxIaX_"
   },
   "outputs": [],
   "source": [
    "# blockly code\n"
   ]
  },
  {
   "cell_type": "markdown",
   "metadata": {
    "deletable": false,
    "editable": false,
    "id": "UXgoCsKPIcHS",
    "jp-MarkdownHeadingCollapsed": true
   },
   "source": [
    "#### Freehand"
   ]
  },
  {
   "cell_type": "markdown",
   "metadata": {
    "deletable": false,
    "editable": false,
    "id": "t0ao09IrIcJv"
   },
   "source": [
    "\n",
    "**Step 1 - Write out the name for a variable you want to use for the classifier**\n",
    "\n",
    "We setup a variable to store the classifier model in a variable for later use. In this case, we will call it **dtree**\n",
    "\n",
    "`tree.DecisionTreeClassifier()`\n"
   ]
  },
  {
   "cell_type": "markdown",
   "metadata": {
    "deletable": false,
    "editable": false,
    "id": "vhjwjAdTIcL3"
   },
   "source": [
    "**Step 2 -  Define the hyperparameters**\n",
    "\n",
    "We got the variable, so let’s get create our tree. Easy peasy!\n",
    "\n",
    "Using the **tree** library, we call the **DecisionTreeClassifier**() to create the Tree model\n",
    "\n",
    "`tree.DecisionTreeClassifier(max_depth=2)`"
   ]
  },
  {
   "cell_type": "markdown",
   "metadata": {
    "deletable": false,
    "editable": false,
    "id": "DBR2z4g4IcOL"
   },
   "source": [
    "**Step 3 - Assign the decision tree to the variable you created**\n",
    "\n",
    "We set up a variable to store the classifier model in a variable for later use. In this case, we will call it **dtree**\n",
    "\n",
    "`dtree = tree.DecisionTreeClassifier(max_depth=2)`"
   ]
  },
  {
   "cell_type": "markdown",
   "metadata": {
    "deletable": false,
    "editable": false,
    "id": "vFfAjgltIcYG"
   },
   "source": [
    "**Step 4 - Run the code**\n",
    "\n",
    "Hit ‘control’ and ‘enter’ at the same time to run the code!\n",
    "\n",
    "\n",
    "<details>\n",
    "    <summary>Click to see the answer...</summary>\n",
    "\n",
    "![](https://pbs.twimg.com/media/GctttmiXgAETWWZ?format=jpg&name=small)\n",
    "</details>"
   ]
  },
  {
   "cell_type": "markdown",
   "metadata": {
    "deletable": false,
    "editable": false,
    "id": "NTdT8Z7xIcae"
   },
   "source": [
    "**Your Turn**: Ready! Set! Code!"
   ]
  },
  {
   "cell_type": "code",
   "execution_count": null,
   "metadata": {
    "id": "hFPg4KduI_My"
   },
   "outputs": [],
   "source": [
    "# freehand code\n"
   ]
  },
  {
   "cell_type": "markdown",
   "metadata": {
    "deletable": false,
    "editable": false,
    "id": "ViMRGtAcIcfQ"
   },
   "source": [
    "**Explanation**: *You have created a decision tree classifier, which is a type of machine learning model used for classification tasks. By specifying max_depth=2, the tree is limited to two levels, meaning it can only make decisions based on at most two splits in the data. This helps keep the model simple and reduces the risk of overfitting (learning too much from the training data). The classifier will later be trained to classify data into categories based on input features*.  "
   ]
  },
  {
   "cell_type": "markdown",
   "metadata": {
    "deletable": false,
    "editable": false,
    "id": "23YA_frPJBDz"
   },
   "source": [
    "### Goal 6: Train and predict using the cross validation process.\n",
    "\n",
    "So our next step is to train the model to predict the label, in this particular case, whether something is contaminated. Let’s jump in!"
   ]
  },
  {
   "cell_type": "markdown",
   "metadata": {
    "deletable": false,
    "editable": false,
    "id": "gehRjT33JBGB",
    "jp-MarkdownHeadingCollapsed": true
   },
   "source": [
    "#### Blockly"
   ]
  },
  {
   "cell_type": "markdown",
   "metadata": {
    "deletable": false,
    "editable": false,
    "id": "YCRlIQxfJBIO"
   },
   "source": [
    "\n",
    "\n",
    "\n",
    "**Step 1 - Prepare to train and predict the model**\n",
    "\n",
    "First we need to start by doing the training and prediction.\n",
    "\n",
    "With the **model_selection** library Do the **cross_val_predict**, which will set up the cross-validation process. This process will be a model, a tree on our case, train it using the cross-validation technique on a single dataset. Finally, the label will be predicted for all records on the dataset."
   ]
  },
  {
   "cell_type": "markdown",
   "metadata": {
    "deletable": false,
    "editable": false,
    "id": "pg8qHCpHJBKj"
   },
   "source": [
    "**Step 2 - Inform the decision tree model to the cross validation operation**\n",
    "\n",
    "Now we need to say we are using the tree model as the baseline for our cross validation we’ll be doing.\n",
    "\n",
    "From the variables menu, connect the **dtree** variable as the first parameter of the cross_val_predict operation.\n"
   ]
  },
  {
   "cell_type": "markdown",
   "metadata": {
    "deletable": false,
    "editable": false,
    "id": "rGPx_hFDJBM8"
   },
   "source": [
    "**Step 3 - Have the training features ready**\n",
    "\n",
    "So, what are we doing to predict as our baseline? These will be our variables that we’ll use to predict our label.\n",
    "\n",
    "From the list menu, get a dictVariable as **data**. Select the desired columns (features), as [], create a list with the feature names (Quote blocks): 'Methane', 'NOxEmissions', 'PM2.5Emissions', 'VOCEmissions', 'SO2Emissions', 'CO2Emissions’."
   ]
  },
  {
   "cell_type": "markdown",
   "metadata": {
    "deletable": false,
    "editable": false,
    "id": "c2Bjp-p-KodP"
   },
   "source": [
    "**Step 4 - Have the training label ready**\n",
    "\n",
    "So what are we trying to predict? In our case, we are looking to predict the variable **Contaminated**.\n",
    "\n",
    "From the list menu, get a dictVariable as **data**. Select the desired column (label): [ “Contaminated” (Quote block) ]. This will define the target variable to train the model.  "
   ]
  },
  {
   "cell_type": "markdown",
   "metadata": {
    "deletable": false,
    "editable": false,
    "id": "-tKVYdwSKofm"
   },
   "source": [
    "**Step 5 - Define the number of folds**\n",
    "\n",
    "Now we need to set up the number of chunks (‘folds’) that we will explore? In our case, let’s break this down into 10 different ‘folds’.\n",
    "\n",
    "Using the freestyle block define the number of folds to 10, as **cv=10**. The 10-fold cross-validation divides the dataset into 10 parts, trains and tests the model 10 times with each part used once as the test set, and averages the results for a more reliable performance estimate.\n"
   ]
  },
  {
   "cell_type": "markdown",
   "metadata": {
    "deletable": false,
    "editable": false,
    "id": "8ikUeNuGLRXn"
   },
   "source": [
    "**Step 6 - Assigning the predicted labels to the predictions variable**\n",
    "\n",
    "We’ve done all this work, so let’s make sure to store it in a separate variable we can reference later on. In this case, let’s call it **predictions**.\n",
    "\n",
    "Set the **predictions** variable to the result of the cross_val_predict operation. That variable will hold the predictions for all records in the original dataset."
   ]
  },
  {
   "cell_type": "markdown",
   "metadata": {
    "deletable": false,
    "editable": false,
    "id": "w8k4YKvfLRZz"
   },
   "source": [
    "**Step 7 - Print the predictions**\n",
    "\n",
    "From the variable menu, drag the predictions variable to the canva, which will print the predictions on the screen.\n"
   ]
  },
  {
   "cell_type": "markdown",
   "metadata": {
    "deletable": false,
    "editable": false,
    "id": "TE7xJI_oLRcI"
   },
   "source": [
    "**Step 8 - Connect the blocks to run the code**\n",
    "\n",
    "Connect the blocks and run the code!\n",
    "\n",
    "<details>\n",
    "    <summary>Click to see the answer...</summary>\n",
    "\n",
    "![](https://pbs.twimg.com/media/GjtjNeiXcAAqGrk?format=jpg&name=small)\n",
    "</details>\n"
   ]
  },
  {
   "cell_type": "code",
   "execution_count": null,
   "metadata": {
    "id": "csXCX2wDL-xk"
   },
   "outputs": [],
   "source": [
    "# blockly code\n"
   ]
  },
  {
   "cell_type": "markdown",
   "metadata": {
    "deletable": false,
    "editable": false,
    "id": "HCQBuUtOLReX",
    "jp-MarkdownHeadingCollapsed": true
   },
   "source": [
    "#### Freehand"
   ]
  },
  {
   "cell_type": "markdown",
   "metadata": {
    "deletable": false,
    "editable": false,
    "id": "Md1svVgOJBPF"
   },
   "source": [
    "\n",
    "**Step 1 - Call the cross_val_predict function from the model_selection library**\n",
    "\n",
    "First we need to start by doing the training and prediction.\n",
    "\n",
    "`model_selection.cross_val_predict( )`\n",
    "\n"
   ]
  },
  {
   "cell_type": "markdown",
   "metadata": {
    "deletable": false,
    "editable": false,
    "id": "Ya4E3yu3MN1Z"
   },
   "source": [
    "**Step 2 - Inform the tree model to the cross validation operation**\n",
    "\n",
    "Now we need to say we are using the tree model as the baseline for our cross-validation, we’ll be doing.\n",
    "\n",
    "`model_selection.cross_val_predict(dtree )`"
   ]
  },
  {
   "cell_type": "markdown",
   "metadata": {
    "deletable": false,
    "editable": false,
    "id": "EgQZyFI8MN33"
   },
   "source": [
    "**Step 3 - Define the training features**\n",
    "\n",
    "So what are we doing to predict on in our baseline? These will be our variables that we’ll use to predict our label.\n",
    "\n",
    "`model_selection.cross_val_predict(dtree,data[['Methane', 'NOxEmissions', 'PM2.5Emissions', 'VOCEmissions', 'SO2Emissions', 'CO2Emissions']]  )`"
   ]
  },
  {
   "cell_type": "markdown",
   "metadata": {
    "deletable": false,
    "editable": false,
    "id": "alFauvFTMN6B"
   },
   "source": [
    "**Step 4 - Define the training label**\n",
    "\n",
    "So what are we trying to predict? In our case, we are looking to predict the variable Contaminated.\n",
    "\n",
    "`model_selection.cross_val_predict(dtree,data[['Methane', 'NOxEmissions', 'PM2.5Emissions', 'VOCEmissions', 'SO2Emissions', 'CO2Emissions']],data['Contaminated'])`"
   ]
  },
  {
   "cell_type": "markdown",
   "metadata": {
    "deletable": false,
    "editable": false,
    "id": "Jk_W2CVTMN8X"
   },
   "source": [
    "**Step 5 - Define the number of folds**\n",
    "\n",
    "Now we need to set up the number of chunks (‘folds’) that we will explore? In our case,  let’s break this down into 10 different ‘folds’.\n",
    "\n",
    "`model_selection.cross_val_predict(dtree,data[['Methane', 'NOxEmissions', 'PM2.5Emissions', 'VOCEmissions', 'SO2Emissions', 'CO2Emissions']],data['Contaminated'],cv=10)  `"
   ]
  },
  {
   "cell_type": "markdown",
   "metadata": {
    "deletable": false,
    "editable": false,
    "id": "SrOmLC-tMN-q"
   },
   "source": [
    "**Step 6 - Assing the predicted labels to the predictions variable**\n",
    "\n",
    "We’ve done all this work, so let’s make sure to store it in a separate variable we can reference later on. In this case, let’s call it **predictions**.\n",
    "\n",
    "`predictions = model_selection.cross_val_predict(dtree,data[['Methane', 'NOxEmissions', 'PM2.5Emissions', 'VOCEmissions', 'SO2Emissions', 'CO2Emissions']],data['Contaminated'],cv=10) `"
   ]
  },
  {
   "cell_type": "markdown",
   "metadata": {
    "deletable": false,
    "editable": false,
    "id": "8-eWtob5MOBD"
   },
   "source": [
    "**Step 7 - Print the predictions**\n",
    "\n",
    "From the variable menu, drag the predictions variable to the canva, which will print the predictions on the screen.\n",
    "\n",
    "`predictions`"
   ]
  },
  {
   "cell_type": "markdown",
   "metadata": {
    "deletable": false,
    "editable": false,
    "id": "qjhCMcvwMODe"
   },
   "source": [
    "**Step 8 - Run the code**\n",
    "\n",
    "Hit ‘control’ and ‘enter’ at the same time to run the code!\n",
    "\n",
    "<details>\n",
    "    <summary>Click to see the answer...</summary>\n",
    "\n",
    "![](https://pbs.twimg.com/media/GjtjPmDXYAA5h29?format=jpg&name=large)\n",
    "</details>\n",
    "\n",
    "\n"
   ]
  },
  {
   "cell_type": "markdown",
   "metadata": {
    "deletable": false,
    "editable": false,
    "id": "VEoVtpz6MOOw"
   },
   "source": [
    "**Your Turn**:  Put your skills into action by training and scoring the classifier model. Explore how well the model learns from the training data and analyze its correctness score. It's a great opportunity to understand the model's predictive power! Ready! Set! Go!\n",
    "\n"
   ]
  },
  {
   "cell_type": "code",
   "execution_count": null,
   "metadata": {
    "id": "fpsKI2lBNV0_"
   },
   "outputs": [],
   "source": [
    "# freehand code\n"
   ]
  },
  {
   "cell_type": "markdown",
   "metadata": {
    "deletable": false,
    "editable": false,
    "id": "FNtTcOv3NXK_"
   },
   "source": [
    "**Explanation**: *You have generated the predictions from a decision tree (dtree) using 10-fold cross-validation. It trains and predicts on different subsets of the data, avoiding the need for a separate validation set. Specifically, it uses the features 'Methane', 'NOxEmissions', 'PM2.5Emissions', 'VOCEmissions', 'SO2Emissions', and 'CO2Emissions' to predict the 'Contaminated' target variable. The resulting predictions variable stores the predicted values for each data point, obtained from the folds where that point was held out during training. This provides a robust assessment of the model's performance*."
   ]
  },
  {
   "cell_type": "markdown",
   "metadata": {
    "deletable": false,
    "editable": false,
    "id": "zw2QtRULNh1M"
   },
   "source": [
    "### Goal 7: Bringing in SKLearn metrics to help look at the performance of predictions.\n",
    "\n",
    "So we’ve tried to predict on our new dataset. How well did we do? Let’s use SKLearn Metrics to help us think through that."
   ]
  },
  {
   "cell_type": "markdown",
   "metadata": {
    "deletable": false,
    "editable": false,
    "id": "UbPeAJesNh38",
    "jp-MarkdownHeadingCollapsed": true
   },
   "source": [
    "#### Blockly"
   ]
  },
  {
   "cell_type": "markdown",
   "metadata": {
    "deletable": false,
    "editable": false,
    "id": "YyaC81j_Nh6O"
   },
   "source": [
    "\n",
    "\n",
    "**Step 1 - Starting the import**\n",
    "\n",
    "First, we need to set up a “command” to tell the computer what to do. In this case, “command” is to “import” to bring the add-on package in.\n",
    "\n",
    "Bring in the IMPORT menu, which can be helpful to bring in other data tools. In this case, we're bringing in the **import** block."
   ]
  },
  {
   "cell_type": "markdown",
   "metadata": {
    "deletable": false,
    "editable": false,
    "id": "uw6GVedENh8f"
   },
   "source": [
    "**Step 2 - Telling what library to import**\n",
    "\n",
    "In the text area, we type the name of the library we want to import. A library is like an extra thing we bring in to give us more coding abilities. In our case, we will type out **sklearn.metrics**, which is a tool that grades your machine learning model's performance, telling you how well it did on its test.\n"
   ]
  },
  {
   "cell_type": "markdown",
   "metadata": {
    "deletable": false,
    "editable": false,
    "id": "9K-usCArNh-4"
   },
   "source": [
    "**Step 3 - Renaming the library so it’s easy to remember**\n",
    "\n",
    "Once you are done, put the **import** and **package** together in a single variable. This handy feature helps cut down on all the typing later on. You can call it whatever is easiest for you to remember. In the example below, we’ve put everything into **metrics**, and we type it in the open area.\n"
   ]
  },
  {
   "cell_type": "markdown",
   "metadata": {
    "deletable": false,
    "editable": false,
    "id": "1nqgmpJYNiBL"
   },
   "source": [
    "**Step 4 - Connect the blocks to run the code**\n",
    "\n",
    "Connect the blocks and run the code!\n",
    "\n",
    "\n",
    "<details>\n",
    "    <summary>Click to see the answer...</summary>\n",
    "\n",
    "![](https://pbs.twimg.com/media/GaQ5swrXUAAEJ-D?format=png&name=medium)\n",
    "</details>"
   ]
  },
  {
   "cell_type": "code",
   "execution_count": null,
   "metadata": {
    "id": "hP43PBVSOBvq"
   },
   "outputs": [],
   "source": [
    "#blockly code\n"
   ]
  },
  {
   "cell_type": "markdown",
   "metadata": {
    "deletable": false,
    "editable": false,
    "id": "YBOFOSALNiJA",
    "jp-MarkdownHeadingCollapsed": true
   },
   "source": [
    "#### Freehand"
   ]
  },
  {
   "cell_type": "markdown",
   "metadata": {
    "deletable": false,
    "editable": false,
    "id": "3zLZDn_oOaDX"
   },
   "source": [
    "\n",
    "\n",
    "**Step 1 - Starting the import**\n",
    "\n",
    "First, we need to set up a “commad” to tell the computer what to do. In this case, “command” is to “import” to bring the add-on package in"
   ]
  },
  {
   "cell_type": "markdown",
   "metadata": {
    "deletable": false,
    "editable": false,
    "id": "DPNCEFWcOaFt"
   },
   "source": [
    "**Step 2 - Telling what library to import**\n",
    "\n",
    "In the text area, we type the name of the library we want to import. A library is like an extra thing we bring in to give us more coding abilities. In our case, we will type out **sklearn.metrics**, which is a tool that grades your machine learning model's performance, telling you how well it did on its test."
   ]
  },
  {
   "cell_type": "markdown",
   "metadata": {
    "deletable": false,
    "editable": false,
    "id": "hgSbj3VvOaH4"
   },
   "source": [
    "**Step 3 - Renaming the library so it’s easy to remember**\n",
    "\n",
    "Once you are done, put the ‘import’ and ‘package’ together in a single variable. This handy feature helps cut down on all the typing later on. Feel free to use whatever name you want that will help you remember it later on. In the example below, we’ve put everything into **metrics**"
   ]
  },
  {
   "cell_type": "markdown",
   "metadata": {
    "deletable": false,
    "editable": false,
    "id": "2YRC-gWFOaKT"
   },
   "source": [
    "**Step 4 - Run the code**\n",
    "\n",
    "Hit ‘control’ and ‘enter’ simultaneously to run the data science magic!\n",
    "\n",
    "<details>\n",
    "    <summary>Click to see the answer...</summary>\n",
    "\n",
    "![](https://pbs.twimg.com/media/GaQ5u3ZWsAA_df1?format=png&name=medium)\n",
    "</details>\n"
   ]
  },
  {
   "cell_type": "markdown",
   "metadata": {
    "deletable": false,
    "editable": false,
    "id": "bqXLmHPVOaMq"
   },
   "source": [
    "**Your Turn**: Test it out yourself! We set up a command to tell our computer what to do and after our hard work, we’ll run what we have to see our data science major at work!"
   ]
  },
  {
   "cell_type": "code",
   "execution_count": null,
   "metadata": {
    "id": "Dozb7XI4OtFY"
   },
   "outputs": [],
   "source": [
    "# freehand code\n"
   ]
  },
  {
   "cell_type": "markdown",
   "metadata": {
    "deletable": false,
    "editable": false,
    "id": "uKF4v7_GOaO5"
   },
   "source": [
    "**Explanation**: *The metrics library provides tools to measure and evaluate the performance of machine learning models. By using `metrics`, we can check how well our model is working, like seeing how accurate it is or how well it groups data in clustering. This helps us understand if our model is doing a good job or if it needs improvement*."
   ]
  },
  {
   "cell_type": "markdown",
   "metadata": {
    "deletable": false,
    "editable": false,
    "id": "naNsr0cPO8EO"
   },
   "source": [
    "## Assessing the performance of the classifier.\n"
   ]
  },
  {
   "cell_type": "markdown",
   "metadata": {
    "deletable": false,
    "editable": false,
    "id": "wbauNLyUO8GZ"
   },
   "source": [
    "\n",
    "So, how well did our predictions do? Let’s calculate three steps here: performance of predictions on the testing dataset - accuracy, confusion matrix, and precision/recall."
   ]
  },
  {
   "cell_type": "markdown",
   "metadata": {
    "deletable": false,
    "editable": false,
    "id": "ll-0Msq-O8Iq"
   },
   "source": [
    "### Goal 8: Assessing the performance of the predictions on test dataset using the accuracy score.\n",
    "\n",
    "So how well did our predictions do on our test data? Let’s calculate the accuracy score to give us an idea."
   ]
  },
  {
   "cell_type": "markdown",
   "metadata": {
    "deletable": false,
    "editable": false,
    "id": "3IpP1wL3PM9R",
    "jp-MarkdownHeadingCollapsed": true
   },
   "source": [
    "#### Blockly"
   ]
  },
  {
   "cell_type": "markdown",
   "metadata": {
    "deletable": false,
    "editable": false,
    "id": "g5-vtb4pO8LO"
   },
   "source": [
    "**Step 1 - Call the accuracy_score() method using the metrics library**\n",
    "\n",
    "To calculate the accuracy of the model predictions, we will use the **accuracy_score**() function from the metrics library.  \n",
    "\n",
    "From the Variables menu, drag a DO block for the metrics variable. Select the accuracy_score function from the metrics list of operations. This function takes two inputs: the true labels and the predicted labels.\n"
   ]
  },
  {
   "cell_type": "markdown",
   "metadata": {
    "deletable": false,
    "editable": false,
    "id": "xRZCePt-O8Ns"
   },
   "source": [
    "**Step 2 - Calculate Tree model’s accuracy**\n",
    "\n",
    "The accuracy_score() function takes 2 parameters to calculate the accuracy score and help measure the percentage of correct predictions. So let’s compare contaminated from the test dataset and predictions from the model we just created.\n",
    "\n",
    "From the Lists menu, get a dictVariable block and select the **data** variable. From the Text men,u get a Quote “” block to inform the label name **”Contaminated”**. This list will be used as the true labels for the accuracy calculation.\n",
    "\n",
    "As the second parameter of the **accuracy_score** get the variable **predictions**.  The accuracy score function will calculate the accuracy of the model by comparing the true labels with the predicted labels. The result will be a score that indicates the performance of the model."
   ]
  },
  {
   "cell_type": "markdown",
   "metadata": {
    "deletable": false,
    "editable": false,
    "id": "_EpMS-H9O8QF"
   },
   "source": [
    "**Step 3 - Connect the blocks to run the code**\n",
    "\n",
    "Connect the blocks and run the code!\n",
    "\n",
    "<details>\n",
    "    <summary>Click to see the answer...</summary>\n",
    "\n",
    "![](https://pbs.twimg.com/media/GjtjbUSXEAAzvr7?format=jpg&name=small)\n",
    "</details>"
   ]
  },
  {
   "cell_type": "code",
   "execution_count": null,
   "metadata": {
    "id": "ocxBx850Px99"
   },
   "outputs": [],
   "source": [
    "# blockly code"
   ]
  },
  {
   "cell_type": "markdown",
   "metadata": {
    "deletable": false,
    "editable": false,
    "id": "ZldP5LbWP0CF",
    "jp-MarkdownHeadingCollapsed": true
   },
   "source": [
    "#### Freehand"
   ]
  },
  {
   "cell_type": "markdown",
   "metadata": {
    "deletable": false,
    "editable": false,
    "id": "vGyrBOWlP0Ew"
   },
   "source": [
    "\n",
    "**Step 1 - Call the accuracy_score() method using the metrics library**\n",
    "\n",
    "To calculate the accuracy of the model predictions, we will use the **accuracy_score**() method from the metrics library.  This accuracy score will measure the percentage of correct predictions.\n",
    "\n",
    "`metrics.accuracy_score()`"
   ]
  },
  {
   "cell_type": "markdown",
   "metadata": {
    "deletable": false,
    "editable": false,
    "id": "CFUPeqqIP0Gx"
   },
   "source": [
    "\n",
    "**Step 2 - Calculate Tree model’s accuracy**\n",
    "\n",
    "The accuracy_score() function takes 2 parameters to calculate the accuracy score and help measure the percentage of correct predictions. So let’s compare contaminated from the data dataset and the predictions from the model we just created.\n",
    "\n",
    "`metrics.accuracy_score(data['Contaminated'],predictions)`"
   ]
  },
  {
   "cell_type": "markdown",
   "metadata": {
    "deletable": false,
    "editable": false,
    "id": "pMs_LfQgP0JN"
   },
   "source": [
    "**Step 3 - Run the code**\n",
    "\n",
    "Hit ‘control’ and ‘enter’ at the same time to run the code!\n",
    "\n",
    "<details>\n",
    "    <summary>Click to see the answer...</summary>\n",
    "\n",
    "![](https://pbs.twimg.com/media/GjtjdxYXgAAbBKP?format=jpg&name=small)\n",
    "</details>\n",
    "\n"
   ]
  },
  {
   "cell_type": "markdown",
   "metadata": {
    "deletable": false,
    "editable": false,
    "id": "m71vRLv2P2S5"
   },
   "source": [
    "**Your Turn**:  Have a go at it! Once you start, you’ll be able to assess the performance of the predictions!"
   ]
  },
  {
   "cell_type": "code",
   "execution_count": null,
   "metadata": {
    "id": "dhV0kV_-QYvQ"
   },
   "outputs": [],
   "source": [
    "# freehand code\n"
   ]
  },
  {
   "cell_type": "markdown",
   "metadata": {
    "deletable": false,
    "editable": false,
    "id": "jEJM8p-7P2Ve"
   },
   "source": [
    "**Explanation**: *The accuracy score tells us the percentage of correct predictions out of the total. A higher accuracy score means the model is doing a good job matching the actual labels*."
   ]
  },
  {
   "cell_type": "markdown",
   "metadata": {
    "deletable": false,
    "editable": false,
    "id": "Yo3BKN4eP2Xw"
   },
   "source": [
    "### Goal 9:  Create a grid search for the optimal hyperparemter value.\n",
    "\n",
    "We know the tree can include a lot of different levels? But what is the ideal level? A grid search is a handy way of thinking through what is that right level."
   ]
  },
  {
   "cell_type": "markdown",
   "metadata": {
    "deletable": false,
    "editable": false,
    "id": "nwO2WbIpO8Ss",
    "jp-MarkdownHeadingCollapsed": true
   },
   "source": [
    "#### Blockly"
   ]
  },
  {
   "cell_type": "markdown",
   "metadata": {
    "deletable": false,
    "editable": false,
    "id": "RDoaatBwQyWL"
   },
   "source": [
    "**Step 1 - Create a GridSearchCV object from the model_selection library**\n",
    "\n",
    "Let’s create the object that we’ll use for our gridsearch. In other words, we are going to create a grid that we’ll use to compare the different trees against each other.\n",
    "\n",
    "With the **model_selection** Create a **GridSearchCV** object. That will set up grid of hyperparameters of a model, in our case, a decision tree with different depths, 2, 3 or 4."
   ]
  },
  {
   "cell_type": "markdown",
   "metadata": {
    "deletable": false,
    "editable": false,
    "id": "v1wdirPNQyY1"
   },
   "source": [
    "**Step 2 - Tell the grid search to use decision trees for the comparison**\n",
    "\n",
    "Now we need to tell our gridsearch what we’ll want to do. In this case, we want to have it to use a decision tree as the baseline model that will be used for comparison.\n",
    "\n",
    "From the variables menu, connect the **dtree** variable as the first parameter of the cross_val_predict operation."
   ]
  },
  {
   "cell_type": "markdown",
   "metadata": {
    "deletable": false,
    "editable": false,
    "id": "wir7pmbaQyb7"
   },
   "source": [
    "**Step 3 - Define the hyperparameters**\n",
    "\n",
    "So how many different variables do we want to explore in our gridsearch? In other words, how many levels of our tree do we want to experiment with?\n",
    "\n",
    "As the second parameter of the GridSearchCV constructor, using a freestyle block type **param_grid**. Connect to it a dict (from the List menu), associated with a freestyle block of **max_depth=**. Lastly, from the List menu, create a list with the values (numbers from the Math menu): 2, 3, and 4. That will define the possible tree depths."
   ]
  },
  {
   "cell_type": "markdown",
   "metadata": {
    "deletable": false,
    "editable": false,
    "id": "uu1IhvcLQyeP"
   },
   "source": [
    "**Step 4 - How many folds in the grid?**\n",
    "\n",
    "Now we need to setup the number of chunks (‘folds’) that we will explore? In our case, let’s break this down into 10 different ‘folds’.\n",
    "\n",
    "Using the freestyle block define the number of folds to 10, as **cv=10**. The 10-fold cross-validation divides the dataset into 10 parts, trains and tests the model 10 times with each part used once as the test set, and averages the results for a more reliable performance estimate."
   ]
  },
  {
   "cell_type": "markdown",
   "metadata": {
    "deletable": false,
    "editable": false,
    "id": "RHa7SiyQU1QW"
   },
   "source": [
    "**Step 5 - Assigning the grid labels to the gridSearch variable**\n",
    "\n",
    "We’ve done all this work, so let’s make sure to store it in a separate variable we can reference later on. In this case, let’s assign the gridsearch object into the **gridSearch** variable\n",
    "\n",
    "Set the gridSearch variable to the object created with the grid search set up."
   ]
  },
  {
   "cell_type": "markdown",
   "metadata": {
    "deletable": false,
    "editable": false,
    "id": "BYiB1HOCU1Ta"
   },
   "source": [
    "**Step 6 - Connect the blocks to run the code**\n",
    "\n",
    "Connect the blocks and run the code!\n",
    "\n",
    "\n",
    "<details>\n",
    "    <summary>Click to see the answer...</summary>\n",
    "\n",
    "![](https://pbs.twimg.com/media/Gjtjni3XEAALw2y?format=jpg&name=medium)\n",
    "</details>\n"
   ]
  },
  {
   "cell_type": "code",
   "execution_count": null,
   "metadata": {
    "id": "aI6Tu6fEVA48"
   },
   "outputs": [],
   "source": [
    "# blockly code\n"
   ]
  },
  {
   "cell_type": "markdown",
   "metadata": {
    "deletable": false,
    "editable": false,
    "id": "icdDBR7qQygW",
    "jp-MarkdownHeadingCollapsed": true
   },
   "source": [
    "#### Freehand"
   ]
  },
  {
   "cell_type": "markdown",
   "metadata": {
    "deletable": false,
    "editable": false,
    "id": "RfY3hJ_DVCc3"
   },
   "source": [
    "\n",
    "**Step 1 - Create a GridSearchCV object from the model_selection library**\n",
    "\n",
    "With the **model_selection** create a GridSearchCV object that will set up a grid of hyperparameters of a model, in our case, a decision tree with different depths, 2, 3 or 4.\n",
    "\n",
    "`model_selection.GridSearchCV( )`"
   ]
  },
  {
   "cell_type": "markdown",
   "metadata": {
    "deletable": false,
    "editable": false,
    "id": "rRVemVnYVCfM"
   },
   "source": [
    "**Step 2 - Tell the grid search to use decision trees for the comparison**\n",
    "\n",
    "From the variables menu, connect the **dtree** variable as the first parameter of the cross_val_predict operation.\n",
    "\n",
    "`model_selection.GridSearchCV(dtree )`"
   ]
  },
  {
   "cell_type": "markdown",
   "metadata": {
    "deletable": false,
    "editable": false,
    "id": "YpOc0hUaVChR"
   },
   "source": [
    "**Step 3 - Define the hyperparameters**\n",
    "\n",
    "As the second parameter of the GridSearchCV constructior, using a freestyle block type **param_grid**. Connect to it a dict (from the List menu), associated with a freestyle block of **max_depth=**. Lastly, from the List menu, create a list with the values (numbers from the Math menu): 2, 3, and 4. That will define the possible tree depths.\n",
    "\n",
    "`model_selection.GridSearchCV(dtree,param_grid= (dict(max_depth= [2, 3, 4])) )`"
   ]
  },
  {
   "cell_type": "markdown",
   "metadata": {
    "deletable": false,
    "editable": false,
    "id": "c-ZzzyMbVCja"
   },
   "source": [
    "**Step 4 - How many folds in the grid?**\n",
    "\n",
    "Using the freestyle block define the number of folds to 10, as **cv=10**. The 10-fold cross-validation divides the dataset into 10 parts, trains and tests the model 10 times with each part used once as the test set, and averages the results for a more reliable performance estimate.\n",
    "\n",
    "`model_selection.GridSearchCV(dtree,param_grid= (dict(max_depth= [2, 3, 4])),cv= 10)`"
   ]
  },
  {
   "cell_type": "markdown",
   "metadata": {
    "deletable": false,
    "editable": false,
    "id": "9KTIPkeWVClo"
   },
   "source": [
    "**Step 5 - Assigning the grid labels to the gridSearch variable**\n",
    "\n",
    "Set the **gridSearch** variable to the objected created with the grid search set up.\n",
    "\n",
    "`gridSearch = model_selection.GridSearchCV(dtree,param_grid= (dict(max_depth= [2, 3, 4])),cv= 10)`"
   ]
  },
  {
   "cell_type": "markdown",
   "metadata": {
    "deletable": false,
    "editable": false,
    "id": "sWHNnKWZVCnz"
   },
   "source": [
    "**Step 6 - Run the code**\n",
    "\n",
    "Hit ‘control’ and ‘enter’ at the same time to run the code!\n",
    "\n",
    "<details>\n",
    "    <summary>Click to see the answer...</summary>\n",
    "\n",
    "![](https://pbs.twimg.com/media/GjtjpytW8AAw_Ub?format=jpg&name=small)\n",
    "</details>"
   ]
  },
  {
   "cell_type": "markdown",
   "metadata": {
    "deletable": false,
    "editable": false,
    "id": "FZCuMujZV-qQ"
   },
   "source": [
    "**Your Turn:** Give it a go! Let’s see what our results are once we display them!"
   ]
  },
  {
   "cell_type": "code",
   "execution_count": null,
   "metadata": {
    "id": "wvzhStftWPx2"
   },
   "outputs": [],
   "source": [
    "# freehand code\n"
   ]
  },
  {
   "cell_type": "markdown",
   "metadata": {
    "deletable": false,
    "editable": false,
    "id": "qObzvVPnVCqS"
   },
   "source": [
    "**Explanation**: *You have created a tool for systematically optimizing a decision tree (dtree). GridSearchCV automates the process of trying out different combinations of hyperparameters, which are settings that control the model's behavior. The param_grid argument, which would be completed in the full code, defines the specific hyperparameters and their possible values to be tested. The GridSearchCV object will then train and evaluate the decision tree with each combination of hyperparameters, using cross-validation to assess performance, and ultimately identify the best-performing set of settings*."
   ]
  },
  {
   "cell_type": "markdown",
   "metadata": {
    "deletable": false,
    "editable": false,
    "id": "-Shc5JNhBsK9"
   },
   "source": [
    "### Goal 10: Perform a grid search using the cross validation technique.\n",
    "\n",
    "So our next step is to train the model to predict the label, in this particular case, whether something is contaminated. Before we use the tree, but now we’ll use multiple trees that we defined in our gridsearch. Let’s jump in!"
   ]
  },
  {
   "cell_type": "markdown",
   "metadata": {
    "deletable": false,
    "editable": false,
    "id": "Vw9xCW2yBsNj",
    "jp-MarkdownHeadingCollapsed": true
   },
   "source": [
    "#### Blockly"
   ]
  },
  {
   "cell_type": "markdown",
   "metadata": {
    "deletable": false,
    "editable": false,
    "id": "LK7KVDCBBsPx"
   },
   "source": [
    "**Step 1 - Prepare to train and predict the model**\n",
    "\n",
    "First, we need to start by doing the training and prediction.\n",
    "\n",
    "With the **model_selection** library Do the **cross_val_predict**, which will set up the cross-validation process. This process will be a model, a tree in our case, train it using the cross-validation technique on a single dataset. Finally, the label will be predicted for all records in the dataset."
   ]
  },
  {
   "cell_type": "markdown",
   "metadata": {
    "deletable": false,
    "editable": false,
    "id": "1AuMofbuBsSb"
   },
   "source": [
    "**Step 2 - Inform the grid to the cross validation operation**\n",
    "\n",
    "Now we need to say we are using the grid search as the baseline for our cross-validation we’ll be doing.\n",
    "\n",
    "From the variables menu, connect the **gridSearch** variable as the first parameter of the cross_val_predict operation."
   ]
  },
  {
   "cell_type": "markdown",
   "metadata": {
    "deletable": false,
    "editable": false,
    "id": "l5zpbWAnBsU7"
   },
   "source": [
    "**Step 3 - Have the training features read**y\n",
    "\n",
    "So what are we doing to predict on in our baseline? These will be our variables that we’ll use to predict our label.\n",
    "\n",
    "From the list menu, get a dictVariable as **data**. Select the desired columns (features), as [], create a list with the feature names (Quote blocks): 'Methane', 'NOxEmissions', 'PM2.5Emissions', 'VOCEmissions', 'SO2Emissions', 'CO2Emissions’."
   ]
  },
  {
   "cell_type": "markdown",
   "metadata": {
    "deletable": false,
    "editable": false,
    "id": "j1bZEUIvBsYW"
   },
   "source": [
    "**Step 4 - Have the training label ready**\n",
    "\n",
    "So what are we trying to predict? In our case, we are looking to predict the variable **Contaminated**.\n",
    "\n",
    "From the list menu, get a dictVariable as **data**. Select the desired column (label): [ “Contaminated” (Quote block) ]. This will define the target variable to train the model.  "
   ]
  },
  {
   "cell_type": "markdown",
   "metadata": {
    "deletable": false,
    "editable": false,
    "id": "o9-fpdBVCp7s"
   },
   "source": [
    "**Step 5 - Assigning the predicted labels to the predictions variable**\n",
    "\n",
    "We’ve done all this work, so let’s make sure to store it in a separate variable we can reference later on. In this case, let’s call it **predictions**.\n",
    "\n",
    "Set the predictions variable to the result of the cross_val_predict operation. That variable will hold the predictions for all records in the original dataset.  "
   ]
  },
  {
   "cell_type": "markdown",
   "metadata": {
    "deletable": false,
    "editable": false,
    "id": "WYrU1pCfCqCQ"
   },
   "source": [
    "**Step 6 - Print the predictions**\n",
    "\n",
    "From the variable menu, drag the predictions variable to the canva, which will print the predictions on the screen.\n"
   ]
  },
  {
   "cell_type": "markdown",
   "metadata": {
    "deletable": false,
    "editable": false,
    "id": "U_BEP8EUBsbg"
   },
   "source": [
    "**Step 7 - Connect the blocks to run the code**\n",
    "\n",
    "Connect the blocks and run the code!\n",
    "\n",
    "\n",
    "<details>\n",
    "    <summary>Click to see the answer...</summary>\n",
    "\n",
    "![](https://pbs.twimg.com/media/GjtjzQnXUAAS7iT?format=jpg&name=small)\n",
    "</details>"
   ]
  },
  {
   "cell_type": "code",
   "execution_count": null,
   "metadata": {
    "id": "NpkddmXsC4Mk"
   },
   "outputs": [],
   "source": [
    "# blockly code\n"
   ]
  },
  {
   "cell_type": "markdown",
   "metadata": {
    "deletable": false,
    "editable": false,
    "id": "A7FBxLUUBsd8",
    "jp-MarkdownHeadingCollapsed": true
   },
   "source": [
    "#### Freehand"
   ]
  },
  {
   "cell_type": "markdown",
   "metadata": {
    "deletable": false,
    "editable": false,
    "id": "rNSyOpUZC53E"
   },
   "source": [
    "\n",
    "\n",
    "**Step 1 - Call the cross_val_predict function from the model_selection library**\n",
    "\n",
    "First, we need to start by doing the training and prediction.\n",
    "\n",
    "With the **model_selection** library Do the **cross_val_predict**, which will set up the cross-validation process. This process will be a model, a tree in our case, train it using the cross-validation technique on a single dataset. Finally, the label will be predicted for all records on the dataset.\n",
    "\n",
    "`model_selection.cross_val_predict( )`"
   ]
  },
  {
   "cell_type": "markdown",
   "metadata": {
    "deletable": false,
    "editable": false,
    "id": "P7dYPNu0C56f"
   },
   "source": [
    "**Step 2 - Inform the grid search to the cross validation operation**\n",
    "\n",
    "Now we need to say we are using the grid search as the baseline for our cross-validation, we’ll be doing.\n",
    "\n",
    "From the variables menu, connect the **gridSearch** variable as the first parameter of the cross_val_predict operation.\n",
    "\n",
    "`model_selection.cross_val_predict(gridSearch )`"
   ]
  },
  {
   "cell_type": "markdown",
   "metadata": {
    "deletable": false,
    "editable": false,
    "id": "uMgwK2JSC59C"
   },
   "source": [
    "**Step 3 - Define the training features**\n",
    "\n",
    "So what are we doing to predict on in our baseline? These will be used our variables that we’ll use to predict our label.\n",
    "\n",
    "From the list menu, get a dictVariable as **data**. Select the desired columns (features), as [], create a list with the feature names (Quote blocks): 'Methane', 'NOxEmissions', 'PM2.5Emissions', 'VOCEmissions', 'SO2Emissions', 'CO2Emissions’.\n",
    "\n",
    "`model_selection.cross_val_predict(gridSearch,data[['Methane', 'NOxEmissions', 'PM2.5Emissions', 'VOCEmissions', 'SO2Emissions', 'CO2Emissions']] )`"
   ]
  },
  {
   "cell_type": "markdown",
   "metadata": {
    "deletable": false,
    "editable": false,
    "id": "jw58aB7iC5_Z"
   },
   "source": [
    "**Step 4 - Define the training label**\n",
    "\n",
    "So what are we trying to predict? In our case, we are looking to predict the variable **Contaminated**.\n",
    "\n",
    "From the list menu, get a dictVariable as **data**. Select the desired column (label): [ “Contaminated” (Quote block) ]. This will define the target variable to train the model.\n",
    "\n",
    "`model_selection.cross_val_predict(gridSearch,data[['Methane', 'NOxEmissions', 'PM2.5Emissions', 'VOCEmissions', 'SO2Emissions', 'CO2Emissions']],data['Contaminated']) `"
   ]
  },
  {
   "cell_type": "markdown",
   "metadata": {
    "deletable": false,
    "editable": false,
    "id": "v_40iyooC6Bu"
   },
   "source": [
    "**Step 5 - Assigning the predicted labels to the predictions variable**\n",
    "\n",
    "We’ve done all this work, so let’s make sure to store it in a separate variable we can reference later on. In this case, let’s call it **predictions**.\n",
    "\n",
    "Set the **predictions** variable to the result of the cross_val_predict operation. That variable will hold the predictions for all records in the original dataset.\n",
    "\n",
    "`predictions = model_selection.cross_val_predict(gridSearch,data[['Methane', 'NOxEmissions', 'PM2.5Emissions', 'VOCEmissions', 'SO2Emissions', 'CO2Emissions']],data['Contaminated'])`"
   ]
  },
  {
   "cell_type": "markdown",
   "metadata": {
    "deletable": false,
    "editable": false,
    "id": "O9JjigznEAyI"
   },
   "source": [
    "**Step 6 - Print the predictions**\n",
    "\n",
    "From the variable menu, drag the predictions variable to the canva, which will print the **predictions** on the screen.\n",
    "\n",
    "`predictions`"
   ]
  },
  {
   "cell_type": "markdown",
   "metadata": {
    "deletable": false,
    "editable": false,
    "id": "OkswdGE1EAv3"
   },
   "source": [
    "**Step 7 - Run the code**\n",
    "\n",
    "Hit ‘control’ and ‘enter’ at the same time to run the code!\n",
    "\n",
    "<details>\n",
    "    <summary>Click to see the answer...</summary>\n",
    "\n",
    "![](https://pbs.twimg.com/media/Gjtj1X5XEAAKslc?format=jpg&name=small)\n",
    "</details>"
   ]
  },
  {
   "cell_type": "markdown",
   "metadata": {
    "deletable": false,
    "editable": false,
    "id": "orEQhuPnC6LI"
   },
   "source": [
    "**Your Turn**: Test it out yourself!"
   ]
  },
  {
   "cell_type": "code",
   "execution_count": null,
   "metadata": {
    "id": "w59aQoutENDs"
   },
   "outputs": [],
   "source": [
    "# freehand code\n"
   ]
  },
  {
   "cell_type": "markdown",
   "metadata": {
    "deletable": false,
    "editable": false,
    "id": "4Gzn_TUrEPM9"
   },
   "source": [
    "**Explanation**: *The classification report provides some metrics, particularly precision and recall. Precision measures how many of the samples the model labeled as contaminated were actually contaminated, essentially showing the accuracy of its positive predictions. Recall, on the other hand, reflects the model's ability to detect all actual contaminated samples, indicating how well it \"found\" the true cases. In this report, the precision and recall scores are both high, at 0.99 or 99% for each class, which demonstrates that the model is highly accurate in identifying both contaminated and non-contaminated samples. These scores mean that nearly all positive predictions made by the model were correct, and it missed almost none of the actual contaminated cases.*"
   ]
  },
  {
   "cell_type": "markdown",
   "metadata": {
    "deletable": false,
    "editable": false,
    "id": "ih0HhASKEPmH"
   },
   "source": [
    "## WHAT DID YOU LEARN?\n"
   ]
  },
  {
   "cell_type": "markdown",
   "metadata": {
    "deletable": false,
    "editable": false,
    "id": "vxTgZ-ZwEPo2"
   },
   "source": [
    "Cross-validation helps us use all our data for training and testing with specific tools to avoid overfitting. By splitting data into sections and testing different parts at different times, our model gets better at making predictions.  Grid search helps find the best hyperparameters by testing more than one option. Remember, it’s important to  test hyperparameters on the same data we trained on, so that we don’t get misleading results."
   ]
  },
  {
   "cell_type": "markdown",
   "metadata": {
    "deletable": false,
    "editable": false,
    "id": "_GT-7InSEPrP"
   },
   "source": [
    "## WHAT’S NEXT?"
   ]
  },
  {
   "cell_type": "markdown",
   "metadata": {
    "deletable": false,
    "editable": false,
    "id": "zgD4xoneEPv3"
   },
   "source": [
    "[Data Cleaning](Data_Cleaning.ipynb)"
   ]
  },
  {
   "cell_type": "markdown",
   "metadata": {
    "deletable": false,
    "editable": false,
    "id": "IWybOd6fEi-l"
   },
   "source": [
    "## ANY EXTRAS?"
   ]
  },
  {
   "cell_type": "markdown",
   "metadata": {
    "deletable": false,
    "editable": false,
    "id": "g1Z1h3GcEjjQ"
   },
   "source": [
    "none"
   ]
  }
 ],
 "metadata": {
  "colab": {
   "provenance": []
  },
  "kernelspec": {
   "display_name": "Python 3 (ipykernel)",
   "language": "python",
   "name": "python3"
  },
  "language_info": {
   "codemirror_mode": {
    "name": "ipython",
    "version": 3
   },
   "file_extension": ".py",
   "mimetype": "text/x-python",
   "name": "python",
   "nbconvert_exporter": "python",
   "pygments_lexer": "ipython3",
   "version": "3.12.6"
  }
 },
 "nbformat": 4,
 "nbformat_minor": 4
}
