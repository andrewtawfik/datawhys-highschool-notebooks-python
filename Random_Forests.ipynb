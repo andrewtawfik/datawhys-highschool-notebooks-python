{
 "cells": [
  {
   "cell_type": "markdown",
   "metadata": {
    "deletable": false,
    "editable": false,
    "id": "CdlkF5rVc5Np"
   },
   "source": [
    "# Random Forests"
   ]
  },
  {
   "cell_type": "markdown",
   "metadata": {
    "deletable": false,
    "editable": false,
    "id": "ELq4L7oMc7Cf"
   },
   "source": [
    "## ANTICIPATED TIME:"
   ]
  },
  {
   "cell_type": "markdown",
   "metadata": {
    "deletable": false,
    "editable": false,
    "id": "ANVKa-5cc7E4"
   },
   "source": [
    "2 hours"
   ]
  },
  {
   "cell_type": "markdown",
   "metadata": {
    "deletable": false,
    "editable": false,
    "id": "1vy_OAi2c7HV"
   },
   "source": [
    "## BEFORE YOU BEGIN:\n"
   ]
  },
  {
   "cell_type": "markdown",
   "metadata": {
    "deletable": false,
    "editable": false,
    "id": "3wWf7Rjnc7Jx"
   },
   "source": [
    "[Regression Trees](Regression_Trees.ipynb)"
   ]
  },
  {
   "cell_type": "markdown",
   "metadata": {
    "deletable": false,
    "editable": false,
    "id": "6H6iAZAldKVm"
   },
   "source": [
    "## WHAT YOU WILL LEARN:\n"
   ]
  },
  {
   "cell_type": "markdown",
   "metadata": {
    "deletable": false,
    "editable": false,
    "id": "fUfeyVZAdK5p"
   },
   "source": [
    "\n",
    "\n",
    "* What is overfitting and why is it bad?\n",
    "* What random forests and how do they improve accuracy compared to individual decision trees?\n",
    "* How hyperparameters can be tweaked to help make the best random forest model?\n",
    "\n"
   ]
  },
  {
   "cell_type": "markdown",
   "metadata": {
    "deletable": false,
    "editable": false,
    "id": "t-Gs9eZbc7MT"
   },
   "source": [
    "## DEFINITIONS YOU’LL NEED TO KNOW:"
   ]
  },
  {
   "cell_type": "markdown",
   "metadata": {
    "deletable": false,
    "editable": false,
    "id": "AgGSS0hrc7Vc"
   },
   "source": [
    "* Random forest - an ‘mix’ algorithm that combines multiple decision trees to improve how well a tree can make a prediction\n",
    "* Bootrapping - choosing small random samples of our data to make each new tree.\n",
    "* Bootstrapping aggregating (bagging) - an ensemble learning technique that combines the predictions of multiple models to improve the overall predictive performance and reduce the risk of overfitting.\n",
    "* Overfitting - when a model learns too much from training that it messes up when we need to make new predictions\n",
    "* Out-of-bag error (OBB) - a way to measure how well a model can predict results\n",
    "* Feature Importance - how much each variable helps predict the final outcome\n",
    "* Training Data - the part of data used to teach a machine learning model to recognize patterns.\n",
    "* Testing Data - the other part of data used to evaluate a trained model’s accuracy by comparing predictions to actual values."
   ]
  },
  {
   "cell_type": "markdown",
   "metadata": {
    "deletable": false,
    "editable": false,
    "id": "XYpsmh66dk-F"
   },
   "source": [
    "## SCENARIO"
   ]
  },
  {
   "cell_type": "markdown",
   "metadata": {
    "deletable": false,
    "editable": false,
    "html": "<iframe class='metadata-html' width='560' height='315' src='https://video.olney.ai/14-forest.mp4' title='YouTube video player' frameborder='0' allow='accelerometer; autoplay; clipboard-write; encrypted-media; gyroscope; picture-in-picture; web-share' referrerpolicy='strict-origin-when-cross-origin' allowfullscreen></iframe>",
    "id": "6gG3AdBCdlAd"
   },
   "source": [
    "\n",
    "Angelia and Diego built a decision tree to predict pollution levels in their city, but it kept making mistakes with new data. The model was a little too perfect—so perfect that it wasn’t helpful when presented with new situations. They looked into this a bit more and realized that everytime they ran a decision tree, it was taking a random subset of the data. So how could they use the power of decision trees, but not worry about the random split between the training and testing data?\n",
    "One person suggested using not just one decision tree, but could they use multiple trees to help reduce some of the worry? To fix this, someone suggested using random forests. By creating many slightly different trees and averaging their predictions, they got much more accurate predictions on the categories.\n",
    "With their new model, they could identify places where pollution is the highest. Now they wondered—what other problems could random forests help solve?\n"
   ]
  },
  {
   "cell_type": "markdown",
   "metadata": {
    "deletable": false,
    "editable": false,
    "id": "JNrol-nYdlCe"
   },
   "source": [
    "## WHAT DO I NEED TO KNOW?"
   ]
  },
  {
   "cell_type": "markdown",
   "metadata": {
    "deletable": false,
    "editable": false,
    "id": "Up7I7SkKdlE8"
   },
   "source": [
    "Sometimes when we’re working with decision trees (categorical variables) or regression trees (numerical variables), we run into problems where they seem just a bit…..too perfect. They try so hard to ‘fit’ the data that after training, they don’t know what to do when they come up with new data during testing. This is called **overfitting**.\n",
    "How can we fix the problem of this one-too-perfect tree problem? Instead of building one perfect tree, how about we build many imperfect trees…or a forest of trees! The idea is to create many trees that are slightly different from each other and then average their answers. When we average the predictions from many trees that aren’t perfect, we can get a prediction that is as good, or better, than a single perfect tree."
   ]
  },
  {
   "cell_type": "markdown",
   "metadata": {
    "deletable": false,
    "editable": false,
    "id": "HGtF8NVMdlHR"
   },
   "source": [
    "**How Can We Make Trees in Our Forest Different?**\n",
    "\n",
    "To make sure our trees are different, we do something called **bootstrapping**. It’s a fancy way of saying we’re choosing small random samples of our data–like shuffling and picking cards from a deck– to make each new tree. This helps us make sure that no trees have the exact same data. In other words, bootstrapping is all about selecting random samples for each of our trees!\n",
    "\n",
    "When we average the predictions from all these bootstrapped trees, it’s called **bootstrap** **aggregating** or **bagging**. For example, let’s say we have 300 decision trees. If 151 trees say “Pass” and 149 say “Fail” for a student, the final prediction of the forest is “Pass” because the data from most of the trees agree. The majority wins!"
   ]
  },
  {
   "cell_type": "markdown",
   "metadata": {
    "deletable": false,
    "editable": false,
    "id": "FxT2qL8YdlJp"
   },
   "source": [
    "**How ‘Random’ Are Random Forests?**\n",
    "\n",
    "After selecting features to create a random forest model (goal 4), how does this model work? Because we have many ‘random’ trees, we could also make predictions become more reliable by using bootstrapping and randomly selecting those features to make a tree. Instead of using every variable or feature to make each tree, the algorithm will pick a random set of features (variables) to select. This helps the trees become even more unique, with their own specific identities!\n",
    "\n",
    "Ultimately, a random forest is excellent because it can help us combine and consider parts of many different trees. Whether it’s predicting if someone will pass or fail a class….or how many miles an electric scooter can travel with one charge, random forests work like a team—we can help minimize the bias from just one tree.\n"
   ]
  },
  {
   "cell_type": "markdown",
   "metadata": {
    "deletable": false,
    "editable": false,
    "id": "aU65kce_dlL0"
   },
   "source": [
    "### Goal 1: Importing the pandas library.\n",
    "\n",
    "Need extra tools to help solve this problem? Well, we can bring in extra ‘libraries’ to help us do extra data science stuff. You can think of it as an ‘add-on’. In this case, we bring in pandas, which is a popular library for data science."
   ]
  },
  {
   "cell_type": "markdown",
   "metadata": {
    "deletable": false,
    "editable": false,
    "id": "X46B2sqDdlN7",
    "jp-MarkdownHeadingCollapsed": true
   },
   "source": [
    "#### Blockly"
   ]
  },
  {
   "cell_type": "markdown",
   "metadata": {
    "deletable": false,
    "editable": false,
    "id": "7VtmqgU6dlQa"
   },
   "source": [
    "**Step 1 - Start the import**\n",
    "\n",
    "First, we need to set up a “command” to tell the computer what to do. In this case, “command” is to “import” to bring the add-on package in.\n",
    "\n",
    "Bring in the IMPORT menu, which can be helpful to bring in other data tools. In this case, we're bringing in the **import** block."
   ]
  },
  {
   "cell_type": "markdown",
   "metadata": {
    "deletable": false,
    "editable": false,
    "id": "dRUc1C-dek_d"
   },
   "source": [
    "**Step 2 - Tell what library to import**\n",
    "\n",
    "In the text area, we type the name of the library we want to import. A library is like an extra thing we bring in to give us more coding abilities. In our case, we will type out **pandas**, which will bring in some cool data manipulation features."
   ]
  },
  {
   "cell_type": "markdown",
   "metadata": {
    "deletable": false,
    "editable": false,
    "id": "PsP-jLq0elB6"
   },
   "source": [
    "**Step 3 - Rename the library so it’s easy to remember**\n",
    "\n",
    "Once you are done, put the **import** and **package** together in a single variable. This handy feature helps cut down on all the typing later on. You can call it whatever is easiest for you to remember. In the example below, we’ve put everything into **pd**, and we type it in the open area."
   ]
  },
  {
   "cell_type": "markdown",
   "metadata": {
    "deletable": false,
    "editable": false,
    "id": "HBJvmc1LelEV"
   },
   "source": [
    "**Step 4 - Connect the blocks to run the code**\n",
    "\n",
    "Connect the blocks and run the code!\n",
    "\n",
    "<details>\n",
    "    <summary>Click to see the answer...</summary>\n",
    "\n",
    "![](https://pbs.twimg.com/media/GZYmOOpW8AAf7uc?format=png&name=small)\n",
    "</details>"
   ]
  },
  {
   "cell_type": "code",
   "execution_count": null,
   "metadata": {
    "id": "iINe04SefJXz"
   },
   "outputs": [],
   "source": [
    "# blockly code\n"
   ]
  },
  {
   "cell_type": "markdown",
   "metadata": {
    "deletable": false,
    "editable": false,
    "id": "yNp3eh8GfBPQ",
    "jp-MarkdownHeadingCollapsed": true
   },
   "source": [
    "#### Freehand"
   ]
  },
  {
   "cell_type": "markdown",
   "metadata": {
    "deletable": false,
    "editable": false,
    "id": "0QWY6h7cfBR6"
   },
   "source": [
    "**Step 1 - Start the import:**\n",
    "\n",
    "First, we need to set up a “command” to tell the computer what to do. In this case, “command” is to “import” to bring the add-on package in."
   ]
  },
  {
   "cell_type": "markdown",
   "metadata": {
    "deletable": false,
    "editable": false,
    "id": "PYPrIZeFfBUT"
   },
   "source": [
    "**Step 2 - Tell what library to import**\n",
    "\n",
    "In the text area, we type the name of the library we want to import. A library is like an extra thing we bring in to give us more coding abilities. In our case, we will type out **pandas**, which will bring in some cool data manipulation features."
   ]
  },
  {
   "cell_type": "markdown",
   "metadata": {
    "deletable": false,
    "editable": false,
    "id": "b2Ts_-XZfBW0"
   },
   "source": [
    "\n",
    "**Step 3 - Rename the library so it’s easy to remember**\n",
    "\n",
    "Once you are done, put the ‘import’ and ‘package’ together in a single variable. This handy feature helps cut down on all the typing later on. Feel free to use whatever name you want that will help you remember it later on. In the example below, we’ve put everything into **pd**."
   ]
  },
  {
   "cell_type": "markdown",
   "metadata": {
    "deletable": false,
    "editable": false,
    "id": "-4O8ZrDwfBY7"
   },
   "source": [
    "**Step 4 - Run the code**\n",
    "\n",
    "Hit ‘control’ and ‘enter’ at the same time to run the code!\n",
    "\n",
    "<details>\n",
    "    <summary>Click to see the answer...</summary>\n",
    "\n",
    "![](https://pbs.twimg.com/media/GZmkVCYWEA4oGso?format=jpg&name=small)\n",
    "</details>"
   ]
  },
  {
   "cell_type": "markdown",
   "metadata": {
    "deletable": false,
    "editable": false,
    "id": "b1XoRiPXfBbO"
   },
   "source": [
    "\n",
    "**Your Turn**: Now it’s your turn! We’re going to dive into the pandas package, which helps us with some really cool data science things. First, let’s import the package and assign it to the variable “pd” to make it easier to use throughout our notebook."
   ]
  },
  {
   "cell_type": "code",
   "execution_count": null,
   "metadata": {
    "id": "55NnFCOXfrEJ"
   },
   "outputs": [],
   "source": [
    "# freehand code\n"
   ]
  },
  {
   "cell_type": "markdown",
   "metadata": {
    "deletable": false,
    "editable": false,
    "id": "-8P7-_zSfBfq"
   },
   "source": [
    "**Explanation**: *Congrats!  Your attempts finally made it!  Now you have successfully imported the \"pandas\" package as the variable \"pd\"*."
   ]
  },
  {
   "cell_type": "markdown",
   "metadata": {
    "deletable": false,
    "editable": false,
    "id": "tG8ZMbALfv_n"
   },
   "source": [
    "### Goal 2: Bringing in the dataframe.\n",
    "\n",
    "Load data into a dataframe in Python, use the pd.read_csv command to read a CSV file and store it in a variable for easy data manipulation and analysis.\n"
   ]
  },
  {
   "cell_type": "markdown",
   "metadata": {
    "deletable": false,
    "editable": false,
    "id": "va1iK-cGfwB_",
    "jp-MarkdownHeadingCollapsed": true
   },
   "source": [
    "#### Blockly"
   ]
  },
  {
   "cell_type": "markdown",
   "metadata": {
    "deletable": false,
    "editable": false,
    "id": "y2z-ORawfwER"
   },
   "source": [
    "**Step 1 - Write out the variable name you want to use**\n",
    "\n",
    "Now that we’re all set with our new package to help us to do cool things, let’s bring the data into a variable called **data**. Think of it as a digital spreadsheet with much more power to analyze and manipulate the data!\n",
    "\n",
    "In Blockly, bring in the VARIABLES menu."
   ]
  },
  {
   "cell_type": "markdown",
   "metadata": {
    "deletable": false,
    "editable": false,
    "id": "xnXIhDP4fwGx"
   },
   "source": [
    "**Step 2 - Assign the dataframe to the variable you created**\n",
    "\n",
    "Just like we did before, let’s type out a variable name. Rather than type out the full file name for our data, this easy to remember name will hold the data we bring in.\n",
    "\n",
    "In Blockly, go to the Variables and drag the Set block for the **data** variable. This will allow us to assign the result of a function call to the variable. Assign the dataframe\n",
    "\n",
    "From the Variables menu, drag the Set block for the **data** variable. This will allow us to assign the result of a function call to the variable."
   ]
  },
  {
   "cell_type": "markdown",
   "metadata": {
    "deletable": false,
    "editable": false,
    "id": "NPDkk1IPfwJB"
   },
   "source": [
    "**Step 3 - Bring in the data**\n",
    "\n",
    "Now we need to look at the file that has all our data. To load our dataframe, we’ll use a simple command to bring in the file we need (CSV….Comma Separated Values). Let’s say we have a file called ‘datasets/AirQualityCars.csv' in the folder **‘datasets’**. We’re telling Python to read the CSV file and store it in a variable called **data**.\n",
    "\n",
    "From the Variable menu, drag a DO block using the **pd** variable, go ahead with the do operation **read_csv**. The read_csv function reads a CSV file and returns a DataFrame object.\n",
    "\n",
    "In our case, let’s bring in the “datasets/AirQualityClass.csv\" (use the Quotes from the TEXT menu) because that is what Kiana is working with.\n",
    "\n",
    "From the Variable menu, drag a DO block using the **pd** variable, go ahead with the do operation read_csv. The read_csv function reads a CSV file and returns a DataFrame object. In our case, let’s bring in the \"datasets/AirQualityClass.csv\" (user the Quotes from the TEXT menu) because that is what is working with."
   ]
  },
  {
   "cell_type": "markdown",
   "metadata": {
    "deletable": false,
    "editable": false,
    "id": "Xu2_JgSOfwLl"
   },
   "source": [
    "**Step 4 - Display the variable**\n",
    "\n",
    "Let’s see it now by ‘displaying’ and showing our work.\n",
    "\n",
    "Drag the **data** variable to the workspace, making it available for further use in our program. This step is more of a visualization step, as it allows us to see the variable in the Blockly workspace."
   ]
  },
  {
   "cell_type": "markdown",
   "metadata": {
    "deletable": false,
    "editable": false,
    "id": "mkObBtr7fwN-"
   },
   "source": [
    "**Step 5 - Connect the blocks to run the code**\n",
    "\n",
    "Connect the blocks and run the code!\n",
    "\n",
    "<details>\n",
    "    <summary>Click to see the answer...</summary>\n",
    "\n",
    "![](https://pbs.twimg.com/media/GiuKgNgXEAA3dDc?format=jpg&name=small)\n",
    "</details>"
   ]
  },
  {
   "cell_type": "code",
   "execution_count": null,
   "metadata": {
    "id": "jtxGZ2EZgq2P"
   },
   "outputs": [],
   "source": [
    "# blockly code\n"
   ]
  },
  {
   "cell_type": "markdown",
   "metadata": {
    "deletable": false,
    "editable": false,
    "id": "-oG6CCzPgnva",
    "jp-MarkdownHeadingCollapsed": true
   },
   "source": [
    "#### Freehand"
   ]
  },
  {
   "cell_type": "markdown",
   "metadata": {
    "deletable": false,
    "editable": false,
    "id": "031ubl_Wgnx3"
   },
   "source": [
    "\n",
    "**Step 1 - Write out the variable name you want to use**\n",
    "\n",
    "Now that we’re all set with our new package to help us to do cool things, let’s bring the data into a variable called **data**. Think of it as a digital spreadsheet with much more power to analyze and manipulate the data!\n",
    "\n",
    "Just like we did before, let’s type out a variable name. Rather than type out the full file name for our data, this easy to remember name will hold the data we bring in.\n",
    "\n",
    "`pd.read_csv() `"
   ]
  },
  {
   "cell_type": "markdown",
   "metadata": {
    "deletable": false,
    "editable": false,
    "id": "G_sibs6Jgn0V"
   },
   "source": [
    "**Step 2 - Bring in the data**\n",
    "\n",
    "Now we need to look at the file that has all our data.\n",
    "\n",
    "To load our dataframe, we’ll use a simple command to bring in the file we need (CSV….Comma Separated Values). Let’s say we have a file called ‘AirQualityCars.csv' in the folder **‘datasets’**. We’re telling Python to read the CSV file and store it in a variable called **data**. For this function, we need to specify the code as “pd.read_csv”, which makes the code read the csv file. This variable is now our dataframe!\n",
    "\n",
    "In our case, let’s bring in the “datasets/AirQualityClass.csv” (use the Quotes from the TEXT menu)\n",
    "\n",
    "Now that we have read our data file, let’s store the data into a dataframe/variable called data. A dataframe is like a table made up of rows and columns, which helps us organize and work with data easily. Think of it as a digital spreadsheet with much more power to analyze and manipulate the data!\n",
    "\n",
    "`pd.read_csv(“datasets/AirQualityClass.csv”) `\n"
   ]
  },
  {
   "cell_type": "markdown",
   "metadata": {
    "deletable": false,
    "editable": false,
    "id": "Mn8yXXVign27"
   },
   "source": [
    "**Step 3 - Assign the dataframe to the variable you created**\n",
    "\n",
    "Just like we did before, let’s type out a variable name. Rather than type out the full file name for our data, this easy to remember name will hold the data we bring in. Type the variable's name **data** will print on the screen the contents of the variable.\n",
    "\n",
    "`data = pd.read_csv(“datasets/AirQualityClass.csv”) `\n"
   ]
  },
  {
   "cell_type": "markdown",
   "metadata": {
    "deletable": false,
    "editable": false,
    "id": "VHQa0Bijgn5K"
   },
   "source": [
    "**Step 4 - Print the variable**\n",
    "\n",
    "Let’s see it now by ‘printing’ and showing our work.\n",
    "\n",
    "`data`"
   ]
  },
  {
   "cell_type": "markdown",
   "metadata": {
    "deletable": false,
    "editable": false,
    "id": "cWx8r0Aggn7c"
   },
   "source": [
    "**Step 5 - Run the code**\n",
    "\n",
    "Hit ‘control’ and ‘enter’ at the same time to run the code!\n",
    "\n",
    "\n",
    "<details>\n",
    "    <summary>Click to see the answer...</summary>\n",
    "\n",
    "![](https://pbs.twimg.com/media/GiuKh7zWkAA4z89?format=png&name=small)\n",
    "</details>"
   ]
  },
  {
   "cell_type": "markdown",
   "metadata": {
    "deletable": false,
    "editable": false,
    "id": "ednV1m6Cgn92"
   },
   "source": [
    "**Your Turn**:  Now it’s your turn!  Let’s dive in and start working with the data! We’ll begin by loading it into a dataframe, which will allow us to easily interact with and analyze the dataset."
   ]
  },
  {
   "cell_type": "code",
   "execution_count": null,
   "metadata": {
    "id": "x9yj00_KhcYy"
   },
   "outputs": [],
   "source": [
    "# freehand code\n"
   ]
  },
  {
   "cell_type": "markdown",
   "metadata": {
    "deletable": false,
    "editable": false,
    "id": "Eke8Cvgfhb75"
   },
   "source": [
    "**Explanation**:  *The dataset could be used to train a classification model (KNN) that predicts whether conditions will result in contamination based on various emission levels. Alternatively, if all entries are contaminated, the data could support regression models to predict specific emission levels under contaminated conditions or clustering methods to identify patterns in emission profiles among contaminated sites*."
   ]
  },
  {
   "cell_type": "markdown",
   "metadata": {
    "deletable": false,
    "editable": false,
    "id": "gN-gUgKAhhfn"
   },
   "source": [
    "### Goal 3: Bring in the SkLearn Package to Create the Classifier.\n",
    "\n",
    "We’ll import the SKLearn Ensemble library to help us with our random forest. Using the import command, we’ll name the library for easy use, store it in a variable, and connect everything. Let’s set it up!"
   ]
  },
  {
   "cell_type": "markdown",
   "metadata": {
    "deletable": false,
    "editable": false,
    "id": "UCathdyxhhh-",
    "jp-MarkdownHeadingCollapsed": true
   },
   "source": [
    "#### Blockly"
   ]
  },
  {
   "cell_type": "markdown",
   "metadata": {
    "deletable": false,
    "editable": false,
    "id": "HyiZhCs5hhnB"
   },
   "source": [
    "**Step 1 - Start the import**\n",
    "\n",
    "First, we need to set up a “command” to tell the computer what to do. In this case, “command” is to “import” to bring the add-on package in.\n",
    "\n",
    "Bring in the IMPORT menu, which can be helpful to bring in other data tools. In this case, we're bringing in the import block."
   ]
  },
  {
   "cell_type": "markdown",
   "metadata": {
    "deletable": false,
    "editable": false,
    "id": "NhQiUd1mhhpZ"
   },
   "source": [
    "**Step 2 - Tell what library to import**\n",
    "\n",
    "In the text area, we type the name of the library we want to import. A library is like an extra thing we bring in to give us more coding abilities. In our case, we will type out **sklearn.ensemble**, which will bring in some cool data manipulation features."
   ]
  },
  {
   "cell_type": "markdown",
   "metadata": {
    "deletable": false,
    "editable": false,
    "id": "kWX3z6cLhhrn"
   },
   "source": [
    "**Step 3 - Rename the library so it’s easy to remember**\n",
    "\n",
    "Once you are done, put the import and package together in a single variable. This handy feature helps cut down on all the typing later on. You can call it whatever is easiest for you to remember. In the example below, we’ve put everything into a **ensemble**, and we type it in the open area."
   ]
  },
  {
   "cell_type": "markdown",
   "metadata": {
    "deletable": false,
    "editable": false,
    "id": "BO0l1P5VhhuF"
   },
   "source": [
    "**Step 4 - Connect the blocks to run the code**\n",
    "\n",
    "Connect the blocks and run the code!\n",
    "\n",
    "<details>\n",
    "    <summary>Click to see the answer...</summary>\n",
    "\n",
    "![](https://pbs.twimg.com/media/GjoXkEHW0AA4zgo?format=png&name=small)\n",
    "</details>"
   ]
  },
  {
   "cell_type": "code",
   "execution_count": null,
   "metadata": {
    "id": "1oy1zpaajjfs"
   },
   "outputs": [],
   "source": [
    "# blockly code\n"
   ]
  },
  {
   "cell_type": "markdown",
   "metadata": {
    "deletable": false,
    "editable": false,
    "id": "KQWIiWF7jjmw",
    "jp-MarkdownHeadingCollapsed": true
   },
   "source": [
    "#### Freehand"
   ]
  },
  {
   "cell_type": "markdown",
   "metadata": {
    "deletable": false,
    "editable": false,
    "id": "j-fpc6oojjpR"
   },
   "source": [
    "\n",
    "**Step 1 - Start the import**\n",
    "\n",
    "First, we need to set up a “command” to tell the computer what to do. In this case, “command” is to “import” to bring the add-on package in.\n"
   ]
  },
  {
   "cell_type": "markdown",
   "metadata": {
    "deletable": false,
    "editable": false,
    "id": "2h4RcXPTjjre"
   },
   "source": [
    "**Step 2 - Tell what library to import**\n",
    "\n",
    "In the text area, we type the name of the library we want to import. A library is like an extra thing we bring in to give us more coding abilities. In our case, we will type out **sklearn.ensemble**, which will provide us with some cool data manipulation features."
   ]
  },
  {
   "cell_type": "markdown",
   "metadata": {
    "deletable": false,
    "editable": false,
    "id": "DdgbeSA3jjtz"
   },
   "source": [
    "**Step 3 - Import package as acronym**\n",
    "\n",
    "Once you are done, put the ‘import’ and ‘package’ together in a single variable. This handy feature helps cut down on all the typing later on. You can call it whatever is easiest for you to remember. In the example below, we’ve put everything into **ensemble**\n"
   ]
  },
  {
   "cell_type": "markdown",
   "metadata": {
    "deletable": false,
    "editable": false,
    "id": "FLUSaJoBjjwT"
   },
   "source": [
    "**Step 4 - Run the code**\n",
    "\n",
    "Hit ‘control’ and ‘enter’ at the same time to run the code!\n",
    "\n",
    "<details>\n",
    "    <summary>Click to see the answer...</summary>\n",
    "\n",
    "![](https://pbs.twimg.com/media/GjoXrGSW8AAbb8c?format=png&name=small)\n",
    "</details>"
   ]
  },
  {
   "cell_type": "markdown",
   "metadata": {
    "deletable": false,
    "editable": false,
    "id": "XWlVCEMwj72x"
   },
   "source": [
    "**Your Turn**: Try setting up the sklearn.ensemble library for your classifier."
   ]
  },
  {
   "cell_type": "code",
   "execution_count": null,
   "metadata": {
    "id": "aNLaPWYej9sB"
   },
   "outputs": [],
   "source": [
    "# freehand code\n"
   ]
  },
  {
   "cell_type": "markdown",
   "metadata": {
    "deletable": false,
    "editable": false,
    "id": "aQ754zSJjj2B"
   },
   "source": [
    "**Explanation**: *Congrats! Your attempts finally made it! Now you have successfully imported the sklearn.ensemble package as the variable ensemble*."
   ]
  },
  {
   "cell_type": "markdown",
   "metadata": {
    "deletable": false,
    "editable": false,
    "id": "Ha_GjYmCkBcT"
   },
   "source": [
    "### Goal 4: Create the Model Object.\n",
    "\n",
    "Now we’ll set up the foundation for your Random Forest classifier! We’ll create a variable to store the model, initialize it, define hyperparameters, and connect everything to make it ready for use. Let’s build it step by step!"
   ]
  },
  {
   "cell_type": "markdown",
   "metadata": {
    "deletable": false,
    "editable": false,
    "id": "9C57qfLdkBiL",
    "jp-MarkdownHeadingCollapsed": true
   },
   "source": [
    "#### Blockly"
   ]
  },
  {
   "cell_type": "markdown",
   "metadata": {
    "deletable": false,
    "editable": false,
    "id": "ZweMglJfkBmJ"
   },
   "source": [
    "**Step 1 - Write out the name of a variable you want to use for the classifier**\n",
    "\n",
    "We set up a variable to store the classifier model in a variable for later use. In this case, we will call it **forest**.\n",
    "\n",
    "On the \"Variables\" menu, click Create Variable, type a name for our model, **forest**. Then, drag a \"SET\" block to the workspace for the created variable. This block allows us to create a new variable and assign a value to it."
   ]
  },
  {
   "cell_type": "markdown",
   "metadata": {
    "deletable": false,
    "editable": false,
    "id": "IC3k-dXzkBot"
   },
   "source": [
    "**Step 2 - Create the random forest classifier model**\n",
    "\n",
    "We got the variable, so let's create our tree. Easy peasy!\n",
    "\n",
    "Using the **ensable** library, we call the **RandomForestClassifier**() to create the Tree model.\n",
    "\n",
    "From the Variable menu, drag a Create block for the forest variable. On the create list box select the option RandomForestClassifier. This specifies the type (class) of object we want to create, which is the RandomForestClassifier from the ensable module."
   ]
  },
  {
   "cell_type": "markdown",
   "metadata": {
    "deletable": false,
    "editable": false,
    "id": "VTo9y2INkBq8"
   },
   "source": [
    "**Step 3 - Define the hyperparameters**\n",
    "\n",
    "As we saw above, a tree has different levels. But how many do we want to look at? In this case, we say how many trees want (100) and also how much error we are willing to consider (out-of-bag error)"
   ]
  },
  {
   "cell_type": "markdown",
   "metadata": {
    "deletable": false,
    "editable": false,
    "id": "5KcIRi_4krDm"
   },
   "source": [
    "**Step 4 - Assign the forest model to the variable you created**\n",
    "\n",
    "We can now connect the forest variable with the **RandomForestClassifier** model."
   ]
  },
  {
   "cell_type": "markdown",
   "metadata": {
    "deletable": false,
    "editable": false,
    "id": "ARXPmKAdkrEu"
   },
   "source": [
    "**Step 5 - Connect the blocks to run the code**\n",
    "\n",
    "Connect the blocks and run the code!\n",
    "\n",
    "<details>\n",
    "    <summary>Click to see the answer...</summary>\n",
    "\n",
    "![](https://pbs.twimg.com/media/GjoX3KaXIAAaLuZ?format=jpg&name=small)\n",
    "</details>\n"
   ]
  },
  {
   "cell_type": "code",
   "execution_count": null,
   "metadata": {
    "id": "kFDzO9-jlUZ9"
   },
   "outputs": [],
   "source": [
    "# blockly code\n"
   ]
  },
  {
   "cell_type": "markdown",
   "metadata": {
    "deletable": false,
    "editable": false,
    "id": "EkyF1apPkrHC",
    "jp-MarkdownHeadingCollapsed": true
   },
   "source": [
    "#### Freehand"
   ]
  },
  {
   "cell_type": "markdown",
   "metadata": {
    "deletable": false,
    "editable": false,
    "id": "WqnxYhyI9CjO"
   },
   "source": [
    "\n",
    "**Step 1 - Write out the name for a variable you want to use for the classifier**\n",
    "\n",
    "We set up a variable to store the classifier model in a variable for later use. In this case, we will call it **forest**\n",
    "\n",
    "Using the neighbors library, we call the RandomForestClassifier() constructor\n",
    "\n",
    "`ensemble.RandomForestClassifier()`"
   ]
  },
  {
   "cell_type": "markdown",
   "metadata": {
    "deletable": false,
    "editable": false,
    "id": "mOoFB4Pt9Clh"
   },
   "source": [
    "**Step 2 - Define the hyperparameters**\n",
    "\n",
    "We got the variable, so let's create our tree. Easy peasy!\n",
    "\n",
    "Using the ensemble library, we call the RandomForestClassifier() to create the Tree model.\n",
    "\n",
    "Inside the method, we say **n_estimators=100** and **oob_score=True**. The first will tell the maximum depth of the tree and calculate the out-of-bag (OOB) error.\n",
    "\n",
    "`ensemble.RandomForestClassifier(n_estimators=100,oob_score=True)`"
   ]
  },
  {
   "cell_type": "markdown",
   "metadata": {
    "deletable": false,
    "editable": false,
    "id": "UhHnjkm99CoB"
   },
   "source": [
    "\n",
    "**Step 3 - Assign the regressor model to the variable you created**\n",
    "\n",
    "We setup a variable to store the classifier model in a variable for later use. In this case, we will call it **forest**\n",
    "\n",
    "`forest=ensemble.RandomForestClassifier(n_estimators=100,oob_score=True)`"
   ]
  },
  {
   "cell_type": "markdown",
   "metadata": {
    "deletable": false,
    "editable": false,
    "id": "tud0_ANf9Cqf"
   },
   "source": [
    "**Step 4 - Run the code**\n",
    "\n",
    "Hit ‘control’ and ‘enter’ at the same time to run the code!\n",
    "\n",
    "<details>\n",
    "    <summary>Click to see the answer...</summary>\n",
    "\n",
    "![](https://pbs.twimg.com/media/GjoX6HjWIAA--gs?format=jpg&name=small)\n",
    "</details>"
   ]
  },
  {
   "cell_type": "markdown",
   "metadata": {
    "deletable": false,
    "editable": false,
    "id": "hciqpKkc9Cs0"
   },
   "source": [
    "**Your Turn**: Define, initialize, and set up your Random Forest Classifier to create it. Bring the \"forest\" to life and get it ready for precise forecasts!\n",
    "forest=ensemble.RandomForestClassifier(n_estimators=100,oob_score=True)"
   ]
  },
  {
   "cell_type": "code",
   "execution_count": null,
   "metadata": {
    "id": "QJjkOu_q9lXC"
   },
   "outputs": [],
   "source": [
    "# freehand code\n"
   ]
  },
  {
   "cell_type": "markdown",
   "metadata": {
    "deletable": false,
    "editable": false,
    "id": "XU3aCwOy9CvM"
   },
   "source": [
    "**Explanation**: *You have created a Random Forest Classifier, which is a ML model. It's called \"forest\" because it uses multiple decision trees (100 in this case, set by n_estimators=100) to make predictions. These trees work together like a forest of decision-makers. The oob_score=True part enables a feature that helps evaluate how well the model performs without needing separate test data. Essentially, this model combines the \"opinions\" of many decision trees to make more accurate predictions, similar to how asking many friends for advice might lead to a better decision than asking just one*.  \n"
   ]
  },
  {
   "cell_type": "markdown",
   "metadata": {
    "deletable": false,
    "editable": false,
    "id": "QaQb6A289pEd"
   },
   "source": [
    "### Goal 5: Train and score the classifier model.\n",
    "\n",
    "Now that we’ve brought in our Tree model, let’s train the model to see how it will learn from the data points that we have in the file."
   ]
  },
  {
   "cell_type": "markdown",
   "metadata": {
    "deletable": false,
    "editable": false,
    "id": "da-1t4tb9pGx",
    "jp-MarkdownHeadingCollapsed": true
   },
   "source": [
    "#### Blockly"
   ]
  },
  {
   "cell_type": "markdown",
   "metadata": {
    "deletable": false,
    "editable": false,
    "id": "bmXklf3l9pJL"
   },
   "source": [
    "**Step 1 - Prepare to train the model**\n",
    "\n",
    "Now we want to train our decision tree using what machine learning understands. Now let’s train the model using training data! To do this, the fit() method will help us\n",
    "\n",
    "From the Variable menu, drag the DO block for the **forest** variable, and select the fit function as the do operation. This specifies the function we want to call, which is the fit method of the tree object."
   ]
  },
  {
   "cell_type": "markdown",
   "metadata": {
    "deletable": false,
    "editable": false,
    "id": "0CqKRB9n9pLn"
   },
   "source": [
    "**Step 2 - Have the training features ready**\n",
    "\n",
    "The next step for training the model is to select the features to train the classifier. In this step, we select the features and add them as a dataframe in the parameter. In this case, the model will train (learn) the classifier based on these 6 variables and use it to predict the label.\n",
    "\n",
    "From the Lists menu, drag a dictVariable, select the \"data\" variable from the list of available variables. Also, from the Lists menu, you will get a Create List block. Using the Gear icon, add up to 6 items. For each one of the items, add a Text (a Quote “” from the Text menu), as follows:  \"**Methane**\", \"**NOxEmissions**\", \"**PM2.5Emissions**\", \"**VOCEmissions**\", \"**SO2Emissions**\", and \"**CO2Emissions**\". These are the feature names applied to train (fit) the model.\n"
   ]
  },
  {
   "cell_type": "markdown",
   "metadata": {
    "deletable": false,
    "editable": false,
    "id": "mVZLXR8R9pOY"
   },
   "source": [
    "**Step 3 - Have the training label ready**\n",
    "\n",
    "So what is the label that we are trying to predict? Next, we need to add the data labels for the selected features. We add the data labels(Contaminated feature) as a parameter in the fit() method.\n",
    "\n",
    "From the Lists menu, drag a dictVariable, and select the **“data”** variable from the list of available variables. From the Text menu, get a Quote “” block and add a Text \"**Contaminated**\". This is the target value applied to train (fit) the model.\n"
   ]
  },
  {
   "cell_type": "markdown",
   "metadata": {
    "deletable": false,
    "editable": false,
    "id": "K0PPBW2v9uoY"
   },
   "source": [
    "**Step 4 - Measure the correctness on the training dataset**\n",
    "\n",
    "To measure the correctness of the model, we will use the score method from the **forest** object. Just as the previous step, we will just replace the fit() method with the **score**() method. Based on the ‘fit’, we will try to see how much we could predict in our training dataset.\n",
    "\n",
    "This will give us the tree model correctness score. A good score will be closer to 1 (ie - 100). Medium might be more like .95 (95% accurate). Not great would be .90 (90%). It depends on the topic you are looking at.\n",
    "\n",
    "Right-click on the \"**forest.fit**\" block and select \"Duplicate\" from the context menu. This creates a copy of the block. Within the duplicated block, click on the method dropdown menu and select \"**score**\" from the list of available methods. The score method will work similarly to fit, and will use the training features and label to measure how much of the training data was learned."
   ]
  },
  {
   "cell_type": "markdown",
   "metadata": {
    "deletable": false,
    "editable": false,
    "id": "a_xatj9b-nfO"
   },
   "source": [
    "**Step 5 - Connect the blocks to run the code**\n",
    "\n",
    "Connect the blocks and run the code!  \n",
    "\n",
    "\n",
    "<details>\n",
    "    <summary>Click to see the answer...</summary>\n",
    "\n",
    "![](https://pbs.twimg.com/media/GjoYGIDWcAAfc9b?format=jpg&name=small)\n",
    "</details>\n"
   ]
  },
  {
   "cell_type": "code",
   "execution_count": null,
   "metadata": {
    "id": "5KM4pm9r-1YL"
   },
   "outputs": [],
   "source": [
    "# blockly code\n"
   ]
  },
  {
   "cell_type": "markdown",
   "metadata": {
    "deletable": false,
    "editable": false,
    "id": "aGU6U0ES9uq1",
    "jp-MarkdownHeadingCollapsed": true
   },
   "source": [
    "#### Freehand"
   ]
  },
  {
   "cell_type": "markdown",
   "metadata": {
    "deletable": false,
    "editable": false,
    "id": "8LeMo0-X-7Yd"
   },
   "source": [
    "**Step 1 - Prepare to train the model**\n",
    "\n",
    "Now we want to train our decision tree using what machine learning understands. Now let’s train the model using training data! To do this, the fit() method will help us.\n",
    "\n",
    "To train data using the classifier model, we use the model and call the fit() method from it. This will use the **‘fit’** method to train the model that we want to train on.\n",
    "\n",
    "`forest.fit()`"
   ]
  },
  {
   "cell_type": "markdown",
   "metadata": {
    "deletable": false,
    "editable": false,
    "id": "xQ_LsYbs-7au"
   },
   "source": [
    "**Step 2 - Have the training features ready**\n",
    "\n",
    "The next step for training the model is to select the features to train the classifier. In this step , we select the features and add them as a dataframe in the parameter. In this case, the model will train (learn) the classifier based on these 6 variables and use it predict the label\n",
    "\n",
    "`forest.fit(data[['Methane', 'NOxEmissions', 'PM2.5Emissions', 'VOCEmissions', 'SO2Emissions', 'CO2Emissions']])`"
   ]
  },
  {
   "cell_type": "markdown",
   "metadata": {
    "deletable": false,
    "editable": false,
    "id": "GcTPa7wc-7dJ"
   },
   "source": [
    "**Step 3 -  Have the training label ready**\n",
    "\n",
    "So what is the label that we are trying to predict? Next, we need to add the data labels for the selected features. We add the data labels(**Contaminated**) as a parameter in the fit() method.\n",
    "\n",
    "`forest.fit(data[['Methane', 'NOxEmissions', 'PM2.5Emissions', 'VOCEmissions', 'SO2Emissions', 'CO2Emissions']],data['Contaminated'])`\n",
    "\n",
    "\n"
   ]
  },
  {
   "cell_type": "markdown",
   "metadata": {
    "deletable": false,
    "editable": false,
    "id": "9DRRh9fx-7fi"
   },
   "source": [
    "**Step 4 - Measure the correctness on the training dataset**\n",
    "\n",
    "To measure the correctness of the model, we will use the score method from the tree object. Just as the previous step, we will just replace the fit() method with the **score**() method. Based on the ‘fit’, we will try to see how much we could predict in our training dataset.\n",
    "This will give us the Tree model correctness score. A good score will be closer to 1 (ie - 100). Medium might be more like .95 (95% accurate). Not great would be .90 (90%). It depends on the topic you are looking at.\n",
    "\n",
    "`forest.score(data[['Methane', 'NOxEmissions', 'PM2.5Emissions', 'VOCEmissions', 'SO2Emissions', 'CO2Emissions']],data['Contaminated'])`\n"
   ]
  },
  {
   "cell_type": "markdown",
   "metadata": {
    "deletable": false,
    "editable": false,
    "id": "AY8dnP2u-7h4"
   },
   "source": [
    "**Step 5 - Run the code**\n",
    "\n",
    "Hit ‘control’ and ‘enter’ at the same time to run the code!\n",
    "\n",
    "\n",
    "<details>\n",
    "    <summary>Click to see the answer...</summary>\n",
    "\n",
    "![](https://pbs.twimg.com/media/GjoYJQBXQAAjGbr?format=jpg&name=small)\n",
    "</details>"
   ]
  },
  {
   "cell_type": "markdown",
   "metadata": {
    "deletable": false,
    "editable": false,
    "id": "9XKR9T7a-7kM"
   },
   "source": [
    "**Your Turn**: Now, it's time for you to apply the steps outlined above to train and score the classifier model using your own data.\n",
    "forest.fit(data[['Methane', 'NOxEmissions', 'PM2.5Emissions', 'VOCEmissions', 'SO2Emissions', 'CO2Emissions']],data['Contaminated'])\n",
    "\n",
    "`forest.score(data[['Methane', 'NOxEmissions', 'PM2.5Emissions', 'VOCEmissions', 'SO2Emissions', 'CO2Emissions']],data['Contaminated'])`\n"
   ]
  },
  {
   "cell_type": "code",
   "execution_count": null,
   "metadata": {
    "id": "dli7kbWg_w7i"
   },
   "outputs": [],
   "source": [
    "# freehand code\n"
   ]
  },
  {
   "cell_type": "markdown",
   "metadata": {
    "deletable": false,
    "editable": false,
    "id": "Jr6XO-aF-7m0"
   },
   "source": [
    "**Explanation**: *You have trained a decision forest model to predict whether something is \"Contaminated\" based on six types of emissions: Methane, NOx, PM2.5, VOC, SO2, and CO2. The first line fits (or trains) the model using the data in the train dataset, where the emissions are the input features, and \"Contaminated\" is the output label. The second line calculates the model's accuracy on the same training data, showing how well the trained model can predict the contamination status using those emissions*."
   ]
  },
  {
   "cell_type": "markdown",
   "metadata": {
    "deletable": false,
    "editable": false,
    "id": "KrowSCVzsfoK"
   },
   "source": [
    "### Goal 6: Assessing the performance of the training.\n",
    "\n",
    "Now that we have trained and scored the classifier model, let’s see how well we did in our training. To do this, let’s calculate the out-of-bag (OOB) score. Let’s jump in!"
   ]
  },
  {
   "cell_type": "markdown",
   "metadata": {
    "deletable": false,
    "editable": false,
    "id": "LDbSiisksfqz",
    "jp-MarkdownHeadingCollapsed": true
   },
   "source": [
    "#### Blockly"
   ]
  },
  {
   "cell_type": "markdown",
   "metadata": {
    "deletable": false,
    "editable": false,
    "id": "7bei_hqXsfu0"
   },
   "source": [
    "**Step 1 - Get the OOB from the forest variable**\n",
    "\n",
    "From the **forest** object get the attribute **oob_score**.The out-of-bag (OOB) score measures how well the model predicts data it hasn't seen during training, calculated by averaging the prediction errors on each data point using only the trees that didn't include that point in their bootstrap sample."
   ]
  },
  {
   "cell_type": "markdown",
   "metadata": {
    "deletable": false,
    "editable": false,
    "id": "y4PCzU7asfxD"
   },
   "source": [
    "**Step 2 - Connect the blocks to run the code**\n",
    "\n",
    "Connect the blocks and run the code!\n",
    "\n",
    "<details>\n",
    "    <summary>Click to see the answer...</summary>\n",
    "\n",
    "![](https://pbs.twimg.com/media/GjoYc_nW8AAiUJw?format=png&name=small)\n",
    "</details>"
   ]
  },
  {
   "cell_type": "code",
   "execution_count": null,
   "metadata": {
    "id": "KvqQWZJStZCA"
   },
   "outputs": [],
   "source": [
    "# blockly code\n"
   ]
  },
  {
   "cell_type": "markdown",
   "metadata": {
    "deletable": false,
    "editable": false,
    "id": "PgZpe4H7sfzd",
    "jp-MarkdownHeadingCollapsed": true
   },
   "source": [
    "#### Freehand"
   ]
  },
  {
   "cell_type": "markdown",
   "metadata": {
    "deletable": false,
    "editable": false,
    "id": "PHc9vzftsf12"
   },
   "source": [
    "**Step 1 - Get the OOB from the first variable**\n",
    "\n",
    "From the **forest** object get the attribute **oob_score**. The out-of-bag (OOB) score measures how well the model predicts data it hasn't seen during training, calculated by averaging the prediction errors on each data point using only the trees that didn't include that point in their bootstrap sample.\n",
    "\n",
    "`forest.oob_score_`\n"
   ]
  },
  {
   "cell_type": "markdown",
   "metadata": {
    "deletable": false,
    "editable": false,
    "id": "iOpslBXDsf4H"
   },
   "source": [
    "**Step 2 - Run the code**\n",
    "\n",
    "Hit ‘control’ and ‘enter’ at the same time to run the code!\n",
    "\n",
    "<details>\n",
    "    <summary>Click to see the answer...</summary>\n",
    "\n",
    "![](https://pbs.twimg.com/media/GjoYjQdW4AA3RzT?format=png&name=small)\n",
    "</details>\n",
    "\n",
    "\n",
    "\n"
   ]
  },
  {
   "cell_type": "markdown",
   "metadata": {
    "deletable": false,
    "editable": false,
    "id": "lZJItdRMtc6d"
   },
   "source": [
    "**Your Turn**: Now, it's your turn to evaluate the performance of your classifier on the test dataset using the OOB score."
   ]
  },
  {
   "cell_type": "code",
   "execution_count": null,
   "metadata": {
    "id": "W2_v5Qp9tyo4"
   },
   "outputs": [],
   "source": [
    "# blockly code\n"
   ]
  },
  {
   "cell_type": "markdown",
   "metadata": {
    "deletable": false,
    "editable": false,
    "id": "RjOJX7sstc-4"
   },
   "source": [
    "**Explanation**: *The forest.oob_score_ attribute of the Random Forest models provided an estimate of the model's performance on unseen data, calculated using out-of-bag samples. During the training of each decision tree within the forest, some data points are left out. These \"out-of-bag\" samples are then used to predict their corresponding target values, and the average prediction performance across all trees yields the OOB score. This metric offers a convenient, built-in way to assess the model's generalization ability without requiring a separate validation dataset*"
   ]
  },
  {
   "cell_type": "markdown",
   "metadata": {
    "deletable": false,
    "editable": false,
    "id": "AuZkQjmZt8TU"
   },
   "source": [
    "### Goal 7: Getting the most important features to predict the label\n",
    "\n",
    "So far, we have trained the model and made our prediction. So, what are the most important features that will predict our final label? Let’s dive in for feature importance."
   ]
  },
  {
   "cell_type": "markdown",
   "metadata": {
    "deletable": false,
    "editable": false,
    "id": "nbhacbXxt8Vf",
    "jp-MarkdownHeadingCollapsed": true
   },
   "source": [
    "#### Blockly"
   ]
  },
  {
   "cell_type": "markdown",
   "metadata": {
    "deletable": false,
    "editable": false,
    "id": "aI8TO05Et8XW"
   },
   "source": [
    "**Step 1 - Get the feature importance from the forest variable**\n",
    "\n",
    "From the forest object get the attribute **feature importance**. Feature importance in Random Forest quantifies the relative contribution of each input variable to the model's predictive accuracy. In other words, how important each one is for predicting the variable we want to look at."
   ]
  },
  {
   "cell_type": "markdown",
   "metadata": {
    "deletable": false,
    "editable": false,
    "id": "8UceTyY6t8as"
   },
   "source": [
    "**Step 2 - Connect the blocks to run the code**\n",
    "\n",
    "Connect the blocks and run the code!\n",
    "\n",
    "<details>\n",
    "    <summary>Click to see the answer...</summary>\n",
    "\n",
    "![](https://pbs.twimg.com/media/GjoY3qBWsAAboww?format=png&name=small)\n",
    "</details>\n",
    "\n"
   ]
  },
  {
   "cell_type": "code",
   "execution_count": null,
   "metadata": {
    "id": "Lhe9QXqIuYk4"
   },
   "outputs": [],
   "source": [
    "#blockly code\n"
   ]
  },
  {
   "cell_type": "markdown",
   "metadata": {
    "deletable": false,
    "editable": false,
    "id": "GoGs25BLt8dm",
    "jp-MarkdownHeadingCollapsed": true
   },
   "source": [
    "#### Freehand"
   ]
  },
  {
   "cell_type": "markdown",
   "metadata": {
    "deletable": false,
    "editable": false,
    "id": "j2iXBy-gt8mS"
   },
   "source": [
    "\n",
    "**Step 1 - Get the feature importance from the forest variable**\n",
    "\n",
    "From the forest object get the attribute **feature importance**. Feature importance in Random Forest quantifies the relative contribution of each input variable to the model's predictive accuracy. In other words, how important each one is for predicting the variable we want to look at.\n",
    "\n",
    "`forest.feature_importances_`"
   ]
  },
  {
   "cell_type": "markdown",
   "metadata": {
    "deletable": false,
    "editable": false,
    "id": "gOUhMROKuBqn"
   },
   "source": [
    "**Step 2 - Run the code**\n",
    "\n",
    "Hit ‘control’ and ‘enter’ at the same time to run the code!\n",
    "\n",
    "<details>\n",
    "    <summary>Click to see the answer...</summary>\n",
    "\n",
    "![](https://pbs.twimg.com/media/GjoY5vSW8AA8kdm?format=png&name=small)\n",
    "</details>"
   ]
  },
  {
   "cell_type": "markdown",
   "metadata": {
    "deletable": false,
    "editable": false,
    "id": "3TIJZRDkuBsw"
   },
   "source": [
    "**Your Turn**: Take the next step and explore which features play the most significant role in predicting your label."
   ]
  },
  {
   "cell_type": "markdown",
   "metadata": {
    "deletable": false,
    "editable": false,
    "id": "34YK9Y-HuBuU"
   },
   "source": [
    "**Explanation**: *The random forest’s feature importance provided the numerical representation of the relative importance of each feature in the dataset. It quantifies how much each feature contributes to the predictions made by the model, based on how frequently and effectively it was used to reduce impurity across all the decision trees within the forest. Higher values indicate greater importance. This allows users to understand which features have the most significant impact on the model's output, aiding in feature selection and gaining insights into the underlying relationships within the data*"
   ]
  },
  {
   "cell_type": "code",
   "execution_count": null,
   "metadata": {},
   "outputs": [],
   "source": [
    "# freehand code\n"
   ]
  },
  {
   "cell_type": "markdown",
   "metadata": {
    "deletable": false,
    "editable": false,
    "id": "ZUWg9o3GuyR0"
   },
   "source": [
    "### Goal 8: Import the Plotly.Express Library.\n",
    "\n",
    "Pandas was a great library, but we may need more information from a different library. Let's bring in Plotly Express, which is a popular library for doing different visualizations."
   ]
  },
  {
   "cell_type": "markdown",
   "metadata": {
    "deletable": false,
    "editable": false,
    "id": "4FJGUHgnuyUL",
    "jp-MarkdownHeadingCollapsed": true
   },
   "source": [
    "#### Blockly"
   ]
  },
  {
   "cell_type": "markdown",
   "metadata": {
    "deletable": false,
    "editable": false,
    "id": "zzOnIccBuyWY"
   },
   "source": [
    "**Step 1 - Start the import**\n",
    "\n",
    "First, we need to set up a “command” to tell the computer what to do. In this case, “command” is to “import” to bring the add-on package in.\n",
    "Bring in the IMPORT menu, which can be helpful to bring in other data tools. In this case, we're bringing in the **import** block."
   ]
  },
  {
   "cell_type": "markdown",
   "metadata": {
    "deletable": false,
    "editable": false,
    "id": "6gyE31zFuyg3"
   },
   "source": [
    "**Step 2 - Tell what library to import**\n",
    "\n",
    "In the text area, we type the name of the library we want to import. A library is like an extra thing we bring in to give us more coding abilities. In our case, we will type out **plotly.express**, which will bring in some cool data manipulation features.\n"
   ]
  },
  {
   "cell_type": "markdown",
   "metadata": {
    "deletable": false,
    "editable": false,
    "id": "ntLuxA3Uuyjn"
   },
   "source": [
    "**Step 3 - Rename the library so it’s easy to remember**\n",
    "\n",
    "Once you are done, put the **import** and **package** together in a single variable. This handy feature helps cut down on all the typing later on. You can call it whatever is easiest for you to remember. In the example below, we’ve put everything into px, and we type it in the open area."
   ]
  },
  {
   "cell_type": "markdown",
   "metadata": {
    "deletable": false,
    "editable": false,
    "id": "W5KKb4dou3sW"
   },
   "source": [
    "**Step 4 - Connect the blocks to run the code**\n",
    "\n",
    "Connect the blocks and run the code!\n",
    "\n",
    "<details>\n",
    "    <summary>Click to see the answer...</summary>\n",
    "\n",
    "![](https://pbs.twimg.com/media/Gab594HW4AA7zAX?format=png&name=small)\n",
    "</details>"
   ]
  },
  {
   "cell_type": "code",
   "execution_count": null,
   "metadata": {
    "id": "pJEDupQkvVW-"
   },
   "outputs": [],
   "source": [
    "# blockly code\n"
   ]
  },
  {
   "cell_type": "markdown",
   "metadata": {
    "deletable": false,
    "editable": false,
    "id": "xbfU-FUWu3uE",
    "jp-MarkdownHeadingCollapsed": true
   },
   "source": [
    "#### Freehand"
   ]
  },
  {
   "cell_type": "markdown",
   "metadata": {
    "deletable": false,
    "editable": false,
    "id": "Z9W2LwZWvW6L"
   },
   "source": [
    "\n",
    "**Step 1 - Start the import**\n",
    "\n",
    "First, we need to set up a “command” to tell the computer what to do. In this case, “command” is to “import” to bring the add-on package in."
   ]
  },
  {
   "cell_type": "markdown",
   "metadata": {
    "deletable": false,
    "editable": false,
    "id": "MREmEBxQvW8m"
   },
   "source": [
    "**Step 2 - Tell what library to import**\n",
    "\n",
    "In the text area, we type the name of the library we want to import. A library is like an extra thing we bring in to give us more coding abilities. In our case, we will type out **plotly.express**, which will bring in some cool data manipulation features."
   ]
  },
  {
   "cell_type": "markdown",
   "metadata": {
    "deletable": false,
    "editable": false,
    "id": "iuldPJ33vW-v"
   },
   "source": [
    "**Step 3 - Rename the library so it’s easy to remember**\n",
    "\n",
    "Once you are done, put the **‘import’** and **‘package’** together in a single variable. This handy feature helps cut down on all the typing later on. Feel free to use whatever name you want that will help you remember it later on. In the example below, we’ve put everything into px."
   ]
  },
  {
   "cell_type": "markdown",
   "metadata": {
    "deletable": false,
    "editable": false,
    "id": "3ptwG195vXBC"
   },
   "source": [
    "\n",
    "**Step 4 - Run the code**\n",
    "\n",
    "Hit ‘control’ and ‘enter’ at the same time to run the code!\n",
    "\n",
    "<details>\n",
    "    <summary>Click to see the answer...</summary>\n",
    "\n",
    "![](https://pbs.twimg.com/media/Gab6AduXQAIEi5X?format=png&name=small)\n",
    "</details>\n"
   ]
  },
  {
   "cell_type": "markdown",
   "metadata": {
    "deletable": false,
    "editable": false,
    "id": "TzbP5qPLvXDW"
   },
   "source": [
    "**Your Turn**: Now it’s your turn! We’re going to dive into the plotly.express package, which helps us with some really cool data science things. First, let’s import the package and assign it to the variable “px” to make it easier to use throughout our notebook.\n",
    "import plotly.express as px"
   ]
  },
  {
   "cell_type": "code",
   "execution_count": null,
   "metadata": {
    "id": "n5b62BxCv0fT"
   },
   "outputs": [],
   "source": [
    "# freehand code"
   ]
  },
  {
   "cell_type": "markdown",
   "metadata": {
    "deletable": false,
    "editable": false,
    "id": "KpE4VzYfvXFm"
   },
   "source": [
    "**Explanation**: *Congrats! Your attempts finally made it! Now you have successfully imported the plotly.express package as the variable px*."
   ]
  },
  {
   "cell_type": "markdown",
   "metadata": {
    "deletable": false,
    "editable": false,
    "id": "bON5QRMBvXH8"
   },
   "source": [
    "### Goal 9: Dropping the label column\n",
    "\n",
    "Right now we have 7 columns - our 6 prediction features (variables) plus our label. Because we are mostly interested in the 6 prediction variables, let’s get rid of the label column so that our chart is easier to read later on."
   ]
  },
  {
   "cell_type": "markdown",
   "metadata": {
    "deletable": false,
    "editable": false,
    "id": "m91b_lHvvXKf",
    "jp-MarkdownHeadingCollapsed": true
   },
   "source": [
    "#### Blockly"
   ]
  },
  {
   "cell_type": "markdown",
   "metadata": {
    "deletable": false,
    "editable": false,
    "id": "2ai62fY_vXND"
   },
   "source": [
    "**Step 1 - Bring in the drop method from the data variable**\n",
    "\n",
    "With the **data** variable DO the **drop** method, that will set up the drop of the label, leaving only the features on the dataset.\n"
   ]
  },
  {
   "cell_type": "markdown",
   "metadata": {
    "deletable": false,
    "editable": false,
    "id": "17nq_1VDv8e6"
   },
   "source": [
    "**Step 2 - Tell what columns we want to drop**\n",
    "\n",
    "Now that we have the drop method ready to go, let’s tell it what we want to get rid of. In this case, we’ll get rid of the ‘Contaminated’\n",
    "\n",
    "Inform as the first parameter of the drop method, the name of the column as Quote block: “Contaminated” to be dropped (the label). And as the second parameter inform axis=1, meaning remove a column (not a row), using a freehand block."
   ]
  },
  {
   "cell_type": "markdown",
   "metadata": {
    "deletable": false,
    "editable": false,
    "id": "opRa3lypv8hZ"
   },
   "source": [
    "**Step 3 - Assign the updated dataset to the variable**\n",
    "\n",
    "Originally, we started with 7 columns (6 predictions, one label). Now let’s make sure that we are only looking at the 6 predictions in our **data** variable\n",
    "\n",
    "Set the **data** variable to the updated dataset (without the label, only with the features)"
   ]
  },
  {
   "cell_type": "markdown",
   "metadata": {
    "deletable": false,
    "editable": false,
    "id": "prPdxEZfv8jm"
   },
   "source": [
    "**Step 4 - Print the updated dataset**\n",
    "\n",
    "Drag the **data** variable to the canva so it will print it on the screen."
   ]
  },
  {
   "cell_type": "markdown",
   "metadata": {
    "deletable": false,
    "editable": false,
    "id": "W9pzN-83wY-N"
   },
   "source": [
    "**Step 5 - Connect the blocks to run the code**\n",
    "\n",
    "Connect the blocks and run the code!\n",
    "\n",
    "<details>\n",
    "    <summary>Click to see the answer...</summary>\n",
    "\n",
    "![](https://pbs.twimg.com/media/GjoZEetWIAAOLOj?format=png&name=small)\n",
    "</details>\n",
    "\n",
    "\n"
   ]
  },
  {
   "cell_type": "code",
   "execution_count": null,
   "metadata": {
    "id": "rQVwZAoQwlsg"
   },
   "outputs": [],
   "source": [
    "# blockly code\n"
   ]
  },
  {
   "cell_type": "markdown",
   "metadata": {
    "deletable": false,
    "editable": false,
    "id": "2wO0HMaPwZAo",
    "jp-MarkdownHeadingCollapsed": true
   },
   "source": [
    "#### Freehand"
   ]
  },
  {
   "cell_type": "markdown",
   "metadata": {
    "deletable": false,
    "editable": false,
    "id": "P2T8oN3vwZDA"
   },
   "source": [
    "**Step 1 - Bring in the drop method from the data variable**\n",
    "\n",
    "With the **data** variable we will set up the drop of the label, leaving only the features on the dataset.\n",
    "\n",
    "`data.drop()`"
   ]
  },
  {
   "cell_type": "markdown",
   "metadata": {
    "deletable": false,
    "editable": false,
    "id": "uD-fDJ5_wtdx"
   },
   "source": [
    "**Step 2 - Tell what columns we want to drop **\n",
    "\n",
    "Now that we have the drop method ready to go, let’s tell it what we want to get rid of. In this case, we’ll get rid of the **‘Contaminated’**\n",
    "\n",
    "Inform as the first parameter of the **drop** method, the name of the column as Quote block: **“Contaminated”** to be dropped (the label). And as the second parameter inform **axis=1**, meaning remove a column (not a row), using a freehand block.\n",
    "\n",
    "`data.drop('Contaminated',axis=1) `"
   ]
  },
  {
   "cell_type": "markdown",
   "metadata": {
    "deletable": false,
    "editable": false,
    "id": "xyjMk8vOwtgF"
   },
   "source": [
    "**Step 3 - Assign the updated dataset to the variable**\n",
    "\n",
    "Originally, we started with 7 columns (6 predictions, one label). Now let’s make sure that we are only looking at the 6 predictions in our data variable\n",
    "\n",
    "Set the **data** variable to the updated dataset (without the label, only with the features).\n",
    "\n",
    "`data = data.drop('Contaminated',axis=1) `"
   ]
  },
  {
   "cell_type": "markdown",
   "metadata": {
    "deletable": false,
    "editable": false,
    "id": "pghR__UqwtiN"
   },
   "source": [
    "**Step 4 - Print the updated dataset**\n",
    "\n",
    "Drag the data variable to the canva so it will print it on the screen.\n",
    "\n",
    "`data`"
   ]
  },
  {
   "cell_type": "markdown",
   "metadata": {
    "deletable": false,
    "editable": false,
    "id": "yo7eOVAdwtkd"
   },
   "source": [
    "**Step 5 - Run the code**\n",
    "\n",
    "Hit ‘control’ and ‘enter’ at the same time to run the code!\n",
    "\n",
    "<details>\n",
    "    <summary>Click to see the answer...</summary>\n",
    "\n",
    "![](https://pbs.twimg.com/media/GjoZGrFXkAAc1kn?format=png&name=small)\n",
    "</details>"
   ]
  },
  {
   "cell_type": "markdown",
   "metadata": {
    "deletable": false,
    "editable": false,
    "id": "iU_k9XzJwtmk"
   },
   "source": [
    "**Your Turn**: Now that you've seen how to remove a label from a dataset using the drop() method, it's time to try it yourself! Once you've executed the steps, take a moment to analyze the dataset—do you now have only the predictive features left?"
   ]
  },
  {
   "cell_type": "code",
   "execution_count": null,
   "metadata": {
    "id": "wzXBFBvAxPf4"
   },
   "outputs": [],
   "source": [
    "# freehand code\n"
   ]
  },
  {
   "cell_type": "markdown",
   "metadata": {
    "deletable": false,
    "editable": false,
    "id": "hB6Q8zgIxRA0"
   },
   "source": [
    "**Explanation**: *You removed the column named 'Contaminated' from the Pandas DataFrame data. The axis=1 argument specifies that we are dropping a column, not a row. After this operation, the DataFrame data is updated to exclude the 'Contaminated' column, effectively removing that feature from the dataset. The subsequent data call would then display the modified DataFrame, showing all remaining columns and rows*"
   ]
  },
  {
   "cell_type": "markdown",
   "metadata": {
    "deletable": false,
    "editable": false,
    "id": "BHyoM0qwxSZT"
   },
   "source": [
    "### Goal 10: Showing the most important features in a bar chart.  \n",
    "\n",
    "We’ve ran the numbers to see what variable is the most importance for our prediction. Now let’s see if we can graph them to visualize it!"
   ]
  },
  {
   "cell_type": "markdown",
   "metadata": {
    "deletable": false,
    "editable": false,
    "id": "oQWDHajbCGlh",
    "jp-MarkdownHeadingCollapsed": true
   },
   "source": [
    "#### Blockly\n"
   ]
  },
  {
   "cell_type": "markdown",
   "metadata": {
    "deletable": false,
    "editable": false,
    "id": "G8gPfJCMCGoD"
   },
   "source": [
    "**Step 1 - Call the bar chart function from plotly**\n",
    "\n",
    "To make a bar chart, we first need to call the bar chart function with our plotly library (px).\n",
    "\n",
    "From the Variable menu, get a DO block for the **px** variable and select the **bar** operation. From this same menu, get a variable."
   ]
  },
  {
   "cell_type": "markdown",
   "metadata": {
    "deletable": false,
    "editable": false,
    "id": "lGp2li-ZCGqU"
   },
   "source": [
    "**Step 2 - Tell Plotly what columns to put on the x-axis for the bar chart**\n",
    "\n",
    "For the first parameter of the bar function, use a freestyle block to inform the first axis name, **x=**. Then From the **data** object Get the **columns** attribute to connect to x=. That will define the x-axis as the feature names (the name of the columns of the dataset)\n"
   ]
  },
  {
   "cell_type": "markdown",
   "metadata": {
    "deletable": false,
    "editable": false,
    "id": "wIJlr56xCGs7"
   },
   "source": [
    "**Step 3 - Tell Plotly what columns to put on the y-axis for the bar chart**\n",
    "\n",
    "For the second parameter of the bar function, use a freestyle block to inform the second axis name, **y=**. Then From the **data** object Get the **feature_importance** attribute to connect to y=. That will define the y-axis as the feature importance measurement."
   ]
  },
  {
   "cell_type": "markdown",
   "metadata": {
    "deletable": false,
    "editable": false,
    "id": "XOBoytjXCGvN"
   },
   "source": [
    "**Step 4 - Connect the blocks to run the code**\n",
    "\n",
    "Connect the blocks and run the code!\n",
    "\n",
    "<details>\n",
    "    <summary>Click to see the answer...</summary>\n",
    "\n",
    "![](https://pbs.twimg.com/media/GjoZPZzWIAAHZKu?format=jpg&name=small)\n",
    "</details>"
   ]
  },
  {
   "cell_type": "code",
   "execution_count": null,
   "metadata": {
    "id": "dIhg2QU2CjKI"
   },
   "outputs": [],
   "source": [
    "# blockly code\n"
   ]
  },
  {
   "cell_type": "markdown",
   "metadata": {
    "deletable": false,
    "editable": false,
    "id": "K158Et7bCG2T",
    "jp-MarkdownHeadingCollapsed": true
   },
   "source": [
    "#### Freehand"
   ]
  },
  {
   "cell_type": "markdown",
   "metadata": {
    "deletable": false,
    "editable": false,
    "id": "dnNKrtxNCrn4"
   },
   "source": [
    "\n",
    "**Step 1 - Call the bar chart function from plotly**\n",
    "\n",
    "To make a bar chart, we first need to call the bar chart function with our plotly library (px).\n",
    "px.bar()"
   ]
  },
  {
   "cell_type": "markdown",
   "metadata": {
    "deletable": false,
    "editable": false,
    "id": "2mr4sndDCrqY"
   },
   "source": [
    "**Step 2 - Tell Plotly what columns to put on the x-axis for the bar chart**\n",
    "\n",
    "For the first parameter of the bar function, use a freestyle block to inform the first axis name, **x=**. Then From the **data** object get the **columns** attribute to connect to x=. That will define the x-axis as the feature names (the name of the columns of the dataset)\n",
    "\n",
    "`px.bar(x= (data.columns) )`\n",
    "\n"
   ]
  },
  {
   "cell_type": "markdown",
   "metadata": {
    "deletable": false,
    "editable": false,
    "id": "SDQNn-CqCrs1"
   },
   "source": [
    "**Step 3 - Tell Plotly what columns to put on the y-axis for the bar chart**\n",
    "\n",
    "For the second parameter of the bar function, use a freestyle block to inform the second axis name, **y=**. Then From the **data** object get the **feature_importance** attribute to connect to y=. That will define the y-axis as the feature importance measurement.\n",
    "\n",
    "`px.bar(x= (data.columns),y= (forest.feature_importances_))`"
   ]
  },
  {
   "cell_type": "markdown",
   "metadata": {
    "deletable": false,
    "editable": false,
    "id": "iU0r8bGxCrvL"
   },
   "source": [
    "**Step 4 - Run the code**\n",
    "\n",
    "Hit ‘control’ and ‘enter’ at the same time to run the code!\n",
    "\n",
    "<details>\n",
    "    <summary>Click to see the answer...</summary>\n",
    "\n",
    "![](https://pbs.twimg.com/media/GjoZRKSW8AAhriN?format=jpg&name=small)\n",
    "</details>\n",
    "​​"
   ]
  },
  {
   "cell_type": "markdown",
   "metadata": {
    "deletable": false,
    "editable": false,
    "id": "G5-K74HCDMXz"
   },
   "source": [
    "**Your Turn**: Now that we’ve identified the key features, let’s bring them to life with a bar chart. Using Plotly, create a graph to visualize their importance.\n",
    "px.bar(x= (data.columns),y= (forest.feature_importances_))\n"
   ]
  },
  {
   "cell_type": "code",
   "execution_count": null,
   "metadata": {
    "id": "3LVOPSdpDPxM"
   },
   "outputs": [],
   "source": [
    "# freehand code\n"
   ]
  },
  {
   "cell_type": "markdown",
   "metadata": {
    "deletable": false,
    "editable": false,
    "id": "fsLZjQg_Crx1"
   },
   "source": [
    "**Explanation**: *You generated an interactive bar chart to visualize feature importances. It uses Plotly Express to create a bar for each feature in the data DataFrame, with the x-axis representing the feature names and the y-axis representing the corresponding importance scores from the trained forest model. This visualization allows for a quick and clear understanding of which features contribute most significantly to the model's predictions*."
   ]
  },
  {
   "cell_type": "markdown",
   "metadata": {
    "deletable": false,
    "editable": false,
    "id": "RV8UghFrDS4C"
   },
   "source": [
    "## WHAT DID YOU LEARN?"
   ]
  },
  {
   "cell_type": "markdown",
   "metadata": {
    "deletable": false,
    "editable": false,
    "id": "m2QPy6YrDVw1"
   },
   "source": [
    "In this lesson, you learned about Random Forests, including how this ‘ensemble’ (mix of other models) learning method combines multiple decision trees to make our predictions more accurate.  You explored bootstrapping and bagging, understanding how these tools contribute to the diversity of the training datasets used in Random Forests."
   ]
  },
  {
   "cell_type": "markdown",
   "metadata": {
    "deletable": false,
    "editable": false,
    "id": "3Pa6mp5TDVzh"
   },
   "source": [
    "## WHAT’S NEXT?:"
   ]
  },
  {
   "cell_type": "markdown",
   "metadata": {
    "deletable": false,
    "editable": false,
    "id": "GKDvQmfWDV1w"
   },
   "source": [
    "[Crossvalidation](Crossvalidation.ipynb)"
   ]
  },
  {
   "cell_type": "markdown",
   "metadata": {
    "deletable": false,
    "editable": false,
    "id": "csfeYXifDV4K"
   },
   "source": [
    "## ANY EXTRAS?"
   ]
  },
  {
   "cell_type": "markdown",
   "metadata": {
    "deletable": false,
    "editable": false,
    "id": "Fdk6p85YDV85"
   },
   "source": [
    "* **Random Forests** - [Data Science Explained](https://godatadrive.com/blog/random-forests)\n",
    "  * ***Description***: In this blog, dive into random forests and how they are different from your standard decision trees.\n",
    "\n",
    "* **Art Connection**: Visualizing Decision Trees - [GeeksforGeeks](https://www.geeksforgeeks.org/difference-between-random-forest-and-decision-tree/)\n",
    "  * ***Description***: This resource discusses how decision trees can be visualized, making them an excellent tool for artists and designers interested in data visualization. Understanding how to represent complex data structures visually can enhance storytelling through data, bridging the gap between art and data science.\n",
    "\n",
    "* **Math Connection**: Decision Trees and Random Forests with scikit-learn - [Free Video Tutorial](https://www.udemy.com/course/decision-trees-and-random-forests-with-scikit-learn/)\n",
    "  * ***Description***: This free video tutorial covers the implementation of decision trees and Random Forests using the scBased on the search results, here are some relevant video resources that can help students understand the mathematics and visualization aspects of Random Forests and decision trees:\n",
    "\n",
    "* **Computer Science Connection**: Random Forest Algorithm in Machine Learning - [GeeksforGeeks](https://www.geeksforgeeks.org/random-forest-algorithm-in-machine-learning/)\n",
    "  * ***Description***: This article offers a comprehensive overview of the Random Forest algorithm, detailing its implementation and advantages in computer science. It serves as a valuable resource for students looking to understand how these algorithms are applied in software development and data analysis.\n",
    "\n",
    "* **Career Connection**: Exploring Decision Trees & Random Forests in ML – [365 Data Science](https://365datascience.com/tutorials/machine-learning-tutorials/decision-trees-random-forests/)\n",
    "  * ***Description***: This resource highlights the relevance of decision trees and Random Forests in various career paths, including data science, machine learning engineering, and analytics. It emphasizes the skills needed to work with these algorithms and their importance in making data-driven decisions in business environments.\n"
   ]
  },
  {
   "cell_type": "code",
   "execution_count": null,
   "metadata": {},
   "outputs": [],
   "source": []
  }
 ],
 "metadata": {
  "colab": {
   "provenance": []
  },
  "kernelspec": {
   "display_name": "Python 3 (ipykernel)",
   "language": "python",
   "name": "python3"
  },
  "language_info": {
   "codemirror_mode": {
    "name": "ipython",
    "version": 3
   },
   "file_extension": ".py",
   "mimetype": "text/x-python",
   "name": "python",
   "nbconvert_exporter": "python",
   "pygments_lexer": "ipython3",
   "version": "3.12.6"
  }
 },
 "nbformat": 4,
 "nbformat_minor": 4
}
