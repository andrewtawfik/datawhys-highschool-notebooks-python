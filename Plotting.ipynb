{
 "cells": [
  {
   "cell_type": "markdown",
   "metadata": {
    "id": "Zoa5rpNleaEU"
   },
   "source": [
    "# Plotting"
   ]
  },
  {
   "cell_type": "markdown",
   "metadata": {
    "id": "cYrVxgQQenlO"
   },
   "source": [
    "## ANTICIPATED LESSON TIME\n"
   ]
  },
  {
   "cell_type": "markdown",
   "metadata": {
    "id": "WeCfuJeUennh"
   },
   "source": [
    "2 hours\n"
   ]
  },
  {
   "cell_type": "markdown",
   "metadata": {
    "id": "kt66Hm3ufVPU"
   },
   "source": [
    "## BEFORE YOU BEGIN:\n"
   ]
  },
  {
   "cell_type": "markdown",
   "metadata": {
    "id": "SwIYoTTyfYRl"
   },
   "source": [
    "[Data Science and the Nature of Data](Datascience_and_the_Nature_of_Data.ipynb)\n"
   ]
  },
  {
   "cell_type": "markdown",
   "metadata": {
    "id": "C5yF3YwbfVU4"
   },
   "source": [
    "## WHAT YOU WILL LEARN\n"
   ]
  },
  {
   "cell_type": "markdown",
   "metadata": {
    "id": "IXDnKMfqfVXf"
   },
   "source": [
    "\n",
    "- What is data visualization?\n",
    "- Why is data visualization important, and how do we apply it?\n",
    "- How to identify the different levels of measurement (nominal, - ordinal, interval, ratio).\n",
    "- How to create and interpret plots like scatter, bar, line, and histograms.\n",
    "- How are plots created and interpreted?\n",
    "- How is data analyzed through loading and manipulating data in a dataframe? (e.g., probability distributions)\n"
   ]
  },
  {
   "cell_type": "markdown",
   "metadata": {
    "id": "00-z6TjfhEbt"
   },
   "source": [
    "## SCENARIO"
   ]
  },
  {
   "cell_type": "markdown",
   "metadata": {
    "deletable": false,
    "editable": false,
    "html": "<iframe class='metadata-html' width='560' height='315' src='https://video.olney.ai/2-plotting.mp4' title='YouTube video player' frameborder='0' allow='accelerometer; autoplay; clipboard-write; encrypted-media; gyroscope; picture-in-picture; web-share' referrerpolicy='strict-origin-when-cross-origin' allowfullscreen></iframe>",
    "id": "npqY6ZiSbavX",
    "slideshow": {
     "slide_type": ""
    },
    "tags": []
   },
   "source": [
    "\n",
    "\n",
    "Ethan recently took a trip to the Netherlands as a foreign exchange student. He quickly noticed that most people use public transportation. He also noticed how clean the air quality is compared to his home. He learned that the Netherlands took steps to improve their public transportation system, and now, they have one of the best public transportation systems in the world, which improved their air quality over time.  \n",
    "\n",
    "Ethan thought about his bus route to school and how much traffic he encounters when he is home. He wants to use data science to help analyze what causes the delays and potential pollution problems in his hometown. Using data science will help him analyze traffic data in both countries, such as vehicle speeds and traffic flow, to improve traffic management and reduce congestion. Comparing data from both countries will help him find solutions to improving his quality of life at home.\n"
   ]
  },
  {
   "cell_type": "markdown",
   "metadata": {},
   "source": [
    "## WHAT DO I NEED TO KNOW?"
   ]
  },
  {
   "cell_type": "markdown",
   "metadata": {
    "id": "qrgUmfOahWzU"
   },
   "source": [
    "\n",
    "\n",
    "The thing about data is that it can add up really quickly. So one way to solve the problem is by trying to visualize the data, which can help us see patterns we might miss. Data visualization can include things like charts, plots, graphs, and maps (and many more). You will notice the type of variable (nominal, ordinal, interval, and ratio) that we described in the [Data Science and the Nature of Data](Data_Science_and_the_Nature_of_Data.ipynb) will be really helpful for certain data visualizations.\n",
    "\n",
    "So…what are the four most often used plots?\n"
   ]
  },
  {
   "cell_type": "markdown",
   "metadata": {
    "id": "-ZNNgMI0hW1p"
   },
   "source": [
    "| Kind of Visualization | What it Means | What it Looks Like |\n",
    "| :-------------------- | ------------- | -----------------: |\n",
    "| Scatter Plots         | *What does all my data look like?* <br><br> Scatter plots include all of the data points along the Y <br> (numbers up and down) and X (numbers across) axis | ![scatter](https://pbs.twimg.com/media/GZaad5YWsAA1eWu?format=png&name=900x900) |\n",
    "| Bar Plots             |   *How many are in each category?* <br><br> Bar plots use ‘bars’ to show a value for a specific variable.<br>The Y axis are the totals, while the X axis are the categories. | ![bar](https://pbs.twimg.com/media/GZaaY1bWMAALgUZ?format=png&name=900x900) |\n",
    "| Line Plots            |  *What do the trends look like?* <br><br> Line plots are for non-categorical variables, (e.g., numeric variables).<br>You can have multiple lines on a single plot,<br>in which case each line is a category like bar plots. | ![line](https://pbs.twimg.com/media/GZaaQiwXUAAP6WU?format=png&name=900x900) |\n",
    "| Histogram             |  How many in a specific number range <br><br>Histograms show the count of a single non-categorical variable. <br> Be careful though. While it looks similar to Bar Plots,<br> the X axis describes how many are grouped in a specific number range | ![hist](https://pbs.twimg.com/media/GZaaJE3XYAAjKcJ?format=png&name=900x900) |\n"
   ]
  },
  {
   "cell_type": "markdown",
   "metadata": {
    "id": "AoYlgQ7KkLiJ"
   },
   "source": [
    "Our first thing to do is bring in (import) the package we want. This “package” gives us special features that help us solve Ethan’s problem. Think of it as kind of an ‘add-on’ that gives you extra data science help. We’ll give that package an easy-to-remember name to make things even more accessible."
   ]
  },
  {
   "cell_type": "markdown",
   "metadata": {
    "id": "VJLLwc3qkiKs"
   },
   "source": [
    "## YOUR TURN"
   ]
  },
  {
   "cell_type": "markdown",
   "metadata": {
    "id": "yjoUuv0pjDxb"
   },
   "source": [
    "\n",
    "Now that you understand plotting and how it helps us to visualize or see data, it’s time to practice applying these concepts! As you go through this, think about how tools like scatter plots, bar plots, line plots, and histograms help us identify patterns and trends so that we can make decisions based on our data!"
   ]
  },
  {
   "cell_type": "markdown",
   "metadata": {
    "id": "cWFl04Uma3HF"
   },
   "source": [
    "### Goal 1: Importing the pandas Library\n",
    "\n",
    "We are going to do more data science stuff, so let’s bring in the pandas library again."
   ]
  },
  {
   "cell_type": "markdown",
   "metadata": {
    "id": "iG-b9Twaa3Jp"
   },
   "source": [
    "#### Blockly"
   ]
  },
  {
   "cell_type": "markdown",
   "metadata": {
    "id": "M6ptFz3ua3Qp"
   },
   "source": [
    "**Step 1 - Starting the import**\n",
    "\n",
    "First, we need to set up a “command” to tell the computer what to do. In this case, “command” is to “import” to bring the add-on package in.\n",
    "\n",
    "Bring in the IMPORT menu, which can be helpful to bring in other data tools. In this case, we're bringing in the **import** block.\n"
   ]
  },
  {
   "cell_type": "markdown",
   "metadata": {
    "id": "pB0r94uGbOH7"
   },
   "source": [
    "\n",
    "\n",
    "\n",
    "**Step 2 - Telling what library to import**\n",
    "\n",
    "In the text area, we type the name of the library we want to import. A library is like an extra thing we bring in to give us more coding abilities. In our case, we will type out **pandas**, which will bring in some cool data manipulation features.\n",
    "\n"
   ]
  },
  {
   "cell_type": "markdown",
   "metadata": {
    "id": "0g_UxdWDbOKT"
   },
   "source": [
    "**Step 3 - Renaming the library so it’s easy to remember**\n",
    "\n",
    "Once you are done, put the **import** and **package** together in a single variable. This handy feature helps cut down on all the typing later on. You can call it whatever is easiest for you to remember. In the example below, we’ve put everything into **pd**, and we type it in the open area.\n",
    "\n"
   ]
  },
  {
   "cell_type": "markdown",
   "metadata": {
    "id": "_GdfMrJFbOM2"
   },
   "source": [
    "\n",
    "**Step 4 - Connect the blocks to run the code**\n",
    "\n",
    "Connect the blocks and run the code!\n",
    "\n",
    "![](https://pbs.twimg.com/media/GcxNkjYXkAAlpKD?format=png&name=240x240)\n"
   ]
  },
  {
   "cell_type": "code",
   "execution_count": 4,
   "metadata": {},
   "outputs": [],
   "source": [
    "#blocks code\n"
   ]
  },
  {
   "cell_type": "markdown",
   "metadata": {
    "id": "r6OkEtV2a3Sx"
   },
   "source": [
    "#### Freehand"
   ]
  },
  {
   "cell_type": "markdown",
   "metadata": {
    "id": "AygZpMZjb2b7"
   },
   "source": [
    "\n",
    "**Step 1 - Starting the import**\n",
    "\n",
    "First, we need to set up a “command” to tell the computer what to do. In this case, “command” is to “import” to bring the add-on package in."
   ]
  },
  {
   "cell_type": "markdown",
   "metadata": {
    "id": "0tLIaiRQb2eJ"
   },
   "source": [
    "\n",
    "**Step 2 - Telling what library to import:**\n",
    "\n",
    "In the text area, we type the name of the library we want to import. A library is like an extra thing we bring in to give us more coding abilities. In our case, we will type out **pandas**, which will bring in some cool data manipulation features."
   ]
  },
  {
   "cell_type": "markdown",
   "metadata": {
    "id": "2XcGmKzdb2gZ"
   },
   "source": [
    "\n",
    "**Step 3 - Renaming the library so it’s easy to remember**\n",
    "\n",
    "Once you are done, put the ‘import’ and ‘package’ together in a single variable. This handy feature helps cut down on all the typing later on. Feel free to use whatever name you want that will help you remember it later on. In the example below, we’ve put everything into **pd**."
   ]
  },
  {
   "cell_type": "markdown",
   "metadata": {
    "id": "WTAbO_Ctb2in"
   },
   "source": [
    "\n",
    "**Step 4 - Run the code**\n",
    "\n",
    "Hit ‘control’ and ‘enter’ at the same time to run the data science magic!\n",
    "\n",
    "\n",
    "![](https://pbs.twimg.com/media/GZmkVCYWEA4oGso?format=jpg&name=small)"
   ]
  },
  {
   "cell_type": "markdown",
   "metadata": {
    "id": "2UDvW0Xhb2k7"
   },
   "source": [
    "\n",
    "**Your Turn**: Now it’s your turn! We’re going to dive into the pandas package, which helps us with some really cool data science things. First, let’s import the package and assign it to the variable “pd” to make it easier to use throughout our notebook."
   ]
  },
  {
   "cell_type": "code",
   "execution_count": 1,
   "metadata": {
    "id": "6JI-SlLPcUN0"
   },
   "outputs": [],
   "source": [
    "import pandas as pd"
   ]
  },
  {
   "cell_type": "markdown",
   "metadata": {
    "id": "5GlM_qtwb2nR"
   },
   "source": [
    "**Explanation**: *Congrats!  Your attempts finally made it!  Now you have successfully imported the \"pandas\" package as the variable \"pd\".*"
   ]
  },
  {
   "cell_type": "markdown",
   "metadata": {
    "id": "Pr3aHaoHcdRe"
   },
   "source": [
    "### Goal 2: Import the Plotly.\n",
    "\n",
    "Express Library We’ve already brought pandas to help with data science. Let’s bring in Plotly Express to help with some fancy-pants visualizations.\n"
   ]
  },
  {
   "cell_type": "markdown",
   "metadata": {
    "id": "khsh2LbLcgDq"
   },
   "source": [
    "#### Blockly"
   ]
  },
  {
   "cell_type": "markdown",
   "metadata": {
    "id": "QLZzWxSxcgF6"
   },
   "source": [
    "**Step 1 - Starting the import**\n",
    "\n",
    "First, we need to set up a “command” to tell the computer what to do. In this case, “command” is to “import” to bring the add-on package in.\n",
    "\n",
    "Bring in the IMPORT menu, which can be helpful to bring in other data tools. In this case, we're bringing in the **import** block.\n"
   ]
  },
  {
   "cell_type": "markdown",
   "metadata": {
    "id": "55rTxP2JcgIa"
   },
   "source": [
    "\n",
    "**Step 2 - Telling what library to import**\n",
    "\n",
    "In the text area, we type the name of the library we want to import. A library is like an extra thing we bring in to give us more coding abilities. In our case, we will type out the **plotly.express** library. Plotly is a popular library in Python that provides functions for fancy-pants data visualizations.\n"
   ]
  },
  {
   "cell_type": "markdown",
   "metadata": {
    "id": "OjLyx5TWcgK9"
   },
   "source": [
    "\n",
    "**Step 3 - Renaming the library so it’s easy to remember**\n",
    "\n",
    "Once you are done, put the **import** and **plotly.express** together in a single variable. This handy feature helps cut down on all the typing later on. You can call it whatever is easiest for you to remember. In the example below, we’ve put everything into px so it’s easier to remember.\n",
    "\n"
   ]
  },
  {
   "cell_type": "markdown",
   "metadata": {
    "id": "yjCjB2dQcgNF"
   },
   "source": [
    "**Step 4 - Connect the blocks to run the code**\n",
    "\n",
    "Connect the blocks and run the code!\n",
    "\n",
    "![](https://pbs.twimg.com/media/GaON4A9XsAANFz2?format=png&name=240x240\n",
    ")"
   ]
  },
  {
   "cell_type": "code",
   "execution_count": 5,
   "metadata": {},
   "outputs": [],
   "source": [
    "#blocks code\n"
   ]
  },
  {
   "cell_type": "markdown",
   "metadata": {
    "id": "dUx47VGjcgPe"
   },
   "source": [
    "#### Freehand"
   ]
  },
  {
   "cell_type": "markdown",
   "metadata": {
    "id": "PgeY-bDVe8si"
   },
   "source": [
    "**Step 1 - Starting the import**\n",
    "\n",
    "First, we need to set up a “command” to tell the computer what to do. In this case, “command” is to “import” to bring the add-on package in.\n",
    "\n"
   ]
  },
  {
   "cell_type": "markdown",
   "metadata": {
    "id": "uFRsu4Ale8zv"
   },
   "source": [
    "**Step 2 - Telling what library to import**\n",
    "\n",
    "In the text area, we type the name of the library we want to import. A library is like an extra thing we bring in to give us more coding abilities. In our case, we will type out the **plotly.express** library. Plotly is a popular library in Python that provides functions for fancy-pants data visualizations.\n"
   ]
  },
  {
   "cell_type": "markdown",
   "metadata": {
    "id": "LpuqLj53e82S"
   },
   "source": [
    "**Step 3 - Renaming the library so it’s easy to remember**\n",
    "\n",
    "Once you are done, put the ‘import’ and ‘package’ together in a single variable. This handy feature helps cut down on all the typing later on. Feel free to use whatever name you want that will help you remember it later on. In the example below, we’ve put everything into **px**.\n",
    "\n"
   ]
  },
  {
   "cell_type": "markdown",
   "metadata": {
    "id": "G7mI49pPe84v"
   },
   "source": [
    "**Step 4 - Run the code**\n",
    "\n",
    "Hit ‘control’ and ‘enter’ at the same time to run the data science magic!\n",
    "\n",
    "![](https://pbs.twimg.com/media/GaON1ppW0AIrmJh?format=png&name=360x360\n",
    ")"
   ]
  },
  {
   "cell_type": "markdown",
   "metadata": {
    "id": "D2RqqkcMcgRp"
   },
   "source": [
    "**Your Turn**: Now it’s your turn! We’re going to bring in Plotly Express to help with those visualizations. Let’s start the import making sure to rename it before we run it."
   ]
  },
  {
   "cell_type": "code",
   "execution_count": 5,
   "metadata": {
    "id": "8V6fOBUmgau3"
   },
   "outputs": [],
   "source": [
    "import plotly.express as px"
   ]
  },
  {
   "cell_type": "markdown",
   "metadata": {
    "id": "M2xNTO-sgcit"
   },
   "source": [
    "**Explanation**: *Congrats! Your attempts finally made it! Now you have successfully imported the **plotly.express** package as the variable **px**.*"
   ]
  },
  {
   "cell_type": "markdown",
   "metadata": {
    "id": "ldxSP0ctgidT"
   },
   "source": [
    "### Goal 3: Bringing in the Dataframe\n",
    "\n",
    "Let’s bring in the data that we want to look at.\n"
   ]
  },
  {
   "cell_type": "markdown",
   "metadata": {
    "id": "EfGmLcivhUmF"
   },
   "source": [
    "#### Blockly"
   ]
  },
  {
   "cell_type": "markdown",
   "metadata": {
    "id": "l9DDc-CWgutE"
   },
   "source": [
    "\n",
    "**Step 1 - Write out the variable name you want to use**\n",
    "\n",
    "Now that we’re all set with our new package to help us to do cool things, let’s bring the data into a variable and call it **data**. Think of it as a digital spreadsheet with much more power to analyze and manipulate the data!\n",
    "\n",
    "In Blockly, bring in the VARIABLES menu.\n"
   ]
  },
  {
   "cell_type": "markdown",
   "metadata": {
    "id": "0lpwic4DguvX"
   },
   "source": [
    "\n",
    "**Step 2 - Assign the dataframe to the variable you created**\n",
    "\n",
    "Just like we did before, let’s type out a variable name. Rather than type out the full file name for our data, this easy to remember name will hold the data we bring in.\n",
    "\n",
    "In Blockly, go to the Variables and drag the Set block for the **data** variable. This will allow us to assign the result of a function call to the variable. A function is basically code that does a specific task for us."
   ]
  },
  {
   "cell_type": "markdown",
   "metadata": {
    "id": "SpXpzASwgux4"
   },
   "source": [
    "\n",
    "\n",
    "**Step 3 - Bring in the data**\n",
    "Now we need to look at the file that has all our data. To load our dataframe, we’ll use a simple command to bring in the file we need (CSV….Comma Separated Values). Let’s say we have a file called ‘AirQuality.csv' in the folder **‘datasets’**. We’re telling Python to read the CSV file and store it in a variable called **data**.\n",
    "\n",
    "From the Variable menu, drag a DO block using the **pd** variable, go ahead with the do operation read_csv. The **read_csv** function reads a CSV file and returns a DataFrame object.\n",
    "\n",
    "In our case, let’s bring in the “datasets/AirQualityIndex.csv\" (use the Quotes from the TEXT menu) because that is what Angelina is working with.\n"
   ]
  },
  {
   "cell_type": "markdown",
   "metadata": {
    "id": "b9S7YPyygu0g"
   },
   "source": [
    "\n",
    "**Step 4 - Display the variable**\n",
    "\n",
    "Let’s see it now by ‘displaying’ and showing our work.\n",
    "\n",
    "Drag the **data** variable to the workspace, making it available for further use in our program. This step is more of a visualization step, allowing us to see the variable in the Blockly workspace.\n"
   ]
  },
  {
   "cell_type": "markdown",
   "metadata": {
    "id": "4aM3Rgangu22"
   },
   "source": [
    "\n",
    "**Step 5 - Connect the blocks to run the code**\n",
    "\n",
    "Connect the blocks and run the code!\n",
    "\n",
    "![](https://pbs.twimg.com/media/GhDkmMDXkAAe_5K?format=png&name=small)"
   ]
  },
  {
   "cell_type": "code",
   "execution_count": 2,
   "metadata": {},
   "outputs": [
    {
     "data": {
      "text/html": [
       "<div>\n",
       "<style scoped>\n",
       "    .dataframe tbody tr th:only-of-type {\n",
       "        vertical-align: middle;\n",
       "    }\n",
       "\n",
       "    .dataframe tbody tr th {\n",
       "        vertical-align: top;\n",
       "    }\n",
       "\n",
       "    .dataframe thead th {\n",
       "        text-align: right;\n",
       "    }\n",
       "</style>\n",
       "<table border=\"1\" class=\"dataframe\">\n",
       "  <thead>\n",
       "    <tr style=\"text-align: right;\">\n",
       "      <th></th>\n",
       "      <th>TrafficVolume</th>\n",
       "      <th>AverageSpeed</th>\n",
       "      <th>CO2Emissions</th>\n",
       "      <th>NoiseLevel</th>\n",
       "      <th>TrafficCondition</th>\n",
       "    </tr>\n",
       "  </thead>\n",
       "  <tbody>\n",
       "    <tr>\n",
       "      <th>0</th>\n",
       "      <td>2222.222222</td>\n",
       "      <td>75</td>\n",
       "      <td>33.898305</td>\n",
       "      <td>33.75</td>\n",
       "      <td>Free Flow</td>\n",
       "    </tr>\n",
       "    <tr>\n",
       "      <th>1</th>\n",
       "      <td>1666.666667</td>\n",
       "      <td>50</td>\n",
       "      <td>33.898305</td>\n",
       "      <td>33.75</td>\n",
       "      <td>Free Flow</td>\n",
       "    </tr>\n",
       "    <tr>\n",
       "      <th>2</th>\n",
       "      <td>1111.111111</td>\n",
       "      <td>60</td>\n",
       "      <td>25.423729</td>\n",
       "      <td>33.75</td>\n",
       "      <td>Free Flow</td>\n",
       "    </tr>\n",
       "    <tr>\n",
       "      <th>3</th>\n",
       "      <td>833.333333</td>\n",
       "      <td>55</td>\n",
       "      <td>42.372881</td>\n",
       "      <td>33.75</td>\n",
       "      <td>Free Flow</td>\n",
       "    </tr>\n",
       "    <tr>\n",
       "      <th>4</th>\n",
       "      <td>1944.444444</td>\n",
       "      <td>80</td>\n",
       "      <td>33.898305</td>\n",
       "      <td>33.75</td>\n",
       "      <td>Free Flow</td>\n",
       "    </tr>\n",
       "    <tr>\n",
       "      <th>...</th>\n",
       "      <td>...</td>\n",
       "      <td>...</td>\n",
       "      <td>...</td>\n",
       "      <td>...</td>\n",
       "      <td>...</td>\n",
       "    </tr>\n",
       "    <tr>\n",
       "      <th>145</th>\n",
       "      <td>6666.666667</td>\n",
       "      <td>50</td>\n",
       "      <td>355.932203</td>\n",
       "      <td>112.50</td>\n",
       "      <td>Heavy</td>\n",
       "    </tr>\n",
       "    <tr>\n",
       "      <th>146</th>\n",
       "      <td>5555.555556</td>\n",
       "      <td>25</td>\n",
       "      <td>338.983051</td>\n",
       "      <td>97.50</td>\n",
       "      <td>Heavy</td>\n",
       "    </tr>\n",
       "    <tr>\n",
       "      <th>147</th>\n",
       "      <td>6111.111111</td>\n",
       "      <td>50</td>\n",
       "      <td>355.932203</td>\n",
       "      <td>101.25</td>\n",
       "      <td>Heavy</td>\n",
       "    </tr>\n",
       "    <tr>\n",
       "      <th>148</th>\n",
       "      <td>5277.777778</td>\n",
       "      <td>70</td>\n",
       "      <td>372.881356</td>\n",
       "      <td>112.50</td>\n",
       "      <td>Heavy</td>\n",
       "    </tr>\n",
       "    <tr>\n",
       "      <th>149</th>\n",
       "      <td>4444.444444</td>\n",
       "      <td>50</td>\n",
       "      <td>347.457627</td>\n",
       "      <td>93.75</td>\n",
       "      <td>Heavy</td>\n",
       "    </tr>\n",
       "  </tbody>\n",
       "</table>\n",
       "<p>150 rows × 5 columns</p>\n",
       "</div>"
      ],
      "text/plain": [
       "     TrafficVolume  AverageSpeed  CO2Emissions  NoiseLevel TrafficCondition\n",
       "0      2222.222222            75     33.898305       33.75        Free Flow\n",
       "1      1666.666667            50     33.898305       33.75        Free Flow\n",
       "2      1111.111111            60     25.423729       33.75        Free Flow\n",
       "3       833.333333            55     42.372881       33.75        Free Flow\n",
       "4      1944.444444            80     33.898305       33.75        Free Flow\n",
       "..             ...           ...           ...         ...              ...\n",
       "145    6666.666667            50    355.932203      112.50            Heavy\n",
       "146    5555.555556            25    338.983051       97.50            Heavy\n",
       "147    6111.111111            50    355.932203      101.25            Heavy\n",
       "148    5277.777778            70    372.881356      112.50            Heavy\n",
       "149    4444.444444            50    347.457627       93.75            Heavy\n",
       "\n",
       "[150 rows x 5 columns]"
      ]
     },
     "execution_count": 2,
     "metadata": {},
     "output_type": "execute_result"
    }
   ],
   "source": [
    "#blocks code\n"
   ]
  },
  {
   "cell_type": "markdown",
   "metadata": {
    "id": "j-7QkjJnhRDb"
   },
   "source": [
    "#### Freehand"
   ]
  },
  {
   "cell_type": "markdown",
   "metadata": {
    "id": "wYPekg_4hYBm"
   },
   "source": [
    "\n",
    "**Step 1 - Write out the variable name you want to use**\n",
    "\n",
    "Now that we’re all set with our new package to help us to do cool things let’s bring the **data** into a variable called data. Think of it as a digital spreadsheet with much more power to analyze and manipulate the data!\n",
    "\n",
    "Just like we did before, let’s type out a variable name. Rather than type out the full file name for our data, this easy to remember name will hold the data we bring in."
   ]
  },
  {
   "cell_type": "markdown",
   "metadata": {
    "id": "0Oe4RUbFhYD2"
   },
   "source": [
    "\n",
    "\n",
    "**Step 2 - Assign the Dataframe to the Variable You Created**\n",
    "\n",
    "Just like we did before, let’s type out a variable name. Rather than type out the full file name for our data, this easy to remember name will hold the data we bring in."
   ]
  },
  {
   "cell_type": "markdown",
   "metadata": {
    "id": "qw1cT6r6hYGP"
   },
   "source": [
    "\n",
    "**Step 3 - Bring in the data**\n",
    "\n",
    "Now, we need to look at the file that has all our data.\n",
    "\n",
    "To load our dataframe, we’ll use a simple command to bring in the file we need (CSV….Comma Separated Values). Let’s say we have a file called ‘AirQuality.csv’ in the folder **‘datasets’**. We’re telling Python to read the CSV file and store it in a variable called **data**. For this function, we need to specify the code as “pd.read_csv”, which makes the code read the csv file. This variable is now our dataframe!\n",
    "\n",
    "In our case, let’s bring in the “datasets/AirQualityIndex.csv\" (user the Quotes from the TEXT menu) because that is what Kiana is working with.\n"
   ]
  },
  {
   "cell_type": "markdown",
   "metadata": {
    "id": "y5bE1Qm7hYIk"
   },
   "source": [
    "**Step 4 - Print the Variable**\n",
    "\n",
    "Let’s see it now by ‘printing’ and showing our work."
   ]
  },
  {
   "cell_type": "markdown",
   "metadata": {
    "id": "JqEgFhw5hYK4"
   },
   "source": [
    "\n",
    "**Step 5 - Run the code**\n",
    "Hit ‘control’ and ‘enter’ at the same time to run the code!\n",
    "\n",
    "![](https://pbs.twimg.com/media/GhDkgM8X0AAQ2se?format=png&name=small)"
   ]
  },
  {
   "cell_type": "markdown",
   "metadata": {
    "id": "tH9-Yq6ihYNi"
   },
   "source": [
    "**Your Turn**: Let’s dive in and start working with the data! We’ll begin by loading it into a dataframe, which will allow us to interact with and analyze the dataset easily."
   ]
  },
  {
   "cell_type": "code",
   "execution_count": 29,
   "metadata": {
    "colab": {
     "base_uri": "https://localhost:8080/",
     "height": 423
    },
    "id": "ob1w2J0LiiCX",
    "outputId": "e6398c63-7d0d-478d-e9a2-48c8a071910e"
   },
   "outputs": [
    {
     "data": {
      "application/vnd.google.colaboratory.intrinsic+json": {
       "summary": "{\n  \"name\": \"data\",\n  \"rows\": 150,\n  \"fields\": [\n    {\n      \"column\": \"TrafficVolume\",\n      \"properties\": {\n        \"dtype\": \"number\",\n        \"std\": 2300.1836888404623,\n        \"min\": 0.0,\n        \"max\": 10000.0,\n        \"num_unique_values\": 35,\n        \"samples\": [\n          5277.777778,\n          555.5555556,\n          3611.111111\n        ],\n        \"semantic_type\": \"\",\n        \"description\": \"\"\n      }\n    },\n    {\n      \"column\": \"AverageSpeed\",\n      \"properties\": {\n        \"dtype\": \"number\",\n        \"std\": 21,\n        \"min\": 0,\n        \"max\": 120,\n        \"num_unique_values\": 23,\n        \"samples\": [\n          15,\n          100,\n          75\n        ],\n        \"semantic_type\": \"\",\n        \"description\": \"\"\n      }\n    },\n    {\n      \"column\": \"CO2Emissions\",\n      \"properties\": {\n        \"dtype\": \"number\",\n        \"std\": 149.52715423255,\n        \"min\": 0.0,\n        \"max\": 500.0,\n        \"num_unique_values\": 43,\n        \"samples\": [\n          483.0508475,\n          237.2881356,\n          228.8135593\n        ],\n        \"semantic_type\": \"\",\n        \"description\": \"\"\n      }\n    },\n    {\n      \"column\": \"NoiseLevel\",\n      \"properties\": {\n        \"dtype\": \"number\",\n        \"std\": 28.61852781378158,\n        \"min\": 30.0,\n        \"max\": 120.0,\n        \"num_unique_values\": 22,\n        \"samples\": [\n          33.75,\n          71.25,\n          75.0\n        ],\n        \"semantic_type\": \"\",\n        \"description\": \"\"\n      }\n    },\n    {\n      \"column\": \"TrafficCondition\",\n      \"properties\": {\n        \"dtype\": \"category\",\n        \"num_unique_values\": 3,\n        \"samples\": [\n          \"Free Flow\",\n          \"Moderate\",\n          \"Heavy\"\n        ],\n        \"semantic_type\": \"\",\n        \"description\": \"\"\n      }\n    }\n  ]\n}",
       "type": "dataframe",
       "variable_name": "data"
      },
      "text/html": [
       "\n",
       "  <div id=\"df-9cccb193-f652-421f-a7e8-98682198ea3e\" class=\"colab-df-container\">\n",
       "    <div>\n",
       "<style scoped>\n",
       "    .dataframe tbody tr th:only-of-type {\n",
       "        vertical-align: middle;\n",
       "    }\n",
       "\n",
       "    .dataframe tbody tr th {\n",
       "        vertical-align: top;\n",
       "    }\n",
       "\n",
       "    .dataframe thead th {\n",
       "        text-align: right;\n",
       "    }\n",
       "</style>\n",
       "<table border=\"1\" class=\"dataframe\">\n",
       "  <thead>\n",
       "    <tr style=\"text-align: right;\">\n",
       "      <th></th>\n",
       "      <th>TrafficVolume</th>\n",
       "      <th>AverageSpeed</th>\n",
       "      <th>CO2Emissions</th>\n",
       "      <th>NoiseLevel</th>\n",
       "      <th>TrafficCondition</th>\n",
       "    </tr>\n",
       "  </thead>\n",
       "  <tbody>\n",
       "    <tr>\n",
       "      <th>0</th>\n",
       "      <td>2222.222222</td>\n",
       "      <td>75</td>\n",
       "      <td>33.898305</td>\n",
       "      <td>33.75</td>\n",
       "      <td>Free Flow</td>\n",
       "    </tr>\n",
       "    <tr>\n",
       "      <th>1</th>\n",
       "      <td>1666.666667</td>\n",
       "      <td>50</td>\n",
       "      <td>33.898305</td>\n",
       "      <td>33.75</td>\n",
       "      <td>Free Flow</td>\n",
       "    </tr>\n",
       "    <tr>\n",
       "      <th>2</th>\n",
       "      <td>1111.111111</td>\n",
       "      <td>60</td>\n",
       "      <td>25.423729</td>\n",
       "      <td>33.75</td>\n",
       "      <td>Free Flow</td>\n",
       "    </tr>\n",
       "    <tr>\n",
       "      <th>3</th>\n",
       "      <td>833.333333</td>\n",
       "      <td>55</td>\n",
       "      <td>42.372881</td>\n",
       "      <td>33.75</td>\n",
       "      <td>Free Flow</td>\n",
       "    </tr>\n",
       "    <tr>\n",
       "      <th>4</th>\n",
       "      <td>1944.444444</td>\n",
       "      <td>80</td>\n",
       "      <td>33.898305</td>\n",
       "      <td>33.75</td>\n",
       "      <td>Free Flow</td>\n",
       "    </tr>\n",
       "    <tr>\n",
       "      <th>...</th>\n",
       "      <td>...</td>\n",
       "      <td>...</td>\n",
       "      <td>...</td>\n",
       "      <td>...</td>\n",
       "      <td>...</td>\n",
       "    </tr>\n",
       "    <tr>\n",
       "      <th>145</th>\n",
       "      <td>6666.666667</td>\n",
       "      <td>50</td>\n",
       "      <td>355.932203</td>\n",
       "      <td>112.50</td>\n",
       "      <td>Heavy</td>\n",
       "    </tr>\n",
       "    <tr>\n",
       "      <th>146</th>\n",
       "      <td>5555.555556</td>\n",
       "      <td>25</td>\n",
       "      <td>338.983051</td>\n",
       "      <td>97.50</td>\n",
       "      <td>Heavy</td>\n",
       "    </tr>\n",
       "    <tr>\n",
       "      <th>147</th>\n",
       "      <td>6111.111111</td>\n",
       "      <td>50</td>\n",
       "      <td>355.932203</td>\n",
       "      <td>101.25</td>\n",
       "      <td>Heavy</td>\n",
       "    </tr>\n",
       "    <tr>\n",
       "      <th>148</th>\n",
       "      <td>5277.777778</td>\n",
       "      <td>70</td>\n",
       "      <td>372.881356</td>\n",
       "      <td>112.50</td>\n",
       "      <td>Heavy</td>\n",
       "    </tr>\n",
       "    <tr>\n",
       "      <th>149</th>\n",
       "      <td>4444.444444</td>\n",
       "      <td>50</td>\n",
       "      <td>347.457627</td>\n",
       "      <td>93.75</td>\n",
       "      <td>Heavy</td>\n",
       "    </tr>\n",
       "  </tbody>\n",
       "</table>\n",
       "<p>150 rows × 5 columns</p>\n",
       "</div>\n",
       "    <div class=\"colab-df-buttons\">\n",
       "\n",
       "  <div class=\"colab-df-container\">\n",
       "    <button class=\"colab-df-convert\" onclick=\"convertToInteractive('df-9cccb193-f652-421f-a7e8-98682198ea3e')\"\n",
       "            title=\"Convert this dataframe to an interactive table.\"\n",
       "            style=\"display:none;\">\n",
       "\n",
       "  <svg xmlns=\"http://www.w3.org/2000/svg\" height=\"24px\" viewBox=\"0 -960 960 960\">\n",
       "    <path d=\"M120-120v-720h720v720H120Zm60-500h600v-160H180v160Zm220 220h160v-160H400v160Zm0 220h160v-160H400v160ZM180-400h160v-160H180v160Zm440 0h160v-160H620v160ZM180-180h160v-160H180v160Zm440 0h160v-160H620v160Z\"/>\n",
       "  </svg>\n",
       "    </button>\n",
       "\n",
       "  <style>\n",
       "    .colab-df-container {\n",
       "      display:flex;\n",
       "      gap: 12px;\n",
       "    }\n",
       "\n",
       "    .colab-df-convert {\n",
       "      background-color: #E8F0FE;\n",
       "      border: none;\n",
       "      border-radius: 50%;\n",
       "      cursor: pointer;\n",
       "      display: none;\n",
       "      fill: #1967D2;\n",
       "      height: 32px;\n",
       "      padding: 0 0 0 0;\n",
       "      width: 32px;\n",
       "    }\n",
       "\n",
       "    .colab-df-convert:hover {\n",
       "      background-color: #E2EBFA;\n",
       "      box-shadow: 0px 1px 2px rgba(60, 64, 67, 0.3), 0px 1px 3px 1px rgba(60, 64, 67, 0.15);\n",
       "      fill: #174EA6;\n",
       "    }\n",
       "\n",
       "    .colab-df-buttons div {\n",
       "      margin-bottom: 4px;\n",
       "    }\n",
       "\n",
       "    [theme=dark] .colab-df-convert {\n",
       "      background-color: #3B4455;\n",
       "      fill: #D2E3FC;\n",
       "    }\n",
       "\n",
       "    [theme=dark] .colab-df-convert:hover {\n",
       "      background-color: #434B5C;\n",
       "      box-shadow: 0px 1px 3px 1px rgba(0, 0, 0, 0.15);\n",
       "      filter: drop-shadow(0px 1px 2px rgba(0, 0, 0, 0.3));\n",
       "      fill: #FFFFFF;\n",
       "    }\n",
       "  </style>\n",
       "\n",
       "    <script>\n",
       "      const buttonEl =\n",
       "        document.querySelector('#df-9cccb193-f652-421f-a7e8-98682198ea3e button.colab-df-convert');\n",
       "      buttonEl.style.display =\n",
       "        google.colab.kernel.accessAllowed ? 'block' : 'none';\n",
       "\n",
       "      async function convertToInteractive(key) {\n",
       "        const element = document.querySelector('#df-9cccb193-f652-421f-a7e8-98682198ea3e');\n",
       "        const dataTable =\n",
       "          await google.colab.kernel.invokeFunction('convertToInteractive',\n",
       "                                                    [key], {});\n",
       "        if (!dataTable) return;\n",
       "\n",
       "        const docLinkHtml = 'Like what you see? Visit the ' +\n",
       "          '<a target=\"_blank\" href=https://colab.research.google.com/notebooks/data_table.ipynb>data table notebook</a>'\n",
       "          + ' to learn more about interactive tables.';\n",
       "        element.innerHTML = '';\n",
       "        dataTable['output_type'] = 'display_data';\n",
       "        await google.colab.output.renderOutput(dataTable, element);\n",
       "        const docLink = document.createElement('div');\n",
       "        docLink.innerHTML = docLinkHtml;\n",
       "        element.appendChild(docLink);\n",
       "      }\n",
       "    </script>\n",
       "  </div>\n",
       "\n",
       "\n",
       "<div id=\"df-47457fed-b57a-4b30-baee-e647f88e5322\">\n",
       "  <button class=\"colab-df-quickchart\" onclick=\"quickchart('df-47457fed-b57a-4b30-baee-e647f88e5322')\"\n",
       "            title=\"Suggest charts\"\n",
       "            style=\"display:none;\">\n",
       "\n",
       "<svg xmlns=\"http://www.w3.org/2000/svg\" height=\"24px\"viewBox=\"0 0 24 24\"\n",
       "     width=\"24px\">\n",
       "    <g>\n",
       "        <path d=\"M19 3H5c-1.1 0-2 .9-2 2v14c0 1.1.9 2 2 2h14c1.1 0 2-.9 2-2V5c0-1.1-.9-2-2-2zM9 17H7v-7h2v7zm4 0h-2V7h2v10zm4 0h-2v-4h2v4z\"/>\n",
       "    </g>\n",
       "</svg>\n",
       "  </button>\n",
       "\n",
       "<style>\n",
       "  .colab-df-quickchart {\n",
       "      --bg-color: #E8F0FE;\n",
       "      --fill-color: #1967D2;\n",
       "      --hover-bg-color: #E2EBFA;\n",
       "      --hover-fill-color: #174EA6;\n",
       "      --disabled-fill-color: #AAA;\n",
       "      --disabled-bg-color: #DDD;\n",
       "  }\n",
       "\n",
       "  [theme=dark] .colab-df-quickchart {\n",
       "      --bg-color: #3B4455;\n",
       "      --fill-color: #D2E3FC;\n",
       "      --hover-bg-color: #434B5C;\n",
       "      --hover-fill-color: #FFFFFF;\n",
       "      --disabled-bg-color: #3B4455;\n",
       "      --disabled-fill-color: #666;\n",
       "  }\n",
       "\n",
       "  .colab-df-quickchart {\n",
       "    background-color: var(--bg-color);\n",
       "    border: none;\n",
       "    border-radius: 50%;\n",
       "    cursor: pointer;\n",
       "    display: none;\n",
       "    fill: var(--fill-color);\n",
       "    height: 32px;\n",
       "    padding: 0;\n",
       "    width: 32px;\n",
       "  }\n",
       "\n",
       "  .colab-df-quickchart:hover {\n",
       "    background-color: var(--hover-bg-color);\n",
       "    box-shadow: 0 1px 2px rgba(60, 64, 67, 0.3), 0 1px 3px 1px rgba(60, 64, 67, 0.15);\n",
       "    fill: var(--button-hover-fill-color);\n",
       "  }\n",
       "\n",
       "  .colab-df-quickchart-complete:disabled,\n",
       "  .colab-df-quickchart-complete:disabled:hover {\n",
       "    background-color: var(--disabled-bg-color);\n",
       "    fill: var(--disabled-fill-color);\n",
       "    box-shadow: none;\n",
       "  }\n",
       "\n",
       "  .colab-df-spinner {\n",
       "    border: 2px solid var(--fill-color);\n",
       "    border-color: transparent;\n",
       "    border-bottom-color: var(--fill-color);\n",
       "    animation:\n",
       "      spin 1s steps(1) infinite;\n",
       "  }\n",
       "\n",
       "  @keyframes spin {\n",
       "    0% {\n",
       "      border-color: transparent;\n",
       "      border-bottom-color: var(--fill-color);\n",
       "      border-left-color: var(--fill-color);\n",
       "    }\n",
       "    20% {\n",
       "      border-color: transparent;\n",
       "      border-left-color: var(--fill-color);\n",
       "      border-top-color: var(--fill-color);\n",
       "    }\n",
       "    30% {\n",
       "      border-color: transparent;\n",
       "      border-left-color: var(--fill-color);\n",
       "      border-top-color: var(--fill-color);\n",
       "      border-right-color: var(--fill-color);\n",
       "    }\n",
       "    40% {\n",
       "      border-color: transparent;\n",
       "      border-right-color: var(--fill-color);\n",
       "      border-top-color: var(--fill-color);\n",
       "    }\n",
       "    60% {\n",
       "      border-color: transparent;\n",
       "      border-right-color: var(--fill-color);\n",
       "    }\n",
       "    80% {\n",
       "      border-color: transparent;\n",
       "      border-right-color: var(--fill-color);\n",
       "      border-bottom-color: var(--fill-color);\n",
       "    }\n",
       "    90% {\n",
       "      border-color: transparent;\n",
       "      border-bottom-color: var(--fill-color);\n",
       "    }\n",
       "  }\n",
       "</style>\n",
       "\n",
       "  <script>\n",
       "    async function quickchart(key) {\n",
       "      const quickchartButtonEl =\n",
       "        document.querySelector('#' + key + ' button');\n",
       "      quickchartButtonEl.disabled = true;  // To prevent multiple clicks.\n",
       "      quickchartButtonEl.classList.add('colab-df-spinner');\n",
       "      try {\n",
       "        const charts = await google.colab.kernel.invokeFunction(\n",
       "            'suggestCharts', [key], {});\n",
       "      } catch (error) {\n",
       "        console.error('Error during call to suggestCharts:', error);\n",
       "      }\n",
       "      quickchartButtonEl.classList.remove('colab-df-spinner');\n",
       "      quickchartButtonEl.classList.add('colab-df-quickchart-complete');\n",
       "    }\n",
       "    (() => {\n",
       "      let quickchartButtonEl =\n",
       "        document.querySelector('#df-47457fed-b57a-4b30-baee-e647f88e5322 button');\n",
       "      quickchartButtonEl.style.display =\n",
       "        google.colab.kernel.accessAllowed ? 'block' : 'none';\n",
       "    })();\n",
       "  </script>\n",
       "</div>\n",
       "\n",
       "  <div id=\"id_787c3df2-39db-4a1f-a45c-014a8db395a4\">\n",
       "    <style>\n",
       "      .colab-df-generate {\n",
       "        background-color: #E8F0FE;\n",
       "        border: none;\n",
       "        border-radius: 50%;\n",
       "        cursor: pointer;\n",
       "        display: none;\n",
       "        fill: #1967D2;\n",
       "        height: 32px;\n",
       "        padding: 0 0 0 0;\n",
       "        width: 32px;\n",
       "      }\n",
       "\n",
       "      .colab-df-generate:hover {\n",
       "        background-color: #E2EBFA;\n",
       "        box-shadow: 0px 1px 2px rgba(60, 64, 67, 0.3), 0px 1px 3px 1px rgba(60, 64, 67, 0.15);\n",
       "        fill: #174EA6;\n",
       "      }\n",
       "\n",
       "      [theme=dark] .colab-df-generate {\n",
       "        background-color: #3B4455;\n",
       "        fill: #D2E3FC;\n",
       "      }\n",
       "\n",
       "      [theme=dark] .colab-df-generate:hover {\n",
       "        background-color: #434B5C;\n",
       "        box-shadow: 0px 1px 3px 1px rgba(0, 0, 0, 0.15);\n",
       "        filter: drop-shadow(0px 1px 2px rgba(0, 0, 0, 0.3));\n",
       "        fill: #FFFFFF;\n",
       "      }\n",
       "    </style>\n",
       "    <button class=\"colab-df-generate\" onclick=\"generateWithVariable('data')\"\n",
       "            title=\"Generate code using this dataframe.\"\n",
       "            style=\"display:none;\">\n",
       "\n",
       "  <svg xmlns=\"http://www.w3.org/2000/svg\" height=\"24px\"viewBox=\"0 0 24 24\"\n",
       "       width=\"24px\">\n",
       "    <path d=\"M7,19H8.4L18.45,9,17,7.55,7,17.6ZM5,21V16.75L18.45,3.32a2,2,0,0,1,2.83,0l1.4,1.43a1.91,1.91,0,0,1,.58,1.4,1.91,1.91,0,0,1-.58,1.4L9.25,21ZM18.45,9,17,7.55Zm-12,3A5.31,5.31,0,0,0,4.9,8.1,5.31,5.31,0,0,0,1,6.5,5.31,5.31,0,0,0,4.9,4.9,5.31,5.31,0,0,0,6.5,1,5.31,5.31,0,0,0,8.1,4.9,5.31,5.31,0,0,0,12,6.5,5.46,5.46,0,0,0,6.5,12Z\"/>\n",
       "  </svg>\n",
       "    </button>\n",
       "    <script>\n",
       "      (() => {\n",
       "      const buttonEl =\n",
       "        document.querySelector('#id_787c3df2-39db-4a1f-a45c-014a8db395a4 button.colab-df-generate');\n",
       "      buttonEl.style.display =\n",
       "        google.colab.kernel.accessAllowed ? 'block' : 'none';\n",
       "\n",
       "      buttonEl.onclick = () => {\n",
       "        google.colab.notebook.generateWithVariable('data');\n",
       "      }\n",
       "      })();\n",
       "    </script>\n",
       "  </div>\n",
       "\n",
       "    </div>\n",
       "  </div>\n"
      ],
      "text/plain": [
       "     TrafficVolume  AverageSpeed  CO2Emissions  NoiseLevel TrafficCondition\n",
       "0      2222.222222            75     33.898305       33.75        Free Flow\n",
       "1      1666.666667            50     33.898305       33.75        Free Flow\n",
       "2      1111.111111            60     25.423729       33.75        Free Flow\n",
       "3       833.333333            55     42.372881       33.75        Free Flow\n",
       "4      1944.444444            80     33.898305       33.75        Free Flow\n",
       "..             ...           ...           ...         ...              ...\n",
       "145    6666.666667            50    355.932203      112.50            Heavy\n",
       "146    5555.555556            25    338.983051       97.50            Heavy\n",
       "147    6111.111111            50    355.932203      101.25            Heavy\n",
       "148    5277.777778            70    372.881356      112.50            Heavy\n",
       "149    4444.444444            50    347.457627       93.75            Heavy\n",
       "\n",
       "[150 rows x 5 columns]"
      ]
     },
     "execution_count": 29,
     "metadata": {},
     "output_type": "execute_result"
    }
   ],
   "source": [
    "data = pd.read_csv('datasets/AirQualityIndex.csv')\n",
    "data\n",
    "\n"
   ]
  },
  {
   "cell_type": "markdown",
   "metadata": {
    "id": "G-1tdfXYhYPz"
   },
   "source": [
    "**Explanation**:  *Voila! The variable ‘data’ is now our dataframe! You have now brought in the dataframe and stored it in handy software that you can reference later on. Now, on to the fun part!*\n",
    "\n",
    "*The dataset has information about how clean or polluted the air is in different places over time. It includes details like the date, location, and levels of things that can make the air dirty, such as ozone, carbon monoxide, and dust particles. Sometimes, it also shows the weather, like temperature and wind speed, which can affect air quality. High school students can look at this data to see patterns in air pollution, understand what causes the air to be cleaner or dirtier, and learn why good air quality is essential for our health and the environment.*\n"
   ]
  },
  {
   "cell_type": "markdown",
   "metadata": {
    "id": "9PJSb4-Tiow2"
   },
   "source": [
    "### Goal 4: Building a Scatter Plot\n",
    "\n",
    "Scatter plots help us to look at each data point when it comes to interval ratio data. The scatter plot shows us the relationship between two variables in a data set. The independent variable is plotted on the X-axis, while the dependent variable is plotted on the Y-axis. They are super handy for finding the relationship between different numeric variables."
   ]
  },
  {
   "cell_type": "markdown",
   "metadata": {
    "id": "jyjIldKvi0-_"
   },
   "source": [
    "#### Blockly"
   ]
  },
  {
   "cell_type": "markdown",
   "metadata": {
    "id": "-tZhDuHvi2Iv"
   },
   "source": [
    "\n",
    "**Step 1 - Call the scatter function from Plotly**\n",
    "\n",
    "To make a scatterplot, we first need to call the scatter function with our plotly library (px).\n",
    "\n",
    "From the Variables menu, drag a DO block for the **px** variable. Select the \"**scatter**\" function. This specifies the function we want to call, which is the scatter function from the Plotly Express library (imported as \"**px**\" earlier).\n"
   ]
  },
  {
   "cell_type": "markdown",
   "metadata": {
    "id": "9ZHR1Yl3i2K9"
   },
   "source": [
    "\n",
    "**Step 2 - Saying what data to use for the scatter plot**\n",
    "\n",
    "In order to make a plot, we need to choose its source from which data we want to plot from. In this case, our dataset is stored in the dataframe **data**.\n",
    "\n",
    "For the first argument, drag from the Variable menu the **data** variable. This allows us to specify a dataframe and what to look at for the scatter function."
   ]
  },
  {
   "cell_type": "markdown",
   "metadata": {
    "id": "YnhjKt5qi2NA"
   },
   "source": [
    "\n",
    "\n",
    "**Step 3 - Tell Plotly what columns to put on the axis**\n",
    "\n",
    "Identify the two variables you want to look at. One variable will be alongside the X-axis (*across*) and another one alongside the Y-axis (*up and down*). In our context, we want to see the relationship between TrafficVolume and CO2Emissions. We will assign the variables to the 2 axes in the graph.\n",
    "\n",
    "From the TEXT menu, drag the Quotes. Type the text **TrafficVolume**. This specifies TrafficVolume as the x-axis variable for the scatter plot. Also, from the TEXT menu, drag the Quotes. Type the text **CO2Emissions**. This specifies TrafficVolume as the x-axis variable for the scatter plot.\n",
    "\n"
   ]
  },
  {
   "cell_type": "markdown",
   "metadata": {
    "id": "evXRFBbJi2PV"
   },
   "source": [
    "**Step 4 - Connect the blocks to run the code**\n",
    "\n",
    "Connect the blocks and run the code!\n",
    "\n",
    "![](https://pbs.twimg.com/media/GZjsNSEW8AUehfZ?format=png&name=small)"
   ]
  },
  {
   "cell_type": "code",
   "execution_count": null,
   "metadata": {},
   "outputs": [],
   "source": [
    "#blocks code\n"
   ]
  },
  {
   "cell_type": "markdown",
   "metadata": {
    "id": "u8OpkbPYi2RR"
   },
   "source": [
    "#### Freehand"
   ]
  },
  {
   "cell_type": "markdown",
   "metadata": {
    "id": "X18WCPHBi2Ta"
   },
   "source": [
    "\n",
    "**Step 1 - Call the scatter function from Plotly**\n",
    "\n",
    "To make a scatterplot, we first need to call the scatter function with our plotly library (**px**).\n",
    "\n",
    "`px.scatter()`"
   ]
  },
  {
   "cell_type": "markdown",
   "metadata": {
    "id": "uVhNU-KVi2V1"
   },
   "source": [
    "\n",
    "**Step 2 - Saying what data to use for the scatter plot**\n",
    "\n",
    "In order to make a plot, we need to choose the source from which data we want to plot from. In this case, our dataset is stored in the dataframe “data”\n",
    "\n",
    "`px.scatter(data)`"
   ]
  },
  {
   "cell_type": "markdown",
   "metadata": {
    "id": "z-CybT_yi2Xx"
   },
   "source": [
    "\n",
    "**Step 3 - Tell Plotly what the columns to put on the axis**\n",
    "Identify the two variables you want to look at. One variable will be alongside the X-axis (*across*) and another one alongside the Y-axis (*up and down*). In our context, we want to see the relationship between **TrafficVolume** and **CO2Emissions**. We will assign the variables in the 2 axes in the graph\n",
    "\n",
    "`px.scatter(data, x=\"TrafficVolume\", y=\"CO2Emissions\")`\n"
   ]
  },
  {
   "cell_type": "markdown",
   "metadata": {
    "id": "_41hgJWQjs-l"
   },
   "source": [
    "**Step 4 - Run the code**\n",
    "\n",
    "Hit ‘control’ and ‘enter’ at the same time to run the code!\n",
    "\n",
    "![](https://pbs.twimg.com/media/GdBFjO9XMAAM0f8?format=png&name=small)"
   ]
  },
  {
   "cell_type": "markdown",
   "metadata": {
    "id": "0H7rdGZykXz8"
   },
   "source": [
    "**Your Turn**: Let’s see what you can create and what it looks like. Try the code above to create your own scatter plot and see all the data"
   ]
  },
  {
   "cell_type": "code",
   "execution_count": 7,
   "metadata": {
    "colab": {
     "base_uri": "https://localhost:8080/",
     "height": 542
    },
    "id": "vAjforG8kaLM",
    "outputId": "75830232-c3c2-42fe-eda0-9721d9b31158"
   },
   "outputs": [
    {
     "data": {
      "text/html": [
       "<html>\n",
       "<head><meta charset=\"utf-8\" /></head>\n",
       "<body>\n",
       "    <div>            <script src=\"https://cdnjs.cloudflare.com/ajax/libs/mathjax/2.7.5/MathJax.js?config=TeX-AMS-MML_SVG\"></script><script type=\"text/javascript\">if (window.MathJax && window.MathJax.Hub && window.MathJax.Hub.Config) {window.MathJax.Hub.Config({SVG: {font: \"STIX-Web\"}});}</script>                <script type=\"text/javascript\">window.PlotlyConfig = {MathJaxConfig: 'local'};</script>\n",
       "        <script charset=\"utf-8\" src=\"https://cdn.plot.ly/plotly-2.35.2.min.js\"></script>                <div id=\"53632eaf-2bd4-43c3-83ba-ad5b0ac51ec7\" class=\"plotly-graph-div\" style=\"height:525px; width:100%;\"></div>            <script type=\"text/javascript\">                                    window.PLOTLYENV=window.PLOTLYENV || {};                                    if (document.getElementById(\"53632eaf-2bd4-43c3-83ba-ad5b0ac51ec7\")) {                    Plotly.newPlot(                        \"53632eaf-2bd4-43c3-83ba-ad5b0ac51ec7\",                        [{\"hovertemplate\":\"TrafficVolume=%{x}\\u003cbr\\u003eCO2Emissions=%{y}\\u003cextra\\u003e\\u003c\\u002fextra\\u003e\",\"legendgroup\":\"\",\"marker\":{\"color\":\"#636efa\",\"symbol\":\"circle\"},\"mode\":\"markers\",\"name\":\"\",\"orientation\":\"v\",\"showlegend\":false,\"x\":[2222.222222,1666.666667,1111.111111,833.3333333,1944.444444,3055.555556,833.3333333,1944.444444,277.7777778,1666.666667,3055.555556,1388.888889,1388.888889,0.0,4166.666667,3888.888889,3055.555556,2222.222222,3888.888889,2222.222222,3055.555556,2222.222222,833.3333333,2222.222222,1388.888889,1944.444444,1944.444444,2500.0,2500.0,1111.111111,1388.888889,3055.555556,2500.0,3333.333333,1666.666667,1944.444444,3333.333333,1666.666667,277.7777778,2222.222222,1944.444444,555.5555556,277.7777778,1944.444444,2222.222222,1388.888889,2222.222222,833.3333333,2777.777778,1944.444444,7500.0,5833.333333,7222.222222,3333.333333,6111.111111,3888.888889,5555.555556,1666.666667,6388.888889,2500.0,1944.444444,4444.444444,4722.222222,5000.0,3611.111111,6666.666667,3611.111111,4166.666667,5277.777778,3611.111111,4444.444444,5000.0,5555.555556,5000.0,5833.333333,6388.888889,6944.444444,6666.666667,4722.222222,3888.888889,3333.333333,3333.333333,4166.666667,4722.222222,3055.555556,4722.222222,6666.666667,5555.555556,3611.111111,3333.333333,3333.333333,5000.0,4166.666667,1944.444444,3611.111111,3888.888889,3888.888889,5277.777778,2222.222222,3888.888889,5555.555556,4166.666667,7777.777778,5555.555556,6111.111111,9166.666667,1666.666667,8333.333333,6666.666667,8055.555556,6111.111111,5833.333333,6944.444444,3888.888889,4166.666667,5833.333333,6111.111111,9444.444444,9444.444444,4722.222222,7222.222222,3611.111111,9444.444444,5555.555556,6666.666667,8055.555556,5277.777778,5000.0,5833.333333,8055.555556,8611.111111,10000.0,5833.333333,5555.555556,5000.0,9444.444444,5555.555556,5833.333333,4722.222222,7222.222222,6666.666667,7222.222222,4166.666667,6944.444444,6666.666667,6666.666667,5555.555556,6111.111111,5277.777778,4444.444444],\"xaxis\":\"x\",\"y\":[33.89830508,33.89830508,25.42372881,42.37288136,33.89830508,59.3220339,33.89830508,42.37288136,33.89830508,42.37288136,42.37288136,50.84745763,33.89830508,8.474576271,16.94915254,42.37288136,25.42372881,33.89830508,59.3220339,42.37288136,59.3220339,42.37288136,0.0,59.3220339,76.27118644,50.84745763,50.84745763,42.37288136,33.89830508,50.84745763,50.84745763,42.37288136,42.37288136,33.89830508,42.37288136,16.94915254,25.42372881,42.37288136,25.42372881,42.37288136,25.42372881,25.42372881,25.42372881,50.84745763,76.27118644,33.89830508,50.84745763,33.89830508,42.37288136,33.89830508,313.559322,296.6101695,330.5084746,254.2372881,305.0847458,296.6101695,313.559322,194.9152542,305.0847458,245.7627119,211.8644068,271.1864407,254.2372881,313.559322,220.3389831,288.1355932,296.6101695,262.7118644,296.6101695,245.7627119,322.0338983,254.2372881,330.5084746,313.559322,279.6610169,288.1355932,322.0338983,338.9830508,296.6101695,211.8644068,237.2881356,228.8135593,245.7627119,347.4576271,296.6101695,296.6101695,313.559322,288.1355932,262.7118644,254.2372881,288.1355932,305.0847458,254.2372881,194.9152542,271.1864407,271.1864407,271.1864407,279.6610169,169.4915254,262.7118644,423.7288136,347.4576271,415.2542373,389.8305085,406.779661,474.5762712,296.6101695,449.1525424,406.779661,432.2033898,347.4576271,364.4067797,381.3559322,338.9830508,347.4576271,364.4067797,381.3559322,483.0508475,500.0,338.9830508,398.3050847,330.5084746,483.0508475,330.5084746,398.3050847,423.7288136,322.0338983,330.5084746,389.8305085,406.779661,432.2033898,457.6271186,389.8305085,347.4576271,389.8305085,432.2033898,389.8305085,381.3559322,322.0338983,372.8813559,389.8305085,347.4576271,347.4576271,415.2542373,398.3050847,355.9322034,338.9830508,355.9322034,372.8813559,347.4576271],\"yaxis\":\"y\",\"type\":\"scatter\"}],                        {\"template\":{\"data\":{\"histogram2dcontour\":[{\"type\":\"histogram2dcontour\",\"colorbar\":{\"outlinewidth\":0,\"ticks\":\"\"},\"colorscale\":[[0.0,\"#0d0887\"],[0.1111111111111111,\"#46039f\"],[0.2222222222222222,\"#7201a8\"],[0.3333333333333333,\"#9c179e\"],[0.4444444444444444,\"#bd3786\"],[0.5555555555555556,\"#d8576b\"],[0.6666666666666666,\"#ed7953\"],[0.7777777777777778,\"#fb9f3a\"],[0.8888888888888888,\"#fdca26\"],[1.0,\"#f0f921\"]]}],\"choropleth\":[{\"type\":\"choropleth\",\"colorbar\":{\"outlinewidth\":0,\"ticks\":\"\"}}],\"histogram2d\":[{\"type\":\"histogram2d\",\"colorbar\":{\"outlinewidth\":0,\"ticks\":\"\"},\"colorscale\":[[0.0,\"#0d0887\"],[0.1111111111111111,\"#46039f\"],[0.2222222222222222,\"#7201a8\"],[0.3333333333333333,\"#9c179e\"],[0.4444444444444444,\"#bd3786\"],[0.5555555555555556,\"#d8576b\"],[0.6666666666666666,\"#ed7953\"],[0.7777777777777778,\"#fb9f3a\"],[0.8888888888888888,\"#fdca26\"],[1.0,\"#f0f921\"]]}],\"heatmap\":[{\"type\":\"heatmap\",\"colorbar\":{\"outlinewidth\":0,\"ticks\":\"\"},\"colorscale\":[[0.0,\"#0d0887\"],[0.1111111111111111,\"#46039f\"],[0.2222222222222222,\"#7201a8\"],[0.3333333333333333,\"#9c179e\"],[0.4444444444444444,\"#bd3786\"],[0.5555555555555556,\"#d8576b\"],[0.6666666666666666,\"#ed7953\"],[0.7777777777777778,\"#fb9f3a\"],[0.8888888888888888,\"#fdca26\"],[1.0,\"#f0f921\"]]}],\"heatmapgl\":[{\"type\":\"heatmapgl\",\"colorbar\":{\"outlinewidth\":0,\"ticks\":\"\"},\"colorscale\":[[0.0,\"#0d0887\"],[0.1111111111111111,\"#46039f\"],[0.2222222222222222,\"#7201a8\"],[0.3333333333333333,\"#9c179e\"],[0.4444444444444444,\"#bd3786\"],[0.5555555555555556,\"#d8576b\"],[0.6666666666666666,\"#ed7953\"],[0.7777777777777778,\"#fb9f3a\"],[0.8888888888888888,\"#fdca26\"],[1.0,\"#f0f921\"]]}],\"contourcarpet\":[{\"type\":\"contourcarpet\",\"colorbar\":{\"outlinewidth\":0,\"ticks\":\"\"}}],\"contour\":[{\"type\":\"contour\",\"colorbar\":{\"outlinewidth\":0,\"ticks\":\"\"},\"colorscale\":[[0.0,\"#0d0887\"],[0.1111111111111111,\"#46039f\"],[0.2222222222222222,\"#7201a8\"],[0.3333333333333333,\"#9c179e\"],[0.4444444444444444,\"#bd3786\"],[0.5555555555555556,\"#d8576b\"],[0.6666666666666666,\"#ed7953\"],[0.7777777777777778,\"#fb9f3a\"],[0.8888888888888888,\"#fdca26\"],[1.0,\"#f0f921\"]]}],\"surface\":[{\"type\":\"surface\",\"colorbar\":{\"outlinewidth\":0,\"ticks\":\"\"},\"colorscale\":[[0.0,\"#0d0887\"],[0.1111111111111111,\"#46039f\"],[0.2222222222222222,\"#7201a8\"],[0.3333333333333333,\"#9c179e\"],[0.4444444444444444,\"#bd3786\"],[0.5555555555555556,\"#d8576b\"],[0.6666666666666666,\"#ed7953\"],[0.7777777777777778,\"#fb9f3a\"],[0.8888888888888888,\"#fdca26\"],[1.0,\"#f0f921\"]]}],\"mesh3d\":[{\"type\":\"mesh3d\",\"colorbar\":{\"outlinewidth\":0,\"ticks\":\"\"}}],\"scatter\":[{\"fillpattern\":{\"fillmode\":\"overlay\",\"size\":10,\"solidity\":0.2},\"type\":\"scatter\"}],\"parcoords\":[{\"type\":\"parcoords\",\"line\":{\"colorbar\":{\"outlinewidth\":0,\"ticks\":\"\"}}}],\"scatterpolargl\":[{\"type\":\"scatterpolargl\",\"marker\":{\"colorbar\":{\"outlinewidth\":0,\"ticks\":\"\"}}}],\"bar\":[{\"error_x\":{\"color\":\"#2a3f5f\"},\"error_y\":{\"color\":\"#2a3f5f\"},\"marker\":{\"line\":{\"color\":\"#E5ECF6\",\"width\":0.5},\"pattern\":{\"fillmode\":\"overlay\",\"size\":10,\"solidity\":0.2}},\"type\":\"bar\"}],\"scattergeo\":[{\"type\":\"scattergeo\",\"marker\":{\"colorbar\":{\"outlinewidth\":0,\"ticks\":\"\"}}}],\"scatterpolar\":[{\"type\":\"scatterpolar\",\"marker\":{\"colorbar\":{\"outlinewidth\":0,\"ticks\":\"\"}}}],\"histogram\":[{\"marker\":{\"pattern\":{\"fillmode\":\"overlay\",\"size\":10,\"solidity\":0.2}},\"type\":\"histogram\"}],\"scattergl\":[{\"type\":\"scattergl\",\"marker\":{\"colorbar\":{\"outlinewidth\":0,\"ticks\":\"\"}}}],\"scatter3d\":[{\"type\":\"scatter3d\",\"line\":{\"colorbar\":{\"outlinewidth\":0,\"ticks\":\"\"}},\"marker\":{\"colorbar\":{\"outlinewidth\":0,\"ticks\":\"\"}}}],\"scattermapbox\":[{\"type\":\"scattermapbox\",\"marker\":{\"colorbar\":{\"outlinewidth\":0,\"ticks\":\"\"}}}],\"scatterternary\":[{\"type\":\"scatterternary\",\"marker\":{\"colorbar\":{\"outlinewidth\":0,\"ticks\":\"\"}}}],\"scattercarpet\":[{\"type\":\"scattercarpet\",\"marker\":{\"colorbar\":{\"outlinewidth\":0,\"ticks\":\"\"}}}],\"carpet\":[{\"aaxis\":{\"endlinecolor\":\"#2a3f5f\",\"gridcolor\":\"white\",\"linecolor\":\"white\",\"minorgridcolor\":\"white\",\"startlinecolor\":\"#2a3f5f\"},\"baxis\":{\"endlinecolor\":\"#2a3f5f\",\"gridcolor\":\"white\",\"linecolor\":\"white\",\"minorgridcolor\":\"white\",\"startlinecolor\":\"#2a3f5f\"},\"type\":\"carpet\"}],\"table\":[{\"cells\":{\"fill\":{\"color\":\"#EBF0F8\"},\"line\":{\"color\":\"white\"}},\"header\":{\"fill\":{\"color\":\"#C8D4E3\"},\"line\":{\"color\":\"white\"}},\"type\":\"table\"}],\"barpolar\":[{\"marker\":{\"line\":{\"color\":\"#E5ECF6\",\"width\":0.5},\"pattern\":{\"fillmode\":\"overlay\",\"size\":10,\"solidity\":0.2}},\"type\":\"barpolar\"}],\"pie\":[{\"automargin\":true,\"type\":\"pie\"}]},\"layout\":{\"autotypenumbers\":\"strict\",\"colorway\":[\"#636efa\",\"#EF553B\",\"#00cc96\",\"#ab63fa\",\"#FFA15A\",\"#19d3f3\",\"#FF6692\",\"#B6E880\",\"#FF97FF\",\"#FECB52\"],\"font\":{\"color\":\"#2a3f5f\"},\"hovermode\":\"closest\",\"hoverlabel\":{\"align\":\"left\"},\"paper_bgcolor\":\"white\",\"plot_bgcolor\":\"#E5ECF6\",\"polar\":{\"bgcolor\":\"#E5ECF6\",\"angularaxis\":{\"gridcolor\":\"white\",\"linecolor\":\"white\",\"ticks\":\"\"},\"radialaxis\":{\"gridcolor\":\"white\",\"linecolor\":\"white\",\"ticks\":\"\"}},\"ternary\":{\"bgcolor\":\"#E5ECF6\",\"aaxis\":{\"gridcolor\":\"white\",\"linecolor\":\"white\",\"ticks\":\"\"},\"baxis\":{\"gridcolor\":\"white\",\"linecolor\":\"white\",\"ticks\":\"\"},\"caxis\":{\"gridcolor\":\"white\",\"linecolor\":\"white\",\"ticks\":\"\"}},\"coloraxis\":{\"colorbar\":{\"outlinewidth\":0,\"ticks\":\"\"}},\"colorscale\":{\"sequential\":[[0.0,\"#0d0887\"],[0.1111111111111111,\"#46039f\"],[0.2222222222222222,\"#7201a8\"],[0.3333333333333333,\"#9c179e\"],[0.4444444444444444,\"#bd3786\"],[0.5555555555555556,\"#d8576b\"],[0.6666666666666666,\"#ed7953\"],[0.7777777777777778,\"#fb9f3a\"],[0.8888888888888888,\"#fdca26\"],[1.0,\"#f0f921\"]],\"sequentialminus\":[[0.0,\"#0d0887\"],[0.1111111111111111,\"#46039f\"],[0.2222222222222222,\"#7201a8\"],[0.3333333333333333,\"#9c179e\"],[0.4444444444444444,\"#bd3786\"],[0.5555555555555556,\"#d8576b\"],[0.6666666666666666,\"#ed7953\"],[0.7777777777777778,\"#fb9f3a\"],[0.8888888888888888,\"#fdca26\"],[1.0,\"#f0f921\"]],\"diverging\":[[0,\"#8e0152\"],[0.1,\"#c51b7d\"],[0.2,\"#de77ae\"],[0.3,\"#f1b6da\"],[0.4,\"#fde0ef\"],[0.5,\"#f7f7f7\"],[0.6,\"#e6f5d0\"],[0.7,\"#b8e186\"],[0.8,\"#7fbc41\"],[0.9,\"#4d9221\"],[1,\"#276419\"]]},\"xaxis\":{\"gridcolor\":\"white\",\"linecolor\":\"white\",\"ticks\":\"\",\"title\":{\"standoff\":15},\"zerolinecolor\":\"white\",\"automargin\":true,\"zerolinewidth\":2},\"yaxis\":{\"gridcolor\":\"white\",\"linecolor\":\"white\",\"ticks\":\"\",\"title\":{\"standoff\":15},\"zerolinecolor\":\"white\",\"automargin\":true,\"zerolinewidth\":2},\"scene\":{\"xaxis\":{\"backgroundcolor\":\"#E5ECF6\",\"gridcolor\":\"white\",\"linecolor\":\"white\",\"showbackground\":true,\"ticks\":\"\",\"zerolinecolor\":\"white\",\"gridwidth\":2},\"yaxis\":{\"backgroundcolor\":\"#E5ECF6\",\"gridcolor\":\"white\",\"linecolor\":\"white\",\"showbackground\":true,\"ticks\":\"\",\"zerolinecolor\":\"white\",\"gridwidth\":2},\"zaxis\":{\"backgroundcolor\":\"#E5ECF6\",\"gridcolor\":\"white\",\"linecolor\":\"white\",\"showbackground\":true,\"ticks\":\"\",\"zerolinecolor\":\"white\",\"gridwidth\":2}},\"shapedefaults\":{\"line\":{\"color\":\"#2a3f5f\"}},\"annotationdefaults\":{\"arrowcolor\":\"#2a3f5f\",\"arrowhead\":0,\"arrowwidth\":1},\"geo\":{\"bgcolor\":\"white\",\"landcolor\":\"#E5ECF6\",\"subunitcolor\":\"white\",\"showland\":true,\"showlakes\":true,\"lakecolor\":\"white\"},\"title\":{\"x\":0.05},\"mapbox\":{\"style\":\"light\"}}},\"xaxis\":{\"anchor\":\"y\",\"domain\":[0.0,1.0],\"title\":{\"text\":\"TrafficVolume\"}},\"yaxis\":{\"anchor\":\"x\",\"domain\":[0.0,1.0],\"title\":{\"text\":\"CO2Emissions\"}},\"legend\":{\"tracegroupgap\":0},\"margin\":{\"t\":60}},                        {\"responsive\": true}                    ).then(function(){\n",
       "                            \n",
       "var gd = document.getElementById('53632eaf-2bd4-43c3-83ba-ad5b0ac51ec7');\n",
       "var x = new MutationObserver(function (mutations, observer) {{\n",
       "        var display = window.getComputedStyle(gd).display;\n",
       "        if (!display || display === 'none') {{\n",
       "            console.log([gd, 'removed!']);\n",
       "            Plotly.purge(gd);\n",
       "            observer.disconnect();\n",
       "        }}\n",
       "}});\n",
       "\n",
       "// Listen for the removal of the full notebook cells\n",
       "var notebookContainer = gd.closest('#notebook-container');\n",
       "if (notebookContainer) {{\n",
       "    x.observe(notebookContainer, {childList: true});\n",
       "}}\n",
       "\n",
       "// Listen for the clearing of the current output cell\n",
       "var outputEl = gd.closest('.output');\n",
       "if (outputEl) {{\n",
       "    x.observe(outputEl, {childList: true});\n",
       "}}\n",
       "\n",
       "                        })                };                            </script>        </div>\n",
       "</body>\n",
       "</html>"
      ]
     },
     "metadata": {},
     "output_type": "display_data"
    }
   ],
   "source": [
    "px.scatter(data,'TrafficVolume','CO2Emissions')"
   ]
  },
  {
   "cell_type": "markdown",
   "metadata": {
    "id": "XI4kof55keyb"
   },
   "source": [
    "**Explanation**: *Look at all that data! You should now have a scatter plot that shows all of your data. Do you see any interesting patterns starting to form?*\n",
    "\n",
    "*The scatterplot shows that as Traffic Volume (number of vehicles) increases, CO₂ Emissions (carbon dioxide pollution) also rise. Each blue dot represents a specific data point, and the general trend is that more traffic leads to higher CO₂ emissions. For example, with 2,000 vehicles, emissions stay low, but with 10,000 vehicles, emissions are much higher. What do you think this shows about how traffic contributes to air pollution?*\n"
   ]
  },
  {
   "cell_type": "markdown",
   "metadata": {
    "id": "ASWj45mskkA0"
   },
   "source": [
    "### Goal 5: Finding the Average of the Data (Mean)\n",
    "\n",
    "Let’s see if we can get a better understanding of our data by looking at the average (mean). First, let’s go ahead and calculate the average for the categories we see in TrafficCondition."
   ]
  },
  {
   "cell_type": "markdown",
   "metadata": {
    "id": "Bn3kNGHUkkDG"
   },
   "source": [
    "#### Blockly"
   ]
  },
  {
   "cell_type": "markdown",
   "metadata": {
    "id": "yylj0GjHkkIk"
   },
   "source": [
    "**Step 1 - Write out the variable name you want to use for the groups**\n",
    "\n",
    "We are going to calculate the averages (mean) of the values for categories found in the TrafficCondition column (freeflow, heavy, moderate) soon. Let’s write out a variable name to create a new variable that will hold these averages.\n",
    "\n",
    "On the \"Variables\" menu, click Create Variable. Type **groups** as the variable name. On the \"Variables\" menu, drag the SET block to the variable **groups**.\n"
   ]
  },
  {
   "cell_type": "markdown",
   "metadata": {
    "id": "bRo3P8Mbkzj7"
   },
   "source": [
    "\n",
    "**Step 2 - Finding the categories in the column we are looking at**\n",
    "\n",
    "So now let’s go ahead and find the categories we see in the TrafficCondition (freeflow, heavy, moderate)\n",
    "\n",
    "From the Variable menu, drag the DO block for the data variable. Select the **groupby** DO function from the list of available functions. This specifies the function we want to call, which is the **groupby** function from the **data** object. From the TEXT menu, drag the Quote block (“”). Enter the text string \"**TrafficCondition**\". This specifies the column to group by in the data object.\n",
    "\n",
    "![](https://pbs.twimg.com/media/GZjvn0jXYAIF7u-?format=png&name=small)"
   ]
  },
  {
   "cell_type": "code",
   "execution_count": null,
   "metadata": {},
   "outputs": [],
   "source": [
    "#blocks code\n"
   ]
  },
  {
   "cell_type": "markdown",
   "metadata": {
    "id": "I-2YP3JHkzmW"
   },
   "source": [
    "\n",
    "**Step 3 - Click blocks to code and run the code cell**\n",
    "\n",
    "Now that we’ve got it all together let’s run to get the averages(means).\n",
    "\n",
    "In the Blockly workspace, click on the \"Blocks to Code\" button to convert the blocks into executable code. Next, run the code cell to execute the code and see the results.\n"
   ]
  },
  {
   "cell_type": "markdown",
   "metadata": {
    "id": "W_ZW4WFzkzot"
   },
   "source": [
    "\n",
    "**Step 4 - Write out the variable name you want to use for the groups**\n",
    "\n",
    "In Step 2, we looked at the different categories in TrafficCondition. Now, let’s create a variable that will hold all the averages (means) we have for each category found in in TrafficCondition.\n",
    "\n",
    "On the \"Variables\" menu, click on Create Variable. Type the name averages to the new variable. This specifies the name of the variable we want to create, which is \"**averages**\" in this case. From the Variables menu, drag the SET block for the **averages** variable. This allows us to assign the result of a function call to the variable.\n"
   ]
  },
  {
   "cell_type": "markdown",
   "metadata": {
    "id": "JMRU77zakzrC"
   },
   "source": [
    "\n",
    "**Step 5 - Calculate the averages (means) for each category**\n",
    "\n",
    "Now, let’s use Python to calculate the **averages** (means) for us for the new variable (what we called averages) you created!\n",
    "\n",
    "From the Variables menu, drag the DO block for the **groups** variable. Select the \"**mean**\" from the list of available functions. This specifies the function we want to call, which is the **mean** function from the **groups** object.\n"
   ]
  },
  {
   "cell_type": "markdown",
   "metadata": {
    "id": "ipZdJDBakztq"
   },
   "source": [
    "\n",
    "**Step 6 - Print the averages (mean) for each category**\n",
    "\n",
    "Now, let’s print the averages variable so we can see the calculated results.\n",
    "\n",
    "From the Variables menu, drag the averages variable block to the workspace so that it will print the calculated results.\n",
    "\n"
   ]
  },
  {
   "cell_type": "markdown",
   "metadata": {
    "id": "7hivpfrVkzv-"
   },
   "source": [
    "**Step 7 - Connect the blocks to run the code**\n",
    "\n",
    "Connect the blocks and run the code!\n",
    "\n",
    "![](https://pbs.twimg.com/media/GZa18vWXYAExGfy?format=png&name=360x360)\n"
   ]
  },
  {
   "cell_type": "code",
   "execution_count": null,
   "metadata": {},
   "outputs": [],
   "source": [
    "#blocks code\n"
   ]
  },
  {
   "cell_type": "markdown",
   "metadata": {
    "id": "ZEe4ZQzolruw"
   },
   "source": [
    "#### Freehand"
   ]
  },
  {
   "cell_type": "markdown",
   "metadata": {
    "id": "y4GXgK6EltiY"
   },
   "source": [
    "\n",
    "**Step 1 - Write out the variable name you want to use for the groups**\n",
    "\n",
    "We are going to soon calculate the averages (mean) of the values for categories found in the TrafficCondition column (freeflow, heavy, moderate). Let’s write out a variable name to create a new variable that will hold these averages. We write out the variable as **groups**\n",
    "\n",
    "`groups =`\n"
   ]
  },
  {
   "cell_type": "markdown",
   "metadata": {
    "id": "hX3Z1EJ-ne8i"
   },
   "source": [
    "\n",
    "**Step 2 - Finding the categories in the column we are looking at**\n",
    "\n",
    "So now let’s go ahead and find the categories we see in the TrafficCondition (freeflow, heavy, moderate)\n",
    "\n",
    "Group the data by the TrafficCondition column, a categorical variable representing different traffic states, to analyze how each condition affects other variables in the dataset. You can do it by the **groupby**() function, getting the ‘TrafficCondition’ as a parameter.\n",
    "\n",
    "`groups = data.groupby('TrafficCondition')`"
   ]
  },
  {
   "cell_type": "code",
   "execution_count": 31,
   "metadata": {
    "id": "F01R-OWppQU3"
   },
   "outputs": [],
   "source": [
    "groups = data.groupby('TrafficCondition')"
   ]
  },
  {
   "cell_type": "markdown",
   "metadata": {
    "id": "cDKekWMSooH4"
   },
   "source": [
    "\n",
    "\n",
    "![](https://pbs.twimg.com/media/GZjvYvWX0AICjtq?format=png&name=small)"
   ]
  },
  {
   "cell_type": "markdown",
   "metadata": {
    "id": "qO5yh5UMnfJp"
   },
   "source": [
    "\n",
    "\n",
    "**Step 3 - Run the code**\n",
    "\n",
    "Now that we’ve got it all together let’s run to get the averages(means).\n"
   ]
  },
  {
   "cell_type": "markdown",
   "metadata": {
    "id": "3hDyCAXOnfL_"
   },
   "source": [
    "\n",
    "**Step 4 - Write out the variable name you want to use for the groups**\n",
    "\n",
    "In Step 2, we looked at the different categories in TrafficCondition. Now, let’s create a variable that will hold all the averages (means) we have for each category found in in TrafficCondition.\n",
    "\n",
    "`averages =`\n"
   ]
  },
  {
   "cell_type": "markdown",
   "metadata": {
    "id": "rTKAGeFSnfOb"
   },
   "source": [
    "\n",
    "\n",
    "**Step 5 - Calculate the averages (means) for each category**\n",
    "\n",
    "Now, let’s use Python to calculate the averages (means) for us for the new variable (what we called **averages**) you created!\n",
    "\n",
    "With the “groups” object, you should call the **mean**() function to calculate the average for all numerical columns.\n",
    "\n",
    "`averages = groups.mean()`\n"
   ]
  },
  {
   "cell_type": "markdown",
   "metadata": {
    "id": "OudGHyIynfQz"
   },
   "source": [
    "\n",
    "\n",
    "**Step 6 - Display the averages (mean) for each category**\n",
    "\n",
    "Now, let’s display the **averages** variable so we can see the calculated results.\n",
    "\n",
    "`averages`\n",
    "\n",
    "\n"
   ]
  },
  {
   "cell_type": "markdown",
   "metadata": {
    "id": "aFNf-IdJnfTA"
   },
   "source": [
    "\n",
    "**Step 7 - Run the code**\n",
    "\n",
    "Hit ‘control’ and ‘enter’ at the same time to run the code!\n",
    "\n",
    "![](https://pbs.twimg.com/media/GZa10s7WEAA_S6L?format=png&name=360x360)\n"
   ]
  },
  {
   "cell_type": "markdown",
   "metadata": {
    "id": "CMG12NuNnfVO"
   },
   "source": [
    "**Your Turn**:   So those are the steps. Can you look at the code and type it in there? Run it and see what you find.\n"
   ]
  },
  {
   "cell_type": "code",
   "execution_count": 32,
   "metadata": {
    "colab": {
     "base_uri": "https://localhost:8080/",
     "height": 175
    },
    "id": "0CQtCjkBpDuF",
    "outputId": "3141b025-c4d5-4801-fc24-7cc8fc921c51"
   },
   "outputs": [
    {
     "data": {
      "application/vnd.google.colaboratory.intrinsic+json": {
       "summary": "{\n  \"name\": \"averages\",\n  \"rows\": 3,\n  \"fields\": [\n    {\n      \"column\": \"TrafficCondition\",\n      \"properties\": {\n        \"dtype\": \"string\",\n        \"num_unique_values\": 3,\n        \"samples\": [\n          \"Free Flow\",\n          \"Heavy\",\n          \"Moderate\"\n        ],\n        \"semantic_type\": \"\",\n        \"description\": \"\"\n      }\n    },\n    {\n      \"column\": \"TrafficVolume\",\n      \"properties\": {\n        \"dtype\": \"number\",\n        \"std\": 2208.5016241731955,\n        \"min\": 1961.111111084,\n        \"max\": 6355.55555558,\n        \"num_unique_values\": 3,\n        \"samples\": [\n          1961.111111084,\n          6355.55555558,\n          4544.44444442\n        ],\n        \"semantic_type\": \"\",\n        \"description\": \"\"\n      }\n    },\n    {\n      \"column\": \"AverageSpeed\",\n      \"properties\": {\n        \"dtype\": \"number\",\n        \"std\": 16.566230711903057,\n        \"min\": 38.5,\n        \"max\": 70.9,\n        \"num_unique_values\": 3,\n        \"samples\": [\n          70.9,\n          48.7,\n          38.5\n        ],\n        \"semantic_type\": \"\",\n        \"description\": \"\"\n      }\n    },\n    {\n      \"column\": \"CO2Emissions\",\n      \"properties\": {\n        \"dtype\": \"number\",\n        \"std\": 177.08493177779982,\n        \"min\": 39.32203389822,\n        \"max\": 385.762711862,\n        \"num_unique_values\": 3,\n        \"samples\": [\n          39.32203389822,\n          385.762711862,\n          276.271186436\n        ],\n        \"semantic_type\": \"\",\n        \"description\": \"\"\n      }\n    },\n    {\n      \"column\": \"NoiseLevel\",\n      \"properties\": {\n        \"dtype\": \"number\",\n        \"std\": 33.667426765346946,\n        \"min\": 35.4,\n        \"max\": 102.225,\n        \"num_unique_values\": 3,\n        \"samples\": [\n          35.4,\n          102.225,\n          75.975\n        ],\n        \"semantic_type\": \"\",\n        \"description\": \"\"\n      }\n    }\n  ]\n}",
       "type": "dataframe",
       "variable_name": "averages"
      },
      "text/html": [
       "\n",
       "  <div id=\"df-08706c1e-3eb9-4808-a90e-2f01606ecd03\" class=\"colab-df-container\">\n",
       "    <div>\n",
       "<style scoped>\n",
       "    .dataframe tbody tr th:only-of-type {\n",
       "        vertical-align: middle;\n",
       "    }\n",
       "\n",
       "    .dataframe tbody tr th {\n",
       "        vertical-align: top;\n",
       "    }\n",
       "\n",
       "    .dataframe thead th {\n",
       "        text-align: right;\n",
       "    }\n",
       "</style>\n",
       "<table border=\"1\" class=\"dataframe\">\n",
       "  <thead>\n",
       "    <tr style=\"text-align: right;\">\n",
       "      <th></th>\n",
       "      <th>TrafficVolume</th>\n",
       "      <th>AverageSpeed</th>\n",
       "      <th>CO2Emissions</th>\n",
       "      <th>NoiseLevel</th>\n",
       "    </tr>\n",
       "    <tr>\n",
       "      <th>TrafficCondition</th>\n",
       "      <th></th>\n",
       "      <th></th>\n",
       "      <th></th>\n",
       "      <th></th>\n",
       "    </tr>\n",
       "  </thead>\n",
       "  <tbody>\n",
       "    <tr>\n",
       "      <th>Free Flow</th>\n",
       "      <td>1961.111111</td>\n",
       "      <td>70.9</td>\n",
       "      <td>39.322034</td>\n",
       "      <td>35.400</td>\n",
       "    </tr>\n",
       "    <tr>\n",
       "      <th>Heavy</th>\n",
       "      <td>6355.555556</td>\n",
       "      <td>48.7</td>\n",
       "      <td>385.762712</td>\n",
       "      <td>102.225</td>\n",
       "    </tr>\n",
       "    <tr>\n",
       "      <th>Moderate</th>\n",
       "      <td>4544.444444</td>\n",
       "      <td>38.5</td>\n",
       "      <td>276.271186</td>\n",
       "      <td>75.975</td>\n",
       "    </tr>\n",
       "  </tbody>\n",
       "</table>\n",
       "</div>\n",
       "    <div class=\"colab-df-buttons\">\n",
       "\n",
       "  <div class=\"colab-df-container\">\n",
       "    <button class=\"colab-df-convert\" onclick=\"convertToInteractive('df-08706c1e-3eb9-4808-a90e-2f01606ecd03')\"\n",
       "            title=\"Convert this dataframe to an interactive table.\"\n",
       "            style=\"display:none;\">\n",
       "\n",
       "  <svg xmlns=\"http://www.w3.org/2000/svg\" height=\"24px\" viewBox=\"0 -960 960 960\">\n",
       "    <path d=\"M120-120v-720h720v720H120Zm60-500h600v-160H180v160Zm220 220h160v-160H400v160Zm0 220h160v-160H400v160ZM180-400h160v-160H180v160Zm440 0h160v-160H620v160ZM180-180h160v-160H180v160Zm440 0h160v-160H620v160Z\"/>\n",
       "  </svg>\n",
       "    </button>\n",
       "\n",
       "  <style>\n",
       "    .colab-df-container {\n",
       "      display:flex;\n",
       "      gap: 12px;\n",
       "    }\n",
       "\n",
       "    .colab-df-convert {\n",
       "      background-color: #E8F0FE;\n",
       "      border: none;\n",
       "      border-radius: 50%;\n",
       "      cursor: pointer;\n",
       "      display: none;\n",
       "      fill: #1967D2;\n",
       "      height: 32px;\n",
       "      padding: 0 0 0 0;\n",
       "      width: 32px;\n",
       "    }\n",
       "\n",
       "    .colab-df-convert:hover {\n",
       "      background-color: #E2EBFA;\n",
       "      box-shadow: 0px 1px 2px rgba(60, 64, 67, 0.3), 0px 1px 3px 1px rgba(60, 64, 67, 0.15);\n",
       "      fill: #174EA6;\n",
       "    }\n",
       "\n",
       "    .colab-df-buttons div {\n",
       "      margin-bottom: 4px;\n",
       "    }\n",
       "\n",
       "    [theme=dark] .colab-df-convert {\n",
       "      background-color: #3B4455;\n",
       "      fill: #D2E3FC;\n",
       "    }\n",
       "\n",
       "    [theme=dark] .colab-df-convert:hover {\n",
       "      background-color: #434B5C;\n",
       "      box-shadow: 0px 1px 3px 1px rgba(0, 0, 0, 0.15);\n",
       "      filter: drop-shadow(0px 1px 2px rgba(0, 0, 0, 0.3));\n",
       "      fill: #FFFFFF;\n",
       "    }\n",
       "  </style>\n",
       "\n",
       "    <script>\n",
       "      const buttonEl =\n",
       "        document.querySelector('#df-08706c1e-3eb9-4808-a90e-2f01606ecd03 button.colab-df-convert');\n",
       "      buttonEl.style.display =\n",
       "        google.colab.kernel.accessAllowed ? 'block' : 'none';\n",
       "\n",
       "      async function convertToInteractive(key) {\n",
       "        const element = document.querySelector('#df-08706c1e-3eb9-4808-a90e-2f01606ecd03');\n",
       "        const dataTable =\n",
       "          await google.colab.kernel.invokeFunction('convertToInteractive',\n",
       "                                                    [key], {});\n",
       "        if (!dataTable) return;\n",
       "\n",
       "        const docLinkHtml = 'Like what you see? Visit the ' +\n",
       "          '<a target=\"_blank\" href=https://colab.research.google.com/notebooks/data_table.ipynb>data table notebook</a>'\n",
       "          + ' to learn more about interactive tables.';\n",
       "        element.innerHTML = '';\n",
       "        dataTable['output_type'] = 'display_data';\n",
       "        await google.colab.output.renderOutput(dataTable, element);\n",
       "        const docLink = document.createElement('div');\n",
       "        docLink.innerHTML = docLinkHtml;\n",
       "        element.appendChild(docLink);\n",
       "      }\n",
       "    </script>\n",
       "  </div>\n",
       "\n",
       "\n",
       "<div id=\"df-81729e8d-8fed-4839-a759-ff4a924d0472\">\n",
       "  <button class=\"colab-df-quickchart\" onclick=\"quickchart('df-81729e8d-8fed-4839-a759-ff4a924d0472')\"\n",
       "            title=\"Suggest charts\"\n",
       "            style=\"display:none;\">\n",
       "\n",
       "<svg xmlns=\"http://www.w3.org/2000/svg\" height=\"24px\"viewBox=\"0 0 24 24\"\n",
       "     width=\"24px\">\n",
       "    <g>\n",
       "        <path d=\"M19 3H5c-1.1 0-2 .9-2 2v14c0 1.1.9 2 2 2h14c1.1 0 2-.9 2-2V5c0-1.1-.9-2-2-2zM9 17H7v-7h2v7zm4 0h-2V7h2v10zm4 0h-2v-4h2v4z\"/>\n",
       "    </g>\n",
       "</svg>\n",
       "  </button>\n",
       "\n",
       "<style>\n",
       "  .colab-df-quickchart {\n",
       "      --bg-color: #E8F0FE;\n",
       "      --fill-color: #1967D2;\n",
       "      --hover-bg-color: #E2EBFA;\n",
       "      --hover-fill-color: #174EA6;\n",
       "      --disabled-fill-color: #AAA;\n",
       "      --disabled-bg-color: #DDD;\n",
       "  }\n",
       "\n",
       "  [theme=dark] .colab-df-quickchart {\n",
       "      --bg-color: #3B4455;\n",
       "      --fill-color: #D2E3FC;\n",
       "      --hover-bg-color: #434B5C;\n",
       "      --hover-fill-color: #FFFFFF;\n",
       "      --disabled-bg-color: #3B4455;\n",
       "      --disabled-fill-color: #666;\n",
       "  }\n",
       "\n",
       "  .colab-df-quickchart {\n",
       "    background-color: var(--bg-color);\n",
       "    border: none;\n",
       "    border-radius: 50%;\n",
       "    cursor: pointer;\n",
       "    display: none;\n",
       "    fill: var(--fill-color);\n",
       "    height: 32px;\n",
       "    padding: 0;\n",
       "    width: 32px;\n",
       "  }\n",
       "\n",
       "  .colab-df-quickchart:hover {\n",
       "    background-color: var(--hover-bg-color);\n",
       "    box-shadow: 0 1px 2px rgba(60, 64, 67, 0.3), 0 1px 3px 1px rgba(60, 64, 67, 0.15);\n",
       "    fill: var(--button-hover-fill-color);\n",
       "  }\n",
       "\n",
       "  .colab-df-quickchart-complete:disabled,\n",
       "  .colab-df-quickchart-complete:disabled:hover {\n",
       "    background-color: var(--disabled-bg-color);\n",
       "    fill: var(--disabled-fill-color);\n",
       "    box-shadow: none;\n",
       "  }\n",
       "\n",
       "  .colab-df-spinner {\n",
       "    border: 2px solid var(--fill-color);\n",
       "    border-color: transparent;\n",
       "    border-bottom-color: var(--fill-color);\n",
       "    animation:\n",
       "      spin 1s steps(1) infinite;\n",
       "  }\n",
       "\n",
       "  @keyframes spin {\n",
       "    0% {\n",
       "      border-color: transparent;\n",
       "      border-bottom-color: var(--fill-color);\n",
       "      border-left-color: var(--fill-color);\n",
       "    }\n",
       "    20% {\n",
       "      border-color: transparent;\n",
       "      border-left-color: var(--fill-color);\n",
       "      border-top-color: var(--fill-color);\n",
       "    }\n",
       "    30% {\n",
       "      border-color: transparent;\n",
       "      border-left-color: var(--fill-color);\n",
       "      border-top-color: var(--fill-color);\n",
       "      border-right-color: var(--fill-color);\n",
       "    }\n",
       "    40% {\n",
       "      border-color: transparent;\n",
       "      border-right-color: var(--fill-color);\n",
       "      border-top-color: var(--fill-color);\n",
       "    }\n",
       "    60% {\n",
       "      border-color: transparent;\n",
       "      border-right-color: var(--fill-color);\n",
       "    }\n",
       "    80% {\n",
       "      border-color: transparent;\n",
       "      border-right-color: var(--fill-color);\n",
       "      border-bottom-color: var(--fill-color);\n",
       "    }\n",
       "    90% {\n",
       "      border-color: transparent;\n",
       "      border-bottom-color: var(--fill-color);\n",
       "    }\n",
       "  }\n",
       "</style>\n",
       "\n",
       "  <script>\n",
       "    async function quickchart(key) {\n",
       "      const quickchartButtonEl =\n",
       "        document.querySelector('#' + key + ' button');\n",
       "      quickchartButtonEl.disabled = true;  // To prevent multiple clicks.\n",
       "      quickchartButtonEl.classList.add('colab-df-spinner');\n",
       "      try {\n",
       "        const charts = await google.colab.kernel.invokeFunction(\n",
       "            'suggestCharts', [key], {});\n",
       "      } catch (error) {\n",
       "        console.error('Error during call to suggestCharts:', error);\n",
       "      }\n",
       "      quickchartButtonEl.classList.remove('colab-df-spinner');\n",
       "      quickchartButtonEl.classList.add('colab-df-quickchart-complete');\n",
       "    }\n",
       "    (() => {\n",
       "      let quickchartButtonEl =\n",
       "        document.querySelector('#df-81729e8d-8fed-4839-a759-ff4a924d0472 button');\n",
       "      quickchartButtonEl.style.display =\n",
       "        google.colab.kernel.accessAllowed ? 'block' : 'none';\n",
       "    })();\n",
       "  </script>\n",
       "</div>\n",
       "\n",
       "  <div id=\"id_ed6bb139-043c-4799-93fc-be33852ff68a\">\n",
       "    <style>\n",
       "      .colab-df-generate {\n",
       "        background-color: #E8F0FE;\n",
       "        border: none;\n",
       "        border-radius: 50%;\n",
       "        cursor: pointer;\n",
       "        display: none;\n",
       "        fill: #1967D2;\n",
       "        height: 32px;\n",
       "        padding: 0 0 0 0;\n",
       "        width: 32px;\n",
       "      }\n",
       "\n",
       "      .colab-df-generate:hover {\n",
       "        background-color: #E2EBFA;\n",
       "        box-shadow: 0px 1px 2px rgba(60, 64, 67, 0.3), 0px 1px 3px 1px rgba(60, 64, 67, 0.15);\n",
       "        fill: #174EA6;\n",
       "      }\n",
       "\n",
       "      [theme=dark] .colab-df-generate {\n",
       "        background-color: #3B4455;\n",
       "        fill: #D2E3FC;\n",
       "      }\n",
       "\n",
       "      [theme=dark] .colab-df-generate:hover {\n",
       "        background-color: #434B5C;\n",
       "        box-shadow: 0px 1px 3px 1px rgba(0, 0, 0, 0.15);\n",
       "        filter: drop-shadow(0px 1px 2px rgba(0, 0, 0, 0.3));\n",
       "        fill: #FFFFFF;\n",
       "      }\n",
       "    </style>\n",
       "    <button class=\"colab-df-generate\" onclick=\"generateWithVariable('averages')\"\n",
       "            title=\"Generate code using this dataframe.\"\n",
       "            style=\"display:none;\">\n",
       "\n",
       "  <svg xmlns=\"http://www.w3.org/2000/svg\" height=\"24px\"viewBox=\"0 0 24 24\"\n",
       "       width=\"24px\">\n",
       "    <path d=\"M7,19H8.4L18.45,9,17,7.55,7,17.6ZM5,21V16.75L18.45,3.32a2,2,0,0,1,2.83,0l1.4,1.43a1.91,1.91,0,0,1,.58,1.4,1.91,1.91,0,0,1-.58,1.4L9.25,21ZM18.45,9,17,7.55Zm-12,3A5.31,5.31,0,0,0,4.9,8.1,5.31,5.31,0,0,0,1,6.5,5.31,5.31,0,0,0,4.9,4.9,5.31,5.31,0,0,0,6.5,1,5.31,5.31,0,0,0,8.1,4.9,5.31,5.31,0,0,0,12,6.5,5.46,5.46,0,0,0,6.5,12Z\"/>\n",
       "  </svg>\n",
       "    </button>\n",
       "    <script>\n",
       "      (() => {\n",
       "      const buttonEl =\n",
       "        document.querySelector('#id_ed6bb139-043c-4799-93fc-be33852ff68a button.colab-df-generate');\n",
       "      buttonEl.style.display =\n",
       "        google.colab.kernel.accessAllowed ? 'block' : 'none';\n",
       "\n",
       "      buttonEl.onclick = () => {\n",
       "        google.colab.notebook.generateWithVariable('averages');\n",
       "      }\n",
       "      })();\n",
       "    </script>\n",
       "  </div>\n",
       "\n",
       "    </div>\n",
       "  </div>\n"
      ],
      "text/plain": [
       "                  TrafficVolume  AverageSpeed  CO2Emissions  NoiseLevel\n",
       "TrafficCondition                                                       \n",
       "Free Flow           1961.111111          70.9     39.322034      35.400\n",
       "Heavy               6355.555556          48.7    385.762712     102.225\n",
       "Moderate            4544.444444          38.5    276.271186      75.975"
      ]
     },
     "execution_count": 32,
     "metadata": {},
     "output_type": "execute_result"
    }
   ],
   "source": [
    "averages = groups.mean()\n",
    "averages"
   ]
  },
  {
   "cell_type": "markdown",
   "metadata": {
    "id": "Fs2QlT1Js1At"
   },
   "source": [
    "**Explanation**: *In Heavy traffic, emissions are the highest, around 400 units, while Moderate traffic leads to medium levels of emissions, around 250 units. This indicates that heavier traffic contributes significantly more to CO₂ emissions than light or free-flowing traffic. It highlights the impact of traffic congestion on air pollution.*"
   ]
  },
  {
   "cell_type": "markdown",
   "metadata": {
    "id": "87s1Mk9us3Ol"
   },
   "source": [
    "### Goal 6: Building a Bart Chart for the Average of the Data (Mean)\n",
    "\n",
    "Now, let's build a bar chart for the average data. We’ll use this bar chart to compare CO2 emissions averages for each traffic condition category."
   ]
  },
  {
   "cell_type": "markdown",
   "metadata": {
    "id": "NDofZ-tls3Q3"
   },
   "source": [
    "#### Blockly"
   ]
  },
  {
   "cell_type": "markdown",
   "metadata": {
    "id": "Bp8PPBY2s3Td"
   },
   "source": [
    "**Step 1 - Call the bar chart function from Plotly**\n",
    "\n",
    "To make a bar chart, we first need to call the bar chart function with our plotly library (px).\n",
    "\n",
    "From the Variable menu, get a DO block for the **px** variable and select the **bar** operation. From this same menu, get a variable.\n"
   ]
  },
  {
   "cell_type": "markdown",
   "metadata": {
    "id": "tpbAvnyms3WJ"
   },
   "source": [
    "\n",
    "**Step 2 -  Saying what data to use for the bar plot**\n",
    "\n",
    "In order to make a plot, we need to choose the source from which data we want to plot from. In this case, our dataset is stored in the dataframe **averages**\n",
    "\n",
    "From the Variables menu, drag a **“averages”** variable. From this same menu, drag two Get blocks, both for the same variable, **“averages”**.\n"
   ]
  },
  {
   "cell_type": "markdown",
   "metadata": {
    "id": "WO4j1goTs3Yw"
   },
   "source": [
    "\n",
    "**Step 3 - Tell Plotly what columns to put on the axis**\n",
    "\n",
    "Let’s now create a bar chart using the averages dataset with the **bar**() function from **px**, having the index on the x-axis (across) and CO2Emissions on the y-axis (up and down) from the averages dataset.\n",
    "\n",
    "On the first select the **index** attribute, and on the second one select the attribute **CO2Emissions**. Connect all these elements as shown below and generate a bar chart, comparing CO2 emissions averages for each traffic condition category (free-flow, medium, or heavy).\n",
    "\n",
    "\n"
   ]
  },
  {
   "cell_type": "markdown",
   "metadata": {
    "id": "iZWnsleas3bG"
   },
   "source": [
    "**Step 4 - Connect the blocks to run the code**\n",
    "\n",
    "Connect the blocks and run the code!\n",
    "\n",
    "![](\n",
    "https://pbs.twimg.com/media/GZkfOSJWgA4g-np?format=png&name=small\n",
    ")"
   ]
  },
  {
   "cell_type": "code",
   "execution_count": null,
   "metadata": {},
   "outputs": [],
   "source": [
    "#blocks code\n"
   ]
  },
  {
   "cell_type": "markdown",
   "metadata": {
    "id": "N3ex_NuYtmyE"
   },
   "source": [
    "#### Freehand"
   ]
  },
  {
   "cell_type": "markdown",
   "metadata": {
    "id": "Yt4GTc8_tm3P"
   },
   "source": [
    "\n",
    "**Step 1 - Call the bar chart function from Plotly**\n",
    "\n",
    "To make a bar chart, we first need to call the bar chart function with our plotly library (px).\n",
    "\n",
    "`px.bar()`\n"
   ]
  },
  {
   "cell_type": "markdown",
   "metadata": {
    "id": "Gm_gYc7Ntm53"
   },
   "source": [
    "\n",
    "**Step 2 - Saying what data to use for the bar plot**\n",
    "\n",
    "In order to make a plot, we need to choose the source from which data we want to plot from. In this case, our dataset is stored in the dataframe **averages**\n",
    "\n",
    "`px.bar(averages)`\n",
    "\n"
   ]
  },
  {
   "cell_type": "markdown",
   "metadata": {
    "id": "g0Sqw6D-tm8i"
   },
   "source": [
    "**Step 3 - Tell Plotly what columns to put on the axis**\n",
    "\n",
    "Let’s now create a bar chart using the averages dataset with the **bar**() function from **px**, having the index on the x-axis (across) and CO2Emissions on the y-axis (up and down) from the averages dataset.\n",
    "\n",
    "`px.bar(averages,averages.index,averages.CO2Emissions)`\n",
    "\n",
    "![](https://pbs.twimg.com/media/GZkfJQkWcAwpd2e?format=png&name=small)"
   ]
  },
  {
   "cell_type": "markdown",
   "metadata": {
    "id": "tuO91_Cotm_K"
   },
   "source": [
    "**Your Turn**: So those are the steps. Can you look at the code and type it in there? Run it and see what you find."
   ]
  },
  {
   "cell_type": "code",
   "execution_count": 33,
   "metadata": {
    "colab": {
     "base_uri": "https://localhost:8080/",
     "height": 542
    },
    "id": "tKZkJJa4uODG",
    "outputId": "fa9d523f-ff43-4c77-e251-d301a076dc8c"
   },
   "outputs": [
    {
     "data": {
      "text/html": [
       "<html>\n",
       "<head><meta charset=\"utf-8\" /></head>\n",
       "<body>\n",
       "    <div>            <script src=\"https://cdnjs.cloudflare.com/ajax/libs/mathjax/2.7.5/MathJax.js?config=TeX-AMS-MML_SVG\"></script><script type=\"text/javascript\">if (window.MathJax && window.MathJax.Hub && window.MathJax.Hub.Config) {window.MathJax.Hub.Config({SVG: {font: \"STIX-Web\"}});}</script>                <script type=\"text/javascript\">window.PlotlyConfig = {MathJaxConfig: 'local'};</script>\n",
       "        <script charset=\"utf-8\" src=\"https://cdn.plot.ly/plotly-2.35.2.min.js\"></script>                <div id=\"f54cfdfe-2339-4eac-a200-1962a45087c9\" class=\"plotly-graph-div\" style=\"height:525px; width:100%;\"></div>            <script type=\"text/javascript\">                                    window.PLOTLYENV=window.PLOTLYENV || {};                                    if (document.getElementById(\"f54cfdfe-2339-4eac-a200-1962a45087c9\")) {                    Plotly.newPlot(                        \"f54cfdfe-2339-4eac-a200-1962a45087c9\",                        [{\"alignmentgroup\":\"True\",\"hovertemplate\":\"TrafficCondition=%{x}\\u003cbr\\u003eCO2Emissions=%{y}\\u003cextra\\u003e\\u003c\\u002fextra\\u003e\",\"legendgroup\":\"\",\"marker\":{\"color\":\"#636efa\",\"pattern\":{\"shape\":\"\"}},\"name\":\"\",\"offsetgroup\":\"\",\"orientation\":\"v\",\"showlegend\":false,\"textposition\":\"auto\",\"x\":[\"Free Flow\",\"Heavy\",\"Moderate\"],\"xaxis\":\"x\",\"y\":[39.32203389822,385.762711862,276.271186436],\"yaxis\":\"y\",\"type\":\"bar\"}],                        {\"template\":{\"data\":{\"histogram2dcontour\":[{\"type\":\"histogram2dcontour\",\"colorbar\":{\"outlinewidth\":0,\"ticks\":\"\"},\"colorscale\":[[0.0,\"#0d0887\"],[0.1111111111111111,\"#46039f\"],[0.2222222222222222,\"#7201a8\"],[0.3333333333333333,\"#9c179e\"],[0.4444444444444444,\"#bd3786\"],[0.5555555555555556,\"#d8576b\"],[0.6666666666666666,\"#ed7953\"],[0.7777777777777778,\"#fb9f3a\"],[0.8888888888888888,\"#fdca26\"],[1.0,\"#f0f921\"]]}],\"choropleth\":[{\"type\":\"choropleth\",\"colorbar\":{\"outlinewidth\":0,\"ticks\":\"\"}}],\"histogram2d\":[{\"type\":\"histogram2d\",\"colorbar\":{\"outlinewidth\":0,\"ticks\":\"\"},\"colorscale\":[[0.0,\"#0d0887\"],[0.1111111111111111,\"#46039f\"],[0.2222222222222222,\"#7201a8\"],[0.3333333333333333,\"#9c179e\"],[0.4444444444444444,\"#bd3786\"],[0.5555555555555556,\"#d8576b\"],[0.6666666666666666,\"#ed7953\"],[0.7777777777777778,\"#fb9f3a\"],[0.8888888888888888,\"#fdca26\"],[1.0,\"#f0f921\"]]}],\"heatmap\":[{\"type\":\"heatmap\",\"colorbar\":{\"outlinewidth\":0,\"ticks\":\"\"},\"colorscale\":[[0.0,\"#0d0887\"],[0.1111111111111111,\"#46039f\"],[0.2222222222222222,\"#7201a8\"],[0.3333333333333333,\"#9c179e\"],[0.4444444444444444,\"#bd3786\"],[0.5555555555555556,\"#d8576b\"],[0.6666666666666666,\"#ed7953\"],[0.7777777777777778,\"#fb9f3a\"],[0.8888888888888888,\"#fdca26\"],[1.0,\"#f0f921\"]]}],\"heatmapgl\":[{\"type\":\"heatmapgl\",\"colorbar\":{\"outlinewidth\":0,\"ticks\":\"\"},\"colorscale\":[[0.0,\"#0d0887\"],[0.1111111111111111,\"#46039f\"],[0.2222222222222222,\"#7201a8\"],[0.3333333333333333,\"#9c179e\"],[0.4444444444444444,\"#bd3786\"],[0.5555555555555556,\"#d8576b\"],[0.6666666666666666,\"#ed7953\"],[0.7777777777777778,\"#fb9f3a\"],[0.8888888888888888,\"#fdca26\"],[1.0,\"#f0f921\"]]}],\"contourcarpet\":[{\"type\":\"contourcarpet\",\"colorbar\":{\"outlinewidth\":0,\"ticks\":\"\"}}],\"contour\":[{\"type\":\"contour\",\"colorbar\":{\"outlinewidth\":0,\"ticks\":\"\"},\"colorscale\":[[0.0,\"#0d0887\"],[0.1111111111111111,\"#46039f\"],[0.2222222222222222,\"#7201a8\"],[0.3333333333333333,\"#9c179e\"],[0.4444444444444444,\"#bd3786\"],[0.5555555555555556,\"#d8576b\"],[0.6666666666666666,\"#ed7953\"],[0.7777777777777778,\"#fb9f3a\"],[0.8888888888888888,\"#fdca26\"],[1.0,\"#f0f921\"]]}],\"surface\":[{\"type\":\"surface\",\"colorbar\":{\"outlinewidth\":0,\"ticks\":\"\"},\"colorscale\":[[0.0,\"#0d0887\"],[0.1111111111111111,\"#46039f\"],[0.2222222222222222,\"#7201a8\"],[0.3333333333333333,\"#9c179e\"],[0.4444444444444444,\"#bd3786\"],[0.5555555555555556,\"#d8576b\"],[0.6666666666666666,\"#ed7953\"],[0.7777777777777778,\"#fb9f3a\"],[0.8888888888888888,\"#fdca26\"],[1.0,\"#f0f921\"]]}],\"mesh3d\":[{\"type\":\"mesh3d\",\"colorbar\":{\"outlinewidth\":0,\"ticks\":\"\"}}],\"scatter\":[{\"fillpattern\":{\"fillmode\":\"overlay\",\"size\":10,\"solidity\":0.2},\"type\":\"scatter\"}],\"parcoords\":[{\"type\":\"parcoords\",\"line\":{\"colorbar\":{\"outlinewidth\":0,\"ticks\":\"\"}}}],\"scatterpolargl\":[{\"type\":\"scatterpolargl\",\"marker\":{\"colorbar\":{\"outlinewidth\":0,\"ticks\":\"\"}}}],\"bar\":[{\"error_x\":{\"color\":\"#2a3f5f\"},\"error_y\":{\"color\":\"#2a3f5f\"},\"marker\":{\"line\":{\"color\":\"#E5ECF6\",\"width\":0.5},\"pattern\":{\"fillmode\":\"overlay\",\"size\":10,\"solidity\":0.2}},\"type\":\"bar\"}],\"scattergeo\":[{\"type\":\"scattergeo\",\"marker\":{\"colorbar\":{\"outlinewidth\":0,\"ticks\":\"\"}}}],\"scatterpolar\":[{\"type\":\"scatterpolar\",\"marker\":{\"colorbar\":{\"outlinewidth\":0,\"ticks\":\"\"}}}],\"histogram\":[{\"marker\":{\"pattern\":{\"fillmode\":\"overlay\",\"size\":10,\"solidity\":0.2}},\"type\":\"histogram\"}],\"scattergl\":[{\"type\":\"scattergl\",\"marker\":{\"colorbar\":{\"outlinewidth\":0,\"ticks\":\"\"}}}],\"scatter3d\":[{\"type\":\"scatter3d\",\"line\":{\"colorbar\":{\"outlinewidth\":0,\"ticks\":\"\"}},\"marker\":{\"colorbar\":{\"outlinewidth\":0,\"ticks\":\"\"}}}],\"scattermapbox\":[{\"type\":\"scattermapbox\",\"marker\":{\"colorbar\":{\"outlinewidth\":0,\"ticks\":\"\"}}}],\"scatterternary\":[{\"type\":\"scatterternary\",\"marker\":{\"colorbar\":{\"outlinewidth\":0,\"ticks\":\"\"}}}],\"scattercarpet\":[{\"type\":\"scattercarpet\",\"marker\":{\"colorbar\":{\"outlinewidth\":0,\"ticks\":\"\"}}}],\"carpet\":[{\"aaxis\":{\"endlinecolor\":\"#2a3f5f\",\"gridcolor\":\"white\",\"linecolor\":\"white\",\"minorgridcolor\":\"white\",\"startlinecolor\":\"#2a3f5f\"},\"baxis\":{\"endlinecolor\":\"#2a3f5f\",\"gridcolor\":\"white\",\"linecolor\":\"white\",\"minorgridcolor\":\"white\",\"startlinecolor\":\"#2a3f5f\"},\"type\":\"carpet\"}],\"table\":[{\"cells\":{\"fill\":{\"color\":\"#EBF0F8\"},\"line\":{\"color\":\"white\"}},\"header\":{\"fill\":{\"color\":\"#C8D4E3\"},\"line\":{\"color\":\"white\"}},\"type\":\"table\"}],\"barpolar\":[{\"marker\":{\"line\":{\"color\":\"#E5ECF6\",\"width\":0.5},\"pattern\":{\"fillmode\":\"overlay\",\"size\":10,\"solidity\":0.2}},\"type\":\"barpolar\"}],\"pie\":[{\"automargin\":true,\"type\":\"pie\"}]},\"layout\":{\"autotypenumbers\":\"strict\",\"colorway\":[\"#636efa\",\"#EF553B\",\"#00cc96\",\"#ab63fa\",\"#FFA15A\",\"#19d3f3\",\"#FF6692\",\"#B6E880\",\"#FF97FF\",\"#FECB52\"],\"font\":{\"color\":\"#2a3f5f\"},\"hovermode\":\"closest\",\"hoverlabel\":{\"align\":\"left\"},\"paper_bgcolor\":\"white\",\"plot_bgcolor\":\"#E5ECF6\",\"polar\":{\"bgcolor\":\"#E5ECF6\",\"angularaxis\":{\"gridcolor\":\"white\",\"linecolor\":\"white\",\"ticks\":\"\"},\"radialaxis\":{\"gridcolor\":\"white\",\"linecolor\":\"white\",\"ticks\":\"\"}},\"ternary\":{\"bgcolor\":\"#E5ECF6\",\"aaxis\":{\"gridcolor\":\"white\",\"linecolor\":\"white\",\"ticks\":\"\"},\"baxis\":{\"gridcolor\":\"white\",\"linecolor\":\"white\",\"ticks\":\"\"},\"caxis\":{\"gridcolor\":\"white\",\"linecolor\":\"white\",\"ticks\":\"\"}},\"coloraxis\":{\"colorbar\":{\"outlinewidth\":0,\"ticks\":\"\"}},\"colorscale\":{\"sequential\":[[0.0,\"#0d0887\"],[0.1111111111111111,\"#46039f\"],[0.2222222222222222,\"#7201a8\"],[0.3333333333333333,\"#9c179e\"],[0.4444444444444444,\"#bd3786\"],[0.5555555555555556,\"#d8576b\"],[0.6666666666666666,\"#ed7953\"],[0.7777777777777778,\"#fb9f3a\"],[0.8888888888888888,\"#fdca26\"],[1.0,\"#f0f921\"]],\"sequentialminus\":[[0.0,\"#0d0887\"],[0.1111111111111111,\"#46039f\"],[0.2222222222222222,\"#7201a8\"],[0.3333333333333333,\"#9c179e\"],[0.4444444444444444,\"#bd3786\"],[0.5555555555555556,\"#d8576b\"],[0.6666666666666666,\"#ed7953\"],[0.7777777777777778,\"#fb9f3a\"],[0.8888888888888888,\"#fdca26\"],[1.0,\"#f0f921\"]],\"diverging\":[[0,\"#8e0152\"],[0.1,\"#c51b7d\"],[0.2,\"#de77ae\"],[0.3,\"#f1b6da\"],[0.4,\"#fde0ef\"],[0.5,\"#f7f7f7\"],[0.6,\"#e6f5d0\"],[0.7,\"#b8e186\"],[0.8,\"#7fbc41\"],[0.9,\"#4d9221\"],[1,\"#276419\"]]},\"xaxis\":{\"gridcolor\":\"white\",\"linecolor\":\"white\",\"ticks\":\"\",\"title\":{\"standoff\":15},\"zerolinecolor\":\"white\",\"automargin\":true,\"zerolinewidth\":2},\"yaxis\":{\"gridcolor\":\"white\",\"linecolor\":\"white\",\"ticks\":\"\",\"title\":{\"standoff\":15},\"zerolinecolor\":\"white\",\"automargin\":true,\"zerolinewidth\":2},\"scene\":{\"xaxis\":{\"backgroundcolor\":\"#E5ECF6\",\"gridcolor\":\"white\",\"linecolor\":\"white\",\"showbackground\":true,\"ticks\":\"\",\"zerolinecolor\":\"white\",\"gridwidth\":2},\"yaxis\":{\"backgroundcolor\":\"#E5ECF6\",\"gridcolor\":\"white\",\"linecolor\":\"white\",\"showbackground\":true,\"ticks\":\"\",\"zerolinecolor\":\"white\",\"gridwidth\":2},\"zaxis\":{\"backgroundcolor\":\"#E5ECF6\",\"gridcolor\":\"white\",\"linecolor\":\"white\",\"showbackground\":true,\"ticks\":\"\",\"zerolinecolor\":\"white\",\"gridwidth\":2}},\"shapedefaults\":{\"line\":{\"color\":\"#2a3f5f\"}},\"annotationdefaults\":{\"arrowcolor\":\"#2a3f5f\",\"arrowhead\":0,\"arrowwidth\":1},\"geo\":{\"bgcolor\":\"white\",\"landcolor\":\"#E5ECF6\",\"subunitcolor\":\"white\",\"showland\":true,\"showlakes\":true,\"lakecolor\":\"white\"},\"title\":{\"x\":0.05},\"mapbox\":{\"style\":\"light\"}}},\"xaxis\":{\"anchor\":\"y\",\"domain\":[0.0,1.0],\"title\":{\"text\":\"TrafficCondition\"}},\"yaxis\":{\"anchor\":\"x\",\"domain\":[0.0,1.0],\"title\":{\"text\":\"CO2Emissions\"}},\"legend\":{\"tracegroupgap\":0},\"margin\":{\"t\":60},\"barmode\":\"relative\"},                        {\"responsive\": true}                    ).then(function(){\n",
       "                            \n",
       "var gd = document.getElementById('f54cfdfe-2339-4eac-a200-1962a45087c9');\n",
       "var x = new MutationObserver(function (mutations, observer) {{\n",
       "        var display = window.getComputedStyle(gd).display;\n",
       "        if (!display || display === 'none') {{\n",
       "            console.log([gd, 'removed!']);\n",
       "            Plotly.purge(gd);\n",
       "            observer.disconnect();\n",
       "        }}\n",
       "}});\n",
       "\n",
       "// Listen for the removal of the full notebook cells\n",
       "var notebookContainer = gd.closest('#notebook-container');\n",
       "if (notebookContainer) {{\n",
       "    x.observe(notebookContainer, {childList: true});\n",
       "}}\n",
       "\n",
       "// Listen for the clearing of the current output cell\n",
       "var outputEl = gd.closest('.output');\n",
       "if (outputEl) {{\n",
       "    x.observe(outputEl, {childList: true});\n",
       "}}\n",
       "\n",
       "                        })                };                            </script>        </div>\n",
       "</body>\n",
       "</html>"
      ]
     },
     "metadata": {},
     "output_type": "display_data"
    }
   ],
   "source": [
    "px.bar(averages,averages.index,averages.CO2Emissions)"
   ]
  },
  {
   "cell_type": "markdown",
   "metadata": {
    "id": "xgqg8vOGtnBf"
   },
   "source": [
    "**Explanation**: *This bar chart shows how CO₂ Emissions vary under different Traffic Conditions. When traffic is in Free Flow, the average emissions are very low. In Heavy traffic, emissions are the highest, around 400 units, while Moderate traffic leads to medium levels of emissions, around 250 units. This indicates that heavier traffic contributes significantly more to CO₂ emissions than light or free-flowing traffic. It highlights the impact of traffic congestion on air pollution.*"
   ]
  },
  {
   "cell_type": "markdown",
   "metadata": {
    "id": "HwCAyMVAtnF_"
   },
   "source": [
    "### Goal 7: Bringing in Historical Data for a Line Chart\n",
    "\n",
    "Let’s bring in the data that we want to look at using a line chart."
   ]
  },
  {
   "cell_type": "markdown",
   "metadata": {
    "id": "Bm8zZhiFuhpH"
   },
   "source": [
    "#### Blockly"
   ]
  },
  {
   "cell_type": "markdown",
   "metadata": {
    "id": "o1opSHfSui3j"
   },
   "source": [
    "\n",
    "**Step 1 - Write out the variable name you want to use**\n",
    "\n",
    "Now that we’re all set with our new package to help us to do cool things, let’s bring the data into a variable and call it **timeseries**. Think of it as a digital spreadsheet with much more power to analyze and manipulate the data!\n",
    "\n",
    "In Blockly, bring in the VARIABLES menu."
   ]
  },
  {
   "cell_type": "markdown",
   "metadata": {
    "id": "JAnhZu08ui6P"
   },
   "source": [
    "\n",
    "\n",
    "**Step 2 - Assign the dataframe to the variable you created**\n",
    "\n",
    "Just like we did before, let’s type out a variable name. Rather than type out the full file name for our data, this easy to remember name will hold the data we bring in.\n",
    "\n",
    "In Blockly, go to the Variables and drag the Set block for the **timeseries** variable. This will allow us to assign the result of a function call to the variable. A function is basically code that does a specific task for us.\n"
   ]
  },
  {
   "cell_type": "markdown",
   "metadata": {
    "id": "nNsU75qyui8t"
   },
   "source": [
    "\n",
    "**Step 3 - Bring in the data**\n",
    "\n",
    "Now we need to look at the file that has all our data. To load our dataframe, we’ll use a simple command to bring in the file we need (CSV….Comma Separated Values). Let’s say we have a file called ‘AirQualityTimeseries.csv' in the folder **‘datasets’**. We’re telling Python to read the CSV file and store it in a variable called **timeseries**.\n",
    "\n",
    "From the Variable menu, drag a DO block using the **pd** variable, go ahead with the do operation **read_csv**. The read_csv function reads a CSV file and returns a DataFrame object.\n",
    "\n",
    "In our case, let’s bring in the “datasets/AirQualityTimeseries.csv\" (use the Quotes from the TEXT menu) because that is what Angelina is working with."
   ]
  },
  {
   "cell_type": "markdown",
   "metadata": {
    "id": "J6Nocg--ui_O"
   },
   "source": [
    "\n",
    "\n",
    "**Step 4 - Display the variable**\n",
    "\n",
    "Let’s see it now by ‘displaying’ and showing our work.\n",
    "\n",
    "Drag the **timeseries** variable to the workspace, making it available for further use in our program. This step is more of a visualization step, as it allows us to see the variable in the Blockly workspace.\n",
    "\n",
    "![](https://pbs.twimg.com/media/GboYZqqXAAEzRFT?format=jpg&name=medium)"
   ]
  },
  {
   "cell_type": "code",
   "execution_count": null,
   "metadata": {},
   "outputs": [],
   "source": [
    "#blocks code\n"
   ]
  },
  {
   "cell_type": "markdown",
   "metadata": {
    "id": "CEI3jDK4ujD8"
   },
   "source": [
    "#### Freehand"
   ]
  },
  {
   "cell_type": "markdown",
   "metadata": {
    "id": "CT6K2kWiujGP"
   },
   "source": [
    "\n",
    "**Step 1 - Write out the variable name you want to use**\n",
    "\n",
    "Now that we’re all set with our new package to help us to do cool things, let’s bring the data into a variable called **timeseries**. Think of it as a digital spreadsheet with much more power to analyze and manipulate the data!\n",
    "\n",
    "Just like we did before, let’s type out a variable name. Rather than type out the full file name for our data, this easy to remember name will hold the data we bring in."
   ]
  },
  {
   "cell_type": "markdown",
   "metadata": {
    "id": "OYdBVIpZujI0"
   },
   "source": [
    "\n",
    "**Step 2 - Assign the dataframe to the variable you created**\n",
    "\n",
    "Just like we did before, let’s type out a variable name. Rather than type out the full file name for our data, this easy to remember name will hold the data we bring in."
   ]
  },
  {
   "cell_type": "markdown",
   "metadata": {
    "id": "Z3EcfL4nviu0"
   },
   "source": [
    "\n",
    "**Step 3 - Bring in the data**\n",
    "\n",
    "Now we need to look at the file that has all our data.\n",
    "\n",
    "To load our dataframe, we’ll use a simple command to bring in the file we need (CSV….Comma Separated Values). Let’s say we have a file called ‘AirQualityTimeseries.csv' in the folder **‘datasets’**. We’re telling Python to read the CSV file and store it in a variable called **timeseries**. For this function, we need to specify the code as “pd.read_csv”, which makes the code read the csv file. This variable is now our dataframe!\n",
    "\n",
    "In our case, let’s bring in the “datasets/AirQualityTimeseries.csv\" (user the Quotes from the TEXT menu) because that is what Kiana is working with."
   ]
  },
  {
   "cell_type": "markdown",
   "metadata": {
    "id": "qdZ_0IctvoHt"
   },
   "source": [
    "\n",
    "**Step 4 - Print the variable**\n",
    "\n",
    "Let’s see it now by printing the **timeseries** variable and showing our work."
   ]
  },
  {
   "cell_type": "markdown",
   "metadata": {
    "id": "4mEL8BT-vsvh"
   },
   "source": [
    "\n",
    "**Step 5 - Run the code**\n",
    "\n",
    "Hit ‘control’ and ‘enter’ at the same time to run the code!\n",
    "\n",
    "![](https://pbs.twimg.com/media/GboYcA7WsAAAcjk?format=jpg&name=medium)\n",
    "\n"
   ]
  },
  {
   "cell_type": "markdown",
   "metadata": {
    "id": "96oytnbFv8tY"
   },
   "source": [
    "**Your Turn**: Let’s dive in and start working with the data! We’ll begin by loading it into a dataframe, allowing us to interact with and analyze the dataset easily."
   ]
  },
  {
   "cell_type": "code",
   "execution_count": 34,
   "metadata": {
    "colab": {
     "base_uri": "https://localhost:8080/",
     "height": 423
    },
    "id": "IVxlUBbrwBYl",
    "outputId": "eecafa94-96b9-4b30-c78e-4924d2fc1b31"
   },
   "outputs": [
    {
     "data": {
      "application/vnd.google.colaboratory.intrinsic+json": {
       "summary": "{\n  \"name\": \"timeseries\",\n  \"rows\": 2169,\n  \"fields\": [\n    {\n      \"column\": \"Country\",\n      \"properties\": {\n        \"dtype\": \"category\",\n        \"num_unique_values\": 10,\n        \"samples\": [\n          \"United States\",\n          \"Asia\",\n          \"Oceania\"\n        ],\n        \"semantic_type\": \"\",\n        \"description\": \"\"\n      }\n    },\n    {\n      \"column\": \"Code\",\n      \"properties\": {\n        \"dtype\": \"category\",\n        \"num_unique_values\": 5,\n        \"samples\": [\n          \"JPN\",\n          \"OWID_WRL\",\n          \"RUS\"\n        ],\n        \"semantic_type\": \"\",\n        \"description\": \"\"\n      }\n    },\n    {\n      \"column\": \"Year\",\n      \"properties\": {\n        \"dtype\": \"number\",\n        \"std\": 74,\n        \"min\": 1750,\n        \"max\": 2022,\n        \"num_unique_values\": 273,\n        \"samples\": [\n          1780,\n          1867,\n          1829\n        ],\n        \"semantic_type\": \"\",\n        \"description\": \"\"\n      }\n    },\n    {\n      \"column\": \"CO2Emissions\",\n      \"properties\": {\n        \"dtype\": \"number\",\n        \"std\": 4685738706.318092,\n        \"min\": 0.0,\n        \"max\": 37149786000.0,\n        \"num_unique_values\": 1829,\n        \"samples\": [\n          1422549800.0,\n          54137150.0,\n          5425259500.0\n        ],\n        \"semantic_type\": \"\",\n        \"description\": \"\"\n      }\n    }\n  ]\n}",
       "type": "dataframe",
       "variable_name": "timeseries"
      },
      "text/html": [
       "\n",
       "  <div id=\"df-5b2e4ccf-a12e-41cc-aa15-22921fbda531\" class=\"colab-df-container\">\n",
       "    <div>\n",
       "<style scoped>\n",
       "    .dataframe tbody tr th:only-of-type {\n",
       "        vertical-align: middle;\n",
       "    }\n",
       "\n",
       "    .dataframe tbody tr th {\n",
       "        vertical-align: top;\n",
       "    }\n",
       "\n",
       "    .dataframe thead th {\n",
       "        text-align: right;\n",
       "    }\n",
       "</style>\n",
       "<table border=\"1\" class=\"dataframe\">\n",
       "  <thead>\n",
       "    <tr style=\"text-align: right;\">\n",
       "      <th></th>\n",
       "      <th>Country</th>\n",
       "      <th>Code</th>\n",
       "      <th>Year</th>\n",
       "      <th>CO2Emissions</th>\n",
       "    </tr>\n",
       "  </thead>\n",
       "  <tbody>\n",
       "    <tr>\n",
       "      <th>0</th>\n",
       "      <td>Africa</td>\n",
       "      <td>NaN</td>\n",
       "      <td>1750</td>\n",
       "      <td>0.000000e+00</td>\n",
       "    </tr>\n",
       "    <tr>\n",
       "      <th>1</th>\n",
       "      <td>Africa</td>\n",
       "      <td>NaN</td>\n",
       "      <td>1751</td>\n",
       "      <td>0.000000e+00</td>\n",
       "    </tr>\n",
       "    <tr>\n",
       "      <th>2</th>\n",
       "      <td>Africa</td>\n",
       "      <td>NaN</td>\n",
       "      <td>1752</td>\n",
       "      <td>0.000000e+00</td>\n",
       "    </tr>\n",
       "    <tr>\n",
       "      <th>3</th>\n",
       "      <td>Africa</td>\n",
       "      <td>NaN</td>\n",
       "      <td>1753</td>\n",
       "      <td>0.000000e+00</td>\n",
       "    </tr>\n",
       "    <tr>\n",
       "      <th>4</th>\n",
       "      <td>Africa</td>\n",
       "      <td>NaN</td>\n",
       "      <td>1754</td>\n",
       "      <td>0.000000e+00</td>\n",
       "    </tr>\n",
       "    <tr>\n",
       "      <th>...</th>\n",
       "      <td>...</td>\n",
       "      <td>...</td>\n",
       "      <td>...</td>\n",
       "      <td>...</td>\n",
       "    </tr>\n",
       "    <tr>\n",
       "      <th>2164</th>\n",
       "      <td>World</td>\n",
       "      <td>OWID_WRL</td>\n",
       "      <td>2018</td>\n",
       "      <td>3.676694e+10</td>\n",
       "    </tr>\n",
       "    <tr>\n",
       "      <th>2165</th>\n",
       "      <td>World</td>\n",
       "      <td>OWID_WRL</td>\n",
       "      <td>2019</td>\n",
       "      <td>3.704010e+10</td>\n",
       "    </tr>\n",
       "    <tr>\n",
       "      <th>2166</th>\n",
       "      <td>World</td>\n",
       "      <td>OWID_WRL</td>\n",
       "      <td>2020</td>\n",
       "      <td>3.500774e+10</td>\n",
       "    </tr>\n",
       "    <tr>\n",
       "      <th>2167</th>\n",
       "      <td>World</td>\n",
       "      <td>OWID_WRL</td>\n",
       "      <td>2021</td>\n",
       "      <td>3.681654e+10</td>\n",
       "    </tr>\n",
       "    <tr>\n",
       "      <th>2168</th>\n",
       "      <td>World</td>\n",
       "      <td>OWID_WRL</td>\n",
       "      <td>2022</td>\n",
       "      <td>3.714979e+10</td>\n",
       "    </tr>\n",
       "  </tbody>\n",
       "</table>\n",
       "<p>2169 rows × 4 columns</p>\n",
       "</div>\n",
       "    <div class=\"colab-df-buttons\">\n",
       "\n",
       "  <div class=\"colab-df-container\">\n",
       "    <button class=\"colab-df-convert\" onclick=\"convertToInteractive('df-5b2e4ccf-a12e-41cc-aa15-22921fbda531')\"\n",
       "            title=\"Convert this dataframe to an interactive table.\"\n",
       "            style=\"display:none;\">\n",
       "\n",
       "  <svg xmlns=\"http://www.w3.org/2000/svg\" height=\"24px\" viewBox=\"0 -960 960 960\">\n",
       "    <path d=\"M120-120v-720h720v720H120Zm60-500h600v-160H180v160Zm220 220h160v-160H400v160Zm0 220h160v-160H400v160ZM180-400h160v-160H180v160Zm440 0h160v-160H620v160ZM180-180h160v-160H180v160Zm440 0h160v-160H620v160Z\"/>\n",
       "  </svg>\n",
       "    </button>\n",
       "\n",
       "  <style>\n",
       "    .colab-df-container {\n",
       "      display:flex;\n",
       "      gap: 12px;\n",
       "    }\n",
       "\n",
       "    .colab-df-convert {\n",
       "      background-color: #E8F0FE;\n",
       "      border: none;\n",
       "      border-radius: 50%;\n",
       "      cursor: pointer;\n",
       "      display: none;\n",
       "      fill: #1967D2;\n",
       "      height: 32px;\n",
       "      padding: 0 0 0 0;\n",
       "      width: 32px;\n",
       "    }\n",
       "\n",
       "    .colab-df-convert:hover {\n",
       "      background-color: #E2EBFA;\n",
       "      box-shadow: 0px 1px 2px rgba(60, 64, 67, 0.3), 0px 1px 3px 1px rgba(60, 64, 67, 0.15);\n",
       "      fill: #174EA6;\n",
       "    }\n",
       "\n",
       "    .colab-df-buttons div {\n",
       "      margin-bottom: 4px;\n",
       "    }\n",
       "\n",
       "    [theme=dark] .colab-df-convert {\n",
       "      background-color: #3B4455;\n",
       "      fill: #D2E3FC;\n",
       "    }\n",
       "\n",
       "    [theme=dark] .colab-df-convert:hover {\n",
       "      background-color: #434B5C;\n",
       "      box-shadow: 0px 1px 3px 1px rgba(0, 0, 0, 0.15);\n",
       "      filter: drop-shadow(0px 1px 2px rgba(0, 0, 0, 0.3));\n",
       "      fill: #FFFFFF;\n",
       "    }\n",
       "  </style>\n",
       "\n",
       "    <script>\n",
       "      const buttonEl =\n",
       "        document.querySelector('#df-5b2e4ccf-a12e-41cc-aa15-22921fbda531 button.colab-df-convert');\n",
       "      buttonEl.style.display =\n",
       "        google.colab.kernel.accessAllowed ? 'block' : 'none';\n",
       "\n",
       "      async function convertToInteractive(key) {\n",
       "        const element = document.querySelector('#df-5b2e4ccf-a12e-41cc-aa15-22921fbda531');\n",
       "        const dataTable =\n",
       "          await google.colab.kernel.invokeFunction('convertToInteractive',\n",
       "                                                    [key], {});\n",
       "        if (!dataTable) return;\n",
       "\n",
       "        const docLinkHtml = 'Like what you see? Visit the ' +\n",
       "          '<a target=\"_blank\" href=https://colab.research.google.com/notebooks/data_table.ipynb>data table notebook</a>'\n",
       "          + ' to learn more about interactive tables.';\n",
       "        element.innerHTML = '';\n",
       "        dataTable['output_type'] = 'display_data';\n",
       "        await google.colab.output.renderOutput(dataTable, element);\n",
       "        const docLink = document.createElement('div');\n",
       "        docLink.innerHTML = docLinkHtml;\n",
       "        element.appendChild(docLink);\n",
       "      }\n",
       "    </script>\n",
       "  </div>\n",
       "\n",
       "\n",
       "<div id=\"df-51995a6f-0121-4f12-9f4a-ab70c27104f4\">\n",
       "  <button class=\"colab-df-quickchart\" onclick=\"quickchart('df-51995a6f-0121-4f12-9f4a-ab70c27104f4')\"\n",
       "            title=\"Suggest charts\"\n",
       "            style=\"display:none;\">\n",
       "\n",
       "<svg xmlns=\"http://www.w3.org/2000/svg\" height=\"24px\"viewBox=\"0 0 24 24\"\n",
       "     width=\"24px\">\n",
       "    <g>\n",
       "        <path d=\"M19 3H5c-1.1 0-2 .9-2 2v14c0 1.1.9 2 2 2h14c1.1 0 2-.9 2-2V5c0-1.1-.9-2-2-2zM9 17H7v-7h2v7zm4 0h-2V7h2v10zm4 0h-2v-4h2v4z\"/>\n",
       "    </g>\n",
       "</svg>\n",
       "  </button>\n",
       "\n",
       "<style>\n",
       "  .colab-df-quickchart {\n",
       "      --bg-color: #E8F0FE;\n",
       "      --fill-color: #1967D2;\n",
       "      --hover-bg-color: #E2EBFA;\n",
       "      --hover-fill-color: #174EA6;\n",
       "      --disabled-fill-color: #AAA;\n",
       "      --disabled-bg-color: #DDD;\n",
       "  }\n",
       "\n",
       "  [theme=dark] .colab-df-quickchart {\n",
       "      --bg-color: #3B4455;\n",
       "      --fill-color: #D2E3FC;\n",
       "      --hover-bg-color: #434B5C;\n",
       "      --hover-fill-color: #FFFFFF;\n",
       "      --disabled-bg-color: #3B4455;\n",
       "      --disabled-fill-color: #666;\n",
       "  }\n",
       "\n",
       "  .colab-df-quickchart {\n",
       "    background-color: var(--bg-color);\n",
       "    border: none;\n",
       "    border-radius: 50%;\n",
       "    cursor: pointer;\n",
       "    display: none;\n",
       "    fill: var(--fill-color);\n",
       "    height: 32px;\n",
       "    padding: 0;\n",
       "    width: 32px;\n",
       "  }\n",
       "\n",
       "  .colab-df-quickchart:hover {\n",
       "    background-color: var(--hover-bg-color);\n",
       "    box-shadow: 0 1px 2px rgba(60, 64, 67, 0.3), 0 1px 3px 1px rgba(60, 64, 67, 0.15);\n",
       "    fill: var(--button-hover-fill-color);\n",
       "  }\n",
       "\n",
       "  .colab-df-quickchart-complete:disabled,\n",
       "  .colab-df-quickchart-complete:disabled:hover {\n",
       "    background-color: var(--disabled-bg-color);\n",
       "    fill: var(--disabled-fill-color);\n",
       "    box-shadow: none;\n",
       "  }\n",
       "\n",
       "  .colab-df-spinner {\n",
       "    border: 2px solid var(--fill-color);\n",
       "    border-color: transparent;\n",
       "    border-bottom-color: var(--fill-color);\n",
       "    animation:\n",
       "      spin 1s steps(1) infinite;\n",
       "  }\n",
       "\n",
       "  @keyframes spin {\n",
       "    0% {\n",
       "      border-color: transparent;\n",
       "      border-bottom-color: var(--fill-color);\n",
       "      border-left-color: var(--fill-color);\n",
       "    }\n",
       "    20% {\n",
       "      border-color: transparent;\n",
       "      border-left-color: var(--fill-color);\n",
       "      border-top-color: var(--fill-color);\n",
       "    }\n",
       "    30% {\n",
       "      border-color: transparent;\n",
       "      border-left-color: var(--fill-color);\n",
       "      border-top-color: var(--fill-color);\n",
       "      border-right-color: var(--fill-color);\n",
       "    }\n",
       "    40% {\n",
       "      border-color: transparent;\n",
       "      border-right-color: var(--fill-color);\n",
       "      border-top-color: var(--fill-color);\n",
       "    }\n",
       "    60% {\n",
       "      border-color: transparent;\n",
       "      border-right-color: var(--fill-color);\n",
       "    }\n",
       "    80% {\n",
       "      border-color: transparent;\n",
       "      border-right-color: var(--fill-color);\n",
       "      border-bottom-color: var(--fill-color);\n",
       "    }\n",
       "    90% {\n",
       "      border-color: transparent;\n",
       "      border-bottom-color: var(--fill-color);\n",
       "    }\n",
       "  }\n",
       "</style>\n",
       "\n",
       "  <script>\n",
       "    async function quickchart(key) {\n",
       "      const quickchartButtonEl =\n",
       "        document.querySelector('#' + key + ' button');\n",
       "      quickchartButtonEl.disabled = true;  // To prevent multiple clicks.\n",
       "      quickchartButtonEl.classList.add('colab-df-spinner');\n",
       "      try {\n",
       "        const charts = await google.colab.kernel.invokeFunction(\n",
       "            'suggestCharts', [key], {});\n",
       "      } catch (error) {\n",
       "        console.error('Error during call to suggestCharts:', error);\n",
       "      }\n",
       "      quickchartButtonEl.classList.remove('colab-df-spinner');\n",
       "      quickchartButtonEl.classList.add('colab-df-quickchart-complete');\n",
       "    }\n",
       "    (() => {\n",
       "      let quickchartButtonEl =\n",
       "        document.querySelector('#df-51995a6f-0121-4f12-9f4a-ab70c27104f4 button');\n",
       "      quickchartButtonEl.style.display =\n",
       "        google.colab.kernel.accessAllowed ? 'block' : 'none';\n",
       "    })();\n",
       "  </script>\n",
       "</div>\n",
       "\n",
       "  <div id=\"id_044e7e0f-f49f-4905-b8da-4787a4e46238\">\n",
       "    <style>\n",
       "      .colab-df-generate {\n",
       "        background-color: #E8F0FE;\n",
       "        border: none;\n",
       "        border-radius: 50%;\n",
       "        cursor: pointer;\n",
       "        display: none;\n",
       "        fill: #1967D2;\n",
       "        height: 32px;\n",
       "        padding: 0 0 0 0;\n",
       "        width: 32px;\n",
       "      }\n",
       "\n",
       "      .colab-df-generate:hover {\n",
       "        background-color: #E2EBFA;\n",
       "        box-shadow: 0px 1px 2px rgba(60, 64, 67, 0.3), 0px 1px 3px 1px rgba(60, 64, 67, 0.15);\n",
       "        fill: #174EA6;\n",
       "      }\n",
       "\n",
       "      [theme=dark] .colab-df-generate {\n",
       "        background-color: #3B4455;\n",
       "        fill: #D2E3FC;\n",
       "      }\n",
       "\n",
       "      [theme=dark] .colab-df-generate:hover {\n",
       "        background-color: #434B5C;\n",
       "        box-shadow: 0px 1px 3px 1px rgba(0, 0, 0, 0.15);\n",
       "        filter: drop-shadow(0px 1px 2px rgba(0, 0, 0, 0.3));\n",
       "        fill: #FFFFFF;\n",
       "      }\n",
       "    </style>\n",
       "    <button class=\"colab-df-generate\" onclick=\"generateWithVariable('timeseries')\"\n",
       "            title=\"Generate code using this dataframe.\"\n",
       "            style=\"display:none;\">\n",
       "\n",
       "  <svg xmlns=\"http://www.w3.org/2000/svg\" height=\"24px\"viewBox=\"0 0 24 24\"\n",
       "       width=\"24px\">\n",
       "    <path d=\"M7,19H8.4L18.45,9,17,7.55,7,17.6ZM5,21V16.75L18.45,3.32a2,2,0,0,1,2.83,0l1.4,1.43a1.91,1.91,0,0,1,.58,1.4,1.91,1.91,0,0,1-.58,1.4L9.25,21ZM18.45,9,17,7.55Zm-12,3A5.31,5.31,0,0,0,4.9,8.1,5.31,5.31,0,0,0,1,6.5,5.31,5.31,0,0,0,4.9,4.9,5.31,5.31,0,0,0,6.5,1,5.31,5.31,0,0,0,8.1,4.9,5.31,5.31,0,0,0,12,6.5,5.46,5.46,0,0,0,6.5,12Z\"/>\n",
       "  </svg>\n",
       "    </button>\n",
       "    <script>\n",
       "      (() => {\n",
       "      const buttonEl =\n",
       "        document.querySelector('#id_044e7e0f-f49f-4905-b8da-4787a4e46238 button.colab-df-generate');\n",
       "      buttonEl.style.display =\n",
       "        google.colab.kernel.accessAllowed ? 'block' : 'none';\n",
       "\n",
       "      buttonEl.onclick = () => {\n",
       "        google.colab.notebook.generateWithVariable('timeseries');\n",
       "      }\n",
       "      })();\n",
       "    </script>\n",
       "  </div>\n",
       "\n",
       "    </div>\n",
       "  </div>\n"
      ],
      "text/plain": [
       "     Country      Code  Year  CO2Emissions\n",
       "0     Africa       NaN  1750  0.000000e+00\n",
       "1     Africa       NaN  1751  0.000000e+00\n",
       "2     Africa       NaN  1752  0.000000e+00\n",
       "3     Africa       NaN  1753  0.000000e+00\n",
       "4     Africa       NaN  1754  0.000000e+00\n",
       "...      ...       ...   ...           ...\n",
       "2164   World  OWID_WRL  2018  3.676694e+10\n",
       "2165   World  OWID_WRL  2019  3.704010e+10\n",
       "2166   World  OWID_WRL  2020  3.500774e+10\n",
       "2167   World  OWID_WRL  2021  3.681654e+10\n",
       "2168   World  OWID_WRL  2022  3.714979e+10\n",
       "\n",
       "[2169 rows x 4 columns]"
      ]
     },
     "execution_count": 34,
     "metadata": {},
     "output_type": "execute_result"
    }
   ],
   "source": [
    "timeseries = pd.read_csv('datasets/AirQualityTimeseries.csv')\n",
    "timeseries"
   ]
  },
  {
   "cell_type": "markdown",
   "metadata": {
    "id": "hNIjzokGwCrt"
   },
   "source": [
    "**Explanation**: *This dataset tracks CO₂ emissions by country over time. Each row represents a specific year for a particular country and includes information on the country name, a country code, the year, and the amount of CO₂ emissions recorded in tons. Initially, emissions are often zero or very low, reflecting minimal industrial activity, but they gradually increase in later years, indicating growth in industrialization and fossil fuel use. This dataset is useful for analyzing historical trends in CO₂ emissions across different countries, helping to understand how industrial activities have contributed to climate change over time.*\n"
   ]
  },
  {
   "cell_type": "markdown",
   "metadata": {
    "id": "0vBYYIUfwGWA"
   },
   "source": [
    "### Goal 8: Building a Line Plot\n",
    "\n",
    "Line plots are really similar to bar plots, but they have an added thing where they show trends or changes in data over time or across a sequence. Line plots are especially helpful for seeing relationships between two variables, where one variable (often represented on the X-axis) is continuous or time-based, and the other variable is on the Y-axis."
   ]
  },
  {
   "cell_type": "markdown",
   "metadata": {
    "id": "PxYKu2lTzvb_"
   },
   "source": [
    "#### Blockly"
   ]
  },
  {
   "cell_type": "markdown",
   "metadata": {
    "id": "zfXEBwtKzwuB"
   },
   "source": [
    "\n",
    "**Step 1 - Call the line function from Plotly**\n",
    "\n",
    "To make a line plot, we first need to call the line function with our plotly library (px).\n",
    "\n",
    "From the Variables menus, get a DO block for the **px** variable from the Variable menu and select the **line** function."
   ]
  },
  {
   "cell_type": "markdown",
   "metadata": {
    "id": "96KBRqk0zwxE"
   },
   "source": [
    "\n",
    "\n",
    "**Step 2 - Tell what data to use for the line plot**\n",
    "\n",
    "In order to make a line plot, we need to choose the source from which data we want to plot from. In this case, our dataset is stored in the dataframe time series.\n",
    "From this same menu, drag a **“timeseries”** variable.\n"
   ]
  },
  {
   "cell_type": "markdown",
   "metadata": {
    "id": "Xc4mHeM6zwy9"
   },
   "source": [
    "\n",
    "**Step 3 - Tell Plotly what columns to put on the axis**\n",
    "\n",
    "Identify the two variables you want to look at. One variable will be alongside the X-axis (*across*) and another one alongside the Y-axis (*up and down*). In our context, we want to see the relationship between Year and CO2Emissions. We will assign the variables to the 2 axes in the graph.\n",
    "\n",
    "From this Text menu, drag two Quote “” blocks.  On the first, type the index **Year** to be our X-axis. Type the attribute **CO2Emissions** for our Y axis."
   ]
  },
  {
   "cell_type": "markdown",
   "metadata": {
    "id": "a49r-nN3zw1N"
   },
   "source": [
    "\n",
    "\n",
    "**Step 4 - Assign color for each line and country**\n",
    "\n",
    "Lastly, get a Freestyle block, and type **color='Country'**:  Connect all these elements as shown below and generate a line chart presenting the trend of CO2 emission over the years per country/region.\n",
    "\n"
   ]
  },
  {
   "cell_type": "markdown",
   "metadata": {
    "id": "bBSjV1e_zw39"
   },
   "source": [
    "**Step 5 - Connect the blocks to run the code**\n",
    "\n",
    "Connect the blocks and run the code!\n",
    "\n",
    "![](https://pbs.twimg.com/media/GboZRj2XUAAu68B?format=png&name=900x900)\n"
   ]
  },
  {
   "cell_type": "code",
   "execution_count": null,
   "metadata": {},
   "outputs": [],
   "source": [
    "#blocks code\n"
   ]
  },
  {
   "cell_type": "markdown",
   "metadata": {
    "id": "D_MZXy4kzw6S"
   },
   "source": [
    "#### Freehand"
   ]
  },
  {
   "cell_type": "markdown",
   "metadata": {
    "id": "yfVDF-8zzw8x"
   },
   "source": [
    "\n",
    "**Step 1 - Bring in the line function from the plotly library we put into px.**\n",
    "\n",
    "To make a line plot, we first need to call the line function with our plotly library (px).\n",
    "\n",
    "`px.line( )`"
   ]
  },
  {
   "cell_type": "markdown",
   "metadata": {
    "id": "5PkZqx9o0b40"
   },
   "source": [
    "\n",
    "\n",
    "**Step 2 - Tell what data to use for the line plot**\n",
    "\n",
    "In order to make a line plot, we need to choose the source from which data we want to plot from. In this case, our dataset is stored in the dataframe **timeseries**.\n",
    "\n",
    "`px.line(timeseries )`\n"
   ]
  },
  {
   "cell_type": "markdown",
   "metadata": {
    "id": "TAGuDvO-0cD0"
   },
   "source": []
  },
  {
   "cell_type": "markdown",
   "metadata": {
    "id": "35ZAd_vb0cGT"
   },
   "source": [
    "\n",
    "**Step 3 - Tell Plotly what columns to put on the axis**\n",
    "\n",
    "Identify the two variables you want to look at. One variable will be alongside the X-axis (*across*) and another one alongside the Y-axis (*up and down*). In our context, we want to see the relationship between Year and CO2Emissions. We will assign the variables in the 2 axis in the graph.\n",
    "\n",
    "From this Text menu, drag two Quote “” blocks.  On the first, type the index **Year** to be our X axis. Type the attribute **CO2Emissions** for our Y axis.\n",
    "\n",
    "`px.line(timeseries,'Year','CO2Emissions')`"
   ]
  },
  {
   "cell_type": "markdown",
   "metadata": {
    "id": "VASOV6g80cIs"
   },
   "source": [
    "\n",
    "\n",
    "**Step 4 - Assign color for each line and country**\n",
    "\n",
    "Lastly,  type **color='Country'**, which will generate a line chart presenting the trend of CO2 emission over the years per country/region.\n",
    "\n",
    "`px.line(timeseries,'Year','CO2Emissions',color='Country')`\n",
    "\n"
   ]
  },
  {
   "cell_type": "markdown",
   "metadata": {
    "id": "novRiew10cLN"
   },
   "source": [
    "\n",
    "**Step 5 - Run the code**\n",
    "\n",
    "Hit ‘control’ and ‘enter’ at the same time to run the code!\n",
    "\n",
    "![](https://pbs.twimg.com/media/GboZT0zW8AEe3L2?format=jpg&name=medium)"
   ]
  },
  {
   "cell_type": "markdown",
   "metadata": {
    "id": "opTNNK-U1ALl"
   },
   "source": [
    "**Your Turn**: You’ve done a bar chart visualization, but let’s see if we can try out a line graph to see what happens.\n",
    "\n"
   ]
  },
  {
   "cell_type": "code",
   "execution_count": 35,
   "metadata": {
    "colab": {
     "base_uri": "https://localhost:8080/",
     "height": 542
    },
    "id": "is7Xi_2B1BWQ",
    "outputId": "61302077-f99d-4101-ad9a-e96697a15620"
   },
   "outputs": [
    {
     "data": {
      "text/html": [
       "<html>\n",
       "<head><meta charset=\"utf-8\" /></head>\n",
       "<body>\n",
       "    <div>            <script src=\"https://cdnjs.cloudflare.com/ajax/libs/mathjax/2.7.5/MathJax.js?config=TeX-AMS-MML_SVG\"></script><script type=\"text/javascript\">if (window.MathJax && window.MathJax.Hub && window.MathJax.Hub.Config) {window.MathJax.Hub.Config({SVG: {font: \"STIX-Web\"}});}</script>                <script type=\"text/javascript\">window.PlotlyConfig = {MathJaxConfig: 'local'};</script>\n",
       "        <script charset=\"utf-8\" src=\"https://cdn.plot.ly/plotly-2.35.2.min.js\"></script>                <div id=\"fc40e302-7f3e-4b0a-89a5-d6d6a72f9818\" class=\"plotly-graph-div\" style=\"height:525px; width:100%;\"></div>            <script type=\"text/javascript\">                                    window.PLOTLYENV=window.PLOTLYENV || {};                                    if (document.getElementById(\"fc40e302-7f3e-4b0a-89a5-d6d6a72f9818\")) {                    Plotly.newPlot(                        \"fc40e302-7f3e-4b0a-89a5-d6d6a72f9818\",                        [{\"hovertemplate\":\"Country=Africa\\u003cbr\\u003eYear=%{x}\\u003cbr\\u003eCO2Emissions=%{y}\\u003cextra\\u003e\\u003c\\u002fextra\\u003e\",\"legendgroup\":\"Africa\",\"line\":{\"color\":\"#636efa\",\"dash\":\"solid\"},\"marker\":{\"symbol\":\"circle\"},\"mode\":\"lines\",\"name\":\"Africa\",\"showlegend\":true,\"x\":[1750,1751,1752,1753,1754,1755,1756,1757,1758,1759,1760,1761,1762,1763,1764,1765,1766,1767,1768,1769,1770,1771,1772,1773,1774,1775,1776,1777,1778,1779,1780,1781,1782,1783,1784,1785,1786,1787,1788,1789,1790,1791,1792,1793,1794,1795,1796,1797,1798,1799,1800,1801,1802,1803,1804,1805,1806,1807,1808,1809,1810,1811,1812,1813,1814,1815,1816,1817,1818,1819,1820,1821,1822,1823,1824,1825,1826,1827,1828,1829,1830,1831,1832,1833,1834,1835,1836,1837,1838,1839,1840,1841,1842,1843,1844,1845,1846,1847,1848,1849,1850,1851,1852,1853,1854,1855,1856,1857,1858,1859,1860,1861,1862,1863,1864,1865,1866,1867,1868,1869,1870,1871,1872,1873,1874,1875,1876,1877,1878,1879,1880,1881,1882,1883,1884,1885,1886,1887,1888,1889,1890,1891,1892,1893,1894,1895,1896,1897,1898,1899,1900,1901,1902,1903,1904,1905,1906,1907,1908,1909,1910,1911,1912,1913,1914,1915,1916,1917,1918,1919,1920,1921,1922,1923,1924,1925,1926,1927,1928,1929,1930,1931,1932,1933,1934,1935,1936,1937,1938,1939,1940,1941,1942,1943,1944,1945,1946,1947,1948,1949,1950,1951,1952,1953,1954,1955,1956,1957,1958,1959,1960,1961,1962,1963,1964,1965,1966,1967,1968,1969,1970,1971,1972,1973,1974,1975,1976,1977,1978,1979,1980,1981,1982,1983,1984,1985,1986,1987,1988,1989,1990,1991,1992,1993,1994,1995,1996,1997,1998,1999,2000,2001,2002,2003,2004,2005,2006,2007,2008,2009,2010,2011,2012,2013,2014,2015,2016,2017,2018,2019,2020,2021,2022],\"xaxis\":\"x\",\"y\":[0.0,0.0,0.0,0.0,0.0,0.0,0.0,0.0,0.0,0.0,0.0,0.0,0.0,0.0,0.0,0.0,0.0,0.0,0.0,0.0,0.0,0.0,0.0,0.0,0.0,0.0,0.0,0.0,0.0,0.0,0.0,0.0,0.0,0.0,0.0,0.0,0.0,0.0,0.0,0.0,0.0,0.0,0.0,0.0,0.0,0.0,0.0,0.0,0.0,0.0,0.0,0.0,0.0,0.0,0.0,0.0,0.0,0.0,0.0,0.0,0.0,0.0,0.0,0.0,0.0,0.0,0.0,0.0,0.0,0.0,0.0,0.0,0.0,0.0,0.0,0.0,0.0,0.0,0.0,0.0,0.0,0.0,0.0,0.0,0.0,0.0,0.0,0.0,0.0,0.0,0.0,0.0,0.0,0.0,0.0,0.0,0.0,0.0,0.0,0.0,0.0,0.0,0.0,0.0,0.0,0.0,0.0,0.0,0.0,0.0,0.0,0.0,0.0,0.0,0.0,0.0,0.0,0.0,0.0,0.0,0.0,0.0,0.0,0.0,0.0,0.0,0.0,0.0,0.0,0.0,0.0,0.0,0.0,0.0,21984.0,36640.0,47632.0,47632.0,80608.0,131904.0,296784.0,296784.0,479984.0,1799024.0,2432896.0,3337904.0,4257568.0,4777856.0,6049264.0,5517984.0,2330304.0,3909488.0,5825760.0,7895920.0,8910848.0,10262864.0,11717472.0,12930256.0,13402912.0,15385136.0,17411328.0,16865392.0,17953600.0,19606064.0,19551104.0,19606064.0,23255408.0,25343888.0,24724672.0,25442816.0,28051584.0,27985632.0,23969888.0,29044528.0,30631040.0,32184576.0,34437936.0,33840704.0,34770320.0,35801616.0,33695670.0,29463712.0,26622752.0,28491132.0,32539280.0,35909544.0,39015950.0,41844264.0,44013164.0,46852930.0,49649184.0,54023456.0,58822884.0,60119628.0,66632910.0,67527180.0,68159370.0,67934744.0,71733140.0,77323530.0,94868000.0,101125270.0,110325210.0,112007010.0,117536136.0,129402480.0,135106240.0,141593100.0,148670910.0,147841220.0,156567170.0,161994320.0,166334880.0,176334850.0,193639330.0,213634380.0,221082080.0,237045170.0,257384030.0,277916000.0,302623900.0,331861400.0,351871100.0,378003360.0,388389600.0,387265120.0,420141100.0,433115100.0,462487070.0,499060700.0,535678370.0,548570700.0,571727200.0,594561000.0,649325060.0,665686400.0,689698050.0,689703300.0,724696800.0,697796860.0,658281400.0,687829100.0,666901500.0,706661500.0,790281400.0,844556600.0,872320830.0,893989200.0,912442100.0,899677440.0,930042600.0,919542850.0,899274200.0,988565440.0,1044866750.0,1063180000.0,1092165900.0,1122721400.0,1175619600.0,1173163400.0,1215373700.0,1255083900.0,1255851500.0,1265469700.0,1344915500.0,1319787300.0,1355493500.0,1369709700.0,1357075100.0,1457568100.0,1356435700.0,1435214100.0,1416626600.0],\"yaxis\":\"y\",\"type\":\"scattergl\"},{\"hovertemplate\":\"Country=Asia\\u003cbr\\u003eYear=%{x}\\u003cbr\\u003eCO2Emissions=%{y}\\u003cextra\\u003e\\u003c\\u002fextra\\u003e\",\"legendgroup\":\"Asia\",\"line\":{\"color\":\"#EF553B\",\"dash\":\"solid\"},\"marker\":{\"symbol\":\"circle\"},\"mode\":\"lines\",\"name\":\"Asia\",\"showlegend\":true,\"x\":[1750,1751,1752,1753,1754,1755,1756,1757,1758,1759,1760,1761,1762,1763,1764,1765,1766,1767,1768,1769,1770,1771,1772,1773,1774,1775,1776,1777,1778,1779,1780,1781,1782,1783,1784,1785,1786,1787,1788,1789,1790,1791,1792,1793,1794,1795,1796,1797,1798,1799,1800,1801,1802,1803,1804,1805,1806,1807,1808,1809,1810,1811,1812,1813,1814,1815,1816,1817,1818,1819,1820,1821,1822,1823,1824,1825,1826,1827,1828,1829,1830,1831,1832,1833,1834,1835,1836,1837,1838,1839,1840,1841,1842,1843,1844,1845,1846,1847,1848,1849,1850,1851,1852,1853,1854,1855,1856,1857,1858,1859,1860,1861,1862,1863,1864,1865,1866,1867,1868,1869,1870,1871,1872,1873,1874,1875,1876,1877,1878,1879,1880,1881,1882,1883,1884,1885,1886,1887,1888,1889,1890,1891,1892,1893,1894,1895,1896,1897,1898,1899,1900,1901,1902,1903,1904,1905,1906,1907,1908,1909,1910,1911,1912,1913,1914,1915,1916,1917,1918,1919,1920,1921,1922,1923,1924,1925,1926,1927,1928,1929,1930,1931,1932,1933,1934,1935,1936,1937,1938,1939,1940,1941,1942,1943,1944,1945,1946,1947,1948,1949,1950,1951,1952,1953,1954,1955,1956,1957,1958,1959,1960,1961,1962,1963,1964,1965,1966,1967,1968,1969,1970,1971,1972,1973,1974,1975,1976,1977,1978,1979,1980,1981,1982,1983,1984,1985,1986,1987,1988,1989,1990,1991,1992,1993,1994,1995,1996,1997,1998,1999,2000,2001,2002,2003,2004,2005,2006,2007,2008,2009,2010,2011,2012,2013,2014,2015,2016,2017,2018,2019,2020,2021,2022],\"xaxis\":\"x\",\"y\":[0.0,0.0,0.0,0.0,0.0,0.0,0.0,0.0,0.0,0.0,0.0,0.0,0.0,0.0,0.0,0.0,0.0,0.0,0.0,0.0,0.0,0.0,0.0,0.0,0.0,0.0,0.0,0.0,0.0,0.0,0.0,0.0,0.0,0.0,0.0,0.0,0.0,0.0,0.0,0.0,0.0,0.0,0.0,0.0,0.0,0.0,0.0,0.0,0.0,0.0,0.0,0.0,0.0,0.0,0.0,0.0,0.0,0.0,0.0,0.0,0.0,0.0,0.0,0.0,0.0,0.0,0.0,0.0,0.0,0.0,0.0,0.0,0.0,0.0,0.0,0.0,0.0,0.0,0.0,0.0,2126.0,2553.0,1701.0,2126.0,0.0,0.0,0.0,0.0,0.0,0.0,0.0,0.0,0.0,0.0,0.0,0.0,0.0,0.0,0.0,0.0,13187.0,0.0,0.0,0.0,0.0,39987.0,0.0,0.0,450641.0,696040.0,730781.0,608614.0,650756.0,715165.0,694808.0,829874.0,1204999.0,636119.0,527105.0,747343.0,676755.0,899720.0,972686.0,930038.0,1633613.0,2702004.0,2808297.0,2890141.0,5458039.0,5671325.0,6189085.0,6348237.0,6876694.0,7604654.0,8188970.0,8536283.0,9111720.0,10535128.0,11715276.0,13780681.0,15084545.0,17201384.0,18272584.0,20411456.0,22746340.0,26302372.0,28028198.0,30485036.0,36486296.0,38644710.0,43998036.0,50358500.0,52400960.0,55056710.0,61901096.0,62997452.0,70275550.0,97189900.0,105978184.0,109197390.0,110769210.0,117750040.0,119763160.0,137350700.0,142861780.0,136647150.0,149888400.0,161983650.0,166873390.0,183556770.0,175426770.0,171794930.0,181275740.0,199207040.0,213276580.0,215441520.0,218809420.0,236791950.0,248391970.0,258343380.0,257919020.0,248672340.0,248757810.0,273053950.0,309595840.0,337246800.0,364124260.0,385461900.0,394693250.0,418811070.0,471755680.0,478348770.0,447379940.0,440089820.0,440538900.0,328069900.0,315584400.0,380350000.0,383931260.0,382588380.0,400538660.0,454912480.0,504556450.0,540103200.0,591870460.0,674600200.0,749081200.0,843316500.0,1137698600.0,1373387100.0,1538169200.0,1393016700.0,1342041900.0,1422549800.0,1506792300.0,1649219000.0,1796366200.0,1824324200.0,2015173600.0,2288600000.0,2695769600.0,2950089000.0,3120029000.0,3351352300.0,3410965200.0,3576356000.0,3801276000.0,4045921000.0,4227023400.0,4400641500.0,4395379700.0,4368962000.0,4518591000.0,4700642300.0,4974816000.0,5266013700.0,5492050000.0,5727687000.0,6189060000.0,6404369400.0,6608574500.0,7405573000.0,7248764400.0,7582536000.0,7937216500.0,8257986000.0,8596896000.0,8717279000.0,8473237000.0,8952734000.0,9328854000.0,9491190000.0,10012849000.0,11021268000.0,11680722000.0,12527827000.0,13389901000.0,14088936000.0,14828029000.0,15345886000.0,16496831000.0,17715628000.0,18400993000.0,18635370000.0,18959088000.0,19113157000.0,19244577000.0,19773784000.0,20401152000.0,20855636000.0,20519535000.0,21438681000.0,21772347000.0],\"yaxis\":\"y\",\"type\":\"scattergl\"},{\"hovertemplate\":\"Country=China\\u003cbr\\u003eYear=%{x}\\u003cbr\\u003eCO2Emissions=%{y}\\u003cextra\\u003e\\u003c\\u002fextra\\u003e\",\"legendgroup\":\"China\",\"line\":{\"color\":\"#00cc96\",\"dash\":\"solid\"},\"marker\":{\"symbol\":\"circle\"},\"mode\":\"lines\",\"name\":\"China\",\"showlegend\":true,\"x\":[1907,1908,1909,1910,1911,1912,1913,1914,1915,1916,1917,1918,1919,1920,1921,1922,1923,1924,1925,1926,1927,1928,1929,1930,1931,1932,1933,1934,1935,1936,1937,1938,1939,1940,1941,1942,1943,1944,1945,1946,1947,1948,1949,1950,1951,1952,1953,1954,1955,1956,1957,1958,1959,1960,1961,1962,1963,1964,1965,1966,1967,1968,1969,1970,1971,1972,1973,1974,1975,1976,1977,1978,1979,1980,1981,1982,1983,1984,1985,1986,1987,1988,1989,1990,1991,1992,1993,1994,1995,1996,1997,1998,1999,2000,2001,2002,2003,2004,2005,2006,2007,2008,2009,2010,2011,2012,2013,2014,2015,2016,2017,2018,2019,2020,2021,2022],\"xaxis\":\"x\",\"y\":[19893872.0,22735854.0,24251576.0,25009438.0,24630506.0,17029154.0,24251576.0,26718416.0,25420578.0,30130690.0,32023448.0,34747964.0,37997296.0,40278456.0,38762732.0,39971524.0,46517556.0,48846084.0,45954840.0,43660164.0,45808580.0,47591444.0,48281828.0,49558456.0,51904660.0,50269150.0,54111180.0,62382628.0,72645970.0,75477250.0,70968650.0,61365520.0,74426990.0,90790530.0,113978570.0,127613384.0,108994540.0,103003570.0,55892210.0,36107050.0,41836136.0,38400104.0,62081100.0,78835290.0,102115210.0,127999330.0,133782880.0,160877400.0,190521460.0,215823980.0,255784960.0,524617060.0,720151550.0,798799940.0,570630200.0,459618080.0,456779460.0,460637100.0,500286370.0,549459260.0,460225900.0,495506560.0,607683300.0,807952640.0,909209700.0,968645570.0,1008292600.0,1028099840.0,1183215000.0,1226421200.0,1340831100.0,1492777900.0,1525661200.0,1494495900.0,1476487800.0,1606585000.0,1694216800.0,1844828000.0,1998083000.0,2104213400.0,2257738500.0,2425893600.0,2463654400.0,2484854800.0,2606096100.0,2730787600.0,2921651000.0,3103739000.0,3361637000.0,3508818200.0,3515594200.0,3364587500.0,3557274600.0,3649201000.0,3728513500.0,4103042600.0,4841118700.0,5217351000.0,5882143000.0,6494338000.0,6983576600.0,7501498000.0,7891089400.0,8620627000.0,9532409000.0,9779355000.0,9956376000.0,9998674000.0,9866952000.0,9765029000.0,10011151000.0,10353934000.0,10721042000.0,10914012000.0,11336233000.0,11396777000.0],\"yaxis\":\"y\",\"type\":\"scattergl\"},{\"hovertemplate\":\"Country=Europe\\u003cbr\\u003eYear=%{x}\\u003cbr\\u003eCO2Emissions=%{y}\\u003cextra\\u003e\\u003c\\u002fextra\\u003e\",\"legendgroup\":\"Europe\",\"line\":{\"color\":\"#ab63fa\",\"dash\":\"solid\"},\"marker\":{\"symbol\":\"circle\"},\"mode\":\"lines\",\"name\":\"Europe\",\"showlegend\":true,\"x\":[1750,1751,1752,1753,1754,1755,1756,1757,1758,1759,1760,1761,1762,1763,1764,1765,1766,1767,1768,1769,1770,1771,1772,1773,1774,1775,1776,1777,1778,1779,1780,1781,1782,1783,1784,1785,1786,1787,1788,1789,1790,1791,1792,1793,1794,1795,1796,1797,1798,1799,1800,1801,1802,1803,1804,1805,1806,1807,1808,1809,1810,1811,1812,1813,1814,1815,1816,1817,1818,1819,1820,1821,1822,1823,1824,1825,1826,1827,1828,1829,1830,1831,1832,1833,1834,1835,1836,1837,1838,1839,1840,1841,1842,1843,1844,1845,1846,1847,1848,1849,1850,1851,1852,1853,1854,1855,1856,1857,1858,1859,1860,1861,1862,1863,1864,1865,1866,1867,1868,1869,1870,1871,1872,1873,1874,1875,1876,1877,1878,1879,1880,1881,1882,1883,1884,1885,1886,1887,1888,1889,1890,1891,1892,1893,1894,1895,1896,1897,1898,1899,1900,1901,1902,1903,1904,1905,1906,1907,1908,1909,1910,1911,1912,1913,1914,1915,1916,1917,1918,1919,1920,1921,1922,1923,1924,1925,1926,1927,1928,1929,1930,1931,1932,1933,1934,1935,1936,1937,1938,1939,1940,1941,1942,1943,1944,1945,1946,1947,1948,1949,1950,1951,1952,1953,1954,1955,1956,1957,1958,1959,1960,1961,1962,1963,1964,1965,1966,1967,1968,1969,1970,1971,1972,1973,1974,1975,1976,1977,1978,1979,1980,1981,1982,1983,1984,1985,1986,1987,1988,1989,1990,1991,1992,1993,1994,1995,1996,1997,1998,1999,2000,2001,2002,2003,2004,2005,2006,2007,2008,2009,2010,2011,2012,2013,2014,2015,2016,2017,2018,2019,2020,2021,2022],\"xaxis\":\"x\",\"y\":[9305937.0,9407229.0,9505168.0,9610490.0,9733580.0,9793468.0,9909914.0,10093936.0,10216358.0,10338854.0,10514331.0,10747885.0,10952198.0,11191592.0,11396982.0,11643486.0,11876080.0,12152509.0,12466936.0,12780074.0,13097216.0,13369488.0,13623507.0,13808138.0,14012415.0,14338920.0,14654124.0,14959537.0,15243483.0,15535235.0,15878726.0,16234383.0,16580954.0,17062752.0,17471092.0,17961464.0,18443832.0,18855466.0,19282564.0,19859760.0,20394430.0,20928086.0,21925550.0,22293598.0,22515992.0,22311582.0,22117712.0,22086414.0,23102266.0,27481544.0,32541872.0,31714914.0,40017350.0,29238058.0,31432090.0,30907166.0,32366874.0,35818970.0,35101290.0,35925850.0,39069692.0,39723810.0,40325010.0,40679356.0,41658940.0,42979950.0,44827450.0,48552070.0,50606024.0,50160850.0,49931828.0,51224476.0,53149412.0,55448036.0,56560324.0,59588492.0,60056732.0,64281724.0,65080500.0,64502350.0,86888240.0,80978620.0,79052150.0,79703760.0,85364220.0,93060240.0,102140710.0,100864980.0,100783830.0,104097896.0,112883860.0,115892920.0,122404710.0,124561020.0,132595670.0,143794050.0,144858750.0,155573810.0,156683300.0,166586960.0,176775170.0,173859040.0,180432720.0,186703490.0,221565870.0,221537950.0,236781490.0,238329620.0,241521540.0,254665150.0,281813200.0,300479550.0,305041120.0,321231260.0,346628300.0,371215300.0,383594200.0,401824960.0,406195200.0,425361200.0,431415100.0,459749340.0,496539900.0,522505340.0,484553570.0,534645570.0,547136100.0,545944060.0,551760260.0,569583000.0,640737540.0,657770100.0,680194400.0,718762050.0,714139650.0,716654460.0,715981300.0,743280800.0,787500400.0,824552260.0,862566300.0,893004000.0,879312830.0,854870100.0,927907600.0,952615700.0,996152960.0,1045652100.0,1079152100.0,1149499400.0,1205740700.0,1195211300.0,1196072700.0,1245153500.0,1268420100.0,1305678100.0,1347412200.0,1492824000.0,1517238000.0,1518849500.0,1538628400.0,1574126000.0,1632516000.0,1767390800.0,1573950200.0,1492850200.0,1561168400.0,1533407700.0,1394110300.0,1183809300.0,1373714700.0,1253162200.0,1397922800.0,1335736800.0,1541567200.0,1526838700.0,1308494000.0,1670274800.0,1676897500.0,1820403000.0,1721389300.0,1606790700.0,1493113600.0,1537479300.0,1682513900.0,1767221900.0,1876986400.0,2037087600.0,2046506900.0,2094696600.0,2228871200.0,2143799000.0,1997100000.0,2003704800.0,1890189300.0,1234279600.0,1657621400.0,1908460500.0,2056942600.0,2243740200.0,2383384000.0,2630270000.0,2714044400.0,2791584800.0,2970115000.0,3233784800.0,3445350100.0,3593321500.0,3631810600.0,3713288400.0,3964574500.0,4109427000.0,4336451600.0,4609470500.0,4839294000.0,4981611000.0,5153137700.0,5267011600.0,5512483000.0,5812589600.0,6094492700.0,6323188000.0,6552128500.0,6844701700.0,6862857000.0,6902365700.0,7277034000.0,7333232600.0,7565711000.0,7745266700.0,7749258000.0,7467589600.0,7407606300.0,7414092000.0,7465076700.0,7789208600.0,7802156000.0,7825480700.0,7862962000.0,7828834300.0,8038430700.0,7738463000.0,7097750500.0,6807967000.0,6447623000.0,6424747500.0,6473145300.0,6267733500.0,6240960000.0,6157762000.0,6155590700.0,6282255400.0,6249997000.0,6396391000.0,6429227000.0,6421545500.0,6522041000.0,6479696000.0,6404985300.0,5892881400.0,6123992000.0,6049206000.0,5999425000.0,5844850700.0,5614210000.0,5614495000.0,5606777000.0,5638487600.0,5612440600.0,5436361000.0,5029197000.0,5310309000.0,5105307600.0],\"yaxis\":\"y\",\"type\":\"scattergl\"},{\"hovertemplate\":\"Country=Japan\\u003cbr\\u003eYear=%{x}\\u003cbr\\u003eCO2Emissions=%{y}\\u003cextra\\u003e\\u003c\\u002fextra\\u003e\",\"legendgroup\":\"Japan\",\"line\":{\"color\":\"#FFA15A\",\"dash\":\"solid\"},\"marker\":{\"symbol\":\"circle\"},\"mode\":\"lines\",\"name\":\"Japan\",\"showlegend\":true,\"x\":[1868,1869,1870,1871,1872,1873,1874,1875,1876,1877,1878,1879,1880,1881,1882,1883,1884,1885,1886,1887,1888,1889,1890,1891,1892,1893,1894,1895,1896,1897,1898,1899,1900,1901,1902,1903,1904,1905,1906,1907,1908,1909,1910,1911,1912,1913,1914,1915,1916,1917,1918,1919,1920,1921,1922,1923,1924,1925,1926,1927,1928,1929,1930,1931,1932,1933,1934,1935,1936,1937,1938,1939,1940,1941,1942,1943,1944,1945,1946,1947,1948,1949,1950,1951,1952,1953,1954,1955,1956,1957,1958,1959,1960,1961,1962,1963,1964,1965,1966,1967,1968,1969,1970,1971,1972,1973,1974,1975,1976,1977,1978,1979,1980,1981,1982,1983,1984,1985,1986,1987,1988,1989,1990,1991,1992,1993,1994,1995,1996,1997,1998,1999,2000,2001,2002,2003,2004,2005,2006,2007,2008,2009,2010,2011,2012,2013,2014,2015,2016,2017,2018,2019,2020,2021,2022],\"xaxis\":\"x\",\"y\":[10992.0,18320.0,18320.0,25648.0,32976.0,40304.0,586240.0,1439952.0,1403312.0,1289728.0,1857648.0,2315648.0,2348624.0,2414576.0,2513504.0,2711360.0,2956848.0,3348896.0,3605376.0,4473744.0,5169904.0,6254448.0,6756416.0,8123088.0,8075455.5,8573760.0,11024976.0,12226768.0,12915600.0,13542144.0,17246448.0,17272096.0,19411872.0,23273728.0,24944512.0,25787232.0,29051856.0,29931216.0,32855088.0,35071810.0,37632944.0,38255824.0,39384336.0,44209824.0,49280800.0,54315136.0,58015776.0,52842210.0,58598350.0,67483550.0,71543260.0,79193700.0,74280270.0,66809380.0,71429680.0,75907090.0,79347580.0,82011310.0,82604880.0,89482210.0,92390570.0,94880340.0,86165784.0,77904010.0,77980500.0,91342500.0,101202820.0,106382490.0,116849070.0,125430960.0,131735120.0,127746840.0,153244270.0,154604580.0,147791840.0,150637470.0,138732700.0,76635160.0,52706560.0,70032370.0,88082370.0,98420104.0,102540984.0,123457650.0,130405976.0,145769800.0,142534100.0,141875000.0,160635760.0,188066740.0,181160880.0,192619980.0,232499630.0,282786880.0,292864450.0,324835460.0,358891070.0,386471200.0,419245120.0,489307420.0,561912500.0,653215400.0,767963140.0,796544260.0,852170240.0,914265200.0,914306240.0,868510700.0,907144500.0,933237700.0,901590100.0,953071360.0,944868600.0,926835500.0,897407740.0,880909440.0,937069900.0,912400830.0,912260000.0,902530300.0,985464300.0,1021681800.0,1157195500.0,1168897300.0,1178674800.0,1171686700.0,1226702200.0,1239048100.0,1251545700.0,1244251100.0,1204402600.0,1241036500.0,1263754800.0,1249162100.0,1278787100.0,1287292500.0,1282686000.0,1290144600.0,1267118500.0,1302836700.0,1232014200.0,1163057300.0,1214707500.0,1264631000.0,1305883500.0,1315192000.0,1264072000.0,1223168600.0,1202454500.0,1186802300.0,1141668900.0,1104539800.0,1039795900.0,1062129300.0,1053797800.0],\"yaxis\":\"y\",\"type\":\"scattergl\"},{\"hovertemplate\":\"Country=Oceania\\u003cbr\\u003eYear=%{x}\\u003cbr\\u003eCO2Emissions=%{y}\\u003cextra\\u003e\\u003c\\u002fextra\\u003e\",\"legendgroup\":\"Oceania\",\"line\":{\"color\":\"#19d3f3\",\"dash\":\"solid\"},\"marker\":{\"symbol\":\"circle\"},\"mode\":\"lines\",\"name\":\"Oceania\",\"showlegend\":true,\"x\":[1750,1751,1752,1753,1754,1755,1756,1757,1758,1759,1760,1761,1762,1763,1764,1765,1766,1767,1768,1769,1770,1771,1772,1773,1774,1775,1776,1777,1778,1779,1780,1781,1782,1783,1784,1785,1786,1787,1788,1789,1790,1791,1792,1793,1794,1795,1796,1797,1798,1799,1800,1801,1802,1803,1804,1805,1806,1807,1808,1809,1810,1811,1812,1813,1814,1815,1816,1817,1818,1819,1820,1821,1822,1823,1824,1825,1826,1827,1828,1829,1830,1831,1832,1833,1834,1835,1836,1837,1838,1839,1840,1841,1842,1843,1844,1845,1846,1847,1848,1849,1850,1851,1852,1853,1854,1855,1856,1857,1858,1859,1860,1861,1862,1863,1864,1865,1866,1867,1868,1869,1870,1871,1872,1873,1874,1875,1876,1877,1878,1879,1880,1881,1882,1883,1884,1885,1886,1887,1888,1889,1890,1891,1892,1893,1894,1895,1896,1897,1898,1899,1900,1901,1902,1903,1904,1905,1906,1907,1908,1909,1910,1911,1912,1913,1914,1915,1916,1917,1918,1919,1920,1921,1922,1923,1924,1925,1926,1927,1928,1929,1930,1931,1932,1933,1934,1935,1936,1937,1938,1939,1940,1941,1942,1943,1944,1945,1946,1947,1948,1949,1950,1951,1952,1953,1954,1955,1956,1957,1958,1959,1960,1961,1962,1963,1964,1965,1966,1967,1968,1969,1970,1971,1972,1973,1974,1975,1976,1977,1978,1979,1980,1981,1982,1983,1984,1985,1986,1987,1988,1989,1990,1991,1992,1993,1994,1995,1996,1997,1998,1999,2000,2001,2002,2003,2004,2005,2006,2007,2008,2009,2010,2011,2012,2013,2014,2015,2016,2017,2018,2019,2020,2021,2022],\"xaxis\":\"x\",\"y\":[0.0,0.0,0.0,0.0,0.0,0.0,0.0,0.0,0.0,0.0,0.0,0.0,0.0,0.0,0.0,0.0,0.0,0.0,0.0,0.0,0.0,0.0,0.0,0.0,0.0,0.0,0.0,0.0,0.0,0.0,0.0,0.0,0.0,0.0,0.0,0.0,0.0,0.0,0.0,0.0,0.0,0.0,0.0,0.0,0.0,0.0,0.0,0.0,0.0,0.0,0.0,0.0,0.0,0.0,0.0,236.0,661.0,629.0,787.0,1259.0,1259.0,2203.0,2203.0,2832.0,3451.0,2753.0,2281.0,2045.0,1888.0,3540.0,6160.0,3147.0,3934.0002,4720.0,4720.0,2870.0,6360.0,5902.0,3786.0,6031.0,5748.0,1421.0,11239.0,10718.0,13358.0,19498.0,19897.0,25305.0,27094.0,33487.0,47605.0,54819.0,62779.0,40692.0,36374.0,35125.0,61308.0,64088.0,71507.0,76336.0,112052.0,106379.0,106055.0,152321.0,183526.0,215678.0,298886.0,331100.0,340483.0,484948.0,599769.0,560575.0,787635.0,720450.0,903160.0,973508.0,1280060.0,1239852.0,1532259.0,1464684.0,1402391.0,1440910.0,1636610.0,1930549.0,2125629.0,2142736.0,2158161.0,2372097.0,2917052.0,3083507.0,3073339.0,3641577.0,4277829.0,5073743.0,5590824.0,5999834.0,6009109.0,6261250.0,6972248.0,7562008.0,6872483.0,8375925.0,7961785.0,7315646.0,8130214.0,8373957.0,8936921.0,9782685.0,10536444.0,10873019.0,12607824.0,14179680.0,14436160.0,14393768.0,14977158.0,15591857.0,18219918.0,19572344.0,20943384.0,18845024.0,22609452.0,24136106.0,26073290.0,27014900.0,30004424.0,27201164.0,24891626.0,25951116.0,27907988.0,26314662.0,29863852.0,27284434.0,28483052.0,29520592.0,32180746.0,33720956.0,33859450.0,35764830.0,33733316.0,31800364.0,30764512.0,26789996.0,26589732.0,28327570.0,30191492.0,33108736.0,35690024.0,38137220.0,37942420.0,42445464.0,40105132.0,44335188.0,47122844.0,46564212.0,46496400.0,44779228.0,48271880.0,50227836.0,52515016.0,53672830.0,64713932.0,69779190.0,72499576.0,72268020.0,77804776.0,82445600.0,86729070.0,87260540.0,89274136.0,94416940.0,100298744.0,100182616.0,103294030.0,109549700.0,118717740.0,129477440.0,132279140.0,138611220.0,145432300.0,153718830.0,166214060.0,170642140.0,174019410.0,193619740.0,190731230.0,196819650.0,194205660.0,207571890.0,213846820.0,213960100.0,227388100.0,235791570.0,241295580.0,230603340.0,241779620.0,251881950.0,252363400.0,264348260.0,271776800.0,287940100.0,309502850.0,311629250.0,318665250.0,322921300.0,328049120.0,339533630.0,348048860.0,358511400.0,371805380.0,382569180.0,390087700.0,400402500.0,406002100.0,415572540.0,429314880.0,434618750.0,440847580.0,448951040.0,453164500.0,453392670.0,452128000.0,450865600.0,454608350.0,447430400.0,443793100.0,452367230.0,460575840.0,465370300.0,468454430.0,470116400.0,447291680.0,437097300.0,441077630.0],\"yaxis\":\"y\",\"type\":\"scattergl\"},{\"hovertemplate\":\"Country=Russia\\u003cbr\\u003eYear=%{x}\\u003cbr\\u003eCO2Emissions=%{y}\\u003cextra\\u003e\\u003c\\u002fextra\\u003e\",\"legendgroup\":\"Russia\",\"line\":{\"color\":\"#FF6692\",\"dash\":\"solid\"},\"marker\":{\"symbol\":\"circle\"},\"mode\":\"lines\",\"name\":\"Russia\",\"showlegend\":true,\"x\":[1830,1831,1832,1833,1850,1855,1858,1859,1860,1861,1862,1863,1864,1865,1866,1867,1868,1869,1870,1871,1872,1873,1874,1875,1876,1877,1878,1879,1880,1881,1882,1883,1884,1885,1886,1887,1888,1889,1890,1891,1892,1893,1894,1895,1896,1897,1898,1899,1900,1901,1902,1903,1904,1905,1906,1907,1908,1909,1910,1911,1912,1913,1914,1915,1916,1917,1918,1919,1920,1921,1922,1923,1924,1925,1926,1927,1928,1929,1930,1931,1932,1933,1934,1935,1936,1937,1938,1939,1940,1941,1942,1943,1944,1945,1946,1947,1948,1949,1950,1951,1952,1953,1954,1955,1956,1957,1958,1959,1960,1961,1962,1963,1964,1965,1966,1967,1968,1969,1970,1971,1972,1973,1974,1975,1976,1977,1978,1979,1980,1981,1982,1983,1984,1985,1986,1987,1988,1989,1990,1991,1992,1993,1994,1995,1996,1997,1998,1999,2000,2001,2002,2003,2004,2005,2006,2007,2008,2009,2010,2011,2012,2013,2014,2015,2016,2017,2018,2019,2020,2021,2022],\"xaxis\":\"x\",\"y\":[11198.0,13438.0,8958.0,11198.0,69427.0,210522.0,295626.0,313543.0,414325.0,526305.0,474794.0,497190.0,557659.0,533023.0,1684174.0,1932769.0,1608028.0,2181364.0,2367251.0,3195900.0,3281005.0,3079441.0,3737882.0,4302259.0,5341431.0,5451171.0,7124148.0,7310034.0,8575404.0,9032281.0,9513794.0,10828435.0,10994165.0,11975107.0,12281932.0,12996362.0,13556261.0,14640224.0,16579712.0,18254928.0,19323214.0,22649012.0,23067816.0,26505590.0,26982624.0,31197540.0,34989172.0,40590396.0,45981100.0,47206156.0,45593650.0,44599268.0,49620436.0,44292444.0,50520756.0,56587816.0,56934950.0,60101736.0,58941628.0,61109556.0,69223600.0,75198840.0,67868650.0,62294296.0,66394996.0,61105076.0,24369018.0,20814784.0,18980556.0,20584106.0,25103606.0,27730650.0,33038486.0,32608482.0,47246468.0,58740064.0,65255584.0,70275020.0,95533810.0,114771160.0,129313620.0,144521200.0,174815940.0,197881650.0,226908880.0,232023950.0,244890110.0,247893520.0,297191400.0,261090340.0,141943200.0,148140160.0,214830780.0,227441570.0,255603820.0,307787740.0,327516000.0,372302850.0,414992030.0,449757700.0,481620900.0,509528000.0,556482400.0,630996740.0,691826800.0,757074940.0,808090300.0,849598100.0,884554900.0,912221630.0,957430140.0,1026803000.0,1092031900.0,1158446200.0,1223377300.0,1279226000.0,1315176200.0,1369669600.0,1440532200.0,1528699000.0,1608385500.0,1676311800.0,1740144300.0,1829144000.0,1899591300.0,1964203600.0,2031659800.0,2048510000.0,2129110400.0,2088570500.0,2127946800.0,2158129000.0,2177292800.0,2348141300.0,2348726800.0,2358149600.0,2436094000.0,2404973800.0,2536247800.0,2406755600.0,1966504700.0,1866729100.0,1647664500.0,1619727200.0,1586822100.0,1482244500.0,1465253400.0,1494178800.0,1479142400.0,1515647100.0,1506788000.0,1537018400.0,1543957000.0,1562576900.0,1623002000.0,1623781200.0,1652064500.0,1545034400.0,1632783200.0,1685909500.0,1701268400.0,1640437400.0,1639959200.0,1638675300.0,1634885000.0,1666121200.0,1712494300.0,1705030900.0,1632929300.0,1711993300.0,1652177300.0],\"yaxis\":\"y\",\"type\":\"scattergl\"},{\"hovertemplate\":\"Country=South America\\u003cbr\\u003eYear=%{x}\\u003cbr\\u003eCO2Emissions=%{y}\\u003cextra\\u003e\\u003c\\u002fextra\\u003e\",\"legendgroup\":\"South America\",\"line\":{\"color\":\"#B6E880\",\"dash\":\"solid\"},\"marker\":{\"symbol\":\"circle\"},\"mode\":\"lines\",\"name\":\"South America\",\"showlegend\":true,\"x\":[1884,1885,1886,1887,1888,1889,1890,1891,1892,1893,1894,1895,1896,1897,1898,1899,1900,1901,1902,1903,1904,1905,1906,1907,1908,1909,1910,1911,1912,1913,1914,1915,1916,1917,1918,1919,1920,1921,1922,1923,1924,1925,1926,1927,1928,1929,1930,1931,1932,1933,1934,1935,1936,1937,1938,1939,1940,1941,1942,1943,1944,1945,1946,1947,1948,1949,1950,1951,1952,1953,1954,1955,1956,1957,1958,1959,1960,1961,1962,1963,1964,1965,1966,1967,1968,1969,1970,1971,1972,1973,1974,1975,1976,1977,1978,1979,1980,1981,1982,1983,1984,1985,1986,1987,1988,1989,1990,1991,1992,1993,1994,1995,1996,1997,1998,1999,2000,2001,2002,2003,2004,2005,2006,2007,2008,2009,2010,2011,2012,2013,2014,2015,2016,2017,2018,2019,2020,2021,2022],\"xaxis\":\"x\",\"y\":[3664.0,3664.0,7328.0,1091872.0,897680.0,1762384.0,1381328.0,985616.0,1450944.0,1601168.0,2033520.0,2828608.0,2879904.0,2758992.0,3176688.0,3715296.0,3165696.0,6401008.0,7379296.0,7676080.0,8665360.0,9211296.0,12329360.0,12684768.0,14886832.0,13406576.0,17246448.0,19162720.0,19990784.0,21122960.0,17195152.0,15088352.0,13619088.0,10867424.0,10999328.0,12900944.0,14641344.0,14428832.0,17162176.0,19759952.0,24332624.0,26384464.0,27381072.0,30081440.0,31427830.0,34424330.0,29122492.0,25545738.0,28960146.0,32898528.0,37257450.0,41081412.0,39596510.0,50161732.0,46272796.0,47060380.0,50716700.0,50752570.0,48166196.0,48569504.0,53866372.0,54137150.0,118776020.0,62107070.0,69504090.0,70824630.0,112569750.0,131276180.0,141463470.0,140631970.0,151041460.0,170065740.0,184167710.0,192903300.0,178736500.0,196974220.0,199140540.0,201756400.0,215629970.0,219379200.0,230147580.0,240092670.0,251989390.0,267328100.0,287605000.0,311235260.0,337826140.0,346539170.0,362556700.0,392667400.0,416530270.0,411657630.0,419328960.0,434808350.0,462110140.0,494336160.0,508353860.0,489719070.0,490869630.0,485836380.0,491463070.0,501802700.0,529758620.0,557251900.0,580149570.0,579468740.0,599200260.0,606668860.0,618657300.0,653444400.0,656305860.0,689413000.0,719730100.0,766787600.0,826148800.0,812354050.0,811730050.0,791288060.0,819469060.0,820048260.0,856521860.0,881097860.0,909007400.0,943791740.0,987600000.0,961180500.0,1072131140.0,1088917200.0,1143867000.0,1208389400.0,1228455700.0,1193402900.0,1151329200.0,1133713200.0,1067226100.0,1067116200.0,961400300.0,1085906400.0,1085392400.0],\"yaxis\":\"y\",\"type\":\"scattergl\"},{\"hovertemplate\":\"Country=United States\\u003cbr\\u003eYear=%{x}\\u003cbr\\u003eCO2Emissions=%{y}\\u003cextra\\u003e\\u003c\\u002fextra\\u003e\",\"legendgroup\":\"United States\",\"line\":{\"color\":\"#FF97FF\",\"dash\":\"solid\"},\"marker\":{\"symbol\":\"circle\"},\"mode\":\"lines\",\"name\":\"United States\",\"showlegend\":true,\"x\":[1800,1801,1802,1803,1804,1805,1806,1807,1808,1809,1810,1811,1812,1813,1814,1815,1816,1817,1818,1819,1820,1821,1822,1823,1824,1825,1826,1827,1828,1829,1830,1831,1832,1833,1834,1835,1836,1837,1838,1839,1840,1841,1842,1843,1844,1845,1846,1847,1848,1849,1850,1851,1852,1853,1854,1855,1856,1857,1858,1859,1860,1861,1862,1863,1864,1865,1866,1867,1868,1869,1870,1871,1872,1873,1874,1875,1876,1877,1878,1879,1880,1881,1882,1883,1884,1885,1886,1887,1888,1889,1890,1891,1892,1893,1894,1895,1896,1897,1898,1899,1900,1901,1902,1903,1904,1905,1906,1907,1908,1909,1910,1911,1912,1913,1914,1915,1916,1917,1918,1919,1920,1921,1922,1923,1924,1925,1926,1927,1928,1929,1930,1931,1932,1933,1934,1935,1936,1937,1938,1939,1940,1941,1942,1943,1944,1945,1946,1947,1948,1949,1950,1951,1952,1953,1954,1955,1956,1957,1958,1959,1960,1961,1962,1963,1964,1965,1966,1967,1968,1969,1970,1971,1972,1973,1974,1975,1976,1977,1978,1979,1980,1981,1982,1983,1984,1985,1986,1987,1988,1989,1990,1991,1992,1993,1994,1995,1996,1997,1998,1999,2000,2001,2002,2003,2004,2005,2006,2007,2008,2009,2010,2011,2012,2013,2014,2015,2016,2017,2018,2019,2020,2021,2022],\"xaxis\":\"x\",\"y\":[252815.98,267472.0,289456.0,296784.0,333424.0,340752.0,333424.0,377392.0,392048.0,403040.0,417696.0,447008.0,483648.0,520288.0,560592.0,600896.0,663184.0,718144.0,780432.0,762112.0,791424.0,828064.0,864704.0,901344.0,1014928.0,1135840.0,1315376.0,1447280.0,1593840.0,1795360.0,2088480.0,2264352.0,3022800.0,3528432.0,3381872.0,4316192.0,4730224.0,5305472.0,5030672.0,5517984.0,5873392.0,6214144.0,6917632.0,7764016.0,9306560.0,11204512.0,12710416.0,15070032.0,16784784.0,18221072.0,19792928.0,24633072.0,26791168.0,30162048.0,33159198.0,38160560.0,40036530.0,41055120.0,41648690.0,45320016.0,47437810.0,45679090.0,47448800.0,54809776.0,58656976.0,58821856.0,59232224.0,72865970.0,82352060.0,93695810.0,98620220.0,103020690.0,126305410.0,139506800.0,134296590.0,135747540.0,132820010.0,147175550.0,143903600.0,175468960.0,198684240.0,210192900.0,235393950.0,253882580.0,267589570.0,272162270.0,287463170.0,307380830.0,373875100.0,335542400.0,401747300.0,427424580.0,450449200.0,454094850.0,425050370.0,479948100.0,480882460.0,500287140.0,545321500.0,625534000.0,662738400.0,721527550.0,764495740.0,894406900.0,882057540.0,986482400.0,1035471170.0,1203861500.0,1052812860.0,1165706200.0,1271582100.0,1258666600.0,1343565600.0,1442542100.0,1317980300.0,1367697000.0,1518980700.0,1670970600.0,1747718100.0,1479158800.0,1738245800.0,1423668600.0,1435758300.0,1896735900.0,1698320300.0,1758185500.0,1906048500.0,1862839200.0,1830965000.0,1963506200.0,1744916200.0,1484959100.0,1257814100.0,1348876800.0,1436238600.0,1492320900.0,1713411700.0,1792609900.0,1515749900.0,1670920400.0,1874985100.0,2043585000.0,2198264800.0,2272059100.0,2444903700.0,2359551500.0,2257493800.0,2485854500.0,2582558700.0,2164862200.0,2541485300.0,2618711600.0,2551219500.0,2612971300.0,2489462300.0,2728512000.0,2859995000.0,2835772200.0,2747107600.0,2831923200.0,2897315000.0,2886872800.0,2993902000.0,3126487600.0,3264313600.0,3399547000.0,3571421400.0,3705461000.0,3840919600.0,4035145200.0,4339686000.0,4365465000.0,4573015000.0,4785103000.0,4621099500.0,4478275000.0,4747817500.0,4889665500.0,4941423000.0,5008641500.0,4808556000.0,4686420500.0,4447298000.0,4429423000.0,4662174000.0,4652632600.0,4663429600.0,4825711600.0,5050543600.0,5132206000.0,5120957000.0,5062956500.0,5174227500.0,5272850400.0,5364279300.0,5425259500.0,5612983000.0,5688142300.0,5733281000.0,5803918000.0,6010135600.0,5907739600.0,5946308000.0,6010145300.0,6112655000.0,6132183000.0,6052686000.0,6130123000.0,5915118600.0,5480725500.0,5679715300.0,5546116000.0,5344086000.0,5480156700.0,5528681000.0,5376473000.0,5252932000.0,5212162000.0,5377797000.0,5262145000.0,4714628000.0,5032213000.0,5057303600.0],\"yaxis\":\"y\",\"type\":\"scattergl\"},{\"hovertemplate\":\"Country=World\\u003cbr\\u003eYear=%{x}\\u003cbr\\u003eCO2Emissions=%{y}\\u003cextra\\u003e\\u003c\\u002fextra\\u003e\",\"legendgroup\":\"World\",\"line\":{\"color\":\"#FECB52\",\"dash\":\"solid\"},\"marker\":{\"symbol\":\"circle\"},\"mode\":\"lines\",\"name\":\"World\",\"showlegend\":true,\"x\":[1750,1751,1752,1753,1754,1755,1756,1757,1758,1759,1760,1761,1762,1763,1764,1765,1766,1767,1768,1769,1770,1771,1772,1773,1774,1775,1776,1777,1778,1779,1780,1781,1782,1783,1784,1785,1786,1787,1788,1789,1790,1791,1792,1793,1794,1795,1796,1797,1798,1799,1800,1801,1802,1803,1804,1805,1806,1807,1808,1809,1810,1811,1812,1813,1814,1815,1816,1817,1818,1819,1820,1821,1822,1823,1824,1825,1826,1827,1828,1829,1830,1831,1832,1833,1834,1835,1836,1837,1838,1839,1840,1841,1842,1843,1844,1845,1846,1847,1848,1849,1850,1851,1852,1853,1854,1855,1856,1857,1858,1859,1860,1861,1862,1863,1864,1865,1866,1867,1868,1869,1870,1871,1872,1873,1874,1875,1876,1877,1878,1879,1880,1881,1882,1883,1884,1885,1886,1887,1888,1889,1890,1891,1892,1893,1894,1895,1896,1897,1898,1899,1900,1901,1902,1903,1904,1905,1906,1907,1908,1909,1910,1911,1912,1913,1914,1915,1916,1917,1918,1919,1920,1921,1922,1923,1924,1925,1926,1927,1928,1929,1930,1931,1932,1933,1934,1935,1936,1937,1938,1939,1940,1941,1942,1943,1944,1945,1946,1947,1948,1949,1950,1951,1952,1953,1954,1955,1956,1957,1958,1959,1960,1961,1962,1963,1964,1965,1966,1967,1968,1969,1970,1971,1972,1973,1974,1975,1976,1977,1978,1979,1980,1981,1982,1983,1984,1985,1986,1987,1988,1989,1990,1991,1992,1993,1994,1995,1996,1997,1998,1999,2000,2001,2002,2003,2004,2005,2006,2007,2008,2009,2010,2011,2012,2013,2014,2015,2016,2017,2018,2019,2020,2021,2022],\"xaxis\":\"x\",\"y\":[9305937.0,9407229.0,9505168.0,9610490.0,9733580.0,9793468.0,9909914.0,10093936.0,10216358.0,10338854.0,10514331.0,10747885.0,10952198.0,11191592.0,11396982.0,11643486.0,11876080.0,12152509.0,12466936.0,12780074.0,13097216.0,13369488.0,13623507.0,13808138.0,14012415.0,14338920.0,14654124.0,14959537.0,15243483.0,15535235.0,15878726.0,16234383.0,16580954.0,17062752.0,17471092.0,17965128.0,18447496.0,18859130.0,19286228.0,19863424.0,20398094.0,20931750.0,21929214.0,22297260.0,22519656.0,22315246.0,22121374.0,22090078.0,23105928.0,27485206.0,32798352.0,31986050.0,40310476.0,29538506.0,31769176.0,31251818.0,32704620.0,36200652.0,35497788.0,36333812.0,39492310.0,40176680.0,40814520.0,41206140.0,42226650.0,43587264.0,45496580.0,49275920.0,51392010.0,50930170.0,50733076.0,52059348.0,54021710.0,56357760.0,57583636.0,60730864.0,61382130.0,65738572.0,66681790.0,66307412.0,88988260.0,83250616.0,82091560.0,83248700.0,88763100.0,97399600.0,106894500.0,106199420.0,105845260.0,109653030.0,118808510.0,122165550.0,129388790.0,132369384.0,141942270.0,155037360.0,157656130.0,170740910.0,173579870.0,184931980.0,196751970.0,198668110.0,207414200.0,217120430.0,255033170.0,260104400.0,277296450.0,279932000.0,284225150.0,301481250.0,330962600.0,347785820.0,354488900.0,378180160.0,407725980.0,432859140.0,446553600.0,478160740.0,491551940.0,521954200.0,533338270.0,566891300.0,627301250.0,666481200.0,624232500.0,677113860.0,686780200.0,700404400.0,705973570.0,755990460.0,853916350.0,883544060.0,933360100.0,992753600.0,1004134100.0,1011637100.0,1027417500.0,1078746900.0,1194352600.0,1194624000.0,1300362400.0,1361750100.0,1372396500.0,1355477200.0,1403019100.0,1487432300.0,1536365600.0,1609231600.0,1697166300.0,1853709200.0,1952209500.0,2016744400.0,2067683800.0,2254100200.0,2279747300.0,2427318300.0,2534733000.0,2888318000.0,2776440800.0,2890495000.0,3034089700.0,3079502000.0,3235963600.0,3506275800.0,3180355600.0,3134854000.0,3385858300.0,3540426800.0,3493264100.0,3029006600.0,3521427500.0,3090096600.0,3240313900.0,3676233200.0,3687220200.0,3727033600.0,3661030400.0,3996128800.0,3978763300.0,4270907600.0,3938598400.0,3519903200.0,3173476400.0,3341518300.0,3634241800.0,3814798300.0,4185513700.0,4474233000.0,4206901000.0,4451247000.0,4861346000.0,4970814500.0,4959586000.0,5041694000.0,5117908500.0,4257136000.0,4646123500.0,5145782000.0,5424953000.0,5181006000.0,5929342000.0,6381405700.0,6467437000.0,6650861600.0,6789497300.0,7443861000.0,7925980700.0,8185614000.0,8417160000.0,8854662000.0,9386421000.0,9414383000.0,9746556000.0,10266046000.0,10823619000.0,11309690000.0,11861708000.0,12236328000.0,12904336000.0,13760840000.0,14898157000.0,15502787000.0,16223440000.0,17083500000.0,17009382000.0,17049979000.0,17985243000.0,18494652000.0,19063955000.0,19603001000.0,19482442000.0,19016950000.0,18865373000.0,18985900000.0,19641730000.0,20305132000.0,20607515000.0,21245784000.0,22077385000.0,22378970000.0,22752700000.0,23229475000.0,22567199000.0,22798350000.0,23034776000.0,23524491000.0,24250161000.0,24395952000.0,24330945000.0,24833495000.0,25501286000.0,25674930000.0,26248288000.0,27648650000.0,28620194000.0,29592103000.0,30605767000.0,31499735000.0,32041902000.0,31493265000.0,33306330000.0,34436470000.0,34935450000.0,35232470000.0,35466195000.0,35463213000.0,35460026000.0,36025455000.0,36766945000.0,37040103000.0,35007738000.0,36816544000.0,37149786000.0],\"yaxis\":\"y\",\"type\":\"scattergl\"}],                        {\"template\":{\"data\":{\"histogram2dcontour\":[{\"type\":\"histogram2dcontour\",\"colorbar\":{\"outlinewidth\":0,\"ticks\":\"\"},\"colorscale\":[[0.0,\"#0d0887\"],[0.1111111111111111,\"#46039f\"],[0.2222222222222222,\"#7201a8\"],[0.3333333333333333,\"#9c179e\"],[0.4444444444444444,\"#bd3786\"],[0.5555555555555556,\"#d8576b\"],[0.6666666666666666,\"#ed7953\"],[0.7777777777777778,\"#fb9f3a\"],[0.8888888888888888,\"#fdca26\"],[1.0,\"#f0f921\"]]}],\"choropleth\":[{\"type\":\"choropleth\",\"colorbar\":{\"outlinewidth\":0,\"ticks\":\"\"}}],\"histogram2d\":[{\"type\":\"histogram2d\",\"colorbar\":{\"outlinewidth\":0,\"ticks\":\"\"},\"colorscale\":[[0.0,\"#0d0887\"],[0.1111111111111111,\"#46039f\"],[0.2222222222222222,\"#7201a8\"],[0.3333333333333333,\"#9c179e\"],[0.4444444444444444,\"#bd3786\"],[0.5555555555555556,\"#d8576b\"],[0.6666666666666666,\"#ed7953\"],[0.7777777777777778,\"#fb9f3a\"],[0.8888888888888888,\"#fdca26\"],[1.0,\"#f0f921\"]]}],\"heatmap\":[{\"type\":\"heatmap\",\"colorbar\":{\"outlinewidth\":0,\"ticks\":\"\"},\"colorscale\":[[0.0,\"#0d0887\"],[0.1111111111111111,\"#46039f\"],[0.2222222222222222,\"#7201a8\"],[0.3333333333333333,\"#9c179e\"],[0.4444444444444444,\"#bd3786\"],[0.5555555555555556,\"#d8576b\"],[0.6666666666666666,\"#ed7953\"],[0.7777777777777778,\"#fb9f3a\"],[0.8888888888888888,\"#fdca26\"],[1.0,\"#f0f921\"]]}],\"heatmapgl\":[{\"type\":\"heatmapgl\",\"colorbar\":{\"outlinewidth\":0,\"ticks\":\"\"},\"colorscale\":[[0.0,\"#0d0887\"],[0.1111111111111111,\"#46039f\"],[0.2222222222222222,\"#7201a8\"],[0.3333333333333333,\"#9c179e\"],[0.4444444444444444,\"#bd3786\"],[0.5555555555555556,\"#d8576b\"],[0.6666666666666666,\"#ed7953\"],[0.7777777777777778,\"#fb9f3a\"],[0.8888888888888888,\"#fdca26\"],[1.0,\"#f0f921\"]]}],\"contourcarpet\":[{\"type\":\"contourcarpet\",\"colorbar\":{\"outlinewidth\":0,\"ticks\":\"\"}}],\"contour\":[{\"type\":\"contour\",\"colorbar\":{\"outlinewidth\":0,\"ticks\":\"\"},\"colorscale\":[[0.0,\"#0d0887\"],[0.1111111111111111,\"#46039f\"],[0.2222222222222222,\"#7201a8\"],[0.3333333333333333,\"#9c179e\"],[0.4444444444444444,\"#bd3786\"],[0.5555555555555556,\"#d8576b\"],[0.6666666666666666,\"#ed7953\"],[0.7777777777777778,\"#fb9f3a\"],[0.8888888888888888,\"#fdca26\"],[1.0,\"#f0f921\"]]}],\"surface\":[{\"type\":\"surface\",\"colorbar\":{\"outlinewidth\":0,\"ticks\":\"\"},\"colorscale\":[[0.0,\"#0d0887\"],[0.1111111111111111,\"#46039f\"],[0.2222222222222222,\"#7201a8\"],[0.3333333333333333,\"#9c179e\"],[0.4444444444444444,\"#bd3786\"],[0.5555555555555556,\"#d8576b\"],[0.6666666666666666,\"#ed7953\"],[0.7777777777777778,\"#fb9f3a\"],[0.8888888888888888,\"#fdca26\"],[1.0,\"#f0f921\"]]}],\"mesh3d\":[{\"type\":\"mesh3d\",\"colorbar\":{\"outlinewidth\":0,\"ticks\":\"\"}}],\"scatter\":[{\"fillpattern\":{\"fillmode\":\"overlay\",\"size\":10,\"solidity\":0.2},\"type\":\"scatter\"}],\"parcoords\":[{\"type\":\"parcoords\",\"line\":{\"colorbar\":{\"outlinewidth\":0,\"ticks\":\"\"}}}],\"scatterpolargl\":[{\"type\":\"scatterpolargl\",\"marker\":{\"colorbar\":{\"outlinewidth\":0,\"ticks\":\"\"}}}],\"bar\":[{\"error_x\":{\"color\":\"#2a3f5f\"},\"error_y\":{\"color\":\"#2a3f5f\"},\"marker\":{\"line\":{\"color\":\"#E5ECF6\",\"width\":0.5},\"pattern\":{\"fillmode\":\"overlay\",\"size\":10,\"solidity\":0.2}},\"type\":\"bar\"}],\"scattergeo\":[{\"type\":\"scattergeo\",\"marker\":{\"colorbar\":{\"outlinewidth\":0,\"ticks\":\"\"}}}],\"scatterpolar\":[{\"type\":\"scatterpolar\",\"marker\":{\"colorbar\":{\"outlinewidth\":0,\"ticks\":\"\"}}}],\"histogram\":[{\"marker\":{\"pattern\":{\"fillmode\":\"overlay\",\"size\":10,\"solidity\":0.2}},\"type\":\"histogram\"}],\"scattergl\":[{\"type\":\"scattergl\",\"marker\":{\"colorbar\":{\"outlinewidth\":0,\"ticks\":\"\"}}}],\"scatter3d\":[{\"type\":\"scatter3d\",\"line\":{\"colorbar\":{\"outlinewidth\":0,\"ticks\":\"\"}},\"marker\":{\"colorbar\":{\"outlinewidth\":0,\"ticks\":\"\"}}}],\"scattermapbox\":[{\"type\":\"scattermapbox\",\"marker\":{\"colorbar\":{\"outlinewidth\":0,\"ticks\":\"\"}}}],\"scatterternary\":[{\"type\":\"scatterternary\",\"marker\":{\"colorbar\":{\"outlinewidth\":0,\"ticks\":\"\"}}}],\"scattercarpet\":[{\"type\":\"scattercarpet\",\"marker\":{\"colorbar\":{\"outlinewidth\":0,\"ticks\":\"\"}}}],\"carpet\":[{\"aaxis\":{\"endlinecolor\":\"#2a3f5f\",\"gridcolor\":\"white\",\"linecolor\":\"white\",\"minorgridcolor\":\"white\",\"startlinecolor\":\"#2a3f5f\"},\"baxis\":{\"endlinecolor\":\"#2a3f5f\",\"gridcolor\":\"white\",\"linecolor\":\"white\",\"minorgridcolor\":\"white\",\"startlinecolor\":\"#2a3f5f\"},\"type\":\"carpet\"}],\"table\":[{\"cells\":{\"fill\":{\"color\":\"#EBF0F8\"},\"line\":{\"color\":\"white\"}},\"header\":{\"fill\":{\"color\":\"#C8D4E3\"},\"line\":{\"color\":\"white\"}},\"type\":\"table\"}],\"barpolar\":[{\"marker\":{\"line\":{\"color\":\"#E5ECF6\",\"width\":0.5},\"pattern\":{\"fillmode\":\"overlay\",\"size\":10,\"solidity\":0.2}},\"type\":\"barpolar\"}],\"pie\":[{\"automargin\":true,\"type\":\"pie\"}]},\"layout\":{\"autotypenumbers\":\"strict\",\"colorway\":[\"#636efa\",\"#EF553B\",\"#00cc96\",\"#ab63fa\",\"#FFA15A\",\"#19d3f3\",\"#FF6692\",\"#B6E880\",\"#FF97FF\",\"#FECB52\"],\"font\":{\"color\":\"#2a3f5f\"},\"hovermode\":\"closest\",\"hoverlabel\":{\"align\":\"left\"},\"paper_bgcolor\":\"white\",\"plot_bgcolor\":\"#E5ECF6\",\"polar\":{\"bgcolor\":\"#E5ECF6\",\"angularaxis\":{\"gridcolor\":\"white\",\"linecolor\":\"white\",\"ticks\":\"\"},\"radialaxis\":{\"gridcolor\":\"white\",\"linecolor\":\"white\",\"ticks\":\"\"}},\"ternary\":{\"bgcolor\":\"#E5ECF6\",\"aaxis\":{\"gridcolor\":\"white\",\"linecolor\":\"white\",\"ticks\":\"\"},\"baxis\":{\"gridcolor\":\"white\",\"linecolor\":\"white\",\"ticks\":\"\"},\"caxis\":{\"gridcolor\":\"white\",\"linecolor\":\"white\",\"ticks\":\"\"}},\"coloraxis\":{\"colorbar\":{\"outlinewidth\":0,\"ticks\":\"\"}},\"colorscale\":{\"sequential\":[[0.0,\"#0d0887\"],[0.1111111111111111,\"#46039f\"],[0.2222222222222222,\"#7201a8\"],[0.3333333333333333,\"#9c179e\"],[0.4444444444444444,\"#bd3786\"],[0.5555555555555556,\"#d8576b\"],[0.6666666666666666,\"#ed7953\"],[0.7777777777777778,\"#fb9f3a\"],[0.8888888888888888,\"#fdca26\"],[1.0,\"#f0f921\"]],\"sequentialminus\":[[0.0,\"#0d0887\"],[0.1111111111111111,\"#46039f\"],[0.2222222222222222,\"#7201a8\"],[0.3333333333333333,\"#9c179e\"],[0.4444444444444444,\"#bd3786\"],[0.5555555555555556,\"#d8576b\"],[0.6666666666666666,\"#ed7953\"],[0.7777777777777778,\"#fb9f3a\"],[0.8888888888888888,\"#fdca26\"],[1.0,\"#f0f921\"]],\"diverging\":[[0,\"#8e0152\"],[0.1,\"#c51b7d\"],[0.2,\"#de77ae\"],[0.3,\"#f1b6da\"],[0.4,\"#fde0ef\"],[0.5,\"#f7f7f7\"],[0.6,\"#e6f5d0\"],[0.7,\"#b8e186\"],[0.8,\"#7fbc41\"],[0.9,\"#4d9221\"],[1,\"#276419\"]]},\"xaxis\":{\"gridcolor\":\"white\",\"linecolor\":\"white\",\"ticks\":\"\",\"title\":{\"standoff\":15},\"zerolinecolor\":\"white\",\"automargin\":true,\"zerolinewidth\":2},\"yaxis\":{\"gridcolor\":\"white\",\"linecolor\":\"white\",\"ticks\":\"\",\"title\":{\"standoff\":15},\"zerolinecolor\":\"white\",\"automargin\":true,\"zerolinewidth\":2},\"scene\":{\"xaxis\":{\"backgroundcolor\":\"#E5ECF6\",\"gridcolor\":\"white\",\"linecolor\":\"white\",\"showbackground\":true,\"ticks\":\"\",\"zerolinecolor\":\"white\",\"gridwidth\":2},\"yaxis\":{\"backgroundcolor\":\"#E5ECF6\",\"gridcolor\":\"white\",\"linecolor\":\"white\",\"showbackground\":true,\"ticks\":\"\",\"zerolinecolor\":\"white\",\"gridwidth\":2},\"zaxis\":{\"backgroundcolor\":\"#E5ECF6\",\"gridcolor\":\"white\",\"linecolor\":\"white\",\"showbackground\":true,\"ticks\":\"\",\"zerolinecolor\":\"white\",\"gridwidth\":2}},\"shapedefaults\":{\"line\":{\"color\":\"#2a3f5f\"}},\"annotationdefaults\":{\"arrowcolor\":\"#2a3f5f\",\"arrowhead\":0,\"arrowwidth\":1},\"geo\":{\"bgcolor\":\"white\",\"landcolor\":\"#E5ECF6\",\"subunitcolor\":\"white\",\"showland\":true,\"showlakes\":true,\"lakecolor\":\"white\"},\"title\":{\"x\":0.05},\"mapbox\":{\"style\":\"light\"}}},\"xaxis\":{\"anchor\":\"y\",\"domain\":[0.0,1.0],\"title\":{\"text\":\"Year\"}},\"yaxis\":{\"anchor\":\"x\",\"domain\":[0.0,1.0],\"title\":{\"text\":\"CO2Emissions\"}},\"legend\":{\"title\":{\"text\":\"Country\"},\"tracegroupgap\":0},\"margin\":{\"t\":60}},                        {\"responsive\": true}                    ).then(function(){\n",
       "                            \n",
       "var gd = document.getElementById('fc40e302-7f3e-4b0a-89a5-d6d6a72f9818');\n",
       "var x = new MutationObserver(function (mutations, observer) {{\n",
       "        var display = window.getComputedStyle(gd).display;\n",
       "        if (!display || display === 'none') {{\n",
       "            console.log([gd, 'removed!']);\n",
       "            Plotly.purge(gd);\n",
       "            observer.disconnect();\n",
       "        }}\n",
       "}});\n",
       "\n",
       "// Listen for the removal of the full notebook cells\n",
       "var notebookContainer = gd.closest('#notebook-container');\n",
       "if (notebookContainer) {{\n",
       "    x.observe(notebookContainer, {childList: true});\n",
       "}}\n",
       "\n",
       "// Listen for the clearing of the current output cell\n",
       "var outputEl = gd.closest('.output');\n",
       "if (outputEl) {{\n",
       "    x.observe(outputEl, {childList: true});\n",
       "}}\n",
       "\n",
       "                        })                };                            </script>        </div>\n",
       "</body>\n",
       "</html>"
      ]
     },
     "metadata": {},
     "output_type": "display_data"
    }
   ],
   "source": [
    "px.line(timeseries,'Year','CO2Emissions',color='Country')"
   ]
  },
  {
   "cell_type": "markdown",
   "metadata": {
    "id": "9-D7hZcx1CG5"
   },
   "source": [
    "**Explanation**: *The line chart shows how global carbon dioxide (CO₂) emissions have changed over time from 1750 to today. We can see that CO₂ emissions were very low until the mid-20th century. However, around 1950, emissions started to rise quickly, especially in regions like China, the United States, and Asia. The yellow line represents the entire world's CO₂ emissions, which have skyrocketed to over 30 billion tons in recent years. This rapid increase is mainly due to industrial growth, fossil fuel use, and population growth. The graph highlights how human activities have greatly increased CO₂ emissions, contributing to climate change.*"
   ]
  },
  {
   "cell_type": "markdown",
   "metadata": {
    "id": "F9E7hwXn1ViV"
   },
   "source": [
    "**Goal 9: Creating a histogram**\n",
    "\n",
    "A histogram is another fascinating tool for data visualization. Unlike other methods, it tallies and keeps track of the frequencies for each unique distinct value in a variable. Picture it as a series of 'bins', each housing a specific group of numbers. These [distributions](## \"the number of times a variable has a particular value\") can be [uniform](## \"a flat distribution where every value is equally likely\"), [normal](## \"a bell curve distribution where most values are in the middle are most likely\"), [right-skewed](## \"a graph where it looks like a lot of the data is smaller on the right-hand side\"), [left-skewed](## \"a graph where it looks like a lot of the data is smaller on the right-hand side \"), and [mixtures](## \"is a probability distribution formed by combining two or more simpler distributions\"). We can find unique patterns like outliers, extreme values, or skewness, which makes histograms particularly useful. It's kinda like using a detective's magnifying glass to scrutinize your data!"
   ]
  },
  {
   "cell_type": "markdown",
   "metadata": {
    "id": "k-O87H0f1WKq"
   },
   "source": [
    "#### Blockly"
   ]
  },
  {
   "cell_type": "markdown",
   "metadata": {
    "id": "jiMKqfxB1WNo"
   },
   "source": [
    "**Step 1 - Call the histogram function from Plotly**\n",
    "\n",
    "To make a histogram, we first need to call the histogram() function with our plotly library (px).\n",
    "\n",
    "Get a DO block for the **px** variable from the Variable menu and select the **histogram** function."
   ]
  },
  {
   "cell_type": "markdown",
   "metadata": {
    "id": "yjUX6mbD1WXs"
   },
   "source": [
    "\n",
    "\n",
    "**Step 2 - Tell what data to use for the line plot**\n",
    "\n",
    "In order to make a plot, we need to choose its source from which data we want to plot from. In this case, our dataset is stored in the dataframe **data**\n"
   ]
  },
  {
   "cell_type": "markdown",
   "metadata": {
    "id": "DTqn0TI41Way"
   },
   "source": [
    "\n",
    "**Step 3 - Tell Plotly what columns to look at**\n",
    "\n",
    "So what variable do we want to look at?\n",
    "\n",
    "From this Text menu, drag one Quote “” blocks.  Type the attribute **CO2Emissions**.\n"
   ]
  },
  {
   "cell_type": "markdown",
   "metadata": {
    "id": "BYWcRGlj1WdX"
   },
   "source": [
    "\n",
    "**Step 4 - Connect the blocks to run the code **\n",
    "\n",
    "Connect the blocks and run the code!\n",
    "\n",
    "![](https://pbs.twimg.com/media/GZkpUdRXsAohNWf?format=png&name=900x900)"
   ]
  },
  {
   "cell_type": "code",
   "execution_count": null,
   "metadata": {},
   "outputs": [],
   "source": [
    "#blocks code\n"
   ]
  },
  {
   "cell_type": "markdown",
   "metadata": {
    "id": "448_ZS1j1WgH"
   },
   "source": [
    "#### Freehand"
   ]
  },
  {
   "cell_type": "markdown",
   "metadata": {
    "id": "pjlLVNRz4Otj"
   },
   "source": [
    "\n",
    "**Step 1 - Call the histogram function from Plotly**\n",
    "\n",
    "To make a histogram, we first need to call the line function with our plotly library (px).\n",
    "\n",
    "`px.histogram()`\n"
   ]
  },
  {
   "cell_type": "markdown",
   "metadata": {
    "id": "A92n-orl4OwO"
   },
   "source": [
    "\n",
    "**Step 2 - Tell what data to use for the line plot**\n",
    "\n",
    "In order to make a plot, we need to choose the source from which data we want to plot from. In this case, our dataset is stored in the dataframe data.\n",
    "\n",
    "`px.histogram(data)`\n"
   ]
  },
  {
   "cell_type": "markdown",
   "metadata": {
    "id": "SNclSok94OyC"
   },
   "source": [
    "\n",
    "**Step 3 - Tell Plotly what columns to look at**\n",
    "\n",
    "So what variable do we want to look at?\n",
    "\n",
    "`px.histogram(data,'CO2Emissions')`\n"
   ]
  },
  {
   "cell_type": "markdown",
   "metadata": {
    "id": "ymlruNmL4Ozw"
   },
   "source": [
    "\n",
    "**Step 4 - Run the code**\n",
    "\n",
    "Hit ‘control’ and ‘enter’ at the same time to run the code!\n",
    "\n",
    "![](https://pbs.twimg.com/media/GZkoNEuWIAIXFMG?format=png&name=small)\n"
   ]
  },
  {
   "cell_type": "markdown",
   "metadata": {
    "id": "NpqIsj7K4iNE"
   },
   "source": [
    "**Your Turn**: To plot a histogram, we first need to call the **histogram**() method with our plotly library (**px**).To make a plot, we must choose the source from which data we want to plot. In this case, our dataset is stored in the data frame “data”. Then identify the variable you want to look at. Just like before, one variable will be the numerical variable alongside the X-axis"
   ]
  },
  {
   "cell_type": "code",
   "execution_count": 36,
   "metadata": {
    "colab": {
     "base_uri": "https://localhost:8080/",
     "height": 542
    },
    "id": "kFpZl3P94oEh",
    "outputId": "7dae46f2-4bf7-400c-e935-696d49a080ac"
   },
   "outputs": [
    {
     "data": {
      "text/html": [
       "<html>\n",
       "<head><meta charset=\"utf-8\" /></head>\n",
       "<body>\n",
       "    <div>            <script src=\"https://cdnjs.cloudflare.com/ajax/libs/mathjax/2.7.5/MathJax.js?config=TeX-AMS-MML_SVG\"></script><script type=\"text/javascript\">if (window.MathJax && window.MathJax.Hub && window.MathJax.Hub.Config) {window.MathJax.Hub.Config({SVG: {font: \"STIX-Web\"}});}</script>                <script type=\"text/javascript\">window.PlotlyConfig = {MathJaxConfig: 'local'};</script>\n",
       "        <script charset=\"utf-8\" src=\"https://cdn.plot.ly/plotly-2.35.2.min.js\"></script>                <div id=\"319ea540-63bc-406b-a7c4-95ca4a0fc957\" class=\"plotly-graph-div\" style=\"height:525px; width:100%;\"></div>            <script type=\"text/javascript\">                                    window.PLOTLYENV=window.PLOTLYENV || {};                                    if (document.getElementById(\"319ea540-63bc-406b-a7c4-95ca4a0fc957\")) {                    Plotly.newPlot(                        \"319ea540-63bc-406b-a7c4-95ca4a0fc957\",                        [{\"alignmentgroup\":\"True\",\"bingroup\":\"x\",\"hovertemplate\":\"CO2Emissions=%{x}\\u003cbr\\u003ecount=%{y}\\u003cextra\\u003e\\u003c\\u002fextra\\u003e\",\"legendgroup\":\"\",\"marker\":{\"color\":\"#636efa\",\"pattern\":{\"shape\":\"\"}},\"name\":\"\",\"offsetgroup\":\"\",\"orientation\":\"v\",\"showlegend\":false,\"x\":[33.89830508,33.89830508,25.42372881,42.37288136,33.89830508,59.3220339,33.89830508,42.37288136,33.89830508,42.37288136,42.37288136,50.84745763,33.89830508,8.474576271,16.94915254,42.37288136,25.42372881,33.89830508,59.3220339,42.37288136,59.3220339,42.37288136,0.0,59.3220339,76.27118644,50.84745763,50.84745763,42.37288136,33.89830508,50.84745763,50.84745763,42.37288136,42.37288136,33.89830508,42.37288136,16.94915254,25.42372881,42.37288136,25.42372881,42.37288136,25.42372881,25.42372881,25.42372881,50.84745763,76.27118644,33.89830508,50.84745763,33.89830508,42.37288136,33.89830508,313.559322,296.6101695,330.5084746,254.2372881,305.0847458,296.6101695,313.559322,194.9152542,305.0847458,245.7627119,211.8644068,271.1864407,254.2372881,313.559322,220.3389831,288.1355932,296.6101695,262.7118644,296.6101695,245.7627119,322.0338983,254.2372881,330.5084746,313.559322,279.6610169,288.1355932,322.0338983,338.9830508,296.6101695,211.8644068,237.2881356,228.8135593,245.7627119,347.4576271,296.6101695,296.6101695,313.559322,288.1355932,262.7118644,254.2372881,288.1355932,305.0847458,254.2372881,194.9152542,271.1864407,271.1864407,271.1864407,279.6610169,169.4915254,262.7118644,423.7288136,347.4576271,415.2542373,389.8305085,406.779661,474.5762712,296.6101695,449.1525424,406.779661,432.2033898,347.4576271,364.4067797,381.3559322,338.9830508,347.4576271,364.4067797,381.3559322,483.0508475,500.0,338.9830508,398.3050847,330.5084746,483.0508475,330.5084746,398.3050847,423.7288136,322.0338983,330.5084746,389.8305085,406.779661,432.2033898,457.6271186,389.8305085,347.4576271,389.8305085,432.2033898,389.8305085,381.3559322,322.0338983,372.8813559,389.8305085,347.4576271,347.4576271,415.2542373,398.3050847,355.9322034,338.9830508,355.9322034,372.8813559,347.4576271],\"xaxis\":\"x\",\"yaxis\":\"y\",\"type\":\"histogram\"}],                        {\"template\":{\"data\":{\"histogram2dcontour\":[{\"type\":\"histogram2dcontour\",\"colorbar\":{\"outlinewidth\":0,\"ticks\":\"\"},\"colorscale\":[[0.0,\"#0d0887\"],[0.1111111111111111,\"#46039f\"],[0.2222222222222222,\"#7201a8\"],[0.3333333333333333,\"#9c179e\"],[0.4444444444444444,\"#bd3786\"],[0.5555555555555556,\"#d8576b\"],[0.6666666666666666,\"#ed7953\"],[0.7777777777777778,\"#fb9f3a\"],[0.8888888888888888,\"#fdca26\"],[1.0,\"#f0f921\"]]}],\"choropleth\":[{\"type\":\"choropleth\",\"colorbar\":{\"outlinewidth\":0,\"ticks\":\"\"}}],\"histogram2d\":[{\"type\":\"histogram2d\",\"colorbar\":{\"outlinewidth\":0,\"ticks\":\"\"},\"colorscale\":[[0.0,\"#0d0887\"],[0.1111111111111111,\"#46039f\"],[0.2222222222222222,\"#7201a8\"],[0.3333333333333333,\"#9c179e\"],[0.4444444444444444,\"#bd3786\"],[0.5555555555555556,\"#d8576b\"],[0.6666666666666666,\"#ed7953\"],[0.7777777777777778,\"#fb9f3a\"],[0.8888888888888888,\"#fdca26\"],[1.0,\"#f0f921\"]]}],\"heatmap\":[{\"type\":\"heatmap\",\"colorbar\":{\"outlinewidth\":0,\"ticks\":\"\"},\"colorscale\":[[0.0,\"#0d0887\"],[0.1111111111111111,\"#46039f\"],[0.2222222222222222,\"#7201a8\"],[0.3333333333333333,\"#9c179e\"],[0.4444444444444444,\"#bd3786\"],[0.5555555555555556,\"#d8576b\"],[0.6666666666666666,\"#ed7953\"],[0.7777777777777778,\"#fb9f3a\"],[0.8888888888888888,\"#fdca26\"],[1.0,\"#f0f921\"]]}],\"heatmapgl\":[{\"type\":\"heatmapgl\",\"colorbar\":{\"outlinewidth\":0,\"ticks\":\"\"},\"colorscale\":[[0.0,\"#0d0887\"],[0.1111111111111111,\"#46039f\"],[0.2222222222222222,\"#7201a8\"],[0.3333333333333333,\"#9c179e\"],[0.4444444444444444,\"#bd3786\"],[0.5555555555555556,\"#d8576b\"],[0.6666666666666666,\"#ed7953\"],[0.7777777777777778,\"#fb9f3a\"],[0.8888888888888888,\"#fdca26\"],[1.0,\"#f0f921\"]]}],\"contourcarpet\":[{\"type\":\"contourcarpet\",\"colorbar\":{\"outlinewidth\":0,\"ticks\":\"\"}}],\"contour\":[{\"type\":\"contour\",\"colorbar\":{\"outlinewidth\":0,\"ticks\":\"\"},\"colorscale\":[[0.0,\"#0d0887\"],[0.1111111111111111,\"#46039f\"],[0.2222222222222222,\"#7201a8\"],[0.3333333333333333,\"#9c179e\"],[0.4444444444444444,\"#bd3786\"],[0.5555555555555556,\"#d8576b\"],[0.6666666666666666,\"#ed7953\"],[0.7777777777777778,\"#fb9f3a\"],[0.8888888888888888,\"#fdca26\"],[1.0,\"#f0f921\"]]}],\"surface\":[{\"type\":\"surface\",\"colorbar\":{\"outlinewidth\":0,\"ticks\":\"\"},\"colorscale\":[[0.0,\"#0d0887\"],[0.1111111111111111,\"#46039f\"],[0.2222222222222222,\"#7201a8\"],[0.3333333333333333,\"#9c179e\"],[0.4444444444444444,\"#bd3786\"],[0.5555555555555556,\"#d8576b\"],[0.6666666666666666,\"#ed7953\"],[0.7777777777777778,\"#fb9f3a\"],[0.8888888888888888,\"#fdca26\"],[1.0,\"#f0f921\"]]}],\"mesh3d\":[{\"type\":\"mesh3d\",\"colorbar\":{\"outlinewidth\":0,\"ticks\":\"\"}}],\"scatter\":[{\"fillpattern\":{\"fillmode\":\"overlay\",\"size\":10,\"solidity\":0.2},\"type\":\"scatter\"}],\"parcoords\":[{\"type\":\"parcoords\",\"line\":{\"colorbar\":{\"outlinewidth\":0,\"ticks\":\"\"}}}],\"scatterpolargl\":[{\"type\":\"scatterpolargl\",\"marker\":{\"colorbar\":{\"outlinewidth\":0,\"ticks\":\"\"}}}],\"bar\":[{\"error_x\":{\"color\":\"#2a3f5f\"},\"error_y\":{\"color\":\"#2a3f5f\"},\"marker\":{\"line\":{\"color\":\"#E5ECF6\",\"width\":0.5},\"pattern\":{\"fillmode\":\"overlay\",\"size\":10,\"solidity\":0.2}},\"type\":\"bar\"}],\"scattergeo\":[{\"type\":\"scattergeo\",\"marker\":{\"colorbar\":{\"outlinewidth\":0,\"ticks\":\"\"}}}],\"scatterpolar\":[{\"type\":\"scatterpolar\",\"marker\":{\"colorbar\":{\"outlinewidth\":0,\"ticks\":\"\"}}}],\"histogram\":[{\"marker\":{\"pattern\":{\"fillmode\":\"overlay\",\"size\":10,\"solidity\":0.2}},\"type\":\"histogram\"}],\"scattergl\":[{\"type\":\"scattergl\",\"marker\":{\"colorbar\":{\"outlinewidth\":0,\"ticks\":\"\"}}}],\"scatter3d\":[{\"type\":\"scatter3d\",\"line\":{\"colorbar\":{\"outlinewidth\":0,\"ticks\":\"\"}},\"marker\":{\"colorbar\":{\"outlinewidth\":0,\"ticks\":\"\"}}}],\"scattermapbox\":[{\"type\":\"scattermapbox\",\"marker\":{\"colorbar\":{\"outlinewidth\":0,\"ticks\":\"\"}}}],\"scatterternary\":[{\"type\":\"scatterternary\",\"marker\":{\"colorbar\":{\"outlinewidth\":0,\"ticks\":\"\"}}}],\"scattercarpet\":[{\"type\":\"scattercarpet\",\"marker\":{\"colorbar\":{\"outlinewidth\":0,\"ticks\":\"\"}}}],\"carpet\":[{\"aaxis\":{\"endlinecolor\":\"#2a3f5f\",\"gridcolor\":\"white\",\"linecolor\":\"white\",\"minorgridcolor\":\"white\",\"startlinecolor\":\"#2a3f5f\"},\"baxis\":{\"endlinecolor\":\"#2a3f5f\",\"gridcolor\":\"white\",\"linecolor\":\"white\",\"minorgridcolor\":\"white\",\"startlinecolor\":\"#2a3f5f\"},\"type\":\"carpet\"}],\"table\":[{\"cells\":{\"fill\":{\"color\":\"#EBF0F8\"},\"line\":{\"color\":\"white\"}},\"header\":{\"fill\":{\"color\":\"#C8D4E3\"},\"line\":{\"color\":\"white\"}},\"type\":\"table\"}],\"barpolar\":[{\"marker\":{\"line\":{\"color\":\"#E5ECF6\",\"width\":0.5},\"pattern\":{\"fillmode\":\"overlay\",\"size\":10,\"solidity\":0.2}},\"type\":\"barpolar\"}],\"pie\":[{\"automargin\":true,\"type\":\"pie\"}]},\"layout\":{\"autotypenumbers\":\"strict\",\"colorway\":[\"#636efa\",\"#EF553B\",\"#00cc96\",\"#ab63fa\",\"#FFA15A\",\"#19d3f3\",\"#FF6692\",\"#B6E880\",\"#FF97FF\",\"#FECB52\"],\"font\":{\"color\":\"#2a3f5f\"},\"hovermode\":\"closest\",\"hoverlabel\":{\"align\":\"left\"},\"paper_bgcolor\":\"white\",\"plot_bgcolor\":\"#E5ECF6\",\"polar\":{\"bgcolor\":\"#E5ECF6\",\"angularaxis\":{\"gridcolor\":\"white\",\"linecolor\":\"white\",\"ticks\":\"\"},\"radialaxis\":{\"gridcolor\":\"white\",\"linecolor\":\"white\",\"ticks\":\"\"}},\"ternary\":{\"bgcolor\":\"#E5ECF6\",\"aaxis\":{\"gridcolor\":\"white\",\"linecolor\":\"white\",\"ticks\":\"\"},\"baxis\":{\"gridcolor\":\"white\",\"linecolor\":\"white\",\"ticks\":\"\"},\"caxis\":{\"gridcolor\":\"white\",\"linecolor\":\"white\",\"ticks\":\"\"}},\"coloraxis\":{\"colorbar\":{\"outlinewidth\":0,\"ticks\":\"\"}},\"colorscale\":{\"sequential\":[[0.0,\"#0d0887\"],[0.1111111111111111,\"#46039f\"],[0.2222222222222222,\"#7201a8\"],[0.3333333333333333,\"#9c179e\"],[0.4444444444444444,\"#bd3786\"],[0.5555555555555556,\"#d8576b\"],[0.6666666666666666,\"#ed7953\"],[0.7777777777777778,\"#fb9f3a\"],[0.8888888888888888,\"#fdca26\"],[1.0,\"#f0f921\"]],\"sequentialminus\":[[0.0,\"#0d0887\"],[0.1111111111111111,\"#46039f\"],[0.2222222222222222,\"#7201a8\"],[0.3333333333333333,\"#9c179e\"],[0.4444444444444444,\"#bd3786\"],[0.5555555555555556,\"#d8576b\"],[0.6666666666666666,\"#ed7953\"],[0.7777777777777778,\"#fb9f3a\"],[0.8888888888888888,\"#fdca26\"],[1.0,\"#f0f921\"]],\"diverging\":[[0,\"#8e0152\"],[0.1,\"#c51b7d\"],[0.2,\"#de77ae\"],[0.3,\"#f1b6da\"],[0.4,\"#fde0ef\"],[0.5,\"#f7f7f7\"],[0.6,\"#e6f5d0\"],[0.7,\"#b8e186\"],[0.8,\"#7fbc41\"],[0.9,\"#4d9221\"],[1,\"#276419\"]]},\"xaxis\":{\"gridcolor\":\"white\",\"linecolor\":\"white\",\"ticks\":\"\",\"title\":{\"standoff\":15},\"zerolinecolor\":\"white\",\"automargin\":true,\"zerolinewidth\":2},\"yaxis\":{\"gridcolor\":\"white\",\"linecolor\":\"white\",\"ticks\":\"\",\"title\":{\"standoff\":15},\"zerolinecolor\":\"white\",\"automargin\":true,\"zerolinewidth\":2},\"scene\":{\"xaxis\":{\"backgroundcolor\":\"#E5ECF6\",\"gridcolor\":\"white\",\"linecolor\":\"white\",\"showbackground\":true,\"ticks\":\"\",\"zerolinecolor\":\"white\",\"gridwidth\":2},\"yaxis\":{\"backgroundcolor\":\"#E5ECF6\",\"gridcolor\":\"white\",\"linecolor\":\"white\",\"showbackground\":true,\"ticks\":\"\",\"zerolinecolor\":\"white\",\"gridwidth\":2},\"zaxis\":{\"backgroundcolor\":\"#E5ECF6\",\"gridcolor\":\"white\",\"linecolor\":\"white\",\"showbackground\":true,\"ticks\":\"\",\"zerolinecolor\":\"white\",\"gridwidth\":2}},\"shapedefaults\":{\"line\":{\"color\":\"#2a3f5f\"}},\"annotationdefaults\":{\"arrowcolor\":\"#2a3f5f\",\"arrowhead\":0,\"arrowwidth\":1},\"geo\":{\"bgcolor\":\"white\",\"landcolor\":\"#E5ECF6\",\"subunitcolor\":\"white\",\"showland\":true,\"showlakes\":true,\"lakecolor\":\"white\"},\"title\":{\"x\":0.05},\"mapbox\":{\"style\":\"light\"}}},\"xaxis\":{\"anchor\":\"y\",\"domain\":[0.0,1.0],\"title\":{\"text\":\"CO2Emissions\"}},\"yaxis\":{\"anchor\":\"x\",\"domain\":[0.0,1.0],\"title\":{\"text\":\"count\"}},\"legend\":{\"tracegroupgap\":0},\"margin\":{\"t\":60},\"barmode\":\"relative\"},                        {\"responsive\": true}                    ).then(function(){\n",
       "                            \n",
       "var gd = document.getElementById('319ea540-63bc-406b-a7c4-95ca4a0fc957');\n",
       "var x = new MutationObserver(function (mutations, observer) {{\n",
       "        var display = window.getComputedStyle(gd).display;\n",
       "        if (!display || display === 'none') {{\n",
       "            console.log([gd, 'removed!']);\n",
       "            Plotly.purge(gd);\n",
       "            observer.disconnect();\n",
       "        }}\n",
       "}});\n",
       "\n",
       "// Listen for the removal of the full notebook cells\n",
       "var notebookContainer = gd.closest('#notebook-container');\n",
       "if (notebookContainer) {{\n",
       "    x.observe(notebookContainer, {childList: true});\n",
       "}}\n",
       "\n",
       "// Listen for the clearing of the current output cell\n",
       "var outputEl = gd.closest('.output');\n",
       "if (outputEl) {{\n",
       "    x.observe(outputEl, {childList: true});\n",
       "}}\n",
       "\n",
       "                        })                };                            </script>        </div>\n",
       "</body>\n",
       "</html>"
      ]
     },
     "metadata": {},
     "output_type": "display_data"
    }
   ],
   "source": [
    "px.histogram(data,'CO2Emissions')"
   ]
  },
  {
   "cell_type": "markdown",
   "metadata": {
    "id": "f-QiQMgi4O3c"
   },
   "source": [
    "**Explanation**: *So, what do you see in the distribution? In many cases, you want a bell distribution where it gradually goes up and then down.*\n",
    "\n",
    "*The histogram shows the distribution of CO₂ Emissions in different amounts. Most data points are concentrated around low emissions, with over 40 measurements having CO₂ emissions close to 100. Fewer measurements are seen at higher levels, with emissions between 300 and 400 being the next most common. Very few measurements are recorded at extremely low or very high levels. This suggests that most of the time, CO₂ emissions are relatively low, but there are still notable instances of higher emissions.*\n"
   ]
  },
  {
   "cell_type": "markdown",
   "metadata": {
    "id": "hD4rre-N4O5L"
   },
   "source": [
    "**Goal 10: Create a segmented histogram**\n",
    "\n",
    "The goal is to create a histogram of CO₂ Emissions segmented by Traffic Condition to visually compare how different traffic conditions (such as free flow, moderate, or heavy traffic) impact the distribution of the amount of CO₂ released. This helps identify which traffic conditions contribute the most to air pollution and can guide efforts to reduce emissions in those scenarios."
   ]
  },
  {
   "cell_type": "markdown",
   "metadata": {
    "id": "9QG2bXKi7r7C"
   },
   "source": [
    "#### Blockly"
   ]
  },
  {
   "cell_type": "markdown",
   "metadata": {
    "id": "pG0MITCd7xJC"
   },
   "source": [
    "\n",
    "**Step 1 - Call the histogram function from Plotly**\n",
    "\n",
    "To make a segmented histogram, we first need to call the histogram function with our plotly library (px).\n",
    "Get a DO block for the **px** variable from the Variable menu and select the **histogram** function.\n"
   ]
  },
  {
   "cell_type": "markdown",
   "metadata": {
    "id": "Zy2Az7gr7xNC"
   },
   "source": [
    "\n",
    "**Step 2 - Tell what data to use for the line plot**\n",
    "\n",
    "In order to make a plot, we need to choose the source from which data we want to plot from. In this case, our dataset is stored in the dataframe **data**\n"
   ]
  },
  {
   "cell_type": "markdown",
   "metadata": {
    "id": "YqO-oMVT7xO9"
   },
   "source": [
    "\n",
    "**Step 3 - Tell Plotly what columns to look at**\n",
    "\n",
    "So, what variable do we want to look at?\n",
    "\n",
    "From this Text menu, drag one Quote “” block.  Type the attribute **CO2Emissions**.\n"
   ]
  },
  {
   "cell_type": "markdown",
   "metadata": {
    "id": "4hUUWdVx7xQv"
   },
   "source": [
    "\n",
    "**Step 4 - Tell Python to show colors by TrafficCondition**\n",
    "\n",
    "Let’s see if we can break it down by colors so it’s a bit easier to see.\n",
    "From this FreeStyle menu, drag one Quote “” block.  \n",
    "Type the attribute **‘TrafficCondition’**.\n"
   ]
  },
  {
   "cell_type": "markdown",
   "metadata": {
    "id": "wO0GJk_b7xSi"
   },
   "source": [
    "\n",
    "**Step 5 - Connect the blocks to run the code**\n",
    "\n",
    "Connect the blocks to run the code!\n",
    "  \n",
    "![](https://pbs.twimg.com/media/GZks24GXMAgikWu?format=png&name=900x900)"
   ]
  },
  {
   "cell_type": "code",
   "execution_count": null,
   "metadata": {},
   "outputs": [],
   "source": [
    "#blocks code\n"
   ]
  },
  {
   "cell_type": "markdown",
   "metadata": {
    "id": "RYrYJxwx8LOT"
   },
   "source": [
    "#### Freehand"
   ]
  },
  {
   "cell_type": "markdown",
   "metadata": {
    "id": "q1rRae1H8Mp8"
   },
   "source": [
    "**Step 1 - Call the histogram function from Plotly**\n",
    "\n",
    "To make a segmented histogram, we first need to call the histogram function with our plotly library (px).\n",
    "\n",
    "`px.histogram()`\n"
   ]
  },
  {
   "cell_type": "markdown",
   "metadata": {
    "id": "JPSGQfP08Ms3"
   },
   "source": [
    "\n",
    "\n",
    "**Step 2 - Tell what data to use for the line plot**\n",
    "\n",
    "In order to make a plot, we need to choose the source from which data we want to plot from. In this case, our dataset is stored in the dataframe data.\n",
    "\n",
    "`px.histogram(data)`\n"
   ]
  },
  {
   "cell_type": "markdown",
   "metadata": {
    "id": "Ovxqt6yK8MvJ"
   },
   "source": [
    "\n",
    "**Step 3 - Tell Plotly what columns to look at**\n",
    "\n",
    "So what variable do we want to look at? In this case, let’s look at CO2Emissions.\n",
    "\n",
    "`px.histogram(data,'CO2Emissions')`\n"
   ]
  },
  {
   "cell_type": "markdown",
   "metadata": {
    "id": "93lf9b_08Mx4"
   },
   "source": [
    "\n",
    "**Step 4 - Tell Python to show colors by “TrafficCondition”**\n",
    "\n",
    "Let’s see if we can break it down by colors so it’s a bit easier to see.\n",
    "\n",
    "`px.histogram(data,’CO2Emissions',color='TrafficCondition')`\n",
    "\n",
    "\n",
    "\n"
   ]
  },
  {
   "cell_type": "markdown",
   "metadata": {
    "id": "TY57aGs18M0d"
   },
   "source": [
    "\n",
    "**Step 5 - Run the code**\n",
    "\n",
    "Hit ‘control’ and ‘enter’ at the same time to run the code!\n",
    "\n",
    "![](https://pbs.twimg.com/media/GZksinhWUAcbi9P?format=jpg&name=medium)"
   ]
  },
  {
   "cell_type": "markdown",
   "metadata": {
    "id": "MKOeDX5z8M20"
   },
   "source": [
    "**Your Turn**: Create a segmented histogram to visualize the distribution of CO₂ Emissions, using different colors to represent various Traffic Conditions. To do that, use the **histogram**() function again, having the data as the dataframe, the ‘CO2Emissions' as the numerical data, and the TrafficCondition as the categorical variable to segment it (color='TrafficCondition')."
   ]
  },
  {
   "cell_type": "code",
   "execution_count": 38,
   "metadata": {
    "colab": {
     "base_uri": "https://localhost:8080/",
     "height": 542
    },
    "id": "ID8XGY-A9CBx",
    "outputId": "d48ac935-10af-4d7e-bd04-77caddf13310"
   },
   "outputs": [
    {
     "data": {
      "text/html": [
       "<html>\n",
       "<head><meta charset=\"utf-8\" /></head>\n",
       "<body>\n",
       "    <div>            <script src=\"https://cdnjs.cloudflare.com/ajax/libs/mathjax/2.7.5/MathJax.js?config=TeX-AMS-MML_SVG\"></script><script type=\"text/javascript\">if (window.MathJax && window.MathJax.Hub && window.MathJax.Hub.Config) {window.MathJax.Hub.Config({SVG: {font: \"STIX-Web\"}});}</script>                <script type=\"text/javascript\">window.PlotlyConfig = {MathJaxConfig: 'local'};</script>\n",
       "        <script charset=\"utf-8\" src=\"https://cdn.plot.ly/plotly-2.35.2.min.js\"></script>                <div id=\"4ec33f9f-f2f7-4cb7-a73d-abc3379878b2\" class=\"plotly-graph-div\" style=\"height:525px; width:100%;\"></div>            <script type=\"text/javascript\">                                    window.PLOTLYENV=window.PLOTLYENV || {};                                    if (document.getElementById(\"4ec33f9f-f2f7-4cb7-a73d-abc3379878b2\")) {                    Plotly.newPlot(                        \"4ec33f9f-f2f7-4cb7-a73d-abc3379878b2\",                        [{\"alignmentgroup\":\"True\",\"bingroup\":\"x\",\"hovertemplate\":\"TrafficCondition=Free Flow\\u003cbr\\u003eCO2Emissions=%{x}\\u003cbr\\u003ecount=%{y}\\u003cextra\\u003e\\u003c\\u002fextra\\u003e\",\"legendgroup\":\"Free Flow\",\"marker\":{\"color\":\"#636efa\",\"pattern\":{\"shape\":\"\"}},\"name\":\"Free Flow\",\"offsetgroup\":\"Free Flow\",\"orientation\":\"v\",\"showlegend\":true,\"x\":[33.89830508,33.89830508,25.42372881,42.37288136,33.89830508,59.3220339,33.89830508,42.37288136,33.89830508,42.37288136,42.37288136,50.84745763,33.89830508,8.474576271,16.94915254,42.37288136,25.42372881,33.89830508,59.3220339,42.37288136,59.3220339,42.37288136,0.0,59.3220339,76.27118644,50.84745763,50.84745763,42.37288136,33.89830508,50.84745763,50.84745763,42.37288136,42.37288136,33.89830508,42.37288136,16.94915254,25.42372881,42.37288136,25.42372881,42.37288136,25.42372881,25.42372881,25.42372881,50.84745763,76.27118644,33.89830508,50.84745763,33.89830508,42.37288136,33.89830508],\"xaxis\":\"x\",\"yaxis\":\"y\",\"type\":\"histogram\"},{\"alignmentgroup\":\"True\",\"bingroup\":\"x\",\"hovertemplate\":\"TrafficCondition=Moderate\\u003cbr\\u003eCO2Emissions=%{x}\\u003cbr\\u003ecount=%{y}\\u003cextra\\u003e\\u003c\\u002fextra\\u003e\",\"legendgroup\":\"Moderate\",\"marker\":{\"color\":\"#EF553B\",\"pattern\":{\"shape\":\"\"}},\"name\":\"Moderate\",\"offsetgroup\":\"Moderate\",\"orientation\":\"v\",\"showlegend\":true,\"x\":[313.559322,296.6101695,330.5084746,254.2372881,305.0847458,296.6101695,313.559322,194.9152542,305.0847458,245.7627119,211.8644068,271.1864407,254.2372881,313.559322,220.3389831,288.1355932,296.6101695,262.7118644,296.6101695,245.7627119,322.0338983,254.2372881,330.5084746,313.559322,279.6610169,288.1355932,322.0338983,338.9830508,296.6101695,211.8644068,237.2881356,228.8135593,245.7627119,347.4576271,296.6101695,296.6101695,313.559322,288.1355932,262.7118644,254.2372881,288.1355932,305.0847458,254.2372881,194.9152542,271.1864407,271.1864407,271.1864407,279.6610169,169.4915254,262.7118644],\"xaxis\":\"x\",\"yaxis\":\"y\",\"type\":\"histogram\"},{\"alignmentgroup\":\"True\",\"bingroup\":\"x\",\"hovertemplate\":\"TrafficCondition=Heavy\\u003cbr\\u003eCO2Emissions=%{x}\\u003cbr\\u003ecount=%{y}\\u003cextra\\u003e\\u003c\\u002fextra\\u003e\",\"legendgroup\":\"Heavy\",\"marker\":{\"color\":\"#00cc96\",\"pattern\":{\"shape\":\"\"}},\"name\":\"Heavy\",\"offsetgroup\":\"Heavy\",\"orientation\":\"v\",\"showlegend\":true,\"x\":[423.7288136,347.4576271,415.2542373,389.8305085,406.779661,474.5762712,296.6101695,449.1525424,406.779661,432.2033898,347.4576271,364.4067797,381.3559322,338.9830508,347.4576271,364.4067797,381.3559322,483.0508475,500.0,338.9830508,398.3050847,330.5084746,483.0508475,330.5084746,398.3050847,423.7288136,322.0338983,330.5084746,389.8305085,406.779661,432.2033898,457.6271186,389.8305085,347.4576271,389.8305085,432.2033898,389.8305085,381.3559322,322.0338983,372.8813559,389.8305085,347.4576271,347.4576271,415.2542373,398.3050847,355.9322034,338.9830508,355.9322034,372.8813559,347.4576271],\"xaxis\":\"x\",\"yaxis\":\"y\",\"type\":\"histogram\"}],                        {\"template\":{\"data\":{\"histogram2dcontour\":[{\"type\":\"histogram2dcontour\",\"colorbar\":{\"outlinewidth\":0,\"ticks\":\"\"},\"colorscale\":[[0.0,\"#0d0887\"],[0.1111111111111111,\"#46039f\"],[0.2222222222222222,\"#7201a8\"],[0.3333333333333333,\"#9c179e\"],[0.4444444444444444,\"#bd3786\"],[0.5555555555555556,\"#d8576b\"],[0.6666666666666666,\"#ed7953\"],[0.7777777777777778,\"#fb9f3a\"],[0.8888888888888888,\"#fdca26\"],[1.0,\"#f0f921\"]]}],\"choropleth\":[{\"type\":\"choropleth\",\"colorbar\":{\"outlinewidth\":0,\"ticks\":\"\"}}],\"histogram2d\":[{\"type\":\"histogram2d\",\"colorbar\":{\"outlinewidth\":0,\"ticks\":\"\"},\"colorscale\":[[0.0,\"#0d0887\"],[0.1111111111111111,\"#46039f\"],[0.2222222222222222,\"#7201a8\"],[0.3333333333333333,\"#9c179e\"],[0.4444444444444444,\"#bd3786\"],[0.5555555555555556,\"#d8576b\"],[0.6666666666666666,\"#ed7953\"],[0.7777777777777778,\"#fb9f3a\"],[0.8888888888888888,\"#fdca26\"],[1.0,\"#f0f921\"]]}],\"heatmap\":[{\"type\":\"heatmap\",\"colorbar\":{\"outlinewidth\":0,\"ticks\":\"\"},\"colorscale\":[[0.0,\"#0d0887\"],[0.1111111111111111,\"#46039f\"],[0.2222222222222222,\"#7201a8\"],[0.3333333333333333,\"#9c179e\"],[0.4444444444444444,\"#bd3786\"],[0.5555555555555556,\"#d8576b\"],[0.6666666666666666,\"#ed7953\"],[0.7777777777777778,\"#fb9f3a\"],[0.8888888888888888,\"#fdca26\"],[1.0,\"#f0f921\"]]}],\"heatmapgl\":[{\"type\":\"heatmapgl\",\"colorbar\":{\"outlinewidth\":0,\"ticks\":\"\"},\"colorscale\":[[0.0,\"#0d0887\"],[0.1111111111111111,\"#46039f\"],[0.2222222222222222,\"#7201a8\"],[0.3333333333333333,\"#9c179e\"],[0.4444444444444444,\"#bd3786\"],[0.5555555555555556,\"#d8576b\"],[0.6666666666666666,\"#ed7953\"],[0.7777777777777778,\"#fb9f3a\"],[0.8888888888888888,\"#fdca26\"],[1.0,\"#f0f921\"]]}],\"contourcarpet\":[{\"type\":\"contourcarpet\",\"colorbar\":{\"outlinewidth\":0,\"ticks\":\"\"}}],\"contour\":[{\"type\":\"contour\",\"colorbar\":{\"outlinewidth\":0,\"ticks\":\"\"},\"colorscale\":[[0.0,\"#0d0887\"],[0.1111111111111111,\"#46039f\"],[0.2222222222222222,\"#7201a8\"],[0.3333333333333333,\"#9c179e\"],[0.4444444444444444,\"#bd3786\"],[0.5555555555555556,\"#d8576b\"],[0.6666666666666666,\"#ed7953\"],[0.7777777777777778,\"#fb9f3a\"],[0.8888888888888888,\"#fdca26\"],[1.0,\"#f0f921\"]]}],\"surface\":[{\"type\":\"surface\",\"colorbar\":{\"outlinewidth\":0,\"ticks\":\"\"},\"colorscale\":[[0.0,\"#0d0887\"],[0.1111111111111111,\"#46039f\"],[0.2222222222222222,\"#7201a8\"],[0.3333333333333333,\"#9c179e\"],[0.4444444444444444,\"#bd3786\"],[0.5555555555555556,\"#d8576b\"],[0.6666666666666666,\"#ed7953\"],[0.7777777777777778,\"#fb9f3a\"],[0.8888888888888888,\"#fdca26\"],[1.0,\"#f0f921\"]]}],\"mesh3d\":[{\"type\":\"mesh3d\",\"colorbar\":{\"outlinewidth\":0,\"ticks\":\"\"}}],\"scatter\":[{\"fillpattern\":{\"fillmode\":\"overlay\",\"size\":10,\"solidity\":0.2},\"type\":\"scatter\"}],\"parcoords\":[{\"type\":\"parcoords\",\"line\":{\"colorbar\":{\"outlinewidth\":0,\"ticks\":\"\"}}}],\"scatterpolargl\":[{\"type\":\"scatterpolargl\",\"marker\":{\"colorbar\":{\"outlinewidth\":0,\"ticks\":\"\"}}}],\"bar\":[{\"error_x\":{\"color\":\"#2a3f5f\"},\"error_y\":{\"color\":\"#2a3f5f\"},\"marker\":{\"line\":{\"color\":\"#E5ECF6\",\"width\":0.5},\"pattern\":{\"fillmode\":\"overlay\",\"size\":10,\"solidity\":0.2}},\"type\":\"bar\"}],\"scattergeo\":[{\"type\":\"scattergeo\",\"marker\":{\"colorbar\":{\"outlinewidth\":0,\"ticks\":\"\"}}}],\"scatterpolar\":[{\"type\":\"scatterpolar\",\"marker\":{\"colorbar\":{\"outlinewidth\":0,\"ticks\":\"\"}}}],\"histogram\":[{\"marker\":{\"pattern\":{\"fillmode\":\"overlay\",\"size\":10,\"solidity\":0.2}},\"type\":\"histogram\"}],\"scattergl\":[{\"type\":\"scattergl\",\"marker\":{\"colorbar\":{\"outlinewidth\":0,\"ticks\":\"\"}}}],\"scatter3d\":[{\"type\":\"scatter3d\",\"line\":{\"colorbar\":{\"outlinewidth\":0,\"ticks\":\"\"}},\"marker\":{\"colorbar\":{\"outlinewidth\":0,\"ticks\":\"\"}}}],\"scattermapbox\":[{\"type\":\"scattermapbox\",\"marker\":{\"colorbar\":{\"outlinewidth\":0,\"ticks\":\"\"}}}],\"scatterternary\":[{\"type\":\"scatterternary\",\"marker\":{\"colorbar\":{\"outlinewidth\":0,\"ticks\":\"\"}}}],\"scattercarpet\":[{\"type\":\"scattercarpet\",\"marker\":{\"colorbar\":{\"outlinewidth\":0,\"ticks\":\"\"}}}],\"carpet\":[{\"aaxis\":{\"endlinecolor\":\"#2a3f5f\",\"gridcolor\":\"white\",\"linecolor\":\"white\",\"minorgridcolor\":\"white\",\"startlinecolor\":\"#2a3f5f\"},\"baxis\":{\"endlinecolor\":\"#2a3f5f\",\"gridcolor\":\"white\",\"linecolor\":\"white\",\"minorgridcolor\":\"white\",\"startlinecolor\":\"#2a3f5f\"},\"type\":\"carpet\"}],\"table\":[{\"cells\":{\"fill\":{\"color\":\"#EBF0F8\"},\"line\":{\"color\":\"white\"}},\"header\":{\"fill\":{\"color\":\"#C8D4E3\"},\"line\":{\"color\":\"white\"}},\"type\":\"table\"}],\"barpolar\":[{\"marker\":{\"line\":{\"color\":\"#E5ECF6\",\"width\":0.5},\"pattern\":{\"fillmode\":\"overlay\",\"size\":10,\"solidity\":0.2}},\"type\":\"barpolar\"}],\"pie\":[{\"automargin\":true,\"type\":\"pie\"}]},\"layout\":{\"autotypenumbers\":\"strict\",\"colorway\":[\"#636efa\",\"#EF553B\",\"#00cc96\",\"#ab63fa\",\"#FFA15A\",\"#19d3f3\",\"#FF6692\",\"#B6E880\",\"#FF97FF\",\"#FECB52\"],\"font\":{\"color\":\"#2a3f5f\"},\"hovermode\":\"closest\",\"hoverlabel\":{\"align\":\"left\"},\"paper_bgcolor\":\"white\",\"plot_bgcolor\":\"#E5ECF6\",\"polar\":{\"bgcolor\":\"#E5ECF6\",\"angularaxis\":{\"gridcolor\":\"white\",\"linecolor\":\"white\",\"ticks\":\"\"},\"radialaxis\":{\"gridcolor\":\"white\",\"linecolor\":\"white\",\"ticks\":\"\"}},\"ternary\":{\"bgcolor\":\"#E5ECF6\",\"aaxis\":{\"gridcolor\":\"white\",\"linecolor\":\"white\",\"ticks\":\"\"},\"baxis\":{\"gridcolor\":\"white\",\"linecolor\":\"white\",\"ticks\":\"\"},\"caxis\":{\"gridcolor\":\"white\",\"linecolor\":\"white\",\"ticks\":\"\"}},\"coloraxis\":{\"colorbar\":{\"outlinewidth\":0,\"ticks\":\"\"}},\"colorscale\":{\"sequential\":[[0.0,\"#0d0887\"],[0.1111111111111111,\"#46039f\"],[0.2222222222222222,\"#7201a8\"],[0.3333333333333333,\"#9c179e\"],[0.4444444444444444,\"#bd3786\"],[0.5555555555555556,\"#d8576b\"],[0.6666666666666666,\"#ed7953\"],[0.7777777777777778,\"#fb9f3a\"],[0.8888888888888888,\"#fdca26\"],[1.0,\"#f0f921\"]],\"sequentialminus\":[[0.0,\"#0d0887\"],[0.1111111111111111,\"#46039f\"],[0.2222222222222222,\"#7201a8\"],[0.3333333333333333,\"#9c179e\"],[0.4444444444444444,\"#bd3786\"],[0.5555555555555556,\"#d8576b\"],[0.6666666666666666,\"#ed7953\"],[0.7777777777777778,\"#fb9f3a\"],[0.8888888888888888,\"#fdca26\"],[1.0,\"#f0f921\"]],\"diverging\":[[0,\"#8e0152\"],[0.1,\"#c51b7d\"],[0.2,\"#de77ae\"],[0.3,\"#f1b6da\"],[0.4,\"#fde0ef\"],[0.5,\"#f7f7f7\"],[0.6,\"#e6f5d0\"],[0.7,\"#b8e186\"],[0.8,\"#7fbc41\"],[0.9,\"#4d9221\"],[1,\"#276419\"]]},\"xaxis\":{\"gridcolor\":\"white\",\"linecolor\":\"white\",\"ticks\":\"\",\"title\":{\"standoff\":15},\"zerolinecolor\":\"white\",\"automargin\":true,\"zerolinewidth\":2},\"yaxis\":{\"gridcolor\":\"white\",\"linecolor\":\"white\",\"ticks\":\"\",\"title\":{\"standoff\":15},\"zerolinecolor\":\"white\",\"automargin\":true,\"zerolinewidth\":2},\"scene\":{\"xaxis\":{\"backgroundcolor\":\"#E5ECF6\",\"gridcolor\":\"white\",\"linecolor\":\"white\",\"showbackground\":true,\"ticks\":\"\",\"zerolinecolor\":\"white\",\"gridwidth\":2},\"yaxis\":{\"backgroundcolor\":\"#E5ECF6\",\"gridcolor\":\"white\",\"linecolor\":\"white\",\"showbackground\":true,\"ticks\":\"\",\"zerolinecolor\":\"white\",\"gridwidth\":2},\"zaxis\":{\"backgroundcolor\":\"#E5ECF6\",\"gridcolor\":\"white\",\"linecolor\":\"white\",\"showbackground\":true,\"ticks\":\"\",\"zerolinecolor\":\"white\",\"gridwidth\":2}},\"shapedefaults\":{\"line\":{\"color\":\"#2a3f5f\"}},\"annotationdefaults\":{\"arrowcolor\":\"#2a3f5f\",\"arrowhead\":0,\"arrowwidth\":1},\"geo\":{\"bgcolor\":\"white\",\"landcolor\":\"#E5ECF6\",\"subunitcolor\":\"white\",\"showland\":true,\"showlakes\":true,\"lakecolor\":\"white\"},\"title\":{\"x\":0.05},\"mapbox\":{\"style\":\"light\"}}},\"xaxis\":{\"anchor\":\"y\",\"domain\":[0.0,1.0],\"title\":{\"text\":\"CO2Emissions\"}},\"yaxis\":{\"anchor\":\"x\",\"domain\":[0.0,1.0],\"title\":{\"text\":\"count\"}},\"legend\":{\"title\":{\"text\":\"TrafficCondition\"},\"tracegroupgap\":0},\"margin\":{\"t\":60},\"barmode\":\"relative\"},                        {\"responsive\": true}                    ).then(function(){\n",
       "                            \n",
       "var gd = document.getElementById('4ec33f9f-f2f7-4cb7-a73d-abc3379878b2');\n",
       "var x = new MutationObserver(function (mutations, observer) {{\n",
       "        var display = window.getComputedStyle(gd).display;\n",
       "        if (!display || display === 'none') {{\n",
       "            console.log([gd, 'removed!']);\n",
       "            Plotly.purge(gd);\n",
       "            observer.disconnect();\n",
       "        }}\n",
       "}});\n",
       "\n",
       "// Listen for the removal of the full notebook cells\n",
       "var notebookContainer = gd.closest('#notebook-container');\n",
       "if (notebookContainer) {{\n",
       "    x.observe(notebookContainer, {childList: true});\n",
       "}}\n",
       "\n",
       "// Listen for the clearing of the current output cell\n",
       "var outputEl = gd.closest('.output');\n",
       "if (outputEl) {{\n",
       "    x.observe(outputEl, {childList: true});\n",
       "}}\n",
       "\n",
       "                        })                };                            </script>        </div>\n",
       "</body>\n",
       "</html>"
      ]
     },
     "metadata": {},
     "output_type": "display_data"
    }
   ],
   "source": [
    "px.histogram(data,'CO2Emissions',color='TrafficCondition')"
   ]
  },
  {
   "cell_type": "markdown",
   "metadata": {
    "id": "N1FVaPB_8M8z"
   },
   "source": [
    "**Explanation**: *This graph helps show how traffic affects the distribution of pollution levels, as traffic gets heavier, emissions generally increase.*\n",
    "\n",
    "*This new histogram shows the distribution of CO₂ Emissions under different Traffic Conditions. The bars are colored to represent three types of traffic: Free Flow (blue), Moderate (orange), and Heavy (green). Most emissions are higher when traffic is heavier, with the green bars representing the highest CO₂ emissions. In contrast, during Free-flow traffic, there are many instances of little to no emissions (blue bars near zero). Moderate traffic conditions have emissions that are mostly between 100 and 300.*\n"
   ]
  },
  {
   "cell_type": "markdown",
   "metadata": {
    "id": "NGX_zcqc9LG_"
   },
   "source": [
    "## WHAT DID YOU LEARN?"
   ]
  },
  {
   "cell_type": "markdown",
   "metadata": {
    "id": "XaPY37dW9qsn"
   },
   "source": [
    "\n",
    "In this lesson, we've covered important skills and knowledge about data visualization. We’ve learned to create and think through how to understand scatter plots, bar plots, line plots, and histograms. These tools help us identify patterns and trends, which are great for making decisions based on data.\n",
    "\n",
    "We've also worked on dataframes and applied these visualization techniques to solve real-world scenarios. We can use Ethan's experience as an inspiration so that we'll be able to analyze traffic data, propose solutions, and create interactive graphs with plotly.express to improve traffic management and reduce congestion in your hometown.\n"
   ]
  },
  {
   "cell_type": "markdown",
   "metadata": {
    "id": "k8RoW-oB9qwi"
   },
   "source": [
    "## WHAT’S NEXT?"
   ]
  },
  {
   "cell_type": "markdown",
   "metadata": {
    "id": "31SNB25L9qzd"
   },
   "source": [
    "[Descriptive Statistics](Descriptive_Statistics.ipynb)"
   ]
  },
  {
   "cell_type": "markdown",
   "metadata": {
    "id": "YwwhFS6Q97-6"
   },
   "source": [
    "\n",
    "## TELL ME MORE"
   ]
  },
  {
   "cell_type": "markdown",
   "metadata": {
    "id": "FsV27XXm9-MZ"
   },
   "source": [
    "\n",
    "- [Datawhys Plotting Notebook](https://github.com/memphis-iis/datawhys-content-notebooks-python/blob/master/Plotting.ipynb)\n",
    "- [Datawhys Plotting Problem-Solving Notebook](https://github.com/memphis-iis/datawhys-content-notebooks-python/blob/master/Plotting-PS.ipynb)\n",
    "- **Art**: Data visualization is an art! Check out this [Population Pyramid activity](https://www.rcboe.org/cms/lib/GA01903614/Centricity/Domain/2849/Population_Pyramids-_introduction.docx).\n",
    "- **Math**: Learn about [scatter plots, bar graphs, line graphs, and histograms](https://www.mathsisfun.com/data/index.html). This resource includes step-by-step instructions on how to create and interpret these graphs, along with practice problems and real-world examples.\n",
    "- **Computer Science**: Learn more about [data representation, data manipulation, and data visualization techniques](https://studio.code.org/s/explore-data-1-2021) using programming languages such as Python.\n",
    "- **Career Connections**: Are you interested in becoming a data scientist? This resource offers an overview of [Data Science and the career prospects](https://www.youtube.com/watch?v=X3paOmcrTjQ&themeRefresh=1) for data scientists.\n",
    "This resource provides an [overview of 15 project ideas](https://www.polygence.org/blog/data-science-passion-project-ideas-for-high-school-students) for you to use your data science knowledge to explore your passion!\n",
    "- [Data visualization with D3 playlist](https://www.youtube.com/watch?v=q6GWkbUWFBg&list=PLhGp6N0DI_1TSgS8KqsGQMyGlVIatwVXn) - freeCodeCamp (video)\n",
    "- [Excel Data Visualization Course](https://youtu.be/VV8iRJ-DS0A?si=2Kp4Qvi2Ut0vXyT9) - freeCodeCamp (video)\n",
    "- [Data Visualization](https://towardsdatascience.com/data-visualization/home) - Towards Data Science (articles)"
   ]
  }
 ],
 "metadata": {
  "colab": {
   "provenance": []
  },
  "kernelspec": {
   "display_name": "Python 3 (ipykernel)",
   "language": "python",
   "name": "python3"
  },
  "language_info": {
   "codemirror_mode": {
    "name": "ipython",
    "version": 3
   },
   "file_extension": ".py",
   "mimetype": "text/x-python",
   "name": "python",
   "nbconvert_exporter": "python",
   "pygments_lexer": "ipython3",
   "version": "3.10.6"
  }
 },
 "nbformat": 4,
 "nbformat_minor": 4
}
