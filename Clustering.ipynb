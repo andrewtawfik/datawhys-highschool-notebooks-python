{
 "cells": [
  {
   "cell_type": "markdown",
   "metadata": {
    "id": "zCAy0QpKz59Z"
   },
   "source": [
    "# Clustering"
   ]
  },
  {
   "cell_type": "markdown",
   "metadata": {
    "id": "yeZeS7tCz-F7"
   },
   "source": [
    "## ANTICIPATED TIME"
   ]
  },
  {
   "cell_type": "markdown",
   "metadata": {
    "id": "rC3p1Qt90HHW"
   },
   "source": [
    "2 hours."
   ]
  },
  {
   "cell_type": "markdown",
   "metadata": {
    "id": "o08I57Al0JkF"
   },
   "source": [
    "## WHAT YOU WILL LEARN\n"
   ]
  },
  {
   "cell_type": "markdown",
   "metadata": {
    "id": "6Y7efbam0LUN"
   },
   "source": [
    "- What is a cluster?\n",
    "- When do I use clustering?\n",
    "- What are the different types of clustering methods?\n",
    "- What do I use to find patterns within a cluster?\n",
    "- How do I evaluate the effectiveness of clustering?\n"
   ]
  },
  {
   "cell_type": "markdown",
   "metadata": {
    "id": "kBHPGru00SN7"
   },
   "source": [
    "\n",
    "## DEFINITIONS YOU’LL NEED TO KNOW"
   ]
  },
  {
   "cell_type": "markdown",
   "metadata": {
    "id": "yl8SsrIk0bEQ"
   },
   "source": [
    "\n",
    "- Cluster - a group of data points that are similar to each other than to points in other clusters.\n",
    "- Seeds - the initial centroids or centers of the clusters in k-means clustering.\n",
    "- Hierarchical clustering - dividing clustering in a way that makes a tree of clusters inside the clusters.\n",
    "- Agglomerative clustering - small clusters being combined until a big cluster is formed.\n",
    "- Divisive clustering - a big cluster is split up into smaller clusters until all pieces of info are alone.\n",
    "- Partitioning - a method of clustering that groups data based on certain rules; sometimes we call this optimization.\n",
    "- K-means Clustering - a common method of partitioning.\n",
    "- Centroid - the average of data in each cluster.\n",
    "- Feature - something unique about the data that helps describe a data point.\n"
   ]
  },
  {
   "cell_type": "markdown",
   "metadata": {
    "id": "BMOe4mPw0gOW"
   },
   "source": [
    "## SCENARIO"
   ]
  },
  {
   "cell_type": "markdown",
   "metadata": {
    "deletable": false,
    "editable": false,
    "html": "<iframe width='560' height='315' src='https://www.youtube.com/embed/zSkkKqiA5H8?si=qXS-hW9hzQlhNqPp' title='YouTube video player' frameborder='0' allow='accelerometer; autoplay; clipboard-write; encrypted-media; gyroscope; picture-in-picture; web-share' referrerpolicy='strict-origin-when-cross-origin' allowfullscreen></iframe>",
    "id": "npqY6ZiSbavX",
    "slideshow": {
     "slide_type": ""
    },
    "tags": []
   },
   "source": [
    "\n",
    "Ethan, Angelina, Diego, and Kiana have been trying to solve the problems of CO2 emissions in their city. They have collected data on CO2 levels from neighborhoods, cars, factories, and parks in different areas. Diego suggested for the team to use clustering, which will allow them to group neighborhoods that have similar levels of CO2 together. They were wondering if maybe neighbors that have high levels of CO2 could based on the areas people lived or the cars they drove? They got thinking more and started thinking about how many clusters to look at based on the type of data they had. So thought that clustering based on the data would really help them discover which areas need the most attention to help reduce pollution and make cleaner air for their city.\n"
   ]
  },
  {
   "cell_type": "markdown",
   "metadata": {
    "id": "7SCeUuq61g6t"
   },
   "source": [
    "## WHAT DO I NEED TO KNOW?\n"
   ]
  },
  {
   "cell_type": "markdown",
   "metadata": {
    "id": "lI-cMDtr1HK7"
   },
   "source": [
    "\n",
    "\n",
    "**Grouping similar data types into clusters**\n",
    "\n",
    "Have you ever wondered if there are any hidden patterns that you might not recognize at first? Well, you are in luck because data science can help with clustering that puts the data into different kinds of groups.\n",
    "\n",
    "Imagine having a forest that has a bunch of fallen leaves. We could group them together based on size, color, and other things. We could create “clusters” for types of tree (oak, pecan, etc) and then within those maybe leaves for specific oak trees, pecan trees, etc.\n",
    "\n",
    "**Variables as features**\n",
    "\n",
    "While analyzing data, each variable in a data set can be viewed as a feature. Features are considered to be something unique about the data that helps describe a data point. Once we start to look at all the data points, they become helpful because they can help us think through how similar or different they are. Better yet, they can calculate the distances between data points.\n",
    "\n",
    "Smaller distance between data points? Probably should be grouped together\n",
    "Bigger distance between data points? Probably should not be grouped together\n",
    "\n",
    "**Hierarchical clustering**\n",
    "\n",
    "*So how do we get started with clustering?*\n",
    "\n",
    "In the **agglomerative clustering** way, it says “Hey, we are starting to seem similar. Let’s combine”. We start where each separate data point is considered it’s own cluster on the bottom and then merges with similar ones to make new clusters. It would then do this until there is one large cluster at the top. So it’s like you were working from the bottom to the top to find the cluster.\n",
    "\n",
    "**Divisive clustering** way is kinda the opposite and says “Hey, maybe we aren’t so similar. Let’s split”. It’s the top-down way where you start with one big cluster and then starts to split when the data clusters become different enough.\n",
    "\n",
    "Over time, we’ll create a tree-like structure that has all these different clusters. This helps analyze the relationship and thinking through how all the data points are related to each.\n",
    "\n"
   ]
  },
  {
   "cell_type": "markdown",
   "metadata": {
    "id": "H2GIK-cQ17vu"
   },
   "source": [
    "\n",
    "**Nonhierarchical methods**\n",
    "\n",
    "Not all clustering methods work like a tree, where we start with all data points as individuals and slowly group them (hierarchical). Some methods jump right into creating groups based on simple rules.\n",
    "\n",
    "One popular method for this is **partitioning**. **Partitioning**, also called **optimization**, clusters data based on certain rules. Think of it as dividing your data into sections based on specific guidelines, like sorting your closet by color, size, or even favorite items. Using partitioning, you could group the items in the closet based on certain characteristics, each of which items may have some similar or different characteristics from each other.\n",
    "There are different partitioning methods that help divide a lot of data into clear groups quickly. One common technique in partitioning is **k-means clustering**. How does it work? It works in a few main steps.\n",
    "\n",
    "We start by picking a few random points, called **“seeds**,” around which the clusters will form.\n",
    "The number of seeds equals the number of clusters we want. If you choose three seeds, you’re aiming for three clusters. The seeds are usually spread out from each other to capture different types of data points.\n",
    "\n",
    "Then, how could you decide the number of clusters? Deciding on the number of clusters is a key part of K-means clustering. If there are too few clusters, you might combine things that aren’t very similar. If there are too many clusters, you might end up with some that don’t have a clear purpose. Ideally, you want to find a balance where items within each cluster are close to each other, and clusters themselves are well-separated.\n",
    "\n",
    "Once you have your chosen number of clusters, assign each data point to the closest cluster based on its features. For instance, a photo showing a large, gray animal might get grouped with other large, gray animals.\n",
    "\n",
    "After grouping the data points, we calculate the **centroid**. The centroid is like the average point, showing the general center of each group based on all items in it. This represents the “heart” of each group and is recalculated each time we adjust the clusters. So new clusters = new centroid. Makes sense if you think about it.\n",
    "\n",
    "With new centroids, we might begin to wonder if some data points fit better in other clusters. So, we need to reassign them and recalculate the centroids until each cluster has the closest possible items, making the clusters well-defined.\n"
   ]
  },
  {
   "cell_type": "markdown",
   "metadata": {
    "id": "Xlu9SkQL2Jks"
   },
   "source": [
    "## YOUR TURN\n",
    "\n"
   ]
  },
  {
   "cell_type": "markdown",
   "metadata": {
    "id": "RsbnrI1O2RT_"
   },
   "source": [
    "Now that you understand what a cluster is and when to use it, it’s time to practice applying this concept! As you go through this, pay close attention to the different tools that you can use to identify patterns within a cluster and how the tools help us group data by it’s features."
   ]
  },
  {
   "cell_type": "markdown",
   "metadata": {
    "id": "Kgtlgv_p2UbT"
   },
   "source": [
    "### Goal 1: Importing the Pandas Library\n",
    "\n",
    "Need extra tools to help solve this problem? Well, we can bring in extra ‘libraries’ to help us do extra data science stuff. You can think of it like an ‘add-on’. In this case, we bring in pandas, which is a popular library for doing data science stuff.  "
   ]
  },
  {
   "cell_type": "markdown",
   "metadata": {
    "id": "b40eyGqm2k7d"
   },
   "source": [
    "**Step 1 - Starting the import**\n",
    "\n",
    "First, we need to set up a “command” to tell the computer what to do. In this case, “command” is to “import” to bring the add-on package in.\n",
    "\n",
    "Bring in the IMPORT menu, which can be helpful to bring in other data tools. In this case, we're bringing in the **import** block.\n"
   ]
  },
  {
   "cell_type": "markdown",
   "metadata": {
    "id": "sE845doo3ue0"
   },
   "source": [
    "\n",
    "**Step 2 - Telling what library to import**\n",
    "\n",
    "In the text area, we type the name of the library we want to import. A library is like an extra thing we bring in to give us more coding abilities. In our case, we will type out **pandas**, which will bring in some cool data manipulation features.\n"
   ]
  },
  {
   "cell_type": "markdown",
   "metadata": {
    "id": "3ZdIv94D3vuh"
   },
   "source": [
    "\n",
    "**Step 3 - Renaming the library so it’s easy to remember**\n",
    "\n",
    "Once you are done, put the **import** and **package** together in a single variable. This handy feature helps cut down on all the typing later on. You can call it whatever is easiest for you to remember. In the example below, we’ve put everything into pd, and we type it in the open area.\n"
   ]
  },
  {
   "cell_type": "markdown",
   "metadata": {
    "id": "QGZGxdzH3wrn"
   },
   "source": [
    "\n",
    "**Step 4 - Connect the blocks to run the code**\n",
    "\n",
    "Connect the blocks and run the code!\n",
    "\n",
    "![](https://pbs.twimg.com/media/GZYmOOpW8AAf7uc?format=png&name=240x240)"
   ]
  },
  {
   "cell_type": "markdown",
   "metadata": {
    "id": "2wTWK1Ja3-Ys"
   },
   "source": [
    "#### Freehand"
   ]
  },
  {
   "cell_type": "markdown",
   "metadata": {
    "id": "3R1I6lkP4FWf"
   },
   "source": [
    "\n",
    "**Step 1 - Starting the import**\n",
    "\n",
    "First, we need to set up a “command” to tell the computer what to do. In this case, “command” is to “import” to bring the add-on package in.\n"
   ]
  },
  {
   "cell_type": "markdown",
   "metadata": {
    "id": "7fdjydnG4G_T"
   },
   "source": [
    "\n",
    "**Step 2 - Telling what library to import**\n",
    "\n",
    "In the text area, we type the name of the library we want to import. A library is like an extra thing we bring in to give us more coding abilities. In our case, we will type out **pandas**, which will bring in some cool data manipulation features.\n"
   ]
  },
  {
   "cell_type": "markdown",
   "metadata": {
    "id": "TLJrSWph4IyD"
   },
   "source": [
    "\n",
    "**Step 3 - Renaming the library so it’s easy to remember**\n",
    "\n",
    "Once you are done, put the ‘import’ and ‘package’ together in a single variable. This handy feature helps cut down on all the typing later on. Feel free to use whatever name you want that will help you remember it later on. In the example below, we’ve put everything into **pd**.\n"
   ]
  },
  {
   "cell_type": "markdown",
   "metadata": {
    "id": "DXT9toLg4JsF"
   },
   "source": [
    "\n",
    "**Step 4 - Run the code**\n",
    "\n",
    "Hit ‘control’ and ‘enter’ at the same time to run the code!\n",
    "\n",
    "![](https://pbs.twimg.com/media/GZmkVCYWEA4oGso?format=jpg&name=small)"
   ]
  },
  {
   "cell_type": "markdown",
   "metadata": {
    "id": "RsBQFdPe4Wf9"
   },
   "source": [
    "**Your Turn**: Now it’s your turn! We’re going to dive into the pandas package, which helps us with some really cool data science things. First, let’s import the package and assign it to the variable “pd” to make it easier to use throughout our notebook."
   ]
  },
  {
   "cell_type": "code",
   "execution_count": 3,
   "metadata": {
    "id": "y8uqnJt34Yog"
   },
   "outputs": [],
   "source": [
    "import pandas as pd"
   ]
  },
  {
   "cell_type": "markdown",
   "metadata": {
    "id": "NIZ2Pm6P4ZZ0"
   },
   "source": [
    "**Explanation**: *Congrats!  Your attempts finally made it!  Now you have successfully imported the \"pandas\" package as the variable \"pd\"*."
   ]
  },
  {
   "cell_type": "markdown",
   "metadata": {
    "id": "VbjU_Eib4eg_"
   },
   "source": [
    "### Goal 2: Bringing in the Dataframe\n",
    "\n",
    "Let’s bring in the data that we want to look at.\n"
   ]
  },
  {
   "cell_type": "markdown",
   "metadata": {
    "id": "bdJptJ5x4h7Z"
   },
   "source": [
    "#### Blockly"
   ]
  },
  {
   "cell_type": "markdown",
   "metadata": {
    "id": "PAVDV5O34zAg"
   },
   "source": [
    "\n",
    "**Step 1 - Write out the variable name you want to use**\n",
    "\n",
    "Now that we’re all set with our new package to help us to do cool things, let’s bring the data into a variable and call it **dataframe**. Think of it as a digital spreadsheet with much more power to analyze and manipulate the data!\n",
    "\n",
    "In Blockly, bring in the VARIABLES menu."
   ]
  },
  {
   "cell_type": "markdown",
   "metadata": {
    "id": "FAKJgn1r41rj"
   },
   "source": [
    "\n",
    "\n",
    "**Step 2 - Assign the dataframe to the variable you created**\n",
    "\n",
    "Just like we did before, let’s type out a variable name. Rather than type out the full file name for our data, this easy to remember name will hold the data we bring in.\n",
    "\n",
    "In Blockly, go to the Variables and drag the Set block for the **dataframe** variable. This will allow us to assign the result of a function call to the variable. A function is basically code that does a specific task for us.\n"
   ]
  },
  {
   "cell_type": "markdown",
   "metadata": {
    "id": "G3gCSMaX5FrT"
   },
   "source": [
    "\n",
    "**Step 3 - Bring in the data**\n",
    "\n",
    "Now we need to look at the file that has all our data. To load our dataframe, we’ll use a simple command to bring in the file we need (CSV….Comma Separated Values). Let’s say we have a file called ‘datasets/AirQualityEmissions.csv' in the folder **‘datasets’**. We’re telling Python to read the CSV file and store it in a variable called **dataframe**.\n",
    "\n",
    "From the Variable menu, drag a DO block using the **pd** variable, go ahead with the do operation **read_csv**. The read_csv function reads a CSV file and returns a DataFrame object.\n",
    "\n",
    "In our case, let’s bring in the “datasets/AirQualityEmissions.csv\" (use the Quotes from the TEXT menu) because that is what Angelina is working with.\n"
   ]
  },
  {
   "cell_type": "markdown",
   "metadata": {
    "id": "mikn49h35HaB"
   },
   "source": [
    "\n",
    "**Step 4 - Display the variable**\n",
    "\n",
    "Let’s see it now by ‘displaying’ and showing our work.\n",
    "\n",
    "Drag the **dataframe** variable to the workspace, making it available for further use in our program. This step is more of a visualization step, as it allows us to see the variable in the Blockly workspace.\n"
   ]
  },
  {
   "cell_type": "markdown",
   "metadata": {
    "id": "pvejIdl05Iq4"
   },
   "source": [
    "\n",
    "**Step 5 - Connect the blocks to run the code**\n",
    "\n",
    "Connect the blocks and run the code!\n",
    "\n",
    "![](https://pbs.twimg.com/media/GaNzytBWAAAGX0n?format=png&name=small)"
   ]
  },
  {
   "cell_type": "markdown",
   "metadata": {
    "id": "5sOm0xgQ5pEU"
   },
   "source": [
    "#### Freehand"
   ]
  },
  {
   "cell_type": "markdown",
   "metadata": {
    "id": "G_yopwdp5qe8"
   },
   "source": [
    "**Step 1 - Write out the variable name you want to use**\n",
    "\n",
    "Now that we’re all set with our new package to help us to do cool things, let’s bring the data into a variable called **dataframe**. Think of it as a digital spreadsheet with much more power to analyze and manipulate the data!"
   ]
  },
  {
   "cell_type": "markdown",
   "metadata": {
    "id": "fVcoNFAA6mRJ"
   },
   "source": [
    "\n",
    "\n",
    "**Step 2 - Assign the dataframe to the variable you created**\n",
    "\n",
    "Just like we did before, let’s type out a variable name. Rather than type out the full file name for our data, this easy to remember name will hold the data we bring in.\n"
   ]
  },
  {
   "cell_type": "markdown",
   "metadata": {
    "id": "mj7vW0hm6oog"
   },
   "source": [
    "\n",
    "**Step 3 - Bring in the data**\n",
    "\n",
    "Now we need to look at the file that has all our data.\n",
    "\n",
    "To load our dataframe, we’ll use a simple command to bring in the file we need (CSV….Comma Separated Values). Let’s say we have a file called ‘AirQualityEmissions.csv' in the folder **‘datasets’**. We’re telling Python to read the CSV file and store it in a variable called **dataframe**. For this function, we need to specify the code as “pd.read_csv”, which makes the code read the csv file. This variable is now our dataframe!\n",
    "\n",
    "In our case, let’s bring in the “datasets/AirQualityEmissions.csv\" (user the Quotes from the TEXT menu) because that is what Kiana is working with.\n"
   ]
  },
  {
   "cell_type": "markdown",
   "metadata": {
    "id": "FODpdXGW6tTr"
   },
   "source": [
    "\n",
    "**Step 4 - Print the variable**\n",
    "\n",
    "Let’s see it now by ‘printing’ and showing our work.\n"
   ]
  },
  {
   "cell_type": "markdown",
   "metadata": {
    "id": "gcgiYVJo6uNx"
   },
   "source": [
    "\n",
    "**Step 5 - Run the code**\n",
    "\n",
    "Hit ‘control’ and ‘enter’ at the same time to run the code!\n",
    "\n",
    "![](https://pbs.twimg.com/media/GenW05YW8AA3PMJ?format=png&name=small)"
   ]
  },
  {
   "cell_type": "markdown",
   "metadata": {
    "id": "xurrab9x6_b0"
   },
   "source": [
    "**Your Turn**:  Now it’s your turn! We’re going to assign the data to a dataframe and print the name, which will help us categorize the data.\n",
    "\n",
    "\n"
   ]
  },
  {
   "cell_type": "code",
   "execution_count": 4,
   "metadata": {
    "colab": {
     "base_uri": "https://localhost:8080/",
     "height": 423
    },
    "id": "u-n6VfSW7IKy",
    "outputId": "f1866e02-07b8-4fd3-df1c-bf255da26952"
   },
   "outputs": [
    {
     "data": {
      "application/vnd.google.colaboratory.intrinsic+json": {
       "summary": "{\n  \"name\": \"dataframe\",\n  \"rows\": 1845,\n  \"fields\": [\n    {\n      \"column\": \"Methane\",\n      \"properties\": {\n        \"dtype\": \"number\",\n        \"std\": 190,\n        \"min\": 263,\n        \"max\": 1266,\n        \"num_unique_values\": 650,\n        \"samples\": [\n          484,\n          530,\n          839\n        ],\n        \"semantic_type\": \"\",\n        \"description\": \"\"\n      }\n    },\n    {\n      \"column\": \"NOxEmissions\",\n      \"properties\": {\n        \"dtype\": \"number\",\n        \"std\": 173,\n        \"min\": 346,\n        \"max\": 1388,\n        \"num_unique_values\": 610,\n        \"samples\": [\n          623,\n          475,\n          705\n        ],\n        \"semantic_type\": \"\",\n        \"description\": \"\"\n      }\n    },\n    {\n      \"column\": \"PM2.5Emissions\",\n      \"properties\": {\n        \"dtype\": \"number\",\n        \"std\": 208,\n        \"min\": 753,\n        \"max\": 1738,\n        \"num_unique_values\": 718,\n        \"samples\": [\n          915,\n          1508,\n          1417\n        ],\n        \"semantic_type\": \"\",\n        \"description\": \"\"\n      }\n    },\n    {\n      \"column\": \"VOCEmissions\",\n      \"properties\": {\n        \"dtype\": \"number\",\n        \"std\": 118,\n        \"min\": 1323,\n        \"max\": 1926,\n        \"num_unique_values\": 467,\n        \"samples\": [\n          1498,\n          1528,\n          1819\n        ],\n        \"semantic_type\": \"\",\n        \"description\": \"\"\n      }\n    },\n    {\n      \"column\": \"SO2Emissions\",\n      \"properties\": {\n        \"dtype\": \"number\",\n        \"std\": 279,\n        \"min\": 773,\n        \"max\": 1948,\n        \"num_unique_values\": 844,\n        \"samples\": [\n          1204,\n          1281,\n          1023\n        ],\n        \"semantic_type\": \"\",\n        \"description\": \"\"\n      }\n    },\n    {\n      \"column\": \"CO2Emissions\",\n      \"properties\": {\n        \"dtype\": \"number\",\n        \"std\": 181,\n        \"min\": 1797,\n        \"max\": 2703,\n        \"num_unique_values\": 640,\n        \"samples\": [\n          1863,\n          1936,\n          2418\n        ],\n        \"semantic_type\": \"\",\n        \"description\": \"\"\n      }\n    },\n    {\n      \"column\": \"Class\",\n      \"properties\": {\n        \"dtype\": \"number\",\n        \"std\": 1,\n        \"min\": 1,\n        \"max\": 4,\n        \"num_unique_values\": 4,\n        \"samples\": [\n          3,\n          2,\n          4\n        ],\n        \"semantic_type\": \"\",\n        \"description\": \"\"\n      }\n    },\n    {\n      \"column\": \"Contaminated\",\n      \"properties\": {\n        \"dtype\": \"number\",\n        \"std\": 0,\n        \"min\": 0,\n        \"max\": 1,\n        \"num_unique_values\": 2,\n        \"samples\": [\n          0,\n          1\n        ],\n        \"semantic_type\": \"\",\n        \"description\": \"\"\n      }\n    }\n  ]\n}",
       "type": "dataframe",
       "variable_name": "dataframe"
      },
      "text/html": [
       "\n",
       "  <div id=\"df-a7b16477-cc5f-48ba-9c34-76b108070fb7\" class=\"colab-df-container\">\n",
       "    <div>\n",
       "<style scoped>\n",
       "    .dataframe tbody tr th:only-of-type {\n",
       "        vertical-align: middle;\n",
       "    }\n",
       "\n",
       "    .dataframe tbody tr th {\n",
       "        vertical-align: top;\n",
       "    }\n",
       "\n",
       "    .dataframe thead th {\n",
       "        text-align: right;\n",
       "    }\n",
       "</style>\n",
       "<table border=\"1\" class=\"dataframe\">\n",
       "  <thead>\n",
       "    <tr style=\"text-align: right;\">\n",
       "      <th></th>\n",
       "      <th>Methane</th>\n",
       "      <th>NOxEmissions</th>\n",
       "      <th>PM2.5Emissions</th>\n",
       "      <th>VOCEmissions</th>\n",
       "      <th>SO2Emissions</th>\n",
       "      <th>CO2Emissions</th>\n",
       "      <th>Class</th>\n",
       "      <th>Contaminated</th>\n",
       "    </tr>\n",
       "  </thead>\n",
       "  <tbody>\n",
       "    <tr>\n",
       "      <th>0</th>\n",
       "      <td>670</td>\n",
       "      <td>696</td>\n",
       "      <td>1252</td>\n",
       "      <td>1720</td>\n",
       "      <td>1321</td>\n",
       "      <td>2431</td>\n",
       "      <td>4</td>\n",
       "      <td>1</td>\n",
       "    </tr>\n",
       "    <tr>\n",
       "      <th>1</th>\n",
       "      <td>641</td>\n",
       "      <td>674</td>\n",
       "      <td>1156</td>\n",
       "      <td>1652</td>\n",
       "      <td>1410</td>\n",
       "      <td>2433</td>\n",
       "      <td>4</td>\n",
       "      <td>1</td>\n",
       "    </tr>\n",
       "    <tr>\n",
       "      <th>2</th>\n",
       "      <td>642</td>\n",
       "      <td>646</td>\n",
       "      <td>1159</td>\n",
       "      <td>1643</td>\n",
       "      <td>1455</td>\n",
       "      <td>2361</td>\n",
       "      <td>4</td>\n",
       "      <td>1</td>\n",
       "    </tr>\n",
       "    <tr>\n",
       "      <th>3</th>\n",
       "      <td>640</td>\n",
       "      <td>590</td>\n",
       "      <td>1105</td>\n",
       "      <td>1608</td>\n",
       "      <td>1459</td>\n",
       "      <td>2427</td>\n",
       "      <td>4</td>\n",
       "      <td>1</td>\n",
       "    </tr>\n",
       "    <tr>\n",
       "      <th>4</th>\n",
       "      <td>616</td>\n",
       "      <td>627</td>\n",
       "      <td>1192</td>\n",
       "      <td>1637</td>\n",
       "      <td>1466</td>\n",
       "      <td>2447</td>\n",
       "      <td>4</td>\n",
       "      <td>1</td>\n",
       "    </tr>\n",
       "    <tr>\n",
       "      <th>...</th>\n",
       "      <td>...</td>\n",
       "      <td>...</td>\n",
       "      <td>...</td>\n",
       "      <td>...</td>\n",
       "      <td>...</td>\n",
       "      <td>...</td>\n",
       "      <td>...</td>\n",
       "      <td>...</td>\n",
       "    </tr>\n",
       "    <tr>\n",
       "      <th>1840</th>\n",
       "      <td>862</td>\n",
       "      <td>826</td>\n",
       "      <td>1564</td>\n",
       "      <td>1768</td>\n",
       "      <td>1540</td>\n",
       "      <td>2037</td>\n",
       "      <td>4</td>\n",
       "      <td>1</td>\n",
       "    </tr>\n",
       "    <tr>\n",
       "      <th>1841</th>\n",
       "      <td>917</td>\n",
       "      <td>821</td>\n",
       "      <td>1571</td>\n",
       "      <td>1779</td>\n",
       "      <td>1543</td>\n",
       "      <td>2008</td>\n",
       "      <td>4</td>\n",
       "      <td>1</td>\n",
       "    </tr>\n",
       "    <tr>\n",
       "      <th>1842</th>\n",
       "      <td>925</td>\n",
       "      <td>832</td>\n",
       "      <td>1582</td>\n",
       "      <td>1776</td>\n",
       "      <td>1545</td>\n",
       "      <td>1989</td>\n",
       "      <td>4</td>\n",
       "      <td>1</td>\n",
       "    </tr>\n",
       "    <tr>\n",
       "      <th>1843</th>\n",
       "      <td>928</td>\n",
       "      <td>840</td>\n",
       "      <td>1587</td>\n",
       "      <td>1787</td>\n",
       "      <td>1538</td>\n",
       "      <td>1986</td>\n",
       "      <td>4</td>\n",
       "      <td>1</td>\n",
       "    </tr>\n",
       "    <tr>\n",
       "      <th>1844</th>\n",
       "      <td>926</td>\n",
       "      <td>840</td>\n",
       "      <td>1606</td>\n",
       "      <td>1785</td>\n",
       "      <td>1555</td>\n",
       "      <td>1996</td>\n",
       "      <td>4</td>\n",
       "      <td>1</td>\n",
       "    </tr>\n",
       "  </tbody>\n",
       "</table>\n",
       "<p>1845 rows × 8 columns</p>\n",
       "</div>\n",
       "    <div class=\"colab-df-buttons\">\n",
       "\n",
       "  <div class=\"colab-df-container\">\n",
       "    <button class=\"colab-df-convert\" onclick=\"convertToInteractive('df-a7b16477-cc5f-48ba-9c34-76b108070fb7')\"\n",
       "            title=\"Convert this dataframe to an interactive table.\"\n",
       "            style=\"display:none;\">\n",
       "\n",
       "  <svg xmlns=\"http://www.w3.org/2000/svg\" height=\"24px\" viewBox=\"0 -960 960 960\">\n",
       "    <path d=\"M120-120v-720h720v720H120Zm60-500h600v-160H180v160Zm220 220h160v-160H400v160Zm0 220h160v-160H400v160ZM180-400h160v-160H180v160Zm440 0h160v-160H620v160ZM180-180h160v-160H180v160Zm440 0h160v-160H620v160Z\"/>\n",
       "  </svg>\n",
       "    </button>\n",
       "\n",
       "  <style>\n",
       "    .colab-df-container {\n",
       "      display:flex;\n",
       "      gap: 12px;\n",
       "    }\n",
       "\n",
       "    .colab-df-convert {\n",
       "      background-color: #E8F0FE;\n",
       "      border: none;\n",
       "      border-radius: 50%;\n",
       "      cursor: pointer;\n",
       "      display: none;\n",
       "      fill: #1967D2;\n",
       "      height: 32px;\n",
       "      padding: 0 0 0 0;\n",
       "      width: 32px;\n",
       "    }\n",
       "\n",
       "    .colab-df-convert:hover {\n",
       "      background-color: #E2EBFA;\n",
       "      box-shadow: 0px 1px 2px rgba(60, 64, 67, 0.3), 0px 1px 3px 1px rgba(60, 64, 67, 0.15);\n",
       "      fill: #174EA6;\n",
       "    }\n",
       "\n",
       "    .colab-df-buttons div {\n",
       "      margin-bottom: 4px;\n",
       "    }\n",
       "\n",
       "    [theme=dark] .colab-df-convert {\n",
       "      background-color: #3B4455;\n",
       "      fill: #D2E3FC;\n",
       "    }\n",
       "\n",
       "    [theme=dark] .colab-df-convert:hover {\n",
       "      background-color: #434B5C;\n",
       "      box-shadow: 0px 1px 3px 1px rgba(0, 0, 0, 0.15);\n",
       "      filter: drop-shadow(0px 1px 2px rgba(0, 0, 0, 0.3));\n",
       "      fill: #FFFFFF;\n",
       "    }\n",
       "  </style>\n",
       "\n",
       "    <script>\n",
       "      const buttonEl =\n",
       "        document.querySelector('#df-a7b16477-cc5f-48ba-9c34-76b108070fb7 button.colab-df-convert');\n",
       "      buttonEl.style.display =\n",
       "        google.colab.kernel.accessAllowed ? 'block' : 'none';\n",
       "\n",
       "      async function convertToInteractive(key) {\n",
       "        const element = document.querySelector('#df-a7b16477-cc5f-48ba-9c34-76b108070fb7');\n",
       "        const dataTable =\n",
       "          await google.colab.kernel.invokeFunction('convertToInteractive',\n",
       "                                                    [key], {});\n",
       "        if (!dataTable) return;\n",
       "\n",
       "        const docLinkHtml = 'Like what you see? Visit the ' +\n",
       "          '<a target=\"_blank\" href=https://colab.research.google.com/notebooks/data_table.ipynb>data table notebook</a>'\n",
       "          + ' to learn more about interactive tables.';\n",
       "        element.innerHTML = '';\n",
       "        dataTable['output_type'] = 'display_data';\n",
       "        await google.colab.output.renderOutput(dataTable, element);\n",
       "        const docLink = document.createElement('div');\n",
       "        docLink.innerHTML = docLinkHtml;\n",
       "        element.appendChild(docLink);\n",
       "      }\n",
       "    </script>\n",
       "  </div>\n",
       "\n",
       "\n",
       "<div id=\"df-b6b0a69e-ba71-4703-ae70-a115bd1721a5\">\n",
       "  <button class=\"colab-df-quickchart\" onclick=\"quickchart('df-b6b0a69e-ba71-4703-ae70-a115bd1721a5')\"\n",
       "            title=\"Suggest charts\"\n",
       "            style=\"display:none;\">\n",
       "\n",
       "<svg xmlns=\"http://www.w3.org/2000/svg\" height=\"24px\"viewBox=\"0 0 24 24\"\n",
       "     width=\"24px\">\n",
       "    <g>\n",
       "        <path d=\"M19 3H5c-1.1 0-2 .9-2 2v14c0 1.1.9 2 2 2h14c1.1 0 2-.9 2-2V5c0-1.1-.9-2-2-2zM9 17H7v-7h2v7zm4 0h-2V7h2v10zm4 0h-2v-4h2v4z\"/>\n",
       "    </g>\n",
       "</svg>\n",
       "  </button>\n",
       "\n",
       "<style>\n",
       "  .colab-df-quickchart {\n",
       "      --bg-color: #E8F0FE;\n",
       "      --fill-color: #1967D2;\n",
       "      --hover-bg-color: #E2EBFA;\n",
       "      --hover-fill-color: #174EA6;\n",
       "      --disabled-fill-color: #AAA;\n",
       "      --disabled-bg-color: #DDD;\n",
       "  }\n",
       "\n",
       "  [theme=dark] .colab-df-quickchart {\n",
       "      --bg-color: #3B4455;\n",
       "      --fill-color: #D2E3FC;\n",
       "      --hover-bg-color: #434B5C;\n",
       "      --hover-fill-color: #FFFFFF;\n",
       "      --disabled-bg-color: #3B4455;\n",
       "      --disabled-fill-color: #666;\n",
       "  }\n",
       "\n",
       "  .colab-df-quickchart {\n",
       "    background-color: var(--bg-color);\n",
       "    border: none;\n",
       "    border-radius: 50%;\n",
       "    cursor: pointer;\n",
       "    display: none;\n",
       "    fill: var(--fill-color);\n",
       "    height: 32px;\n",
       "    padding: 0;\n",
       "    width: 32px;\n",
       "  }\n",
       "\n",
       "  .colab-df-quickchart:hover {\n",
       "    background-color: var(--hover-bg-color);\n",
       "    box-shadow: 0 1px 2px rgba(60, 64, 67, 0.3), 0 1px 3px 1px rgba(60, 64, 67, 0.15);\n",
       "    fill: var(--button-hover-fill-color);\n",
       "  }\n",
       "\n",
       "  .colab-df-quickchart-complete:disabled,\n",
       "  .colab-df-quickchart-complete:disabled:hover {\n",
       "    background-color: var(--disabled-bg-color);\n",
       "    fill: var(--disabled-fill-color);\n",
       "    box-shadow: none;\n",
       "  }\n",
       "\n",
       "  .colab-df-spinner {\n",
       "    border: 2px solid var(--fill-color);\n",
       "    border-color: transparent;\n",
       "    border-bottom-color: var(--fill-color);\n",
       "    animation:\n",
       "      spin 1s steps(1) infinite;\n",
       "  }\n",
       "\n",
       "  @keyframes spin {\n",
       "    0% {\n",
       "      border-color: transparent;\n",
       "      border-bottom-color: var(--fill-color);\n",
       "      border-left-color: var(--fill-color);\n",
       "    }\n",
       "    20% {\n",
       "      border-color: transparent;\n",
       "      border-left-color: var(--fill-color);\n",
       "      border-top-color: var(--fill-color);\n",
       "    }\n",
       "    30% {\n",
       "      border-color: transparent;\n",
       "      border-left-color: var(--fill-color);\n",
       "      border-top-color: var(--fill-color);\n",
       "      border-right-color: var(--fill-color);\n",
       "    }\n",
       "    40% {\n",
       "      border-color: transparent;\n",
       "      border-right-color: var(--fill-color);\n",
       "      border-top-color: var(--fill-color);\n",
       "    }\n",
       "    60% {\n",
       "      border-color: transparent;\n",
       "      border-right-color: var(--fill-color);\n",
       "    }\n",
       "    80% {\n",
       "      border-color: transparent;\n",
       "      border-right-color: var(--fill-color);\n",
       "      border-bottom-color: var(--fill-color);\n",
       "    }\n",
       "    90% {\n",
       "      border-color: transparent;\n",
       "      border-bottom-color: var(--fill-color);\n",
       "    }\n",
       "  }\n",
       "</style>\n",
       "\n",
       "  <script>\n",
       "    async function quickchart(key) {\n",
       "      const quickchartButtonEl =\n",
       "        document.querySelector('#' + key + ' button');\n",
       "      quickchartButtonEl.disabled = true;  // To prevent multiple clicks.\n",
       "      quickchartButtonEl.classList.add('colab-df-spinner');\n",
       "      try {\n",
       "        const charts = await google.colab.kernel.invokeFunction(\n",
       "            'suggestCharts', [key], {});\n",
       "      } catch (error) {\n",
       "        console.error('Error during call to suggestCharts:', error);\n",
       "      }\n",
       "      quickchartButtonEl.classList.remove('colab-df-spinner');\n",
       "      quickchartButtonEl.classList.add('colab-df-quickchart-complete');\n",
       "    }\n",
       "    (() => {\n",
       "      let quickchartButtonEl =\n",
       "        document.querySelector('#df-b6b0a69e-ba71-4703-ae70-a115bd1721a5 button');\n",
       "      quickchartButtonEl.style.display =\n",
       "        google.colab.kernel.accessAllowed ? 'block' : 'none';\n",
       "    })();\n",
       "  </script>\n",
       "</div>\n",
       "\n",
       "  <div id=\"id_1416b30d-58fa-41ed-a2d4-a937712d8708\">\n",
       "    <style>\n",
       "      .colab-df-generate {\n",
       "        background-color: #E8F0FE;\n",
       "        border: none;\n",
       "        border-radius: 50%;\n",
       "        cursor: pointer;\n",
       "        display: none;\n",
       "        fill: #1967D2;\n",
       "        height: 32px;\n",
       "        padding: 0 0 0 0;\n",
       "        width: 32px;\n",
       "      }\n",
       "\n",
       "      .colab-df-generate:hover {\n",
       "        background-color: #E2EBFA;\n",
       "        box-shadow: 0px 1px 2px rgba(60, 64, 67, 0.3), 0px 1px 3px 1px rgba(60, 64, 67, 0.15);\n",
       "        fill: #174EA6;\n",
       "      }\n",
       "\n",
       "      [theme=dark] .colab-df-generate {\n",
       "        background-color: #3B4455;\n",
       "        fill: #D2E3FC;\n",
       "      }\n",
       "\n",
       "      [theme=dark] .colab-df-generate:hover {\n",
       "        background-color: #434B5C;\n",
       "        box-shadow: 0px 1px 3px 1px rgba(0, 0, 0, 0.15);\n",
       "        filter: drop-shadow(0px 1px 2px rgba(0, 0, 0, 0.3));\n",
       "        fill: #FFFFFF;\n",
       "      }\n",
       "    </style>\n",
       "    <button class=\"colab-df-generate\" onclick=\"generateWithVariable('dataframe')\"\n",
       "            title=\"Generate code using this dataframe.\"\n",
       "            style=\"display:none;\">\n",
       "\n",
       "  <svg xmlns=\"http://www.w3.org/2000/svg\" height=\"24px\"viewBox=\"0 0 24 24\"\n",
       "       width=\"24px\">\n",
       "    <path d=\"M7,19H8.4L18.45,9,17,7.55,7,17.6ZM5,21V16.75L18.45,3.32a2,2,0,0,1,2.83,0l1.4,1.43a1.91,1.91,0,0,1,.58,1.4,1.91,1.91,0,0,1-.58,1.4L9.25,21ZM18.45,9,17,7.55Zm-12,3A5.31,5.31,0,0,0,4.9,8.1,5.31,5.31,0,0,0,1,6.5,5.31,5.31,0,0,0,4.9,4.9,5.31,5.31,0,0,0,6.5,1,5.31,5.31,0,0,0,8.1,4.9,5.31,5.31,0,0,0,12,6.5,5.46,5.46,0,0,0,6.5,12Z\"/>\n",
       "  </svg>\n",
       "    </button>\n",
       "    <script>\n",
       "      (() => {\n",
       "      const buttonEl =\n",
       "        document.querySelector('#id_1416b30d-58fa-41ed-a2d4-a937712d8708 button.colab-df-generate');\n",
       "      buttonEl.style.display =\n",
       "        google.colab.kernel.accessAllowed ? 'block' : 'none';\n",
       "\n",
       "      buttonEl.onclick = () => {\n",
       "        google.colab.notebook.generateWithVariable('dataframe');\n",
       "      }\n",
       "      })();\n",
       "    </script>\n",
       "  </div>\n",
       "\n",
       "    </div>\n",
       "  </div>\n"
      ],
      "text/plain": [
       "      Methane  NOxEmissions  PM2.5Emissions  VOCEmissions  SO2Emissions  \\\n",
       "0         670           696            1252          1720          1321   \n",
       "1         641           674            1156          1652          1410   \n",
       "2         642           646            1159          1643          1455   \n",
       "3         640           590            1105          1608          1459   \n",
       "4         616           627            1192          1637          1466   \n",
       "...       ...           ...             ...           ...           ...   \n",
       "1840      862           826            1564          1768          1540   \n",
       "1841      917           821            1571          1779          1543   \n",
       "1842      925           832            1582          1776          1545   \n",
       "1843      928           840            1587          1787          1538   \n",
       "1844      926           840            1606          1785          1555   \n",
       "\n",
       "      CO2Emissions  Class  Contaminated  \n",
       "0             2431      4             1  \n",
       "1             2433      4             1  \n",
       "2             2361      4             1  \n",
       "3             2427      4             1  \n",
       "4             2447      4             1  \n",
       "...            ...    ...           ...  \n",
       "1840          2037      4             1  \n",
       "1841          2008      4             1  \n",
       "1842          1989      4             1  \n",
       "1843          1986      4             1  \n",
       "1844          1996      4             1  \n",
       "\n",
       "[1845 rows x 8 columns]"
      ]
     },
     "execution_count": 4,
     "metadata": {},
     "output_type": "execute_result"
    }
   ],
   "source": [
    "dataframe = pd.read_csv('datasets/AirQualityEmissions.csv')\n",
    "dataframe"
   ]
  },
  {
   "cell_type": "markdown",
   "metadata": {
    "id": "Z33RY48X7JUZ"
   },
   "source": [
    "\n",
    "**Explanation**:  *The dataset contains measurements of various air pollutants and their emissions, including Methane, NOx (Nitrogen Oxides), PM2.5 (Particulate Matter), VOCs (Volatile Organic Compounds), SO2 (Sulfur Dioxide), and CO2 (Carbon Dioxide). Each row represents a different observation with specific values for each pollutant. The “Class” column likely categorizes the data into different types or sources of emissions, while the “Contaminated” column indicates whether the observation is considered contaminated (1) or not (0). This dataset can be used to analyze the levels of different pollutants and their potential sources, as well as to assess the overall air quality and identify contaminated samples*."
   ]
  },
  {
   "cell_type": "markdown",
   "metadata": {
    "id": "gtCzIDsk7i5w"
   },
   "source": [
    "**Goal 3: Import the Plotly.Express Library**\n",
    "\n",
    "We’ve already brought pandas to help with data science. Let’s bring in Plotly Express to help with some fancy-pants visualizations.\n"
   ]
  },
  {
   "cell_type": "markdown",
   "metadata": {
    "id": "x0SRvRkL7oZw"
   },
   "source": [
    "#### Blockly"
   ]
  },
  {
   "cell_type": "markdown",
   "metadata": {
    "id": "uToivzYV7sUM"
   },
   "source": [
    "**Step 1 - Starting the import**\n",
    "\n",
    "First, we need to set up a “command” to tell the computer what to do. In this case, “command” is to “import” to bring the add-on package in.\n",
    "\n",
    "Bring in the IMPORT menu, which can be helpful to bring in other data tools. In this case, we're bringing in the **import** block.\n",
    "\n"
   ]
  },
  {
   "cell_type": "markdown",
   "metadata": {
    "id": "AmkYPSh97uZP"
   },
   "source": [
    "\n",
    "**Step 2 - Telling what library to import**\n",
    "\n",
    "In the text area, we type the name of the library we want to import. A library is like an extra thing we bring in to give us more coding abilities. In our case, we will type out the **plotly.express** library. Plotly is a popular library in Python that provides functions for fancy-pants data visualizations.\n"
   ]
  },
  {
   "cell_type": "markdown",
   "metadata": {
    "id": "K3yW1pWr7vQi"
   },
   "source": [
    "\n",
    "**Step 3 - Renaming the library so it’s easy to remember**\n",
    "\n",
    "Once you are done, put the **import** and **plotly.express** together in a single variable. This handy feature helps cut down on all the typing later on. You can call it whatever is easiest for you to remember. In the example below, we’ve put everything into px so it’s easier to remember\n"
   ]
  },
  {
   "cell_type": "markdown",
   "metadata": {
    "id": "I7556rLY7wAi"
   },
   "source": [
    "\n",
    "**Step 4 - Connect the blocks to run the code**\n",
    "\n",
    "Connect the blocks and run the code!\n",
    "\n",
    "![](http://pbs.twimg.com/media/GaON4A9XsAANFz2?format=png&name=240x240)"
   ]
  },
  {
   "cell_type": "markdown",
   "metadata": {
    "id": "rOLJgagq8EpF"
   },
   "source": [
    "#### Freehand"
   ]
  },
  {
   "cell_type": "markdown",
   "metadata": {
    "id": "smGYJXl08JeE"
   },
   "source": [
    "\n",
    "**Step 1 - Starting the import**\n",
    "\n",
    "First, we need to set up a “command” to tell the computer what to do. In this case, “command” is to “import” to bring the add-on package in.\n"
   ]
  },
  {
   "cell_type": "markdown",
   "metadata": {
    "id": "I_54ry7J8OmU"
   },
   "source": [
    "\n",
    "**Step 2 - Telling what library to import**\n",
    "\n",
    "In the text area, we type the name of the library we want to import. A library is like an extra thing we bring in to give us more coding abilities. In our case, we will type out the **plotly.express** library. Plotly is a popular library in Python that provides functions for fancy-pants data visualizations.\n"
   ]
  },
  {
   "cell_type": "markdown",
   "metadata": {
    "id": "mzJS6JlG8RvS"
   },
   "source": [
    "\n",
    "**Step 3 - Renaming the library so it’s easy to remember**\n",
    "\n",
    "Once you are done, put the ‘import’ and ‘package’ together in a single variable. This handy feature helps cut down on all the typing later on. Feel free to use whatever name you want that will help you remember it later on. In the example below, we’ve put everything into **px**.\n"
   ]
  },
  {
   "cell_type": "markdown",
   "metadata": {
    "id": "HdrEwHEv8XVd"
   },
   "source": [
    "\n",
    "**Step 4 - Run the code**\n",
    "\n",
    "Hit ‘control’ and ‘enter’ at the same time to run the code!\n",
    "\n",
    "![](https://pbs.twimg.com/media/GaON1ppW0AIrmJh?format=png&name=360x360)"
   ]
  },
  {
   "cell_type": "markdown",
   "metadata": {
    "id": "FJPjK-TO8aXW"
   },
   "source": [
    "**Your Turn** Now it’s your turn! We’re going to bring in Plotly Express to help with those visualizations. Let’s start the import making sure to rename it before we run it."
   ]
  },
  {
   "cell_type": "code",
   "execution_count": 6,
   "metadata": {
    "id": "hncDdvyM8ibE"
   },
   "outputs": [],
   "source": [
    "import plotly.express as px"
   ]
  },
  {
   "cell_type": "markdown",
   "metadata": {
    "id": "WMyUGS6c8pF9"
   },
   "source": [
    "**Explanation**: *Congrats! Your attempts finally made it! Now you have successfully imported the **plotly.express** package as the variable px* **bold text**."
   ]
  },
  {
   "cell_type": "markdown",
   "metadata": {
    "id": "yCSwnRce8ski"
   },
   "source": [
    "### Goal 4: Initial visual inspection of correlations using Scatter Plot\n",
    "\n",
    "Scatter plots help us to look at each data point when it comes to interval ratio data. The scatter plot shows us the relationship between two variables in a data set. The independent variable is plotted on the X-axis, while the dependent variable is plotted on the Y-axis. They are super handy for finding the relationship between different numeric variables."
   ]
  },
  {
   "cell_type": "markdown",
   "metadata": {
    "id": "os7_Wmnl9IVg"
   },
   "source": [
    "#### Blockly"
   ]
  },
  {
   "cell_type": "markdown",
   "metadata": {
    "id": "1BpY1Tuo9KlZ"
   },
   "source": [
    "\n",
    "**Step 1 -  Call the scatter function from plotly**\n",
    "\n",
    "To make a scatterplot, we first need to call the scatter function with our plotly library (px).\n",
    "\n",
    "From the Variables menu drag a DO block for the **px** variable. Select the \"**scatter**\" function. This specifies the function we want to call, which is the scatter function from the Plotly Express library (imported as \"px\" earlier).\n"
   ]
  },
  {
   "cell_type": "markdown",
   "metadata": {
    "id": "eSpzYSpE9Q0x"
   },
   "source": [
    "\n",
    "**Step 2 -  Saying what data to use for the scatter plot**\n",
    "\n",
    "In order to make a plot, we need to choose its source from which data we want to plot from. In this case, our dataset is stored in the dataframe **dataframe**.\n",
    "\n",
    "For the first argument, drag from the Variable menu the **dataframe** variable. This allows us to specify a dataframe as and what to look at for the scatter function.\n"
   ]
  },
  {
   "cell_type": "markdown",
   "metadata": {
    "id": "ib8SFZwh9R1F"
   },
   "source": [
    "\n",
    "**Step 3 -  Tell plotly what columns to put on the axis**\n",
    "\n",
    "Identify the two variables you want to look at. One variable will be alongside the X-axis (*across*) and another one alongside the Y-axis (*up and down*). In our context, we want to see the relationship between **CO2Emissions** and **PM2.5Emissions**. We will assign the variables in the 2 axis in the graph.\n",
    "\n",
    "From the TEXT menu, drag the Quotes. Type the text **CO2Emissions**. This specifies TrafficVolume as the x-axis variable for the scatter plot. Also, from the TEXT menu, drag the Quotes. Type the text **PM2.5Emissions**.   \n"
   ]
  },
  {
   "cell_type": "markdown",
   "metadata": {
    "id": "3fny3-_k9Tam"
   },
   "source": [
    "\n",
    "**Step 4 - Connect the blocks to run the code**\n",
    "\n",
    "Connect the blocks and run the code!\n",
    "\n",
    "![](https://pbs.twimg.com/media/GbbDb9PbcAAvgvN?format=png&name=900x900)"
   ]
  },
  {
   "cell_type": "markdown",
   "metadata": {
    "id": "lp6kC4_C9u57"
   },
   "source": [
    "#### Freehand"
   ]
  },
  {
   "cell_type": "markdown",
   "metadata": {
    "id": "mwAKhoYL9wlZ"
   },
   "source": [
    "**Step 1 - Call the scatter function from plotly**\n",
    "\n",
    "To make a scatterplot, we first need to call the scatter function with our plotly library (px).\n",
    "\n",
    "`px.scatter()`"
   ]
  },
  {
   "cell_type": "markdown",
   "metadata": {
    "id": "MHbs0Hv1968v"
   },
   "source": [
    "\n",
    "**Step 2 -  Saying what data to use for the scatter plot**\n",
    "\n",
    "In order to make a plot, we need to choose its source from which data we want to plot from. In this case, our dataset is stored in the dataframe **“dataframe”**\n",
    "\n",
    "`px.scatter(dataframe) `"
   ]
  },
  {
   "cell_type": "markdown",
   "metadata": {
    "id": "_2m9Ivwo97wF"
   },
   "source": [
    "\n",
    "**Step 3 -  Tell plotly what the columns to put on the axis**\n",
    "\n",
    "Identify the two variables you want to look at. One variable will be alongside the X-axis (*across*) and another one alongside the Y-axis (*up and down*). In our context, we want to see the relationship between **CO2Emissions** and **PM2.5Emissions**. We will assign the variables in the 2 axis in the graph\n",
    "\n",
    "`px.scatter(dataframe, x=\"CO2Emissions\", y=\"PM2.5Emissions\")`"
   ]
  },
  {
   "cell_type": "markdown",
   "metadata": {
    "id": "GuDZonoa98ue"
   },
   "source": [
    "\n",
    "**Step 4 - Run the code**\n",
    "\n",
    "Hit ‘control’ and ‘enter’ at the same time to run the code!\n",
    "\n",
    "\n",
    "![](https://pbs.twimg.com/media/GbbDZJYbgAA-gdA?format=jpg&name=medium)"
   ]
  },
  {
   "cell_type": "markdown",
   "metadata": {
    "id": "rXj3Q1wW-ZD4"
   },
   "source": [
    "**Your Turn** Now it’s your turn! We’re going to create a scatter plot so we can review the correlations of the data. Let’s start with adding in the x and y-axis variables."
   ]
  },
  {
   "cell_type": "code",
   "execution_count": 7,
   "metadata": {
    "colab": {
     "base_uri": "https://localhost:8080/",
     "height": 542
    },
    "id": "tQWDW0GA-bjm",
    "outputId": "ff1e67b1-b6df-4b03-90e3-f38e4c9c796c"
   },
   "outputs": [
    {
     "data": {
      "text/html": [
       "<html>\n",
       "<head><meta charset=\"utf-8\" /></head>\n",
       "<body>\n",
       "    <div>            <script src=\"https://cdnjs.cloudflare.com/ajax/libs/mathjax/2.7.5/MathJax.js?config=TeX-AMS-MML_SVG\"></script><script type=\"text/javascript\">if (window.MathJax && window.MathJax.Hub && window.MathJax.Hub.Config) {window.MathJax.Hub.Config({SVG: {font: \"STIX-Web\"}});}</script>                <script type=\"text/javascript\">window.PlotlyConfig = {MathJaxConfig: 'local'};</script>\n",
       "        <script charset=\"utf-8\" src=\"https://cdn.plot.ly/plotly-2.35.2.min.js\"></script>                <div id=\"1890ca17-ec71-4e3b-9aa5-fd65c58c9ac8\" class=\"plotly-graph-div\" style=\"height:525px; width:100%;\"></div>            <script type=\"text/javascript\">                                    window.PLOTLYENV=window.PLOTLYENV || {};                                    if (document.getElementById(\"1890ca17-ec71-4e3b-9aa5-fd65c58c9ac8\")) {                    Plotly.newPlot(                        \"1890ca17-ec71-4e3b-9aa5-fd65c58c9ac8\",                        [{\"hovertemplate\":\"CO2Emissions=%{x}\\u003cbr\\u003ePM2.5Emissions=%{y}\\u003cextra\\u003e\\u003c\\u002fextra\\u003e\",\"legendgroup\":\"\",\"marker\":{\"color\":\"#636efa\",\"symbol\":\"circle\"},\"mode\":\"markers\",\"name\":\"\",\"showlegend\":false,\"x\":[2431,2433,2361,2427,2447,2434,2450,2476,2405,2454,2438,2427,2447,2451,2478,2457,2442,2459,2453,2442,2465,2440,2454,2457,2451,2444,2476,2426,2479,2479,2047,1957,1896,1957,1917,1904,1826,1957,1929,1977,2164,2134,2079,2122,2200,2181,2180,2198,2177,2167,2185,2394,2419,2388,2382,2388,2331,2398,2395,2388,2409,2380,2488,2477,2475,2472,2504,2509,2485,2435,2485,2455,2485,2485,2485,2485,2485,2485,2485,2485,2485,2485,2485,2485,2328,2250,2260,2323,2324,2342,2320,2289,2308,2360,2376,2414,2565,2619,2700,2658,2702,2695,2667,2664,2684,2695,2642,2669,2681,2703,2524,2539,2555,2578,2604,2600,2623,2401,2392,2383,2387,2353,2344,2356,2380,2362,2339,2426,2491,2506,2236,2233,2249,2231,2232,2212,2234,2213,2235,2216,2249,2264,2346,2377,2422,2387,2344,2336,2334,2340,2368,2364,2337,2304,2330,2368,2411,2403,2433,2430,2464,2455,2478,2442,2450,2432,2425,2442,2408,2420,2408,2430,2405,2375,2361,2345,2367,2288,2297,2350,2372,2366,2379,2361,2353,2345,2347,2367,2308,2331,2296,2265,2217,2290,2323,2307,2303,2286,2278,2254,2237,2227,2201,2217,2184,2234,2222,2178,2178,2199,2213,2185,2160,2210,2213,2263,2339,2355,2388,2375,2390,2386,2397,2172,2133,2169,2161,2262,2265,2215,2215,2215,2241,2205,2286,2215,2241,2205,2286,2286,2450,2438,2452,2482,2434,2519,2467,2305,2241,2251,2342,2364,2430,2440,2412,2478,2487,2364,2430,2440,2412,2478,2487,2467,2437,2338,2374,2279,2266,2281,2245,2290,2280,2275,2345,2289,2375,2345,2394,2555,2578,2541,2533,2535,2542,2565,2523,2529,2534,2523,2501,2482,2513,2526,2492,2486,2535,2514,2529,2511,2527,2554,2513,2457,2493,2493,2531,2506,2513,2502,2494,2510,2464,2422,2370,2441,2429,2432,2520,2500,2491,2528,2551,2480,2562,2533,2533,2200,2207,2227,2237,2233,2236,2292,2295,2252,2263,2263,2259,2212,2270,2265,2245,2272,2201,2222,2229,2243,2247,2228,2238,2265,2554,2524,2530,2556,2537,2540,2535,2568,2568,2550,2500,2509,2426,2463,2513,2430,2486,2494,2454,2493,2462,2501,2456,2502,2504,2476,2503,2479,2458,2431,2467,2468,2445,2398,2490,2430,2498,2482,2458,2467,2449,2499,2464,2510,2457,2498,2502,2480,2494,2498,2483,2483,2465,2491,2440,2503,2520,2475,2513,2497,2519,2502,2510,2498,2510,2486,2428,2504,2480,2490,2438,2473,2495,2491,2532,2518,2496,2166,2188,2121,2108,1928,1849,1950,1911,1929,1936,1961,1957,1948,1938,1947,1976,2026,1996,2010,2018,2015,2019,2006,2017,2000,1923,1935,1948,2035,2070,2183,2120,1923,1935,1948,2035,2070,2183,2371,2251,2245,2265,2272,2292,2294,2501,2379,2362,2421,2372,2448,2374,2365,2418,2380,2447,2435,2432,2440,2380,2428,2395,2388,2398,2368,2412,2395,2372,2362,2400,2402,2407,2414,2367,2362,2317,2355,2357,2326,2383,2327,2322,2370,2405,2381,2382,2407,2376,2433,2432,2430,2411,2247,2212,2230,2299,2230,2287,2263,2224,2398,2321,2358,2346,2309,2301,2306,2351,2316,2344,2393,2426,2421,2467,2440,2470,2449,2443,2462,2471,2445,2404,2438,2491,2434,2453,2468,2476,2501,2451,2449,2479,2459,2434,2429,2424,2507,2422,2500,2475,2491,2483,2460,2466,2460,2495,2473,2422,2419,2471,2455,2497,2488,2483,2491,2490,2466,2476,2468,2472,2497,2479,2473,2491,2493,2479,2478,2493,2450,2467,2474,2482,2486,2490,2467,2461,2464,2448,2170,2108,2125,2185,2100,2120,2141,2198,2152,2109,2121,2151,2526,2484,2492,2519,2507,2496,2492,2439,2460,2525,2492,2517,2511,2450,2534,2468,2515,2468,2463,2518,2506,2461,2517,2484,2536,2318,2311,2305,2266,2284,2279,2324,2335,2314,2347,2243,2291,2280,2300,2308,2327,2322,2330,2363,2344,2360,2272,2362,2363,2287,2303,2301,2352,2369,2307,2349,2355,2049,2038,1995,2032,2013,1907,1947,1827,1916,1949,1904,1919,1861,1874,1946,2021,2475,2465,2463,2433,2400,2447,2425,2447,2442,2456,2424,2445,2454,2464,2359,2416,2462,2441,2467,2471,2443,2458,2453,2470,2440,2452,2434,2478,2449,2458,2432,2464,2461,2450,2453,2407,2450,2445,2432,2425,2402,2439,2442,2426,2418,2408,2457,2363,2428,2375,2452,2463,2469,2437,2458,2168,2186,2174,2187,2149,2166,2150,2142,2137,2154,2164,2059,2171,2105,2136,2162,2152,2128,2138,2150,2105,2151,2130,2162,2159,2129,2158,2156,2126,2146,2135,2088,2128,2114,2107,2161,2163,2112,2185,2151,2158,2165,2169,2147,2170,2165,2160,2131,2143,2149,2156,2196,2144,2166,2149,2181,2190,2181,2194,2147,2177,2202,2188,2140,2209,2168,2198,2209,2199,2206,2168,2145,2292,2284,2317,2317,2296,2216,2310,2311,2308,2309,2293,2329,2301,2316,2296,2304,2264,2272,2303,2380,2346,2373,2342,2344,2345,2394,2344,2381,2340,2378,2278,2360,2386,2372,2374,2378,2367,2350,2192,2197,2291,2292,2292,2284,2291,2311,2344,2342,2342,2350,2325,2339,2294,2339,2372,2352,2336,2144,2146,2132,2127,2108,2189,2134,2137,2203,2198,2216,2224,2226,2246,2160,2201,2192,2198,2205,2181,2169,2176,2244,2241,2270,2231,2300,2300,2261,2279,2330,2335,2300,2300,2300,2346,2298,2367,2347,2328,2286,2348,2332,2275,2339,2303,2334,2338,2347,2344,2304,2315,2325,2358,2327,2237,2275,2282,2267,2296,2276,2296,2275,2129,2134,2141,2144,2182,2266,2123,2110,2247,2130,2107,2128,2192,2185,2240,2327,2285,2195,2115,2286,2287,2290,2325,2198,2189,2133,2119,2296,2186,2200,2202,2283,2316,2335,2307,2316,2325,2344,2347,2339,2326,2336,2319,2337,2344,2352,2346,2346,2343,2336,2342,2330,1903,1914,1925,1888,1904,1908,1865,1928,1934,1942,1926,1873,1926,1969,1961,1949,1958,2008,1964,1954,1934,2005,2207,2214,2164,2177,2193,2204,2206,2238,2245,2231,2173,2212,2225,2209,2223,2234,2251,2244,2221,2237,2246,2194,2269,2219,2236,2254,2268,2244,2257,2256,2235,2257,2254,2220,2263,2292,2280,2251,2255,2268,2265,2011,2078,2099,2103,2050,2125,2053,2080,2137,2138,2143,2085,2131,2101,2050,2124,2099,2105,2150,2110,2111,2100,2138,2189,2124,2170,2114,2138,2145,2175,2228,2211,2257,2227,2233,2218,2267,2240,2243,2198,2280,2261,2234,2236,2232,2286,2255,2262,2256,2280,2239,2286,2297,2251,2330,2300,2305,2297,2264,2305,2309,2318,2310,2300,2316,2293,2318,2307,2294,2301,2297,2332,2316,2302,2294,2242,2239,2238,2257,2211,2222,2198,2193,2198,2198,2158,2191,2157,2186,2180,2179,2156,2142,2146,2147,2108,2106,2133,2095,2105,2112,2108,2105,2142,2103,2113,2090,2092,2069,2094,2134,2106,2071,2074,2076,2088,2082,2049,2069,2073,2066,2028,2043,2066,2112,1995,1951,1955,1879,1929,1908,1912,1822,1865,1857,1889,1856,1837,1842,1845,1853,1854,1889,1864,1958,1927,1931,1995,2106,2113,2158,2130,2170,2157,2178,2196,2193,2230,2226,2243,2245,2201,2192,2266,2244,2250,2294,2274,2258,2305,2278,2275,2284,2267,2284,2315,2268,2301,2315,2321,2274,2288,2309,2330,2308,2336,2309,2310,2305,2337,2317,2336,2327,2318,2344,2357,2331,2323,2360,2268,2333,2291,2299,2338,2363,2337,2347,2362,2350,2345,2343,2389,2362,2332,2365,2359,2281,2351,2375,2363,2384,2336,2372,2344,2354,2389,2349,2353,2359,2354,2367,2304,2292,2316,2329,2379,2235,2131,2155,2156,2113,2136,2115,2117,2095,2122,2077,2097,2106,2107,2106,2128,2079,2106,2100,2087,2111,2110,2090,2099,2038,2064,2048,2061,2092,2034,2043,2076,1998,2052,2046,2040,2029,2024,2051,2027,2012,2059,2046,2055,2059,2048,2071,2083,2052,1872,1917,1866,1877,1911,1900,1895,1869,1901,1854,1902,1908,1869,1865,1838,1869,1832,1823,1882,1860,1856,1855,1862,1862,1855,1860,1868,1805,1814,1831,1881,1855,1881,1880,1921,1863,1901,1896,1894,1882,1885,1901,1903,1887,1887,1902,1895,2002,1924,1928,1958,1986,1962,1953,1978,1999,1906,1974,1988,1958,2207,2174,2204,2125,2107,2200,2175,2185,2160,2169,2133,2097,2057,2107,2115,2113,2088,2155,2169,2142,2160,2181,2142,2161,2187,2199,2182,2169,2192,2156,2183,2171,2169,2201,2190,2248,2261,2289,2251,2293,2287,2301,2293,2300,2283,2320,2310,2326,2323,2309,2331,2318,2336,2292,2267,2324,2329,2307,2264,2335,2298,2324,2307,2356,2309,2333,2312,2306,2323,2336,2323,2335,2319,2350,2320,2316,2210,2167,2201,2272,2309,2326,2343,2353,2313,2364,2287,2341,2095,2113,2155,2163,2194,2165,2212,2255,2235,2268,2287,2294,2277,2296,2285,2197,2121,1984,1940,1955,1944,1946,1873,1959,1900,1927,1912,1968,1974,1978,1983,1987,1989,2192,2073,2025,2124,2062,2020,2089,2076,2082,2028,2089,2087,2022,2023,2068,2025,2092,2065,2043,2047,2042,2064,2052,2013,2037,2017,2022,2119,2096,2013,2025,2031,2109,2158,2146,2154,2117,2195,2110,2161,1932,1913,1889,1899,1907,1942,1850,1873,1872,1887,1837,1870,1845,1866,1841,1845,1861,1857,1804,1836,1850,1833,1829,1845,1859,1822,1797,1868,1864,1826,1827,1835,1862,1831,1869,1849,1832,1820,1842,1841,1881,2218,2198,2183,2246,2195,2220,2221,2212,2228,2263,2252,2202,2286,2169,2187,2131,2033,2030,2079,2027,2029,1986,1969,1970,1951,1955,1897,1970,1941,1967,1958,1986,1994,2185,2202,2186,2220,2202,2190,2240,2225,2224,2165,2165,2128,2164,2167,2158,2157,2179,2157,2095,2098,2133,2156,2134,2137,2146,2143,2143,2151,2159,2147,2153,2137,2145,2144,2158,2157,2131,2140,2161,2121,2156,2081,2159,2137,2146,2085,2086,2151,2120,2099,2160,2138,2143,2148,2134,2144,2148,2126,2144,2159,2130,2160,2251,2248,2287,2231,2238,2272,2292,2209,2188,2234,2208,2238,2234,2192,2237,2269,2234,2296,2246,2249,2275,2207,2283,2274,2265,2271,2312,2262,2307,2289,2302,2272,2256,2265,2301,2280,2287,2302,2274,2283,2270,2243,2267,2274,2261,2192,2248,2281,2287,2253,2277,2250,2263,2262,2284,2258,2272,2258,2249,2290,2265,2256,2250,2277,2289,2257,2312,2247,2256,2276,2210,2229,2214,2194,2235,2229,2248,2249,2242,2238,2286,2262,2225,2274,2256,2208,2274,2248,2265,2228,2265,2298,2279,2276,2278,2279,2268,2280,2302,2255,2298,2296,2284,2301,2273,2292,2314,2302,2263,2204,2239,2280,2318,2306,2317,2337,2319,2340,2329,2343,2369,2322,2333,2355,2108,2100,2126,2086,2101,2117,2123,2111,2128,2145,2142,2113,2117,2128,2094,2101,2090,2126,2101,2125,2037,2008,1989,1986,1996],\"xaxis\":\"x\",\"y\":[1252,1156,1159,1105,1192,1438,1050,1231,1289,1192,1480,1107,1128,1196,1145,1145,1094,1089,1085,1077,1082,1061,1072,1078,1080,1046,1035,1073,1064,1078,1483,1633,1702,1614,1670,1689,1698,1623,1597,1632,1359,1397,1417,1411,1384,1360,1366,1361,1326,1344,1380,1367,1295,1252,1257,1208,1187,1265,1228,1206,1203,938,960,966,957,960,974,992,967,980,967,933,967,954,967,931,967,944,967,935,967,924,967,904,1162,1223,1247,1165,1221,1178,1275,1233,1292,1230,1183,1162,944,961,954,966,971,984,958,999,1015,977,1008,1001,999,1007,989,1006,1013,1009,1004,1005,941,1125,1175,1161,1204,1227,1236,1236,1231,1200,1263,1174,1141,1122,994,979,1016,1019,1028,1024,892,906,912,915,916,916,984,1031,1025,1057,1071,1093,1101,1089,1109,1109,1160,1164,1144,1110,1122,1111,1100,1076,1060,1026,1079,1045,1076,1135,1197,1246,1258,1329,1276,1336,1314,1273,1266,1289,1273,1279,1277,1299,1238,1301,1329,1242,1208,1259,1311,1329,1379,1451,1469,1458,1417,1420,1139,1161,1162,1235,1243,1248,1310,1338,1320,1383,1342,1387,1384,1373,1355,1392,1393,1396,1395,1399,1333,1312,1183,1151,1129,1135,1130,1095,1063,850,895,874,889,879,812,860,860,860,862,834,867,860,862,834,867,867,929,912,892,920,926,944,934,926,922,968,934,1031,1035,1061,1083,1098,1107,1051,1035,1061,1083,1098,1107,1101,1094,1091,1196,1206,1218,1249,1266,1294,1295,1304,1202,1140,1147,1103,1105,913,910,906,959,1016,1038,1035,1026,1050,1034,1044,1005,1048,1041,1082,1092,1057,1082,1033,1080,1050,1090,1004,1079,1098,1117,1124,1139,1127,1146,1161,1137,1186,1218,1240,1225,1220,1243,1231,1142,1071,1094,1092,1081,1075,1082,1081,1063,855,875,894,888,882,896,886,900,929,911,865,925,919,923,906,897,908,931,954,974,994,994,943,997,948,997,993,1008,958,1009,980,1005,1006,1010,984,1173,1215,1181,1172,1166,1154,1167,1389,1355,1363,1349,1370,1395,1422,1434,1428,1495,1509,1504,1532,1543,1540,1518,1552,1569,1434,1400,1369,1383,1352,1350,1366,1327,1317,1279,1374,1383,1396,1401,1408,1377,1364,1274,1315,1335,1344,1339,1350,1348,1321,1342,1333,1360,1322,1332,1320,1339,1334,1321,1283,1324,1211,1164,1150,1142,1105,1084,1317,1358,1427,1452,1645,1668,1665,1652,1642,1635,1621,1615,1606,1606,1592,1557,1522,1475,1535,1543,1498,1551,1553,1556,1577,1595,1602,1560,1508,1385,1329,1266,1595,1602,1560,1508,1375,1329,883,947,964,995,958,1027,1033,1010,1176,1125,1138,1133,1148,1149,1160,1148,1148,1150,1155,1156,1165,1153,1151,1155,1114,1119,1117,1089,1126,1119,1113,1135,1123,1146,1109,1110,1172,1188,1164,1207,1219,1225,1204,1202,1200,1191,1180,1186,1225,1208,1198,1176,1174,1160,1094,1074,1083,1127,1076,1079,1082,1076,932,949,966,990,925,1078,1067,1044,1073,1099,1131,1302,1253,1240,1210,1202,1193,1172,1184,1169,1134,1169,1153,1145,1163,1149,1216,1204,1261,1264,1248,1275,1318,1317,1333,1321,1353,1342,1347,1309,1355,1328,1351,1367,1327,1222,1228,1218,1252,1246,1262,1291,1291,1276,1281,1307,1297,1274,1230,1258,1265,1245,1281,1293,1318,1264,1249,1298,1260,1306,1295,1287,1311,1309,1304,1307,1304,1153,923,911,916,931,890,957,931,949,976,974,986,938,858,827,823,862,870,885,880,861,862,854,857,848,819,862,863,869,876,883,880,893,895,883,851,895,881,1139,1187,1230,1248,1261,1262,1191,1164,1175,1159,1252,1257,1276,1233,1175,1142,1144,1173,1140,1068,1106,1134,1179,1188,1186,1180,1160,1112,1191,1166,1166,1155,1343,1403,1408,1454,1459,1557,1574,1576,1559,1573,1527,1607,1587,1593,1523,1421,1271,1162,1184,1230,1219,1213,1245,1304,1284,1270,1359,1341,1326,1341,1376,1434,1216,1024,1108,1096,1265,1416,1266,1237,1366,1281,1306,1330,1354,1338,1312,1347,1335,1340,1398,1346,1366,1367,1388,1379,1408,1339,1422,1434,1484,1266,1099,1019,993,1110,1121,1155,1106,1168,1098,1124,1131,1132,1153,1126,1103,1148,1167,1190,1167,1235,1233,1265,1261,1279,1215,1226,1228,1257,1214,1191,1231,1248,1251,1233,1216,1249,1267,1272,1291,1263,1299,1302,1278,1232,1230,1214,1182,1162,1181,1224,1167,1238,1238,1228,1248,1233,1202,1248,1230,1200,1202,1163,1198,1182,1196,1213,1182,1186,1126,1158,1182,1200,1182,1183,1184,1169,1148,1177,1167,1167,1165,909,919,955,912,970,981,945,941,947,963,974,1010,909,963,940,953,940,955,967,922,929,976,1001,962,1005,990,994,997,995,1012,1000,999,1007,995,1005,1011,1004,991,893,977,948,880,927,930,910,948,943,904,917,949,962,952,948,955,955,935,946,1166,1182,1213,1214,1201,1134,1157,1173,1131,1153,1127,1149,1145,1163,1215,1221,1201,1217,1215,1194,1160,1138,1163,1158,1168,1138,1130,1112,1132,1132,1111,1107,1075,1079,1063,1056,1022,1244,1220,1286,1196,1171,1117,1106,1118,1101,1110,1114,1080,1066,1111,1101,1118,1117,1115,1188,1186,1126,1115,1083,1078,1037,1013,1031,1092,1118,1115,1120,1134,1145,1131,1124,1121,1102,1120,1131,1089,1122,1137,1228,1177,1148,1159,1072,1096,1114,1145,1221,1163,1120,1180,1187,1134,1062,946,933,945,955,951,943,956,950,954,953,969,910,955,959,968,981,972,974,980,978,976,1738,1707,1684,1627,1614,1577,1580,1596,1702,1600,1559,1482,1335,1378,1398,1405,1381,1374,1403,1306,1334,1231,907,900,898,899,895,914,895,913,917,902,905,898,907,870,924,883,884,921,910,907,907,907,912,885,884,929,932,915,892,913,879,927,933,973,946,931,904,922,919,922,933,1091,1092,1115,1101,1106,1161,1132,1111,1145,1103,1175,1131,1150,1140,1140,1163,1165,1159,1132,1099,1104,1057,999,1075,1060,1058,1113,1108,1108,1087,859,864,860,863,855,860,866,858,861,869,873,873,884,867,890,860,884,850,895,877,879,887,887,862,908,909,894,904,903,901,910,908,903,880,869,907,913,870,890,893,892,902,1233,1273,1343,1358,1354,1339,1438,1388,1359,1364,1333,1306,1308,1327,1328,1310,1364,1353,1374,1358,1376,1386,1451,1420,1472,1500,1381,1357,1374,1335,1308,1327,1329,1295,1265,1325,1332,1335,1409,1391,1473,1492,1492,1434,1438,1362,1347,1395,1397,1502,1513,1218,1224,1318,1455,1445,1469,1499,1514,1543,1576,1577,1607,1606,1601,1608,1568,1623,1609,1615,1575,1550,1428,1419,1383,1307,809,810,814,811,783,789,823,813,802,795,833,792,816,815,814,820,787,820,829,822,820,829,786,817,819,816,786,818,822,818,806,830,832,830,844,842,836,793,822,838,846,824,823,798,842,813,832,829,831,834,838,830,836,826,827,815,833,820,847,839,854,833,841,841,845,816,827,828,820,839,814,777,815,806,821,814,824,814,808,800,810,810,753,758,765,775,770,772,1579,1511,1343,1369,1352,1405,1477,1400,1377,1394,1376,1365,1347,1352,1308,1338,1308,1396,1367,1362,1361,1462,1604,1510,1439,1428,1397,1389,1385,1371,1394,1323,1350,1303,1281,1276,1253,1233,1247,1185,1192,1208,1213,1217,1162,1134,1158,1138,1167,1388,1354,1339,1356,1338,1355,1353,1325,1354,1370,1370,1396,1399,1412,1435,1431,1448,1465,1500,1430,1443,1487,1462,1461,1414,1453,1452,1441,1439,1456,1418,1403,1413,1434,1416,1455,1447,1424,1427,1456,1431,1421,1426,1440,1451,1428,1393,1278,1358,1351,1338,1339,1331,1329,1322,1311,1307,1311,1294,1301,1028,1028,1029,1030,1024,1044,1009,1009,1021,1017,1012,1015,1067,1065,1093,1128,1118,1131,1143,1150,1157,1162,1231,1207,1220,1187,1228,1225,1255,1242,1249,1260,1251,1202,1154,1152,1115,1112,1102,1103,1094,1117,1140,1156,1185,1155,1110,1153,1198,1158,1175,1154,1163,1142,1173,1173,1137,1140,1152,1152,1157,1171,1187,1162,1128,1142,1145,1160,1157,1140,1132,1158,1179,1183,1171,1173,896,863,873,926,932,940,953,948,894,964,962,970,882,903,912,926,916,910,921,932,915,911,922,930,897,945,1070,1670,1657,1654,1668,1652,1601,1555,1507,1495,1433,1413,1395,1360,1372,1377,1327,1311,1316,1238,1253,1244,1250,1213,1261,1281,1282,1282,1279,1234,1260,1265,1249,1209,1206,1229,1221,1256,1236,1236,1250,1275,1233,1300,1282,1291,1296,1304,1310,1316,1259,1188,1169,1228,1205,1183,1207,1190,1162,894,888,892,894,931,965,1247,1296,1334,1348,1375,1422,1421,1438,1450,1450,1435,1436,1444,1472,1472,1493,1510,1515,1503,1478,1507,1516,1520,1464,1513,1522,1492,1516,1519,1492,1507,1499,1483,1492,1431,1052,1052,1016,1060,1073,1062,1078,1047,1067,1069,1079,1078,1085,1351,1723,1712,1662,1698,1709,1693,1702,1727,1715,1708,1693,1679,1692,1650,1610,1522,1381,1281,1243,943,1014,1012,994,963,984,1001,1031,1063,1146,1190,1181,1194,1145,1192,1153,1195,1178,1166,1195,1207,1214,1221,1218,1231,1226,1207,1218,1224,1233,1236,1227,1206,1252,1222,1242,1252,1247,1255,1225,1219,1250,1277,1284,1283,1278,1274,1276,1216,1268,1272,1221,1274,1274,1282,1228,1281,1243,1248,1288,1278,1285,978,973,972,995,993,996,1012,1020,1012,1012,1008,1004,996,1006,1017,981,1009,1014,995,996,999,983,945,991,999,997,1039,1014,1037,1041,1015,1027,1041,1042,1042,1055,1052,1378,1423,1436,1416,1321,1283,1259,1241,1237,1257,1249,1275,1332,1432,1347,1283,1271,1260,1319,1300,1289,1389,1376,1327,1298,1336,1309,1267,1268,1323,1307,1268,1280,987,997,995,996,954,1000,967,953,1010,998,991,994,983,992,988,984,997,951,991,988,1003,981,952,983,990,987,930,979,980,978,984,994,945,965,962,983,978,935,979,989,999,1014,1048,1051,1057,1077,1062,1069,1083,1090,1098,1057,1107,1087,1168,1184,1182,1200,1212,1174,1198,1217,1222,1257,1232,1282,1251,1267,1136,1114,1124,1088,1091,1119,1564,1571,1582,1587,1606],\"yaxis\":\"y\",\"type\":\"scattergl\"}],                        {\"template\":{\"data\":{\"histogram2dcontour\":[{\"type\":\"histogram2dcontour\",\"colorbar\":{\"outlinewidth\":0,\"ticks\":\"\"},\"colorscale\":[[0.0,\"#0d0887\"],[0.1111111111111111,\"#46039f\"],[0.2222222222222222,\"#7201a8\"],[0.3333333333333333,\"#9c179e\"],[0.4444444444444444,\"#bd3786\"],[0.5555555555555556,\"#d8576b\"],[0.6666666666666666,\"#ed7953\"],[0.7777777777777778,\"#fb9f3a\"],[0.8888888888888888,\"#fdca26\"],[1.0,\"#f0f921\"]]}],\"choropleth\":[{\"type\":\"choropleth\",\"colorbar\":{\"outlinewidth\":0,\"ticks\":\"\"}}],\"histogram2d\":[{\"type\":\"histogram2d\",\"colorbar\":{\"outlinewidth\":0,\"ticks\":\"\"},\"colorscale\":[[0.0,\"#0d0887\"],[0.1111111111111111,\"#46039f\"],[0.2222222222222222,\"#7201a8\"],[0.3333333333333333,\"#9c179e\"],[0.4444444444444444,\"#bd3786\"],[0.5555555555555556,\"#d8576b\"],[0.6666666666666666,\"#ed7953\"],[0.7777777777777778,\"#fb9f3a\"],[0.8888888888888888,\"#fdca26\"],[1.0,\"#f0f921\"]]}],\"heatmap\":[{\"type\":\"heatmap\",\"colorbar\":{\"outlinewidth\":0,\"ticks\":\"\"},\"colorscale\":[[0.0,\"#0d0887\"],[0.1111111111111111,\"#46039f\"],[0.2222222222222222,\"#7201a8\"],[0.3333333333333333,\"#9c179e\"],[0.4444444444444444,\"#bd3786\"],[0.5555555555555556,\"#d8576b\"],[0.6666666666666666,\"#ed7953\"],[0.7777777777777778,\"#fb9f3a\"],[0.8888888888888888,\"#fdca26\"],[1.0,\"#f0f921\"]]}],\"heatmapgl\":[{\"type\":\"heatmapgl\",\"colorbar\":{\"outlinewidth\":0,\"ticks\":\"\"},\"colorscale\":[[0.0,\"#0d0887\"],[0.1111111111111111,\"#46039f\"],[0.2222222222222222,\"#7201a8\"],[0.3333333333333333,\"#9c179e\"],[0.4444444444444444,\"#bd3786\"],[0.5555555555555556,\"#d8576b\"],[0.6666666666666666,\"#ed7953\"],[0.7777777777777778,\"#fb9f3a\"],[0.8888888888888888,\"#fdca26\"],[1.0,\"#f0f921\"]]}],\"contourcarpet\":[{\"type\":\"contourcarpet\",\"colorbar\":{\"outlinewidth\":0,\"ticks\":\"\"}}],\"contour\":[{\"type\":\"contour\",\"colorbar\":{\"outlinewidth\":0,\"ticks\":\"\"},\"colorscale\":[[0.0,\"#0d0887\"],[0.1111111111111111,\"#46039f\"],[0.2222222222222222,\"#7201a8\"],[0.3333333333333333,\"#9c179e\"],[0.4444444444444444,\"#bd3786\"],[0.5555555555555556,\"#d8576b\"],[0.6666666666666666,\"#ed7953\"],[0.7777777777777778,\"#fb9f3a\"],[0.8888888888888888,\"#fdca26\"],[1.0,\"#f0f921\"]]}],\"surface\":[{\"type\":\"surface\",\"colorbar\":{\"outlinewidth\":0,\"ticks\":\"\"},\"colorscale\":[[0.0,\"#0d0887\"],[0.1111111111111111,\"#46039f\"],[0.2222222222222222,\"#7201a8\"],[0.3333333333333333,\"#9c179e\"],[0.4444444444444444,\"#bd3786\"],[0.5555555555555556,\"#d8576b\"],[0.6666666666666666,\"#ed7953\"],[0.7777777777777778,\"#fb9f3a\"],[0.8888888888888888,\"#fdca26\"],[1.0,\"#f0f921\"]]}],\"mesh3d\":[{\"type\":\"mesh3d\",\"colorbar\":{\"outlinewidth\":0,\"ticks\":\"\"}}],\"scatter\":[{\"fillpattern\":{\"fillmode\":\"overlay\",\"size\":10,\"solidity\":0.2},\"type\":\"scatter\"}],\"parcoords\":[{\"type\":\"parcoords\",\"line\":{\"colorbar\":{\"outlinewidth\":0,\"ticks\":\"\"}}}],\"scatterpolargl\":[{\"type\":\"scatterpolargl\",\"marker\":{\"colorbar\":{\"outlinewidth\":0,\"ticks\":\"\"}}}],\"bar\":[{\"error_x\":{\"color\":\"#2a3f5f\"},\"error_y\":{\"color\":\"#2a3f5f\"},\"marker\":{\"line\":{\"color\":\"#E5ECF6\",\"width\":0.5},\"pattern\":{\"fillmode\":\"overlay\",\"size\":10,\"solidity\":0.2}},\"type\":\"bar\"}],\"scattergeo\":[{\"type\":\"scattergeo\",\"marker\":{\"colorbar\":{\"outlinewidth\":0,\"ticks\":\"\"}}}],\"scatterpolar\":[{\"type\":\"scatterpolar\",\"marker\":{\"colorbar\":{\"outlinewidth\":0,\"ticks\":\"\"}}}],\"histogram\":[{\"marker\":{\"pattern\":{\"fillmode\":\"overlay\",\"size\":10,\"solidity\":0.2}},\"type\":\"histogram\"}],\"scattergl\":[{\"type\":\"scattergl\",\"marker\":{\"colorbar\":{\"outlinewidth\":0,\"ticks\":\"\"}}}],\"scatter3d\":[{\"type\":\"scatter3d\",\"line\":{\"colorbar\":{\"outlinewidth\":0,\"ticks\":\"\"}},\"marker\":{\"colorbar\":{\"outlinewidth\":0,\"ticks\":\"\"}}}],\"scattermapbox\":[{\"type\":\"scattermapbox\",\"marker\":{\"colorbar\":{\"outlinewidth\":0,\"ticks\":\"\"}}}],\"scatterternary\":[{\"type\":\"scatterternary\",\"marker\":{\"colorbar\":{\"outlinewidth\":0,\"ticks\":\"\"}}}],\"scattercarpet\":[{\"type\":\"scattercarpet\",\"marker\":{\"colorbar\":{\"outlinewidth\":0,\"ticks\":\"\"}}}],\"carpet\":[{\"aaxis\":{\"endlinecolor\":\"#2a3f5f\",\"gridcolor\":\"white\",\"linecolor\":\"white\",\"minorgridcolor\":\"white\",\"startlinecolor\":\"#2a3f5f\"},\"baxis\":{\"endlinecolor\":\"#2a3f5f\",\"gridcolor\":\"white\",\"linecolor\":\"white\",\"minorgridcolor\":\"white\",\"startlinecolor\":\"#2a3f5f\"},\"type\":\"carpet\"}],\"table\":[{\"cells\":{\"fill\":{\"color\":\"#EBF0F8\"},\"line\":{\"color\":\"white\"}},\"header\":{\"fill\":{\"color\":\"#C8D4E3\"},\"line\":{\"color\":\"white\"}},\"type\":\"table\"}],\"barpolar\":[{\"marker\":{\"line\":{\"color\":\"#E5ECF6\",\"width\":0.5},\"pattern\":{\"fillmode\":\"overlay\",\"size\":10,\"solidity\":0.2}},\"type\":\"barpolar\"}],\"pie\":[{\"automargin\":true,\"type\":\"pie\"}]},\"layout\":{\"autotypenumbers\":\"strict\",\"colorway\":[\"#636efa\",\"#EF553B\",\"#00cc96\",\"#ab63fa\",\"#FFA15A\",\"#19d3f3\",\"#FF6692\",\"#B6E880\",\"#FF97FF\",\"#FECB52\"],\"font\":{\"color\":\"#2a3f5f\"},\"hovermode\":\"closest\",\"hoverlabel\":{\"align\":\"left\"},\"paper_bgcolor\":\"white\",\"plot_bgcolor\":\"#E5ECF6\",\"polar\":{\"bgcolor\":\"#E5ECF6\",\"angularaxis\":{\"gridcolor\":\"white\",\"linecolor\":\"white\",\"ticks\":\"\"},\"radialaxis\":{\"gridcolor\":\"white\",\"linecolor\":\"white\",\"ticks\":\"\"}},\"ternary\":{\"bgcolor\":\"#E5ECF6\",\"aaxis\":{\"gridcolor\":\"white\",\"linecolor\":\"white\",\"ticks\":\"\"},\"baxis\":{\"gridcolor\":\"white\",\"linecolor\":\"white\",\"ticks\":\"\"},\"caxis\":{\"gridcolor\":\"white\",\"linecolor\":\"white\",\"ticks\":\"\"}},\"coloraxis\":{\"colorbar\":{\"outlinewidth\":0,\"ticks\":\"\"}},\"colorscale\":{\"sequential\":[[0.0,\"#0d0887\"],[0.1111111111111111,\"#46039f\"],[0.2222222222222222,\"#7201a8\"],[0.3333333333333333,\"#9c179e\"],[0.4444444444444444,\"#bd3786\"],[0.5555555555555556,\"#d8576b\"],[0.6666666666666666,\"#ed7953\"],[0.7777777777777778,\"#fb9f3a\"],[0.8888888888888888,\"#fdca26\"],[1.0,\"#f0f921\"]],\"sequentialminus\":[[0.0,\"#0d0887\"],[0.1111111111111111,\"#46039f\"],[0.2222222222222222,\"#7201a8\"],[0.3333333333333333,\"#9c179e\"],[0.4444444444444444,\"#bd3786\"],[0.5555555555555556,\"#d8576b\"],[0.6666666666666666,\"#ed7953\"],[0.7777777777777778,\"#fb9f3a\"],[0.8888888888888888,\"#fdca26\"],[1.0,\"#f0f921\"]],\"diverging\":[[0,\"#8e0152\"],[0.1,\"#c51b7d\"],[0.2,\"#de77ae\"],[0.3,\"#f1b6da\"],[0.4,\"#fde0ef\"],[0.5,\"#f7f7f7\"],[0.6,\"#e6f5d0\"],[0.7,\"#b8e186\"],[0.8,\"#7fbc41\"],[0.9,\"#4d9221\"],[1,\"#276419\"]]},\"xaxis\":{\"gridcolor\":\"white\",\"linecolor\":\"white\",\"ticks\":\"\",\"title\":{\"standoff\":15},\"zerolinecolor\":\"white\",\"automargin\":true,\"zerolinewidth\":2},\"yaxis\":{\"gridcolor\":\"white\",\"linecolor\":\"white\",\"ticks\":\"\",\"title\":{\"standoff\":15},\"zerolinecolor\":\"white\",\"automargin\":true,\"zerolinewidth\":2},\"scene\":{\"xaxis\":{\"backgroundcolor\":\"#E5ECF6\",\"gridcolor\":\"white\",\"linecolor\":\"white\",\"showbackground\":true,\"ticks\":\"\",\"zerolinecolor\":\"white\",\"gridwidth\":2},\"yaxis\":{\"backgroundcolor\":\"#E5ECF6\",\"gridcolor\":\"white\",\"linecolor\":\"white\",\"showbackground\":true,\"ticks\":\"\",\"zerolinecolor\":\"white\",\"gridwidth\":2},\"zaxis\":{\"backgroundcolor\":\"#E5ECF6\",\"gridcolor\":\"white\",\"linecolor\":\"white\",\"showbackground\":true,\"ticks\":\"\",\"zerolinecolor\":\"white\",\"gridwidth\":2}},\"shapedefaults\":{\"line\":{\"color\":\"#2a3f5f\"}},\"annotationdefaults\":{\"arrowcolor\":\"#2a3f5f\",\"arrowhead\":0,\"arrowwidth\":1},\"geo\":{\"bgcolor\":\"white\",\"landcolor\":\"#E5ECF6\",\"subunitcolor\":\"white\",\"showland\":true,\"showlakes\":true,\"lakecolor\":\"white\"},\"title\":{\"x\":0.05},\"mapbox\":{\"style\":\"light\"}}},\"xaxis\":{\"anchor\":\"y\",\"domain\":[0.0,1.0],\"title\":{\"text\":\"CO2Emissions\"}},\"yaxis\":{\"anchor\":\"x\",\"domain\":[0.0,1.0],\"title\":{\"text\":\"PM2.5Emissions\"}},\"legend\":{\"tracegroupgap\":0},\"margin\":{\"t\":60}},                        {\"responsive\": true}                    ).then(function(){\n",
       "                            \n",
       "var gd = document.getElementById('1890ca17-ec71-4e3b-9aa5-fd65c58c9ac8');\n",
       "var x = new MutationObserver(function (mutations, observer) {{\n",
       "        var display = window.getComputedStyle(gd).display;\n",
       "        if (!display || display === 'none') {{\n",
       "            console.log([gd, 'removed!']);\n",
       "            Plotly.purge(gd);\n",
       "            observer.disconnect();\n",
       "        }}\n",
       "}});\n",
       "\n",
       "// Listen for the removal of the full notebook cells\n",
       "var notebookContainer = gd.closest('#notebook-container');\n",
       "if (notebookContainer) {{\n",
       "    x.observe(notebookContainer, {childList: true});\n",
       "}}\n",
       "\n",
       "// Listen for the clearing of the current output cell\n",
       "var outputEl = gd.closest('.output');\n",
       "if (outputEl) {{\n",
       "    x.observe(outputEl, {childList: true});\n",
       "}}\n",
       "\n",
       "                        })                };                            </script>        </div>\n",
       "</body>\n",
       "</html>"
      ]
     },
     "metadata": {},
     "output_type": "display_data"
    }
   ],
   "source": [
    "px.scatter(dataframe,'CO2Emissions','PM2.5Emissions')"
   ]
  },
  {
   "cell_type": "markdown",
   "metadata": {
    "id": "wdtE--j9-gFA"
   },
   "source": [
    "**Explanation**: *This scatter plot shows groups of data points that represent different patterns in CO2 and PM2.5 emissions. We can see that most points fall within a few main clusters, indicating that certain levels of CO2 emissions are often associated with specific ranges of PM2.5 emissions. For example, one cluster of points is concentrated around higher PM2.5 levels with lower CO2 emissions, while another cluster shows lower PM2.5 levels as CO2 emissions increase. Identifying these clusters helps us understand how different sources or types of emissions are linked to different pollution patterns*."
   ]
  },
  {
   "cell_type": "markdown",
   "metadata": {
    "id": "ovjv8IMF-k3M"
   },
   "source": [
    "### Goal 5: Create a new dataframe with new columns\n",
    "\n",
    "We will create a new dataframe using emissions data that is found in some of the columns found in our dataset. Be warned....creating a new dataframe, we are overwriting it so this becomes the latest and newest version for the dataframe name. (Gulp!)"
   ]
  },
  {
   "cell_type": "markdown",
   "metadata": {
    "id": "37HUEhaCAEOo"
   },
   "source": [
    "#### Freehand"
   ]
  },
  {
   "cell_type": "markdown",
   "metadata": {
    "id": "b7ywaEHpAIPB"
   },
   "source": [
    "\n",
    "**Step 1 - Select the dataframe columns**\n",
    "\n",
    "Let’s think through what variables in **dataframe** will help us the prediction.\n",
    "\n",
    "Get the dictVariable from the LISTS menu. Select **dataframe** from the dropdown menu.\n",
    "\n",
    "Create a new list to store the column names. Using the Quotes “” from the Text menu, add the following column names to the list \"Methane\", \"NOxEmissions\", \"PM2.5Emissions\", \"VOCEmissions\", \"SO2Emissions\", and \"CO2Emissions\".\n"
   ]
  },
  {
   "cell_type": "markdown",
   "metadata": {
    "id": "J_PSda5nAJ6I"
   },
   "source": [
    "\n",
    "**Step 2 - Store the columns in a new variable**\n",
    "\n",
    "Now that we have all the data we want to look at, let’s assign the resulting **dataframe** to the dataframe variable we used earlier.\n",
    "\n",
    "The new dataset now has only the variables we think will help with our prediction. With that, it would be possible to find patterns as a result of the clustering process.\n"
   ]
  },
  {
   "cell_type": "markdown",
   "metadata": {
    "id": "7Vy6ISYNAQBc"
   },
   "source": [
    "\n",
    "**Step 3 - Display the dataframe**\n",
    "\n",
    "Finally, we display the dataframe variable to see what we got.\n"
   ]
  },
  {
   "cell_type": "markdown",
   "metadata": {
    "id": "1YhjIS12AQxU"
   },
   "source": [
    "\n",
    "**Step 4 - Connect the blocks to run the code**\n",
    "\n",
    "Connect the blocks and run the code!\n",
    "\n",
    "![](https://pbs.twimg.com/media/GaOHIb4WMAAjl-0?format=png&name=small)"
   ]
  },
  {
   "cell_type": "markdown",
   "metadata": {
    "id": "wk_GQxRoAuiS"
   },
   "source": [
    "#### Freehand"
   ]
  },
  {
   "cell_type": "markdown",
   "metadata": {
    "id": "ar7KauJ7Avup"
   },
   "source": [
    "\n",
    "**Step 1 - Select the dataframe columns**\n",
    "\n",
    "Let’s think through what variables in **dataframe** will help us with the prediction.\n",
    "\n",
    "To select the specific columns, to first select the dataframe[ ]. Inside the dataframe, we give the column names as a list.\n",
    "\n",
    "`dataframe[['Methane', 'NOxEmissions', 'PM2.5Emissions', 'VOCEmissions', 'SO2Emissions', 'CO2Emissions']]`\n"
   ]
  },
  {
   "cell_type": "markdown",
   "metadata": {
    "id": "TrhHqgDkAzri"
   },
   "source": [
    "\n",
    "**Step 2 - Store the columns in a new variable**\n",
    "\n",
    "Now that we have all the data we want to look at, let’s assign the resulting dataframe to the **dataframe** variable we used earlier.\n",
    "\n",
    "The new dataset now has only the variables we think will help with our prediction. With that, it would be possible to identify patterns as the result of the clustering process.\n",
    "\n",
    "`dataframe = dataframe[['Methane', 'NOxEmissions', 'PM2.5Emissions', 'VOCEmissions', 'SO2Emissions', 'CO2Emissions']]`\n"
   ]
  },
  {
   "cell_type": "markdown",
   "metadata": {
    "id": "SjnHspp5A1Df"
   },
   "source": [
    "\n",
    "\n",
    "**Step 3 - Print the dataframe**\n",
    "\n",
    "Finally, we print the dataframe variable to see what we got.\n",
    "\n",
    "`dataframe`"
   ]
  },
  {
   "cell_type": "markdown",
   "metadata": {
    "id": "9dINwo0TA1yN"
   },
   "source": [
    "\n",
    "\n",
    "**Step 4 - Run the code**\n",
    "\n",
    "Hit ‘control’ and ‘enter’ at the same time to run the code!\n",
    "\n",
    "\n",
    "![](https://pbs.twimg.com/media/GaOHF6LWkAAa5ZH?format=jpg&name=medium)\n"
   ]
  },
  {
   "cell_type": "markdown",
   "metadata": {
    "id": "JgA1AuFjBO-4"
   },
   "source": [
    "**Your Turn** Now it’s your turn!.\n",
    "\n"
   ]
  },
  {
   "cell_type": "code",
   "execution_count": 8,
   "metadata": {
    "colab": {
     "base_uri": "https://localhost:8080/",
     "height": 423
    },
    "id": "Tj1I_ephBQzy",
    "outputId": "dfc9e8ae-709f-401a-aa02-cea9e738e348"
   },
   "outputs": [
    {
     "data": {
      "application/vnd.google.colaboratory.intrinsic+json": {
       "summary": "{\n  \"name\": \"dataframe\",\n  \"rows\": 1845,\n  \"fields\": [\n    {\n      \"column\": \"Methane\",\n      \"properties\": {\n        \"dtype\": \"number\",\n        \"std\": 190,\n        \"min\": 263,\n        \"max\": 1266,\n        \"num_unique_values\": 650,\n        \"samples\": [\n          484,\n          530,\n          839\n        ],\n        \"semantic_type\": \"\",\n        \"description\": \"\"\n      }\n    },\n    {\n      \"column\": \"NOxEmissions\",\n      \"properties\": {\n        \"dtype\": \"number\",\n        \"std\": 173,\n        \"min\": 346,\n        \"max\": 1388,\n        \"num_unique_values\": 610,\n        \"samples\": [\n          623,\n          475,\n          705\n        ],\n        \"semantic_type\": \"\",\n        \"description\": \"\"\n      }\n    },\n    {\n      \"column\": \"PM2.5Emissions\",\n      \"properties\": {\n        \"dtype\": \"number\",\n        \"std\": 208,\n        \"min\": 753,\n        \"max\": 1738,\n        \"num_unique_values\": 718,\n        \"samples\": [\n          915,\n          1508,\n          1417\n        ],\n        \"semantic_type\": \"\",\n        \"description\": \"\"\n      }\n    },\n    {\n      \"column\": \"VOCEmissions\",\n      \"properties\": {\n        \"dtype\": \"number\",\n        \"std\": 118,\n        \"min\": 1323,\n        \"max\": 1926,\n        \"num_unique_values\": 467,\n        \"samples\": [\n          1498,\n          1528,\n          1819\n        ],\n        \"semantic_type\": \"\",\n        \"description\": \"\"\n      }\n    },\n    {\n      \"column\": \"SO2Emissions\",\n      \"properties\": {\n        \"dtype\": \"number\",\n        \"std\": 279,\n        \"min\": 773,\n        \"max\": 1948,\n        \"num_unique_values\": 844,\n        \"samples\": [\n          1204,\n          1281,\n          1023\n        ],\n        \"semantic_type\": \"\",\n        \"description\": \"\"\n      }\n    },\n    {\n      \"column\": \"CO2Emissions\",\n      \"properties\": {\n        \"dtype\": \"number\",\n        \"std\": 181,\n        \"min\": 1797,\n        \"max\": 2703,\n        \"num_unique_values\": 640,\n        \"samples\": [\n          1863,\n          1936,\n          2418\n        ],\n        \"semantic_type\": \"\",\n        \"description\": \"\"\n      }\n    }\n  ]\n}",
       "type": "dataframe",
       "variable_name": "dataframe"
      },
      "text/html": [
       "\n",
       "  <div id=\"df-47d6d748-03b7-4c00-82cf-81ee10974d5c\" class=\"colab-df-container\">\n",
       "    <div>\n",
       "<style scoped>\n",
       "    .dataframe tbody tr th:only-of-type {\n",
       "        vertical-align: middle;\n",
       "    }\n",
       "\n",
       "    .dataframe tbody tr th {\n",
       "        vertical-align: top;\n",
       "    }\n",
       "\n",
       "    .dataframe thead th {\n",
       "        text-align: right;\n",
       "    }\n",
       "</style>\n",
       "<table border=\"1\" class=\"dataframe\">\n",
       "  <thead>\n",
       "    <tr style=\"text-align: right;\">\n",
       "      <th></th>\n",
       "      <th>Methane</th>\n",
       "      <th>NOxEmissions</th>\n",
       "      <th>PM2.5Emissions</th>\n",
       "      <th>VOCEmissions</th>\n",
       "      <th>SO2Emissions</th>\n",
       "      <th>CO2Emissions</th>\n",
       "    </tr>\n",
       "  </thead>\n",
       "  <tbody>\n",
       "    <tr>\n",
       "      <th>0</th>\n",
       "      <td>670</td>\n",
       "      <td>696</td>\n",
       "      <td>1252</td>\n",
       "      <td>1720</td>\n",
       "      <td>1321</td>\n",
       "      <td>2431</td>\n",
       "    </tr>\n",
       "    <tr>\n",
       "      <th>1</th>\n",
       "      <td>641</td>\n",
       "      <td>674</td>\n",
       "      <td>1156</td>\n",
       "      <td>1652</td>\n",
       "      <td>1410</td>\n",
       "      <td>2433</td>\n",
       "    </tr>\n",
       "    <tr>\n",
       "      <th>2</th>\n",
       "      <td>642</td>\n",
       "      <td>646</td>\n",
       "      <td>1159</td>\n",
       "      <td>1643</td>\n",
       "      <td>1455</td>\n",
       "      <td>2361</td>\n",
       "    </tr>\n",
       "    <tr>\n",
       "      <th>3</th>\n",
       "      <td>640</td>\n",
       "      <td>590</td>\n",
       "      <td>1105</td>\n",
       "      <td>1608</td>\n",
       "      <td>1459</td>\n",
       "      <td>2427</td>\n",
       "    </tr>\n",
       "    <tr>\n",
       "      <th>4</th>\n",
       "      <td>616</td>\n",
       "      <td>627</td>\n",
       "      <td>1192</td>\n",
       "      <td>1637</td>\n",
       "      <td>1466</td>\n",
       "      <td>2447</td>\n",
       "    </tr>\n",
       "    <tr>\n",
       "      <th>...</th>\n",
       "      <td>...</td>\n",
       "      <td>...</td>\n",
       "      <td>...</td>\n",
       "      <td>...</td>\n",
       "      <td>...</td>\n",
       "      <td>...</td>\n",
       "    </tr>\n",
       "    <tr>\n",
       "      <th>1840</th>\n",
       "      <td>862</td>\n",
       "      <td>826</td>\n",
       "      <td>1564</td>\n",
       "      <td>1768</td>\n",
       "      <td>1540</td>\n",
       "      <td>2037</td>\n",
       "    </tr>\n",
       "    <tr>\n",
       "      <th>1841</th>\n",
       "      <td>917</td>\n",
       "      <td>821</td>\n",
       "      <td>1571</td>\n",
       "      <td>1779</td>\n",
       "      <td>1543</td>\n",
       "      <td>2008</td>\n",
       "    </tr>\n",
       "    <tr>\n",
       "      <th>1842</th>\n",
       "      <td>925</td>\n",
       "      <td>832</td>\n",
       "      <td>1582</td>\n",
       "      <td>1776</td>\n",
       "      <td>1545</td>\n",
       "      <td>1989</td>\n",
       "    </tr>\n",
       "    <tr>\n",
       "      <th>1843</th>\n",
       "      <td>928</td>\n",
       "      <td>840</td>\n",
       "      <td>1587</td>\n",
       "      <td>1787</td>\n",
       "      <td>1538</td>\n",
       "      <td>1986</td>\n",
       "    </tr>\n",
       "    <tr>\n",
       "      <th>1844</th>\n",
       "      <td>926</td>\n",
       "      <td>840</td>\n",
       "      <td>1606</td>\n",
       "      <td>1785</td>\n",
       "      <td>1555</td>\n",
       "      <td>1996</td>\n",
       "    </tr>\n",
       "  </tbody>\n",
       "</table>\n",
       "<p>1845 rows × 6 columns</p>\n",
       "</div>\n",
       "    <div class=\"colab-df-buttons\">\n",
       "\n",
       "  <div class=\"colab-df-container\">\n",
       "    <button class=\"colab-df-convert\" onclick=\"convertToInteractive('df-47d6d748-03b7-4c00-82cf-81ee10974d5c')\"\n",
       "            title=\"Convert this dataframe to an interactive table.\"\n",
       "            style=\"display:none;\">\n",
       "\n",
       "  <svg xmlns=\"http://www.w3.org/2000/svg\" height=\"24px\" viewBox=\"0 -960 960 960\">\n",
       "    <path d=\"M120-120v-720h720v720H120Zm60-500h600v-160H180v160Zm220 220h160v-160H400v160Zm0 220h160v-160H400v160ZM180-400h160v-160H180v160Zm440 0h160v-160H620v160ZM180-180h160v-160H180v160Zm440 0h160v-160H620v160Z\"/>\n",
       "  </svg>\n",
       "    </button>\n",
       "\n",
       "  <style>\n",
       "    .colab-df-container {\n",
       "      display:flex;\n",
       "      gap: 12px;\n",
       "    }\n",
       "\n",
       "    .colab-df-convert {\n",
       "      background-color: #E8F0FE;\n",
       "      border: none;\n",
       "      border-radius: 50%;\n",
       "      cursor: pointer;\n",
       "      display: none;\n",
       "      fill: #1967D2;\n",
       "      height: 32px;\n",
       "      padding: 0 0 0 0;\n",
       "      width: 32px;\n",
       "    }\n",
       "\n",
       "    .colab-df-convert:hover {\n",
       "      background-color: #E2EBFA;\n",
       "      box-shadow: 0px 1px 2px rgba(60, 64, 67, 0.3), 0px 1px 3px 1px rgba(60, 64, 67, 0.15);\n",
       "      fill: #174EA6;\n",
       "    }\n",
       "\n",
       "    .colab-df-buttons div {\n",
       "      margin-bottom: 4px;\n",
       "    }\n",
       "\n",
       "    [theme=dark] .colab-df-convert {\n",
       "      background-color: #3B4455;\n",
       "      fill: #D2E3FC;\n",
       "    }\n",
       "\n",
       "    [theme=dark] .colab-df-convert:hover {\n",
       "      background-color: #434B5C;\n",
       "      box-shadow: 0px 1px 3px 1px rgba(0, 0, 0, 0.15);\n",
       "      filter: drop-shadow(0px 1px 2px rgba(0, 0, 0, 0.3));\n",
       "      fill: #FFFFFF;\n",
       "    }\n",
       "  </style>\n",
       "\n",
       "    <script>\n",
       "      const buttonEl =\n",
       "        document.querySelector('#df-47d6d748-03b7-4c00-82cf-81ee10974d5c button.colab-df-convert');\n",
       "      buttonEl.style.display =\n",
       "        google.colab.kernel.accessAllowed ? 'block' : 'none';\n",
       "\n",
       "      async function convertToInteractive(key) {\n",
       "        const element = document.querySelector('#df-47d6d748-03b7-4c00-82cf-81ee10974d5c');\n",
       "        const dataTable =\n",
       "          await google.colab.kernel.invokeFunction('convertToInteractive',\n",
       "                                                    [key], {});\n",
       "        if (!dataTable) return;\n",
       "\n",
       "        const docLinkHtml = 'Like what you see? Visit the ' +\n",
       "          '<a target=\"_blank\" href=https://colab.research.google.com/notebooks/data_table.ipynb>data table notebook</a>'\n",
       "          + ' to learn more about interactive tables.';\n",
       "        element.innerHTML = '';\n",
       "        dataTable['output_type'] = 'display_data';\n",
       "        await google.colab.output.renderOutput(dataTable, element);\n",
       "        const docLink = document.createElement('div');\n",
       "        docLink.innerHTML = docLinkHtml;\n",
       "        element.appendChild(docLink);\n",
       "      }\n",
       "    </script>\n",
       "  </div>\n",
       "\n",
       "\n",
       "<div id=\"df-9f2ec92d-c0b0-4b12-8dd4-b87a4fd0648b\">\n",
       "  <button class=\"colab-df-quickchart\" onclick=\"quickchart('df-9f2ec92d-c0b0-4b12-8dd4-b87a4fd0648b')\"\n",
       "            title=\"Suggest charts\"\n",
       "            style=\"display:none;\">\n",
       "\n",
       "<svg xmlns=\"http://www.w3.org/2000/svg\" height=\"24px\"viewBox=\"0 0 24 24\"\n",
       "     width=\"24px\">\n",
       "    <g>\n",
       "        <path d=\"M19 3H5c-1.1 0-2 .9-2 2v14c0 1.1.9 2 2 2h14c1.1 0 2-.9 2-2V5c0-1.1-.9-2-2-2zM9 17H7v-7h2v7zm4 0h-2V7h2v10zm4 0h-2v-4h2v4z\"/>\n",
       "    </g>\n",
       "</svg>\n",
       "  </button>\n",
       "\n",
       "<style>\n",
       "  .colab-df-quickchart {\n",
       "      --bg-color: #E8F0FE;\n",
       "      --fill-color: #1967D2;\n",
       "      --hover-bg-color: #E2EBFA;\n",
       "      --hover-fill-color: #174EA6;\n",
       "      --disabled-fill-color: #AAA;\n",
       "      --disabled-bg-color: #DDD;\n",
       "  }\n",
       "\n",
       "  [theme=dark] .colab-df-quickchart {\n",
       "      --bg-color: #3B4455;\n",
       "      --fill-color: #D2E3FC;\n",
       "      --hover-bg-color: #434B5C;\n",
       "      --hover-fill-color: #FFFFFF;\n",
       "      --disabled-bg-color: #3B4455;\n",
       "      --disabled-fill-color: #666;\n",
       "  }\n",
       "\n",
       "  .colab-df-quickchart {\n",
       "    background-color: var(--bg-color);\n",
       "    border: none;\n",
       "    border-radius: 50%;\n",
       "    cursor: pointer;\n",
       "    display: none;\n",
       "    fill: var(--fill-color);\n",
       "    height: 32px;\n",
       "    padding: 0;\n",
       "    width: 32px;\n",
       "  }\n",
       "\n",
       "  .colab-df-quickchart:hover {\n",
       "    background-color: var(--hover-bg-color);\n",
       "    box-shadow: 0 1px 2px rgba(60, 64, 67, 0.3), 0 1px 3px 1px rgba(60, 64, 67, 0.15);\n",
       "    fill: var(--button-hover-fill-color);\n",
       "  }\n",
       "\n",
       "  .colab-df-quickchart-complete:disabled,\n",
       "  .colab-df-quickchart-complete:disabled:hover {\n",
       "    background-color: var(--disabled-bg-color);\n",
       "    fill: var(--disabled-fill-color);\n",
       "    box-shadow: none;\n",
       "  }\n",
       "\n",
       "  .colab-df-spinner {\n",
       "    border: 2px solid var(--fill-color);\n",
       "    border-color: transparent;\n",
       "    border-bottom-color: var(--fill-color);\n",
       "    animation:\n",
       "      spin 1s steps(1) infinite;\n",
       "  }\n",
       "\n",
       "  @keyframes spin {\n",
       "    0% {\n",
       "      border-color: transparent;\n",
       "      border-bottom-color: var(--fill-color);\n",
       "      border-left-color: var(--fill-color);\n",
       "    }\n",
       "    20% {\n",
       "      border-color: transparent;\n",
       "      border-left-color: var(--fill-color);\n",
       "      border-top-color: var(--fill-color);\n",
       "    }\n",
       "    30% {\n",
       "      border-color: transparent;\n",
       "      border-left-color: var(--fill-color);\n",
       "      border-top-color: var(--fill-color);\n",
       "      border-right-color: var(--fill-color);\n",
       "    }\n",
       "    40% {\n",
       "      border-color: transparent;\n",
       "      border-right-color: var(--fill-color);\n",
       "      border-top-color: var(--fill-color);\n",
       "    }\n",
       "    60% {\n",
       "      border-color: transparent;\n",
       "      border-right-color: var(--fill-color);\n",
       "    }\n",
       "    80% {\n",
       "      border-color: transparent;\n",
       "      border-right-color: var(--fill-color);\n",
       "      border-bottom-color: var(--fill-color);\n",
       "    }\n",
       "    90% {\n",
       "      border-color: transparent;\n",
       "      border-bottom-color: var(--fill-color);\n",
       "    }\n",
       "  }\n",
       "</style>\n",
       "\n",
       "  <script>\n",
       "    async function quickchart(key) {\n",
       "      const quickchartButtonEl =\n",
       "        document.querySelector('#' + key + ' button');\n",
       "      quickchartButtonEl.disabled = true;  // To prevent multiple clicks.\n",
       "      quickchartButtonEl.classList.add('colab-df-spinner');\n",
       "      try {\n",
       "        const charts = await google.colab.kernel.invokeFunction(\n",
       "            'suggestCharts', [key], {});\n",
       "      } catch (error) {\n",
       "        console.error('Error during call to suggestCharts:', error);\n",
       "      }\n",
       "      quickchartButtonEl.classList.remove('colab-df-spinner');\n",
       "      quickchartButtonEl.classList.add('colab-df-quickchart-complete');\n",
       "    }\n",
       "    (() => {\n",
       "      let quickchartButtonEl =\n",
       "        document.querySelector('#df-9f2ec92d-c0b0-4b12-8dd4-b87a4fd0648b button');\n",
       "      quickchartButtonEl.style.display =\n",
       "        google.colab.kernel.accessAllowed ? 'block' : 'none';\n",
       "    })();\n",
       "  </script>\n",
       "</div>\n",
       "\n",
       "  <div id=\"id_b2a880f9-c61d-4047-afb1-2664c7963dc4\">\n",
       "    <style>\n",
       "      .colab-df-generate {\n",
       "        background-color: #E8F0FE;\n",
       "        border: none;\n",
       "        border-radius: 50%;\n",
       "        cursor: pointer;\n",
       "        display: none;\n",
       "        fill: #1967D2;\n",
       "        height: 32px;\n",
       "        padding: 0 0 0 0;\n",
       "        width: 32px;\n",
       "      }\n",
       "\n",
       "      .colab-df-generate:hover {\n",
       "        background-color: #E2EBFA;\n",
       "        box-shadow: 0px 1px 2px rgba(60, 64, 67, 0.3), 0px 1px 3px 1px rgba(60, 64, 67, 0.15);\n",
       "        fill: #174EA6;\n",
       "      }\n",
       "\n",
       "      [theme=dark] .colab-df-generate {\n",
       "        background-color: #3B4455;\n",
       "        fill: #D2E3FC;\n",
       "      }\n",
       "\n",
       "      [theme=dark] .colab-df-generate:hover {\n",
       "        background-color: #434B5C;\n",
       "        box-shadow: 0px 1px 3px 1px rgba(0, 0, 0, 0.15);\n",
       "        filter: drop-shadow(0px 1px 2px rgba(0, 0, 0, 0.3));\n",
       "        fill: #FFFFFF;\n",
       "      }\n",
       "    </style>\n",
       "    <button class=\"colab-df-generate\" onclick=\"generateWithVariable('dataframe')\"\n",
       "            title=\"Generate code using this dataframe.\"\n",
       "            style=\"display:none;\">\n",
       "\n",
       "  <svg xmlns=\"http://www.w3.org/2000/svg\" height=\"24px\"viewBox=\"0 0 24 24\"\n",
       "       width=\"24px\">\n",
       "    <path d=\"M7,19H8.4L18.45,9,17,7.55,7,17.6ZM5,21V16.75L18.45,3.32a2,2,0,0,1,2.83,0l1.4,1.43a1.91,1.91,0,0,1,.58,1.4,1.91,1.91,0,0,1-.58,1.4L9.25,21ZM18.45,9,17,7.55Zm-12,3A5.31,5.31,0,0,0,4.9,8.1,5.31,5.31,0,0,0,1,6.5,5.31,5.31,0,0,0,4.9,4.9,5.31,5.31,0,0,0,6.5,1,5.31,5.31,0,0,0,8.1,4.9,5.31,5.31,0,0,0,12,6.5,5.46,5.46,0,0,0,6.5,12Z\"/>\n",
       "  </svg>\n",
       "    </button>\n",
       "    <script>\n",
       "      (() => {\n",
       "      const buttonEl =\n",
       "        document.querySelector('#id_b2a880f9-c61d-4047-afb1-2664c7963dc4 button.colab-df-generate');\n",
       "      buttonEl.style.display =\n",
       "        google.colab.kernel.accessAllowed ? 'block' : 'none';\n",
       "\n",
       "      buttonEl.onclick = () => {\n",
       "        google.colab.notebook.generateWithVariable('dataframe');\n",
       "      }\n",
       "      })();\n",
       "    </script>\n",
       "  </div>\n",
       "\n",
       "    </div>\n",
       "  </div>\n"
      ],
      "text/plain": [
       "      Methane  NOxEmissions  PM2.5Emissions  VOCEmissions  SO2Emissions  \\\n",
       "0         670           696            1252          1720          1321   \n",
       "1         641           674            1156          1652          1410   \n",
       "2         642           646            1159          1643          1455   \n",
       "3         640           590            1105          1608          1459   \n",
       "4         616           627            1192          1637          1466   \n",
       "...       ...           ...             ...           ...           ...   \n",
       "1840      862           826            1564          1768          1540   \n",
       "1841      917           821            1571          1779          1543   \n",
       "1842      925           832            1582          1776          1545   \n",
       "1843      928           840            1587          1787          1538   \n",
       "1844      926           840            1606          1785          1555   \n",
       "\n",
       "      CO2Emissions  \n",
       "0             2431  \n",
       "1             2433  \n",
       "2             2361  \n",
       "3             2427  \n",
       "4             2447  \n",
       "...            ...  \n",
       "1840          2037  \n",
       "1841          2008  \n",
       "1842          1989  \n",
       "1843          1986  \n",
       "1844          1996  \n",
       "\n",
       "[1845 rows x 6 columns]"
      ]
     },
     "execution_count": 8,
     "metadata": {},
     "output_type": "execute_result"
    }
   ],
   "source": [
    "dataframe = dataframe[['Methane', 'NOxEmissions', 'PM2.5Emissions', 'VOCEmissions', 'SO2Emissions', 'CO2Emissions']]\n",
    "dataframe"
   ]
  },
  {
   "cell_type": "markdown",
   "metadata": {
    "id": "jnp8wo2OBSO0"
   },
   "source": [
    "**Explanation**: *You have created a new dataset containing only specific emissions-related columns, which can then be used to identify patterns through clustering analysis*."
   ]
  },
  {
   "cell_type": "markdown",
   "metadata": {
    "id": "QdRi4-YoBX_o"
   },
   "source": [
    "### Goal 6: Import the package to start the K-means cluster\n",
    "\n",
    "We will use the K-means clustering model to predict cluster membership for each datapoint (i.e. a row in our dataframe) then use the fit_predict function to store cluster prediction results."
   ]
  },
  {
   "cell_type": "markdown",
   "metadata": {
    "id": "BFX0uXvtBjwW"
   },
   "source": [
    "\n",
    "**Step 1 - Starting the import**\n",
    "\n",
    "First, we need to set up a “command” to tell the computer what to do. In this case, “command” is to “import” to bring the add-on package in.\n",
    "\n",
    "Bring in the IMPORT menu, which can be helpful to bring in other data tools. In this case, we're bringing in the **import** block.\n"
   ]
  },
  {
   "cell_type": "markdown",
   "metadata": {
    "id": "174I1j_YBlRA"
   },
   "source": [
    "\n",
    "**Step 2 - Telling what library to import**\n",
    "\n",
    "In the text area, we type the name of the library we want to import. A library is like an extra thing we bring in to give us more coding abilities. In our case, we will type out **sklearn.cluster**, which automatically groups similar data points into awesome clusters!"
   ]
  },
  {
   "cell_type": "markdown",
   "metadata": {
    "id": "hflaTxiaBmRA"
   },
   "source": [
    "\n",
    "**Step 3 - Renaming the library so it’s easy to remember**\n",
    "\n",
    "Once you are done, put the **import** and **package** together in a single variable. This handy feature helps cut down on all the typing later on. You can call it whatever is easiest for you to remember. In the example below, we’ve put everything into **cluster**, and we type it in the open area.\n"
   ]
  },
  {
   "cell_type": "markdown",
   "metadata": {
    "id": "jp0fNBFABnCU"
   },
   "source": [
    "\n",
    "**Step 4 - Connect the blocks to run the code**\n",
    "\n",
    "Connect the blocks and run the code!\n",
    "\n",
    "![](https://pbs.twimg.com/media/GaN02IIWAAA2XDP?format=png&name=360x360\n",
    ")"
   ]
  },
  {
   "cell_type": "markdown",
   "metadata": {
    "id": "KXms5aM8B_Uc"
   },
   "source": [
    "#### Freehand"
   ]
  },
  {
   "cell_type": "markdown",
   "metadata": {
    "id": "TUPypE-zCDEY"
   },
   "source": [
    "\n",
    "**Step 1 - Starting the import**\n",
    "\n",
    "First, we need to set up a “command” to tell the computer what to do. In this case, “command” is to “import” to bring the add-on package in."
   ]
  },
  {
   "cell_type": "markdown",
   "metadata": {
    "id": "C3h5MWaoCECA"
   },
   "source": [
    "\n",
    "\n",
    "**Step 2 - Telling what library to import**\n",
    "\n",
    "In the text area, we type the name of the library we want to import. A library is like an extra thing we bring in to give us more coding abilities. In our case, we will type out **sklearn.cluster**, which automatically groups similar data points into awesome clusters!\n"
   ]
  },
  {
   "cell_type": "markdown",
   "metadata": {
    "id": "2HPlaQ1KCEy4"
   },
   "source": [
    "\n",
    "**Step 3 - Renaming the library so it’s easy to remember**\n",
    "\n",
    "Once you are done, put the ‘import’ and ‘package’ together in a single variable. This handy feature helps cut down on all the typing later on. Feel free to use whatever name you want that will help you remember it later on. In the example below, we’ve put everything into **cluster**.\n"
   ]
  },
  {
   "cell_type": "markdown",
   "metadata": {
    "id": "kqYMv770CFe-"
   },
   "source": [
    "\n",
    "**Step 4 - Run the code**\n",
    "\n",
    "Hit ‘control’ and ‘enter’ at the same time to run the code!\n",
    "\n",
    "\n",
    "![](https://pbs.twimg.com/media/GaN0z4hWUAA7ExU?format=png&name=360x360)\n"
   ]
  },
  {
   "cell_type": "markdown",
   "metadata": {
    "id": "9d4RSXi9CRZc"
   },
   "source": [
    "**Your Turn**: How about let’s give it a go. See if you can bring in sklearn library to help us do some interesting data science tasks\n"
   ]
  },
  {
   "cell_type": "code",
   "execution_count": 9,
   "metadata": {
    "id": "EEeGl_SNCTwb"
   },
   "outputs": [],
   "source": [
    "import sklearn.cluster as cluster"
   ]
  },
  {
   "cell_type": "markdown",
   "metadata": {
    "id": "mmfUFlBYCUf4"
   },
   "source": [
    "**Explanation**: *You have now the library that provides clustering algorithms to group similar data points, helping to find patterns and natural groupings in data*."
   ]
  },
  {
   "cell_type": "markdown",
   "metadata": {
    "id": "2WGzbjUAR_TF"
   },
   "source": [
    "### Goal 7: Create the model object Let’s get started with KMeans\n",
    "\n",
    "Clustering and tell how many clusters to look at"
   ]
  },
  {
   "cell_type": "markdown",
   "metadata": {
    "id": "vtN1R7hkSDk0"
   },
   "source": [
    "#### Blockly"
   ]
  },
  {
   "cell_type": "markdown",
   "metadata": {
    "id": "CTFY9F74SEnx"
   },
   "source": [
    "**Step 1 Write out the variable name you want to use**\n",
    "\n",
    "On the Variable menu, click Create Variable, and type **kmeansModel**. From the same menu, get a Set block for this newly created variable."
   ]
  },
  {
   "cell_type": "markdown",
   "metadata": {
    "id": "qfFLr9r1SGte"
   },
   "source": [
    "\n",
    "**Step 2 - Create the KMeans model**\n",
    "\n",
    "Now we will try to create a KMeans model to find the patterns and put them in groups.\n",
    "\n",
    "From the Variable menu, get a Create block. Select the **cluster** variable, and on the Create menu select the **KMeans** object type (class). Let’s use the **cluster** module to help us create the KMeans model."
   ]
  },
  {
   "cell_type": "markdown",
   "metadata": {
    "id": "7KW1gB9USIZN"
   },
   "source": [
    "\n",
    "**Step 3 - Define the hyperparameters**\n",
    "\n",
    "But how many groups? How about 4? For this dataset, we set the number of clusters to 4, meaning the data will be divided into  4 clusters.\n",
    "\n",
    "Get a Freestyle block, type **n_clusters=4**. This will set the number of clusters to 4, meaning the data will be divided into  4 clusters.\n"
   ]
  },
  {
   "cell_type": "markdown",
   "metadata": {
    "id": "LTGWoIptSJV5"
   },
   "source": [
    "\n",
    "**Step 4 - Assign the model to the variable you created**\n",
    "\n",
    "Just like we did before, let’s put all that code into a single variable that’s easy to remember.\n",
    "\n",
    "Assign the model to the **kmeansModel** variable.\n"
   ]
  },
  {
   "cell_type": "markdown",
   "metadata": {
    "id": "SVu8CabmSKH7"
   },
   "source": [
    "\n",
    "**Step 5 - Connect the blocks to run the code**\n",
    "\n",
    "Connect the blocks and run the code!\n",
    "\n",
    "\n",
    "![](https://pbs.twimg.com/media/GaOKGjtWkAALJBf?format=png&name=small)\n"
   ]
  },
  {
   "cell_type": "markdown",
   "metadata": {
    "id": "t4VO5AEBSjS3"
   },
   "source": [
    "#### Freehand"
   ]
  },
  {
   "cell_type": "markdown",
   "metadata": {
    "id": "aEgG8toRSkeX"
   },
   "source": [
    "\n",
    "**Step 1 - Create the KMeans model**\n",
    "\n",
    "Now we will try to create a KMeans model to find the patterns and put them in groups.  Let’s use the cluster module to help us create the KMeans model.\n",
    "\n",
    "`cluster.KMeans()`\n"
   ]
  },
  {
   "cell_type": "markdown",
   "metadata": {
    "id": "SUxvAA_YSswO"
   },
   "source": [
    "\n",
    "**Step 2 - Define the hyperparameters**\n",
    "\n",
    "But how many groups? How about 4? For this dataset, we set the number of clusters to 4, meaning the data will be divided into  4 clusters.\n",
    "\n",
    "`cluster.KMeans(n_clusters=4)`\n"
   ]
  },
  {
   "cell_type": "markdown",
   "metadata": {
    "id": "7y3somenStj9"
   },
   "source": [
    "\n",
    "**Step 3 - Assign the model to the variable you created**\n",
    "\n",
    "Just like we did before, let’s put all that code into a single variable that’s easy to remember.\n",
    "\n",
    "Finally, we save the clustering result in a variable **‘kmeansModel’**.\n",
    "\n",
    "`kmeansModel = cluster,KMeans(n_clusters=4)`\n"
   ]
  },
  {
   "cell_type": "markdown",
   "metadata": {
    "id": "9cCODCbHSuie"
   },
   "source": [
    "\n",
    "**Step 4 - Run the code**\n",
    "\n",
    "Hit ‘control’ and ‘enter’ at the same time to run the code!\n",
    "\n",
    "![](https://pbs.twimg.com/media/GaQeFCZXMAA2ywS?format=png&name=small\n",
    ")"
   ]
  },
  {
   "cell_type": "markdown",
   "metadata": {
    "id": "ufkBpD__S-1j"
   },
   "source": [
    "**Your Turn**: So let’s try it ourselves! Let’s see if we can run our KMeans with 4 clusters"
   ]
  },
  {
   "cell_type": "code",
   "execution_count": 10,
   "metadata": {
    "id": "VlosmoTeTBpF"
   },
   "outputs": [],
   "source": [
    "kmeansModel = cluster.KMeans(n_clusters=4)"
   ]
  },
  {
   "cell_type": "markdown",
   "metadata": {
    "id": "WfZPGFbpTCXl"
   },
   "source": [
    "**Explanation**: *You now have a KMeans clustering model using, which will group data into 4 clusters. The model will find four distinct groups in the data based on similarities. This can help us see patterns or categorize data points that are alike*."
   ]
  },
  {
   "cell_type": "markdown",
   "metadata": {
    "id": "sg1225zsTGpr"
   },
   "source": [
    "### Goal 8: Train (fit) and predict\n",
    "\n",
    "Let’s take part of our data and train it. Once it’s all trained, let’s use it to predict the 4 clusters new data will go into.\n"
   ]
  },
  {
   "cell_type": "markdown",
   "metadata": {
    "id": "-Z7dlS-zTIxh"
   },
   "source": [
    "#### Blockly"
   ]
  },
  {
   "cell_type": "markdown",
   "metadata": {
    "id": "zNzo5ii8TNxz"
   },
   "source": [
    "**Step 1 - Write out the name of a variable you want to use**\n",
    "\n",
    "Now that we’re all set with our new package to help us to do cool things, let’s bring the data into a variable and call it **predictions**. Think of it as a digital spreadsheet with much more power to analyze and manipulate the data!\n",
    "\n",
    "In Blockly, bring in the VARIABLES menu.\n"
   ]
  },
  {
   "cell_type": "markdown",
   "metadata": {
    "id": "_wF-V9lRTPlj"
   },
   "source": [
    "\n",
    "**Step 2 - Train the model**\n",
    "\n",
    "To make predictions using the cluster model, we use our **kmeansModel** and call the **fit_predict**() method on it. This method will first train our model and then set labels for each datapoint.\n",
    "\n",
    "From the Variable menu, get a DO block for the variable kmeansModel. With that, select fit_predict operation.\n"
   ]
  },
  {
   "cell_type": "markdown",
   "metadata": {
    "id": "Wuq03lVLTRAt"
   },
   "source": [
    "\n",
    "**Step 3 - Bring the training dataset**\n",
    "\n",
    "Next, we provide the data for the cluster to do the clustering. Here, we provide the same data **dataframe** we used to do the clustering. We can also provide other data to the cluster to access the model's performance better.\n",
    "\n",
    "From the Variables menu, get the dataframe variable to connect with this operation. This will train the model and predict the values of the 4 clusters.\n"
   ]
  },
  {
   "cell_type": "markdown",
   "metadata": {
    "id": "cCd5RduWTSEj"
   },
   "source": [
    "\n",
    "**Step 4 - Assign the predicted results to the variable you created**\n",
    "\n",
    "From the Variables menu, drag the predictions variable. This will predict which one of the four clusters will go for new data the model tries to analyze.\n"
   ]
  },
  {
   "cell_type": "markdown",
   "metadata": {
    "id": "BQAvc5tNTS46"
   },
   "source": [
    "\n",
    "**Step 5 - Display the predicted clusters**\n",
    "\n",
    "So let’s try to look at our results. So now we display the predicted results by using variable **predictions**.\n"
   ]
  },
  {
   "cell_type": "markdown",
   "metadata": {
    "id": "gAOFkncITTmh"
   },
   "source": [
    "\n",
    "**Step 6 - Connect the blocks to run the code**\n",
    "\n",
    "Connect the blocks and run the code!\n",
    "\n",
    "![](https://pbs.twimg.com/media/GaN3kx5XwAAnKSP?format=png&name=small)"
   ]
  },
  {
   "cell_type": "markdown",
   "metadata": {
    "id": "hCS_sS00T5xI"
   },
   "source": [
    "#### Freehand"
   ]
  },
  {
   "cell_type": "markdown",
   "metadata": {
    "id": "63yuMj-yT64X"
   },
   "source": [
    "\n",
    "**Step 1 - Train the model**\n",
    "\n",
    "To make predictions using the cluster model, we use our **kmeansModel** and call the fit_predict() method on it. This method will first train our model and then set labels for each datapoint.\n",
    "\n",
    "`kmeansModel.fit_predict()`"
   ]
  },
  {
   "cell_type": "markdown",
   "metadata": {
    "id": "laInO7KMUABj"
   },
   "source": [
    "\n",
    "\n",
    "**Step 2 - Bring the training dataset**\n",
    "\n",
    "Next, we provide the data for the cluster to do the clustering. Here, we provide the same data **dataframe** we used to do the clustering. We can also provide other data to the cluster to access the models performance better.\n",
    "\n",
    "`kmeansModel.fit_predict(dataframe)`\n"
   ]
  },
  {
   "cell_type": "markdown",
   "metadata": {
    "id": "W5mASCmyUBIp"
   },
   "source": [
    "\n",
    "**Step 3 - Assign the predicted results to the variable you created**\n",
    "\n",
    "Next, we save the prediction results in a variable **predictions**.\n",
    "\n",
    "`predictions= kmeansModel.fit_predict(dataframe)`\n"
   ]
  },
  {
   "cell_type": "markdown",
   "metadata": {
    "id": "mE9QL34mUB0e"
   },
   "source": [
    "\n",
    "**Step 4 - Print the predicted clusters**\n",
    "\n",
    "So let’s try to look at our results. Finally, we display the predicted results by using variable **predictions**\n",
    "\n",
    "`predictions`"
   ]
  },
  {
   "cell_type": "markdown",
   "metadata": {
    "id": "B1WV8WNiUCcC"
   },
   "source": [
    "\n",
    "\n",
    "**Step 5 - Run the code**\n",
    "\n",
    "Hit ‘control’ and ‘enter’ at the same time to run the code!\n",
    "\n",
    "![](https://pbs.twimg.com/media/GaN3irEW4AIQcrq?format=png&name=small\n",
    ")"
   ]
  },
  {
   "cell_type": "markdown",
   "metadata": {
    "id": "wBNmKiDwUaHo"
   },
   "source": [
    "**Your Turn** Now it’s your turn! Let’s try to train (fit) our model and see what we get!\n",
    "\n"
   ]
  },
  {
   "cell_type": "code",
   "execution_count": 11,
   "metadata": {
    "colab": {
     "base_uri": "https://localhost:8080/"
    },
    "id": "XhNummzxUbgw",
    "outputId": "bce5776d-201b-410f-be61-a3f9f535aa81"
   },
   "outputs": [
    {
     "data": {
      "text/plain": [
       "array([0, 0, 0, ..., 1, 1, 1], dtype=int32)"
      ]
     },
     "execution_count": 11,
     "metadata": {},
     "output_type": "execute_result"
    }
   ],
   "source": [
    "predictions = kmeansModel.fit_predict(dataframe)\n",
    "predictions"
   ]
  },
  {
   "cell_type": "markdown",
   "metadata": {
    "id": "-a82x-EvUczU"
   },
   "source": [
    "**Explanation**: *At this point you asked the model to look at the data, figure out the clusters, and then assign each data point to a cluster*."
   ]
  },
  {
   "cell_type": "markdown",
   "metadata": {
    "id": "YYQRvbKpUex8"
   },
   "source": [
    "### Goal 9: Now that we have our predictions\n",
    "\n",
    "Let’s just add it back into the dataframe we already created\n"
   ]
  },
  {
   "cell_type": "markdown",
   "metadata": {
    "id": "lCVi0DrUUnck"
   },
   "source": [
    "#### Blockly"
   ]
  },
  {
   "cell_type": "markdown",
   "metadata": {
    "id": "u72lE2JNUo1-"
   },
   "source": [
    "\n",
    "**Step 1 - Call the insert() method of the dataframe**\n",
    "\n",
    "To see the clustering result of each datapoint, we will add the results into our dataframe. This will let us look at the cluster number, set for each datapoint. To do this, we use the insert() method on the ‘dataframe’.\n",
    "\n",
    "From the Variable menu, get a DO block for the **dataframe** variable. With it, select the **insert** operation. The insert function will add a new column to the dataframe.\n"
   ]
  },
  {
   "cell_type": "markdown",
   "metadata": {
    "id": "W4PMD13iUvJA"
   },
   "source": [
    "\n",
    "**Step 2 - Add parameters into the insert() method**\n",
    "\n",
    "Inside the insert method, we need to tell it what to go and what to look at using parameters. In this case, let’s write…\n",
    "- **0** The column index where the new column should be inserted. Here, it specifies the first column position\n",
    "- \"**cluster**\" The name of the new column\n",
    "- **predictions** The data to insert into the new column. predictions should be a list, array, or Series with the same number of elements as the rows in dataframe.\n",
    "\n",
    "From the Math menu, get the number 123 block, change it to 0 (zero), The column index where the new column should be inserted. Here, the 0 specifies the first column position\n",
    "\n",
    "Then get a Quote “” block to type **“cluster”**, that will define the name of the column.\n",
    "\n",
    "Lastly, from the Variables menu, get the block for the **predictions** variable. This is basically bringing in what clusters we just predicted in the last goal\n"
   ]
  },
  {
   "cell_type": "markdown",
   "metadata": {
    "id": "JneHTWEzUw6R"
   },
   "source": [
    "\n",
    "**Step 3 - Display the updated dataframe with the new ‘cluster’ column**\n",
    "\n",
    "From the Variables menu, get the block of the **dataframe** variable. This will display the updated dataframe, which now includes the new \"cluster\" column with the predicted cluster labels.\n"
   ]
  },
  {
   "cell_type": "markdown",
   "metadata": {
    "id": "CfTIq_wJUzGd"
   },
   "source": [
    "\n",
    "**Step 4 - Connect the blocks to run the code**\n",
    "\n",
    "Connect the blocks and run the code!\n",
    "\n",
    "![](https://pbs.twimg.com/media/GaOMK_yWUAANQ78?format=png&name=360x360)"
   ]
  },
  {
   "cell_type": "markdown",
   "metadata": {
    "id": "_oRd6aZRVSuc"
   },
   "source": [
    "#### Freehand"
   ]
  },
  {
   "cell_type": "markdown",
   "metadata": {
    "id": "eI0qvCEbVVFY"
   },
   "source": [
    "\n",
    "**Step 1 - Call the insert() method of the dataframe**\n",
    "\n",
    "To see the clustering result of each datapoint, we will add the results into our dataframe. This will let us look at the cluster number, set for each datapoint. To do this, we use the **insert**() method on the ‘dataframe’.\n",
    "\n",
    "`dataframe.insert()`"
   ]
  },
  {
   "cell_type": "markdown",
   "metadata": {
    "id": "uP71eaobVZ5F"
   },
   "source": [
    "\n",
    "\n",
    "**Step 2 - Add parameters into the insert() method**\n",
    "\n",
    "Inside the insert method, we need to tell it what to go and what to look at using parameters. In this case, let’s write…\n",
    "\n",
    "- **0** The column index where the new column should be inserted. Here, the 0 specifies the first column position\n",
    "- \"**cluster**\"  Define name of the new column\n",
    "- **predictions** The data to insert into the new column. This is basically bringing in what clusters we just predicted in the last goal\n",
    "\n",
    "`dataframe.insert(0, ”cluster”, predictions)`\n"
   ]
  },
  {
   "cell_type": "markdown",
   "metadata": {
    "id": "o5Bc2rh8Vbas"
   },
   "source": [
    "\n",
    "**Step 3 - Print the updated dataframe with the new ‘cluster’ column**\n",
    "\n",
    "Now, we can view the new dataframe that has the cluster column added to it.\n",
    "\n",
    "`dataframe`\n"
   ]
  },
  {
   "cell_type": "markdown",
   "metadata": {
    "id": "lSuQRL7WVcS7"
   },
   "source": [
    "\n",
    "**Step 4 - Run the code**\n",
    "\n",
    "Hit ‘control’ and ‘enter’ at the same time to run the code!\n",
    "\n",
    "\n",
    "![](https://pbs.twimg.com/media/GaOMNx3XoAAKbZR?format=png&name=small)\n"
   ]
  },
  {
   "cell_type": "markdown",
   "metadata": {
    "id": "vilUkb6-XcPs"
   },
   "source": [
    "**Your Turn** Seems easy enough, right? See if you can type out the code above and try to run it. What do you get?!\n"
   ]
  },
  {
   "cell_type": "code",
   "execution_count": 12,
   "metadata": {
    "colab": {
     "base_uri": "https://localhost:8080/",
     "height": 423
    },
    "id": "EPXV8G43XfU0",
    "outputId": "ccbedbd5-3533-4749-e065-586e9f3efb9c"
   },
   "outputs": [
    {
     "data": {
      "application/vnd.google.colaboratory.intrinsic+json": {
       "summary": "{\n  \"name\": \"dataframe\",\n  \"rows\": 1845,\n  \"fields\": [\n    {\n      \"column\": \"cluster\",\n      \"properties\": {\n        \"dtype\": \"int32\",\n        \"num_unique_values\": 4,\n        \"samples\": [\n          3,\n          2,\n          0\n        ],\n        \"semantic_type\": \"\",\n        \"description\": \"\"\n      }\n    },\n    {\n      \"column\": \"Methane\",\n      \"properties\": {\n        \"dtype\": \"number\",\n        \"std\": 190,\n        \"min\": 263,\n        \"max\": 1266,\n        \"num_unique_values\": 650,\n        \"samples\": [\n          484,\n          530,\n          839\n        ],\n        \"semantic_type\": \"\",\n        \"description\": \"\"\n      }\n    },\n    {\n      \"column\": \"NOxEmissions\",\n      \"properties\": {\n        \"dtype\": \"number\",\n        \"std\": 173,\n        \"min\": 346,\n        \"max\": 1388,\n        \"num_unique_values\": 610,\n        \"samples\": [\n          623,\n          475,\n          705\n        ],\n        \"semantic_type\": \"\",\n        \"description\": \"\"\n      }\n    },\n    {\n      \"column\": \"PM2.5Emissions\",\n      \"properties\": {\n        \"dtype\": \"number\",\n        \"std\": 208,\n        \"min\": 753,\n        \"max\": 1738,\n        \"num_unique_values\": 718,\n        \"samples\": [\n          915,\n          1508,\n          1417\n        ],\n        \"semantic_type\": \"\",\n        \"description\": \"\"\n      }\n    },\n    {\n      \"column\": \"VOCEmissions\",\n      \"properties\": {\n        \"dtype\": \"number\",\n        \"std\": 118,\n        \"min\": 1323,\n        \"max\": 1926,\n        \"num_unique_values\": 467,\n        \"samples\": [\n          1498,\n          1528,\n          1819\n        ],\n        \"semantic_type\": \"\",\n        \"description\": \"\"\n      }\n    },\n    {\n      \"column\": \"SO2Emissions\",\n      \"properties\": {\n        \"dtype\": \"number\",\n        \"std\": 279,\n        \"min\": 773,\n        \"max\": 1948,\n        \"num_unique_values\": 844,\n        \"samples\": [\n          1204,\n          1281,\n          1023\n        ],\n        \"semantic_type\": \"\",\n        \"description\": \"\"\n      }\n    },\n    {\n      \"column\": \"CO2Emissions\",\n      \"properties\": {\n        \"dtype\": \"number\",\n        \"std\": 181,\n        \"min\": 1797,\n        \"max\": 2703,\n        \"num_unique_values\": 640,\n        \"samples\": [\n          1863,\n          1936,\n          2418\n        ],\n        \"semantic_type\": \"\",\n        \"description\": \"\"\n      }\n    }\n  ]\n}",
       "type": "dataframe",
       "variable_name": "dataframe"
      },
      "text/html": [
       "\n",
       "  <div id=\"df-28eebdc5-75b0-4c3d-b8ea-05bf9d11065f\" class=\"colab-df-container\">\n",
       "    <div>\n",
       "<style scoped>\n",
       "    .dataframe tbody tr th:only-of-type {\n",
       "        vertical-align: middle;\n",
       "    }\n",
       "\n",
       "    .dataframe tbody tr th {\n",
       "        vertical-align: top;\n",
       "    }\n",
       "\n",
       "    .dataframe thead th {\n",
       "        text-align: right;\n",
       "    }\n",
       "</style>\n",
       "<table border=\"1\" class=\"dataframe\">\n",
       "  <thead>\n",
       "    <tr style=\"text-align: right;\">\n",
       "      <th></th>\n",
       "      <th>cluster</th>\n",
       "      <th>Methane</th>\n",
       "      <th>NOxEmissions</th>\n",
       "      <th>PM2.5Emissions</th>\n",
       "      <th>VOCEmissions</th>\n",
       "      <th>SO2Emissions</th>\n",
       "      <th>CO2Emissions</th>\n",
       "    </tr>\n",
       "  </thead>\n",
       "  <tbody>\n",
       "    <tr>\n",
       "      <th>0</th>\n",
       "      <td>0</td>\n",
       "      <td>670</td>\n",
       "      <td>696</td>\n",
       "      <td>1252</td>\n",
       "      <td>1720</td>\n",
       "      <td>1321</td>\n",
       "      <td>2431</td>\n",
       "    </tr>\n",
       "    <tr>\n",
       "      <th>1</th>\n",
       "      <td>0</td>\n",
       "      <td>641</td>\n",
       "      <td>674</td>\n",
       "      <td>1156</td>\n",
       "      <td>1652</td>\n",
       "      <td>1410</td>\n",
       "      <td>2433</td>\n",
       "    </tr>\n",
       "    <tr>\n",
       "      <th>2</th>\n",
       "      <td>0</td>\n",
       "      <td>642</td>\n",
       "      <td>646</td>\n",
       "      <td>1159</td>\n",
       "      <td>1643</td>\n",
       "      <td>1455</td>\n",
       "      <td>2361</td>\n",
       "    </tr>\n",
       "    <tr>\n",
       "      <th>3</th>\n",
       "      <td>0</td>\n",
       "      <td>640</td>\n",
       "      <td>590</td>\n",
       "      <td>1105</td>\n",
       "      <td>1608</td>\n",
       "      <td>1459</td>\n",
       "      <td>2427</td>\n",
       "    </tr>\n",
       "    <tr>\n",
       "      <th>4</th>\n",
       "      <td>0</td>\n",
       "      <td>616</td>\n",
       "      <td>627</td>\n",
       "      <td>1192</td>\n",
       "      <td>1637</td>\n",
       "      <td>1466</td>\n",
       "      <td>2447</td>\n",
       "    </tr>\n",
       "    <tr>\n",
       "      <th>...</th>\n",
       "      <td>...</td>\n",
       "      <td>...</td>\n",
       "      <td>...</td>\n",
       "      <td>...</td>\n",
       "      <td>...</td>\n",
       "      <td>...</td>\n",
       "      <td>...</td>\n",
       "    </tr>\n",
       "    <tr>\n",
       "      <th>1840</th>\n",
       "      <td>1</td>\n",
       "      <td>862</td>\n",
       "      <td>826</td>\n",
       "      <td>1564</td>\n",
       "      <td>1768</td>\n",
       "      <td>1540</td>\n",
       "      <td>2037</td>\n",
       "    </tr>\n",
       "    <tr>\n",
       "      <th>1841</th>\n",
       "      <td>1</td>\n",
       "      <td>917</td>\n",
       "      <td>821</td>\n",
       "      <td>1571</td>\n",
       "      <td>1779</td>\n",
       "      <td>1543</td>\n",
       "      <td>2008</td>\n",
       "    </tr>\n",
       "    <tr>\n",
       "      <th>1842</th>\n",
       "      <td>1</td>\n",
       "      <td>925</td>\n",
       "      <td>832</td>\n",
       "      <td>1582</td>\n",
       "      <td>1776</td>\n",
       "      <td>1545</td>\n",
       "      <td>1989</td>\n",
       "    </tr>\n",
       "    <tr>\n",
       "      <th>1843</th>\n",
       "      <td>1</td>\n",
       "      <td>928</td>\n",
       "      <td>840</td>\n",
       "      <td>1587</td>\n",
       "      <td>1787</td>\n",
       "      <td>1538</td>\n",
       "      <td>1986</td>\n",
       "    </tr>\n",
       "    <tr>\n",
       "      <th>1844</th>\n",
       "      <td>1</td>\n",
       "      <td>926</td>\n",
       "      <td>840</td>\n",
       "      <td>1606</td>\n",
       "      <td>1785</td>\n",
       "      <td>1555</td>\n",
       "      <td>1996</td>\n",
       "    </tr>\n",
       "  </tbody>\n",
       "</table>\n",
       "<p>1845 rows × 7 columns</p>\n",
       "</div>\n",
       "    <div class=\"colab-df-buttons\">\n",
       "\n",
       "  <div class=\"colab-df-container\">\n",
       "    <button class=\"colab-df-convert\" onclick=\"convertToInteractive('df-28eebdc5-75b0-4c3d-b8ea-05bf9d11065f')\"\n",
       "            title=\"Convert this dataframe to an interactive table.\"\n",
       "            style=\"display:none;\">\n",
       "\n",
       "  <svg xmlns=\"http://www.w3.org/2000/svg\" height=\"24px\" viewBox=\"0 -960 960 960\">\n",
       "    <path d=\"M120-120v-720h720v720H120Zm60-500h600v-160H180v160Zm220 220h160v-160H400v160Zm0 220h160v-160H400v160ZM180-400h160v-160H180v160Zm440 0h160v-160H620v160ZM180-180h160v-160H180v160Zm440 0h160v-160H620v160Z\"/>\n",
       "  </svg>\n",
       "    </button>\n",
       "\n",
       "  <style>\n",
       "    .colab-df-container {\n",
       "      display:flex;\n",
       "      gap: 12px;\n",
       "    }\n",
       "\n",
       "    .colab-df-convert {\n",
       "      background-color: #E8F0FE;\n",
       "      border: none;\n",
       "      border-radius: 50%;\n",
       "      cursor: pointer;\n",
       "      display: none;\n",
       "      fill: #1967D2;\n",
       "      height: 32px;\n",
       "      padding: 0 0 0 0;\n",
       "      width: 32px;\n",
       "    }\n",
       "\n",
       "    .colab-df-convert:hover {\n",
       "      background-color: #E2EBFA;\n",
       "      box-shadow: 0px 1px 2px rgba(60, 64, 67, 0.3), 0px 1px 3px 1px rgba(60, 64, 67, 0.15);\n",
       "      fill: #174EA6;\n",
       "    }\n",
       "\n",
       "    .colab-df-buttons div {\n",
       "      margin-bottom: 4px;\n",
       "    }\n",
       "\n",
       "    [theme=dark] .colab-df-convert {\n",
       "      background-color: #3B4455;\n",
       "      fill: #D2E3FC;\n",
       "    }\n",
       "\n",
       "    [theme=dark] .colab-df-convert:hover {\n",
       "      background-color: #434B5C;\n",
       "      box-shadow: 0px 1px 3px 1px rgba(0, 0, 0, 0.15);\n",
       "      filter: drop-shadow(0px 1px 2px rgba(0, 0, 0, 0.3));\n",
       "      fill: #FFFFFF;\n",
       "    }\n",
       "  </style>\n",
       "\n",
       "    <script>\n",
       "      const buttonEl =\n",
       "        document.querySelector('#df-28eebdc5-75b0-4c3d-b8ea-05bf9d11065f button.colab-df-convert');\n",
       "      buttonEl.style.display =\n",
       "        google.colab.kernel.accessAllowed ? 'block' : 'none';\n",
       "\n",
       "      async function convertToInteractive(key) {\n",
       "        const element = document.querySelector('#df-28eebdc5-75b0-4c3d-b8ea-05bf9d11065f');\n",
       "        const dataTable =\n",
       "          await google.colab.kernel.invokeFunction('convertToInteractive',\n",
       "                                                    [key], {});\n",
       "        if (!dataTable) return;\n",
       "\n",
       "        const docLinkHtml = 'Like what you see? Visit the ' +\n",
       "          '<a target=\"_blank\" href=https://colab.research.google.com/notebooks/data_table.ipynb>data table notebook</a>'\n",
       "          + ' to learn more about interactive tables.';\n",
       "        element.innerHTML = '';\n",
       "        dataTable['output_type'] = 'display_data';\n",
       "        await google.colab.output.renderOutput(dataTable, element);\n",
       "        const docLink = document.createElement('div');\n",
       "        docLink.innerHTML = docLinkHtml;\n",
       "        element.appendChild(docLink);\n",
       "      }\n",
       "    </script>\n",
       "  </div>\n",
       "\n",
       "\n",
       "<div id=\"df-004d09fb-ad37-4627-8671-a101e1bc1d98\">\n",
       "  <button class=\"colab-df-quickchart\" onclick=\"quickchart('df-004d09fb-ad37-4627-8671-a101e1bc1d98')\"\n",
       "            title=\"Suggest charts\"\n",
       "            style=\"display:none;\">\n",
       "\n",
       "<svg xmlns=\"http://www.w3.org/2000/svg\" height=\"24px\"viewBox=\"0 0 24 24\"\n",
       "     width=\"24px\">\n",
       "    <g>\n",
       "        <path d=\"M19 3H5c-1.1 0-2 .9-2 2v14c0 1.1.9 2 2 2h14c1.1 0 2-.9 2-2V5c0-1.1-.9-2-2-2zM9 17H7v-7h2v7zm4 0h-2V7h2v10zm4 0h-2v-4h2v4z\"/>\n",
       "    </g>\n",
       "</svg>\n",
       "  </button>\n",
       "\n",
       "<style>\n",
       "  .colab-df-quickchart {\n",
       "      --bg-color: #E8F0FE;\n",
       "      --fill-color: #1967D2;\n",
       "      --hover-bg-color: #E2EBFA;\n",
       "      --hover-fill-color: #174EA6;\n",
       "      --disabled-fill-color: #AAA;\n",
       "      --disabled-bg-color: #DDD;\n",
       "  }\n",
       "\n",
       "  [theme=dark] .colab-df-quickchart {\n",
       "      --bg-color: #3B4455;\n",
       "      --fill-color: #D2E3FC;\n",
       "      --hover-bg-color: #434B5C;\n",
       "      --hover-fill-color: #FFFFFF;\n",
       "      --disabled-bg-color: #3B4455;\n",
       "      --disabled-fill-color: #666;\n",
       "  }\n",
       "\n",
       "  .colab-df-quickchart {\n",
       "    background-color: var(--bg-color);\n",
       "    border: none;\n",
       "    border-radius: 50%;\n",
       "    cursor: pointer;\n",
       "    display: none;\n",
       "    fill: var(--fill-color);\n",
       "    height: 32px;\n",
       "    padding: 0;\n",
       "    width: 32px;\n",
       "  }\n",
       "\n",
       "  .colab-df-quickchart:hover {\n",
       "    background-color: var(--hover-bg-color);\n",
       "    box-shadow: 0 1px 2px rgba(60, 64, 67, 0.3), 0 1px 3px 1px rgba(60, 64, 67, 0.15);\n",
       "    fill: var(--button-hover-fill-color);\n",
       "  }\n",
       "\n",
       "  .colab-df-quickchart-complete:disabled,\n",
       "  .colab-df-quickchart-complete:disabled:hover {\n",
       "    background-color: var(--disabled-bg-color);\n",
       "    fill: var(--disabled-fill-color);\n",
       "    box-shadow: none;\n",
       "  }\n",
       "\n",
       "  .colab-df-spinner {\n",
       "    border: 2px solid var(--fill-color);\n",
       "    border-color: transparent;\n",
       "    border-bottom-color: var(--fill-color);\n",
       "    animation:\n",
       "      spin 1s steps(1) infinite;\n",
       "  }\n",
       "\n",
       "  @keyframes spin {\n",
       "    0% {\n",
       "      border-color: transparent;\n",
       "      border-bottom-color: var(--fill-color);\n",
       "      border-left-color: var(--fill-color);\n",
       "    }\n",
       "    20% {\n",
       "      border-color: transparent;\n",
       "      border-left-color: var(--fill-color);\n",
       "      border-top-color: var(--fill-color);\n",
       "    }\n",
       "    30% {\n",
       "      border-color: transparent;\n",
       "      border-left-color: var(--fill-color);\n",
       "      border-top-color: var(--fill-color);\n",
       "      border-right-color: var(--fill-color);\n",
       "    }\n",
       "    40% {\n",
       "      border-color: transparent;\n",
       "      border-right-color: var(--fill-color);\n",
       "      border-top-color: var(--fill-color);\n",
       "    }\n",
       "    60% {\n",
       "      border-color: transparent;\n",
       "      border-right-color: var(--fill-color);\n",
       "    }\n",
       "    80% {\n",
       "      border-color: transparent;\n",
       "      border-right-color: var(--fill-color);\n",
       "      border-bottom-color: var(--fill-color);\n",
       "    }\n",
       "    90% {\n",
       "      border-color: transparent;\n",
       "      border-bottom-color: var(--fill-color);\n",
       "    }\n",
       "  }\n",
       "</style>\n",
       "\n",
       "  <script>\n",
       "    async function quickchart(key) {\n",
       "      const quickchartButtonEl =\n",
       "        document.querySelector('#' + key + ' button');\n",
       "      quickchartButtonEl.disabled = true;  // To prevent multiple clicks.\n",
       "      quickchartButtonEl.classList.add('colab-df-spinner');\n",
       "      try {\n",
       "        const charts = await google.colab.kernel.invokeFunction(\n",
       "            'suggestCharts', [key], {});\n",
       "      } catch (error) {\n",
       "        console.error('Error during call to suggestCharts:', error);\n",
       "      }\n",
       "      quickchartButtonEl.classList.remove('colab-df-spinner');\n",
       "      quickchartButtonEl.classList.add('colab-df-quickchart-complete');\n",
       "    }\n",
       "    (() => {\n",
       "      let quickchartButtonEl =\n",
       "        document.querySelector('#df-004d09fb-ad37-4627-8671-a101e1bc1d98 button');\n",
       "      quickchartButtonEl.style.display =\n",
       "        google.colab.kernel.accessAllowed ? 'block' : 'none';\n",
       "    })();\n",
       "  </script>\n",
       "</div>\n",
       "\n",
       "  <div id=\"id_031626fd-b9b9-400e-b1fb-6757ea184699\">\n",
       "    <style>\n",
       "      .colab-df-generate {\n",
       "        background-color: #E8F0FE;\n",
       "        border: none;\n",
       "        border-radius: 50%;\n",
       "        cursor: pointer;\n",
       "        display: none;\n",
       "        fill: #1967D2;\n",
       "        height: 32px;\n",
       "        padding: 0 0 0 0;\n",
       "        width: 32px;\n",
       "      }\n",
       "\n",
       "      .colab-df-generate:hover {\n",
       "        background-color: #E2EBFA;\n",
       "        box-shadow: 0px 1px 2px rgba(60, 64, 67, 0.3), 0px 1px 3px 1px rgba(60, 64, 67, 0.15);\n",
       "        fill: #174EA6;\n",
       "      }\n",
       "\n",
       "      [theme=dark] .colab-df-generate {\n",
       "        background-color: #3B4455;\n",
       "        fill: #D2E3FC;\n",
       "      }\n",
       "\n",
       "      [theme=dark] .colab-df-generate:hover {\n",
       "        background-color: #434B5C;\n",
       "        box-shadow: 0px 1px 3px 1px rgba(0, 0, 0, 0.15);\n",
       "        filter: drop-shadow(0px 1px 2px rgba(0, 0, 0, 0.3));\n",
       "        fill: #FFFFFF;\n",
       "      }\n",
       "    </style>\n",
       "    <button class=\"colab-df-generate\" onclick=\"generateWithVariable('dataframe')\"\n",
       "            title=\"Generate code using this dataframe.\"\n",
       "            style=\"display:none;\">\n",
       "\n",
       "  <svg xmlns=\"http://www.w3.org/2000/svg\" height=\"24px\"viewBox=\"0 0 24 24\"\n",
       "       width=\"24px\">\n",
       "    <path d=\"M7,19H8.4L18.45,9,17,7.55,7,17.6ZM5,21V16.75L18.45,3.32a2,2,0,0,1,2.83,0l1.4,1.43a1.91,1.91,0,0,1,.58,1.4,1.91,1.91,0,0,1-.58,1.4L9.25,21ZM18.45,9,17,7.55Zm-12,3A5.31,5.31,0,0,0,4.9,8.1,5.31,5.31,0,0,0,1,6.5,5.31,5.31,0,0,0,4.9,4.9,5.31,5.31,0,0,0,6.5,1,5.31,5.31,0,0,0,8.1,4.9,5.31,5.31,0,0,0,12,6.5,5.46,5.46,0,0,0,6.5,12Z\"/>\n",
       "  </svg>\n",
       "    </button>\n",
       "    <script>\n",
       "      (() => {\n",
       "      const buttonEl =\n",
       "        document.querySelector('#id_031626fd-b9b9-400e-b1fb-6757ea184699 button.colab-df-generate');\n",
       "      buttonEl.style.display =\n",
       "        google.colab.kernel.accessAllowed ? 'block' : 'none';\n",
       "\n",
       "      buttonEl.onclick = () => {\n",
       "        google.colab.notebook.generateWithVariable('dataframe');\n",
       "      }\n",
       "      })();\n",
       "    </script>\n",
       "  </div>\n",
       "\n",
       "    </div>\n",
       "  </div>\n"
      ],
      "text/plain": [
       "      cluster  Methane  NOxEmissions  PM2.5Emissions  VOCEmissions  \\\n",
       "0           0      670           696            1252          1720   \n",
       "1           0      641           674            1156          1652   \n",
       "2           0      642           646            1159          1643   \n",
       "3           0      640           590            1105          1608   \n",
       "4           0      616           627            1192          1637   \n",
       "...       ...      ...           ...             ...           ...   \n",
       "1840        1      862           826            1564          1768   \n",
       "1841        1      917           821            1571          1779   \n",
       "1842        1      925           832            1582          1776   \n",
       "1843        1      928           840            1587          1787   \n",
       "1844        1      926           840            1606          1785   \n",
       "\n",
       "      SO2Emissions  CO2Emissions  \n",
       "0             1321          2431  \n",
       "1             1410          2433  \n",
       "2             1455          2361  \n",
       "3             1459          2427  \n",
       "4             1466          2447  \n",
       "...            ...           ...  \n",
       "1840          1540          2037  \n",
       "1841          1543          2008  \n",
       "1842          1545          1989  \n",
       "1843          1538          1986  \n",
       "1844          1555          1996  \n",
       "\n",
       "[1845 rows x 7 columns]"
      ]
     },
     "execution_count": 12,
     "metadata": {},
     "output_type": "execute_result"
    }
   ],
   "source": [
    "dataframe.insert(0,\"cluster\",predictions)\n",
    "dataframe"
   ]
  },
  {
   "cell_type": "markdown",
   "metadata": {
    "id": "BL3pbwHgXhNL"
   },
   "source": [
    "**Explanation**: *You have added a new column called \"cluster\" at the beginning of the dataframe. The values in this column come from predictions, which likely contains the cluster labels assigned to each data point. This way, each row in the dataframe shows which cluster it belongs to, helping us see how the data is grouped*."
   ]
  },
  {
   "cell_type": "markdown",
   "metadata": {
    "id": "HTESVpx6XzMv"
   },
   "source": [
    "### Goal 10: Create scatterplots using the new cluster variable.\n"
   ]
  },
  {
   "cell_type": "markdown",
   "metadata": {
    "id": "eKbVubfQX0N1"
   },
   "source": [
    "#### Blockly"
   ]
  },
  {
   "cell_type": "markdown",
   "metadata": {
    "id": "OCdNiZsYX1uw"
   },
   "source": [
    "\n",
    "**Step 1 -  Call the scatter function from plotly**\n",
    "\n",
    "To make a scatterplot, we first need to call the scatter function with our plotly library (px).\n",
    "\n",
    "From the Variables menu drag a DO block for the **px** variable. Select the **scatter** function. This specifies the function we want to call, which is the scatter function from the Plotly Express library (imported as \"px\" earlier).\n"
   ]
  },
  {
   "cell_type": "markdown",
   "metadata": {
    "id": "fIdITwzeYJE_"
   },
   "source": [
    "\n",
    "**Step 2 -  Saying what data to use for the scatter plot**\n",
    "\n",
    "In order to make a plot, we need to choose its source from which data we want to plot from. In this case, our dataset is stored in the dataframe **dataframe**.\n",
    "\n",
    "For the first argument, drag from the Variable menu the **dataframe** variable. This allows us to specify a dataframe and what to look at for the scatter function."
   ]
  },
  {
   "cell_type": "markdown",
   "metadata": {
    "id": "7EBhXCrPYRr7"
   },
   "source": [
    "\n",
    "\n",
    "**Step 3 -  Tell plotly what columns to put on the axis**\n",
    "\n",
    "Identify the two variables you want to look at. One variable will be alongside the X-axis (*across*) and another one alongside the Y-axis (*up and down*). In our context, we want to see the relationship between **CO2Emissions** and **PM2.5Emissions**. We will assign the variables to the 2 axes in the graph.\n",
    "\n",
    "From the TEXT menu, drag the Quotes. Type the text **CO2Emissions**. This specifies TrafficVolume as the x-axis variable for the scatter plot. Also, from the TEXT menu, drag the Quotes. Type the text **PM2.5Emissions**."
   ]
  },
  {
   "cell_type": "markdown",
   "metadata": {
    "id": "bgdS_AWLYTOW"
   },
   "source": [
    "\n",
    "\n",
    "**Step 4 - Adding colors to each cluster**\n",
    "\n",
    "Finally, with the last Quote block, type cluster, it will determine the name of the column with the predicted cluster identified by corresponding colors.     \n",
    "\n",
    "From the TEXT menu, drag the Quotes. Type the text **‘cluster’**.\n"
   ]
  },
  {
   "cell_type": "markdown",
   "metadata": {
    "id": "kQggyYHkYVF2"
   },
   "source": [
    "\n",
    "**Step 5 - Connect the blocks to run the code**\n",
    "\n",
    "Connect the blocks and run the code!\n",
    "\n",
    "![](https://pbs.twimg.com/media/GaOPZxQWEAEkoxU?format=png&name=360x360)\n"
   ]
  },
  {
   "cell_type": "markdown",
   "metadata": {
    "id": "rDEHkh1hY9gv"
   },
   "source": [
    "#### Freehand"
   ]
  },
  {
   "cell_type": "markdown",
   "metadata": {
    "id": "cG6o2QPaY-9M"
   },
   "source": [
    "\n",
    "**Step 1 -  Call the scatter function from plotly**\n",
    "\n",
    "To make a scatterplot, we first need to call the scatter function with our plotly library (px).\n",
    "\n",
    "From the Variables menu drag a DO block for the **px** variable. Select the \"**scatter**\" function. This specifies the function we want to call, which is the scatter function from the Plotly Express library (imported as \"px\" earlier).\n",
    "\n",
    "`px.scatter()`"
   ]
  },
  {
   "cell_type": "markdown",
   "metadata": {
    "id": "tvB1Hy4lZKnZ"
   },
   "source": [
    "\n",
    "\n",
    "**Step 2 -  Saying what data to use for the scatter plot**\n",
    "\n",
    "In order to make a plot, we need to choose its source from which data we want to plot from. In this case, our dataset is stored in the dataframe **dataframe**.\n",
    "\n",
    "`px.scatter(dataframe)`\n"
   ]
  },
  {
   "cell_type": "markdown",
   "metadata": {
    "id": "JHLs6eVkZTmx"
   },
   "source": [
    "\n",
    "\n",
    "**Step 3 -  Tell plotly what the columns to put on the axis**\n",
    "\n",
    "Inside the scatter() method, we add our parameters for the plot\n",
    "- **dataframe** The DataFrame containing the data to plot.\n",
    "- '**CO2Emissions**' The column to be plotted on the x-axis, representing the CO₂ emission levels.\n",
    "- '**PM2.5Emissions**' The column to be plotted on the y-axis, representing PM2.5 emission levels.\n",
    "\n",
    "`px.scatter(dataframe,'CO2Emissions','PM2.5Emissions')`\n"
   ]
  },
  {
   "cell_type": "markdown",
   "metadata": {
    "id": "SldTSYQxZe6U"
   },
   "source": [
    "\n",
    "**Step 4 - Adding colors to each cluster**\n",
    "\n",
    "Finally, let’s type type **cluster** to determine the name of the column with the predicted cluster identified by corresponding colors.     \n",
    "\n",
    "- '**Cluster**', add a last parameter as ‘cluster’ which will paint each dot with the corresponding color\n",
    "\n",
    "`px.scatter(dataframe,'CO2Emissions','PM2.5Emissions','cluster)`\n"
   ]
  },
  {
   "cell_type": "markdown",
   "metadata": {
    "id": "8V7FaYulZweo"
   },
   "source": [
    "**Step 5 - Run the code**\n",
    "\n",
    "Hit ‘control’ and ‘enter’ at the same time to run the code!\n",
    "\n",
    "![](https://pbs.twimg.com/media/GaOPc3IXgAA7qxy?format=png&name=small\n",
    ")"
   ]
  },
  {
   "cell_type": "markdown",
   "metadata": {
    "id": "MR8u_uVpZzDO"
   },
   "source": [
    "\n",
    "**Your Turn**: We’ve tried to create our new variable. Let’s jump in and see what our scatterplot looks like and if we can find any interesting patterns\n"
   ]
  },
  {
   "cell_type": "code",
   "execution_count": 13,
   "metadata": {
    "colab": {
     "base_uri": "https://localhost:8080/",
     "height": 542
    },
    "id": "_d7aaETmZ6nF",
    "outputId": "5b3277fd-bf69-4728-e7ef-eae8b5cf11f4"
   },
   "outputs": [
    {
     "data": {
      "text/html": [
       "<html>\n",
       "<head><meta charset=\"utf-8\" /></head>\n",
       "<body>\n",
       "    <div>            <script src=\"https://cdnjs.cloudflare.com/ajax/libs/mathjax/2.7.5/MathJax.js?config=TeX-AMS-MML_SVG\"></script><script type=\"text/javascript\">if (window.MathJax && window.MathJax.Hub && window.MathJax.Hub.Config) {window.MathJax.Hub.Config({SVG: {font: \"STIX-Web\"}});}</script>                <script type=\"text/javascript\">window.PlotlyConfig = {MathJaxConfig: 'local'};</script>\n",
       "        <script charset=\"utf-8\" src=\"https://cdn.plot.ly/plotly-2.35.2.min.js\"></script>                <div id=\"82c417c1-8766-4dfc-a097-9b8fb73ef2f9\" class=\"plotly-graph-div\" style=\"height:525px; width:100%;\"></div>            <script type=\"text/javascript\">                                    window.PLOTLYENV=window.PLOTLYENV || {};                                    if (document.getElementById(\"82c417c1-8766-4dfc-a097-9b8fb73ef2f9\")) {                    Plotly.newPlot(                        \"82c417c1-8766-4dfc-a097-9b8fb73ef2f9\",                        [{\"hovertemplate\":\"CO2Emissions=%{x}\\u003cbr\\u003ePM2.5Emissions=%{y}\\u003cbr\\u003ecluster=%{marker.color}\\u003cextra\\u003e\\u003c\\u002fextra\\u003e\",\"legendgroup\":\"\",\"marker\":{\"color\":[0,0,0,0,0,3,0,3,3,3,3,3,3,3,3,3,0,0,0,0,0,0,0,0,0,0,0,0,0,0,1,1,1,1,1,1,1,1,1,1,3,1,1,1,3,3,3,3,3,3,3,3,3,3,3,3,3,3,3,3,3,2,2,2,2,2,2,2,2,2,2,2,2,2,2,2,2,2,2,2,2,2,2,2,0,0,0,0,0,0,0,0,0,0,0,0,2,2,2,2,2,2,2,2,2,2,2,2,2,2,2,2,2,2,2,2,2,0,0,0,0,0,0,0,0,0,0,0,0,0,0,2,2,2,2,0,2,2,2,2,2,2,0,0,0,0,0,0,0,0,0,0,0,0,0,0,0,0,0,0,0,0,0,0,0,0,0,3,3,3,3,3,3,3,3,3,3,3,3,3,3,3,3,3,3,3,3,3,3,3,3,3,3,3,0,0,0,0,0,0,3,3,3,3,3,3,3,3,3,3,3,3,1,3,3,3,0,0,0,0,0,0,0,2,2,2,2,2,2,2,2,2,2,2,2,2,2,2,2,2,2,2,2,2,2,2,2,2,2,2,2,0,0,0,0,0,0,0,0,0,0,0,0,0,0,0,0,0,0,0,0,3,3,3,0,0,0,0,0,2,2,2,2,2,2,2,2,2,2,2,2,0,0,0,0,0,0,0,0,0,0,2,0,0,0,0,0,0,0,0,0,0,0,0,0,3,3,0,0,0,0,0,0,0,0,0,0,2,2,2,2,2,2,2,2,2,2,2,2,2,2,2,2,2,2,2,2,2,2,2,2,2,2,2,2,2,2,2,2,2,2,2,0,3,3,3,3,3,3,3,3,3,3,3,3,3,3,3,3,3,3,3,3,3,3,3,3,3,3,3,3,3,3,3,3,3,3,3,3,3,3,3,3,3,3,3,3,3,3,3,3,3,3,3,3,3,3,3,3,3,3,3,3,3,3,3,3,3,3,3,3,1,1,1,1,1,1,1,1,1,1,1,1,1,1,1,1,1,1,1,1,1,1,1,1,1,1,1,1,3,0,1,1,1,1,1,3,2,2,2,2,2,2,2,2,0,0,0,0,0,0,0,0,0,0,0,0,0,0,0,0,0,0,0,0,0,0,0,0,0,0,0,0,0,0,0,0,0,0,0,0,0,0,0,0,0,0,0,0,0,0,0,0,0,0,0,0,0,0,2,2,2,2,2,0,0,2,0,0,0,3,3,3,3,3,3,3,3,3,3,3,3,3,3,3,3,3,3,3,3,3,3,3,3,3,3,3,3,3,3,3,3,3,3,3,3,3,3,3,3,3,3,3,3,3,3,3,3,3,3,3,3,3,3,3,3,3,3,3,3,3,3,3,3,3,3,3,2,2,2,2,2,2,2,2,2,2,2,2,2,2,2,2,2,2,2,2,2,2,2,2,2,2,2,2,2,2,2,2,2,2,2,2,2,0,0,0,0,0,0,0,0,0,0,0,0,0,0,0,0,0,0,0,0,0,0,0,0,0,0,0,0,0,0,0,0,1,1,1,1,1,1,1,1,1,1,1,1,1,1,1,1,3,3,3,3,3,3,3,3,3,3,3,3,3,3,3,3,3,3,3,3,3,3,3,3,3,3,3,3,3,3,3,3,3,3,3,3,3,3,3,3,3,3,3,3,3,3,3,3,0,3,3,3,3,3,3,0,0,0,0,0,0,0,0,0,0,0,0,0,0,0,0,0,0,0,0,0,0,0,0,0,0,0,0,0,0,0,0,0,0,0,0,0,0,0,0,0,0,0,0,0,0,0,0,0,0,0,0,0,0,0,0,0,0,0,0,0,0,0,0,0,0,0,0,0,0,0,0,2,2,2,2,2,2,2,2,2,2,2,2,2,2,2,2,2,2,2,2,2,2,2,2,2,2,2,2,2,2,2,2,2,2,2,2,2,2,0,0,0,0,0,2,2,2,2,2,2,2,2,2,2,2,2,2,2,0,0,0,0,0,0,0,0,0,0,0,0,0,0,0,0,0,0,0,0,0,0,0,0,0,0,0,0,0,0,0,0,0,0,0,0,0,0,0,3,3,3,0,0,0,0,0,0,0,0,0,0,0,0,0,0,0,0,0,0,0,0,0,0,0,0,0,0,0,0,0,0,0,0,0,0,0,0,0,0,0,0,0,0,0,0,0,0,0,0,0,0,0,0,2,2,2,2,2,2,2,2,2,2,2,2,2,2,2,2,2,2,2,2,2,1,1,1,1,1,1,1,1,1,1,1,1,1,1,1,1,1,1,1,1,1,0,2,2,2,2,2,2,2,2,2,2,2,2,2,2,2,2,2,2,2,2,2,2,2,2,2,2,2,2,2,2,2,2,2,2,2,2,2,2,2,2,2,0,0,0,0,0,0,0,0,0,0,0,0,0,0,0,0,0,0,0,0,0,0,0,0,0,0,0,0,0,0,2,2,2,2,2,2,2,2,2,2,2,2,2,2,2,2,2,2,2,2,2,2,2,2,2,2,2,2,2,2,2,2,2,2,2,2,2,2,2,2,2,2,0,0,0,3,0,0,3,3,3,3,0,0,0,0,0,0,0,0,3,3,1,1,1,1,1,1,1,1,1,1,0,0,0,0,0,0,0,0,1,1,1,1,1,1,1,1,0,1,1,1,1,0,0,1,1,1,1,1,1,1,1,1,1,1,1,1,1,1,1,1,1,1,1,1,1,1,2,2,2,2,2,2,2,2,2,2,2,2,2,2,2,2,2,2,2,2,2,2,2,2,2,2,2,2,2,2,2,2,2,2,2,2,2,2,2,2,2,2,2,2,2,2,2,2,2,2,2,2,2,2,2,2,2,2,2,2,2,2,2,2,2,2,2,2,2,2,2,2,2,2,2,2,2,2,2,2,2,2,2,2,2,2,2,2,1,1,3,0,1,1,1,1,1,1,1,0,0,0,0,0,0,1,0,0,0,1,1,1,1,1,1,1,0,1,1,0,0,0,0,0,0,0,0,0,0,0,0,0,0,0,0,0,0,1,1,1,1,1,1,1,1,1,1,1,1,1,1,1,1,1,1,1,1,1,1,1,1,1,1,1,1,1,1,1,1,1,1,1,1,1,1,1,1,1,1,1,1,1,1,1,0,1,1,1,1,1,0,0,0,0,0,0,0,2,2,2,2,2,2,2,2,2,2,2,2,0,2,0,0,0,0,0,0,0,0,0,0,0,0,0,0,0,0,0,0,0,0,0,0,0,0,0,0,0,0,0,0,0,0,0,0,0,0,0,0,0,0,0,0,0,0,0,0,0,0,0,0,0,0,0,0,0,0,0,0,0,0,0,0,0,0,2,2,2,2,2,2,2,2,2,2,0,0,2,2,2,2,2,2,2,2,2,2,2,2,2,1,1,1,1,1,1,1,1,1,1,1,1,1,0,0,0,0,0,0,0,0,0,0,0,0,0,0,0,0,0,0,0,0,0,0,0,0,0,0,0,0,0,0,0,0,0,0,0,0,0,0,0,0,0,0,0,0,0,0,0,2,2,2,2,0,0,1,1,1,1,1,1,1,1,1,1,1,1,1,1,1,1,1,1,1,1,1,1,1,1,1,1,1,1,1,1,1,1,1,2,2,2,2,2,2,2,2,2,2,2,2,2,0,1,1,1,1,1,1,1,1,1,1,1,1,1,1,1,1,1,0,0,2,2,2,2,2,2,2,2,2,0,0,0,0,0,0,0,0,0,0,0,0,0,0,0,0,0,0,0,0,0,0,0,0,0,0,0,0,0,0,0,0,0,0,0,0,0,0,0,0,0,0,0,0,0,0,0,0,0,0,0,0,0,2,2,2,2,2,2,2,2,2,2,2,2,2,2,2,2,2,2,2,2,2,2,2,2,2,2,2,2,2,2,2,2,2,2,2,2,2,0,3,3,3,3,3,3,3,3,3,3,3,3,3,3,3,3,3,3,3,3,3,3,3,3,3,3,3,3,3,3,3,3,2,2,2,2,2,2,2,2,2,2,2,2,2,2,2,2,2,2,2,2,2,2,2,2,2,2,2,2,2,2,2,2,2,2,2,2,2,2,2,2,2,2,2,2,2,2,2,2,2,2,2,2,2,2,0,0,0,0,0,0,0,0,0,0,0,0,0,0,2,2,2,2,2,2,1,1,1,1,1],\"coloraxis\":\"coloraxis\",\"symbol\":\"circle\"},\"mode\":\"markers\",\"name\":\"\",\"showlegend\":false,\"x\":[2431,2433,2361,2427,2447,2434,2450,2476,2405,2454,2438,2427,2447,2451,2478,2457,2442,2459,2453,2442,2465,2440,2454,2457,2451,2444,2476,2426,2479,2479,2047,1957,1896,1957,1917,1904,1826,1957,1929,1977,2164,2134,2079,2122,2200,2181,2180,2198,2177,2167,2185,2394,2419,2388,2382,2388,2331,2398,2395,2388,2409,2380,2488,2477,2475,2472,2504,2509,2485,2435,2485,2455,2485,2485,2485,2485,2485,2485,2485,2485,2485,2485,2485,2485,2328,2250,2260,2323,2324,2342,2320,2289,2308,2360,2376,2414,2565,2619,2700,2658,2702,2695,2667,2664,2684,2695,2642,2669,2681,2703,2524,2539,2555,2578,2604,2600,2623,2401,2392,2383,2387,2353,2344,2356,2380,2362,2339,2426,2491,2506,2236,2233,2249,2231,2232,2212,2234,2213,2235,2216,2249,2264,2346,2377,2422,2387,2344,2336,2334,2340,2368,2364,2337,2304,2330,2368,2411,2403,2433,2430,2464,2455,2478,2442,2450,2432,2425,2442,2408,2420,2408,2430,2405,2375,2361,2345,2367,2288,2297,2350,2372,2366,2379,2361,2353,2345,2347,2367,2308,2331,2296,2265,2217,2290,2323,2307,2303,2286,2278,2254,2237,2227,2201,2217,2184,2234,2222,2178,2178,2199,2213,2185,2160,2210,2213,2263,2339,2355,2388,2375,2390,2386,2397,2172,2133,2169,2161,2262,2265,2215,2215,2215,2241,2205,2286,2215,2241,2205,2286,2286,2450,2438,2452,2482,2434,2519,2467,2305,2241,2251,2342,2364,2430,2440,2412,2478,2487,2364,2430,2440,2412,2478,2487,2467,2437,2338,2374,2279,2266,2281,2245,2290,2280,2275,2345,2289,2375,2345,2394,2555,2578,2541,2533,2535,2542,2565,2523,2529,2534,2523,2501,2482,2513,2526,2492,2486,2535,2514,2529,2511,2527,2554,2513,2457,2493,2493,2531,2506,2513,2502,2494,2510,2464,2422,2370,2441,2429,2432,2520,2500,2491,2528,2551,2480,2562,2533,2533,2200,2207,2227,2237,2233,2236,2292,2295,2252,2263,2263,2259,2212,2270,2265,2245,2272,2201,2222,2229,2243,2247,2228,2238,2265,2554,2524,2530,2556,2537,2540,2535,2568,2568,2550,2500,2509,2426,2463,2513,2430,2486,2494,2454,2493,2462,2501,2456,2502,2504,2476,2503,2479,2458,2431,2467,2468,2445,2398,2490,2430,2498,2482,2458,2467,2449,2499,2464,2510,2457,2498,2502,2480,2494,2498,2483,2483,2465,2491,2440,2503,2520,2475,2513,2497,2519,2502,2510,2498,2510,2486,2428,2504,2480,2490,2438,2473,2495,2491,2532,2518,2496,2166,2188,2121,2108,1928,1849,1950,1911,1929,1936,1961,1957,1948,1938,1947,1976,2026,1996,2010,2018,2015,2019,2006,2017,2000,1923,1935,1948,2035,2070,2183,2120,1923,1935,1948,2035,2070,2183,2371,2251,2245,2265,2272,2292,2294,2501,2379,2362,2421,2372,2448,2374,2365,2418,2380,2447,2435,2432,2440,2380,2428,2395,2388,2398,2368,2412,2395,2372,2362,2400,2402,2407,2414,2367,2362,2317,2355,2357,2326,2383,2327,2322,2370,2405,2381,2382,2407,2376,2433,2432,2430,2411,2247,2212,2230,2299,2230,2287,2263,2224,2398,2321,2358,2346,2309,2301,2306,2351,2316,2344,2393,2426,2421,2467,2440,2470,2449,2443,2462,2471,2445,2404,2438,2491,2434,2453,2468,2476,2501,2451,2449,2479,2459,2434,2429,2424,2507,2422,2500,2475,2491,2483,2460,2466,2460,2495,2473,2422,2419,2471,2455,2497,2488,2483,2491,2490,2466,2476,2468,2472,2497,2479,2473,2491,2493,2479,2478,2493,2450,2467,2474,2482,2486,2490,2467,2461,2464,2448,2170,2108,2125,2185,2100,2120,2141,2198,2152,2109,2121,2151,2526,2484,2492,2519,2507,2496,2492,2439,2460,2525,2492,2517,2511,2450,2534,2468,2515,2468,2463,2518,2506,2461,2517,2484,2536,2318,2311,2305,2266,2284,2279,2324,2335,2314,2347,2243,2291,2280,2300,2308,2327,2322,2330,2363,2344,2360,2272,2362,2363,2287,2303,2301,2352,2369,2307,2349,2355,2049,2038,1995,2032,2013,1907,1947,1827,1916,1949,1904,1919,1861,1874,1946,2021,2475,2465,2463,2433,2400,2447,2425,2447,2442,2456,2424,2445,2454,2464,2359,2416,2462,2441,2467,2471,2443,2458,2453,2470,2440,2452,2434,2478,2449,2458,2432,2464,2461,2450,2453,2407,2450,2445,2432,2425,2402,2439,2442,2426,2418,2408,2457,2363,2428,2375,2452,2463,2469,2437,2458,2168,2186,2174,2187,2149,2166,2150,2142,2137,2154,2164,2059,2171,2105,2136,2162,2152,2128,2138,2150,2105,2151,2130,2162,2159,2129,2158,2156,2126,2146,2135,2088,2128,2114,2107,2161,2163,2112,2185,2151,2158,2165,2169,2147,2170,2165,2160,2131,2143,2149,2156,2196,2144,2166,2149,2181,2190,2181,2194,2147,2177,2202,2188,2140,2209,2168,2198,2209,2199,2206,2168,2145,2292,2284,2317,2317,2296,2216,2310,2311,2308,2309,2293,2329,2301,2316,2296,2304,2264,2272,2303,2380,2346,2373,2342,2344,2345,2394,2344,2381,2340,2378,2278,2360,2386,2372,2374,2378,2367,2350,2192,2197,2291,2292,2292,2284,2291,2311,2344,2342,2342,2350,2325,2339,2294,2339,2372,2352,2336,2144,2146,2132,2127,2108,2189,2134,2137,2203,2198,2216,2224,2226,2246,2160,2201,2192,2198,2205,2181,2169,2176,2244,2241,2270,2231,2300,2300,2261,2279,2330,2335,2300,2300,2300,2346,2298,2367,2347,2328,2286,2348,2332,2275,2339,2303,2334,2338,2347,2344,2304,2315,2325,2358,2327,2237,2275,2282,2267,2296,2276,2296,2275,2129,2134,2141,2144,2182,2266,2123,2110,2247,2130,2107,2128,2192,2185,2240,2327,2285,2195,2115,2286,2287,2290,2325,2198,2189,2133,2119,2296,2186,2200,2202,2283,2316,2335,2307,2316,2325,2344,2347,2339,2326,2336,2319,2337,2344,2352,2346,2346,2343,2336,2342,2330,1903,1914,1925,1888,1904,1908,1865,1928,1934,1942,1926,1873,1926,1969,1961,1949,1958,2008,1964,1954,1934,2005,2207,2214,2164,2177,2193,2204,2206,2238,2245,2231,2173,2212,2225,2209,2223,2234,2251,2244,2221,2237,2246,2194,2269,2219,2236,2254,2268,2244,2257,2256,2235,2257,2254,2220,2263,2292,2280,2251,2255,2268,2265,2011,2078,2099,2103,2050,2125,2053,2080,2137,2138,2143,2085,2131,2101,2050,2124,2099,2105,2150,2110,2111,2100,2138,2189,2124,2170,2114,2138,2145,2175,2228,2211,2257,2227,2233,2218,2267,2240,2243,2198,2280,2261,2234,2236,2232,2286,2255,2262,2256,2280,2239,2286,2297,2251,2330,2300,2305,2297,2264,2305,2309,2318,2310,2300,2316,2293,2318,2307,2294,2301,2297,2332,2316,2302,2294,2242,2239,2238,2257,2211,2222,2198,2193,2198,2198,2158,2191,2157,2186,2180,2179,2156,2142,2146,2147,2108,2106,2133,2095,2105,2112,2108,2105,2142,2103,2113,2090,2092,2069,2094,2134,2106,2071,2074,2076,2088,2082,2049,2069,2073,2066,2028,2043,2066,2112,1995,1951,1955,1879,1929,1908,1912,1822,1865,1857,1889,1856,1837,1842,1845,1853,1854,1889,1864,1958,1927,1931,1995,2106,2113,2158,2130,2170,2157,2178,2196,2193,2230,2226,2243,2245,2201,2192,2266,2244,2250,2294,2274,2258,2305,2278,2275,2284,2267,2284,2315,2268,2301,2315,2321,2274,2288,2309,2330,2308,2336,2309,2310,2305,2337,2317,2336,2327,2318,2344,2357,2331,2323,2360,2268,2333,2291,2299,2338,2363,2337,2347,2362,2350,2345,2343,2389,2362,2332,2365,2359,2281,2351,2375,2363,2384,2336,2372,2344,2354,2389,2349,2353,2359,2354,2367,2304,2292,2316,2329,2379,2235,2131,2155,2156,2113,2136,2115,2117,2095,2122,2077,2097,2106,2107,2106,2128,2079,2106,2100,2087,2111,2110,2090,2099,2038,2064,2048,2061,2092,2034,2043,2076,1998,2052,2046,2040,2029,2024,2051,2027,2012,2059,2046,2055,2059,2048,2071,2083,2052,1872,1917,1866,1877,1911,1900,1895,1869,1901,1854,1902,1908,1869,1865,1838,1869,1832,1823,1882,1860,1856,1855,1862,1862,1855,1860,1868,1805,1814,1831,1881,1855,1881,1880,1921,1863,1901,1896,1894,1882,1885,1901,1903,1887,1887,1902,1895,2002,1924,1928,1958,1986,1962,1953,1978,1999,1906,1974,1988,1958,2207,2174,2204,2125,2107,2200,2175,2185,2160,2169,2133,2097,2057,2107,2115,2113,2088,2155,2169,2142,2160,2181,2142,2161,2187,2199,2182,2169,2192,2156,2183,2171,2169,2201,2190,2248,2261,2289,2251,2293,2287,2301,2293,2300,2283,2320,2310,2326,2323,2309,2331,2318,2336,2292,2267,2324,2329,2307,2264,2335,2298,2324,2307,2356,2309,2333,2312,2306,2323,2336,2323,2335,2319,2350,2320,2316,2210,2167,2201,2272,2309,2326,2343,2353,2313,2364,2287,2341,2095,2113,2155,2163,2194,2165,2212,2255,2235,2268,2287,2294,2277,2296,2285,2197,2121,1984,1940,1955,1944,1946,1873,1959,1900,1927,1912,1968,1974,1978,1983,1987,1989,2192,2073,2025,2124,2062,2020,2089,2076,2082,2028,2089,2087,2022,2023,2068,2025,2092,2065,2043,2047,2042,2064,2052,2013,2037,2017,2022,2119,2096,2013,2025,2031,2109,2158,2146,2154,2117,2195,2110,2161,1932,1913,1889,1899,1907,1942,1850,1873,1872,1887,1837,1870,1845,1866,1841,1845,1861,1857,1804,1836,1850,1833,1829,1845,1859,1822,1797,1868,1864,1826,1827,1835,1862,1831,1869,1849,1832,1820,1842,1841,1881,2218,2198,2183,2246,2195,2220,2221,2212,2228,2263,2252,2202,2286,2169,2187,2131,2033,2030,2079,2027,2029,1986,1969,1970,1951,1955,1897,1970,1941,1967,1958,1986,1994,2185,2202,2186,2220,2202,2190,2240,2225,2224,2165,2165,2128,2164,2167,2158,2157,2179,2157,2095,2098,2133,2156,2134,2137,2146,2143,2143,2151,2159,2147,2153,2137,2145,2144,2158,2157,2131,2140,2161,2121,2156,2081,2159,2137,2146,2085,2086,2151,2120,2099,2160,2138,2143,2148,2134,2144,2148,2126,2144,2159,2130,2160,2251,2248,2287,2231,2238,2272,2292,2209,2188,2234,2208,2238,2234,2192,2237,2269,2234,2296,2246,2249,2275,2207,2283,2274,2265,2271,2312,2262,2307,2289,2302,2272,2256,2265,2301,2280,2287,2302,2274,2283,2270,2243,2267,2274,2261,2192,2248,2281,2287,2253,2277,2250,2263,2262,2284,2258,2272,2258,2249,2290,2265,2256,2250,2277,2289,2257,2312,2247,2256,2276,2210,2229,2214,2194,2235,2229,2248,2249,2242,2238,2286,2262,2225,2274,2256,2208,2274,2248,2265,2228,2265,2298,2279,2276,2278,2279,2268,2280,2302,2255,2298,2296,2284,2301,2273,2292,2314,2302,2263,2204,2239,2280,2318,2306,2317,2337,2319,2340,2329,2343,2369,2322,2333,2355,2108,2100,2126,2086,2101,2117,2123,2111,2128,2145,2142,2113,2117,2128,2094,2101,2090,2126,2101,2125,2037,2008,1989,1986,1996],\"xaxis\":\"x\",\"y\":[1252,1156,1159,1105,1192,1438,1050,1231,1289,1192,1480,1107,1128,1196,1145,1145,1094,1089,1085,1077,1082,1061,1072,1078,1080,1046,1035,1073,1064,1078,1483,1633,1702,1614,1670,1689,1698,1623,1597,1632,1359,1397,1417,1411,1384,1360,1366,1361,1326,1344,1380,1367,1295,1252,1257,1208,1187,1265,1228,1206,1203,938,960,966,957,960,974,992,967,980,967,933,967,954,967,931,967,944,967,935,967,924,967,904,1162,1223,1247,1165,1221,1178,1275,1233,1292,1230,1183,1162,944,961,954,966,971,984,958,999,1015,977,1008,1001,999,1007,989,1006,1013,1009,1004,1005,941,1125,1175,1161,1204,1227,1236,1236,1231,1200,1263,1174,1141,1122,994,979,1016,1019,1028,1024,892,906,912,915,916,916,984,1031,1025,1057,1071,1093,1101,1089,1109,1109,1160,1164,1144,1110,1122,1111,1100,1076,1060,1026,1079,1045,1076,1135,1197,1246,1258,1329,1276,1336,1314,1273,1266,1289,1273,1279,1277,1299,1238,1301,1329,1242,1208,1259,1311,1329,1379,1451,1469,1458,1417,1420,1139,1161,1162,1235,1243,1248,1310,1338,1320,1383,1342,1387,1384,1373,1355,1392,1393,1396,1395,1399,1333,1312,1183,1151,1129,1135,1130,1095,1063,850,895,874,889,879,812,860,860,860,862,834,867,860,862,834,867,867,929,912,892,920,926,944,934,926,922,968,934,1031,1035,1061,1083,1098,1107,1051,1035,1061,1083,1098,1107,1101,1094,1091,1196,1206,1218,1249,1266,1294,1295,1304,1202,1140,1147,1103,1105,913,910,906,959,1016,1038,1035,1026,1050,1034,1044,1005,1048,1041,1082,1092,1057,1082,1033,1080,1050,1090,1004,1079,1098,1117,1124,1139,1127,1146,1161,1137,1186,1218,1240,1225,1220,1243,1231,1142,1071,1094,1092,1081,1075,1082,1081,1063,855,875,894,888,882,896,886,900,929,911,865,925,919,923,906,897,908,931,954,974,994,994,943,997,948,997,993,1008,958,1009,980,1005,1006,1010,984,1173,1215,1181,1172,1166,1154,1167,1389,1355,1363,1349,1370,1395,1422,1434,1428,1495,1509,1504,1532,1543,1540,1518,1552,1569,1434,1400,1369,1383,1352,1350,1366,1327,1317,1279,1374,1383,1396,1401,1408,1377,1364,1274,1315,1335,1344,1339,1350,1348,1321,1342,1333,1360,1322,1332,1320,1339,1334,1321,1283,1324,1211,1164,1150,1142,1105,1084,1317,1358,1427,1452,1645,1668,1665,1652,1642,1635,1621,1615,1606,1606,1592,1557,1522,1475,1535,1543,1498,1551,1553,1556,1577,1595,1602,1560,1508,1385,1329,1266,1595,1602,1560,1508,1375,1329,883,947,964,995,958,1027,1033,1010,1176,1125,1138,1133,1148,1149,1160,1148,1148,1150,1155,1156,1165,1153,1151,1155,1114,1119,1117,1089,1126,1119,1113,1135,1123,1146,1109,1110,1172,1188,1164,1207,1219,1225,1204,1202,1200,1191,1180,1186,1225,1208,1198,1176,1174,1160,1094,1074,1083,1127,1076,1079,1082,1076,932,949,966,990,925,1078,1067,1044,1073,1099,1131,1302,1253,1240,1210,1202,1193,1172,1184,1169,1134,1169,1153,1145,1163,1149,1216,1204,1261,1264,1248,1275,1318,1317,1333,1321,1353,1342,1347,1309,1355,1328,1351,1367,1327,1222,1228,1218,1252,1246,1262,1291,1291,1276,1281,1307,1297,1274,1230,1258,1265,1245,1281,1293,1318,1264,1249,1298,1260,1306,1295,1287,1311,1309,1304,1307,1304,1153,923,911,916,931,890,957,931,949,976,974,986,938,858,827,823,862,870,885,880,861,862,854,857,848,819,862,863,869,876,883,880,893,895,883,851,895,881,1139,1187,1230,1248,1261,1262,1191,1164,1175,1159,1252,1257,1276,1233,1175,1142,1144,1173,1140,1068,1106,1134,1179,1188,1186,1180,1160,1112,1191,1166,1166,1155,1343,1403,1408,1454,1459,1557,1574,1576,1559,1573,1527,1607,1587,1593,1523,1421,1271,1162,1184,1230,1219,1213,1245,1304,1284,1270,1359,1341,1326,1341,1376,1434,1216,1024,1108,1096,1265,1416,1266,1237,1366,1281,1306,1330,1354,1338,1312,1347,1335,1340,1398,1346,1366,1367,1388,1379,1408,1339,1422,1434,1484,1266,1099,1019,993,1110,1121,1155,1106,1168,1098,1124,1131,1132,1153,1126,1103,1148,1167,1190,1167,1235,1233,1265,1261,1279,1215,1226,1228,1257,1214,1191,1231,1248,1251,1233,1216,1249,1267,1272,1291,1263,1299,1302,1278,1232,1230,1214,1182,1162,1181,1224,1167,1238,1238,1228,1248,1233,1202,1248,1230,1200,1202,1163,1198,1182,1196,1213,1182,1186,1126,1158,1182,1200,1182,1183,1184,1169,1148,1177,1167,1167,1165,909,919,955,912,970,981,945,941,947,963,974,1010,909,963,940,953,940,955,967,922,929,976,1001,962,1005,990,994,997,995,1012,1000,999,1007,995,1005,1011,1004,991,893,977,948,880,927,930,910,948,943,904,917,949,962,952,948,955,955,935,946,1166,1182,1213,1214,1201,1134,1157,1173,1131,1153,1127,1149,1145,1163,1215,1221,1201,1217,1215,1194,1160,1138,1163,1158,1168,1138,1130,1112,1132,1132,1111,1107,1075,1079,1063,1056,1022,1244,1220,1286,1196,1171,1117,1106,1118,1101,1110,1114,1080,1066,1111,1101,1118,1117,1115,1188,1186,1126,1115,1083,1078,1037,1013,1031,1092,1118,1115,1120,1134,1145,1131,1124,1121,1102,1120,1131,1089,1122,1137,1228,1177,1148,1159,1072,1096,1114,1145,1221,1163,1120,1180,1187,1134,1062,946,933,945,955,951,943,956,950,954,953,969,910,955,959,968,981,972,974,980,978,976,1738,1707,1684,1627,1614,1577,1580,1596,1702,1600,1559,1482,1335,1378,1398,1405,1381,1374,1403,1306,1334,1231,907,900,898,899,895,914,895,913,917,902,905,898,907,870,924,883,884,921,910,907,907,907,912,885,884,929,932,915,892,913,879,927,933,973,946,931,904,922,919,922,933,1091,1092,1115,1101,1106,1161,1132,1111,1145,1103,1175,1131,1150,1140,1140,1163,1165,1159,1132,1099,1104,1057,999,1075,1060,1058,1113,1108,1108,1087,859,864,860,863,855,860,866,858,861,869,873,873,884,867,890,860,884,850,895,877,879,887,887,862,908,909,894,904,903,901,910,908,903,880,869,907,913,870,890,893,892,902,1233,1273,1343,1358,1354,1339,1438,1388,1359,1364,1333,1306,1308,1327,1328,1310,1364,1353,1374,1358,1376,1386,1451,1420,1472,1500,1381,1357,1374,1335,1308,1327,1329,1295,1265,1325,1332,1335,1409,1391,1473,1492,1492,1434,1438,1362,1347,1395,1397,1502,1513,1218,1224,1318,1455,1445,1469,1499,1514,1543,1576,1577,1607,1606,1601,1608,1568,1623,1609,1615,1575,1550,1428,1419,1383,1307,809,810,814,811,783,789,823,813,802,795,833,792,816,815,814,820,787,820,829,822,820,829,786,817,819,816,786,818,822,818,806,830,832,830,844,842,836,793,822,838,846,824,823,798,842,813,832,829,831,834,838,830,836,826,827,815,833,820,847,839,854,833,841,841,845,816,827,828,820,839,814,777,815,806,821,814,824,814,808,800,810,810,753,758,765,775,770,772,1579,1511,1343,1369,1352,1405,1477,1400,1377,1394,1376,1365,1347,1352,1308,1338,1308,1396,1367,1362,1361,1462,1604,1510,1439,1428,1397,1389,1385,1371,1394,1323,1350,1303,1281,1276,1253,1233,1247,1185,1192,1208,1213,1217,1162,1134,1158,1138,1167,1388,1354,1339,1356,1338,1355,1353,1325,1354,1370,1370,1396,1399,1412,1435,1431,1448,1465,1500,1430,1443,1487,1462,1461,1414,1453,1452,1441,1439,1456,1418,1403,1413,1434,1416,1455,1447,1424,1427,1456,1431,1421,1426,1440,1451,1428,1393,1278,1358,1351,1338,1339,1331,1329,1322,1311,1307,1311,1294,1301,1028,1028,1029,1030,1024,1044,1009,1009,1021,1017,1012,1015,1067,1065,1093,1128,1118,1131,1143,1150,1157,1162,1231,1207,1220,1187,1228,1225,1255,1242,1249,1260,1251,1202,1154,1152,1115,1112,1102,1103,1094,1117,1140,1156,1185,1155,1110,1153,1198,1158,1175,1154,1163,1142,1173,1173,1137,1140,1152,1152,1157,1171,1187,1162,1128,1142,1145,1160,1157,1140,1132,1158,1179,1183,1171,1173,896,863,873,926,932,940,953,948,894,964,962,970,882,903,912,926,916,910,921,932,915,911,922,930,897,945,1070,1670,1657,1654,1668,1652,1601,1555,1507,1495,1433,1413,1395,1360,1372,1377,1327,1311,1316,1238,1253,1244,1250,1213,1261,1281,1282,1282,1279,1234,1260,1265,1249,1209,1206,1229,1221,1256,1236,1236,1250,1275,1233,1300,1282,1291,1296,1304,1310,1316,1259,1188,1169,1228,1205,1183,1207,1190,1162,894,888,892,894,931,965,1247,1296,1334,1348,1375,1422,1421,1438,1450,1450,1435,1436,1444,1472,1472,1493,1510,1515,1503,1478,1507,1516,1520,1464,1513,1522,1492,1516,1519,1492,1507,1499,1483,1492,1431,1052,1052,1016,1060,1073,1062,1078,1047,1067,1069,1079,1078,1085,1351,1723,1712,1662,1698,1709,1693,1702,1727,1715,1708,1693,1679,1692,1650,1610,1522,1381,1281,1243,943,1014,1012,994,963,984,1001,1031,1063,1146,1190,1181,1194,1145,1192,1153,1195,1178,1166,1195,1207,1214,1221,1218,1231,1226,1207,1218,1224,1233,1236,1227,1206,1252,1222,1242,1252,1247,1255,1225,1219,1250,1277,1284,1283,1278,1274,1276,1216,1268,1272,1221,1274,1274,1282,1228,1281,1243,1248,1288,1278,1285,978,973,972,995,993,996,1012,1020,1012,1012,1008,1004,996,1006,1017,981,1009,1014,995,996,999,983,945,991,999,997,1039,1014,1037,1041,1015,1027,1041,1042,1042,1055,1052,1378,1423,1436,1416,1321,1283,1259,1241,1237,1257,1249,1275,1332,1432,1347,1283,1271,1260,1319,1300,1289,1389,1376,1327,1298,1336,1309,1267,1268,1323,1307,1268,1280,987,997,995,996,954,1000,967,953,1010,998,991,994,983,992,988,984,997,951,991,988,1003,981,952,983,990,987,930,979,980,978,984,994,945,965,962,983,978,935,979,989,999,1014,1048,1051,1057,1077,1062,1069,1083,1090,1098,1057,1107,1087,1168,1184,1182,1200,1212,1174,1198,1217,1222,1257,1232,1282,1251,1267,1136,1114,1124,1088,1091,1119,1564,1571,1582,1587,1606],\"yaxis\":\"y\",\"type\":\"scattergl\"}],                        {\"template\":{\"data\":{\"histogram2dcontour\":[{\"type\":\"histogram2dcontour\",\"colorbar\":{\"outlinewidth\":0,\"ticks\":\"\"},\"colorscale\":[[0.0,\"#0d0887\"],[0.1111111111111111,\"#46039f\"],[0.2222222222222222,\"#7201a8\"],[0.3333333333333333,\"#9c179e\"],[0.4444444444444444,\"#bd3786\"],[0.5555555555555556,\"#d8576b\"],[0.6666666666666666,\"#ed7953\"],[0.7777777777777778,\"#fb9f3a\"],[0.8888888888888888,\"#fdca26\"],[1.0,\"#f0f921\"]]}],\"choropleth\":[{\"type\":\"choropleth\",\"colorbar\":{\"outlinewidth\":0,\"ticks\":\"\"}}],\"histogram2d\":[{\"type\":\"histogram2d\",\"colorbar\":{\"outlinewidth\":0,\"ticks\":\"\"},\"colorscale\":[[0.0,\"#0d0887\"],[0.1111111111111111,\"#46039f\"],[0.2222222222222222,\"#7201a8\"],[0.3333333333333333,\"#9c179e\"],[0.4444444444444444,\"#bd3786\"],[0.5555555555555556,\"#d8576b\"],[0.6666666666666666,\"#ed7953\"],[0.7777777777777778,\"#fb9f3a\"],[0.8888888888888888,\"#fdca26\"],[1.0,\"#f0f921\"]]}],\"heatmap\":[{\"type\":\"heatmap\",\"colorbar\":{\"outlinewidth\":0,\"ticks\":\"\"},\"colorscale\":[[0.0,\"#0d0887\"],[0.1111111111111111,\"#46039f\"],[0.2222222222222222,\"#7201a8\"],[0.3333333333333333,\"#9c179e\"],[0.4444444444444444,\"#bd3786\"],[0.5555555555555556,\"#d8576b\"],[0.6666666666666666,\"#ed7953\"],[0.7777777777777778,\"#fb9f3a\"],[0.8888888888888888,\"#fdca26\"],[1.0,\"#f0f921\"]]}],\"heatmapgl\":[{\"type\":\"heatmapgl\",\"colorbar\":{\"outlinewidth\":0,\"ticks\":\"\"},\"colorscale\":[[0.0,\"#0d0887\"],[0.1111111111111111,\"#46039f\"],[0.2222222222222222,\"#7201a8\"],[0.3333333333333333,\"#9c179e\"],[0.4444444444444444,\"#bd3786\"],[0.5555555555555556,\"#d8576b\"],[0.6666666666666666,\"#ed7953\"],[0.7777777777777778,\"#fb9f3a\"],[0.8888888888888888,\"#fdca26\"],[1.0,\"#f0f921\"]]}],\"contourcarpet\":[{\"type\":\"contourcarpet\",\"colorbar\":{\"outlinewidth\":0,\"ticks\":\"\"}}],\"contour\":[{\"type\":\"contour\",\"colorbar\":{\"outlinewidth\":0,\"ticks\":\"\"},\"colorscale\":[[0.0,\"#0d0887\"],[0.1111111111111111,\"#46039f\"],[0.2222222222222222,\"#7201a8\"],[0.3333333333333333,\"#9c179e\"],[0.4444444444444444,\"#bd3786\"],[0.5555555555555556,\"#d8576b\"],[0.6666666666666666,\"#ed7953\"],[0.7777777777777778,\"#fb9f3a\"],[0.8888888888888888,\"#fdca26\"],[1.0,\"#f0f921\"]]}],\"surface\":[{\"type\":\"surface\",\"colorbar\":{\"outlinewidth\":0,\"ticks\":\"\"},\"colorscale\":[[0.0,\"#0d0887\"],[0.1111111111111111,\"#46039f\"],[0.2222222222222222,\"#7201a8\"],[0.3333333333333333,\"#9c179e\"],[0.4444444444444444,\"#bd3786\"],[0.5555555555555556,\"#d8576b\"],[0.6666666666666666,\"#ed7953\"],[0.7777777777777778,\"#fb9f3a\"],[0.8888888888888888,\"#fdca26\"],[1.0,\"#f0f921\"]]}],\"mesh3d\":[{\"type\":\"mesh3d\",\"colorbar\":{\"outlinewidth\":0,\"ticks\":\"\"}}],\"scatter\":[{\"fillpattern\":{\"fillmode\":\"overlay\",\"size\":10,\"solidity\":0.2},\"type\":\"scatter\"}],\"parcoords\":[{\"type\":\"parcoords\",\"line\":{\"colorbar\":{\"outlinewidth\":0,\"ticks\":\"\"}}}],\"scatterpolargl\":[{\"type\":\"scatterpolargl\",\"marker\":{\"colorbar\":{\"outlinewidth\":0,\"ticks\":\"\"}}}],\"bar\":[{\"error_x\":{\"color\":\"#2a3f5f\"},\"error_y\":{\"color\":\"#2a3f5f\"},\"marker\":{\"line\":{\"color\":\"#E5ECF6\",\"width\":0.5},\"pattern\":{\"fillmode\":\"overlay\",\"size\":10,\"solidity\":0.2}},\"type\":\"bar\"}],\"scattergeo\":[{\"type\":\"scattergeo\",\"marker\":{\"colorbar\":{\"outlinewidth\":0,\"ticks\":\"\"}}}],\"scatterpolar\":[{\"type\":\"scatterpolar\",\"marker\":{\"colorbar\":{\"outlinewidth\":0,\"ticks\":\"\"}}}],\"histogram\":[{\"marker\":{\"pattern\":{\"fillmode\":\"overlay\",\"size\":10,\"solidity\":0.2}},\"type\":\"histogram\"}],\"scattergl\":[{\"type\":\"scattergl\",\"marker\":{\"colorbar\":{\"outlinewidth\":0,\"ticks\":\"\"}}}],\"scatter3d\":[{\"type\":\"scatter3d\",\"line\":{\"colorbar\":{\"outlinewidth\":0,\"ticks\":\"\"}},\"marker\":{\"colorbar\":{\"outlinewidth\":0,\"ticks\":\"\"}}}],\"scattermapbox\":[{\"type\":\"scattermapbox\",\"marker\":{\"colorbar\":{\"outlinewidth\":0,\"ticks\":\"\"}}}],\"scatterternary\":[{\"type\":\"scatterternary\",\"marker\":{\"colorbar\":{\"outlinewidth\":0,\"ticks\":\"\"}}}],\"scattercarpet\":[{\"type\":\"scattercarpet\",\"marker\":{\"colorbar\":{\"outlinewidth\":0,\"ticks\":\"\"}}}],\"carpet\":[{\"aaxis\":{\"endlinecolor\":\"#2a3f5f\",\"gridcolor\":\"white\",\"linecolor\":\"white\",\"minorgridcolor\":\"white\",\"startlinecolor\":\"#2a3f5f\"},\"baxis\":{\"endlinecolor\":\"#2a3f5f\",\"gridcolor\":\"white\",\"linecolor\":\"white\",\"minorgridcolor\":\"white\",\"startlinecolor\":\"#2a3f5f\"},\"type\":\"carpet\"}],\"table\":[{\"cells\":{\"fill\":{\"color\":\"#EBF0F8\"},\"line\":{\"color\":\"white\"}},\"header\":{\"fill\":{\"color\":\"#C8D4E3\"},\"line\":{\"color\":\"white\"}},\"type\":\"table\"}],\"barpolar\":[{\"marker\":{\"line\":{\"color\":\"#E5ECF6\",\"width\":0.5},\"pattern\":{\"fillmode\":\"overlay\",\"size\":10,\"solidity\":0.2}},\"type\":\"barpolar\"}],\"pie\":[{\"automargin\":true,\"type\":\"pie\"}]},\"layout\":{\"autotypenumbers\":\"strict\",\"colorway\":[\"#636efa\",\"#EF553B\",\"#00cc96\",\"#ab63fa\",\"#FFA15A\",\"#19d3f3\",\"#FF6692\",\"#B6E880\",\"#FF97FF\",\"#FECB52\"],\"font\":{\"color\":\"#2a3f5f\"},\"hovermode\":\"closest\",\"hoverlabel\":{\"align\":\"left\"},\"paper_bgcolor\":\"white\",\"plot_bgcolor\":\"#E5ECF6\",\"polar\":{\"bgcolor\":\"#E5ECF6\",\"angularaxis\":{\"gridcolor\":\"white\",\"linecolor\":\"white\",\"ticks\":\"\"},\"radialaxis\":{\"gridcolor\":\"white\",\"linecolor\":\"white\",\"ticks\":\"\"}},\"ternary\":{\"bgcolor\":\"#E5ECF6\",\"aaxis\":{\"gridcolor\":\"white\",\"linecolor\":\"white\",\"ticks\":\"\"},\"baxis\":{\"gridcolor\":\"white\",\"linecolor\":\"white\",\"ticks\":\"\"},\"caxis\":{\"gridcolor\":\"white\",\"linecolor\":\"white\",\"ticks\":\"\"}},\"coloraxis\":{\"colorbar\":{\"outlinewidth\":0,\"ticks\":\"\"}},\"colorscale\":{\"sequential\":[[0.0,\"#0d0887\"],[0.1111111111111111,\"#46039f\"],[0.2222222222222222,\"#7201a8\"],[0.3333333333333333,\"#9c179e\"],[0.4444444444444444,\"#bd3786\"],[0.5555555555555556,\"#d8576b\"],[0.6666666666666666,\"#ed7953\"],[0.7777777777777778,\"#fb9f3a\"],[0.8888888888888888,\"#fdca26\"],[1.0,\"#f0f921\"]],\"sequentialminus\":[[0.0,\"#0d0887\"],[0.1111111111111111,\"#46039f\"],[0.2222222222222222,\"#7201a8\"],[0.3333333333333333,\"#9c179e\"],[0.4444444444444444,\"#bd3786\"],[0.5555555555555556,\"#d8576b\"],[0.6666666666666666,\"#ed7953\"],[0.7777777777777778,\"#fb9f3a\"],[0.8888888888888888,\"#fdca26\"],[1.0,\"#f0f921\"]],\"diverging\":[[0,\"#8e0152\"],[0.1,\"#c51b7d\"],[0.2,\"#de77ae\"],[0.3,\"#f1b6da\"],[0.4,\"#fde0ef\"],[0.5,\"#f7f7f7\"],[0.6,\"#e6f5d0\"],[0.7,\"#b8e186\"],[0.8,\"#7fbc41\"],[0.9,\"#4d9221\"],[1,\"#276419\"]]},\"xaxis\":{\"gridcolor\":\"white\",\"linecolor\":\"white\",\"ticks\":\"\",\"title\":{\"standoff\":15},\"zerolinecolor\":\"white\",\"automargin\":true,\"zerolinewidth\":2},\"yaxis\":{\"gridcolor\":\"white\",\"linecolor\":\"white\",\"ticks\":\"\",\"title\":{\"standoff\":15},\"zerolinecolor\":\"white\",\"automargin\":true,\"zerolinewidth\":2},\"scene\":{\"xaxis\":{\"backgroundcolor\":\"#E5ECF6\",\"gridcolor\":\"white\",\"linecolor\":\"white\",\"showbackground\":true,\"ticks\":\"\",\"zerolinecolor\":\"white\",\"gridwidth\":2},\"yaxis\":{\"backgroundcolor\":\"#E5ECF6\",\"gridcolor\":\"white\",\"linecolor\":\"white\",\"showbackground\":true,\"ticks\":\"\",\"zerolinecolor\":\"white\",\"gridwidth\":2},\"zaxis\":{\"backgroundcolor\":\"#E5ECF6\",\"gridcolor\":\"white\",\"linecolor\":\"white\",\"showbackground\":true,\"ticks\":\"\",\"zerolinecolor\":\"white\",\"gridwidth\":2}},\"shapedefaults\":{\"line\":{\"color\":\"#2a3f5f\"}},\"annotationdefaults\":{\"arrowcolor\":\"#2a3f5f\",\"arrowhead\":0,\"arrowwidth\":1},\"geo\":{\"bgcolor\":\"white\",\"landcolor\":\"#E5ECF6\",\"subunitcolor\":\"white\",\"showland\":true,\"showlakes\":true,\"lakecolor\":\"white\"},\"title\":{\"x\":0.05},\"mapbox\":{\"style\":\"light\"}}},\"xaxis\":{\"anchor\":\"y\",\"domain\":[0.0,1.0],\"title\":{\"text\":\"CO2Emissions\"}},\"yaxis\":{\"anchor\":\"x\",\"domain\":[0.0,1.0],\"title\":{\"text\":\"PM2.5Emissions\"}},\"coloraxis\":{\"colorbar\":{\"title\":{\"text\":\"cluster\"}},\"colorscale\":[[0.0,\"#0d0887\"],[0.1111111111111111,\"#46039f\"],[0.2222222222222222,\"#7201a8\"],[0.3333333333333333,\"#9c179e\"],[0.4444444444444444,\"#bd3786\"],[0.5555555555555556,\"#d8576b\"],[0.6666666666666666,\"#ed7953\"],[0.7777777777777778,\"#fb9f3a\"],[0.8888888888888888,\"#fdca26\"],[1.0,\"#f0f921\"]]},\"legend\":{\"tracegroupgap\":0},\"margin\":{\"t\":60}},                        {\"responsive\": true}                    ).then(function(){\n",
       "                            \n",
       "var gd = document.getElementById('82c417c1-8766-4dfc-a097-9b8fb73ef2f9');\n",
       "var x = new MutationObserver(function (mutations, observer) {{\n",
       "        var display = window.getComputedStyle(gd).display;\n",
       "        if (!display || display === 'none') {{\n",
       "            console.log([gd, 'removed!']);\n",
       "            Plotly.purge(gd);\n",
       "            observer.disconnect();\n",
       "        }}\n",
       "}});\n",
       "\n",
       "// Listen for the removal of the full notebook cells\n",
       "var notebookContainer = gd.closest('#notebook-container');\n",
       "if (notebookContainer) {{\n",
       "    x.observe(notebookContainer, {childList: true});\n",
       "}}\n",
       "\n",
       "// Listen for the clearing of the current output cell\n",
       "var outputEl = gd.closest('.output');\n",
       "if (outputEl) {{\n",
       "    x.observe(outputEl, {childList: true});\n",
       "}}\n",
       "\n",
       "                        })                };                            </script>        </div>\n",
       "</body>\n",
       "</html>"
      ]
     },
     "metadata": {},
     "output_type": "display_data"
    }
   ],
   "source": [
    "px.scatter(dataframe,'CO2Emissions','PM2.5Emissions','cluster')"
   ]
  },
  {
   "cell_type": "markdown",
   "metadata": {
    "id": "Ksw7CZVTZ5c3"
   },
   "source": [
    "\n",
    "\n",
    "\n",
    "**Explanation**: *The scatter plot shows how CO2 and PM2.5 emissions are grouped into four clusters, each represented by a different color. The trend shows that as CO2 emissions increase, PM2.5 emissions generally decrease, but not in a straightforward way. The clusters reveal distinct groups the orange cluster has high PM2.5 emissions and lower CO2 emissions, while the purple and blue clusters show lower PM2.5 emissions at varying levels of CO2. This clustering helps us understand that emissions don’t follow a single pattern but instead form different groups, which can give insights into the sources or types of emissions*."
   ]
  },
  {
   "cell_type": "markdown",
   "metadata": {
    "id": "QZVnSaplZ9bK"
   },
   "source": [
    "### Goal 11: Create scatterplots using different variables to compare.\n",
    "\n",
    "We looked at another scatterplot earlier. How about let’s try some new variables to compare? How about methane?"
   ]
  },
  {
   "cell_type": "markdown",
   "metadata": {
    "id": "jeqZVU-MaCL_"
   },
   "source": [
    "#### Blockly"
   ]
  },
  {
   "cell_type": "markdown",
   "metadata": {
    "id": "1zXIFDiraDdg"
   },
   "source": [
    "**Step 1 -  Call the scatter function from plotly**\n",
    "\n",
    "To make a scatterplot, we first need to call the scatter function with our plotly library (px).\n",
    "\n",
    "From the Variables menu drag a DO block for the **px** variable. Select the \"**scatter**\" function. This specifies the function we want to call, which is the scatter function from the Plotly Express library (imported as \"px\" earlier).\n"
   ]
  },
  {
   "cell_type": "markdown",
   "metadata": {
    "id": "Y49BWumpaKEw"
   },
   "source": [
    "\n",
    "**Step 2 -  Saying what data to use for the scatter plot**\n",
    "\n",
    "In order to make a plot, we need to choose its source from which data we want to plot from. In this case, our dataset is stored in the dataframe **dataframe**.\n",
    "\n",
    "For the first argument, drag from the Variable menu the **dataframe** variable. This allows us to specify a dataframe as and what to look at for the scatter function.\n"
   ]
  },
  {
   "cell_type": "markdown",
   "metadata": {
    "id": "VVjCNe49aLgq"
   },
   "source": [
    "\n",
    "**Step 3 -  Tell plotly what columns to put on axis**\n",
    "\n",
    "Identify the two variables you want to look at. One variable will be alongside the X-axis (*across*) and another one alongside the Y-axis (*up and down*). In our context, we want to see the relationship between **CO2Emissions** and **Methane**. We will assign the variables in the 2 axis in the graph.\n",
    "\n",
    "From the TEXT menu, drag the Quotes. Type the text **CO2Emissions**. This specifies TrafficVolume as the x-axis variable for the scatter plot. Also, from the TEXT menu, drag the Quotes. Type the text **Methane**.\n"
   ]
  },
  {
   "cell_type": "markdown",
   "metadata": {
    "id": "-utHODstaNFi"
   },
   "source": [
    "\n",
    "**Step 4 - Adding colors to each cluster**\n",
    "\n",
    "Finally, with the last Quote block, type **cluster**, it will determined the name of the column with the predicted cluster identified by corresponding colors.     \n",
    "\n",
    "From the TEXT menu, drag the Quotes. Type the text ‘cluster’.\n"
   ]
  },
  {
   "cell_type": "markdown",
   "metadata": {
    "id": "1PIdUunXaONs"
   },
   "source": [
    "\n",
    "**Step 5 - Connect the blocks to run the code**\n",
    "\n",
    "Connect the blocks and run the code!\n",
    "\n",
    "![](https//pbs.twimg.com/media/GbbFJzhagAAiy0x?format=png&name=900x900)"
   ]
  },
  {
   "cell_type": "markdown",
   "metadata": {
    "id": "Hms3OyUobQvz"
   },
   "source": [
    "#### Freehand"
   ]
  },
  {
   "cell_type": "markdown",
   "metadata": {
    "id": "Bt1etfJAbSFl"
   },
   "source": [
    "\n",
    "**Step 1 -  Call the scatter function from plotly**\n",
    "\n",
    "To make a scatterplot, we first need to call the scatter function with our plotly library (px).\n",
    "\n",
    "From the Variables menu drag a DO block for the **px** variable. Select the \"**scatter**\" function. This specifies the function we want to call, which is the scatter function from the Plotly Express library (imported as \"px\" earlier).\n",
    "\n",
    "`px.scatter()`\n"
   ]
  },
  {
   "cell_type": "markdown",
   "metadata": {
    "id": "vxxvzIHsbX1I"
   },
   "source": [
    "\n",
    "**Step 2 -  Saying what data to use for the scatter plot**\n",
    "\n",
    "In order to make a plot, we need to choose its source from which data we want to plot from. In this case, our dataset is stored in the dataframe dataframe.\n",
    "\n",
    "`px.scatter(dataframe)`"
   ]
  },
  {
   "cell_type": "markdown",
   "metadata": {
    "id": "oaIXgoKHbZDN"
   },
   "source": [
    "\n",
    "\n",
    "**Step 3 -  Tell plotly what the columns to put on the axis**\n",
    "\n",
    "Inside the scatter() method, we add our parameters for the plot\n",
    "- **dataframe** The DataFrame containing the data to plot.\n",
    "- '**CO2Emissions**' The column to be plotted on the x-axis, representing the CO₂ emission levels.\n",
    "- '**Methane**' The column to be plotted on the y-axis, representing PM2.5 emission levels.\n",
    "\n",
    "`px.scatter(dataframe,'CO2Emissions','Methane')`\n"
   ]
  },
  {
   "cell_type": "markdown",
   "metadata": {
    "id": "_m2k-SesbaIa"
   },
   "source": [
    "\n",
    "**Step 4 - Adding colors to each cluster**\n",
    "\n",
    "Finally, let’s type **cluster** to determine the name of the column with the predicted cluster identified by corresponding colors.     \n",
    "\n",
    "- '**cluster**', add a last parameter as ‘cluster’ which will paint each dot with the corresponding color\n",
    "\n",
    "`px.scatter(dataframe,'CO2Emissions','Methane','cluster)`\n"
   ]
  },
  {
   "cell_type": "markdown",
   "metadata": {
    "id": "YEYRq_3pba5R"
   },
   "source": [
    "\n",
    "**Step 5 - Run the code**\n",
    "\n",
    "Hit ‘control’ and ‘enter’ at the same time to run the code!\n",
    "\n",
    "![](https://pbs.twimg.com/media/GbbFGQoaIAAvAdq?format=jpg&name=medium)"
   ]
  },
  {
   "cell_type": "markdown",
   "metadata": {
    "id": "qItgL23bb-eT"
   },
   "source": [
    "**Your Turn**: Let’s try another one! This time, let’s create a scatterplot, but let’s tweak the variables we are looking at.\n"
   ]
  },
  {
   "cell_type": "code",
   "execution_count": 14,
   "metadata": {
    "colab": {
     "base_uri": "https://localhost:8080/",
     "height": 542
    },
    "id": "oFsfHVRScDIH",
    "outputId": "e4122020-58af-411a-aeab-a99be05a65bf"
   },
   "outputs": [
    {
     "data": {
      "text/html": [
       "<html>\n",
       "<head><meta charset=\"utf-8\" /></head>\n",
       "<body>\n",
       "    <div>            <script src=\"https://cdnjs.cloudflare.com/ajax/libs/mathjax/2.7.5/MathJax.js?config=TeX-AMS-MML_SVG\"></script><script type=\"text/javascript\">if (window.MathJax && window.MathJax.Hub && window.MathJax.Hub.Config) {window.MathJax.Hub.Config({SVG: {font: \"STIX-Web\"}});}</script>                <script type=\"text/javascript\">window.PlotlyConfig = {MathJaxConfig: 'local'};</script>\n",
       "        <script charset=\"utf-8\" src=\"https://cdn.plot.ly/plotly-2.35.2.min.js\"></script>                <div id=\"9957a07c-e5fc-45f1-bd23-7e9cd424fb97\" class=\"plotly-graph-div\" style=\"height:525px; width:100%;\"></div>            <script type=\"text/javascript\">                                    window.PLOTLYENV=window.PLOTLYENV || {};                                    if (document.getElementById(\"9957a07c-e5fc-45f1-bd23-7e9cd424fb97\")) {                    Plotly.newPlot(                        \"9957a07c-e5fc-45f1-bd23-7e9cd424fb97\",                        [{\"hovertemplate\":\"CO2Emissions=%{x}\\u003cbr\\u003eMethane=%{y}\\u003cbr\\u003ecluster=%{marker.color}\\u003cextra\\u003e\\u003c\\u002fextra\\u003e\",\"legendgroup\":\"\",\"marker\":{\"color\":[0,0,0,0,0,3,0,3,3,3,3,3,3,3,3,3,0,0,0,0,0,0,0,0,0,0,0,0,0,0,1,1,1,1,1,1,1,1,1,1,3,1,1,1,3,3,3,3,3,3,3,3,3,3,3,3,3,3,3,3,3,2,2,2,2,2,2,2,2,2,2,2,2,2,2,2,2,2,2,2,2,2,2,2,0,0,0,0,0,0,0,0,0,0,0,0,2,2,2,2,2,2,2,2,2,2,2,2,2,2,2,2,2,2,2,2,2,0,0,0,0,0,0,0,0,0,0,0,0,0,0,2,2,2,2,0,2,2,2,2,2,2,0,0,0,0,0,0,0,0,0,0,0,0,0,0,0,0,0,0,0,0,0,0,0,0,0,3,3,3,3,3,3,3,3,3,3,3,3,3,3,3,3,3,3,3,3,3,3,3,3,3,3,3,0,0,0,0,0,0,3,3,3,3,3,3,3,3,3,3,3,3,1,3,3,3,0,0,0,0,0,0,0,2,2,2,2,2,2,2,2,2,2,2,2,2,2,2,2,2,2,2,2,2,2,2,2,2,2,2,2,0,0,0,0,0,0,0,0,0,0,0,0,0,0,0,0,0,0,0,0,3,3,3,0,0,0,0,0,2,2,2,2,2,2,2,2,2,2,2,2,0,0,0,0,0,0,0,0,0,0,2,0,0,0,0,0,0,0,0,0,0,0,0,0,3,3,0,0,0,0,0,0,0,0,0,0,2,2,2,2,2,2,2,2,2,2,2,2,2,2,2,2,2,2,2,2,2,2,2,2,2,2,2,2,2,2,2,2,2,2,2,0,3,3,3,3,3,3,3,3,3,3,3,3,3,3,3,3,3,3,3,3,3,3,3,3,3,3,3,3,3,3,3,3,3,3,3,3,3,3,3,3,3,3,3,3,3,3,3,3,3,3,3,3,3,3,3,3,3,3,3,3,3,3,3,3,3,3,3,3,1,1,1,1,1,1,1,1,1,1,1,1,1,1,1,1,1,1,1,1,1,1,1,1,1,1,1,1,3,0,1,1,1,1,1,3,2,2,2,2,2,2,2,2,0,0,0,0,0,0,0,0,0,0,0,0,0,0,0,0,0,0,0,0,0,0,0,0,0,0,0,0,0,0,0,0,0,0,0,0,0,0,0,0,0,0,0,0,0,0,0,0,0,0,0,0,0,0,2,2,2,2,2,0,0,2,0,0,0,3,3,3,3,3,3,3,3,3,3,3,3,3,3,3,3,3,3,3,3,3,3,3,3,3,3,3,3,3,3,3,3,3,3,3,3,3,3,3,3,3,3,3,3,3,3,3,3,3,3,3,3,3,3,3,3,3,3,3,3,3,3,3,3,3,3,3,2,2,2,2,2,2,2,2,2,2,2,2,2,2,2,2,2,2,2,2,2,2,2,2,2,2,2,2,2,2,2,2,2,2,2,2,2,0,0,0,0,0,0,0,0,0,0,0,0,0,0,0,0,0,0,0,0,0,0,0,0,0,0,0,0,0,0,0,0,1,1,1,1,1,1,1,1,1,1,1,1,1,1,1,1,3,3,3,3,3,3,3,3,3,3,3,3,3,3,3,3,3,3,3,3,3,3,3,3,3,3,3,3,3,3,3,3,3,3,3,3,3,3,3,3,3,3,3,3,3,3,3,3,0,3,3,3,3,3,3,0,0,0,0,0,0,0,0,0,0,0,0,0,0,0,0,0,0,0,0,0,0,0,0,0,0,0,0,0,0,0,0,0,0,0,0,0,0,0,0,0,0,0,0,0,0,0,0,0,0,0,0,0,0,0,0,0,0,0,0,0,0,0,0,0,0,0,0,0,0,0,0,2,2,2,2,2,2,2,2,2,2,2,2,2,2,2,2,2,2,2,2,2,2,2,2,2,2,2,2,2,2,2,2,2,2,2,2,2,2,0,0,0,0,0,2,2,2,2,2,2,2,2,2,2,2,2,2,2,0,0,0,0,0,0,0,0,0,0,0,0,0,0,0,0,0,0,0,0,0,0,0,0,0,0,0,0,0,0,0,0,0,0,0,0,0,0,0,3,3,3,0,0,0,0,0,0,0,0,0,0,0,0,0,0,0,0,0,0,0,0,0,0,0,0,0,0,0,0,0,0,0,0,0,0,0,0,0,0,0,0,0,0,0,0,0,0,0,0,0,0,0,0,2,2,2,2,2,2,2,2,2,2,2,2,2,2,2,2,2,2,2,2,2,1,1,1,1,1,1,1,1,1,1,1,1,1,1,1,1,1,1,1,1,1,0,2,2,2,2,2,2,2,2,2,2,2,2,2,2,2,2,2,2,2,2,2,2,2,2,2,2,2,2,2,2,2,2,2,2,2,2,2,2,2,2,2,0,0,0,0,0,0,0,0,0,0,0,0,0,0,0,0,0,0,0,0,0,0,0,0,0,0,0,0,0,0,2,2,2,2,2,2,2,2,2,2,2,2,2,2,2,2,2,2,2,2,2,2,2,2,2,2,2,2,2,2,2,2,2,2,2,2,2,2,2,2,2,2,0,0,0,3,0,0,3,3,3,3,0,0,0,0,0,0,0,0,3,3,1,1,1,1,1,1,1,1,1,1,0,0,0,0,0,0,0,0,1,1,1,1,1,1,1,1,0,1,1,1,1,0,0,1,1,1,1,1,1,1,1,1,1,1,1,1,1,1,1,1,1,1,1,1,1,1,2,2,2,2,2,2,2,2,2,2,2,2,2,2,2,2,2,2,2,2,2,2,2,2,2,2,2,2,2,2,2,2,2,2,2,2,2,2,2,2,2,2,2,2,2,2,2,2,2,2,2,2,2,2,2,2,2,2,2,2,2,2,2,2,2,2,2,2,2,2,2,2,2,2,2,2,2,2,2,2,2,2,2,2,2,2,2,2,1,1,3,0,1,1,1,1,1,1,1,0,0,0,0,0,0,1,0,0,0,1,1,1,1,1,1,1,0,1,1,0,0,0,0,0,0,0,0,0,0,0,0,0,0,0,0,0,0,1,1,1,1,1,1,1,1,1,1,1,1,1,1,1,1,1,1,1,1,1,1,1,1,1,1,1,1,1,1,1,1,1,1,1,1,1,1,1,1,1,1,1,1,1,1,1,0,1,1,1,1,1,0,0,0,0,0,0,0,2,2,2,2,2,2,2,2,2,2,2,2,0,2,0,0,0,0,0,0,0,0,0,0,0,0,0,0,0,0,0,0,0,0,0,0,0,0,0,0,0,0,0,0,0,0,0,0,0,0,0,0,0,0,0,0,0,0,0,0,0,0,0,0,0,0,0,0,0,0,0,0,0,0,0,0,0,0,2,2,2,2,2,2,2,2,2,2,0,0,2,2,2,2,2,2,2,2,2,2,2,2,2,1,1,1,1,1,1,1,1,1,1,1,1,1,0,0,0,0,0,0,0,0,0,0,0,0,0,0,0,0,0,0,0,0,0,0,0,0,0,0,0,0,0,0,0,0,0,0,0,0,0,0,0,0,0,0,0,0,0,0,0,2,2,2,2,0,0,1,1,1,1,1,1,1,1,1,1,1,1,1,1,1,1,1,1,1,1,1,1,1,1,1,1,1,1,1,1,1,1,1,2,2,2,2,2,2,2,2,2,2,2,2,2,0,1,1,1,1,1,1,1,1,1,1,1,1,1,1,1,1,1,0,0,2,2,2,2,2,2,2,2,2,0,0,0,0,0,0,0,0,0,0,0,0,0,0,0,0,0,0,0,0,0,0,0,0,0,0,0,0,0,0,0,0,0,0,0,0,0,0,0,0,0,0,0,0,0,0,0,0,0,0,0,0,0,2,2,2,2,2,2,2,2,2,2,2,2,2,2,2,2,2,2,2,2,2,2,2,2,2,2,2,2,2,2,2,2,2,2,2,2,2,0,3,3,3,3,3,3,3,3,3,3,3,3,3,3,3,3,3,3,3,3,3,3,3,3,3,3,3,3,3,3,3,3,2,2,2,2,2,2,2,2,2,2,2,2,2,2,2,2,2,2,2,2,2,2,2,2,2,2,2,2,2,2,2,2,2,2,2,2,2,2,2,2,2,2,2,2,2,2,2,2,2,2,2,2,2,2,0,0,0,0,0,0,0,0,0,0,0,0,0,0,2,2,2,2,2,2,1,1,1,1,1],\"coloraxis\":\"coloraxis\",\"symbol\":\"circle\"},\"mode\":\"markers\",\"name\":\"\",\"showlegend\":false,\"x\":[2431,2433,2361,2427,2447,2434,2450,2476,2405,2454,2438,2427,2447,2451,2478,2457,2442,2459,2453,2442,2465,2440,2454,2457,2451,2444,2476,2426,2479,2479,2047,1957,1896,1957,1917,1904,1826,1957,1929,1977,2164,2134,2079,2122,2200,2181,2180,2198,2177,2167,2185,2394,2419,2388,2382,2388,2331,2398,2395,2388,2409,2380,2488,2477,2475,2472,2504,2509,2485,2435,2485,2455,2485,2485,2485,2485,2485,2485,2485,2485,2485,2485,2485,2485,2328,2250,2260,2323,2324,2342,2320,2289,2308,2360,2376,2414,2565,2619,2700,2658,2702,2695,2667,2664,2684,2695,2642,2669,2681,2703,2524,2539,2555,2578,2604,2600,2623,2401,2392,2383,2387,2353,2344,2356,2380,2362,2339,2426,2491,2506,2236,2233,2249,2231,2232,2212,2234,2213,2235,2216,2249,2264,2346,2377,2422,2387,2344,2336,2334,2340,2368,2364,2337,2304,2330,2368,2411,2403,2433,2430,2464,2455,2478,2442,2450,2432,2425,2442,2408,2420,2408,2430,2405,2375,2361,2345,2367,2288,2297,2350,2372,2366,2379,2361,2353,2345,2347,2367,2308,2331,2296,2265,2217,2290,2323,2307,2303,2286,2278,2254,2237,2227,2201,2217,2184,2234,2222,2178,2178,2199,2213,2185,2160,2210,2213,2263,2339,2355,2388,2375,2390,2386,2397,2172,2133,2169,2161,2262,2265,2215,2215,2215,2241,2205,2286,2215,2241,2205,2286,2286,2450,2438,2452,2482,2434,2519,2467,2305,2241,2251,2342,2364,2430,2440,2412,2478,2487,2364,2430,2440,2412,2478,2487,2467,2437,2338,2374,2279,2266,2281,2245,2290,2280,2275,2345,2289,2375,2345,2394,2555,2578,2541,2533,2535,2542,2565,2523,2529,2534,2523,2501,2482,2513,2526,2492,2486,2535,2514,2529,2511,2527,2554,2513,2457,2493,2493,2531,2506,2513,2502,2494,2510,2464,2422,2370,2441,2429,2432,2520,2500,2491,2528,2551,2480,2562,2533,2533,2200,2207,2227,2237,2233,2236,2292,2295,2252,2263,2263,2259,2212,2270,2265,2245,2272,2201,2222,2229,2243,2247,2228,2238,2265,2554,2524,2530,2556,2537,2540,2535,2568,2568,2550,2500,2509,2426,2463,2513,2430,2486,2494,2454,2493,2462,2501,2456,2502,2504,2476,2503,2479,2458,2431,2467,2468,2445,2398,2490,2430,2498,2482,2458,2467,2449,2499,2464,2510,2457,2498,2502,2480,2494,2498,2483,2483,2465,2491,2440,2503,2520,2475,2513,2497,2519,2502,2510,2498,2510,2486,2428,2504,2480,2490,2438,2473,2495,2491,2532,2518,2496,2166,2188,2121,2108,1928,1849,1950,1911,1929,1936,1961,1957,1948,1938,1947,1976,2026,1996,2010,2018,2015,2019,2006,2017,2000,1923,1935,1948,2035,2070,2183,2120,1923,1935,1948,2035,2070,2183,2371,2251,2245,2265,2272,2292,2294,2501,2379,2362,2421,2372,2448,2374,2365,2418,2380,2447,2435,2432,2440,2380,2428,2395,2388,2398,2368,2412,2395,2372,2362,2400,2402,2407,2414,2367,2362,2317,2355,2357,2326,2383,2327,2322,2370,2405,2381,2382,2407,2376,2433,2432,2430,2411,2247,2212,2230,2299,2230,2287,2263,2224,2398,2321,2358,2346,2309,2301,2306,2351,2316,2344,2393,2426,2421,2467,2440,2470,2449,2443,2462,2471,2445,2404,2438,2491,2434,2453,2468,2476,2501,2451,2449,2479,2459,2434,2429,2424,2507,2422,2500,2475,2491,2483,2460,2466,2460,2495,2473,2422,2419,2471,2455,2497,2488,2483,2491,2490,2466,2476,2468,2472,2497,2479,2473,2491,2493,2479,2478,2493,2450,2467,2474,2482,2486,2490,2467,2461,2464,2448,2170,2108,2125,2185,2100,2120,2141,2198,2152,2109,2121,2151,2526,2484,2492,2519,2507,2496,2492,2439,2460,2525,2492,2517,2511,2450,2534,2468,2515,2468,2463,2518,2506,2461,2517,2484,2536,2318,2311,2305,2266,2284,2279,2324,2335,2314,2347,2243,2291,2280,2300,2308,2327,2322,2330,2363,2344,2360,2272,2362,2363,2287,2303,2301,2352,2369,2307,2349,2355,2049,2038,1995,2032,2013,1907,1947,1827,1916,1949,1904,1919,1861,1874,1946,2021,2475,2465,2463,2433,2400,2447,2425,2447,2442,2456,2424,2445,2454,2464,2359,2416,2462,2441,2467,2471,2443,2458,2453,2470,2440,2452,2434,2478,2449,2458,2432,2464,2461,2450,2453,2407,2450,2445,2432,2425,2402,2439,2442,2426,2418,2408,2457,2363,2428,2375,2452,2463,2469,2437,2458,2168,2186,2174,2187,2149,2166,2150,2142,2137,2154,2164,2059,2171,2105,2136,2162,2152,2128,2138,2150,2105,2151,2130,2162,2159,2129,2158,2156,2126,2146,2135,2088,2128,2114,2107,2161,2163,2112,2185,2151,2158,2165,2169,2147,2170,2165,2160,2131,2143,2149,2156,2196,2144,2166,2149,2181,2190,2181,2194,2147,2177,2202,2188,2140,2209,2168,2198,2209,2199,2206,2168,2145,2292,2284,2317,2317,2296,2216,2310,2311,2308,2309,2293,2329,2301,2316,2296,2304,2264,2272,2303,2380,2346,2373,2342,2344,2345,2394,2344,2381,2340,2378,2278,2360,2386,2372,2374,2378,2367,2350,2192,2197,2291,2292,2292,2284,2291,2311,2344,2342,2342,2350,2325,2339,2294,2339,2372,2352,2336,2144,2146,2132,2127,2108,2189,2134,2137,2203,2198,2216,2224,2226,2246,2160,2201,2192,2198,2205,2181,2169,2176,2244,2241,2270,2231,2300,2300,2261,2279,2330,2335,2300,2300,2300,2346,2298,2367,2347,2328,2286,2348,2332,2275,2339,2303,2334,2338,2347,2344,2304,2315,2325,2358,2327,2237,2275,2282,2267,2296,2276,2296,2275,2129,2134,2141,2144,2182,2266,2123,2110,2247,2130,2107,2128,2192,2185,2240,2327,2285,2195,2115,2286,2287,2290,2325,2198,2189,2133,2119,2296,2186,2200,2202,2283,2316,2335,2307,2316,2325,2344,2347,2339,2326,2336,2319,2337,2344,2352,2346,2346,2343,2336,2342,2330,1903,1914,1925,1888,1904,1908,1865,1928,1934,1942,1926,1873,1926,1969,1961,1949,1958,2008,1964,1954,1934,2005,2207,2214,2164,2177,2193,2204,2206,2238,2245,2231,2173,2212,2225,2209,2223,2234,2251,2244,2221,2237,2246,2194,2269,2219,2236,2254,2268,2244,2257,2256,2235,2257,2254,2220,2263,2292,2280,2251,2255,2268,2265,2011,2078,2099,2103,2050,2125,2053,2080,2137,2138,2143,2085,2131,2101,2050,2124,2099,2105,2150,2110,2111,2100,2138,2189,2124,2170,2114,2138,2145,2175,2228,2211,2257,2227,2233,2218,2267,2240,2243,2198,2280,2261,2234,2236,2232,2286,2255,2262,2256,2280,2239,2286,2297,2251,2330,2300,2305,2297,2264,2305,2309,2318,2310,2300,2316,2293,2318,2307,2294,2301,2297,2332,2316,2302,2294,2242,2239,2238,2257,2211,2222,2198,2193,2198,2198,2158,2191,2157,2186,2180,2179,2156,2142,2146,2147,2108,2106,2133,2095,2105,2112,2108,2105,2142,2103,2113,2090,2092,2069,2094,2134,2106,2071,2074,2076,2088,2082,2049,2069,2073,2066,2028,2043,2066,2112,1995,1951,1955,1879,1929,1908,1912,1822,1865,1857,1889,1856,1837,1842,1845,1853,1854,1889,1864,1958,1927,1931,1995,2106,2113,2158,2130,2170,2157,2178,2196,2193,2230,2226,2243,2245,2201,2192,2266,2244,2250,2294,2274,2258,2305,2278,2275,2284,2267,2284,2315,2268,2301,2315,2321,2274,2288,2309,2330,2308,2336,2309,2310,2305,2337,2317,2336,2327,2318,2344,2357,2331,2323,2360,2268,2333,2291,2299,2338,2363,2337,2347,2362,2350,2345,2343,2389,2362,2332,2365,2359,2281,2351,2375,2363,2384,2336,2372,2344,2354,2389,2349,2353,2359,2354,2367,2304,2292,2316,2329,2379,2235,2131,2155,2156,2113,2136,2115,2117,2095,2122,2077,2097,2106,2107,2106,2128,2079,2106,2100,2087,2111,2110,2090,2099,2038,2064,2048,2061,2092,2034,2043,2076,1998,2052,2046,2040,2029,2024,2051,2027,2012,2059,2046,2055,2059,2048,2071,2083,2052,1872,1917,1866,1877,1911,1900,1895,1869,1901,1854,1902,1908,1869,1865,1838,1869,1832,1823,1882,1860,1856,1855,1862,1862,1855,1860,1868,1805,1814,1831,1881,1855,1881,1880,1921,1863,1901,1896,1894,1882,1885,1901,1903,1887,1887,1902,1895,2002,1924,1928,1958,1986,1962,1953,1978,1999,1906,1974,1988,1958,2207,2174,2204,2125,2107,2200,2175,2185,2160,2169,2133,2097,2057,2107,2115,2113,2088,2155,2169,2142,2160,2181,2142,2161,2187,2199,2182,2169,2192,2156,2183,2171,2169,2201,2190,2248,2261,2289,2251,2293,2287,2301,2293,2300,2283,2320,2310,2326,2323,2309,2331,2318,2336,2292,2267,2324,2329,2307,2264,2335,2298,2324,2307,2356,2309,2333,2312,2306,2323,2336,2323,2335,2319,2350,2320,2316,2210,2167,2201,2272,2309,2326,2343,2353,2313,2364,2287,2341,2095,2113,2155,2163,2194,2165,2212,2255,2235,2268,2287,2294,2277,2296,2285,2197,2121,1984,1940,1955,1944,1946,1873,1959,1900,1927,1912,1968,1974,1978,1983,1987,1989,2192,2073,2025,2124,2062,2020,2089,2076,2082,2028,2089,2087,2022,2023,2068,2025,2092,2065,2043,2047,2042,2064,2052,2013,2037,2017,2022,2119,2096,2013,2025,2031,2109,2158,2146,2154,2117,2195,2110,2161,1932,1913,1889,1899,1907,1942,1850,1873,1872,1887,1837,1870,1845,1866,1841,1845,1861,1857,1804,1836,1850,1833,1829,1845,1859,1822,1797,1868,1864,1826,1827,1835,1862,1831,1869,1849,1832,1820,1842,1841,1881,2218,2198,2183,2246,2195,2220,2221,2212,2228,2263,2252,2202,2286,2169,2187,2131,2033,2030,2079,2027,2029,1986,1969,1970,1951,1955,1897,1970,1941,1967,1958,1986,1994,2185,2202,2186,2220,2202,2190,2240,2225,2224,2165,2165,2128,2164,2167,2158,2157,2179,2157,2095,2098,2133,2156,2134,2137,2146,2143,2143,2151,2159,2147,2153,2137,2145,2144,2158,2157,2131,2140,2161,2121,2156,2081,2159,2137,2146,2085,2086,2151,2120,2099,2160,2138,2143,2148,2134,2144,2148,2126,2144,2159,2130,2160,2251,2248,2287,2231,2238,2272,2292,2209,2188,2234,2208,2238,2234,2192,2237,2269,2234,2296,2246,2249,2275,2207,2283,2274,2265,2271,2312,2262,2307,2289,2302,2272,2256,2265,2301,2280,2287,2302,2274,2283,2270,2243,2267,2274,2261,2192,2248,2281,2287,2253,2277,2250,2263,2262,2284,2258,2272,2258,2249,2290,2265,2256,2250,2277,2289,2257,2312,2247,2256,2276,2210,2229,2214,2194,2235,2229,2248,2249,2242,2238,2286,2262,2225,2274,2256,2208,2274,2248,2265,2228,2265,2298,2279,2276,2278,2279,2268,2280,2302,2255,2298,2296,2284,2301,2273,2292,2314,2302,2263,2204,2239,2280,2318,2306,2317,2337,2319,2340,2329,2343,2369,2322,2333,2355,2108,2100,2126,2086,2101,2117,2123,2111,2128,2145,2142,2113,2117,2128,2094,2101,2090,2126,2101,2125,2037,2008,1989,1986,1996],\"xaxis\":\"x\",\"y\":[670,641,642,640,616,780,639,564,797,740,887,627,564,743,620,637,576,559,552,551,546,543,501,537,533,556,543,526,534,548,1005,1193,1266,1151,1204,1258,1254,1151,1116,1156,860,878,888,883,804,795,823,830,840,833,828,890,802,781,757,749,791,764,742,710,671,458,453,428,430,482,496,509,517,522,520,494,517,428,474,451,463,424,435,517,517,517,517,517,596,669,722,666,685,655,758,706,737,711,660,673,477,483,477,462,506,498,501,500,501,502,500,513,504,495,490,508,485,518,505,493,502,616,610,642,661,651,670,630,666,670,691,622,586,579,521,508,457,501,502,520,441,439,393,388,447,456,532,495,545,508,578,569,597,590,582,566,627,637,582,623,589,561,578,572,504,559,565,522,547,592,697,728,730,804,749,836,822,720,747,770,751,751,753,780,762,780,801,713,712,722,826,813,906,965,999,977,902,913,577,618,628,656,682,705,737,741,778,799,797,762,759,793,814,805,802,800,787,800,782,708,611,593,575,565,574,580,555,394,388,380,356,371,377,380,380,380,345,369,373,380,345,369,373,373,448,483,469,474,471,460,466,474,466,472,482,537,513,549,554,517,560,534,516,549,554,517,560,517,506,550,603,596,630,664,672,696,691,693,563,563,552,550,511,423,421,399,477,472,506,509,504,511,506,485,504,534,516,526,523,514,532,532,501,545,539,491,529,550,580,544,564,607,598,607,621,630,649,658,657,670,669,644,530,556,539,532,536,526,513,495,525,424,401,408,410,403,409,377,410,430,417,423,413,408,434,416,442,419,432,407,452,457,457,464,468,466,465,483,467,472,472,479,485,466,428,475,653,697,682,666,638,629,636,772,869,864,861,891,879,886,940,969,993,974,1030,1034,1047,1045,1062,1061,1066,967,941,894,886,858,878,904,867,800,853,843,896,901,918,912,854,874,856,840,855,861,862,865,870,849,844,855,832,873,848,847,854,847,836,820,828,797,707,652,650,624,597,723,788,844,877,1112,1158,1129,1124,1053,1088,1066,1049,1052,1013,1035,956,921,897,918,916,920,936,922,933,953,998,987,982,878,767,705,689,998,987,982,878,767,705,426,429,448,407,458,463,466,459,588,567,522,585,545,568,557,512,561,574,532,572,571,552,566,543,540,542,543,529,518,547,524,523,550,554,493,574,576,575,606,609,621,610,597,605,611,582,608,554,611,603,581,591,585,555,527,521,519,522,511,491,545,513,440,437,453,417,454,510,523,492,519,517,545,785,767,763,750,725,683,658,709,642,622,669,626,660,653,706,685,725,729,777,809,806,827,843,852,846,867,866,876,870,877,858,861,876,822,777,761,736,775,780,775,797,807,804,811,828,817,793,755,773,791,800,784,808,824,835,826,817,825,782,819,811,806,835,826,812,788,769,405,407,358,373,409,414,428,420,428,422,439,405,364,381,378,369,374,365,367,369,361,321,366,360,366,366,368,368,376,371,373,367,375,376,385,370,388,561,559,571,605,583,631,577,539,547,544,619,612,653,563,557,542,569,552,514,522,533,539,556,579,569,571,526,559,581,562,560,559,746,796,823,788,856,938,926,954,924,928,937,959,945,972,870,742,732,669,608,714,713,666,698,773,748,770,822,808,845,821,840,875,805,586,610,619,731,880,808,741,819,776,771,808,843,820,829,833,839,854,831,872,864,848,891,892,846,871,895,918,942,852,682,554,506,552,606,608,607,657,609,443,442,478,488,496,496,467,504,511,537,527,542,566,584,582,545,540,543,550,478,510,536,560,552,540,562,537,561,543,589,600,587,561,577,511,556,536,508,499,506,536,527,539,549,513,552,549,552,550,544,496,531,524,528,520,528,521,525,506,508,526,467,515,518,507,469,455,477,501,499,516,502,376,384,399,421,408,423,397,362,387,375,415,431,409,414,400,432,396,380,411,401,365,416,402,433,390,399,434,379,394,417,420,421,434,423,439,390,422,419,388,467,460,437,457,393,438,432,418,422,419,374,418,420,408,413,422,415,414,556,569,596,594,588,537,555,553,498,553,561,543,530,556,602,584,613,626,589,571,550,534,549,547,545,548,579,641,628,591,598,600,594,558,542,531,544,647,700,774,714,685,581,586,588,546,569,573,579,580,563,572,585,541,582,650,668,660,627,577,542,553,536,494,494,500,506,494,524,519,508,507,512,455,499,485,513,519,482,573,531,536,486,478,490,490,518,573,493,527,539,541,521,480,398,401,400,402,405,402,404,418,401,417,409,416,379,369,409,414,375,387,419,383,419,1190,1209,1136,1063,1028,996,970,992,1153,1011,992,862,765,739,758,737,707,715,732,697,684,594,348,358,319,322,304,356,369,369,355,357,351,324,358,360,357,364,378,362,354,319,354,338,361,375,361,358,358,355,361,357,369,356,362,405,381,371,366,365,358,326,368,494,467,513,492,499,543,522,527,536,498,527,525,516,539,530,555,542,483,468,487,504,453,458,434,459,494,496,476,442,497,356,360,372,345,365,363,373,365,360,367,363,330,370,372,369,380,367,387,370,377,372,386,378,391,375,379,384,382,384,382,358,346,384,396,395,345,386,390,383,338,387,381,603,611,699,757,696,681,777,730,702,696,680,690,688,677,695,691,680,702,700,736,776,778,786,789,773,851,733,707,708,712,647,653,659,630,601,671,633,659,736,771,815,849,843,792,746,748,650,691,686,822,854,630,626,752,831,824,858,874,882,931,975,976,975,1003,989,1005,1000,996,932,991,894,904,762,764,764,687,311,310,321,280,331,325,309,263,308,309,312,329,301,306,307,301,311,286,310,277,263,306,324,310,311,305,321,325,284,325,332,312,278,313,312,315,313,323,318,311,311,311,312,319,313,313,309,327,312,321,320,295,317,301,288,328,314,334,305,344,307,321,334,322,313,326,306,305,307,309,307,317,311,321,318,323,302,305,265,309,267,401,314,277,270,272,288,268,957,896,742,695,714,744,858,778,760,722,660,631,628,644,646,629,655,694,672,671,662,748,908,819,753,733,710,693,633,660,672,595,640,598,581,569,516,528,524,515,479,502,500,497,468,491,471,483,477,777,705,662,676,647,675,674,696,683,665,639,716,716,743,789,748,782,773,798,776,786,797,733,763,761,731,732,742,735,759,743,744,762,757,665,740,733,726,734,765,736,728,728,735,737,712,693,586,654,634,640,640,597,640,617,613,613,570,608,615,423,426,410,417,415,420,418,422,404,414,408,448,453,409,426,480,488,496,498,525,489,517,587,541,537,562,557,554,575,521,514,524,565,642,607,622,573,549,529,556,546,512,546,607,622,585,595,599,593,644,619,603,606,627,621,574,601,588,597,601,595,615,619,615,612,594,595,606,596,600,628,638,626,612,585,573,401,374,377,367,367,378,378,380,373,396,387,384,379,368,375,344,377,370,380,394,377,376,383,381,392,383,453,1082,1065,1118,1058,1053,989,914,844,834,764,686,710,674,680,689,636,645,663,518,567,547,554,554,568,563,562,590,573,580,529,555,542,507,540,535,513,566,522,530,557,559,581,547,534,580,595,546,633,560,543,509,503,530,503,478,459,502,513,397,381,327,375,379,381,621,614,643,644,683,715,738,749,766,768,744,738,747,775,772,791,807,803,804,816,800,802,794,803,805,801,816,805,793,815,792,779,781,772,754,416,423,431,428,422,393,421,424,441,429,432,407,426,659,1098,1127,1039,1105,1088,1091,1089,1141,1090,1097,1091,1064,1062,1030,965,865,705,606,559,379,389,380,376,403,385,396,415,415,459,502,494,490,484,495,498,494,510,478,499,504,510,533,520,541,547,523,523,522,522,499,525,537,526,552,519,531,494,532,533,551,540,548,504,554,554,535,547,541,543,509,546,557,501,561,550,544,560,564,568,568,551,391,384,404,387,390,384,390,391,391,386,358,394,382,393,395,391,358,405,385,384,367,365,388,386,394,381,408,387,399,412,403,413,374,408,406,406,366,687,785,872,872,798,674,671,653,629,643,620,650,702,772,819,695,696,655,688,710,686,779,788,745,713,721,706,678,634,711,691,689,690,379,370,383,396,385,333,394,379,377,377,377,370,336,375,344,373,372,381,372,375,381,372,383,372,367,368,370,384,326,351,369,375,384,385,389,367,383,372,373,417,417,432,442,448,458,459,459,460,457,429,460,473,467,470,518,528,521,508,539,541,558,506,545,565,591,591,548,587,486,436,469,477,492,480,862,917,925,928,926],\"yaxis\":\"y\",\"type\":\"scattergl\"}],                        {\"template\":{\"data\":{\"histogram2dcontour\":[{\"type\":\"histogram2dcontour\",\"colorbar\":{\"outlinewidth\":0,\"ticks\":\"\"},\"colorscale\":[[0.0,\"#0d0887\"],[0.1111111111111111,\"#46039f\"],[0.2222222222222222,\"#7201a8\"],[0.3333333333333333,\"#9c179e\"],[0.4444444444444444,\"#bd3786\"],[0.5555555555555556,\"#d8576b\"],[0.6666666666666666,\"#ed7953\"],[0.7777777777777778,\"#fb9f3a\"],[0.8888888888888888,\"#fdca26\"],[1.0,\"#f0f921\"]]}],\"choropleth\":[{\"type\":\"choropleth\",\"colorbar\":{\"outlinewidth\":0,\"ticks\":\"\"}}],\"histogram2d\":[{\"type\":\"histogram2d\",\"colorbar\":{\"outlinewidth\":0,\"ticks\":\"\"},\"colorscale\":[[0.0,\"#0d0887\"],[0.1111111111111111,\"#46039f\"],[0.2222222222222222,\"#7201a8\"],[0.3333333333333333,\"#9c179e\"],[0.4444444444444444,\"#bd3786\"],[0.5555555555555556,\"#d8576b\"],[0.6666666666666666,\"#ed7953\"],[0.7777777777777778,\"#fb9f3a\"],[0.8888888888888888,\"#fdca26\"],[1.0,\"#f0f921\"]]}],\"heatmap\":[{\"type\":\"heatmap\",\"colorbar\":{\"outlinewidth\":0,\"ticks\":\"\"},\"colorscale\":[[0.0,\"#0d0887\"],[0.1111111111111111,\"#46039f\"],[0.2222222222222222,\"#7201a8\"],[0.3333333333333333,\"#9c179e\"],[0.4444444444444444,\"#bd3786\"],[0.5555555555555556,\"#d8576b\"],[0.6666666666666666,\"#ed7953\"],[0.7777777777777778,\"#fb9f3a\"],[0.8888888888888888,\"#fdca26\"],[1.0,\"#f0f921\"]]}],\"heatmapgl\":[{\"type\":\"heatmapgl\",\"colorbar\":{\"outlinewidth\":0,\"ticks\":\"\"},\"colorscale\":[[0.0,\"#0d0887\"],[0.1111111111111111,\"#46039f\"],[0.2222222222222222,\"#7201a8\"],[0.3333333333333333,\"#9c179e\"],[0.4444444444444444,\"#bd3786\"],[0.5555555555555556,\"#d8576b\"],[0.6666666666666666,\"#ed7953\"],[0.7777777777777778,\"#fb9f3a\"],[0.8888888888888888,\"#fdca26\"],[1.0,\"#f0f921\"]]}],\"contourcarpet\":[{\"type\":\"contourcarpet\",\"colorbar\":{\"outlinewidth\":0,\"ticks\":\"\"}}],\"contour\":[{\"type\":\"contour\",\"colorbar\":{\"outlinewidth\":0,\"ticks\":\"\"},\"colorscale\":[[0.0,\"#0d0887\"],[0.1111111111111111,\"#46039f\"],[0.2222222222222222,\"#7201a8\"],[0.3333333333333333,\"#9c179e\"],[0.4444444444444444,\"#bd3786\"],[0.5555555555555556,\"#d8576b\"],[0.6666666666666666,\"#ed7953\"],[0.7777777777777778,\"#fb9f3a\"],[0.8888888888888888,\"#fdca26\"],[1.0,\"#f0f921\"]]}],\"surface\":[{\"type\":\"surface\",\"colorbar\":{\"outlinewidth\":0,\"ticks\":\"\"},\"colorscale\":[[0.0,\"#0d0887\"],[0.1111111111111111,\"#46039f\"],[0.2222222222222222,\"#7201a8\"],[0.3333333333333333,\"#9c179e\"],[0.4444444444444444,\"#bd3786\"],[0.5555555555555556,\"#d8576b\"],[0.6666666666666666,\"#ed7953\"],[0.7777777777777778,\"#fb9f3a\"],[0.8888888888888888,\"#fdca26\"],[1.0,\"#f0f921\"]]}],\"mesh3d\":[{\"type\":\"mesh3d\",\"colorbar\":{\"outlinewidth\":0,\"ticks\":\"\"}}],\"scatter\":[{\"fillpattern\":{\"fillmode\":\"overlay\",\"size\":10,\"solidity\":0.2},\"type\":\"scatter\"}],\"parcoords\":[{\"type\":\"parcoords\",\"line\":{\"colorbar\":{\"outlinewidth\":0,\"ticks\":\"\"}}}],\"scatterpolargl\":[{\"type\":\"scatterpolargl\",\"marker\":{\"colorbar\":{\"outlinewidth\":0,\"ticks\":\"\"}}}],\"bar\":[{\"error_x\":{\"color\":\"#2a3f5f\"},\"error_y\":{\"color\":\"#2a3f5f\"},\"marker\":{\"line\":{\"color\":\"#E5ECF6\",\"width\":0.5},\"pattern\":{\"fillmode\":\"overlay\",\"size\":10,\"solidity\":0.2}},\"type\":\"bar\"}],\"scattergeo\":[{\"type\":\"scattergeo\",\"marker\":{\"colorbar\":{\"outlinewidth\":0,\"ticks\":\"\"}}}],\"scatterpolar\":[{\"type\":\"scatterpolar\",\"marker\":{\"colorbar\":{\"outlinewidth\":0,\"ticks\":\"\"}}}],\"histogram\":[{\"marker\":{\"pattern\":{\"fillmode\":\"overlay\",\"size\":10,\"solidity\":0.2}},\"type\":\"histogram\"}],\"scattergl\":[{\"type\":\"scattergl\",\"marker\":{\"colorbar\":{\"outlinewidth\":0,\"ticks\":\"\"}}}],\"scatter3d\":[{\"type\":\"scatter3d\",\"line\":{\"colorbar\":{\"outlinewidth\":0,\"ticks\":\"\"}},\"marker\":{\"colorbar\":{\"outlinewidth\":0,\"ticks\":\"\"}}}],\"scattermapbox\":[{\"type\":\"scattermapbox\",\"marker\":{\"colorbar\":{\"outlinewidth\":0,\"ticks\":\"\"}}}],\"scatterternary\":[{\"type\":\"scatterternary\",\"marker\":{\"colorbar\":{\"outlinewidth\":0,\"ticks\":\"\"}}}],\"scattercarpet\":[{\"type\":\"scattercarpet\",\"marker\":{\"colorbar\":{\"outlinewidth\":0,\"ticks\":\"\"}}}],\"carpet\":[{\"aaxis\":{\"endlinecolor\":\"#2a3f5f\",\"gridcolor\":\"white\",\"linecolor\":\"white\",\"minorgridcolor\":\"white\",\"startlinecolor\":\"#2a3f5f\"},\"baxis\":{\"endlinecolor\":\"#2a3f5f\",\"gridcolor\":\"white\",\"linecolor\":\"white\",\"minorgridcolor\":\"white\",\"startlinecolor\":\"#2a3f5f\"},\"type\":\"carpet\"}],\"table\":[{\"cells\":{\"fill\":{\"color\":\"#EBF0F8\"},\"line\":{\"color\":\"white\"}},\"header\":{\"fill\":{\"color\":\"#C8D4E3\"},\"line\":{\"color\":\"white\"}},\"type\":\"table\"}],\"barpolar\":[{\"marker\":{\"line\":{\"color\":\"#E5ECF6\",\"width\":0.5},\"pattern\":{\"fillmode\":\"overlay\",\"size\":10,\"solidity\":0.2}},\"type\":\"barpolar\"}],\"pie\":[{\"automargin\":true,\"type\":\"pie\"}]},\"layout\":{\"autotypenumbers\":\"strict\",\"colorway\":[\"#636efa\",\"#EF553B\",\"#00cc96\",\"#ab63fa\",\"#FFA15A\",\"#19d3f3\",\"#FF6692\",\"#B6E880\",\"#FF97FF\",\"#FECB52\"],\"font\":{\"color\":\"#2a3f5f\"},\"hovermode\":\"closest\",\"hoverlabel\":{\"align\":\"left\"},\"paper_bgcolor\":\"white\",\"plot_bgcolor\":\"#E5ECF6\",\"polar\":{\"bgcolor\":\"#E5ECF6\",\"angularaxis\":{\"gridcolor\":\"white\",\"linecolor\":\"white\",\"ticks\":\"\"},\"radialaxis\":{\"gridcolor\":\"white\",\"linecolor\":\"white\",\"ticks\":\"\"}},\"ternary\":{\"bgcolor\":\"#E5ECF6\",\"aaxis\":{\"gridcolor\":\"white\",\"linecolor\":\"white\",\"ticks\":\"\"},\"baxis\":{\"gridcolor\":\"white\",\"linecolor\":\"white\",\"ticks\":\"\"},\"caxis\":{\"gridcolor\":\"white\",\"linecolor\":\"white\",\"ticks\":\"\"}},\"coloraxis\":{\"colorbar\":{\"outlinewidth\":0,\"ticks\":\"\"}},\"colorscale\":{\"sequential\":[[0.0,\"#0d0887\"],[0.1111111111111111,\"#46039f\"],[0.2222222222222222,\"#7201a8\"],[0.3333333333333333,\"#9c179e\"],[0.4444444444444444,\"#bd3786\"],[0.5555555555555556,\"#d8576b\"],[0.6666666666666666,\"#ed7953\"],[0.7777777777777778,\"#fb9f3a\"],[0.8888888888888888,\"#fdca26\"],[1.0,\"#f0f921\"]],\"sequentialminus\":[[0.0,\"#0d0887\"],[0.1111111111111111,\"#46039f\"],[0.2222222222222222,\"#7201a8\"],[0.3333333333333333,\"#9c179e\"],[0.4444444444444444,\"#bd3786\"],[0.5555555555555556,\"#d8576b\"],[0.6666666666666666,\"#ed7953\"],[0.7777777777777778,\"#fb9f3a\"],[0.8888888888888888,\"#fdca26\"],[1.0,\"#f0f921\"]],\"diverging\":[[0,\"#8e0152\"],[0.1,\"#c51b7d\"],[0.2,\"#de77ae\"],[0.3,\"#f1b6da\"],[0.4,\"#fde0ef\"],[0.5,\"#f7f7f7\"],[0.6,\"#e6f5d0\"],[0.7,\"#b8e186\"],[0.8,\"#7fbc41\"],[0.9,\"#4d9221\"],[1,\"#276419\"]]},\"xaxis\":{\"gridcolor\":\"white\",\"linecolor\":\"white\",\"ticks\":\"\",\"title\":{\"standoff\":15},\"zerolinecolor\":\"white\",\"automargin\":true,\"zerolinewidth\":2},\"yaxis\":{\"gridcolor\":\"white\",\"linecolor\":\"white\",\"ticks\":\"\",\"title\":{\"standoff\":15},\"zerolinecolor\":\"white\",\"automargin\":true,\"zerolinewidth\":2},\"scene\":{\"xaxis\":{\"backgroundcolor\":\"#E5ECF6\",\"gridcolor\":\"white\",\"linecolor\":\"white\",\"showbackground\":true,\"ticks\":\"\",\"zerolinecolor\":\"white\",\"gridwidth\":2},\"yaxis\":{\"backgroundcolor\":\"#E5ECF6\",\"gridcolor\":\"white\",\"linecolor\":\"white\",\"showbackground\":true,\"ticks\":\"\",\"zerolinecolor\":\"white\",\"gridwidth\":2},\"zaxis\":{\"backgroundcolor\":\"#E5ECF6\",\"gridcolor\":\"white\",\"linecolor\":\"white\",\"showbackground\":true,\"ticks\":\"\",\"zerolinecolor\":\"white\",\"gridwidth\":2}},\"shapedefaults\":{\"line\":{\"color\":\"#2a3f5f\"}},\"annotationdefaults\":{\"arrowcolor\":\"#2a3f5f\",\"arrowhead\":0,\"arrowwidth\":1},\"geo\":{\"bgcolor\":\"white\",\"landcolor\":\"#E5ECF6\",\"subunitcolor\":\"white\",\"showland\":true,\"showlakes\":true,\"lakecolor\":\"white\"},\"title\":{\"x\":0.05},\"mapbox\":{\"style\":\"light\"}}},\"xaxis\":{\"anchor\":\"y\",\"domain\":[0.0,1.0],\"title\":{\"text\":\"CO2Emissions\"}},\"yaxis\":{\"anchor\":\"x\",\"domain\":[0.0,1.0],\"title\":{\"text\":\"Methane\"}},\"coloraxis\":{\"colorbar\":{\"title\":{\"text\":\"cluster\"}},\"colorscale\":[[0.0,\"#0d0887\"],[0.1111111111111111,\"#46039f\"],[0.2222222222222222,\"#7201a8\"],[0.3333333333333333,\"#9c179e\"],[0.4444444444444444,\"#bd3786\"],[0.5555555555555556,\"#d8576b\"],[0.6666666666666666,\"#ed7953\"],[0.7777777777777778,\"#fb9f3a\"],[0.8888888888888888,\"#fdca26\"],[1.0,\"#f0f921\"]]},\"legend\":{\"tracegroupgap\":0},\"margin\":{\"t\":60}},                        {\"responsive\": true}                    ).then(function(){\n",
       "                            \n",
       "var gd = document.getElementById('9957a07c-e5fc-45f1-bd23-7e9cd424fb97');\n",
       "var x = new MutationObserver(function (mutations, observer) {{\n",
       "        var display = window.getComputedStyle(gd).display;\n",
       "        if (!display || display === 'none') {{\n",
       "            console.log([gd, 'removed!']);\n",
       "            Plotly.purge(gd);\n",
       "            observer.disconnect();\n",
       "        }}\n",
       "}});\n",
       "\n",
       "// Listen for the removal of the full notebook cells\n",
       "var notebookContainer = gd.closest('#notebook-container');\n",
       "if (notebookContainer) {{\n",
       "    x.observe(notebookContainer, {childList: true});\n",
       "}}\n",
       "\n",
       "// Listen for the clearing of the current output cell\n",
       "var outputEl = gd.closest('.output');\n",
       "if (outputEl) {{\n",
       "    x.observe(outputEl, {childList: true});\n",
       "}}\n",
       "\n",
       "                        })                };                            </script>        </div>\n",
       "</body>\n",
       "</html>"
      ]
     },
     "metadata": {},
     "output_type": "display_data"
    }
   ],
   "source": [
    "px.scatter(dataframe,'CO2Emissions','Methane','cluster')"
   ]
  },
  {
   "cell_type": "markdown",
   "metadata": {
    "id": "wm5amzZbcE-m"
   },
   "source": [
    "**Explanation** *The scatter plot shows the relationship between CO2 emissions and Methane emissions, with data points grouped into four clusters. Each color represents a different cluster, indicating that certain ranges of CO2 and Methane emissions are commonly found together. For example, the orange cluster has higher CO2 and Methane levels, while the purple cluster has lower levels of both. The clustering helps us see that emissions don’t follow a single pattern; instead, there are different groups with distinct levels of CO2 and Methane. This kind of grouping can be useful for identifying different sources or types of pollution*."
   ]
  },
  {
   "cell_type": "markdown",
   "metadata": {
    "id": "M0zP5NdMcG5J"
   },
   "source": [
    "### Goal 12: Create even more scatterplots using different variables to compare\n",
    "\n",
    "So how about we try even more mixing and matching of variables to compare!?"
   ]
  },
  {
   "cell_type": "markdown",
   "metadata": {
    "id": "VvmxSifUcMoy"
   },
   "source": [
    "#### Blockly"
   ]
  },
  {
   "cell_type": "markdown",
   "metadata": {
    "id": "5A7k8ddgcaQB"
   },
   "source": [
    "\n",
    "**Step 1 -  Call the scatter function from plotly**\n",
    "\n",
    "To make a scatterplot, we first need to call the scatter function with our plotly library (px).\n",
    "\n",
    "From the Variables menu drag a DO block for the **px** variable. Select the \"**scatter**\" function. This specifies the function we want to call, which is the scatter function from the Plotly Express library (imported as \"px\" earlier).\n"
   ]
  },
  {
   "cell_type": "markdown",
   "metadata": {
    "id": "Wjb8kKCgcmMC"
   },
   "source": [
    "\n",
    "**Step 2 -  Saying what data to use for the scatter plot**\n",
    "\n",
    "In order to make a plot, we need to choose its source from which data we want to plot from. In this case, our dataset is stored in the dataframe **dataframe**.\n",
    "\n",
    "For the first argument, drag from the Variable menu the **dataframe** variable. This allows us to specify a dataframe and what to look at for the scatter function.\n"
   ]
  },
  {
   "cell_type": "markdown",
   "metadata": {
    "id": "vsN9UzOHcnzQ"
   },
   "source": [
    "\n",
    "**Step 3 -  Tell plotly what columns to put on the axis**\n",
    "\n",
    "Identify the two variables you want to look at. One variable will be alongside the X-axis (*across*) and another one alongside the Y-axis (*up and down*). In our context, we want to see the relationship between **Methane** and **PM2.5Emissions**. We will assign the variables to the 2 axes in the graph.\n",
    "\n",
    "From the TEXT menu, drag the Quotes. Type the text **Methane**. This specifies TrafficVolume as the x-axis variable for the scatter plot. Also, from the TEXT menu, drag the Quotes. Type the text **PM2.5Emissions**."
   ]
  },
  {
   "cell_type": "markdown",
   "metadata": {
    "id": "c9he3ZRDcpet"
   },
   "source": [
    "\n",
    "\n",
    "**Step 4 - Adding colors to each cluster**\n",
    "\n",
    "Finally, with the last Quote block, type cluster, it will determine the name of the column with the predicted cluster identified by corresponding colors.     \n",
    "\n",
    "From the TEXT menu, drag the Quotes. Type the text **‘cluster’**.\n"
   ]
  },
  {
   "cell_type": "markdown",
   "metadata": {
    "id": "OhDZ_6Rpcqfa"
   },
   "source": [
    "\n",
    "**Step 5 - Connect the blocks to run the code**\n",
    "\n",
    "Connect the blocks and run the code!\n",
    "\n",
    "![](https://pbs.twimg.com/media/GbbEQk-acAAD_0T?format=png&name=900x900)\n",
    "    \n"
   ]
  },
  {
   "cell_type": "markdown",
   "metadata": {
    "id": "vbk7b0DbdCPK"
   },
   "source": [
    "#### Freehand"
   ]
  },
  {
   "cell_type": "markdown",
   "metadata": {
    "id": "j9FpOdBOdK5G"
   },
   "source": [
    "\n",
    "**Step 1 -  Call the scatter function from plotly**\n",
    "\n",
    "To make a scatterplot, we first need to call the scatter function with our plotly library (px).\n",
    "\n",
    "From the Variables menu drag a DO block for the **px** variable. Select the \"**scatter**\" function. This specifies the function we want to call, which is the scatter function from the Plotly Express library (imported as \"px\" earlier).\n",
    "\n",
    "`px.scatter()`"
   ]
  },
  {
   "cell_type": "markdown",
   "metadata": {
    "id": "Bo8rMGovdRRO"
   },
   "source": [
    "\n",
    "\n",
    "**Step 2 -  Saying what data to use for the scatter plot**\n",
    "\n",
    "In order to make a plot, we need to choose its source from which data we want to plot from. In this case, our dataset is stored in the dataframe **dataframe**.\n",
    "\n",
    "`px.scatter(dataframe)`\n"
   ]
  },
  {
   "cell_type": "markdown",
   "metadata": {
    "id": "VZ5P2tMRdTCe"
   },
   "source": [
    "\n",
    "**Step 3 -  Tell plotly what the columns to put on the axis**\n",
    "\n",
    "Inside the scatter() method, we add our parameters for the plot\n",
    "- **dataframe** The DataFrame containing the data to plot.\n",
    "- '**Methane**' The column to be plotted on the x-axis, representing the CO₂ emission levels.\n",
    "- '**PM2.5Emissions**' The column to be plotted on the y-axis, representing PM2.5 emission levels.\n",
    "\n",
    "`px.scatter(dataframe,'Methane','PM2.5Emissions')`\n"
   ]
  },
  {
   "cell_type": "markdown",
   "metadata": {
    "id": "2tVdF0p4dUmM"
   },
   "source": [
    "\n",
    "**Step 4 - Adding colors to each cluster**\n",
    "\n",
    "Finally, let’s type **cluster** to determine the name of the column with the predicted cluster identified by corresponding colors.     \n",
    "\n",
    "- '**cluster**', add a last parameter as ‘cluster’ which will paint each dot with the corresponding color\n",
    "\n",
    "`px.scatter(dataframe,'Methane','PM2.5Emissions','cluster)`\n"
   ]
  },
  {
   "cell_type": "markdown",
   "metadata": {
    "id": "NDsA922gdVcR"
   },
   "source": [
    "\n",
    "**Step 5 - Run the code**\n",
    "\n",
    "Hit ‘control’ and ‘enter’ at the same time to run the code!\n",
    "\n",
    "![](https://pbs.twimg.com/media/GbbENvkawAAuixa?format=jpg&name=medium)"
   ]
  },
  {
   "cell_type": "markdown",
   "metadata": {
    "id": "UA8cuR2Vd57q"
   },
   "source": [
    "\n",
    "**Your Turn**: You are probably feeling pretty good about this by now. Let’s run a scatterplot for these variables and see what we find!\n"
   ]
  },
  {
   "cell_type": "code",
   "execution_count": 15,
   "metadata": {
    "colab": {
     "base_uri": "https://localhost:8080/",
     "height": 542
    },
    "id": "76FHMh7-d7_j",
    "outputId": "183fe776-6f0d-4f88-d8e4-bfa6df86deaa"
   },
   "outputs": [
    {
     "data": {
      "text/html": [
       "<html>\n",
       "<head><meta charset=\"utf-8\" /></head>\n",
       "<body>\n",
       "    <div>            <script src=\"https://cdnjs.cloudflare.com/ajax/libs/mathjax/2.7.5/MathJax.js?config=TeX-AMS-MML_SVG\"></script><script type=\"text/javascript\">if (window.MathJax && window.MathJax.Hub && window.MathJax.Hub.Config) {window.MathJax.Hub.Config({SVG: {font: \"STIX-Web\"}});}</script>                <script type=\"text/javascript\">window.PlotlyConfig = {MathJaxConfig: 'local'};</script>\n",
       "        <script charset=\"utf-8\" src=\"https://cdn.plot.ly/plotly-2.35.2.min.js\"></script>                <div id=\"bfdf9ad9-0249-45ea-a4a8-6dc3438517af\" class=\"plotly-graph-div\" style=\"height:525px; width:100%;\"></div>            <script type=\"text/javascript\">                                    window.PLOTLYENV=window.PLOTLYENV || {};                                    if (document.getElementById(\"bfdf9ad9-0249-45ea-a4a8-6dc3438517af\")) {                    Plotly.newPlot(                        \"bfdf9ad9-0249-45ea-a4a8-6dc3438517af\",                        [{\"hovertemplate\":\"Methane=%{x}\\u003cbr\\u003ePM2.5Emissions=%{y}\\u003cbr\\u003ecluster=%{marker.color}\\u003cextra\\u003e\\u003c\\u002fextra\\u003e\",\"legendgroup\":\"\",\"marker\":{\"color\":[0,0,0,0,0,3,0,3,3,3,3,3,3,3,3,3,0,0,0,0,0,0,0,0,0,0,0,0,0,0,1,1,1,1,1,1,1,1,1,1,3,1,1,1,3,3,3,3,3,3,3,3,3,3,3,3,3,3,3,3,3,2,2,2,2,2,2,2,2,2,2,2,2,2,2,2,2,2,2,2,2,2,2,2,0,0,0,0,0,0,0,0,0,0,0,0,2,2,2,2,2,2,2,2,2,2,2,2,2,2,2,2,2,2,2,2,2,0,0,0,0,0,0,0,0,0,0,0,0,0,0,2,2,2,2,0,2,2,2,2,2,2,0,0,0,0,0,0,0,0,0,0,0,0,0,0,0,0,0,0,0,0,0,0,0,0,0,3,3,3,3,3,3,3,3,3,3,3,3,3,3,3,3,3,3,3,3,3,3,3,3,3,3,3,0,0,0,0,0,0,3,3,3,3,3,3,3,3,3,3,3,3,1,3,3,3,0,0,0,0,0,0,0,2,2,2,2,2,2,2,2,2,2,2,2,2,2,2,2,2,2,2,2,2,2,2,2,2,2,2,2,0,0,0,0,0,0,0,0,0,0,0,0,0,0,0,0,0,0,0,0,3,3,3,0,0,0,0,0,2,2,2,2,2,2,2,2,2,2,2,2,0,0,0,0,0,0,0,0,0,0,2,0,0,0,0,0,0,0,0,0,0,0,0,0,3,3,0,0,0,0,0,0,0,0,0,0,2,2,2,2,2,2,2,2,2,2,2,2,2,2,2,2,2,2,2,2,2,2,2,2,2,2,2,2,2,2,2,2,2,2,2,0,3,3,3,3,3,3,3,3,3,3,3,3,3,3,3,3,3,3,3,3,3,3,3,3,3,3,3,3,3,3,3,3,3,3,3,3,3,3,3,3,3,3,3,3,3,3,3,3,3,3,3,3,3,3,3,3,3,3,3,3,3,3,3,3,3,3,3,3,1,1,1,1,1,1,1,1,1,1,1,1,1,1,1,1,1,1,1,1,1,1,1,1,1,1,1,1,3,0,1,1,1,1,1,3,2,2,2,2,2,2,2,2,0,0,0,0,0,0,0,0,0,0,0,0,0,0,0,0,0,0,0,0,0,0,0,0,0,0,0,0,0,0,0,0,0,0,0,0,0,0,0,0,0,0,0,0,0,0,0,0,0,0,0,0,0,0,2,2,2,2,2,0,0,2,0,0,0,3,3,3,3,3,3,3,3,3,3,3,3,3,3,3,3,3,3,3,3,3,3,3,3,3,3,3,3,3,3,3,3,3,3,3,3,3,3,3,3,3,3,3,3,3,3,3,3,3,3,3,3,3,3,3,3,3,3,3,3,3,3,3,3,3,3,3,2,2,2,2,2,2,2,2,2,2,2,2,2,2,2,2,2,2,2,2,2,2,2,2,2,2,2,2,2,2,2,2,2,2,2,2,2,0,0,0,0,0,0,0,0,0,0,0,0,0,0,0,0,0,0,0,0,0,0,0,0,0,0,0,0,0,0,0,0,1,1,1,1,1,1,1,1,1,1,1,1,1,1,1,1,3,3,3,3,3,3,3,3,3,3,3,3,3,3,3,3,3,3,3,3,3,3,3,3,3,3,3,3,3,3,3,3,3,3,3,3,3,3,3,3,3,3,3,3,3,3,3,3,0,3,3,3,3,3,3,0,0,0,0,0,0,0,0,0,0,0,0,0,0,0,0,0,0,0,0,0,0,0,0,0,0,0,0,0,0,0,0,0,0,0,0,0,0,0,0,0,0,0,0,0,0,0,0,0,0,0,0,0,0,0,0,0,0,0,0,0,0,0,0,0,0,0,0,0,0,0,0,2,2,2,2,2,2,2,2,2,2,2,2,2,2,2,2,2,2,2,2,2,2,2,2,2,2,2,2,2,2,2,2,2,2,2,2,2,2,0,0,0,0,0,2,2,2,2,2,2,2,2,2,2,2,2,2,2,0,0,0,0,0,0,0,0,0,0,0,0,0,0,0,0,0,0,0,0,0,0,0,0,0,0,0,0,0,0,0,0,0,0,0,0,0,0,0,3,3,3,0,0,0,0,0,0,0,0,0,0,0,0,0,0,0,0,0,0,0,0,0,0,0,0,0,0,0,0,0,0,0,0,0,0,0,0,0,0,0,0,0,0,0,0,0,0,0,0,0,0,0,0,2,2,2,2,2,2,2,2,2,2,2,2,2,2,2,2,2,2,2,2,2,1,1,1,1,1,1,1,1,1,1,1,1,1,1,1,1,1,1,1,1,1,0,2,2,2,2,2,2,2,2,2,2,2,2,2,2,2,2,2,2,2,2,2,2,2,2,2,2,2,2,2,2,2,2,2,2,2,2,2,2,2,2,2,0,0,0,0,0,0,0,0,0,0,0,0,0,0,0,0,0,0,0,0,0,0,0,0,0,0,0,0,0,0,2,2,2,2,2,2,2,2,2,2,2,2,2,2,2,2,2,2,2,2,2,2,2,2,2,2,2,2,2,2,2,2,2,2,2,2,2,2,2,2,2,2,0,0,0,3,0,0,3,3,3,3,0,0,0,0,0,0,0,0,3,3,1,1,1,1,1,1,1,1,1,1,0,0,0,0,0,0,0,0,1,1,1,1,1,1,1,1,0,1,1,1,1,0,0,1,1,1,1,1,1,1,1,1,1,1,1,1,1,1,1,1,1,1,1,1,1,1,2,2,2,2,2,2,2,2,2,2,2,2,2,2,2,2,2,2,2,2,2,2,2,2,2,2,2,2,2,2,2,2,2,2,2,2,2,2,2,2,2,2,2,2,2,2,2,2,2,2,2,2,2,2,2,2,2,2,2,2,2,2,2,2,2,2,2,2,2,2,2,2,2,2,2,2,2,2,2,2,2,2,2,2,2,2,2,2,1,1,3,0,1,1,1,1,1,1,1,0,0,0,0,0,0,1,0,0,0,1,1,1,1,1,1,1,0,1,1,0,0,0,0,0,0,0,0,0,0,0,0,0,0,0,0,0,0,1,1,1,1,1,1,1,1,1,1,1,1,1,1,1,1,1,1,1,1,1,1,1,1,1,1,1,1,1,1,1,1,1,1,1,1,1,1,1,1,1,1,1,1,1,1,1,0,1,1,1,1,1,0,0,0,0,0,0,0,2,2,2,2,2,2,2,2,2,2,2,2,0,2,0,0,0,0,0,0,0,0,0,0,0,0,0,0,0,0,0,0,0,0,0,0,0,0,0,0,0,0,0,0,0,0,0,0,0,0,0,0,0,0,0,0,0,0,0,0,0,0,0,0,0,0,0,0,0,0,0,0,0,0,0,0,0,0,2,2,2,2,2,2,2,2,2,2,0,0,2,2,2,2,2,2,2,2,2,2,2,2,2,1,1,1,1,1,1,1,1,1,1,1,1,1,0,0,0,0,0,0,0,0,0,0,0,0,0,0,0,0,0,0,0,0,0,0,0,0,0,0,0,0,0,0,0,0,0,0,0,0,0,0,0,0,0,0,0,0,0,0,0,2,2,2,2,0,0,1,1,1,1,1,1,1,1,1,1,1,1,1,1,1,1,1,1,1,1,1,1,1,1,1,1,1,1,1,1,1,1,1,2,2,2,2,2,2,2,2,2,2,2,2,2,0,1,1,1,1,1,1,1,1,1,1,1,1,1,1,1,1,1,0,0,2,2,2,2,2,2,2,2,2,0,0,0,0,0,0,0,0,0,0,0,0,0,0,0,0,0,0,0,0,0,0,0,0,0,0,0,0,0,0,0,0,0,0,0,0,0,0,0,0,0,0,0,0,0,0,0,0,0,0,0,0,0,2,2,2,2,2,2,2,2,2,2,2,2,2,2,2,2,2,2,2,2,2,2,2,2,2,2,2,2,2,2,2,2,2,2,2,2,2,0,3,3,3,3,3,3,3,3,3,3,3,3,3,3,3,3,3,3,3,3,3,3,3,3,3,3,3,3,3,3,3,3,2,2,2,2,2,2,2,2,2,2,2,2,2,2,2,2,2,2,2,2,2,2,2,2,2,2,2,2,2,2,2,2,2,2,2,2,2,2,2,2,2,2,2,2,2,2,2,2,2,2,2,2,2,2,0,0,0,0,0,0,0,0,0,0,0,0,0,0,2,2,2,2,2,2,1,1,1,1,1],\"coloraxis\":\"coloraxis\",\"symbol\":\"circle\"},\"mode\":\"markers\",\"name\":\"\",\"showlegend\":false,\"x\":[670,641,642,640,616,780,639,564,797,740,887,627,564,743,620,637,576,559,552,551,546,543,501,537,533,556,543,526,534,548,1005,1193,1266,1151,1204,1258,1254,1151,1116,1156,860,878,888,883,804,795,823,830,840,833,828,890,802,781,757,749,791,764,742,710,671,458,453,428,430,482,496,509,517,522,520,494,517,428,474,451,463,424,435,517,517,517,517,517,596,669,722,666,685,655,758,706,737,711,660,673,477,483,477,462,506,498,501,500,501,502,500,513,504,495,490,508,485,518,505,493,502,616,610,642,661,651,670,630,666,670,691,622,586,579,521,508,457,501,502,520,441,439,393,388,447,456,532,495,545,508,578,569,597,590,582,566,627,637,582,623,589,561,578,572,504,559,565,522,547,592,697,728,730,804,749,836,822,720,747,770,751,751,753,780,762,780,801,713,712,722,826,813,906,965,999,977,902,913,577,618,628,656,682,705,737,741,778,799,797,762,759,793,814,805,802,800,787,800,782,708,611,593,575,565,574,580,555,394,388,380,356,371,377,380,380,380,345,369,373,380,345,369,373,373,448,483,469,474,471,460,466,474,466,472,482,537,513,549,554,517,560,534,516,549,554,517,560,517,506,550,603,596,630,664,672,696,691,693,563,563,552,550,511,423,421,399,477,472,506,509,504,511,506,485,504,534,516,526,523,514,532,532,501,545,539,491,529,550,580,544,564,607,598,607,621,630,649,658,657,670,669,644,530,556,539,532,536,526,513,495,525,424,401,408,410,403,409,377,410,430,417,423,413,408,434,416,442,419,432,407,452,457,457,464,468,466,465,483,467,472,472,479,485,466,428,475,653,697,682,666,638,629,636,772,869,864,861,891,879,886,940,969,993,974,1030,1034,1047,1045,1062,1061,1066,967,941,894,886,858,878,904,867,800,853,843,896,901,918,912,854,874,856,840,855,861,862,865,870,849,844,855,832,873,848,847,854,847,836,820,828,797,707,652,650,624,597,723,788,844,877,1112,1158,1129,1124,1053,1088,1066,1049,1052,1013,1035,956,921,897,918,916,920,936,922,933,953,998,987,982,878,767,705,689,998,987,982,878,767,705,426,429,448,407,458,463,466,459,588,567,522,585,545,568,557,512,561,574,532,572,571,552,566,543,540,542,543,529,518,547,524,523,550,554,493,574,576,575,606,609,621,610,597,605,611,582,608,554,611,603,581,591,585,555,527,521,519,522,511,491,545,513,440,437,453,417,454,510,523,492,519,517,545,785,767,763,750,725,683,658,709,642,622,669,626,660,653,706,685,725,729,777,809,806,827,843,852,846,867,866,876,870,877,858,861,876,822,777,761,736,775,780,775,797,807,804,811,828,817,793,755,773,791,800,784,808,824,835,826,817,825,782,819,811,806,835,826,812,788,769,405,407,358,373,409,414,428,420,428,422,439,405,364,381,378,369,374,365,367,369,361,321,366,360,366,366,368,368,376,371,373,367,375,376,385,370,388,561,559,571,605,583,631,577,539,547,544,619,612,653,563,557,542,569,552,514,522,533,539,556,579,569,571,526,559,581,562,560,559,746,796,823,788,856,938,926,954,924,928,937,959,945,972,870,742,732,669,608,714,713,666,698,773,748,770,822,808,845,821,840,875,805,586,610,619,731,880,808,741,819,776,771,808,843,820,829,833,839,854,831,872,864,848,891,892,846,871,895,918,942,852,682,554,506,552,606,608,607,657,609,443,442,478,488,496,496,467,504,511,537,527,542,566,584,582,545,540,543,550,478,510,536,560,552,540,562,537,561,543,589,600,587,561,577,511,556,536,508,499,506,536,527,539,549,513,552,549,552,550,544,496,531,524,528,520,528,521,525,506,508,526,467,515,518,507,469,455,477,501,499,516,502,376,384,399,421,408,423,397,362,387,375,415,431,409,414,400,432,396,380,411,401,365,416,402,433,390,399,434,379,394,417,420,421,434,423,439,390,422,419,388,467,460,437,457,393,438,432,418,422,419,374,418,420,408,413,422,415,414,556,569,596,594,588,537,555,553,498,553,561,543,530,556,602,584,613,626,589,571,550,534,549,547,545,548,579,641,628,591,598,600,594,558,542,531,544,647,700,774,714,685,581,586,588,546,569,573,579,580,563,572,585,541,582,650,668,660,627,577,542,553,536,494,494,500,506,494,524,519,508,507,512,455,499,485,513,519,482,573,531,536,486,478,490,490,518,573,493,527,539,541,521,480,398,401,400,402,405,402,404,418,401,417,409,416,379,369,409,414,375,387,419,383,419,1190,1209,1136,1063,1028,996,970,992,1153,1011,992,862,765,739,758,737,707,715,732,697,684,594,348,358,319,322,304,356,369,369,355,357,351,324,358,360,357,364,378,362,354,319,354,338,361,375,361,358,358,355,361,357,369,356,362,405,381,371,366,365,358,326,368,494,467,513,492,499,543,522,527,536,498,527,525,516,539,530,555,542,483,468,487,504,453,458,434,459,494,496,476,442,497,356,360,372,345,365,363,373,365,360,367,363,330,370,372,369,380,367,387,370,377,372,386,378,391,375,379,384,382,384,382,358,346,384,396,395,345,386,390,383,338,387,381,603,611,699,757,696,681,777,730,702,696,680,690,688,677,695,691,680,702,700,736,776,778,786,789,773,851,733,707,708,712,647,653,659,630,601,671,633,659,736,771,815,849,843,792,746,748,650,691,686,822,854,630,626,752,831,824,858,874,882,931,975,976,975,1003,989,1005,1000,996,932,991,894,904,762,764,764,687,311,310,321,280,331,325,309,263,308,309,312,329,301,306,307,301,311,286,310,277,263,306,324,310,311,305,321,325,284,325,332,312,278,313,312,315,313,323,318,311,311,311,312,319,313,313,309,327,312,321,320,295,317,301,288,328,314,334,305,344,307,321,334,322,313,326,306,305,307,309,307,317,311,321,318,323,302,305,265,309,267,401,314,277,270,272,288,268,957,896,742,695,714,744,858,778,760,722,660,631,628,644,646,629,655,694,672,671,662,748,908,819,753,733,710,693,633,660,672,595,640,598,581,569,516,528,524,515,479,502,500,497,468,491,471,483,477,777,705,662,676,647,675,674,696,683,665,639,716,716,743,789,748,782,773,798,776,786,797,733,763,761,731,732,742,735,759,743,744,762,757,665,740,733,726,734,765,736,728,728,735,737,712,693,586,654,634,640,640,597,640,617,613,613,570,608,615,423,426,410,417,415,420,418,422,404,414,408,448,453,409,426,480,488,496,498,525,489,517,587,541,537,562,557,554,575,521,514,524,565,642,607,622,573,549,529,556,546,512,546,607,622,585,595,599,593,644,619,603,606,627,621,574,601,588,597,601,595,615,619,615,612,594,595,606,596,600,628,638,626,612,585,573,401,374,377,367,367,378,378,380,373,396,387,384,379,368,375,344,377,370,380,394,377,376,383,381,392,383,453,1082,1065,1118,1058,1053,989,914,844,834,764,686,710,674,680,689,636,645,663,518,567,547,554,554,568,563,562,590,573,580,529,555,542,507,540,535,513,566,522,530,557,559,581,547,534,580,595,546,633,560,543,509,503,530,503,478,459,502,513,397,381,327,375,379,381,621,614,643,644,683,715,738,749,766,768,744,738,747,775,772,791,807,803,804,816,800,802,794,803,805,801,816,805,793,815,792,779,781,772,754,416,423,431,428,422,393,421,424,441,429,432,407,426,659,1098,1127,1039,1105,1088,1091,1089,1141,1090,1097,1091,1064,1062,1030,965,865,705,606,559,379,389,380,376,403,385,396,415,415,459,502,494,490,484,495,498,494,510,478,499,504,510,533,520,541,547,523,523,522,522,499,525,537,526,552,519,531,494,532,533,551,540,548,504,554,554,535,547,541,543,509,546,557,501,561,550,544,560,564,568,568,551,391,384,404,387,390,384,390,391,391,386,358,394,382,393,395,391,358,405,385,384,367,365,388,386,394,381,408,387,399,412,403,413,374,408,406,406,366,687,785,872,872,798,674,671,653,629,643,620,650,702,772,819,695,696,655,688,710,686,779,788,745,713,721,706,678,634,711,691,689,690,379,370,383,396,385,333,394,379,377,377,377,370,336,375,344,373,372,381,372,375,381,372,383,372,367,368,370,384,326,351,369,375,384,385,389,367,383,372,373,417,417,432,442,448,458,459,459,460,457,429,460,473,467,470,518,528,521,508,539,541,558,506,545,565,591,591,548,587,486,436,469,477,492,480,862,917,925,928,926],\"xaxis\":\"x\",\"y\":[1252,1156,1159,1105,1192,1438,1050,1231,1289,1192,1480,1107,1128,1196,1145,1145,1094,1089,1085,1077,1082,1061,1072,1078,1080,1046,1035,1073,1064,1078,1483,1633,1702,1614,1670,1689,1698,1623,1597,1632,1359,1397,1417,1411,1384,1360,1366,1361,1326,1344,1380,1367,1295,1252,1257,1208,1187,1265,1228,1206,1203,938,960,966,957,960,974,992,967,980,967,933,967,954,967,931,967,944,967,935,967,924,967,904,1162,1223,1247,1165,1221,1178,1275,1233,1292,1230,1183,1162,944,961,954,966,971,984,958,999,1015,977,1008,1001,999,1007,989,1006,1013,1009,1004,1005,941,1125,1175,1161,1204,1227,1236,1236,1231,1200,1263,1174,1141,1122,994,979,1016,1019,1028,1024,892,906,912,915,916,916,984,1031,1025,1057,1071,1093,1101,1089,1109,1109,1160,1164,1144,1110,1122,1111,1100,1076,1060,1026,1079,1045,1076,1135,1197,1246,1258,1329,1276,1336,1314,1273,1266,1289,1273,1279,1277,1299,1238,1301,1329,1242,1208,1259,1311,1329,1379,1451,1469,1458,1417,1420,1139,1161,1162,1235,1243,1248,1310,1338,1320,1383,1342,1387,1384,1373,1355,1392,1393,1396,1395,1399,1333,1312,1183,1151,1129,1135,1130,1095,1063,850,895,874,889,879,812,860,860,860,862,834,867,860,862,834,867,867,929,912,892,920,926,944,934,926,922,968,934,1031,1035,1061,1083,1098,1107,1051,1035,1061,1083,1098,1107,1101,1094,1091,1196,1206,1218,1249,1266,1294,1295,1304,1202,1140,1147,1103,1105,913,910,906,959,1016,1038,1035,1026,1050,1034,1044,1005,1048,1041,1082,1092,1057,1082,1033,1080,1050,1090,1004,1079,1098,1117,1124,1139,1127,1146,1161,1137,1186,1218,1240,1225,1220,1243,1231,1142,1071,1094,1092,1081,1075,1082,1081,1063,855,875,894,888,882,896,886,900,929,911,865,925,919,923,906,897,908,931,954,974,994,994,943,997,948,997,993,1008,958,1009,980,1005,1006,1010,984,1173,1215,1181,1172,1166,1154,1167,1389,1355,1363,1349,1370,1395,1422,1434,1428,1495,1509,1504,1532,1543,1540,1518,1552,1569,1434,1400,1369,1383,1352,1350,1366,1327,1317,1279,1374,1383,1396,1401,1408,1377,1364,1274,1315,1335,1344,1339,1350,1348,1321,1342,1333,1360,1322,1332,1320,1339,1334,1321,1283,1324,1211,1164,1150,1142,1105,1084,1317,1358,1427,1452,1645,1668,1665,1652,1642,1635,1621,1615,1606,1606,1592,1557,1522,1475,1535,1543,1498,1551,1553,1556,1577,1595,1602,1560,1508,1385,1329,1266,1595,1602,1560,1508,1375,1329,883,947,964,995,958,1027,1033,1010,1176,1125,1138,1133,1148,1149,1160,1148,1148,1150,1155,1156,1165,1153,1151,1155,1114,1119,1117,1089,1126,1119,1113,1135,1123,1146,1109,1110,1172,1188,1164,1207,1219,1225,1204,1202,1200,1191,1180,1186,1225,1208,1198,1176,1174,1160,1094,1074,1083,1127,1076,1079,1082,1076,932,949,966,990,925,1078,1067,1044,1073,1099,1131,1302,1253,1240,1210,1202,1193,1172,1184,1169,1134,1169,1153,1145,1163,1149,1216,1204,1261,1264,1248,1275,1318,1317,1333,1321,1353,1342,1347,1309,1355,1328,1351,1367,1327,1222,1228,1218,1252,1246,1262,1291,1291,1276,1281,1307,1297,1274,1230,1258,1265,1245,1281,1293,1318,1264,1249,1298,1260,1306,1295,1287,1311,1309,1304,1307,1304,1153,923,911,916,931,890,957,931,949,976,974,986,938,858,827,823,862,870,885,880,861,862,854,857,848,819,862,863,869,876,883,880,893,895,883,851,895,881,1139,1187,1230,1248,1261,1262,1191,1164,1175,1159,1252,1257,1276,1233,1175,1142,1144,1173,1140,1068,1106,1134,1179,1188,1186,1180,1160,1112,1191,1166,1166,1155,1343,1403,1408,1454,1459,1557,1574,1576,1559,1573,1527,1607,1587,1593,1523,1421,1271,1162,1184,1230,1219,1213,1245,1304,1284,1270,1359,1341,1326,1341,1376,1434,1216,1024,1108,1096,1265,1416,1266,1237,1366,1281,1306,1330,1354,1338,1312,1347,1335,1340,1398,1346,1366,1367,1388,1379,1408,1339,1422,1434,1484,1266,1099,1019,993,1110,1121,1155,1106,1168,1098,1124,1131,1132,1153,1126,1103,1148,1167,1190,1167,1235,1233,1265,1261,1279,1215,1226,1228,1257,1214,1191,1231,1248,1251,1233,1216,1249,1267,1272,1291,1263,1299,1302,1278,1232,1230,1214,1182,1162,1181,1224,1167,1238,1238,1228,1248,1233,1202,1248,1230,1200,1202,1163,1198,1182,1196,1213,1182,1186,1126,1158,1182,1200,1182,1183,1184,1169,1148,1177,1167,1167,1165,909,919,955,912,970,981,945,941,947,963,974,1010,909,963,940,953,940,955,967,922,929,976,1001,962,1005,990,994,997,995,1012,1000,999,1007,995,1005,1011,1004,991,893,977,948,880,927,930,910,948,943,904,917,949,962,952,948,955,955,935,946,1166,1182,1213,1214,1201,1134,1157,1173,1131,1153,1127,1149,1145,1163,1215,1221,1201,1217,1215,1194,1160,1138,1163,1158,1168,1138,1130,1112,1132,1132,1111,1107,1075,1079,1063,1056,1022,1244,1220,1286,1196,1171,1117,1106,1118,1101,1110,1114,1080,1066,1111,1101,1118,1117,1115,1188,1186,1126,1115,1083,1078,1037,1013,1031,1092,1118,1115,1120,1134,1145,1131,1124,1121,1102,1120,1131,1089,1122,1137,1228,1177,1148,1159,1072,1096,1114,1145,1221,1163,1120,1180,1187,1134,1062,946,933,945,955,951,943,956,950,954,953,969,910,955,959,968,981,972,974,980,978,976,1738,1707,1684,1627,1614,1577,1580,1596,1702,1600,1559,1482,1335,1378,1398,1405,1381,1374,1403,1306,1334,1231,907,900,898,899,895,914,895,913,917,902,905,898,907,870,924,883,884,921,910,907,907,907,912,885,884,929,932,915,892,913,879,927,933,973,946,931,904,922,919,922,933,1091,1092,1115,1101,1106,1161,1132,1111,1145,1103,1175,1131,1150,1140,1140,1163,1165,1159,1132,1099,1104,1057,999,1075,1060,1058,1113,1108,1108,1087,859,864,860,863,855,860,866,858,861,869,873,873,884,867,890,860,884,850,895,877,879,887,887,862,908,909,894,904,903,901,910,908,903,880,869,907,913,870,890,893,892,902,1233,1273,1343,1358,1354,1339,1438,1388,1359,1364,1333,1306,1308,1327,1328,1310,1364,1353,1374,1358,1376,1386,1451,1420,1472,1500,1381,1357,1374,1335,1308,1327,1329,1295,1265,1325,1332,1335,1409,1391,1473,1492,1492,1434,1438,1362,1347,1395,1397,1502,1513,1218,1224,1318,1455,1445,1469,1499,1514,1543,1576,1577,1607,1606,1601,1608,1568,1623,1609,1615,1575,1550,1428,1419,1383,1307,809,810,814,811,783,789,823,813,802,795,833,792,816,815,814,820,787,820,829,822,820,829,786,817,819,816,786,818,822,818,806,830,832,830,844,842,836,793,822,838,846,824,823,798,842,813,832,829,831,834,838,830,836,826,827,815,833,820,847,839,854,833,841,841,845,816,827,828,820,839,814,777,815,806,821,814,824,814,808,800,810,810,753,758,765,775,770,772,1579,1511,1343,1369,1352,1405,1477,1400,1377,1394,1376,1365,1347,1352,1308,1338,1308,1396,1367,1362,1361,1462,1604,1510,1439,1428,1397,1389,1385,1371,1394,1323,1350,1303,1281,1276,1253,1233,1247,1185,1192,1208,1213,1217,1162,1134,1158,1138,1167,1388,1354,1339,1356,1338,1355,1353,1325,1354,1370,1370,1396,1399,1412,1435,1431,1448,1465,1500,1430,1443,1487,1462,1461,1414,1453,1452,1441,1439,1456,1418,1403,1413,1434,1416,1455,1447,1424,1427,1456,1431,1421,1426,1440,1451,1428,1393,1278,1358,1351,1338,1339,1331,1329,1322,1311,1307,1311,1294,1301,1028,1028,1029,1030,1024,1044,1009,1009,1021,1017,1012,1015,1067,1065,1093,1128,1118,1131,1143,1150,1157,1162,1231,1207,1220,1187,1228,1225,1255,1242,1249,1260,1251,1202,1154,1152,1115,1112,1102,1103,1094,1117,1140,1156,1185,1155,1110,1153,1198,1158,1175,1154,1163,1142,1173,1173,1137,1140,1152,1152,1157,1171,1187,1162,1128,1142,1145,1160,1157,1140,1132,1158,1179,1183,1171,1173,896,863,873,926,932,940,953,948,894,964,962,970,882,903,912,926,916,910,921,932,915,911,922,930,897,945,1070,1670,1657,1654,1668,1652,1601,1555,1507,1495,1433,1413,1395,1360,1372,1377,1327,1311,1316,1238,1253,1244,1250,1213,1261,1281,1282,1282,1279,1234,1260,1265,1249,1209,1206,1229,1221,1256,1236,1236,1250,1275,1233,1300,1282,1291,1296,1304,1310,1316,1259,1188,1169,1228,1205,1183,1207,1190,1162,894,888,892,894,931,965,1247,1296,1334,1348,1375,1422,1421,1438,1450,1450,1435,1436,1444,1472,1472,1493,1510,1515,1503,1478,1507,1516,1520,1464,1513,1522,1492,1516,1519,1492,1507,1499,1483,1492,1431,1052,1052,1016,1060,1073,1062,1078,1047,1067,1069,1079,1078,1085,1351,1723,1712,1662,1698,1709,1693,1702,1727,1715,1708,1693,1679,1692,1650,1610,1522,1381,1281,1243,943,1014,1012,994,963,984,1001,1031,1063,1146,1190,1181,1194,1145,1192,1153,1195,1178,1166,1195,1207,1214,1221,1218,1231,1226,1207,1218,1224,1233,1236,1227,1206,1252,1222,1242,1252,1247,1255,1225,1219,1250,1277,1284,1283,1278,1274,1276,1216,1268,1272,1221,1274,1274,1282,1228,1281,1243,1248,1288,1278,1285,978,973,972,995,993,996,1012,1020,1012,1012,1008,1004,996,1006,1017,981,1009,1014,995,996,999,983,945,991,999,997,1039,1014,1037,1041,1015,1027,1041,1042,1042,1055,1052,1378,1423,1436,1416,1321,1283,1259,1241,1237,1257,1249,1275,1332,1432,1347,1283,1271,1260,1319,1300,1289,1389,1376,1327,1298,1336,1309,1267,1268,1323,1307,1268,1280,987,997,995,996,954,1000,967,953,1010,998,991,994,983,992,988,984,997,951,991,988,1003,981,952,983,990,987,930,979,980,978,984,994,945,965,962,983,978,935,979,989,999,1014,1048,1051,1057,1077,1062,1069,1083,1090,1098,1057,1107,1087,1168,1184,1182,1200,1212,1174,1198,1217,1222,1257,1232,1282,1251,1267,1136,1114,1124,1088,1091,1119,1564,1571,1582,1587,1606],\"yaxis\":\"y\",\"type\":\"scattergl\"}],                        {\"template\":{\"data\":{\"histogram2dcontour\":[{\"type\":\"histogram2dcontour\",\"colorbar\":{\"outlinewidth\":0,\"ticks\":\"\"},\"colorscale\":[[0.0,\"#0d0887\"],[0.1111111111111111,\"#46039f\"],[0.2222222222222222,\"#7201a8\"],[0.3333333333333333,\"#9c179e\"],[0.4444444444444444,\"#bd3786\"],[0.5555555555555556,\"#d8576b\"],[0.6666666666666666,\"#ed7953\"],[0.7777777777777778,\"#fb9f3a\"],[0.8888888888888888,\"#fdca26\"],[1.0,\"#f0f921\"]]}],\"choropleth\":[{\"type\":\"choropleth\",\"colorbar\":{\"outlinewidth\":0,\"ticks\":\"\"}}],\"histogram2d\":[{\"type\":\"histogram2d\",\"colorbar\":{\"outlinewidth\":0,\"ticks\":\"\"},\"colorscale\":[[0.0,\"#0d0887\"],[0.1111111111111111,\"#46039f\"],[0.2222222222222222,\"#7201a8\"],[0.3333333333333333,\"#9c179e\"],[0.4444444444444444,\"#bd3786\"],[0.5555555555555556,\"#d8576b\"],[0.6666666666666666,\"#ed7953\"],[0.7777777777777778,\"#fb9f3a\"],[0.8888888888888888,\"#fdca26\"],[1.0,\"#f0f921\"]]}],\"heatmap\":[{\"type\":\"heatmap\",\"colorbar\":{\"outlinewidth\":0,\"ticks\":\"\"},\"colorscale\":[[0.0,\"#0d0887\"],[0.1111111111111111,\"#46039f\"],[0.2222222222222222,\"#7201a8\"],[0.3333333333333333,\"#9c179e\"],[0.4444444444444444,\"#bd3786\"],[0.5555555555555556,\"#d8576b\"],[0.6666666666666666,\"#ed7953\"],[0.7777777777777778,\"#fb9f3a\"],[0.8888888888888888,\"#fdca26\"],[1.0,\"#f0f921\"]]}],\"heatmapgl\":[{\"type\":\"heatmapgl\",\"colorbar\":{\"outlinewidth\":0,\"ticks\":\"\"},\"colorscale\":[[0.0,\"#0d0887\"],[0.1111111111111111,\"#46039f\"],[0.2222222222222222,\"#7201a8\"],[0.3333333333333333,\"#9c179e\"],[0.4444444444444444,\"#bd3786\"],[0.5555555555555556,\"#d8576b\"],[0.6666666666666666,\"#ed7953\"],[0.7777777777777778,\"#fb9f3a\"],[0.8888888888888888,\"#fdca26\"],[1.0,\"#f0f921\"]]}],\"contourcarpet\":[{\"type\":\"contourcarpet\",\"colorbar\":{\"outlinewidth\":0,\"ticks\":\"\"}}],\"contour\":[{\"type\":\"contour\",\"colorbar\":{\"outlinewidth\":0,\"ticks\":\"\"},\"colorscale\":[[0.0,\"#0d0887\"],[0.1111111111111111,\"#46039f\"],[0.2222222222222222,\"#7201a8\"],[0.3333333333333333,\"#9c179e\"],[0.4444444444444444,\"#bd3786\"],[0.5555555555555556,\"#d8576b\"],[0.6666666666666666,\"#ed7953\"],[0.7777777777777778,\"#fb9f3a\"],[0.8888888888888888,\"#fdca26\"],[1.0,\"#f0f921\"]]}],\"surface\":[{\"type\":\"surface\",\"colorbar\":{\"outlinewidth\":0,\"ticks\":\"\"},\"colorscale\":[[0.0,\"#0d0887\"],[0.1111111111111111,\"#46039f\"],[0.2222222222222222,\"#7201a8\"],[0.3333333333333333,\"#9c179e\"],[0.4444444444444444,\"#bd3786\"],[0.5555555555555556,\"#d8576b\"],[0.6666666666666666,\"#ed7953\"],[0.7777777777777778,\"#fb9f3a\"],[0.8888888888888888,\"#fdca26\"],[1.0,\"#f0f921\"]]}],\"mesh3d\":[{\"type\":\"mesh3d\",\"colorbar\":{\"outlinewidth\":0,\"ticks\":\"\"}}],\"scatter\":[{\"fillpattern\":{\"fillmode\":\"overlay\",\"size\":10,\"solidity\":0.2},\"type\":\"scatter\"}],\"parcoords\":[{\"type\":\"parcoords\",\"line\":{\"colorbar\":{\"outlinewidth\":0,\"ticks\":\"\"}}}],\"scatterpolargl\":[{\"type\":\"scatterpolargl\",\"marker\":{\"colorbar\":{\"outlinewidth\":0,\"ticks\":\"\"}}}],\"bar\":[{\"error_x\":{\"color\":\"#2a3f5f\"},\"error_y\":{\"color\":\"#2a3f5f\"},\"marker\":{\"line\":{\"color\":\"#E5ECF6\",\"width\":0.5},\"pattern\":{\"fillmode\":\"overlay\",\"size\":10,\"solidity\":0.2}},\"type\":\"bar\"}],\"scattergeo\":[{\"type\":\"scattergeo\",\"marker\":{\"colorbar\":{\"outlinewidth\":0,\"ticks\":\"\"}}}],\"scatterpolar\":[{\"type\":\"scatterpolar\",\"marker\":{\"colorbar\":{\"outlinewidth\":0,\"ticks\":\"\"}}}],\"histogram\":[{\"marker\":{\"pattern\":{\"fillmode\":\"overlay\",\"size\":10,\"solidity\":0.2}},\"type\":\"histogram\"}],\"scattergl\":[{\"type\":\"scattergl\",\"marker\":{\"colorbar\":{\"outlinewidth\":0,\"ticks\":\"\"}}}],\"scatter3d\":[{\"type\":\"scatter3d\",\"line\":{\"colorbar\":{\"outlinewidth\":0,\"ticks\":\"\"}},\"marker\":{\"colorbar\":{\"outlinewidth\":0,\"ticks\":\"\"}}}],\"scattermapbox\":[{\"type\":\"scattermapbox\",\"marker\":{\"colorbar\":{\"outlinewidth\":0,\"ticks\":\"\"}}}],\"scatterternary\":[{\"type\":\"scatterternary\",\"marker\":{\"colorbar\":{\"outlinewidth\":0,\"ticks\":\"\"}}}],\"scattercarpet\":[{\"type\":\"scattercarpet\",\"marker\":{\"colorbar\":{\"outlinewidth\":0,\"ticks\":\"\"}}}],\"carpet\":[{\"aaxis\":{\"endlinecolor\":\"#2a3f5f\",\"gridcolor\":\"white\",\"linecolor\":\"white\",\"minorgridcolor\":\"white\",\"startlinecolor\":\"#2a3f5f\"},\"baxis\":{\"endlinecolor\":\"#2a3f5f\",\"gridcolor\":\"white\",\"linecolor\":\"white\",\"minorgridcolor\":\"white\",\"startlinecolor\":\"#2a3f5f\"},\"type\":\"carpet\"}],\"table\":[{\"cells\":{\"fill\":{\"color\":\"#EBF0F8\"},\"line\":{\"color\":\"white\"}},\"header\":{\"fill\":{\"color\":\"#C8D4E3\"},\"line\":{\"color\":\"white\"}},\"type\":\"table\"}],\"barpolar\":[{\"marker\":{\"line\":{\"color\":\"#E5ECF6\",\"width\":0.5},\"pattern\":{\"fillmode\":\"overlay\",\"size\":10,\"solidity\":0.2}},\"type\":\"barpolar\"}],\"pie\":[{\"automargin\":true,\"type\":\"pie\"}]},\"layout\":{\"autotypenumbers\":\"strict\",\"colorway\":[\"#636efa\",\"#EF553B\",\"#00cc96\",\"#ab63fa\",\"#FFA15A\",\"#19d3f3\",\"#FF6692\",\"#B6E880\",\"#FF97FF\",\"#FECB52\"],\"font\":{\"color\":\"#2a3f5f\"},\"hovermode\":\"closest\",\"hoverlabel\":{\"align\":\"left\"},\"paper_bgcolor\":\"white\",\"plot_bgcolor\":\"#E5ECF6\",\"polar\":{\"bgcolor\":\"#E5ECF6\",\"angularaxis\":{\"gridcolor\":\"white\",\"linecolor\":\"white\",\"ticks\":\"\"},\"radialaxis\":{\"gridcolor\":\"white\",\"linecolor\":\"white\",\"ticks\":\"\"}},\"ternary\":{\"bgcolor\":\"#E5ECF6\",\"aaxis\":{\"gridcolor\":\"white\",\"linecolor\":\"white\",\"ticks\":\"\"},\"baxis\":{\"gridcolor\":\"white\",\"linecolor\":\"white\",\"ticks\":\"\"},\"caxis\":{\"gridcolor\":\"white\",\"linecolor\":\"white\",\"ticks\":\"\"}},\"coloraxis\":{\"colorbar\":{\"outlinewidth\":0,\"ticks\":\"\"}},\"colorscale\":{\"sequential\":[[0.0,\"#0d0887\"],[0.1111111111111111,\"#46039f\"],[0.2222222222222222,\"#7201a8\"],[0.3333333333333333,\"#9c179e\"],[0.4444444444444444,\"#bd3786\"],[0.5555555555555556,\"#d8576b\"],[0.6666666666666666,\"#ed7953\"],[0.7777777777777778,\"#fb9f3a\"],[0.8888888888888888,\"#fdca26\"],[1.0,\"#f0f921\"]],\"sequentialminus\":[[0.0,\"#0d0887\"],[0.1111111111111111,\"#46039f\"],[0.2222222222222222,\"#7201a8\"],[0.3333333333333333,\"#9c179e\"],[0.4444444444444444,\"#bd3786\"],[0.5555555555555556,\"#d8576b\"],[0.6666666666666666,\"#ed7953\"],[0.7777777777777778,\"#fb9f3a\"],[0.8888888888888888,\"#fdca26\"],[1.0,\"#f0f921\"]],\"diverging\":[[0,\"#8e0152\"],[0.1,\"#c51b7d\"],[0.2,\"#de77ae\"],[0.3,\"#f1b6da\"],[0.4,\"#fde0ef\"],[0.5,\"#f7f7f7\"],[0.6,\"#e6f5d0\"],[0.7,\"#b8e186\"],[0.8,\"#7fbc41\"],[0.9,\"#4d9221\"],[1,\"#276419\"]]},\"xaxis\":{\"gridcolor\":\"white\",\"linecolor\":\"white\",\"ticks\":\"\",\"title\":{\"standoff\":15},\"zerolinecolor\":\"white\",\"automargin\":true,\"zerolinewidth\":2},\"yaxis\":{\"gridcolor\":\"white\",\"linecolor\":\"white\",\"ticks\":\"\",\"title\":{\"standoff\":15},\"zerolinecolor\":\"white\",\"automargin\":true,\"zerolinewidth\":2},\"scene\":{\"xaxis\":{\"backgroundcolor\":\"#E5ECF6\",\"gridcolor\":\"white\",\"linecolor\":\"white\",\"showbackground\":true,\"ticks\":\"\",\"zerolinecolor\":\"white\",\"gridwidth\":2},\"yaxis\":{\"backgroundcolor\":\"#E5ECF6\",\"gridcolor\":\"white\",\"linecolor\":\"white\",\"showbackground\":true,\"ticks\":\"\",\"zerolinecolor\":\"white\",\"gridwidth\":2},\"zaxis\":{\"backgroundcolor\":\"#E5ECF6\",\"gridcolor\":\"white\",\"linecolor\":\"white\",\"showbackground\":true,\"ticks\":\"\",\"zerolinecolor\":\"white\",\"gridwidth\":2}},\"shapedefaults\":{\"line\":{\"color\":\"#2a3f5f\"}},\"annotationdefaults\":{\"arrowcolor\":\"#2a3f5f\",\"arrowhead\":0,\"arrowwidth\":1},\"geo\":{\"bgcolor\":\"white\",\"landcolor\":\"#E5ECF6\",\"subunitcolor\":\"white\",\"showland\":true,\"showlakes\":true,\"lakecolor\":\"white\"},\"title\":{\"x\":0.05},\"mapbox\":{\"style\":\"light\"}}},\"xaxis\":{\"anchor\":\"y\",\"domain\":[0.0,1.0],\"title\":{\"text\":\"Methane\"}},\"yaxis\":{\"anchor\":\"x\",\"domain\":[0.0,1.0],\"title\":{\"text\":\"PM2.5Emissions\"}},\"coloraxis\":{\"colorbar\":{\"title\":{\"text\":\"cluster\"}},\"colorscale\":[[0.0,\"#0d0887\"],[0.1111111111111111,\"#46039f\"],[0.2222222222222222,\"#7201a8\"],[0.3333333333333333,\"#9c179e\"],[0.4444444444444444,\"#bd3786\"],[0.5555555555555556,\"#d8576b\"],[0.6666666666666666,\"#ed7953\"],[0.7777777777777778,\"#fb9f3a\"],[0.8888888888888888,\"#fdca26\"],[1.0,\"#f0f921\"]]},\"legend\":{\"tracegroupgap\":0},\"margin\":{\"t\":60}},                        {\"responsive\": true}                    ).then(function(){\n",
       "                            \n",
       "var gd = document.getElementById('bfdf9ad9-0249-45ea-a4a8-6dc3438517af');\n",
       "var x = new MutationObserver(function (mutations, observer) {{\n",
       "        var display = window.getComputedStyle(gd).display;\n",
       "        if (!display || display === 'none') {{\n",
       "            console.log([gd, 'removed!']);\n",
       "            Plotly.purge(gd);\n",
       "            observer.disconnect();\n",
       "        }}\n",
       "}});\n",
       "\n",
       "// Listen for the removal of the full notebook cells\n",
       "var notebookContainer = gd.closest('#notebook-container');\n",
       "if (notebookContainer) {{\n",
       "    x.observe(notebookContainer, {childList: true});\n",
       "}}\n",
       "\n",
       "// Listen for the clearing of the current output cell\n",
       "var outputEl = gd.closest('.output');\n",
       "if (outputEl) {{\n",
       "    x.observe(outputEl, {childList: true});\n",
       "}}\n",
       "\n",
       "                        })                };                            </script>        </div>\n",
       "</body>\n",
       "</html>"
      ]
     },
     "metadata": {},
     "output_type": "display_data"
    }
   ],
   "source": [
    "px.scatter(dataframe,'Methane','PM2.5Emissions','cluster')"
   ]
  },
  {
   "cell_type": "markdown",
   "metadata": {
    "id": "-KGByH6Vd9w2"
   },
   "source": [
    "**Explanation**: *The scatter plot shows how data points are grouped into four clusters based on two variables Methane and PM2.5 emissions. Each color represents a different cluster, and we can see that as Methane emissions increase, PM2.5 emissions also tend to increase. However, the clustering suggests that there are different \"types\" or patterns within this trend. For example, points in the purple cluster have lower Methane and PM2.5 emissions, while points in the orange cluster have higher emissions of both. This clustering helps us see natural groupings in the data, which can be useful for understanding patterns in emissions*."
   ]
  },
  {
   "cell_type": "markdown",
   "metadata": {
    "id": "REfZ7wsCeDSL"
   },
   "source": [
    "## WHAT DID YOU LEARN?"
   ]
  },
  {
   "cell_type": "markdown",
   "metadata": {
    "id": "LmdDmM54eFhG"
   },
   "source": [
    "\n",
    "In this lesson, we’ve covered the ins and outs of [clustering](## \"a group of data points that are similar to each other than to points in other clusters\"). We’ve explored different methods that we can use to find patterns and group similar things together. We also explored the differences between hierarchical clustering and nonhierarchical clustering. Remember, hierarchical clustering starts by combining small groups of data until there’s one big cluster. Non-hierarchical clustering starts with data points and creates groups around whatever that starting point is. Regardless of the method, clustering is great because it can help us solve real problems by showing us how data fits together!\n"
   ]
  },
  {
   "cell_type": "markdown",
   "metadata": {
    "id": "Ma6yYicseGXB"
   },
   "source": [
    "\n",
    "## WHAT’S NEXT?\n"
   ]
  },
  {
   "cell_type": "markdown",
   "metadata": {
    "id": "jo3Z7EwPeHXz"
   },
   "source": [
    "\n",
    "[KNN Classification](KNN_Classification.ipynb)\n"
   ]
  },
  {
   "cell_type": "markdown",
   "metadata": {
    "id": "diUMa3nxeIHk"
   },
   "source": [
    "\n",
    "## TELL ME MORE\n",
    "\n"
   ]
  },
  {
   "cell_type": "markdown",
   "metadata": {
    "id": "YLre5KLOeJA1"
   },
   "source": [
    "\n",
    "- [Datawhys Clustering Notebook](https://saturn.olney.ai/user/ehunter1/lab/tree/datawhys-content-notebooks-python/Clustering.ipynb)\n",
    "- [Datawhys Clustering Problem-Solving Notebook](https://saturn.olney.ai/user/ehunter1/lab/tree/datawhys-content-notebooks-python/Clustering-PS.ipynb)\n"
   ]
  }
 ],
 "metadata": {
  "colab": {
   "provenance": []
  },
  "kernelspec": {
   "display_name": "Python 3 (ipykernel)",
   "language": "python",
   "name": "python3"
  },
  "language_info": {
   "codemirror_mode": {
    "name": "ipython",
    "version": 3
   },
   "file_extension": ".py",
   "mimetype": "text/x-python",
   "name": "python",
   "nbconvert_exporter": "python",
   "pygments_lexer": "ipython3",
   "version": "3.10.6"
  }
 },
 "nbformat": 4,
 "nbformat_minor": 4
}
